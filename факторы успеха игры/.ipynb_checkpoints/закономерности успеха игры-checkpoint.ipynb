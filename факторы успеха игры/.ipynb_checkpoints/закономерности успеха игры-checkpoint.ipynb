{
 "cells": [
  {
   "cell_type": "markdown",
   "metadata": {},
   "source": [
    "<h1>Содержание<span class=\"tocSkip\"></span></h1>\n",
    "<div class=\"toc\"><ul class=\"toc-item\"><li><span><a href=\"#Изучение-данных-из-файла\" data-toc-modified-id=\"Изучение-данных-из-файла-1\"><span class=\"toc-item-num\">1&nbsp;&nbsp;</span>Изучение данных из файла</a></span></li><li><span><a href=\"#Предобработка-данных\" data-toc-modified-id=\"Предобработка-данных-2\"><span class=\"toc-item-num\">2&nbsp;&nbsp;</span>Предобработка данных</a></span><ul class=\"toc-item\"><li><span><a href=\"#Замена-типа-данных\" data-toc-modified-id=\"Замена-типа-данных-2.1\"><span class=\"toc-item-num\">2.1&nbsp;&nbsp;</span>Замена типа данных</a></span></li><li><span><a href=\"#Проверка-на-наличие-дубликатов\" data-toc-modified-id=\"Проверка-на-наличие-дубликатов-2.2\"><span class=\"toc-item-num\">2.2&nbsp;&nbsp;</span>Проверка на наличие дубликатов</a></span></li><li><span><a href=\"#Обработка-пропусков\" data-toc-modified-id=\"Обработка-пропусков-2.3\"><span class=\"toc-item-num\">2.3&nbsp;&nbsp;</span>Обработка пропусков</a></span></li></ul></li><li><span><a href=\"#Исследовательский-анализ-данных\" data-toc-modified-id=\"Исследовательский-анализ-данных-3\"><span class=\"toc-item-num\">3&nbsp;&nbsp;</span>Исследовательский анализ данных</a></span></li><li><span><a href=\"#Портреты-пользователей-в-разрезе-регионов\" data-toc-modified-id=\"Портреты-пользователей-в-разрезе-регионов-4\"><span class=\"toc-item-num\">4&nbsp;&nbsp;</span>Портреты пользователей в разрезе регионов</a></span></li><li><span><a href=\"#Проверка-гипотез\" data-toc-modified-id=\"Проверка-гипотез-5\"><span class=\"toc-item-num\">5&nbsp;&nbsp;</span>Проверка гипотез</a></span><ul class=\"toc-item\"><li><span><a href=\"#Средние-пользовательские-рейтинги-платформ-Xbox-One-и-PC-одинаковые\" data-toc-modified-id=\"Средние-пользовательские-рейтинги-платформ-Xbox-One-и-PC-одинаковые-5.1\"><span class=\"toc-item-num\">5.1&nbsp;&nbsp;</span>Средние пользовательские рейтинги платформ Xbox One и PC одинаковые</a></span></li><li><span><a href=\"#Средние-пользовательские-рейтинги-жанров-Action-(-экшен-игры)-и-Sports-(-«спортивные-соревнования»)-разные\" data-toc-modified-id=\"Средние-пользовательские-рейтинги-жанров-Action-(-экшен-игры)-и-Sports-(-«спортивные-соревнования»)-разные-5.2\"><span class=\"toc-item-num\">5.2&nbsp;&nbsp;</span>Средние пользовательские рейтинги жанров Action ( экшен-игры) и Sports ( «спортивные соревнования») разные</a></span></li></ul></li><li><span><a href=\"#Общий-вывод\" data-toc-modified-id=\"Общий-вывод-6\"><span class=\"toc-item-num\">6&nbsp;&nbsp;</span>Общий вывод</a></span></li></ul></div>"
   ]
  },
  {
   "cell_type": "markdown",
   "metadata": {},
   "source": [
    "# Выявление закономерностей, определяющих успешность игры"
   ]
  },
  {
   "cell_type": "markdown",
   "metadata": {},
   "source": [
    "Из открытых источников доступны исторические данные о продажах игр, оценки пользователей и экспертов, жанры и платформы (например, Xbox или PlayStation). Необходимо выявить определяющие успешность игры закономерности. Это позволит сделать ставку на потенциально популярный продукт и спланировать рекламные кампании.\n"
   ]
  },
  {
   "cell_type": "markdown",
   "metadata": {},
   "source": [
    "## Изучение данных из файла"
   ]
  },
  {
   "cell_type": "code",
   "execution_count": 1,
   "metadata": {},
   "outputs": [],
   "source": [
    "# импорт библиотек \n",
    "import pandas as pd \n",
    "import seaborn as sns\n",
    "import matplotlib.pyplot as plt\n",
    "import numpy as np\n",
    "from scipy import stats as st \n",
    "from IPython.display import display_html"
   ]
  },
  {
   "cell_type": "code",
   "execution_count": 2,
   "metadata": {},
   "outputs": [
    {
     "data": {
      "text/html": [
       "<div>\n",
       "<style scoped>\n",
       "    .dataframe tbody tr th:only-of-type {\n",
       "        vertical-align: middle;\n",
       "    }\n",
       "\n",
       "    .dataframe tbody tr th {\n",
       "        vertical-align: top;\n",
       "    }\n",
       "\n",
       "    .dataframe thead th {\n",
       "        text-align: right;\n",
       "    }\n",
       "</style>\n",
       "<table border=\"1\" class=\"dataframe\">\n",
       "  <thead>\n",
       "    <tr style=\"text-align: right;\">\n",
       "      <th></th>\n",
       "      <th>Name</th>\n",
       "      <th>Platform</th>\n",
       "      <th>Year_of_Release</th>\n",
       "      <th>Genre</th>\n",
       "      <th>NA_sales</th>\n",
       "      <th>EU_sales</th>\n",
       "      <th>JP_sales</th>\n",
       "      <th>Other_sales</th>\n",
       "      <th>Critic_Score</th>\n",
       "      <th>User_Score</th>\n",
       "      <th>Rating</th>\n",
       "    </tr>\n",
       "  </thead>\n",
       "  <tbody>\n",
       "    <tr>\n",
       "      <th>0</th>\n",
       "      <td>Wii Sports</td>\n",
       "      <td>Wii</td>\n",
       "      <td>2006.00</td>\n",
       "      <td>Sports</td>\n",
       "      <td>41.36</td>\n",
       "      <td>28.96</td>\n",
       "      <td>3.77</td>\n",
       "      <td>8.45</td>\n",
       "      <td>76.00</td>\n",
       "      <td>8</td>\n",
       "      <td>E</td>\n",
       "    </tr>\n",
       "    <tr>\n",
       "      <th>1</th>\n",
       "      <td>Super Mario Bros.</td>\n",
       "      <td>NES</td>\n",
       "      <td>1985.00</td>\n",
       "      <td>Platform</td>\n",
       "      <td>29.08</td>\n",
       "      <td>3.58</td>\n",
       "      <td>6.81</td>\n",
       "      <td>0.77</td>\n",
       "      <td>NaN</td>\n",
       "      <td>NaN</td>\n",
       "      <td>NaN</td>\n",
       "    </tr>\n",
       "    <tr>\n",
       "      <th>2</th>\n",
       "      <td>Mario Kart Wii</td>\n",
       "      <td>Wii</td>\n",
       "      <td>2008.00</td>\n",
       "      <td>Racing</td>\n",
       "      <td>15.68</td>\n",
       "      <td>12.76</td>\n",
       "      <td>3.79</td>\n",
       "      <td>3.29</td>\n",
       "      <td>82.00</td>\n",
       "      <td>8.3</td>\n",
       "      <td>E</td>\n",
       "    </tr>\n",
       "    <tr>\n",
       "      <th>3</th>\n",
       "      <td>Wii Sports Resort</td>\n",
       "      <td>Wii</td>\n",
       "      <td>2009.00</td>\n",
       "      <td>Sports</td>\n",
       "      <td>15.61</td>\n",
       "      <td>10.93</td>\n",
       "      <td>3.28</td>\n",
       "      <td>2.95</td>\n",
       "      <td>80.00</td>\n",
       "      <td>8</td>\n",
       "      <td>E</td>\n",
       "    </tr>\n",
       "    <tr>\n",
       "      <th>4</th>\n",
       "      <td>Pokemon Red/Pokemon Blue</td>\n",
       "      <td>GB</td>\n",
       "      <td>1996.00</td>\n",
       "      <td>Role-Playing</td>\n",
       "      <td>11.27</td>\n",
       "      <td>8.89</td>\n",
       "      <td>10.22</td>\n",
       "      <td>1.00</td>\n",
       "      <td>NaN</td>\n",
       "      <td>NaN</td>\n",
       "      <td>NaN</td>\n",
       "    </tr>\n",
       "    <tr>\n",
       "      <th>5</th>\n",
       "      <td>Tetris</td>\n",
       "      <td>GB</td>\n",
       "      <td>1989.00</td>\n",
       "      <td>Puzzle</td>\n",
       "      <td>23.20</td>\n",
       "      <td>2.26</td>\n",
       "      <td>4.22</td>\n",
       "      <td>0.58</td>\n",
       "      <td>NaN</td>\n",
       "      <td>NaN</td>\n",
       "      <td>NaN</td>\n",
       "    </tr>\n",
       "    <tr>\n",
       "      <th>6</th>\n",
       "      <td>New Super Mario Bros.</td>\n",
       "      <td>DS</td>\n",
       "      <td>2006.00</td>\n",
       "      <td>Platform</td>\n",
       "      <td>11.28</td>\n",
       "      <td>9.14</td>\n",
       "      <td>6.50</td>\n",
       "      <td>2.88</td>\n",
       "      <td>89.00</td>\n",
       "      <td>8.5</td>\n",
       "      <td>E</td>\n",
       "    </tr>\n",
       "    <tr>\n",
       "      <th>7</th>\n",
       "      <td>Wii Play</td>\n",
       "      <td>Wii</td>\n",
       "      <td>2006.00</td>\n",
       "      <td>Misc</td>\n",
       "      <td>13.96</td>\n",
       "      <td>9.18</td>\n",
       "      <td>2.93</td>\n",
       "      <td>2.84</td>\n",
       "      <td>58.00</td>\n",
       "      <td>6.6</td>\n",
       "      <td>E</td>\n",
       "    </tr>\n",
       "    <tr>\n",
       "      <th>8</th>\n",
       "      <td>New Super Mario Bros. Wii</td>\n",
       "      <td>Wii</td>\n",
       "      <td>2009.00</td>\n",
       "      <td>Platform</td>\n",
       "      <td>14.44</td>\n",
       "      <td>6.94</td>\n",
       "      <td>4.70</td>\n",
       "      <td>2.24</td>\n",
       "      <td>87.00</td>\n",
       "      <td>8.4</td>\n",
       "      <td>E</td>\n",
       "    </tr>\n",
       "    <tr>\n",
       "      <th>9</th>\n",
       "      <td>Duck Hunt</td>\n",
       "      <td>NES</td>\n",
       "      <td>1984.00</td>\n",
       "      <td>Shooter</td>\n",
       "      <td>26.93</td>\n",
       "      <td>0.63</td>\n",
       "      <td>0.28</td>\n",
       "      <td>0.47</td>\n",
       "      <td>NaN</td>\n",
       "      <td>NaN</td>\n",
       "      <td>NaN</td>\n",
       "    </tr>\n",
       "  </tbody>\n",
       "</table>\n",
       "</div>"
      ],
      "text/plain": [
       "                        Name Platform  Year_of_Release         Genre  \\\n",
       "0                 Wii Sports      Wii          2006.00        Sports   \n",
       "1          Super Mario Bros.      NES          1985.00      Platform   \n",
       "2             Mario Kart Wii      Wii          2008.00        Racing   \n",
       "3          Wii Sports Resort      Wii          2009.00        Sports   \n",
       "4   Pokemon Red/Pokemon Blue       GB          1996.00  Role-Playing   \n",
       "5                     Tetris       GB          1989.00        Puzzle   \n",
       "6      New Super Mario Bros.       DS          2006.00      Platform   \n",
       "7                   Wii Play      Wii          2006.00          Misc   \n",
       "8  New Super Mario Bros. Wii      Wii          2009.00      Platform   \n",
       "9                  Duck Hunt      NES          1984.00       Shooter   \n",
       "\n",
       "   NA_sales  EU_sales  JP_sales  Other_sales  Critic_Score User_Score Rating  \n",
       "0     41.36     28.96      3.77         8.45         76.00          8      E  \n",
       "1     29.08      3.58      6.81         0.77           NaN        NaN    NaN  \n",
       "2     15.68     12.76      3.79         3.29         82.00        8.3      E  \n",
       "3     15.61     10.93      3.28         2.95         80.00          8      E  \n",
       "4     11.27      8.89     10.22         1.00           NaN        NaN    NaN  \n",
       "5     23.20      2.26      4.22         0.58           NaN        NaN    NaN  \n",
       "6     11.28      9.14      6.50         2.88         89.00        8.5      E  \n",
       "7     13.96      9.18      2.93         2.84         58.00        6.6      E  \n",
       "8     14.44      6.94      4.70         2.24         87.00        8.4      E  \n",
       "9     26.93      0.63      0.28         0.47           NaN        NaN    NaN  "
      ]
     },
     "execution_count": 2,
     "metadata": {},
     "output_type": "execute_result"
    }
   ],
   "source": [
    "# настроим вывод таблиц с отображением 2 знаков после запятой\n",
    "pd.set_option('display.float_format', '{:.2f}'.format)\n",
    "# прочитаем датасет и выведем первые 10 строк таблицы \n",
    "data = pd.read_csv('/datasets/games.csv') \n",
    "data.head(10)"
   ]
  },
  {
   "cell_type": "markdown",
   "metadata": {},
   "source": [
    "Согласно документации к данным:\n",
    "* `Name` — название игры\n",
    "\n",
    "* `Platform` — платформа\n",
    "\n",
    "* `Year_of_Release` — год выпуска\n",
    "\n",
    "* `Genre` — жанр игры\n",
    "\n",
    "* `NA_sales` — продажи в Северной Америке (миллионы проданных копий)\n",
    "\n",
    "* `EU_sales` — продажи в Европе (миллионы проданных копий)\n",
    "\n",
    "* `JP_sales` — продажи в Японии (миллионы проданных копий)\n",
    "\n",
    "* `Other_sales` — продажи в других странах (миллионы проданных копий)\n",
    "\n",
    "* `Critic_Score` — оценка критиков (максимум 100)\n",
    "\n",
    "* `User_Score` — оценка пользователей (максимум 10)\n",
    "\n",
    "* `Rating` — рейтинг от организации ESRB (англ. Entertainment Software Rating\n",
    "Board). Эта ассоциация определяет рейтинг компьютерных игр и присваивает\n",
    "им подходящую возрастную категорию."
   ]
  },
  {
   "cell_type": "code",
   "execution_count": 3,
   "metadata": {
    "scrolled": false
   },
   "outputs": [
    {
     "name": "stdout",
     "output_type": "stream",
     "text": [
      "<class 'pandas.core.frame.DataFrame'>\n",
      "RangeIndex: 16715 entries, 0 to 16714\n",
      "Data columns (total 11 columns):\n",
      " #   Column           Non-Null Count  Dtype  \n",
      "---  ------           --------------  -----  \n",
      " 0   Name             16713 non-null  object \n",
      " 1   Platform         16715 non-null  object \n",
      " 2   Year_of_Release  16446 non-null  float64\n",
      " 3   Genre            16713 non-null  object \n",
      " 4   NA_sales         16715 non-null  float64\n",
      " 5   EU_sales         16715 non-null  float64\n",
      " 6   JP_sales         16715 non-null  float64\n",
      " 7   Other_sales      16715 non-null  float64\n",
      " 8   Critic_Score     8137 non-null   float64\n",
      " 9   User_Score       10014 non-null  object \n",
      " 10  Rating           9949 non-null   object \n",
      "dtypes: float64(6), object(5)\n",
      "memory usage: 1.4+ MB\n"
     ]
    },
    {
     "data": {
      "text/plain": [
       "None"
      ]
     },
     "metadata": {},
     "output_type": "display_data"
    },
    {
     "data": {
      "text/html": [
       "<div>\n",
       "<style scoped>\n",
       "    .dataframe tbody tr th:only-of-type {\n",
       "        vertical-align: middle;\n",
       "    }\n",
       "\n",
       "    .dataframe tbody tr th {\n",
       "        vertical-align: top;\n",
       "    }\n",
       "\n",
       "    .dataframe thead th {\n",
       "        text-align: right;\n",
       "    }\n",
       "</style>\n",
       "<table border=\"1\" class=\"dataframe\">\n",
       "  <thead>\n",
       "    <tr style=\"text-align: right;\">\n",
       "      <th></th>\n",
       "      <th>Year_of_Release</th>\n",
       "      <th>NA_sales</th>\n",
       "      <th>EU_sales</th>\n",
       "      <th>JP_sales</th>\n",
       "      <th>Other_sales</th>\n",
       "      <th>Critic_Score</th>\n",
       "    </tr>\n",
       "  </thead>\n",
       "  <tbody>\n",
       "    <tr>\n",
       "      <th>count</th>\n",
       "      <td>16446.00</td>\n",
       "      <td>16715.00</td>\n",
       "      <td>16715.00</td>\n",
       "      <td>16715.00</td>\n",
       "      <td>16715.00</td>\n",
       "      <td>8137.00</td>\n",
       "    </tr>\n",
       "    <tr>\n",
       "      <th>mean</th>\n",
       "      <td>2006.48</td>\n",
       "      <td>0.26</td>\n",
       "      <td>0.15</td>\n",
       "      <td>0.08</td>\n",
       "      <td>0.05</td>\n",
       "      <td>68.97</td>\n",
       "    </tr>\n",
       "    <tr>\n",
       "      <th>std</th>\n",
       "      <td>5.88</td>\n",
       "      <td>0.81</td>\n",
       "      <td>0.50</td>\n",
       "      <td>0.31</td>\n",
       "      <td>0.19</td>\n",
       "      <td>13.94</td>\n",
       "    </tr>\n",
       "    <tr>\n",
       "      <th>min</th>\n",
       "      <td>1980.00</td>\n",
       "      <td>0.00</td>\n",
       "      <td>0.00</td>\n",
       "      <td>0.00</td>\n",
       "      <td>0.00</td>\n",
       "      <td>13.00</td>\n",
       "    </tr>\n",
       "    <tr>\n",
       "      <th>25%</th>\n",
       "      <td>2003.00</td>\n",
       "      <td>0.00</td>\n",
       "      <td>0.00</td>\n",
       "      <td>0.00</td>\n",
       "      <td>0.00</td>\n",
       "      <td>60.00</td>\n",
       "    </tr>\n",
       "    <tr>\n",
       "      <th>50%</th>\n",
       "      <td>2007.00</td>\n",
       "      <td>0.08</td>\n",
       "      <td>0.02</td>\n",
       "      <td>0.00</td>\n",
       "      <td>0.01</td>\n",
       "      <td>71.00</td>\n",
       "    </tr>\n",
       "    <tr>\n",
       "      <th>75%</th>\n",
       "      <td>2010.00</td>\n",
       "      <td>0.24</td>\n",
       "      <td>0.11</td>\n",
       "      <td>0.04</td>\n",
       "      <td>0.03</td>\n",
       "      <td>79.00</td>\n",
       "    </tr>\n",
       "    <tr>\n",
       "      <th>max</th>\n",
       "      <td>2016.00</td>\n",
       "      <td>41.36</td>\n",
       "      <td>28.96</td>\n",
       "      <td>10.22</td>\n",
       "      <td>10.57</td>\n",
       "      <td>98.00</td>\n",
       "    </tr>\n",
       "  </tbody>\n",
       "</table>\n",
       "</div>"
      ],
      "text/plain": [
       "       Year_of_Release  NA_sales  EU_sales  JP_sales  Other_sales  \\\n",
       "count         16446.00  16715.00  16715.00  16715.00     16715.00   \n",
       "mean           2006.48      0.26      0.15      0.08         0.05   \n",
       "std               5.88      0.81      0.50      0.31         0.19   \n",
       "min            1980.00      0.00      0.00      0.00         0.00   \n",
       "25%            2003.00      0.00      0.00      0.00         0.00   \n",
       "50%            2007.00      0.08      0.02      0.00         0.01   \n",
       "75%            2010.00      0.24      0.11      0.04         0.03   \n",
       "max            2016.00     41.36     28.96     10.22        10.57   \n",
       "\n",
       "       Critic_Score  \n",
       "count       8137.00  \n",
       "mean          68.97  \n",
       "std           13.94  \n",
       "min           13.00  \n",
       "25%           60.00  \n",
       "50%           71.00  \n",
       "75%           79.00  \n",
       "max           98.00  "
      ]
     },
     "execution_count": 3,
     "metadata": {},
     "output_type": "execute_result"
    }
   ],
   "source": [
    "# получение общей информации о данных датасета\n",
    "display(data.info())\n",
    "#получим статистическую информацию о данных\n",
    "data.describe()"
   ]
  },
  {
   "cell_type": "code",
   "execution_count": 4,
   "metadata": {
    "scrolled": false
   },
   "outputs": [
    {
     "data": {
      "text/plain": [
       "array(['Wii', 'NES', 'GB', 'DS', 'X360', 'PS3', 'PS2', 'SNES', 'GBA',\n",
       "       'PS4', '3DS', 'N64', 'PS', 'XB', 'PC', '2600', 'PSP', 'XOne',\n",
       "       'WiiU', 'GC', 'GEN', 'DC', 'PSV', 'SAT', 'SCD', 'WS', 'NG', 'TG16',\n",
       "       '3DO', 'GG', 'PCFX'], dtype=object)"
      ]
     },
     "execution_count": 4,
     "metadata": {},
     "output_type": "execute_result"
    }
   ],
   "source": [
    "# посмотрим на уникальные значения текстовых столбцов\n",
    "data['Platform'].unique()"
   ]
  },
  {
   "cell_type": "code",
   "execution_count": 5,
   "metadata": {
    "scrolled": false
   },
   "outputs": [
    {
     "data": {
      "text/plain": [
       "array(['Sports', 'Platform', 'Racing', 'Role-Playing', 'Puzzle', 'Misc',\n",
       "       'Shooter', 'Simulation', 'Action', 'Fighting', 'Adventure',\n",
       "       'Strategy', nan], dtype=object)"
      ]
     },
     "execution_count": 5,
     "metadata": {},
     "output_type": "execute_result"
    }
   ],
   "source": [
    "# посмотрим на уникальные значения текстовых столбцов\n",
    "data['Genre'].unique()"
   ]
  },
  {
   "cell_type": "code",
   "execution_count": 6,
   "metadata": {
    "scrolled": false
   },
   "outputs": [
    {
     "data": {
      "text/plain": [
       "array(['E', nan, 'M', 'T', 'E10+', 'K-A', 'AO', 'EC', 'RP'], dtype=object)"
      ]
     },
     "execution_count": 6,
     "metadata": {},
     "output_type": "execute_result"
    }
   ],
   "source": [
    "# посмотрим на уникальные значения текстовых столбцов\n",
    "data['Rating'].unique()"
   ]
  },
  {
   "cell_type": "code",
   "execution_count": 7,
   "metadata": {
    "scrolled": false
   },
   "outputs": [
    {
     "data": {
      "text/plain": [
       "array(['8', nan, '8.3', '8.5', '6.6', '8.4', '8.6', '7.7', '6.3', '7.4',\n",
       "       '8.2', '9', '7.9', '8.1', '8.7', '7.1', '3.4', '5.3', '4.8', '3.2',\n",
       "       '8.9', '6.4', '7.8', '7.5', '2.6', '7.2', '9.2', '7', '7.3', '4.3',\n",
       "       '7.6', '5.7', '5', '9.1', '6.5', 'tbd', '8.8', '6.9', '9.4', '6.8',\n",
       "       '6.1', '6.7', '5.4', '4', '4.9', '4.5', '9.3', '6.2', '4.2', '6',\n",
       "       '3.7', '4.1', '5.8', '5.6', '5.5', '4.4', '4.6', '5.9', '3.9',\n",
       "       '3.1', '2.9', '5.2', '3.3', '4.7', '5.1', '3.5', '2.5', '1.9', '3',\n",
       "       '2.7', '2.2', '2', '9.5', '2.1', '3.6', '2.8', '1.8', '3.8', '0',\n",
       "       '1.6', '9.6', '2.4', '1.7', '1.1', '0.3', '1.5', '0.7', '1.2',\n",
       "       '2.3', '0.5', '1.3', '0.2', '0.6', '1.4', '0.9', '1', '9.7'],\n",
       "      dtype=object)"
      ]
     },
     "execution_count": 7,
     "metadata": {},
     "output_type": "execute_result"
    }
   ],
   "source": [
    "# посмотрим на уникальные значения текстовых столбцов\n",
    "data['User_Score'].unique()"
   ]
  },
  {
   "cell_type": "code",
   "execution_count": 8,
   "metadata": {
    "scrolled": false
   },
   "outputs": [
    {
     "data": {
      "text/html": [
       "<div>\n",
       "<style scoped>\n",
       "    .dataframe tbody tr th:only-of-type {\n",
       "        vertical-align: middle;\n",
       "    }\n",
       "\n",
       "    .dataframe tbody tr th {\n",
       "        vertical-align: top;\n",
       "    }\n",
       "\n",
       "    .dataframe thead th {\n",
       "        text-align: right;\n",
       "    }\n",
       "</style>\n",
       "<table border=\"1\" class=\"dataframe\">\n",
       "  <thead>\n",
       "    <tr style=\"text-align: right;\">\n",
       "      <th></th>\n",
       "      <th>Name</th>\n",
       "      <th>Platform</th>\n",
       "      <th>Year_of_Release</th>\n",
       "      <th>Genre</th>\n",
       "      <th>NA_sales</th>\n",
       "      <th>EU_sales</th>\n",
       "      <th>JP_sales</th>\n",
       "      <th>Other_sales</th>\n",
       "      <th>Critic_Score</th>\n",
       "      <th>User_Score</th>\n",
       "      <th>Rating</th>\n",
       "    </tr>\n",
       "  </thead>\n",
       "  <tbody>\n",
       "    <tr>\n",
       "      <th>659</th>\n",
       "      <td>NaN</td>\n",
       "      <td>GEN</td>\n",
       "      <td>1993.00</td>\n",
       "      <td>NaN</td>\n",
       "      <td>1.78</td>\n",
       "      <td>0.53</td>\n",
       "      <td>0.00</td>\n",
       "      <td>0.08</td>\n",
       "      <td>NaN</td>\n",
       "      <td>NaN</td>\n",
       "      <td>NaN</td>\n",
       "    </tr>\n",
       "    <tr>\n",
       "      <th>14244</th>\n",
       "      <td>NaN</td>\n",
       "      <td>GEN</td>\n",
       "      <td>1993.00</td>\n",
       "      <td>NaN</td>\n",
       "      <td>0.00</td>\n",
       "      <td>0.00</td>\n",
       "      <td>0.03</td>\n",
       "      <td>0.00</td>\n",
       "      <td>NaN</td>\n",
       "      <td>NaN</td>\n",
       "      <td>NaN</td>\n",
       "    </tr>\n",
       "  </tbody>\n",
       "</table>\n",
       "</div>"
      ],
      "text/plain": [
       "      Name Platform  Year_of_Release Genre  NA_sales  EU_sales  JP_sales  \\\n",
       "659    NaN      GEN          1993.00   NaN      1.78      0.53      0.00   \n",
       "14244  NaN      GEN          1993.00   NaN      0.00      0.00      0.03   \n",
       "\n",
       "       Other_sales  Critic_Score User_Score Rating  \n",
       "659           0.08           NaN        NaN    NaN  \n",
       "14244         0.00           NaN        NaN    NaN  "
      ]
     },
     "execution_count": 8,
     "metadata": {},
     "output_type": "execute_result"
    }
   ],
   "source": [
    "# посмотрим инфо о 2 пропусков в столбце Genre\n",
    "data[data['Genre'].isna()]"
   ]
  },
  {
   "cell_type": "markdown",
   "metadata": {},
   "source": [
    "В колонках  \n",
    " - `Year_of_Release`\n",
    " - `Critic_Score`\n",
    " - `User_Score`\n",
    " - `Rating`\n",
    "есть большое количество пропусков. \n",
    "\n",
    "В колонках  `Name`, `Genre` присутствует некритичное количество пропусков (по 2 записи), приходящееся на одни и те же строки. Так как таких записей всего 2 шт. возможно их удаление, количество данных для анализа останется достаточным.Заполнить пропуски в данных двух записях не представляется возможным, данные в остальных столбцах никак не коррелируют с наименованием игр и жанром.\n",
    "    \n",
    "В поле `user_score` помимо пустых строк и числовых значений присутствует значение tbd, которое является сокращением от to be determined. Данное поле обозначает отсутствие информации об оценке пользователей на момент сбора данных и равнозначно NaN.Текущий тип данных `user_score` - object - связан с появлением данных текстовых значений.\n",
    "\n",
    "Для дальнейшего анализа тип данных `User_Score` следует поменять с object на float. \n",
    "У столбца `Year_of_Release` на данный момент тип данных float, в случае полной обработки пропусков в данном столбце возможна замена на целочисленный тип данных, так как год дробным быть не может.\n",
    "    \n",
    "\n",
    "Просматривая статистическую информацию о данных и уникальные значения текстовых столбцов не обнаружено значений, не соответствующих действительности.\n",
    "\n",
    "Для удобства работы с данными, а также в качестве общепринятого стандарта  необходимо перевести  наименования столбцов датасета и значения текстовых столбцов  к нижнему регистру."
   ]
  },
  {
   "cell_type": "markdown",
   "metadata": {},
   "source": [
    "##  Предобработка данных"
   ]
  },
  {
   "cell_type": "markdown",
   "metadata": {},
   "source": [
    "###  Замена типа данных"
   ]
  },
  {
   "cell_type": "code",
   "execution_count": 9,
   "metadata": {},
   "outputs": [
    {
     "data": {
      "text/html": [
       "<div>\n",
       "<style scoped>\n",
       "    .dataframe tbody tr th:only-of-type {\n",
       "        vertical-align: middle;\n",
       "    }\n",
       "\n",
       "    .dataframe tbody tr th {\n",
       "        vertical-align: top;\n",
       "    }\n",
       "\n",
       "    .dataframe thead th {\n",
       "        text-align: right;\n",
       "    }\n",
       "</style>\n",
       "<table border=\"1\" class=\"dataframe\">\n",
       "  <thead>\n",
       "    <tr style=\"text-align: right;\">\n",
       "      <th></th>\n",
       "      <th>name</th>\n",
       "      <th>platform</th>\n",
       "      <th>year_of_release</th>\n",
       "      <th>genre</th>\n",
       "      <th>na_sales</th>\n",
       "      <th>eu_sales</th>\n",
       "      <th>jp_sales</th>\n",
       "      <th>other_sales</th>\n",
       "      <th>critic_score</th>\n",
       "      <th>user_score</th>\n",
       "      <th>rating</th>\n",
       "    </tr>\n",
       "  </thead>\n",
       "  <tbody>\n",
       "    <tr>\n",
       "      <th>0</th>\n",
       "      <td>wii sports</td>\n",
       "      <td>wii</td>\n",
       "      <td>2006.00</td>\n",
       "      <td>sports</td>\n",
       "      <td>41.36</td>\n",
       "      <td>28.96</td>\n",
       "      <td>3.77</td>\n",
       "      <td>8.45</td>\n",
       "      <td>76.00</td>\n",
       "      <td>8</td>\n",
       "      <td>e</td>\n",
       "    </tr>\n",
       "    <tr>\n",
       "      <th>1</th>\n",
       "      <td>super mario bros.</td>\n",
       "      <td>nes</td>\n",
       "      <td>1985.00</td>\n",
       "      <td>platform</td>\n",
       "      <td>29.08</td>\n",
       "      <td>3.58</td>\n",
       "      <td>6.81</td>\n",
       "      <td>0.77</td>\n",
       "      <td>NaN</td>\n",
       "      <td>NaN</td>\n",
       "      <td>NaN</td>\n",
       "    </tr>\n",
       "    <tr>\n",
       "      <th>2</th>\n",
       "      <td>mario kart wii</td>\n",
       "      <td>wii</td>\n",
       "      <td>2008.00</td>\n",
       "      <td>racing</td>\n",
       "      <td>15.68</td>\n",
       "      <td>12.76</td>\n",
       "      <td>3.79</td>\n",
       "      <td>3.29</td>\n",
       "      <td>82.00</td>\n",
       "      <td>8.3</td>\n",
       "      <td>e</td>\n",
       "    </tr>\n",
       "  </tbody>\n",
       "</table>\n",
       "</div>"
      ],
      "text/plain": [
       "                name platform  year_of_release     genre  na_sales  eu_sales  \\\n",
       "0         wii sports      wii          2006.00    sports     41.36     28.96   \n",
       "1  super mario bros.      nes          1985.00  platform     29.08      3.58   \n",
       "2     mario kart wii      wii          2008.00    racing     15.68     12.76   \n",
       "\n",
       "   jp_sales  other_sales  critic_score user_score rating  \n",
       "0      3.77         8.45         76.00          8      e  \n",
       "1      6.81         0.77           NaN        NaN    NaN  \n",
       "2      3.79         3.29         82.00        8.3      e  "
      ]
     },
     "execution_count": 9,
     "metadata": {},
     "output_type": "execute_result"
    }
   ],
   "source": [
    "# приведем названия столбцев и текстовых данных к нижнему регистру\n",
    "data = data.rename(str.lower, axis='columns')\n",
    "data['platform'] = data['platform'].str.lower()\n",
    "data['name'] = data['name'].str.lower()\n",
    "data['genre'] = data['genre'].str.lower()\n",
    "data['rating'] = data['rating'].str.lower()\n",
    "data.head(3)"
   ]
  },
  {
   "cell_type": "markdown",
   "metadata": {},
   "source": [
    "\n",
    "Заменим tbd в `user_score` на NaN  чтобы была возможно изменить тип данных в столбце."
   ]
  },
  {
   "cell_type": "code",
   "execution_count": 10,
   "metadata": {},
   "outputs": [
    {
     "data": {
      "text/plain": [
       "array(['8', nan, '8.3', '8.5', '6.6', '8.4', '8.6', '7.7', '6.3', '7.4',\n",
       "       '8.2', '9', '7.9', '8.1', '8.7', '7.1', '3.4', '5.3', '4.8', '3.2',\n",
       "       '8.9', '6.4', '7.8', '7.5', '2.6', '7.2', '9.2', '7', '7.3', '4.3',\n",
       "       '7.6', '5.7', '5', '9.1', '6.5', '8.8', '6.9', '9.4', '6.8', '6.1',\n",
       "       '6.7', '5.4', '4', '4.9', '4.5', '9.3', '6.2', '4.2', '6', '3.7',\n",
       "       '4.1', '5.8', '5.6', '5.5', '4.4', '4.6', '5.9', '3.9', '3.1',\n",
       "       '2.9', '5.2', '3.3', '4.7', '5.1', '3.5', '2.5', '1.9', '3', '2.7',\n",
       "       '2.2', '2', '9.5', '2.1', '3.6', '2.8', '1.8', '3.8', '0', '1.6',\n",
       "       '9.6', '2.4', '1.7', '1.1', '0.3', '1.5', '0.7', '1.2', '2.3',\n",
       "       '0.5', '1.3', '0.2', '0.6', '1.4', '0.9', '1', '9.7'], dtype=object)"
      ]
     },
     "execution_count": 10,
     "metadata": {},
     "output_type": "execute_result"
    }
   ],
   "source": [
    "# применим replace для замены значений tbd\n",
    "data['user_score'] = data['user_score'].replace('tbd', np.NaN)\n",
    "data['user_score'].unique()"
   ]
  },
  {
   "cell_type": "code",
   "execution_count": 11,
   "metadata": {
    "scrolled": true
   },
   "outputs": [
    {
     "name": "stdout",
     "output_type": "stream",
     "text": [
      "<class 'pandas.core.frame.DataFrame'>\n",
      "RangeIndex: 16715 entries, 0 to 16714\n",
      "Data columns (total 11 columns):\n",
      " #   Column           Non-Null Count  Dtype  \n",
      "---  ------           --------------  -----  \n",
      " 0   name             16713 non-null  object \n",
      " 1   platform         16715 non-null  object \n",
      " 2   year_of_release  16446 non-null  float64\n",
      " 3   genre            16713 non-null  object \n",
      " 4   na_sales         16715 non-null  float64\n",
      " 5   eu_sales         16715 non-null  float64\n",
      " 6   jp_sales         16715 non-null  float64\n",
      " 7   other_sales      16715 non-null  float64\n",
      " 8   critic_score     8137 non-null   float64\n",
      " 9   user_score       7590 non-null   float64\n",
      " 10  rating           9949 non-null   object \n",
      "dtypes: float64(7), object(4)\n",
      "memory usage: 1.4+ MB\n"
     ]
    }
   ],
   "source": [
    "# изменим тип данных user_score с object на float\n",
    "data['user_score'] = data['user_score'].astype('float')\n",
    "data.info()"
   ]
  },
  {
   "cell_type": "markdown",
   "metadata": {},
   "source": [
    "###  Проверка на наличие дубликатов"
   ]
  },
  {
   "cell_type": "code",
   "execution_count": 12,
   "metadata": {},
   "outputs": [
    {
     "data": {
      "text/plain": [
       "0"
      ]
     },
     "execution_count": 12,
     "metadata": {},
     "output_type": "execute_result"
    }
   ],
   "source": [
    "# проверим датасет на наличие явных дубликатов \n",
    "data.duplicated().sum()"
   ]
  },
  {
   "cell_type": "markdown",
   "metadata": {},
   "source": [
    "Явные дубликаты в датасетах отсутсвуют."
   ]
  },
  {
   "cell_type": "markdown",
   "metadata": {},
   "source": [
    "###  Обработка пропусков"
   ]
  },
  {
   "cell_type": "markdown",
   "metadata": {},
   "source": [
    "Удалим пропуски в name и genre общим количеством 2шт."
   ]
  },
  {
   "cell_type": "code",
   "execution_count": 13,
   "metadata": {},
   "outputs": [
    {
     "data": {
      "text/html": [
       "<div>\n",
       "<style scoped>\n",
       "    .dataframe tbody tr th:only-of-type {\n",
       "        vertical-align: middle;\n",
       "    }\n",
       "\n",
       "    .dataframe tbody tr th {\n",
       "        vertical-align: top;\n",
       "    }\n",
       "\n",
       "    .dataframe thead th {\n",
       "        text-align: right;\n",
       "    }\n",
       "</style>\n",
       "<table border=\"1\" class=\"dataframe\">\n",
       "  <thead>\n",
       "    <tr style=\"text-align: right;\">\n",
       "      <th></th>\n",
       "      <th>name</th>\n",
       "      <th>platform</th>\n",
       "      <th>year_of_release</th>\n",
       "      <th>genre</th>\n",
       "      <th>na_sales</th>\n",
       "      <th>eu_sales</th>\n",
       "      <th>jp_sales</th>\n",
       "      <th>other_sales</th>\n",
       "      <th>critic_score</th>\n",
       "      <th>user_score</th>\n",
       "      <th>rating</th>\n",
       "    </tr>\n",
       "  </thead>\n",
       "  <tbody>\n",
       "  </tbody>\n",
       "</table>\n",
       "</div>"
      ],
      "text/plain": [
       "Empty DataFrame\n",
       "Columns: [name, platform, year_of_release, genre, na_sales, eu_sales, jp_sales, other_sales, critic_score, user_score, rating]\n",
       "Index: []"
      ]
     },
     "execution_count": 13,
     "metadata": {},
     "output_type": "execute_result"
    }
   ],
   "source": [
    "# удалим пропуски в name и genre\n",
    "data.dropna(subset=['name'],inplace=True)\n",
    "# проверим, что все удалилось\n",
    "data[data['name'].isna()]"
   ]
  },
  {
   "cell_type": "markdown",
   "metadata": {},
   "source": [
    "Заменим пропуски в `rating` дефолтным значением gap, так как  рейтинг никаким расчетным значением не представляется возможным заполнить, рейтинг формируется на основе содержания игры и не имеет прямой корреляции с остальными показателями из датасета. А в случае , если  игра вышла на разных платформах и для однй из платформ указан рейтинг, также некорректно проставлять одинаковый рейтинг, так как в датасете есть записи с разным рейтингами на разных платформах для одной и той же игры."
   ]
  },
  {
   "cell_type": "code",
   "execution_count": 14,
   "metadata": {},
   "outputs": [
    {
     "name": "stdout",
     "output_type": "stream",
     "text": [
      "Количество пропусков в  rating после замены - 0\n"
     ]
    }
   ],
   "source": [
    "# заменим Nan в rating на дефолтное gap\n",
    "data['rating'] = data['rating'].fillna('gap')\n",
    "print('Количество пропусков в  rating после замены - {}'.format(data['rating'].isna().sum()))"
   ]
  },
  {
   "cell_type": "markdown",
   "metadata": {},
   "source": [
    "Проверим корреляцию оценки пользователей и критиков с другими параметрами датасета.\n"
   ]
  },
  {
   "cell_type": "code",
   "execution_count": 15,
   "metadata": {},
   "outputs": [
    {
     "data": {
      "text/plain": [
       "year_of_release   -0.27\n",
       "na_sales           0.09\n",
       "eu_sales           0.06\n",
       "jp_sales           0.13\n",
       "other_sales        0.06\n",
       "critic_score       0.58\n",
       "user_score         1.00\n",
       "Name: user_score, dtype: float64"
      ]
     },
     "execution_count": 15,
     "metadata": {},
     "output_type": "execute_result"
    }
   ],
   "source": [
    "# посчитаем коэффициент Пирсона для user_score\n",
    "data.corr()['user_score']"
   ]
  },
  {
   "cell_type": "code",
   "execution_count": 16,
   "metadata": {
    "scrolled": true
   },
   "outputs": [
    {
     "data": {
      "text/plain": [
       "year_of_release   0.01\n",
       "na_sales          0.24\n",
       "eu_sales          0.22\n",
       "jp_sales          0.15\n",
       "other_sales       0.20\n",
       "critic_score      1.00\n",
       "user_score        0.58\n",
       "Name: critic_score, dtype: float64"
      ]
     },
     "execution_count": 16,
     "metadata": {},
     "output_type": "execute_result"
    }
   ],
   "source": [
    "# посчитаем коэффициент Пирсона для critic_score\n",
    "data.corr()['critic_score']"
   ]
  },
  {
   "cell_type": "markdown",
   "metadata": {
    "scrolled": true
   },
   "source": [
    "Наибольшая корреляция наблюдается между оценками критиков и оценками пользователей, коэффициент Пирсона для них равен 0,58, что говорит о средней силе корреляции. С остальными параметрами датасета коэффициент Пирсона стремиться к нулю и указывает на невозможность использования данных параметров для заполнения пропусков."
   ]
  },
  {
   "cell_type": "code",
   "execution_count": 17,
   "metadata": {},
   "outputs": [
    {
     "name": "stdout",
     "output_type": "stream",
     "text": [
      "(78.0, 81.0]    673\n",
      "(71.0, 74.0]    690\n",
      "(63.0, 67.0]    746\n",
      "(81.0, 85.0]    748\n",
      "(85.0, 98.0]    809\n",
      "(58.0, 63.0]    826\n",
      "(50.0, 58.0]    875\n",
      "(12.0, 50.0]    881\n",
      "(67.0, 71.0]    944\n",
      "(74.0, 78.0]    945\n",
      "Name: critic_score, dtype: int64\n"
     ]
    },
    {
     "data": {
      "text/html": [
       "<div>\n",
       "<style scoped>\n",
       "    .dataframe tbody tr th:only-of-type {\n",
       "        vertical-align: middle;\n",
       "    }\n",
       "\n",
       "    .dataframe tbody tr th {\n",
       "        vertical-align: top;\n",
       "    }\n",
       "\n",
       "    .dataframe thead th {\n",
       "        text-align: right;\n",
       "    }\n",
       "</style>\n",
       "<table border=\"1\" class=\"dataframe\">\n",
       "  <thead>\n",
       "    <tr style=\"text-align: right;\">\n",
       "      <th></th>\n",
       "      <th>name</th>\n",
       "      <th>platform</th>\n",
       "      <th>year_of_release</th>\n",
       "      <th>genre</th>\n",
       "      <th>na_sales</th>\n",
       "      <th>eu_sales</th>\n",
       "      <th>jp_sales</th>\n",
       "      <th>other_sales</th>\n",
       "      <th>critic_score</th>\n",
       "      <th>user_score</th>\n",
       "      <th>rating</th>\n",
       "      <th>critic_category</th>\n",
       "    </tr>\n",
       "  </thead>\n",
       "  <tbody>\n",
       "    <tr>\n",
       "      <th>182</th>\n",
       "      <td>tomb raider ii</td>\n",
       "      <td>ps</td>\n",
       "      <td>1997.00</td>\n",
       "      <td>action</td>\n",
       "      <td>2.30</td>\n",
       "      <td>2.46</td>\n",
       "      <td>0.20</td>\n",
       "      <td>0.28</td>\n",
       "      <td>85.00</td>\n",
       "      <td>NaN</td>\n",
       "      <td>t</td>\n",
       "      <td>9</td>\n",
       "    </tr>\n",
       "    <tr>\n",
       "      <th>301</th>\n",
       "      <td>namco museum: 50th anniversary</td>\n",
       "      <td>ps2</td>\n",
       "      <td>2005.00</td>\n",
       "      <td>misc</td>\n",
       "      <td>2.08</td>\n",
       "      <td>1.35</td>\n",
       "      <td>0.00</td>\n",
       "      <td>0.54</td>\n",
       "      <td>61.00</td>\n",
       "      <td>NaN</td>\n",
       "      <td>e10+</td>\n",
       "      <td>3</td>\n",
       "    </tr>\n",
       "    <tr>\n",
       "      <th>440</th>\n",
       "      <td>need for speed iii: hot pursuit</td>\n",
       "      <td>ps</td>\n",
       "      <td>1998.00</td>\n",
       "      <td>racing</td>\n",
       "      <td>2.14</td>\n",
       "      <td>0.86</td>\n",
       "      <td>0.00</td>\n",
       "      <td>0.13</td>\n",
       "      <td>88.00</td>\n",
       "      <td>NaN</td>\n",
       "      <td>e</td>\n",
       "      <td>10</td>\n",
       "    </tr>\n",
       "    <tr>\n",
       "      <th>637</th>\n",
       "      <td>riven: the sequel to myst</td>\n",
       "      <td>pc</td>\n",
       "      <td>1997.00</td>\n",
       "      <td>adventure</td>\n",
       "      <td>1.52</td>\n",
       "      <td>0.82</td>\n",
       "      <td>0.00</td>\n",
       "      <td>0.10</td>\n",
       "      <td>83.00</td>\n",
       "      <td>NaN</td>\n",
       "      <td>e</td>\n",
       "      <td>9</td>\n",
       "    </tr>\n",
       "    <tr>\n",
       "      <th>645</th>\n",
       "      <td>udraw studio</td>\n",
       "      <td>wii</td>\n",
       "      <td>2010.00</td>\n",
       "      <td>misc</td>\n",
       "      <td>1.65</td>\n",
       "      <td>0.57</td>\n",
       "      <td>0.00</td>\n",
       "      <td>0.20</td>\n",
       "      <td>71.00</td>\n",
       "      <td>NaN</td>\n",
       "      <td>e</td>\n",
       "      <td>5</td>\n",
       "    </tr>\n",
       "  </tbody>\n",
       "</table>\n",
       "</div>"
      ],
      "text/plain": [
       "                                name platform  year_of_release      genre  \\\n",
       "182                   tomb raider ii       ps          1997.00     action   \n",
       "301   namco museum: 50th anniversary      ps2          2005.00       misc   \n",
       "440  need for speed iii: hot pursuit       ps          1998.00     racing   \n",
       "637        riven: the sequel to myst       pc          1997.00  adventure   \n",
       "645                     udraw studio      wii          2010.00       misc   \n",
       "\n",
       "     na_sales  eu_sales  jp_sales  other_sales  critic_score  user_score  \\\n",
       "182      2.30      2.46      0.20         0.28         85.00         NaN   \n",
       "301      2.08      1.35      0.00         0.54         61.00         NaN   \n",
       "440      2.14      0.86      0.00         0.13         88.00         NaN   \n",
       "637      1.52      0.82      0.00         0.10         83.00         NaN   \n",
       "645      1.65      0.57      0.00         0.20         71.00         NaN   \n",
       "\n",
       "    rating critic_category  \n",
       "182      t               9  \n",
       "301   e10+               3  \n",
       "440      e              10  \n",
       "637      e               9  \n",
       "645      e               5  "
      ]
     },
     "execution_count": 17,
     "metadata": {},
     "output_type": "execute_result"
    }
   ],
   "source": [
    "# разделим данные столбца critic_score на 10 интервалов равного размера \n",
    "critic_cut = pd.qcut(data['critic_score'],q= 10,precision=0)\n",
    "# посмотрим как распределяются значения по интервалам\n",
    "print(critic_cut.value_counts().sort_values())\n",
    "# Создадим столбец в исходном датафрейме с данными о категории оценок критиков \n",
    "data['critic_category'] = pd.qcut(data['critic_score'],q=10, labels=[1,2,3,4,5,6,7,8,9,10], precision=0)\n",
    "# отобразим записи где есть  critic_score  и нет user_score\n",
    "data[data['user_score'].isna()&data['critic_score']>0].head()"
   ]
  },
  {
   "cell_type": "code",
   "execution_count": 18,
   "metadata": {},
   "outputs": [
    {
     "name": "stdout",
     "output_type": "stream",
     "text": [
      "Количество пропусков в  user_score после замены - 8003\n"
     ]
    },
    {
     "data": {
      "text/plain": [
       "572"
      ]
     },
     "execution_count": 18,
     "metadata": {},
     "output_type": "execute_result"
    }
   ],
   "source": [
    "#заменим пропуски NaN в user_score медианными значениями соответсвующей группы critic_category\n",
    "mediana = data.groupby('critic_category')['user_score'].transform('median')\n",
    "data['user_score'] = data['user_score'].fillna(mediana)\n",
    "# проверим , сколько осталось пропусков user_score\n",
    "print('Количество пропусков в  user_score после замены - {}'.format(data['user_score'].isna().sum()))\n",
    "#проверим можно ли заполнить critic_score на основе user_score\n",
    "data[data['critic_score'].isna()&data['user_score']>0]['user_score'].count()"
   ]
  },
  {
   "cell_type": "markdown",
   "metadata": {},
   "source": [
    "Есть 572 строки с пропусками в `critic_score` и наличием для этих записей данных user_score. Данные пропуски также можно заполнить с помощью медиан соответствующей категории `user_score`."
   ]
  },
  {
   "cell_type": "code",
   "execution_count": 19,
   "metadata": {
    "scrolled": true
   },
   "outputs": [
    {
     "name": "stdout",
     "output_type": "stream",
     "text": [
      "(5.3, 6.1]      678\n",
      "(8.3, 8.6]      700\n",
      "(7.4, 7.7]      768\n",
      "(8.0, 8.3]      793\n",
      "(8.6, 9.7]      831\n",
      "(6.1, 6.6]      871\n",
      "(6.6, 7.0]      881\n",
      "(7.7, 8.0]      961\n",
      "(7.0, 7.4]     1112\n",
      "(-0.1, 5.3]    1115\n",
      "Name: user_score, dtype: int64\n"
     ]
    }
   ],
   "source": [
    "# разделим данные столбца user_score на 10 интервалов равного размера \n",
    "user_category = pd.qcut(data['user_score'],q= 10,precision=0)\n",
    "# посмотрим как распределяются значения по интервалам\n",
    "print(user_category.value_counts().sort_values())\n",
    "# Создадим столбец в исходном датафрейме с данными о категории доходов\n",
    "data['user_category'] = pd.qcut(data['user_score'],q=10, labels=[1,2,3,4,5,6,7,8,9,10], precision=0)\n",
    "#заменим пропуски NaN в critic_score медианными значениями соответсвующей группы \n",
    "mediana = data.groupby('user_category')['critic_score'].transform('median')\n",
    "data['critic_score'] = data['critic_score'].fillna(mediana)"
   ]
  },
  {
   "cell_type": "code",
   "execution_count": 20,
   "metadata": {
    "scrolled": true
   },
   "outputs": [
    {
     "name": "stdout",
     "output_type": "stream",
     "text": [
      "<class 'pandas.core.frame.DataFrame'>\n",
      "Int64Index: 16713 entries, 0 to 16714\n",
      "Data columns (total 13 columns):\n",
      " #   Column           Non-Null Count  Dtype   \n",
      "---  ------           --------------  -----   \n",
      " 0   name             16713 non-null  object  \n",
      " 1   platform         16713 non-null  object  \n",
      " 2   year_of_release  16444 non-null  float64 \n",
      " 3   genre            16713 non-null  object  \n",
      " 4   na_sales         16713 non-null  float64 \n",
      " 5   eu_sales         16713 non-null  float64 \n",
      " 6   jp_sales         16713 non-null  float64 \n",
      " 7   other_sales      16713 non-null  float64 \n",
      " 8   critic_score     8710 non-null   float64 \n",
      " 9   user_score       8710 non-null   float64 \n",
      " 10  rating           16713 non-null  object  \n",
      " 11  critic_category  8137 non-null   category\n",
      " 12  user_category    8710 non-null   category\n",
      "dtypes: category(2), float64(7), object(4)\n",
      "memory usage: 1.6+ MB\n"
     ]
    }
   ],
   "source": [
    "# проверим , сколько осталось пропусков \n",
    "data.info()"
   ]
  },
  {
   "cell_type": "markdown",
   "metadata": {},
   "source": [
    " После обработки пропусков остались Nan в колонках `year_of_release`, `critic_score`, `user_score`.\n",
    "\n",
    "Год выпуска игры не имеет корреляции с другими параметрами датасета и даже если есть в датасете информация о дате выхода игры на других платформах , то это не позволяет корректно заполнить нам пропуски в `year_of_release`. Так как есть вероятность, что на разных платформах игра выйдет в разное время (в датасете есть такие примеры) или по техническим причинам или например, по причине , что эта платформа появилась позднее, чем остальные платформы.\n",
    "\n",
    "Аналогичная ситуация и с оставшимися пропусками в `critic_score`, `user_score` -  отсутствие прямой корреляции с другими параметрами датасета. Если же игра вышла на разных платформах , и для какой либо из платформ проставлена оценка, не будет корректным использовать ту же оценку, так как игра на разных платформах может сильно отличаться в зависимости от возможностей платформы, что будет давать разную оценку пользователей и критиков на разных платформах.\n",
    "\n",
    "Оставим данные пропуски не заполненными. \n",
    "\n",
    "Удалим из датасета вспомогательные столбцы `critic_category` и `user_category` как неучаствующие в дальнейшем анализе."
   ]
  },
  {
   "cell_type": "code",
   "execution_count": 21,
   "metadata": {},
   "outputs": [],
   "source": [
    "# применим метод drop для удаления critic_category и user_category\n",
    "data = data.drop(columns=['critic_category','user_category'])"
   ]
  },
  {
   "cell_type": "markdown",
   "metadata": {},
   "source": [
    "Добавим в датасет информацию о суммарных продажах каждой игры."
   ]
  },
  {
   "cell_type": "code",
   "execution_count": 22,
   "metadata": {
    "scrolled": true
   },
   "outputs": [
    {
     "data": {
      "text/html": [
       "<div>\n",
       "<style scoped>\n",
       "    .dataframe tbody tr th:only-of-type {\n",
       "        vertical-align: middle;\n",
       "    }\n",
       "\n",
       "    .dataframe tbody tr th {\n",
       "        vertical-align: top;\n",
       "    }\n",
       "\n",
       "    .dataframe thead th {\n",
       "        text-align: right;\n",
       "    }\n",
       "</style>\n",
       "<table border=\"1\" class=\"dataframe\">\n",
       "  <thead>\n",
       "    <tr style=\"text-align: right;\">\n",
       "      <th></th>\n",
       "      <th>name</th>\n",
       "      <th>platform</th>\n",
       "      <th>year_of_release</th>\n",
       "      <th>genre</th>\n",
       "      <th>na_sales</th>\n",
       "      <th>eu_sales</th>\n",
       "      <th>jp_sales</th>\n",
       "      <th>other_sales</th>\n",
       "      <th>critic_score</th>\n",
       "      <th>user_score</th>\n",
       "      <th>rating</th>\n",
       "      <th>sum_sales</th>\n",
       "    </tr>\n",
       "  </thead>\n",
       "  <tbody>\n",
       "    <tr>\n",
       "      <th>0</th>\n",
       "      <td>wii sports</td>\n",
       "      <td>wii</td>\n",
       "      <td>2006.00</td>\n",
       "      <td>sports</td>\n",
       "      <td>41.36</td>\n",
       "      <td>28.96</td>\n",
       "      <td>3.77</td>\n",
       "      <td>8.45</td>\n",
       "      <td>76.00</td>\n",
       "      <td>8.00</td>\n",
       "      <td>e</td>\n",
       "      <td>82.54</td>\n",
       "    </tr>\n",
       "    <tr>\n",
       "      <th>1</th>\n",
       "      <td>super mario bros.</td>\n",
       "      <td>nes</td>\n",
       "      <td>1985.00</td>\n",
       "      <td>platform</td>\n",
       "      <td>29.08</td>\n",
       "      <td>3.58</td>\n",
       "      <td>6.81</td>\n",
       "      <td>0.77</td>\n",
       "      <td>NaN</td>\n",
       "      <td>NaN</td>\n",
       "      <td>gap</td>\n",
       "      <td>40.24</td>\n",
       "    </tr>\n",
       "    <tr>\n",
       "      <th>2</th>\n",
       "      <td>mario kart wii</td>\n",
       "      <td>wii</td>\n",
       "      <td>2008.00</td>\n",
       "      <td>racing</td>\n",
       "      <td>15.68</td>\n",
       "      <td>12.76</td>\n",
       "      <td>3.79</td>\n",
       "      <td>3.29</td>\n",
       "      <td>82.00</td>\n",
       "      <td>8.30</td>\n",
       "      <td>e</td>\n",
       "      <td>35.52</td>\n",
       "    </tr>\n",
       "  </tbody>\n",
       "</table>\n",
       "</div>"
      ],
      "text/plain": [
       "                name platform  year_of_release     genre  na_sales  eu_sales  \\\n",
       "0         wii sports      wii          2006.00    sports     41.36     28.96   \n",
       "1  super mario bros.      nes          1985.00  platform     29.08      3.58   \n",
       "2     mario kart wii      wii          2008.00    racing     15.68     12.76   \n",
       "\n",
       "   jp_sales  other_sales  critic_score  user_score rating  sum_sales  \n",
       "0      3.77         8.45         76.00        8.00      e      82.54  \n",
       "1      6.81         0.77           NaN         NaN    gap      40.24  \n",
       "2      3.79         3.29         82.00        8.30      e      35.52  "
      ]
     },
     "execution_count": 22,
     "metadata": {},
     "output_type": "execute_result"
    }
   ],
   "source": [
    "# посчитаем суммарные продажи во всех регионах\n",
    "data['sum_sales'] = data['na_sales'] + data['eu_sales'] + data['jp_sales'] + data['other_sales'] \n",
    "data.head(3)"
   ]
  },
  {
   "cell_type": "markdown",
   "metadata": {},
   "source": [
    "##  Исследовательский анализ данных"
   ]
  },
  {
   "cell_type": "markdown",
   "metadata": {},
   "source": [
    "Исследуем сколько игр выпускалось в разные годы и  важны ли данные за все периоды."
   ]
  },
  {
   "cell_type": "code",
   "execution_count": 23,
   "metadata": {},
   "outputs": [
    {
     "data": {
      "image/png": "[encoded data removed]",
      "text/plain": [
       "<Figure size 1152x576 with 1 Axes>"
      ]
     },
     "metadata": {
      "needs_background": "light"
     },
     "output_type": "display_data"
    }
   ],
   "source": [
    "# сгруппируем данные о количестве игр по годам \n",
    "group_year_data = data.pivot_table(index='year_of_release', values='name', aggfunc = 'nunique')\n",
    "# построим столбчатую диаграмму количества игр по годам\n",
    "group_year_data.plot.bar(figsize=(16,8) )\n",
    "plt.title('Динамика выпуска игр по годам')\n",
    "plt.ylabel('Количество игр, шт.')\n",
    "plt.show()"
   ]
  },
  {
   "cell_type": "markdown",
   "metadata": {},
   "source": [
    "До 1995 года количество выпускаемых игр было невелико , далее наблюдается постепенный рост количества игр с пиком в 2008-2009гг. и последующим спадом до уровня 2001 года.\n",
    "\n",
    "Спад количества выпускаемых игр после 2009 г. связан с глобальным финансовым кризисом 2008 года , многие крупные игровые издатели вынуждены были сокращать количество студий, урезать производственные бюджеты или проводить другие реорганизации деятельности.\n",
    "\n",
    "Резкий спад количества выпускаемых игр в 2012 году связано с ростом индустрии мобильных игр. \n",
    "\n",
    "Определим 10 наиболее популярных платформ с максимальными продажами за весь рассматриваемый срок."
   ]
  },
  {
   "cell_type": "code",
   "execution_count": 24,
   "metadata": {},
   "outputs": [
    {
     "data": {
      "text/html": [
       "<div>\n",
       "<style scoped>\n",
       "    .dataframe tbody tr th:only-of-type {\n",
       "        vertical-align: middle;\n",
       "    }\n",
       "\n",
       "    .dataframe tbody tr th {\n",
       "        vertical-align: top;\n",
       "    }\n",
       "\n",
       "    .dataframe thead th {\n",
       "        text-align: right;\n",
       "    }\n",
       "</style>\n",
       "<table border=\"1\" class=\"dataframe\">\n",
       "  <thead>\n",
       "    <tr style=\"text-align: right;\">\n",
       "      <th></th>\n",
       "      <th>sum_sales</th>\n",
       "      <th>ratio</th>\n",
       "    </tr>\n",
       "    <tr>\n",
       "      <th>platform</th>\n",
       "      <th></th>\n",
       "      <th></th>\n",
       "    </tr>\n",
       "  </thead>\n",
       "  <tbody>\n",
       "    <tr>\n",
       "      <th>ps2</th>\n",
       "      <td>1255.77</td>\n",
       "      <td>0.18</td>\n",
       "    </tr>\n",
       "    <tr>\n",
       "      <th>x360</th>\n",
       "      <td>971.42</td>\n",
       "      <td>0.14</td>\n",
       "    </tr>\n",
       "    <tr>\n",
       "      <th>ps3</th>\n",
       "      <td>939.65</td>\n",
       "      <td>0.14</td>\n",
       "    </tr>\n",
       "    <tr>\n",
       "      <th>wii</th>\n",
       "      <td>907.51</td>\n",
       "      <td>0.13</td>\n",
       "    </tr>\n",
       "    <tr>\n",
       "      <th>ds</th>\n",
       "      <td>806.12</td>\n",
       "      <td>0.12</td>\n",
       "    </tr>\n",
       "    <tr>\n",
       "      <th>ps</th>\n",
       "      <td>730.86</td>\n",
       "      <td>0.11</td>\n",
       "    </tr>\n",
       "    <tr>\n",
       "      <th>gba</th>\n",
       "      <td>317.85</td>\n",
       "      <td>0.05</td>\n",
       "    </tr>\n",
       "    <tr>\n",
       "      <th>ps4</th>\n",
       "      <td>314.14</td>\n",
       "      <td>0.05</td>\n",
       "    </tr>\n",
       "    <tr>\n",
       "      <th>psp</th>\n",
       "      <td>294.05</td>\n",
       "      <td>0.04</td>\n",
       "    </tr>\n",
       "    <tr>\n",
       "      <th>pc</th>\n",
       "      <td>259.52</td>\n",
       "      <td>0.04</td>\n",
       "    </tr>\n",
       "  </tbody>\n",
       "</table>\n",
       "</div>"
      ],
      "text/plain": [
       "          sum_sales  ratio\n",
       "platform                  \n",
       "ps2         1255.77   0.18\n",
       "x360         971.42   0.14\n",
       "ps3          939.65   0.14\n",
       "wii          907.51   0.13\n",
       "ds           806.12   0.12\n",
       "ps           730.86   0.11\n",
       "gba          317.85   0.05\n",
       "ps4          314.14   0.05\n",
       "psp          294.05   0.04\n",
       "pc           259.52   0.04"
      ]
     },
     "execution_count": 24,
     "metadata": {},
     "output_type": "execute_result"
    }
   ],
   "source": [
    "# сгруппируем суммарные продажи по игровым платформам и оставим top 10\n",
    "top10_platform =data.groupby('platform')['sum_sales'].sum().to_frame().sort_values(by='sum_sales',ascending=False).head(10)\n",
    "# посчитаем долю продаж каждой платформы\n",
    "top10_platform['ratio'] = top10_platform['sum_sales']/sum(top10_platform['sum_sales'])\n",
    "top10_platform"
   ]
  },
  {
   "cell_type": "markdown",
   "metadata": {},
   "source": [
    "Первые 6 платформ в полученном списке имеюм наибольшие доли от общих суммарных продаж,их суммарный вклад более 70% продаж. Начиная с 7 пункта (платформа gba ) доля продаж игровых платформ значительно меньше. \n",
    "\n",
    "Посмотрим динамику продаж по годам по первым 6ти платформам."
   ]
  },
  {
   "cell_type": "code",
   "execution_count": 25,
   "metadata": {
    "scrolled": false
   },
   "outputs": [
    {
     "data": {
      "text/html": [
       "<div>\n",
       "<style scoped>\n",
       "    .dataframe tbody tr th:only-of-type {\n",
       "        vertical-align: middle;\n",
       "    }\n",
       "\n",
       "    .dataframe tbody tr th {\n",
       "        vertical-align: top;\n",
       "    }\n",
       "\n",
       "    .dataframe thead th {\n",
       "        text-align: right;\n",
       "    }\n",
       "</style>\n",
       "<table border=\"1\" class=\"dataframe\">\n",
       "  <thead>\n",
       "    <tr style=\"text-align: right;\">\n",
       "      <th>year_of_release</th>\n",
       "      <th>1985.00</th>\n",
       "      <th>1994.00</th>\n",
       "      <th>1995.00</th>\n",
       "      <th>1996.00</th>\n",
       "      <th>1997.00</th>\n",
       "      <th>1998.00</th>\n",
       "      <th>1999.00</th>\n",
       "      <th>2000.00</th>\n",
       "      <th>2001.00</th>\n",
       "      <th>2002.00</th>\n",
       "      <th>...</th>\n",
       "      <th>2007.00</th>\n",
       "      <th>2008.00</th>\n",
       "      <th>2009.00</th>\n",
       "      <th>2010.00</th>\n",
       "      <th>2011.00</th>\n",
       "      <th>2012.00</th>\n",
       "      <th>2013.00</th>\n",
       "      <th>2014.00</th>\n",
       "      <th>2015.00</th>\n",
       "      <th>2016.00</th>\n",
       "    </tr>\n",
       "    <tr>\n",
       "      <th>platform</th>\n",
       "      <th></th>\n",
       "      <th></th>\n",
       "      <th></th>\n",
       "      <th></th>\n",
       "      <th></th>\n",
       "      <th></th>\n",
       "      <th></th>\n",
       "      <th></th>\n",
       "      <th></th>\n",
       "      <th></th>\n",
       "      <th></th>\n",
       "      <th></th>\n",
       "      <th></th>\n",
       "      <th></th>\n",
       "      <th></th>\n",
       "      <th></th>\n",
       "      <th></th>\n",
       "      <th></th>\n",
       "      <th></th>\n",
       "      <th></th>\n",
       "      <th></th>\n",
       "    </tr>\n",
       "  </thead>\n",
       "  <tbody>\n",
       "    <tr>\n",
       "      <th>ds</th>\n",
       "      <td>0.02</td>\n",
       "      <td>NaN</td>\n",
       "      <td>NaN</td>\n",
       "      <td>NaN</td>\n",
       "      <td>NaN</td>\n",
       "      <td>NaN</td>\n",
       "      <td>NaN</td>\n",
       "      <td>NaN</td>\n",
       "      <td>NaN</td>\n",
       "      <td>NaN</td>\n",
       "      <td>...</td>\n",
       "      <td>146.94</td>\n",
       "      <td>145.31</td>\n",
       "      <td>119.54</td>\n",
       "      <td>85.02</td>\n",
       "      <td>26.18</td>\n",
       "      <td>11.01</td>\n",
       "      <td>1.54</td>\n",
       "      <td>NaN</td>\n",
       "      <td>NaN</td>\n",
       "      <td>NaN</td>\n",
       "    </tr>\n",
       "    <tr>\n",
       "      <th>ps</th>\n",
       "      <td>NaN</td>\n",
       "      <td>6.03</td>\n",
       "      <td>35.96</td>\n",
       "      <td>94.70</td>\n",
       "      <td>136.17</td>\n",
       "      <td>169.49</td>\n",
       "      <td>144.53</td>\n",
       "      <td>96.37</td>\n",
       "      <td>35.59</td>\n",
       "      <td>6.67</td>\n",
       "      <td>...</td>\n",
       "      <td>NaN</td>\n",
       "      <td>NaN</td>\n",
       "      <td>NaN</td>\n",
       "      <td>NaN</td>\n",
       "      <td>NaN</td>\n",
       "      <td>NaN</td>\n",
       "      <td>NaN</td>\n",
       "      <td>NaN</td>\n",
       "      <td>NaN</td>\n",
       "      <td>NaN</td>\n",
       "    </tr>\n",
       "    <tr>\n",
       "      <th>ps2</th>\n",
       "      <td>NaN</td>\n",
       "      <td>NaN</td>\n",
       "      <td>NaN</td>\n",
       "      <td>NaN</td>\n",
       "      <td>NaN</td>\n",
       "      <td>NaN</td>\n",
       "      <td>NaN</td>\n",
       "      <td>39.17</td>\n",
       "      <td>166.43</td>\n",
       "      <td>205.38</td>\n",
       "      <td>...</td>\n",
       "      <td>75.99</td>\n",
       "      <td>53.90</td>\n",
       "      <td>26.40</td>\n",
       "      <td>5.64</td>\n",
       "      <td>0.45</td>\n",
       "      <td>NaN</td>\n",
       "      <td>NaN</td>\n",
       "      <td>NaN</td>\n",
       "      <td>NaN</td>\n",
       "      <td>NaN</td>\n",
       "    </tr>\n",
       "    <tr>\n",
       "      <th>ps3</th>\n",
       "      <td>NaN</td>\n",
       "      <td>NaN</td>\n",
       "      <td>NaN</td>\n",
       "      <td>NaN</td>\n",
       "      <td>NaN</td>\n",
       "      <td>NaN</td>\n",
       "      <td>NaN</td>\n",
       "      <td>NaN</td>\n",
       "      <td>NaN</td>\n",
       "      <td>NaN</td>\n",
       "      <td>...</td>\n",
       "      <td>73.19</td>\n",
       "      <td>118.52</td>\n",
       "      <td>130.93</td>\n",
       "      <td>142.17</td>\n",
       "      <td>156.78</td>\n",
       "      <td>107.36</td>\n",
       "      <td>113.25</td>\n",
       "      <td>47.76</td>\n",
       "      <td>16.82</td>\n",
       "      <td>3.60</td>\n",
       "    </tr>\n",
       "    <tr>\n",
       "      <th>wii</th>\n",
       "      <td>NaN</td>\n",
       "      <td>NaN</td>\n",
       "      <td>NaN</td>\n",
       "      <td>NaN</td>\n",
       "      <td>NaN</td>\n",
       "      <td>NaN</td>\n",
       "      <td>NaN</td>\n",
       "      <td>NaN</td>\n",
       "      <td>NaN</td>\n",
       "      <td>NaN</td>\n",
       "      <td>...</td>\n",
       "      <td>152.77</td>\n",
       "      <td>171.32</td>\n",
       "      <td>206.97</td>\n",
       "      <td>127.95</td>\n",
       "      <td>59.65</td>\n",
       "      <td>21.71</td>\n",
       "      <td>8.59</td>\n",
       "      <td>3.75</td>\n",
       "      <td>1.14</td>\n",
       "      <td>0.18</td>\n",
       "    </tr>\n",
       "    <tr>\n",
       "      <th>x360</th>\n",
       "      <td>NaN</td>\n",
       "      <td>NaN</td>\n",
       "      <td>NaN</td>\n",
       "      <td>NaN</td>\n",
       "      <td>NaN</td>\n",
       "      <td>NaN</td>\n",
       "      <td>NaN</td>\n",
       "      <td>NaN</td>\n",
       "      <td>NaN</td>\n",
       "      <td>NaN</td>\n",
       "      <td>...</td>\n",
       "      <td>95.41</td>\n",
       "      <td>135.26</td>\n",
       "      <td>120.29</td>\n",
       "      <td>170.03</td>\n",
       "      <td>143.84</td>\n",
       "      <td>99.74</td>\n",
       "      <td>88.58</td>\n",
       "      <td>34.74</td>\n",
       "      <td>11.96</td>\n",
       "      <td>1.52</td>\n",
       "    </tr>\n",
       "  </tbody>\n",
       "</table>\n",
       "<p>6 rows × 24 columns</p>\n",
       "</div>"
      ],
      "text/plain": [
       "year_of_release  1985.00  1994.00  1995.00  1996.00  1997.00  1998.00  \\\n",
       "platform                                                                \n",
       "ds                  0.02      NaN      NaN      NaN      NaN      NaN   \n",
       "ps                   NaN     6.03    35.96    94.70   136.17   169.49   \n",
       "ps2                  NaN      NaN      NaN      NaN      NaN      NaN   \n",
       "ps3                  NaN      NaN      NaN      NaN      NaN      NaN   \n",
       "wii                  NaN      NaN      NaN      NaN      NaN      NaN   \n",
       "x360                 NaN      NaN      NaN      NaN      NaN      NaN   \n",
       "\n",
       "year_of_release  1999.00  2000.00  2001.00  2002.00  ...  2007.00  2008.00  \\\n",
       "platform                                             ...                     \n",
       "ds                   NaN      NaN      NaN      NaN  ...   146.94   145.31   \n",
       "ps                144.53    96.37    35.59     6.67  ...      NaN      NaN   \n",
       "ps2                  NaN    39.17   166.43   205.38  ...    75.99    53.90   \n",
       "ps3                  NaN      NaN      NaN      NaN  ...    73.19   118.52   \n",
       "wii                  NaN      NaN      NaN      NaN  ...   152.77   171.32   \n",
       "x360                 NaN      NaN      NaN      NaN  ...    95.41   135.26   \n",
       "\n",
       "year_of_release  2009.00  2010.00  2011.00  2012.00  2013.00  2014.00  \\\n",
       "platform                                                                \n",
       "ds                119.54    85.02    26.18    11.01     1.54      NaN   \n",
       "ps                   NaN      NaN      NaN      NaN      NaN      NaN   \n",
       "ps2                26.40     5.64     0.45      NaN      NaN      NaN   \n",
       "ps3               130.93   142.17   156.78   107.36   113.25    47.76   \n",
       "wii               206.97   127.95    59.65    21.71     8.59     3.75   \n",
       "x360              120.29   170.03   143.84    99.74    88.58    34.74   \n",
       "\n",
       "year_of_release  2015.00  2016.00  \n",
       "platform                           \n",
       "ds                   NaN      NaN  \n",
       "ps                   NaN      NaN  \n",
       "ps2                  NaN      NaN  \n",
       "ps3                16.82     3.60  \n",
       "wii                 1.14     0.18  \n",
       "x360               11.96     1.52  \n",
       "\n",
       "[6 rows x 24 columns]"
      ]
     },
     "metadata": {},
     "output_type": "display_data"
    },
    {
     "data": {
      "image/png": "[encoded data removed]",
      "text/plain": [
       "<Figure size 1152x720 with 1 Axes>"
      ]
     },
     "metadata": {
      "needs_background": "light"
     },
     "output_type": "display_data"
    },
    {
     "name": "stdout",
     "output_type": "stream",
     "text": [
      "Средний срок жизни платформы - 11 лет\n"
     ]
    }
   ],
   "source": [
    "# создадим список с 6 платформами с максимальными продажами\n",
    "top6_platform = ['ps2','x360','ps3','wii','ds','ps']\n",
    "# построим сводную таблицу по 6 платформам с динамикой продаж по годам\n",
    "top6_sales_year = (\n",
    "                 data.query('platform == @top6_platform')\n",
    "                .pivot_table(index='platform',values='sum_sales',columns='year_of_release',aggfunc='sum')  \n",
    "                  )\n",
    "display(top6_sales_year)\n",
    "# визуализируем динамику продаж по годам по 6 популярным платформам\n",
    "top6_sales_year.T.plot(grid=True, figsize=(16,10),style='.-',fontsize=10,xticks=list(top6_sales_year.columns.values),\n",
    "                                                                    linewidth=1)\n",
    "plt.xticks (rotation=90)\n",
    "plt.title('Динамика продаж по годам')\n",
    "plt.ylabel('Продажи игр, млн.долл.')\n",
    "plt.show()\n",
    "# посчитаем среднее время жизни платформы\n",
    "age_platform = top6_sales_year.fillna(0).astype(bool).sum(axis=1).mean()\n",
    "print('Средний срок жизни платформы - {} лет'.format(int(age_platform)))"
   ]
  },
  {
   "cell_type": "markdown",
   "metadata": {},
   "source": [
    "Средний срок жизни игровой платформы равен 11 годам и связан с развитием технологий, вследствие чего выпускаются более прогрессивные платформы, вытесняя с рынка своих предшественников.\n",
    "\n",
    "С точки зрения выявления закономерностей, определяющих успешность игры и построения прогноза на 2017г. определим актуальный период для дальнейшего анализа с 2014 по 2016гг."
   ]
  },
  {
   "cell_type": "code",
   "execution_count": 26,
   "metadata": {},
   "outputs": [
    {
     "data": {
      "text/html": [
       "<div>\n",
       "<style scoped>\n",
       "    .dataframe tbody tr th:only-of-type {\n",
       "        vertical-align: middle;\n",
       "    }\n",
       "\n",
       "    .dataframe tbody tr th {\n",
       "        vertical-align: top;\n",
       "    }\n",
       "\n",
       "    .dataframe thead th {\n",
       "        text-align: right;\n",
       "    }\n",
       "</style>\n",
       "<table border=\"1\" class=\"dataframe\">\n",
       "  <thead>\n",
       "    <tr style=\"text-align: right;\">\n",
       "      <th>year_of_release</th>\n",
       "      <th>2014.00</th>\n",
       "      <th>2015.00</th>\n",
       "      <th>2016.00</th>\n",
       "    </tr>\n",
       "    <tr>\n",
       "      <th>platform</th>\n",
       "      <th></th>\n",
       "      <th></th>\n",
       "      <th></th>\n",
       "    </tr>\n",
       "  </thead>\n",
       "  <tbody>\n",
       "    <tr>\n",
       "      <th>3ds</th>\n",
       "      <td>43.76</td>\n",
       "      <td>27.78</td>\n",
       "      <td>15.14</td>\n",
       "    </tr>\n",
       "    <tr>\n",
       "      <th>pc</th>\n",
       "      <td>13.28</td>\n",
       "      <td>8.52</td>\n",
       "      <td>5.25</td>\n",
       "    </tr>\n",
       "    <tr>\n",
       "      <th>ps3</th>\n",
       "      <td>47.76</td>\n",
       "      <td>16.82</td>\n",
       "      <td>3.60</td>\n",
       "    </tr>\n",
       "    <tr>\n",
       "      <th>ps4</th>\n",
       "      <td>100.00</td>\n",
       "      <td>118.90</td>\n",
       "      <td>69.25</td>\n",
       "    </tr>\n",
       "    <tr>\n",
       "      <th>psp</th>\n",
       "      <td>0.24</td>\n",
       "      <td>0.12</td>\n",
       "      <td>NaN</td>\n",
       "    </tr>\n",
       "    <tr>\n",
       "      <th>psv</th>\n",
       "      <td>11.90</td>\n",
       "      <td>6.25</td>\n",
       "      <td>4.25</td>\n",
       "    </tr>\n",
       "    <tr>\n",
       "      <th>wii</th>\n",
       "      <td>3.75</td>\n",
       "      <td>1.14</td>\n",
       "      <td>0.18</td>\n",
       "    </tr>\n",
       "    <tr>\n",
       "      <th>wiiu</th>\n",
       "      <td>22.03</td>\n",
       "      <td>16.35</td>\n",
       "      <td>4.60</td>\n",
       "    </tr>\n",
       "    <tr>\n",
       "      <th>x360</th>\n",
       "      <td>34.74</td>\n",
       "      <td>11.96</td>\n",
       "      <td>1.52</td>\n",
       "    </tr>\n",
       "    <tr>\n",
       "      <th>xone</th>\n",
       "      <td>54.07</td>\n",
       "      <td>60.14</td>\n",
       "      <td>26.15</td>\n",
       "    </tr>\n",
       "  </tbody>\n",
       "</table>\n",
       "</div>"
      ],
      "text/plain": [
       "year_of_release  2014.00  2015.00  2016.00\n",
       "platform                                  \n",
       "3ds                43.76    27.78    15.14\n",
       "pc                 13.28     8.52     5.25\n",
       "ps3                47.76    16.82     3.60\n",
       "ps4               100.00   118.90    69.25\n",
       "psp                 0.24     0.12      NaN\n",
       "psv                11.90     6.25     4.25\n",
       "wii                 3.75     1.14     0.18\n",
       "wiiu               22.03    16.35     4.60\n",
       "x360               34.74    11.96     1.52\n",
       "xone               54.07    60.14    26.15"
      ]
     },
     "metadata": {},
     "output_type": "display_data"
    },
    {
     "data": {
      "image/png": "[encoded data removed]",
      "text/plain": [
       "<Figure size 1152x720 with 1 Axes>"
      ]
     },
     "metadata": {
      "needs_background": "light"
     },
     "output_type": "display_data"
    }
   ],
   "source": [
    "# срез данных за актуальный период\n",
    "data_actual = data.query('year_of_release>=2014')\n",
    "# сводная таблица продаж по годам в разрезе платформ за актуальный период\n",
    "data_actual_sales = (\n",
    "                 data_actual\n",
    "                .pivot_table(index='platform',values='sum_sales',columns='year_of_release',aggfunc='sum')  \n",
    "                  )\n",
    "display(data_actual_sales)\n",
    "# визуализация динамики продаж игр за актуальный период\n",
    "data_actual_sales.T.plot(grid=True, figsize=(16,10),style='.-',fontsize=10,xticks=list(data_actual_sales.columns.values),\n",
    "                                                                    linewidth=1.5)\n",
    "plt.xticks (rotation=90)\n",
    "plt.ylabel('Продажи игр, млн.долл.')\n",
    "plt.title('Динамика продаж по годам')\n",
    "plt.show()"
   ]
  },
  {
   "cell_type": "markdown",
   "metadata": {},
   "source": [
    "В 2015г. - 2016г по объему продаж лидируют три платформы:\n",
    "- ps4,\n",
    "- xone,\n",
    "- 3ds. \n",
    "Остальные платформы значительно отстают.\n",
    "\n",
    "Учитываю динамику годов, предшествующих 2015 году, продажи платформ ps4,xone в прогнозируемом периоде будут  расти , в то время как продажи 3ds будут падать, продолжая динамику предыдущих периодов (  начиная с 2013 г. продажи платформы постепенно снижались).\n",
    "\n",
    "Платформы ps4,xone можно назвать потенциально прибыльными платформами.\n",
    "\n",
    "Исследуем распределение глобальных продаж в разрезе 5 наиболее популярных платформ за период с 2014 по 2016гг."
   ]
  },
  {
   "cell_type": "code",
   "execution_count": 27,
   "metadata": {
    "scrolled": false
   },
   "outputs": [
    {
     "data": {
      "text/html": [
       "<style  type=\"text/css\" >\n",
       "</style><table id=\"T_da775_\" ><caption>Статистики суммарных продаж в разрезе платформ</caption><thead>    <tr>        <th class=\"blank level0\" ></th>        <th class=\"col_heading level0 col0\" >mean</th>        <th class=\"col_heading level0 col1\" >var</th>        <th class=\"col_heading level0 col2\" >std</th>        <th class=\"col_heading level0 col3\" >median</th>    </tr>    <tr>        <th class=\"index_name level0\" >platform</th>        <th class=\"blank\" ></th>        <th class=\"blank\" ></th>        <th class=\"blank\" ></th>        <th class=\"blank\" ></th>    </tr></thead><tbody>\n",
       "                <tr>\n",
       "                        <th id=\"T_da775_level0_row0\" class=\"row_heading level0 row0\" >3ds</th>\n",
       "                        <td id=\"T_da775_row0_col0\" class=\"data row0 col0\" >0.408868</td>\n",
       "                        <td id=\"T_da775_row0_col1\" class=\"data row0 col1\" >1.412219</td>\n",
       "                        <td id=\"T_da775_row0_col2\" class=\"data row0 col2\" >1.188368</td>\n",
       "                        <td id=\"T_da775_row0_col3\" class=\"data row0 col3\" >0.090000</td>\n",
       "            </tr>\n",
       "            <tr>\n",
       "                        <th id=\"T_da775_level0_row1\" class=\"row_heading level0 row1\" >ps3</th>\n",
       "                        <td id=\"T_da775_row1_col0\" class=\"data row1 col0\" >0.311324</td>\n",
       "                        <td id=\"T_da775_row1_col1\" class=\"data row1 col1\" >0.400764</td>\n",
       "                        <td id=\"T_da775_row1_col2\" class=\"data row1 col2\" >0.633059</td>\n",
       "                        <td id=\"T_da775_row1_col3\" class=\"data row1 col3\" >0.110000</td>\n",
       "            </tr>\n",
       "            <tr>\n",
       "                        <th id=\"T_da775_level0_row2\" class=\"row_heading level0 row2\" >ps4</th>\n",
       "                        <td id=\"T_da775_row2_col0\" class=\"data row2 col0\" >0.766356</td>\n",
       "                        <td id=\"T_da775_row2_col1\" class=\"data row2 col1\" >2.608124</td>\n",
       "                        <td id=\"T_da775_row2_col2\" class=\"data row2 col2\" >1.614969</td>\n",
       "                        <td id=\"T_da775_row2_col3\" class=\"data row2 col3\" >0.185000</td>\n",
       "            </tr>\n",
       "            <tr>\n",
       "                        <th id=\"T_da775_level0_row3\" class=\"row_heading level0 row3\" >wiiu</th>\n",
       "                        <td id=\"T_da775_row3_col0\" class=\"data row3 col0\" >0.588767</td>\n",
       "                        <td id=\"T_da775_row3_col1\" class=\"data row3 col1\" >1.349005</td>\n",
       "                        <td id=\"T_da775_row3_col2\" class=\"data row3 col2\" >1.161467</td>\n",
       "                        <td id=\"T_da775_row3_col3\" class=\"data row3 col3\" >0.190000</td>\n",
       "            </tr>\n",
       "            <tr>\n",
       "                        <th id=\"T_da775_level0_row4\" class=\"row_heading level0 row4\" >xone</th>\n",
       "                        <td id=\"T_da775_row4_col0\" class=\"data row4 col0\" >0.615614</td>\n",
       "                        <td id=\"T_da775_row4_col1\" class=\"data row4 col1\" >1.095189</td>\n",
       "                        <td id=\"T_da775_row4_col2\" class=\"data row4 col2\" >1.046513</td>\n",
       "                        <td id=\"T_da775_row4_col3\" class=\"data row4 col3\" >0.205000</td>\n",
       "            </tr>\n",
       "    </tbody></table>"
      ],
      "text/plain": [
       "<pandas.io.formats.style.Styler at 0x7f88f5c574c0>"
      ]
     },
     "metadata": {},
     "output_type": "display_data"
    },
    {
     "data": {
      "image/png": "[encoded data removed]",
      "text/plain": [
       "<Figure size 2880x1800 with 1 Axes>"
      ]
     },
     "metadata": {
      "needs_background": "light"
     },
     "output_type": "display_data"
    },
    {
     "data": {
      "image/png": "[encoded data removed]",
      "text/plain": [
       "<Figure size 2880x1800 with 1 Axes>"
      ]
     },
     "metadata": {
      "needs_background": "light"
     },
     "output_type": "display_data"
    }
   ],
   "source": [
    "# сгруппируем данные о суммарных продажах по платформам за актуальный период для определения наиболее популярных платформ\n",
    "data_top_platform =data_actual.groupby('platform')['sum_sales'].sum().to_frame().sort_values(by='sum_sales',ascending=False).head()\n",
    "# список 5 популярных платформ за актуальный период\n",
    "top_platform = ['xone','ps3','wiiu','3ds','ps4'] \n",
    "\n",
    "# создадим  таблицу с информацией о среднем значении суммарных продаж, их дисперсии, стандартном отклонении в разрезе 5 популярных платформ \n",
    "stat_top_platform = data_actual.query('platform==@top_platform').groupby('platform')['sum_sales'].agg(['mean',np.var,np.std,'median'])\n",
    "display(stat_top_platform.style.set_caption('Статистики суммарных продаж в разрезе платформ'))\n",
    "\n",
    "# визуализация распределения продаж по платформам с ограничением по оси \n",
    "ax = data_actual.query('platform == @top_platform').boxplot(column=['sum_sales'], by='platform', fontsize=35, figsize=(40,25))\n",
    "ax.set_ylim([0,2.5])\n",
    "plt.suptitle('Boxplot глобальных продаж по платформам', y=0.94, fontsize=35, fontweight='bold')\n",
    "plt.show()\n",
    "# визуализация распределения продаж по платформам без ограничения по оси \n",
    "ax = data_actual.query('platform == @top_platform').boxplot(column=['sum_sales'], by='platform', fontsize=35, figsize=(40,25))\n",
    "plt.suptitle('Boxplot глобальных продаж по платформам', y=0.94, fontsize=35, fontweight='bold')\n",
    "plt.show()\n"
   ]
  },
  {
   "cell_type": "markdown",
   "metadata": {},
   "source": [
    "Типичная выручка с одной игры похожа на всех 5 рассматриваемых платформах и находиться в пределах от 0,09 млн. долл. до 0,2 млн.долл.\n",
    "\n",
    "Платформы 3ds и ps3 характеризуются меньшим объемом продаж с одной игры,в то время как для 3 оставшихся игровых платформ характерены более высокие объемы продаж с одной игры. \n",
    "\n",
    "На всех платформах есть аномально успешные игры, общая масса которых не превышает 0,7% от общего количества игр, выпущенных на платформе. Выручка таких игр может достигать от 2 до 9 млн.долл, а в редких случаях и  14 млн.долл. \n",
    "\n",
    "Исследуем влияние на продажи оценок критиков и пользователей на примере популярной платформы ps4. "
   ]
  },
  {
   "cell_type": "code",
   "execution_count": 29,
   "metadata": {},
   "outputs": [
    {
     "data": {
      "image/png": "[encoded data removed]",
      "text/plain": [
       "<Figure size 432x288 with 2 Axes>"
      ]
     },
     "metadata": {
      "needs_background": "light"
     },
     "output_type": "display_data"
    },
    {
     "data": {
      "image/png": "[encoded data removed]",
      "text/plain": [
       "<Figure size 1080x504 with 2 Axes>"
      ]
     },
     "metadata": {
      "needs_background": "light"
     },
     "output_type": "display_data"
    },
    {
     "data": {
      "image/png": "[encoded data removed]",
      "text/plain": [
       "<Figure size 1080x504 with 2 Axes>"
      ]
     },
     "metadata": {
      "needs_background": "light"
     },
     "output_type": "display_data"
    }
   ],
   "source": [
    "# рассчитаем коэффициент Пирсона для суммарных продаж ps3 и представим его в виде хитмэпа\n",
    "sns.heatmap(data_actual.query('platform ==\"ps4\"').corr()['sum_sales'].to_frame().sort_values(by='sum_sales',ascending=False), cmap=\"Greens\",\n",
    "           annot=True)\n",
    "plt.title('Влияние на продажи игр отзывов критиков и пользователей внутри ps4 ')\n",
    "plt.show()\n",
    "\n",
    "#построим диаграмму рассеивания для зависимоси суммарных продаж ps4 от оценок критиков\n",
    "data_actual.query('platform ==\"ps4\"').plot(x='critic_score',\n",
    "                        y='sum_sales', kind='hexbin', gridsize=90, figsize=(15,7), sharex=False, grid=True)\n",
    "plt.title('Влияние оценок критиков на продажи внутри ps4')\n",
    "plt.show()\n",
    "#построим диаграмму рассеивания для зависимоси суммарных продаж ps4 от оценок пользователей\n",
    "data_actual.query('platform ==\"ps4\"').plot(x='user_score',\n",
    "                        y='sum_sales', kind='hexbin', gridsize=90, figsize=(15,7), sharex=False, grid=True)\n",
    "plt.title('Влияние оценок пользователей на продажи внутри ps4')\n",
    "plt.show()"
   ]
  },
  {
   "cell_type": "markdown",
   "metadata": {},
   "source": [
    "Наибольшее влияние на продажи игр оказывают оценки критиков , но и для них коэффициент Пирсона равен всего 0,4, что говорит о средней силе корреляционной линейной связи.\n",
    "\n",
    "Оценки пользователей не имеют явной  линейной связи с продажами игр, коэффициент Пирсона стремиться к нулю.\n",
    "\n",
    "На диаграммах рассеяния данная картина сохраняется : есть большая масса игр с высокими оценками пользователей и критиков и таким же объемом продаж, как и у игр с низкими оценками. Только для определенной части игр при росте оценок растет и уровень продаж.\n",
    "\n",
    "Соотнесем данные выводы с ситуацией по остальным популярным платформам."
   ]
  },
  {
   "cell_type": "code",
   "execution_count": 30,
   "metadata": {},
   "outputs": [
    {
     "data": {
      "image/png": "[encoded data removed]",
      "text/plain": [
       "<Figure size 936x360 with 8 Axes>"
      ]
     },
     "metadata": {
      "needs_background": "light"
     },
     "output_type": "display_data"
    }
   ],
   "source": [
    "# список популярных платформ за актуальный период \n",
    "names = ['xone','ps3','wiiu','3ds']\n",
    "# зададим размер сетки для графиков\n",
    "plt.figure(figsize=(13, 5))\n",
    "# коэффициенты Пирсона в виде хитмэпа для продаж внутри xone\n",
    "ax1 = plt.subplot(2, 2, 1)\n",
    "sns.heatmap(data_actual[data_actual['platform']== 'xone'].corr()['sum_sales'].to_frame().sort_values(by='sum_sales',ascending=False), cmap=\"Greens\",\n",
    "           annot=True,ax=ax1)\n",
    "plt.title('xone')\n",
    "\n",
    "# коэффициенты Пирсона в виде хитмэпа для продаж внутри ps3\n",
    "ax2 = plt.subplot(2, 2, 2)\n",
    "sns.heatmap(data_actual[data_actual['platform']== 'ps3'].corr()['sum_sales'].to_frame().sort_values(by='sum_sales',ascending=False), cmap=\"Greens\",\n",
    "           annot=True,ax=ax2)\n",
    "plt.title('ps3')\n",
    "\n",
    "# коэффициенты Пирсона в виде хитмэпа для продаж внутри wiiu\n",
    "ax3 = plt.subplot(2, 2, 3)\n",
    "sns.heatmap(data_actual[data_actual['platform']== 'wiiu'].corr()['sum_sales'].to_frame().sort_values(by='sum_sales',ascending=False), cmap=\"Greens\",\n",
    "           annot=True,ax=ax3)\n",
    "plt.title('wiiu')\n",
    "\n",
    "# коэффициенты Пирсона в виде хитмэпа для продаж внутри 3ds\n",
    "ax4 = plt.subplot(2, 2, 4)\n",
    "sns.heatmap(data_actual[data_actual['platform']== '3ds'].corr()['sum_sales'].to_frame().sort_values(by='sum_sales',ascending=False), cmap=\"Greens\",\n",
    "           annot=True,ax=ax4)\n",
    "plt.title('3ds')\n",
    "\n",
    "plt.tight_layout()\n",
    "\n",
    "plt.show()\n"
   ]
  },
  {
   "cell_type": "markdown",
   "metadata": {},
   "source": [
    "На остальных популярных платформах также как и на PS4 наблюдается  средняя степень влияния оценок критиков (за искл. платформы PS3 - на ней влияние оценок критиков на продажи такое же низкое как и влияние оценок пользователей).\n",
    "\n",
    "Ситуация с оценками пользователей разнится от платформы к платформе. На xone и ps3, также как и на ps4,оценки пользователей не имеют влияния на продажи игр. Но на wiiu и 3ds оценки пользователей имеют среднюю степень корелляции с объемами продаж.  \n",
    "\n",
    "Исследуем распределение игр по жанрам."
   ]
  },
  {
   "cell_type": "code",
   "execution_count": 56,
   "metadata": {
    "scrolled": false
   },
   "outputs": [
    {
     "data": {
      "text/html": [
       "<style  type=\"text/css\" >\n",
       "</style><table id=\"T_fe3cf_\" ><caption>Суммарные продажи 2014-2016гг. в разбивке по жанрам </caption><thead>    <tr>        <th class=\"blank level0\" ></th>        <th class=\"col_heading level0 col0\" >sum_sales</th>        <th class=\"col_heading level0 col1\" >ratio</th>    </tr>    <tr>        <th class=\"index_name level0\" >genre</th>        <th class=\"blank\" ></th>        <th class=\"blank\" ></th>    </tr></thead><tbody>\n",
       "                <tr>\n",
       "                        <th id=\"T_fe3cf_level0_row0\" class=\"row_heading level0 row0\" >action</th>\n",
       "                        <td id=\"T_fe3cf_row0_col0\" class=\"data row0 col0\" >199.360000</td>\n",
       "                        <td id=\"T_fe3cf_row0_col1\" class=\"data row0 col1\" >27.330180</td>\n",
       "            </tr>\n",
       "            <tr>\n",
       "                        <th id=\"T_fe3cf_level0_row1\" class=\"row_heading level0 row1\" >shooter</th>\n",
       "                        <td id=\"T_fe3cf_row1_col0\" class=\"data row1 col0\" >170.940000</td>\n",
       "                        <td id=\"T_fe3cf_row1_col1\" class=\"data row1 col1\" >23.434094</td>\n",
       "            </tr>\n",
       "            <tr>\n",
       "                        <th id=\"T_fe3cf_level0_row2\" class=\"row_heading level0 row2\" >sports</th>\n",
       "                        <td id=\"T_fe3cf_row2_col0\" class=\"data row2 col0\" >109.480000</td>\n",
       "                        <td id=\"T_fe3cf_row2_col1\" class=\"data row2 col1\" >15.008568</td>\n",
       "            </tr>\n",
       "            <tr>\n",
       "                        <th id=\"T_fe3cf_level0_row3\" class=\"row_heading level0 row3\" >role-playing</th>\n",
       "                        <td id=\"T_fe3cf_row3_col0\" class=\"data row3 col0\" >101.440000</td>\n",
       "                        <td id=\"T_fe3cf_row3_col1\" class=\"data row3 col1\" >13.906368</td>\n",
       "            </tr>\n",
       "            <tr>\n",
       "                        <th id=\"T_fe3cf_level0_row4\" class=\"row_heading level0 row4\" >misc</th>\n",
       "                        <td id=\"T_fe3cf_row4_col0\" class=\"data row4 col0\" >37.550000</td>\n",
       "                        <td id=\"T_fe3cf_row4_col1\" class=\"data row4 col1\" >5.147714</td>\n",
       "            </tr>\n",
       "            <tr>\n",
       "                        <th id=\"T_fe3cf_level0_row5\" class=\"row_heading level0 row5\" >fighting</th>\n",
       "                        <td id=\"T_fe3cf_row5_col0\" class=\"data row5 col0\" >28.220000</td>\n",
       "                        <td id=\"T_fe3cf_row5_col1\" class=\"data row5 col1\" >3.868668</td>\n",
       "            </tr>\n",
       "            <tr>\n",
       "                        <th id=\"T_fe3cf_level0_row6\" class=\"row_heading level0 row6\" >racing</th>\n",
       "                        <td id=\"T_fe3cf_row6_col0\" class=\"data row6 col0\" >27.520000</td>\n",
       "                        <td id=\"T_fe3cf_row6_col1\" class=\"data row6 col1\" >3.772705</td>\n",
       "            </tr>\n",
       "            <tr>\n",
       "                        <th id=\"T_fe3cf_level0_row7\" class=\"row_heading level0 row7\" >platform</th>\n",
       "                        <td id=\"T_fe3cf_row7_col0\" class=\"data row7 col0\" >18.090000</td>\n",
       "                        <td id=\"T_fe3cf_row7_col1\" class=\"data row7 col1\" >2.479951</td>\n",
       "            </tr>\n",
       "            <tr>\n",
       "                        <th id=\"T_fe3cf_level0_row8\" class=\"row_heading level0 row8\" >adventure</th>\n",
       "                        <td id=\"T_fe3cf_row8_col0\" class=\"data row8 col0\" >17.550000</td>\n",
       "                        <td id=\"T_fe3cf_row8_col1\" class=\"data row8 col1\" >2.405922</td>\n",
       "            </tr>\n",
       "            <tr>\n",
       "                        <th id=\"T_fe3cf_level0_row9\" class=\"row_heading level0 row9\" >simulation</th>\n",
       "                        <td id=\"T_fe3cf_row9_col0\" class=\"data row9 col0\" >13.130000</td>\n",
       "                        <td id=\"T_fe3cf_row9_col1\" class=\"data row9 col1\" >1.799986</td>\n",
       "            </tr>\n",
       "            <tr>\n",
       "                        <th id=\"T_fe3cf_level0_row10\" class=\"row_heading level0 row10\" >strategy</th>\n",
       "                        <td id=\"T_fe3cf_row10_col0\" class=\"data row10 col0\" >3.960000</td>\n",
       "                        <td id=\"T_fe3cf_row10_col1\" class=\"data row10 col1\" >0.542875</td>\n",
       "            </tr>\n",
       "            <tr>\n",
       "                        <th id=\"T_fe3cf_level0_row11\" class=\"row_heading level0 row11\" >puzzle</th>\n",
       "                        <td id=\"T_fe3cf_row11_col0\" class=\"data row11 col0\" >2.210000</td>\n",
       "                        <td id=\"T_fe3cf_row11_col1\" class=\"data row11 col1\" >0.302968</td>\n",
       "            </tr>\n",
       "    </tbody></table>"
      ],
      "text/plain": [
       "<pandas.io.formats.style.Styler at 0x7f88b12ee640>"
      ]
     },
     "metadata": {},
     "output_type": "display_data"
    },
    {
     "data": {
      "text/html": [
       "<style  type=\"text/css\" >\n",
       "</style><table id=\"T_b6297_\" ><caption>Медиана продаж в разбивке по жанрам </caption><thead>    <tr>        <th class=\"blank level0\" ></th>        <th class=\"col_heading level0 col0\" >count</th>        <th class=\"col_heading level0 col1\" >median</th>    </tr>    <tr>        <th class=\"index_name level0\" >genre</th>        <th class=\"blank\" ></th>        <th class=\"blank\" ></th>    </tr></thead><tbody>\n",
       "                <tr>\n",
       "                        <th id=\"T_b6297_level0_row0\" class=\"row_heading level0 row0\" >action</th>\n",
       "                        <td id=\"T_b6297_row0_col0\" class=\"data row0 col0\" >619</td>\n",
       "                        <td id=\"T_b6297_row0_col1\" class=\"data row0 col1\" >0.090000</td>\n",
       "            </tr>\n",
       "            <tr>\n",
       "                        <th id=\"T_b6297_level0_row1\" class=\"row_heading level0 row1\" >role-playing</th>\n",
       "                        <td id=\"T_b6297_row1_col0\" class=\"data row1 col0\" >221</td>\n",
       "                        <td id=\"T_b6297_row1_col1\" class=\"data row1 col1\" >0.110000</td>\n",
       "            </tr>\n",
       "            <tr>\n",
       "                        <th id=\"T_b6297_level0_row2\" class=\"row_heading level0 row2\" >adventure</th>\n",
       "                        <td id=\"T_b6297_row2_col0\" class=\"data row2 col0\" >185</td>\n",
       "                        <td id=\"T_b6297_row2_col1\" class=\"data row2 col1\" >0.030000</td>\n",
       "            </tr>\n",
       "            <tr>\n",
       "                        <th id=\"T_b6297_level0_row3\" class=\"row_heading level0 row3\" >sports</th>\n",
       "                        <td id=\"T_b6297_row3_col0\" class=\"data row3 col0\" >161</td>\n",
       "                        <td id=\"T_b6297_row3_col1\" class=\"data row3 col1\" >0.180000</td>\n",
       "            </tr>\n",
       "            <tr>\n",
       "                        <th id=\"T_b6297_level0_row4\" class=\"row_heading level0 row4\" >shooter</th>\n",
       "                        <td id=\"T_b6297_row4_col0\" class=\"data row4 col0\" >128</td>\n",
       "                        <td id=\"T_b6297_row4_col1\" class=\"data row4 col1\" >0.515000</td>\n",
       "            </tr>\n",
       "            <tr>\n",
       "                        <th id=\"T_b6297_level0_row5\" class=\"row_heading level0 row5\" >misc</th>\n",
       "                        <td id=\"T_b6297_row5_col0\" class=\"data row5 col0\" >113</td>\n",
       "                        <td id=\"T_b6297_row5_col1\" class=\"data row5 col1\" >0.090000</td>\n",
       "            </tr>\n",
       "            <tr>\n",
       "                        <th id=\"T_b6297_level0_row6\" class=\"row_heading level0 row6\" >racing</th>\n",
       "                        <td id=\"T_b6297_row6_col0\" class=\"data row6 col0\" >69</td>\n",
       "                        <td id=\"T_b6297_row6_col1\" class=\"data row6 col1\" >0.090000</td>\n",
       "            </tr>\n",
       "            <tr>\n",
       "                        <th id=\"T_b6297_level0_row7\" class=\"row_heading level0 row7\" >fighting</th>\n",
       "                        <td id=\"T_b6297_row7_col0\" class=\"data row7 col0\" >60</td>\n",
       "                        <td id=\"T_b6297_row7_col1\" class=\"data row7 col1\" >0.125000</td>\n",
       "            </tr>\n",
       "            <tr>\n",
       "                        <th id=\"T_b6297_level0_row8\" class=\"row_heading level0 row8\" >simulation</th>\n",
       "                        <td id=\"T_b6297_row8_col0\" class=\"data row8 col0\" >44</td>\n",
       "                        <td id=\"T_b6297_row8_col1\" class=\"data row8 col1\" >0.100000</td>\n",
       "            </tr>\n",
       "            <tr>\n",
       "                        <th id=\"T_b6297_level0_row9\" class=\"row_heading level0 row9\" >platform</th>\n",
       "                        <td id=\"T_b6297_row9_col0\" class=\"data row9 col0\" >38</td>\n",
       "                        <td id=\"T_b6297_row9_col1\" class=\"data row9 col1\" >0.140000</td>\n",
       "            </tr>\n",
       "            <tr>\n",
       "                        <th id=\"T_b6297_level0_row10\" class=\"row_heading level0 row10\" >strategy</th>\n",
       "                        <td id=\"T_b6297_row10_col0\" class=\"data row10 col0\" >37</td>\n",
       "                        <td id=\"T_b6297_row10_col1\" class=\"data row10 col1\" >0.060000</td>\n",
       "            </tr>\n",
       "            <tr>\n",
       "                        <th id=\"T_b6297_level0_row11\" class=\"row_heading level0 row11\" >puzzle</th>\n",
       "                        <td id=\"T_b6297_row11_col0\" class=\"data row11 col0\" >14</td>\n",
       "                        <td id=\"T_b6297_row11_col1\" class=\"data row11 col1\" >0.045000</td>\n",
       "            </tr>\n",
       "    </tbody></table>"
      ],
      "text/plain": [
       "<pandas.io.formats.style.Styler at 0x7f88b11d8c10>"
      ]
     },
     "metadata": {},
     "output_type": "display_data"
    },
    {
     "data": {
      "image/png": "[encoded data removed]",
      "text/plain": [
       "<Figure size 2880x1800 with 1 Axes>"
      ]
     },
     "metadata": {
      "needs_background": "light"
     },
     "output_type": "display_data"
    }
   ],
   "source": [
    "# сгруппируем по жанрам суммарные продажи \n",
    "genre_sales = data_actual.pivot_table(index='genre',values='sum_sales',aggfunc=('sum')).sort_values(by='sum_sales',ascending=False)\n",
    "genre_sales['ratio'] = genre_sales['sum_sales']/genre_sales['sum_sales'].sum()*100\n",
    "display(genre_sales.style.set_caption('Суммарные продажи 2014-2016гг. в разбивке по жанрам '))\n",
    "\n",
    "# медианные продажи внутри жанров \n",
    "genre_median_sales = data_actual.pivot_table(index='genre',values='sum_sales',aggfunc=({'median','count'})).sort_values(by='count',ascending=False)\n",
    "#genre_median_sales = genre_median_sales.rename({'sum_sales': 'median_sales'}, axis=1)\n",
    "display(genre_median_sales.style.set_caption('Медиана продаж в разбивке по жанрам '))\n",
    "\n",
    "\n",
    "# визуализация распределения продаж по платформам с ограничением по оси \n",
    "ax = data_actual.boxplot(column=['sum_sales'], by='genre', fontsize=35, figsize=(40,25))\n",
    "plt.suptitle('Boxplot глобальных продаж по жанрам', y=0.94, fontsize=35, fontweight='bold')\n",
    "plt.show()"
   ]
  },
  {
   "cell_type": "markdown",
   "metadata": {},
   "source": [
    "Несмотря на то , что наибольшую долю в суммарных продажах (за счет количества) занимают игры жанра action ,жанром с самыми высокими продажами с одной игры является shooter. Половина игр данного жанра заработает за год более 0,52 млн.долл. выручки. Также в тройку лидеров по медианной выручки входят жанры sports, platform.\n",
    "\n",
    "Меньше всего выручки приносят  игры жанра adventure.\n"
   ]
  },
  {
   "cell_type": "markdown",
   "metadata": {},
   "source": [
    "## Портреты пользователей в разрезе регионов"
   ]
  },
  {
   "cell_type": "markdown",
   "metadata": {},
   "source": [
    "Определим портрет пользователя каждого региона для персонализации рекламных компаний, исследуя данные с 2006г по 2016г., определенные выше как актуальные."
   ]
  },
  {
   "cell_type": "code",
   "execution_count": 57,
   "metadata": {
    "scrolled": false
   },
   "outputs": [
    {
     "data": {
      "text/html": [
       "<style  type=\"text/css\" >\n",
       "</style><table id=\"T_e2b10_\" style='display:inline'><thead>    <tr>        <th class=\"blank level0\" ></th>        <th class=\"col_heading level0 col0\" >na_sales</th>        <th class=\"col_heading level0 col1\" >ratio</th>    </tr>    <tr>        <th class=\"index_name level0\" >genre</th>        <th class=\"blank\" ></th>        <th class=\"blank\" ></th>    </tr></thead><tbody>\n",
       "                <tr>\n",
       "                        <th id=\"T_e2b10_level0_row0\" class=\"row_heading level0 row0\" >shooter</th>\n",
       "                        <td id=\"T_e2b10_row0_col0\" class=\"data row0 col0\" >79.020000</td>\n",
       "                        <td id=\"T_e2b10_row0_col1\" class=\"data row0 col1\" >32.095857</td>\n",
       "            </tr>\n",
       "            <tr>\n",
       "                        <th id=\"T_e2b10_level0_row1\" class=\"row_heading level0 row1\" >action</th>\n",
       "                        <td id=\"T_e2b10_row1_col0\" class=\"data row1 col0\" >72.530000</td>\n",
       "                        <td id=\"T_e2b10_row1_col1\" class=\"data row1 col1\" >29.459789</td>\n",
       "            </tr>\n",
       "            <tr>\n",
       "                        <th id=\"T_e2b10_level0_row2\" class=\"row_heading level0 row2\" >sports</th>\n",
       "                        <td id=\"T_e2b10_row2_col0\" class=\"data row2 col0\" >46.130000</td>\n",
       "                        <td id=\"T_e2b10_row2_col1\" class=\"data row2 col1\" >18.736799</td>\n",
       "            </tr>\n",
       "            <tr>\n",
       "                        <th id=\"T_e2b10_level0_row3\" class=\"row_heading level0 row3\" >role-playing</th>\n",
       "                        <td id=\"T_e2b10_row3_col0\" class=\"data row3 col0\" >33.470000</td>\n",
       "                        <td id=\"T_e2b10_row3_col1\" class=\"data row3 col1\" >13.594639</td>\n",
       "            </tr>\n",
       "            <tr>\n",
       "                        <th id=\"T_e2b10_level0_row4\" class=\"row_heading level0 row4\" >misc</th>\n",
       "                        <td id=\"T_e2b10_row4_col0\" class=\"data row4 col0\" >15.050000</td>\n",
       "                        <td id=\"T_e2b10_row4_col1\" class=\"data row4 col1\" >6.112916</td>\n",
       "            </tr>\n",
       "    </tbody></table><style  type=\"text/css\" >\n",
       "</style><table id=\"T_131ac_\" style='display:inline'><thead>    <tr>        <th class=\"blank level0\" ></th>        <th class=\"col_heading level0 col0\" >eu_sales</th>        <th class=\"col_heading level0 col1\" >ratio</th>    </tr>    <tr>        <th class=\"index_name level0\" >genre</th>        <th class=\"blank\" ></th>        <th class=\"blank\" ></th>    </tr></thead><tbody>\n",
       "                <tr>\n",
       "                        <th id=\"T_131ac_level0_row0\" class=\"row_heading level0 row0\" >action</th>\n",
       "                        <td id=\"T_131ac_row0_col0\" class=\"data row0 col0\" >74.680000</td>\n",
       "                        <td id=\"T_131ac_row0_col1\" class=\"data row0 col1\" >32.721378</td>\n",
       "            </tr>\n",
       "            <tr>\n",
       "                        <th id=\"T_131ac_level0_row1\" class=\"row_heading level0 row1\" >shooter</th>\n",
       "                        <td id=\"T_131ac_row1_col0\" class=\"data row1 col0\" >65.520000</td>\n",
       "                        <td id=\"T_131ac_row1_col1\" class=\"data row1 col1\" >28.707882</td>\n",
       "            </tr>\n",
       "            <tr>\n",
       "                        <th id=\"T_131ac_level0_row2\" class=\"row_heading level0 row2\" >sports</th>\n",
       "                        <td id=\"T_131ac_row2_col0\" class=\"data row2 col0\" >45.730000</td>\n",
       "                        <td id=\"T_131ac_row2_col1\" class=\"data row2 col1\" >20.036805</td>\n",
       "            </tr>\n",
       "            <tr>\n",
       "                        <th id=\"T_131ac_level0_row3\" class=\"row_heading level0 row3\" >role-playing</th>\n",
       "                        <td id=\"T_131ac_row3_col0\" class=\"data row3 col0\" >28.170000</td>\n",
       "                        <td id=\"T_131ac_row3_col1\" class=\"data row3 col1\" >12.342812</td>\n",
       "            </tr>\n",
       "            <tr>\n",
       "                        <th id=\"T_131ac_level0_row4\" class=\"row_heading level0 row4\" >racing</th>\n",
       "                        <td id=\"T_131ac_row4_col0\" class=\"data row4 col0\" >14.130000</td>\n",
       "                        <td id=\"T_131ac_row4_col1\" class=\"data row4 col1\" >6.191123</td>\n",
       "            </tr>\n",
       "    </tbody></table><style  type=\"text/css\" >\n",
       "</style><table id=\"T_160f0_\" style='display:inline'><thead>    <tr>        <th class=\"blank level0\" ></th>        <th class=\"col_heading level0 col0\" >jp_sales</th>        <th class=\"col_heading level0 col1\" >ratio</th>    </tr>    <tr>        <th class=\"index_name level0\" >genre</th>        <th class=\"blank\" ></th>        <th class=\"blank\" ></th>    </tr></thead><tbody>\n",
       "                <tr>\n",
       "                        <th id=\"T_160f0_level0_row0\" class=\"row_heading level0 row0\" >role-playing</th>\n",
       "                        <td id=\"T_160f0_row0_col0\" class=\"data row0 col0\" >31.160000</td>\n",
       "                        <td id=\"T_160f0_row0_col1\" class=\"data row0 col1\" >40.159814</td>\n",
       "            </tr>\n",
       "            <tr>\n",
       "                        <th id=\"T_160f0_level0_row1\" class=\"row_heading level0 row1\" >action</th>\n",
       "                        <td id=\"T_160f0_row1_col0\" class=\"data row1 col0\" >29.580000</td>\n",
       "                        <td id=\"T_160f0_row1_col1\" class=\"data row1 col1\" >38.123470</td>\n",
       "            </tr>\n",
       "            <tr>\n",
       "                        <th id=\"T_160f0_level0_row2\" class=\"row_heading level0 row2\" >fighting</th>\n",
       "                        <td id=\"T_160f0_row2_col0\" class=\"data row2 col0\" >6.370000</td>\n",
       "                        <td id=\"T_160f0_row2_col1\" class=\"data row2 col1\" >8.209821</td>\n",
       "            </tr>\n",
       "            <tr>\n",
       "                        <th id=\"T_160f0_level0_row3\" class=\"row_heading level0 row3\" >misc</th>\n",
       "                        <td id=\"T_160f0_row3_col0\" class=\"data row3 col0\" >5.610000</td>\n",
       "                        <td id=\"T_160f0_row3_col1\" class=\"data row3 col1\" >7.230313</td>\n",
       "            </tr>\n",
       "            <tr>\n",
       "                        <th id=\"T_160f0_level0_row4\" class=\"row_heading level0 row4\" >shooter</th>\n",
       "                        <td id=\"T_160f0_row4_col0\" class=\"data row4 col0\" >4.870000</td>\n",
       "                        <td id=\"T_160f0_row4_col1\" class=\"data row4 col1\" >6.276582</td>\n",
       "            </tr>\n",
       "    </tbody></table>"
      ]
     },
     "metadata": {},
     "output_type": "display_data"
    },
    {
     "data": {
      "image/png": "[encoded data removed]",
      "text/plain": [
       "<Figure size 1224x432 with 3 Axes>"
      ]
     },
     "metadata": {
      "needs_background": "light"
     },
     "output_type": "display_data"
    }
   ],
   "source": [
    "\n",
    "# суммарные продажи и доля продаж по жанрам игр в Северной Америке, топ-5\n",
    "na_genre=data_actual.groupby('genre').sum()['na_sales'].to_frame().sort_values(by='na_sales',ascending=False).head()\n",
    "na_genre['ratio'] = na_genre['na_sales']/na_genre['na_sales'].sum()*100\n",
    "\n",
    "# суммарные продажи и доля продаж по жанрам игр в Европе, топ-5\n",
    "eu_genre=data_actual.groupby('genre').sum()['eu_sales'].to_frame().sort_values(by='eu_sales',ascending=False).head()\n",
    "eu_genre['ratio'] = eu_genre['eu_sales']/eu_genre['eu_sales'].sum()*100\n",
    "\n",
    "# суммарные продажи и доля продаж по жанрам игр в Японии, топ-5\n",
    "jp_genre=data_actual.groupby('genre').sum()['jp_sales'].to_frame().sort_values(by='jp_sales',ascending=False).head()\n",
    "jp_genre['ratio'] = jp_genre['jp_sales']/jp_genre['jp_sales'].sum()*100\n",
    "\n",
    "# настройка вывода датафреймов \n",
    "na_genre_st = na_genre.style.set_table_attributes(\"style='display:inline'\")\n",
    "eu_genre_st = eu_genre.style.set_table_attributes(\"style='display:inline'\")\n",
    "jp_genre_st = jp_genre.style.set_table_attributes(\"style='display:inline'\")\n",
    "#вывод объединенного html-представления\n",
    "display_html(na_genre_st._repr_html_()+eu_genre_st._repr_html_()+jp_genre_st._repr_html_(),raw=True)\n",
    "\n",
    "# зададим размер сетки для графиков\n",
    "plt.figure(figsize=(17, 6))\n",
    "# визуализация продаж и их долей в разрезе жанров в Северной Америке\n",
    "ax1 = plt.subplot(1, 3, 1)\n",
    "na_genre.plot(kind='bar', ax=ax1)\n",
    "plt.title('Продажи игр по жанрам в Северной Америке')\n",
    "plt.ylabel('Продажи, млн.долл./Доля продаж,%')\n",
    "\n",
    "# визуализация продаж и их долей в разрезе жанров в Европе\n",
    "ax2 = plt.subplot(1, 3, 2,sharey=ax1)\n",
    "eu_genre.plot(kind='bar', ax=ax2)\n",
    "plt.title('Продажи игр по жанрам в Европе')\n",
    "\n",
    "# визуализация продаж и их долей в разрезе жанров в Японии\n",
    "ax3 = plt.subplot(1, 3, 3,sharey=ax1)\n",
    "jp_genre.plot(kind='bar', ax=ax3)\n",
    "plt.title('Продажи игр по жанрам в Японии')\n",
    "plt.show()"
   ]
  },
  {
   "cell_type": "markdown",
   "metadata": {},
   "source": [
    "Популярные жанры игр в Северной Америке и Европе в основном совпадают - это игры в жанре action,sports,shooter,role-playing.\n",
    "5 место по продажам в Северной америке занимают игры жанра misc, а в Европе racing\t.\n",
    "Распределение жаров по долям продаж также в данных двух регионов примерно одинаковое, различие состоит от 1 до 4 процентных пункта на категорию.\n",
    "\n",
    "Портрет пользователей Японии значительнее отличается от пользователей Северной Америки и Европы.\n",
    "Наибольшая доля продаж в Японии приходится на игры жанра role-playing и составляет 40% рынка,38% рынка занимают игры жанра action. Небольшие доли рынка приходятся на игры жанров fighting, misc, shooter. В сравнении с Японией в Северной Америке и Европе наблюдается более равномерное распределение жанровых пристрастий пользователей. \n"
   ]
  },
  {
   "cell_type": "code",
   "execution_count": 58,
   "metadata": {
    "scrolled": false
   },
   "outputs": [
    {
     "data": {
      "text/html": [
       "<style  type=\"text/css\" >\n",
       "</style><table id=\"T_8c22c_\" style='display:inline'><thead>    <tr>        <th class=\"blank level0\" ></th>        <th class=\"col_heading level0 col0\" >na_sales</th>        <th class=\"col_heading level0 col1\" >ratio</th>    </tr>    <tr>        <th class=\"index_name level0\" >platform</th>        <th class=\"blank\" ></th>        <th class=\"blank\" ></th>    </tr></thead><tbody>\n",
       "                <tr>\n",
       "                        <th id=\"T_8c22c_level0_row0\" class=\"row_heading level0 row0\" >ps4</th>\n",
       "                        <td id=\"T_8c22c_row0_col0\" class=\"data row0 col0\" >98.610000</td>\n",
       "                        <td id=\"T_8c22c_row0_col1\" class=\"data row0 col1\" >38.996322</td>\n",
       "            </tr>\n",
       "            <tr>\n",
       "                        <th id=\"T_8c22c_level0_row1\" class=\"row_heading level0 row1\" >xone</th>\n",
       "                        <td id=\"T_8c22c_row1_col0\" class=\"data row1 col0\" >81.270000</td>\n",
       "                        <td id=\"T_8c22c_row1_col1\" class=\"data row1 col1\" >32.139044</td>\n",
       "            </tr>\n",
       "            <tr>\n",
       "                        <th id=\"T_8c22c_level0_row2\" class=\"row_heading level0 row2\" >x360</th>\n",
       "                        <td id=\"T_8c22c_row2_col0\" class=\"data row2 col0\" >28.300000</td>\n",
       "                        <td id=\"T_8c22c_row2_col1\" class=\"data row2 col1\" >11.191521</td>\n",
       "            </tr>\n",
       "            <tr>\n",
       "                        <th id=\"T_8c22c_level0_row3\" class=\"row_heading level0 row3\" >3ds</th>\n",
       "                        <td id=\"T_8c22c_row3_col0\" class=\"data row3 col0\" >22.640000</td>\n",
       "                        <td id=\"T_8c22c_row3_col1\" class=\"data row3 col1\" >8.953217</td>\n",
       "            </tr>\n",
       "            <tr>\n",
       "                        <th id=\"T_8c22c_level0_row4\" class=\"row_heading level0 row4\" >ps3</th>\n",
       "                        <td id=\"T_8c22c_row4_col0\" class=\"data row4 col0\" >22.050000</td>\n",
       "                        <td id=\"T_8c22c_row4_col1\" class=\"data row4 col1\" >8.719896</td>\n",
       "            </tr>\n",
       "    </tbody></table><style  type=\"text/css\" >\n",
       "</style><table id=\"T_d8950_\" style='display:inline'><thead>    <tr>        <th class=\"blank level0\" ></th>        <th class=\"col_heading level0 col0\" >eu_sales</th>        <th class=\"col_heading level0 col1\" >ratio</th>    </tr>    <tr>        <th class=\"index_name level0\" >platform</th>        <th class=\"blank\" ></th>        <th class=\"blank\" ></th>    </tr></thead><tbody>\n",
       "                <tr>\n",
       "                        <th id=\"T_d8950_level0_row0\" class=\"row_heading level0 row0\" >ps4</th>\n",
       "                        <td id=\"T_d8950_row0_col0\" class=\"data row0 col0\" >130.040000</td>\n",
       "                        <td id=\"T_d8950_row0_col1\" class=\"data row0 col1\" >55.120380</td>\n",
       "            </tr>\n",
       "            <tr>\n",
       "                        <th id=\"T_d8950_level0_row1\" class=\"row_heading level0 row1\" >xone</th>\n",
       "                        <td id=\"T_d8950_row1_col0\" class=\"data row1 col0\" >46.250000</td>\n",
       "                        <td id=\"T_d8950_row1_col1\" class=\"data row1 col1\" >19.604103</td>\n",
       "            </tr>\n",
       "            <tr>\n",
       "                        <th id=\"T_d8950_level0_row2\" class=\"row_heading level0 row2\" >ps3</th>\n",
       "                        <td id=\"T_d8950_row2_col0\" class=\"data row2 col0\" >25.540000</td>\n",
       "                        <td id=\"T_d8950_row2_col1\" class=\"data row2 col1\" >10.825704</td>\n",
       "            </tr>\n",
       "            <tr>\n",
       "                        <th id=\"T_d8950_level0_row3\" class=\"row_heading level0 row3\" >pc</th>\n",
       "                        <td id=\"T_d8950_row3_col0\" class=\"data row3 col0\" >17.970000</td>\n",
       "                        <td id=\"T_d8950_row3_col1\" class=\"data row3 col1\" >7.616989</td>\n",
       "            </tr>\n",
       "            <tr>\n",
       "                        <th id=\"T_d8950_level0_row4\" class=\"row_heading level0 row4\" >3ds</th>\n",
       "                        <td id=\"T_d8950_row4_col0\" class=\"data row4 col0\" >16.120000</td>\n",
       "                        <td id=\"T_d8950_row4_col1\" class=\"data row4 col1\" >6.832825</td>\n",
       "            </tr>\n",
       "    </tbody></table><style  type=\"text/css\" >\n",
       "</style><table id=\"T_ec2f0_\" style='display:inline'><thead>    <tr>        <th class=\"blank level0\" ></th>        <th class=\"col_heading level0 col0\" >jp_sales</th>        <th class=\"col_heading level0 col1\" >ratio</th>    </tr>    <tr>        <th class=\"index_name level0\" >platform</th>        <th class=\"blank\" ></th>        <th class=\"blank\" ></th>    </tr></thead><tbody>\n",
       "                <tr>\n",
       "                        <th id=\"T_ec2f0_level0_row0\" class=\"row_heading level0 row0\" >3ds</th>\n",
       "                        <td id=\"T_ec2f0_row0_col0\" class=\"data row0 col0\" >44.240000</td>\n",
       "                        <td id=\"T_ec2f0_row0_col1\" class=\"data row0 col1\" >47.915087</td>\n",
       "            </tr>\n",
       "            <tr>\n",
       "                        <th id=\"T_ec2f0_level0_row1\" class=\"row_heading level0 row1\" >ps4</th>\n",
       "                        <td id=\"T_ec2f0_row1_col0\" class=\"data row1 col0\" >15.020000</td>\n",
       "                        <td id=\"T_ec2f0_row1_col1\" class=\"data row1 col1\" >16.267735</td>\n",
       "            </tr>\n",
       "            <tr>\n",
       "                        <th id=\"T_ec2f0_level0_row2\" class=\"row_heading level0 row2\" >psv</th>\n",
       "                        <td id=\"T_ec2f0_row2_col0\" class=\"data row2 col0\" >14.540000</td>\n",
       "                        <td id=\"T_ec2f0_row2_col1\" class=\"data row2 col1\" >15.747861</td>\n",
       "            </tr>\n",
       "            <tr>\n",
       "                        <th id=\"T_ec2f0_level0_row3\" class=\"row_heading level0 row3\" >ps3</th>\n",
       "                        <td id=\"T_ec2f0_row3_col0\" class=\"data row3 col0\" >11.220000</td>\n",
       "                        <td id=\"T_ec2f0_row3_col1\" class=\"data row3 col1\" >12.152063</td>\n",
       "            </tr>\n",
       "            <tr>\n",
       "                        <th id=\"T_ec2f0_level0_row4\" class=\"row_heading level0 row4\" >wiiu</th>\n",
       "                        <td id=\"T_ec2f0_row4_col0\" class=\"data row4 col0\" >7.310000</td>\n",
       "                        <td id=\"T_ec2f0_row4_col1\" class=\"data row4 col1\" >7.917253</td>\n",
       "            </tr>\n",
       "    </tbody></table>"
      ]
     },
     "metadata": {},
     "output_type": "display_data"
    },
    {
     "data": {
      "image/png": "[encoded data removed]",
      "text/plain": [
       "<Figure size 1224x432 with 3 Axes>"
      ]
     },
     "metadata": {
      "needs_background": "light"
     },
     "output_type": "display_data"
    }
   ],
   "source": [
    "# суммарные продажи и доля продаж по платформам в Северной Америке, топ-5\n",
    "na_platform=data_actual.groupby('platform').sum()['na_sales'].to_frame().sort_values(by='na_sales',ascending=False).head()\n",
    "na_platform['ratio'] = na_platform['na_sales']/na_platform['na_sales'].sum()*100\n",
    "\n",
    "# суммарные продажи и доля продаж по платформам в Европе, топ-5\n",
    "eu_platform=data_actual.groupby('platform').sum()['eu_sales'].to_frame().sort_values(by='eu_sales',ascending=False).head()\n",
    "eu_platform['ratio'] = eu_platform['eu_sales']/eu_platform['eu_sales'].sum()*100\n",
    "\n",
    "# суммарные продажи и доля продаж по платформам в Японии, топ-5\n",
    "jp_platform=data_actual.groupby('platform').sum()['jp_sales'].to_frame().sort_values(by='jp_sales',ascending=False).head()\n",
    "jp_platform['ratio'] = jp_platform['jp_sales']/jp_platform['jp_sales'].sum()*100\n",
    "\n",
    "# настройка вывода датафреймов \n",
    "na_platform_st = na_platform.style.set_table_attributes(\"style='display:inline'\")\n",
    "eu_platform_st = eu_platform.style.set_table_attributes(\"style='display:inline'\")\n",
    "jp_platform_st = jp_platform.style.set_table_attributes(\"style='display:inline'\")\n",
    "#вывод объединенного html-представления\n",
    "display_html(na_platform_st._repr_html_()+eu_platform_st._repr_html_()+jp_platform_st._repr_html_(),raw=True)\n",
    "\n",
    "# зададим размер сетки для графиков\n",
    "plt.figure(figsize=(17, 6))\n",
    "# визуализация продаж и их долей в разрезе платформ в Северной Америке\n",
    "ax1 = plt.subplot(1, 3, 1)\n",
    "na_platform.plot(kind='bar', ax=ax1)\n",
    "plt.title('Продажи игр внутри платформ в Северной Америке')\n",
    "plt.ylabel('Продажи, млн.долл./Доля продаж,%')\n",
    "\n",
    "# визуализация продаж и их долей в разрезе платформ в Европе\n",
    "ax2 = plt.subplot(1, 3, 2,sharey=ax1)\n",
    "eu_platform.plot(kind='bar', ax=ax2)\n",
    "plt.title('Продажи игр внутри платформ в Европе')\n",
    "\n",
    "# визуализация продаж и их долей в разрезе платформ в Японии\n",
    "ax3 = plt.subplot(1, 3, 3,sharey=ax1)\n",
    "jp_platform.plot(kind='bar', ax=ax3)\n",
    "plt.title('Продажи игр внутри платформ в Японии')\n",
    "plt.show()"
   ]
  },
  {
   "cell_type": "markdown",
   "metadata": {},
   "source": [
    "Две самые популярные платформы в Северной Америке и Европе совпадают :ps4,xone. Причем на рынке Европы ps4 занимает более половины рынка по суммарным продажам - 55%.\n",
    "\n",
    "Самая популярная платформа на рынке Японии - это 3ds, в то время как на рынках Америки и Европы она занимает лишь 4-5 место по продажам.Вторая по популярности платформа в Японии - это ps4. Можно сказать, что эта платформа универсальна с точки зрения рекламных компаний. \n",
    "\n",
    "Исследуем как влияет рейтинг ESRB на продажи в отдельном регионе."
   ]
  },
  {
   "cell_type": "code",
   "execution_count": 59,
   "metadata": {},
   "outputs": [
    {
     "data": {
      "text/html": [
       "<style  type=\"text/css\" >\n",
       "</style><table id=\"T_9b03d_\" style='display:inline'><thead>    <tr>        <th class=\"blank level0\" ></th>        <th class=\"col_heading level0 col0\" >na_sales</th>        <th class=\"col_heading level0 col1\" >ratio</th>    </tr>    <tr>        <th class=\"index_name level0\" >rating</th>        <th class=\"blank\" ></th>        <th class=\"blank\" ></th>    </tr></thead><tbody>\n",
       "                <tr>\n",
       "                        <th id=\"T_9b03d_level0_row0\" class=\"row_heading level0 row0\" >m</th>\n",
       "                        <td id=\"T_9b03d_row0_col0\" class=\"data row0 col0\" >96.420000</td>\n",
       "                        <td id=\"T_9b03d_row0_col1\" class=\"data row0 col1\" >33.943533</td>\n",
       "            </tr>\n",
       "            <tr>\n",
       "                        <th id=\"T_9b03d_level0_row1\" class=\"row_heading level0 row1\" >gap</th>\n",
       "                        <td id=\"T_9b03d_row1_col0\" class=\"data row1 col0\" >64.720000</td>\n",
       "                        <td id=\"T_9b03d_row1_col1\" class=\"data row1 col1\" >22.783919</td>\n",
       "            </tr>\n",
       "            <tr>\n",
       "                        <th id=\"T_9b03d_level0_row2\" class=\"row_heading level0 row2\" >e</th>\n",
       "                        <td id=\"T_9b03d_row2_col0\" class=\"data row2 col0\" >50.740000</td>\n",
       "                        <td id=\"T_9b03d_row2_col1\" class=\"data row2 col1\" >17.862423</td>\n",
       "            </tr>\n",
       "            <tr>\n",
       "                        <th id=\"T_9b03d_level0_row3\" class=\"row_heading level0 row3\" >t</th>\n",
       "                        <td id=\"T_9b03d_row3_col0\" class=\"data row3 col0\" >38.950000</td>\n",
       "                        <td id=\"T_9b03d_row3_col1\" class=\"data row3 col1\" >13.711892</td>\n",
       "            </tr>\n",
       "            <tr>\n",
       "                        <th id=\"T_9b03d_level0_row4\" class=\"row_heading level0 row4\" >e10+</th>\n",
       "                        <td id=\"T_9b03d_row4_col0\" class=\"data row4 col0\" >33.230000</td>\n",
       "                        <td id=\"T_9b03d_row4_col1\" class=\"data row4 col1\" >11.698233</td>\n",
       "            </tr>\n",
       "    </tbody></table><style  type=\"text/css\" >\n",
       "</style><table id=\"T_d2e9a_\" style='display:inline'><thead>    <tr>        <th class=\"blank level0\" ></th>        <th class=\"col_heading level0 col0\" >eu_sales</th>        <th class=\"col_heading level0 col1\" >ratio</th>    </tr>    <tr>        <th class=\"index_name level0\" >rating</th>        <th class=\"blank\" ></th>        <th class=\"blank\" ></th>    </tr></thead><tbody>\n",
       "                <tr>\n",
       "                        <th id=\"T_d2e9a_level0_row0\" class=\"row_heading level0 row0\" >m</th>\n",
       "                        <td id=\"T_d2e9a_row0_col0\" class=\"data row0 col0\" >93.440000</td>\n",
       "                        <td id=\"T_d2e9a_row0_col1\" class=\"data row0 col1\" >34.520467</td>\n",
       "            </tr>\n",
       "            <tr>\n",
       "                        <th id=\"T_d2e9a_level0_row1\" class=\"row_heading level0 row1\" >gap</th>\n",
       "                        <td id=\"T_d2e9a_row1_col0\" class=\"data row1 col0\" >58.950000</td>\n",
       "                        <td id=\"T_d2e9a_row1_col1\" class=\"data row1 col1\" >21.778484</td>\n",
       "            </tr>\n",
       "            <tr>\n",
       "                        <th id=\"T_d2e9a_level0_row2\" class=\"row_heading level0 row2\" >e</th>\n",
       "                        <td id=\"T_d2e9a_row2_col0\" class=\"data row2 col0\" >58.060000</td>\n",
       "                        <td id=\"T_d2e9a_row2_col1\" class=\"data row2 col1\" >21.449682</td>\n",
       "            </tr>\n",
       "            <tr>\n",
       "                        <th id=\"T_d2e9a_level0_row3\" class=\"row_heading level0 row3\" >t</th>\n",
       "                        <td id=\"T_d2e9a_row3_col0\" class=\"data row3 col0\" >34.070000</td>\n",
       "                        <td id=\"T_d2e9a_row3_col1\" class=\"data row3 col1\" >12.586818</td>\n",
       "            </tr>\n",
       "            <tr>\n",
       "                        <th id=\"T_d2e9a_level0_row4\" class=\"row_heading level0 row4\" >e10+</th>\n",
       "                        <td id=\"T_d2e9a_row4_col0\" class=\"data row4 col0\" >26.160000</td>\n",
       "                        <td id=\"T_d2e9a_row4_col1\" class=\"data row4 col1\" >9.664549</td>\n",
       "            </tr>\n",
       "    </tbody></table><style  type=\"text/css\" >\n",
       "</style><table id=\"T_65b61_\" style='display:inline'><thead>    <tr>        <th class=\"blank level0\" ></th>        <th class=\"col_heading level0 col0\" >jp_sales</th>        <th class=\"col_heading level0 col1\" >ratio</th>    </tr>    <tr>        <th class=\"index_name level0\" >rating</th>        <th class=\"blank\" ></th>        <th class=\"blank\" ></th>    </tr></thead><tbody>\n",
       "                <tr>\n",
       "                        <th id=\"T_65b61_level0_row0\" class=\"row_heading level0 row0\" >gap</th>\n",
       "                        <td id=\"T_65b61_row0_col0\" class=\"data row0 col0\" >56.900000</td>\n",
       "                        <td id=\"T_65b61_row0_col1\" class=\"data row0 col1\" >61.123644</td>\n",
       "            </tr>\n",
       "            <tr>\n",
       "                        <th id=\"T_65b61_level0_row1\" class=\"row_heading level0 row1\" >t</th>\n",
       "                        <td id=\"T_65b61_row1_col0\" class=\"data row1 col0\" >14.780000</td>\n",
       "                        <td id=\"T_65b61_row1_col1\" class=\"data row1 col1\" >15.877108</td>\n",
       "            </tr>\n",
       "            <tr>\n",
       "                        <th id=\"T_65b61_level0_row2\" class=\"row_heading level0 row2\" >e</th>\n",
       "                        <td id=\"T_65b61_row2_col0\" class=\"data row2 col0\" >8.940000</td>\n",
       "                        <td id=\"T_65b61_row2_col1\" class=\"data row2 col1\" >9.603609</td>\n",
       "            </tr>\n",
       "            <tr>\n",
       "                        <th id=\"T_65b61_level0_row3\" class=\"row_heading level0 row3\" >m</th>\n",
       "                        <td id=\"T_65b61_row3_col0\" class=\"data row3 col0\" >8.010000</td>\n",
       "                        <td id=\"T_65b61_row3_col1\" class=\"data row3 col1\" >8.604576</td>\n",
       "            </tr>\n",
       "            <tr>\n",
       "                        <th id=\"T_65b61_level0_row4\" class=\"row_heading level0 row4\" >e10+</th>\n",
       "                        <td id=\"T_65b61_row4_col0\" class=\"data row4 col0\" >4.460000</td>\n",
       "                        <td id=\"T_65b61_row4_col1\" class=\"data row4 col1\" >4.791062</td>\n",
       "            </tr>\n",
       "    </tbody></table>"
      ]
     },
     "metadata": {},
     "output_type": "display_data"
    },
    {
     "data": {
      "image/png": "[encoded data removed]",
      "text/plain": [
       "<Figure size 1296x576 with 3 Axes>"
      ]
     },
     "metadata": {
      "needs_background": "light"
     },
     "output_type": "display_data"
    }
   ],
   "source": [
    "# суммарные продажи и доля продаж в разрезе рейтинга ESRB в Северной Америке\n",
    "na_raiting = data_actual.groupby('rating')['na_sales'].sum().to_frame().sort_values(by='na_sales',ascending=False)\n",
    "na_raiting['ratio'] = na_raiting['na_sales']/na_raiting['na_sales'].sum()*100\n",
    "\n",
    "# суммарные продажи и доля продаж в разрезе рейтинга ESRB в Европе\n",
    "eu_raiting = data_actual.groupby('rating')['eu_sales'].sum().to_frame().sort_values(by='eu_sales',ascending=False)\n",
    "eu_raiting['ratio'] = eu_raiting['eu_sales']/eu_raiting['eu_sales'].sum()*100\n",
    "\n",
    "# суммарные продажи и доля продаж в разрезе рейтинга ESRB в Японии\n",
    "jp_raiting = data_actual.groupby('rating')['jp_sales'].sum().to_frame().sort_values(by='jp_sales',ascending=False)\n",
    "jp_raiting['ratio'] = jp_raiting['jp_sales']/jp_raiting['jp_sales'].sum()*100\n",
    "\n",
    "# настройка вывода датафреймов\n",
    "na_raiting_st = na_raiting.style.set_table_attributes(\"style='display:inline'\")\n",
    "eu_raiting_st = eu_raiting.style.set_table_attributes(\"style='display:inline'\")\n",
    "jp_raiting_st = jp_raiting.style.set_table_attributes(\"style='display:inline'\")\n",
    "#вывод объединенного html-представления\n",
    "display_html(na_raiting_st._repr_html_()+eu_raiting_st._repr_html_()+jp_raiting_st._repr_html_(),raw=True)\n",
    "\n",
    "# зададим размер сетки для графиков\n",
    "plt.figure(figsize=(18, 8))\n",
    "\n",
    "# визуализация продаж и их долей в разрезе рейтинга игр в Северной Америке\n",
    "ax1 = plt.subplot(1, 3, 1)\n",
    "na_raiting.plot(kind='bar', ax=ax1)\n",
    "plt.title('Продажи игр в разрезе рейтингов ESRB в Северной Америке')\n",
    "\n",
    "# визуализация продаж и их долей в разрезе рейтинга игр в Европе\n",
    "ax2 = plt.subplot(1, 3, 2,sharey=ax1)\n",
    "eu_raiting.plot(kind='bar', ax=ax2)\n",
    "plt.title('Продажи игр в разрезе рейтингов ESRB в Европе')\n",
    "\n",
    "# визуализация продаж и их долей в разрезе рейтинга игр в Японии\n",
    "ax3 = plt.subplot(1, 3, 3,sharey=ax1)\n",
    "jp_raiting.plot(kind='bar', ax=ax3)\n",
    "plt.title('Продажи игр в разрезе рейтингов ESRB в Японии')\n",
    "plt.show()"
   ]
  },
  {
   "cell_type": "markdown",
   "metadata": {},
   "source": [
    "Лучше всего на рынках Евроы и Америке продаются игры с рейтингом m (\"от 17 лет\"). На рынке Японии данной группе игр принадлежит лишь 9% рынка.\n",
    "\n",
    "На втором месте по доли рынка Северной Америки и Европы находятся игры рейтинга e (\"Для всех\"):  18% и 21% соответственно.  Также в Америке и Европе популярны игры рейтинга t (\"Подросткам 13—19 лет\") и e10+ (\"Для всех старше 10 лет\"). В целом, влияние рейтинга на продажи в Европе и Америке схожее.\n",
    "\n",
    "Надо отметить , что для рынка Японии недостаточно наблюдений для определения влияния на продажи рейтинга игры , так как для 61% продаж в данном регионе не указан рейтинг ESRB, что, возможно связано, с тем , что эта игра имеет рейтинг CERO,действующей на рынке Японии и не имеет рейтинга ESRB."
   ]
  },
  {
   "cell_type": "markdown",
   "metadata": {},
   "source": [
    "## Проверка гипотез"
   ]
  },
  {
   "cell_type": "markdown",
   "metadata": {},
   "source": [
    "### Средние пользовательские рейтинги платформ Xbox One и PC одинаковые"
   ]
  },
  {
   "cell_type": "markdown",
   "metadata": {},
   "source": [
    "Проверим одинаковые ли средние пользовательские рейтинги платформ Xbox One и PC.\n",
    "\n",
    "Установим нулевую гипотезу - Средние пользовательские рейтинги платформ Xbox One и PC одинаковые.\n",
    "\n",
    "Если гипотеза верна то данные не будут противоречить ей .Если же  вероятность получить такие данные очень низка, отбросим нулевую гипотезу в пользу альтернативной. \n",
    "\n",
    "Альтернативную гипотезу сформулируем как : Средние пользовательские рейтинги платформ Xbox One и PC различаются.\n",
    "\n",
    "Критический уровень статистической значимости зададим значением в 5%, такой порог в статитический практике характиризуется как значимый."
   ]
  },
  {
   "cell_type": "code",
   "execution_count": 60,
   "metadata": {},
   "outputs": [
    {
     "name": "stdout",
     "output_type": "stream",
     "text": [
      "p-значение: 0.11797265565906648\n",
      "Не получилось отвергнуть нулевую гипотезу\n"
     ]
    }
   ],
   "source": [
    "#  пользовательский рейтинг Xbox One\n",
    "user_score_xbox = data_actual[(data_actual['platform'] == 'xone')&(data_actual['user_score'].notna())]['user_score']\n",
    "\n",
    "# пользовательский рейтинг PC\n",
    "user_score_pc = data_actual[(data_actual['platform'] == 'pc')&(data_actual['user_score'].notna())]['user_score'] \n",
    "\n",
    "#  зададим критический уровень статистической значимости\n",
    "alpha = .05\n",
    "\n",
    "#  проверим гипотезу о равенстве средних двух независимых совокупностей\n",
    "results = st.ttest_ind(user_score_xbox,user_score_pc,equal_var = False)\n",
    "\n",
    "print('p-значение:', results.pvalue)\n",
    "\n",
    "# сравним  получившееся p-значение с заданным уровнем статистической значимости\n",
    "if results.pvalue < alpha:\n",
    "    print(\"Отвергаем нулевую гипотезу\")\n",
    "else:\n",
    "    print(\"Не получилось отвергнуть нулевую гипотезу\")"
   ]
  },
  {
   "cell_type": "markdown",
   "metadata": {},
   "source": [
    "Данное p-значение указывает на то, что значимого расхождения между средними значениями не обнаружено.  Что является достаточным основанием говорить о том,что cредние пользовательские рейтинги платформ Xbox One и PC одинаковы, нулевую гипотезу не получилось отвергнуть  в пользу альтернативной."
   ]
  },
  {
   "cell_type": "code",
   "execution_count": 61,
   "metadata": {},
   "outputs": [
    {
     "name": "stdout",
     "output_type": "stream",
     "text": [
      "6.6\n",
      "6.31\n"
     ]
    }
   ],
   "source": [
    "# средние пользовательского рейтинга Xbox One и PC\n",
    "print(user_score_xbox.mean().round(2))\n",
    "print(user_score_pc.mean().round(2))"
   ]
  },
  {
   "cell_type": "markdown",
   "metadata": {},
   "source": [
    "###  Средние пользовательские рейтинги жанров Action ( экшен-игры) и Sports ( «спортивные соревнования») разные"
   ]
  },
  {
   "cell_type": "markdown",
   "metadata": {},
   "source": [
    "\n",
    "Проверим различаются ли средние пользовательские рейтинги жанров Action и Sports.\n",
    "\n",
    "Установим нулевую гипотезу - Средние пользовательские рейтинги жанров Action и Sports одинаковые.\n",
    "\n",
    "Альтернативную гипотезу сформулируем так  - Средние пользовательские рейтинги жанров Action и Sports разные.\n",
    "\n",
    "Критический уровень статистической значимости зададим значением 0.05"
   ]
  },
  {
   "cell_type": "code",
   "execution_count": 62,
   "metadata": {},
   "outputs": [
    {
     "name": "stdout",
     "output_type": "stream",
     "text": [
      "p-значение: 7.957042084962873e-15\n",
      "Отвергаем нулевую гипотезу\n"
     ]
    }
   ],
   "source": [
    "# данные о пользовательском рейтинге жанра Action\n",
    "user_score_action = data_actual[(data_actual['genre'] == 'action')&(data_actual['user_score'].notna())]['user_score']\n",
    "\n",
    "# данные о пользовательском рейтинге жанра Sports\n",
    "user_score_sports = data_actual[(data_actual['genre'] == 'sports')&(data_actual['user_score'].notna())]['user_score'] \n",
    "\n",
    "#  зададим критический уровень статистической значимости\n",
    "alpha = .05\n",
    "\n",
    "#  проверим гипотезу о равенстве средних двух независимых совокупностей\n",
    "results = st.ttest_ind(user_score_action,user_score_sports,equal_var = False)\n",
    "\n",
    "print('p-значение:', results.pvalue)\n",
    "\n",
    "# сравним  получившееся p-значение с заданным уровнем статистической значимости\n",
    "if results.pvalue < alpha:\n",
    "    print(\"Отвергаем нулевую гипотезу\")\n",
    "else:\n",
    "    print(\"Не получилось отвергнуть нулевую гипотезу\")"
   ]
  },
  {
   "cell_type": "markdown",
   "metadata": {},
   "source": [
    "Полученное  p-значение говорит о том, что вероятность получить такие расхождения в средних случайно стремиться к 0, что  позволяет нам отвергнуть нулевыю гипотезу в пользу ненулевой: средние пользовательские рейтинги жанров Action и Sports действительно разные.\n"
   ]
  },
  {
   "cell_type": "code",
   "execution_count": 63,
   "metadata": {
    "scrolled": true
   },
   "outputs": [
    {
     "name": "stdout",
     "output_type": "stream",
     "text": [
      "Средний пользовательский рейтинг жанра Action 6.76\n",
      "Средний пользовательский рейтинг жанра Sports 5.23\n"
     ]
    }
   ],
   "source": [
    "# средние пользовательские рейтинги action и sports \n",
    "print('Средний пользовательский рейтинг жанра Action' ,user_score_action.mean().round(2))\n",
    "print('Средний пользовательский рейтинг жанра Sports',user_score_sports.mean().round(2))"
   ]
  },
  {
   "cell_type": "markdown",
   "metadata": {},
   "source": [
    "## Общий вывод"
   ]
  },
  {
   "cell_type": "markdown",
   "metadata": {},
   "source": [
    "Цель проводимого исследования - выявить закономерности, определяющие успешность игры.\n",
    "\n",
    "В ходе исследования была проведена предобработка данных,обработаны и заполнены пропуски , скорректированны используемые типы данных,проведены промежуточные расчеты,что позволило провести исследовательский анализ данных, составить портреты жителей разных регионов и проверить 2 статистические гипотезы.\n",
    "\n",
    "В ходе анализа было установлено, что :\n",
    "\n",
    "1. На объем продаж игр влияют оценки критиков.\n",
    "\n",
    "Оценки критиков имеют  связь с объемом продаж. Чем выше оценка критиков, тем лучше продается игра, но также есть  достаточно игр, где, несмотря на высокие оценки, уровень продаж не выше среднего по рынку.\n",
    "\n",
    "Данная ситуация характерна для большинства популярных платформ.\n",
    "\n",
    "Также есть платформы , где на объем продаж влияет и оценка пользователей.\n",
    "\n",
    "2. Успешность игры определяется ее жанром.\n",
    "\n",
    "Наиболее продаваемые игры - это игры жанра shooter,sports, platform . Игры наименее перспективные с точки зрения планирования рекламной компании - adventure.\n",
    "\n",
    "3. Портреты пользователей платформ разных регионов различаются.\n",
    "\n",
    "Пользователи Северной Америки и Европы, за исключением небольших различий, похожи. У них совпадают предпочтения в играх и выбор популярных платформ.\n",
    "\n",
    "Предпочтения пользователей Японии значительнее отличаются от пользователей Северной Америки и Европы как по выбору игр, так и по предпочитаемым платформ.\n",
    "\n",
    "Надо отметить , что на всех трех рынках в список 3 самых популярных платформ входит ps4, что делает ее универсальной с точки зрения размещения рекламы.\n",
    "\n",
    "При планировании рекламной компании также необходимо будет учитывать регон, в котором будет проводится рекламная компания. В зависимости от региона выбор платформ и  жанров игр будет различаться.\n",
    "\n",
    "4. Рейтинг ESRB влияет на продажи игр.\n",
    "\n",
    "Наиболее успешны игры с рейтингом M(\"от 17 лет\"), они обеспечат наибольший обхват аудитории для рекламной компании.\n",
    "Также высокую доля продаж имеют игры с рейтингом T(\"Подросткам 13—19 лет\") и E(\"Для всех\"). \n",
    "\n",
    "5. Средние пользовательские рейтинги платформ Xbox One и PC одинаковые.\n",
    "\n",
    "6. Средние пользовательские рейтинги жанров Action  и Sports разные.\n",
    "\n",
    "Последние два пункта также надо учитывать при планировании рекламной кампании , так как пользовательские рейтинги на части платформ имеют влияние на объем продаж.\n",
    "\n"
   ]
  }
 ],
 "metadata": {
  "ExecuteTimeLog": [
   {
    "duration": 4,
    "start_time": "2022-05-11T08:26:14.151Z"
   },
   {
    "duration": 1359,
    "start_time": "2022-05-11T08:26:45.734Z"
   },
   {
    "duration": 79,
    "start_time": "2022-05-11T08:27:00.885Z"
   },
   {
    "duration": 39,
    "start_time": "2022-05-11T08:27:54.035Z"
   },
   {
    "duration": 14,
    "start_time": "2022-05-11T08:28:28.933Z"
   },
   {
    "duration": 97,
    "start_time": "2022-05-11T08:33:33.966Z"
   },
   {
    "duration": 11,
    "start_time": "2022-05-11T08:33:38.063Z"
   },
   {
    "duration": 11,
    "start_time": "2022-05-11T08:33:45.069Z"
   },
   {
    "duration": 11,
    "start_time": "2022-05-11T08:33:50.557Z"
   },
   {
    "duration": 13,
    "start_time": "2022-05-11T08:34:40.096Z"
   },
   {
    "duration": 11,
    "start_time": "2022-05-11T08:34:59.154Z"
   },
   {
    "duration": 13,
    "start_time": "2022-05-11T08:35:20.812Z"
   },
   {
    "duration": 12,
    "start_time": "2022-05-11T08:35:59.153Z"
   },
   {
    "duration": 5,
    "start_time": "2022-05-11T08:36:20.626Z"
   },
   {
    "duration": 6,
    "start_time": "2022-05-11T08:36:29.372Z"
   },
   {
    "duration": 6,
    "start_time": "2022-05-11T08:36:37.344Z"
   },
   {
    "duration": 1691,
    "start_time": "2022-05-11T08:54:15.138Z"
   },
   {
    "duration": 101,
    "start_time": "2022-05-11T08:54:47.142Z"
   },
   {
    "duration": 102,
    "start_time": "2022-05-11T08:56:02.906Z"
   },
   {
    "duration": 5,
    "start_time": "2022-05-11T09:00:51.494Z"
   },
   {
    "duration": 15,
    "start_time": "2022-05-11T09:01:11.728Z"
   },
   {
    "duration": 17,
    "start_time": "2022-05-11T09:01:54.089Z"
   },
   {
    "duration": 17,
    "start_time": "2022-05-11T09:02:01.235Z"
   },
   {
    "duration": 20,
    "start_time": "2022-05-11T09:03:12.950Z"
   },
   {
    "duration": 858,
    "start_time": "2022-05-11T09:03:39.823Z"
   },
   {
    "duration": 805,
    "start_time": "2022-05-11T09:05:31.729Z"
   },
   {
    "duration": 491,
    "start_time": "2022-05-11T09:08:45.533Z"
   },
   {
    "duration": 44,
    "start_time": "2022-05-11T09:09:07.582Z"
   },
   {
    "duration": 1608,
    "start_time": "2022-05-11T09:09:13.038Z"
   },
   {
    "duration": 4,
    "start_time": "2022-05-11T09:09:22.730Z"
   },
   {
    "duration": 13,
    "start_time": "2022-05-11T09:09:27.222Z"
   },
   {
    "duration": 10,
    "start_time": "2022-05-11T09:10:24.764Z"
   },
   {
    "duration": 13,
    "start_time": "2022-05-11T09:10:49.589Z"
   },
   {
    "duration": 12,
    "start_time": "2022-05-11T09:10:53.564Z"
   },
   {
    "duration": 17,
    "start_time": "2022-05-11T09:11:02.588Z"
   },
   {
    "duration": 17,
    "start_time": "2022-05-11T09:11:31.038Z"
   },
   {
    "duration": 21,
    "start_time": "2022-05-11T09:17:10.058Z"
   },
   {
    "duration": 23,
    "start_time": "2022-05-11T09:17:50.496Z"
   },
   {
    "duration": 13,
    "start_time": "2022-05-11T09:18:00.944Z"
   },
   {
    "duration": 69,
    "start_time": "2022-05-11T09:21:06.024Z"
   },
   {
    "duration": 20,
    "start_time": "2022-05-11T09:30:56.337Z"
   },
   {
    "duration": 27,
    "start_time": "2022-05-11T09:31:05.055Z"
   },
   {
    "duration": 41,
    "start_time": "2022-05-11T09:32:39.054Z"
   },
   {
    "duration": 70,
    "start_time": "2022-05-11T11:32:12.178Z"
   },
   {
    "duration": 1806,
    "start_time": "2022-05-11T11:32:17.860Z"
   },
   {
    "duration": 84,
    "start_time": "2022-05-11T11:32:19.669Z"
   },
   {
    "duration": 108,
    "start_time": "2022-05-11T11:32:19.755Z"
   },
   {
    "duration": 11,
    "start_time": "2022-05-11T11:32:19.865Z"
   },
   {
    "duration": 116,
    "start_time": "2022-05-11T11:32:19.880Z"
   },
   {
    "duration": 0,
    "start_time": "2022-05-11T11:32:19.999Z"
   },
   {
    "duration": 37,
    "start_time": "2022-05-11T11:32:34.823Z"
   },
   {
    "duration": 29,
    "start_time": "2022-05-11T11:33:07.592Z"
   },
   {
    "duration": 43,
    "start_time": "2022-05-11T11:33:29.177Z"
   },
   {
    "duration": 124,
    "start_time": "2022-05-11T11:33:59.591Z"
   },
   {
    "duration": 122,
    "start_time": "2022-05-11T11:34:20.483Z"
   },
   {
    "duration": 108,
    "start_time": "2022-05-11T11:34:25.463Z"
   },
   {
    "duration": 27,
    "start_time": "2022-05-11T11:34:29.371Z"
   },
   {
    "duration": 56,
    "start_time": "2022-05-11T11:34:34.641Z"
   },
   {
    "duration": 1573,
    "start_time": "2022-05-11T11:34:38.630Z"
   },
   {
    "duration": 7,
    "start_time": "2022-05-11T11:34:44.317Z"
   },
   {
    "duration": 26,
    "start_time": "2022-05-11T11:34:45.228Z"
   },
   {
    "duration": 40,
    "start_time": "2022-05-11T11:35:24.264Z"
   },
   {
    "duration": 58,
    "start_time": "2022-05-11T11:45:06.946Z"
   },
   {
    "duration": 74,
    "start_time": "2022-05-11T11:46:15.181Z"
   },
   {
    "duration": 83,
    "start_time": "2022-05-11T11:46:57.716Z"
   },
   {
    "duration": 125,
    "start_time": "2022-05-11T11:47:46.755Z"
   },
   {
    "duration": 49,
    "start_time": "2022-05-11T11:50:25.652Z"
   },
   {
    "duration": 107,
    "start_time": "2022-05-11T11:50:35.998Z"
   },
   {
    "duration": 99,
    "start_time": "2022-05-11T11:51:22.233Z"
   },
   {
    "duration": 111,
    "start_time": "2022-05-11T11:51:56.774Z"
   },
   {
    "duration": 117,
    "start_time": "2022-05-11T11:52:14.146Z"
   },
   {
    "duration": 23,
    "start_time": "2022-05-11T11:54:26.280Z"
   },
   {
    "duration": 23,
    "start_time": "2022-05-11T11:55:38.703Z"
   },
   {
    "duration": 10,
    "start_time": "2022-05-11T11:57:04.211Z"
   },
   {
    "duration": 10,
    "start_time": "2022-05-11T12:08:40.142Z"
   },
   {
    "duration": 25,
    "start_time": "2022-05-11T12:08:58.325Z"
   },
   {
    "duration": 16,
    "start_time": "2022-05-11T12:09:55.874Z"
   },
   {
    "duration": 16,
    "start_time": "2022-05-11T12:09:58.930Z"
   },
   {
    "duration": 14,
    "start_time": "2022-05-11T12:10:30.978Z"
   },
   {
    "duration": 11,
    "start_time": "2022-05-11T12:11:02.953Z"
   },
   {
    "duration": 12,
    "start_time": "2022-05-11T12:11:13.052Z"
   },
   {
    "duration": 17,
    "start_time": "2022-05-11T12:13:30.700Z"
   },
   {
    "duration": 15,
    "start_time": "2022-05-11T12:13:37.038Z"
   },
   {
    "duration": 15,
    "start_time": "2022-05-11T12:13:47.326Z"
   },
   {
    "duration": 7,
    "start_time": "2022-05-11T12:15:53.738Z"
   },
   {
    "duration": 20,
    "start_time": "2022-05-11T12:16:05.566Z"
   },
   {
    "duration": 4,
    "start_time": "2022-05-11T12:16:54.636Z"
   },
   {
    "duration": 68,
    "start_time": "2022-05-11T12:16:55.074Z"
   },
   {
    "duration": 59,
    "start_time": "2022-05-11T12:16:55.746Z"
   },
   {
    "duration": 8,
    "start_time": "2022-05-11T12:16:56.993Z"
   },
   {
    "duration": 29,
    "start_time": "2022-05-11T12:16:58.421Z"
   },
   {
    "duration": 10,
    "start_time": "2022-05-11T12:17:00.250Z"
   },
   {
    "duration": 14,
    "start_time": "2022-05-11T12:17:00.894Z"
   },
   {
    "duration": 35,
    "start_time": "2022-05-11T12:17:01.256Z"
   },
   {
    "duration": 12,
    "start_time": "2022-05-11T12:23:52.568Z"
   },
   {
    "duration": 17,
    "start_time": "2022-05-11T12:24:53.775Z"
   },
   {
    "duration": 16,
    "start_time": "2022-05-11T12:25:01.547Z"
   },
   {
    "duration": 13,
    "start_time": "2022-05-11T12:25:36.996Z"
   },
   {
    "duration": 27,
    "start_time": "2022-05-11T12:25:46.472Z"
   },
   {
    "duration": 23,
    "start_time": "2022-05-11T12:26:19.523Z"
   },
   {
    "duration": 43,
    "start_time": "2022-05-11T12:26:35.525Z"
   },
   {
    "duration": 29,
    "start_time": "2022-05-11T12:27:00.068Z"
   },
   {
    "duration": 1886,
    "start_time": "2022-05-11T12:36:06.088Z"
   },
   {
    "duration": 4,
    "start_time": "2022-05-11T12:36:11.919Z"
   },
   {
    "duration": 66,
    "start_time": "2022-05-11T12:36:12.316Z"
   },
   {
    "duration": 65,
    "start_time": "2022-05-11T12:36:13.767Z"
   },
   {
    "duration": 8,
    "start_time": "2022-05-11T12:36:14.679Z"
   },
   {
    "duration": 7,
    "start_time": "2022-05-11T12:36:29.467Z"
   },
   {
    "duration": 20,
    "start_time": "2022-05-11T12:39:20.103Z"
   },
   {
    "duration": 6,
    "start_time": "2022-05-11T12:54:24.779Z"
   },
   {
    "duration": 1809,
    "start_time": "2022-05-11T12:55:38.715Z"
   },
   {
    "duration": 8,
    "start_time": "2022-05-11T12:56:07.349Z"
   },
   {
    "duration": 25,
    "start_time": "2022-05-11T12:56:08.719Z"
   },
   {
    "duration": 12,
    "start_time": "2022-05-11T12:56:09.055Z"
   },
   {
    "duration": 10,
    "start_time": "2022-05-11T12:56:09.611Z"
   },
   {
    "duration": 28,
    "start_time": "2022-05-11T12:56:09.963Z"
   },
   {
    "duration": 53,
    "start_time": "2022-05-11T12:56:10.537Z"
   },
   {
    "duration": 42,
    "start_time": "2022-05-11T12:57:59.168Z"
   },
   {
    "duration": 88,
    "start_time": "2022-05-11T12:58:27.408Z"
   },
   {
    "duration": 91,
    "start_time": "2022-05-11T12:58:30.235Z"
   },
   {
    "duration": 28,
    "start_time": "2022-05-11T13:00:29.178Z"
   },
   {
    "duration": 44,
    "start_time": "2022-05-11T13:00:49.964Z"
   },
   {
    "duration": 24,
    "start_time": "2022-05-11T13:01:49.464Z"
   },
   {
    "duration": 19,
    "start_time": "2022-05-11T13:08:47.504Z"
   },
   {
    "duration": 13,
    "start_time": "2022-05-11T13:08:51.481Z"
   },
   {
    "duration": 11,
    "start_time": "2022-05-11T13:13:25.101Z"
   },
   {
    "duration": 51,
    "start_time": "2022-05-11T13:13:35.327Z"
   },
   {
    "duration": 12,
    "start_time": "2022-05-11T13:13:37.199Z"
   },
   {
    "duration": 23,
    "start_time": "2022-05-11T13:13:59.014Z"
   },
   {
    "duration": 23,
    "start_time": "2022-05-11T13:14:23.821Z"
   },
   {
    "duration": 33,
    "start_time": "2022-05-11T13:14:57.044Z"
   },
   {
    "duration": 8,
    "start_time": "2022-05-11T13:15:44.706Z"
   },
   {
    "duration": 20,
    "start_time": "2022-05-11T13:15:46.044Z"
   },
   {
    "duration": 26,
    "start_time": "2022-05-11T13:16:01.804Z"
   },
   {
    "duration": 36,
    "start_time": "2022-05-11T13:18:20.995Z"
   },
   {
    "duration": 5,
    "start_time": "2022-05-11T13:19:15.165Z"
   },
   {
    "duration": 65,
    "start_time": "2022-05-11T13:19:15.651Z"
   },
   {
    "duration": 57,
    "start_time": "2022-05-11T13:19:16.425Z"
   },
   {
    "duration": 7,
    "start_time": "2022-05-11T13:19:16.770Z"
   },
   {
    "duration": 7,
    "start_time": "2022-05-11T13:19:17.125Z"
   },
   {
    "duration": 19,
    "start_time": "2022-05-11T13:19:17.493Z"
   },
   {
    "duration": 6,
    "start_time": "2022-05-11T13:19:17.845Z"
   },
   {
    "duration": 7,
    "start_time": "2022-05-11T13:19:19.650Z"
   },
   {
    "duration": 21,
    "start_time": "2022-05-11T13:19:20.377Z"
   },
   {
    "duration": 10,
    "start_time": "2022-05-11T13:19:20.972Z"
   },
   {
    "duration": 10,
    "start_time": "2022-05-11T13:19:22.161Z"
   },
   {
    "duration": 24,
    "start_time": "2022-05-11T13:19:22.597Z"
   },
   {
    "duration": 56,
    "start_time": "2022-05-11T13:19:23.804Z"
   },
   {
    "duration": 26,
    "start_time": "2022-05-11T13:19:44.561Z"
   },
   {
    "duration": 19,
    "start_time": "2022-05-11T13:29:49.041Z"
   },
   {
    "duration": 23,
    "start_time": "2022-05-11T13:30:10.445Z"
   },
   {
    "duration": 16,
    "start_time": "2022-05-11T13:30:35.096Z"
   },
   {
    "duration": 27,
    "start_time": "2022-05-11T17:54:58.687Z"
   },
   {
    "duration": 17,
    "start_time": "2022-05-11T18:00:09.522Z"
   },
   {
    "duration": 22,
    "start_time": "2022-05-11T18:00:23.398Z"
   },
   {
    "duration": 21,
    "start_time": "2022-05-11T18:01:04.139Z"
   },
   {
    "duration": 22,
    "start_time": "2022-05-11T18:01:18.668Z"
   },
   {
    "duration": 20,
    "start_time": "2022-05-11T18:01:29.099Z"
   },
   {
    "duration": 21,
    "start_time": "2022-05-11T18:01:40.902Z"
   },
   {
    "duration": 20,
    "start_time": "2022-05-11T18:01:50.107Z"
   },
   {
    "duration": 22,
    "start_time": "2022-05-11T18:02:01.913Z"
   },
   {
    "duration": 20,
    "start_time": "2022-05-11T18:02:18.213Z"
   },
   {
    "duration": 20,
    "start_time": "2022-05-11T18:02:27.808Z"
   },
   {
    "duration": 21,
    "start_time": "2022-05-11T18:02:42.760Z"
   },
   {
    "duration": 15,
    "start_time": "2022-05-11T18:02:59.132Z"
   },
   {
    "duration": 13,
    "start_time": "2022-05-11T18:31:21.675Z"
   },
   {
    "duration": 13,
    "start_time": "2022-05-11T18:35:45.147Z"
   },
   {
    "duration": 12,
    "start_time": "2022-05-11T18:35:59.862Z"
   },
   {
    "duration": 16,
    "start_time": "2022-05-11T18:36:40.397Z"
   },
   {
    "duration": 32,
    "start_time": "2022-05-11T18:46:17.652Z"
   },
   {
    "duration": 15,
    "start_time": "2022-05-11T18:46:39.747Z"
   },
   {
    "duration": 57,
    "start_time": "2022-05-11T18:50:09.641Z"
   },
   {
    "duration": 121,
    "start_time": "2022-05-11T18:52:37.588Z"
   },
   {
    "duration": 20,
    "start_time": "2022-05-11T18:52:51.434Z"
   },
   {
    "duration": 10,
    "start_time": "2022-05-11T18:53:07.596Z"
   },
   {
    "duration": 1477,
    "start_time": "2022-05-12T08:22:03.703Z"
   },
   {
    "duration": 73,
    "start_time": "2022-05-12T08:22:05.183Z"
   },
   {
    "duration": 44,
    "start_time": "2022-05-12T08:22:05.258Z"
   },
   {
    "duration": 5,
    "start_time": "2022-05-12T08:22:05.627Z"
   },
   {
    "duration": 5,
    "start_time": "2022-05-12T08:22:05.921Z"
   },
   {
    "duration": 15,
    "start_time": "2022-05-12T08:22:06.255Z"
   },
   {
    "duration": 5,
    "start_time": "2022-05-12T08:22:06.571Z"
   },
   {
    "duration": 7,
    "start_time": "2022-05-12T08:22:08.331Z"
   },
   {
    "duration": 18,
    "start_time": "2022-05-12T08:22:08.619Z"
   },
   {
    "duration": 9,
    "start_time": "2022-05-12T08:22:09.093Z"
   },
   {
    "duration": 8,
    "start_time": "2022-05-12T08:22:09.867Z"
   },
   {
    "duration": 19,
    "start_time": "2022-05-12T08:22:10.173Z"
   },
   {
    "duration": 44,
    "start_time": "2022-05-12T08:22:11.241Z"
   },
   {
    "duration": 19,
    "start_time": "2022-05-12T08:22:13.365Z"
   },
   {
    "duration": 12,
    "start_time": "2022-05-12T08:22:15.471Z"
   },
   {
    "duration": 31,
    "start_time": "2022-05-12T08:25:40.239Z"
   },
   {
    "duration": 30,
    "start_time": "2022-05-12T08:26:08.488Z"
   },
   {
    "duration": 33,
    "start_time": "2022-05-12T08:26:28.342Z"
   },
   {
    "duration": 36,
    "start_time": "2022-05-12T08:26:47.847Z"
   },
   {
    "duration": 31,
    "start_time": "2022-05-12T08:28:10.446Z"
   },
   {
    "duration": 34,
    "start_time": "2022-05-12T08:30:22.016Z"
   },
   {
    "duration": 15,
    "start_time": "2022-05-12T08:31:02.094Z"
   },
   {
    "duration": 28,
    "start_time": "2022-05-12T08:46:06.163Z"
   },
   {
    "duration": 17,
    "start_time": "2022-05-12T08:46:33.956Z"
   },
   {
    "duration": 15,
    "start_time": "2022-05-12T08:47:08.949Z"
   },
   {
    "duration": 122,
    "start_time": "2022-05-12T08:47:16.534Z"
   },
   {
    "duration": 15,
    "start_time": "2022-05-12T08:47:35.303Z"
   },
   {
    "duration": 27,
    "start_time": "2022-05-12T08:54:15.556Z"
   },
   {
    "duration": 12,
    "start_time": "2022-05-12T08:57:02.562Z"
   },
   {
    "duration": 6,
    "start_time": "2022-05-12T08:57:17.589Z"
   },
   {
    "duration": 19,
    "start_time": "2022-05-12T08:57:56.888Z"
   },
   {
    "duration": 19,
    "start_time": "2022-05-12T09:01:30.268Z"
   },
   {
    "duration": 36,
    "start_time": "2022-05-12T09:02:58.528Z"
   },
   {
    "duration": 32,
    "start_time": "2022-05-12T09:47:56.171Z"
   },
   {
    "duration": 26,
    "start_time": "2022-05-12T09:48:16.042Z"
   },
   {
    "duration": 25,
    "start_time": "2022-05-12T09:48:30.808Z"
   },
   {
    "duration": 24,
    "start_time": "2022-05-12T09:48:42.624Z"
   },
   {
    "duration": 32,
    "start_time": "2022-05-12T09:48:55.254Z"
   },
   {
    "duration": 34,
    "start_time": "2022-05-12T09:51:44.027Z"
   },
   {
    "duration": 180,
    "start_time": "2022-05-12T09:52:07.214Z"
   },
   {
    "duration": 35,
    "start_time": "2022-05-12T09:52:21.432Z"
   },
   {
    "duration": 38,
    "start_time": "2022-05-12T09:53:19.067Z"
   },
   {
    "duration": 49,
    "start_time": "2022-05-12T09:54:29.533Z"
   },
   {
    "duration": 51,
    "start_time": "2022-05-12T10:08:28.537Z"
   },
   {
    "duration": 45,
    "start_time": "2022-05-12T10:10:35.723Z"
   },
   {
    "duration": 58,
    "start_time": "2022-05-12T10:17:36.774Z"
   },
   {
    "duration": 56,
    "start_time": "2022-05-12T10:19:01.543Z"
   },
   {
    "duration": 64,
    "start_time": "2022-05-12T10:19:23.547Z"
   },
   {
    "duration": 59,
    "start_time": "2022-05-12T10:19:48.059Z"
   },
   {
    "duration": 63,
    "start_time": "2022-05-12T10:20:02.159Z"
   },
   {
    "duration": 58,
    "start_time": "2022-05-12T10:20:23.873Z"
   },
   {
    "duration": 61,
    "start_time": "2022-05-12T10:20:41.302Z"
   },
   {
    "duration": 62,
    "start_time": "2022-05-12T10:21:02.713Z"
   },
   {
    "duration": 12,
    "start_time": "2022-05-12T10:23:36.988Z"
   },
   {
    "duration": 44,
    "start_time": "2022-05-12T10:26:33.022Z"
   },
   {
    "duration": 16,
    "start_time": "2022-05-12T10:26:58.802Z"
   },
   {
    "duration": 7,
    "start_time": "2022-05-12T10:36:13.684Z"
   },
   {
    "duration": 18,
    "start_time": "2022-05-12T10:36:38.890Z"
   },
   {
    "duration": 15,
    "start_time": "2022-05-12T10:36:48.568Z"
   },
   {
    "duration": 3,
    "start_time": "2022-05-12T10:37:01.859Z"
   },
   {
    "duration": 62,
    "start_time": "2022-05-12T10:37:01.864Z"
   },
   {
    "duration": 45,
    "start_time": "2022-05-12T10:37:01.928Z"
   },
   {
    "duration": 6,
    "start_time": "2022-05-12T10:37:01.975Z"
   },
   {
    "duration": 10,
    "start_time": "2022-05-12T10:37:01.983Z"
   },
   {
    "duration": 40,
    "start_time": "2022-05-12T10:37:01.994Z"
   },
   {
    "duration": 6,
    "start_time": "2022-05-12T10:37:02.036Z"
   },
   {
    "duration": 10,
    "start_time": "2022-05-12T10:37:02.044Z"
   },
   {
    "duration": 23,
    "start_time": "2022-05-12T10:37:02.056Z"
   },
   {
    "duration": 12,
    "start_time": "2022-05-12T10:37:02.081Z"
   },
   {
    "duration": 10,
    "start_time": "2022-05-12T10:37:02.096Z"
   },
   {
    "duration": 17,
    "start_time": "2022-05-12T10:37:02.134Z"
   },
   {
    "duration": 46,
    "start_time": "2022-05-12T10:37:02.153Z"
   },
   {
    "duration": 34,
    "start_time": "2022-05-12T10:37:02.201Z"
   },
   {
    "duration": 11,
    "start_time": "2022-05-12T10:37:02.237Z"
   },
   {
    "duration": 17,
    "start_time": "2022-05-12T10:37:02.250Z"
   },
   {
    "duration": 20,
    "start_time": "2022-05-12T10:37:02.269Z"
   },
   {
    "duration": 44,
    "start_time": "2022-05-12T10:37:02.290Z"
   },
   {
    "duration": 9,
    "start_time": "2022-05-12T10:37:02.336Z"
   },
   {
    "duration": 8,
    "start_time": "2022-05-12T10:37:02.347Z"
   },
   {
    "duration": 37,
    "start_time": "2022-05-12T10:37:02.357Z"
   },
   {
    "duration": 7,
    "start_time": "2022-05-12T10:37:02.395Z"
   },
   {
    "duration": 46,
    "start_time": "2022-05-12T10:37:02.404Z"
   },
   {
    "duration": 33,
    "start_time": "2022-05-12T10:37:02.452Z"
   },
   {
    "duration": 87,
    "start_time": "2022-05-12T10:37:02.486Z"
   },
   {
    "duration": 33,
    "start_time": "2022-05-12T10:37:02.575Z"
   },
   {
    "duration": 34,
    "start_time": "2022-05-12T10:37:02.610Z"
   },
   {
    "duration": 17,
    "start_time": "2022-05-12T10:50:41.302Z"
   },
   {
    "duration": 17,
    "start_time": "2022-05-12T10:54:21.572Z"
   },
   {
    "duration": 11,
    "start_time": "2022-05-12T10:54:43.525Z"
   },
   {
    "duration": 12,
    "start_time": "2022-05-12T10:54:54.882Z"
   },
   {
    "duration": 21,
    "start_time": "2022-05-12T11:22:13.008Z"
   },
   {
    "duration": 19,
    "start_time": "2022-05-12T11:25:51.892Z"
   },
   {
    "duration": 31,
    "start_time": "2022-05-12T11:26:29.699Z"
   },
   {
    "duration": 21,
    "start_time": "2022-05-12T11:34:11.599Z"
   },
   {
    "duration": 3,
    "start_time": "2022-05-12T11:34:37.167Z"
   },
   {
    "duration": 60,
    "start_time": "2022-05-12T11:34:37.172Z"
   },
   {
    "duration": 43,
    "start_time": "2022-05-12T11:34:37.234Z"
   },
   {
    "duration": 5,
    "start_time": "2022-05-12T11:34:37.279Z"
   },
   {
    "duration": 8,
    "start_time": "2022-05-12T11:34:37.286Z"
   },
   {
    "duration": 44,
    "start_time": "2022-05-12T11:34:37.296Z"
   },
   {
    "duration": 8,
    "start_time": "2022-05-12T11:34:37.342Z"
   },
   {
    "duration": 9,
    "start_time": "2022-05-12T11:34:37.352Z"
   },
   {
    "duration": 17,
    "start_time": "2022-05-12T11:34:37.363Z"
   },
   {
    "duration": 10,
    "start_time": "2022-05-12T11:34:37.381Z"
   },
   {
    "duration": 10,
    "start_time": "2022-05-12T11:34:37.393Z"
   },
   {
    "duration": 16,
    "start_time": "2022-05-12T11:34:37.434Z"
   },
   {
    "duration": 40,
    "start_time": "2022-05-12T11:34:37.453Z"
   },
   {
    "duration": 42,
    "start_time": "2022-05-12T11:34:37.495Z"
   },
   {
    "duration": 11,
    "start_time": "2022-05-12T11:34:37.539Z"
   },
   {
    "duration": 16,
    "start_time": "2022-05-12T11:34:37.552Z"
   },
   {
    "duration": 18,
    "start_time": "2022-05-12T11:34:37.569Z"
   },
   {
    "duration": 50,
    "start_time": "2022-05-12T11:34:37.589Z"
   },
   {
    "duration": 9,
    "start_time": "2022-05-12T11:34:37.640Z"
   },
   {
    "duration": 9,
    "start_time": "2022-05-12T11:34:37.650Z"
   },
   {
    "duration": 31,
    "start_time": "2022-05-12T11:34:37.660Z"
   },
   {
    "duration": 7,
    "start_time": "2022-05-12T11:34:37.692Z"
   },
   {
    "duration": 47,
    "start_time": "2022-05-12T11:34:37.701Z"
   },
   {
    "duration": 23,
    "start_time": "2022-05-12T11:34:37.752Z"
   },
   {
    "duration": 16,
    "start_time": "2022-05-12T11:34:37.777Z"
   },
   {
    "duration": 47,
    "start_time": "2022-05-12T11:34:37.795Z"
   },
   {
    "duration": 34,
    "start_time": "2022-05-12T11:34:37.844Z"
   },
   {
    "duration": 24,
    "start_time": "2022-05-12T11:34:37.879Z"
   },
   {
    "duration": 13,
    "start_time": "2022-05-12T11:34:55.038Z"
   },
   {
    "duration": 17,
    "start_time": "2022-05-12T11:35:27.688Z"
   },
   {
    "duration": 16,
    "start_time": "2022-05-12T11:35:37.580Z"
   },
   {
    "duration": 39,
    "start_time": "2022-05-12T11:35:53.936Z"
   },
   {
    "duration": 16,
    "start_time": "2022-05-12T11:35:55.300Z"
   },
   {
    "duration": 7,
    "start_time": "2022-05-12T11:35:55.886Z"
   },
   {
    "duration": 17,
    "start_time": "2022-05-12T11:35:56.180Z"
   },
   {
    "duration": 15,
    "start_time": "2022-05-12T11:35:56.452Z"
   },
   {
    "duration": 16,
    "start_time": "2022-05-12T11:35:57.039Z"
   },
   {
    "duration": 11,
    "start_time": "2022-05-12T11:35:57.628Z"
   },
   {
    "duration": 10,
    "start_time": "2022-05-12T11:35:57.926Z"
   },
   {
    "duration": 22,
    "start_time": "2022-05-12T11:35:58.679Z"
   },
   {
    "duration": 7,
    "start_time": "2022-05-12T11:35:58.709Z"
   },
   {
    "duration": 23,
    "start_time": "2022-05-12T11:36:00.001Z"
   },
   {
    "duration": 23,
    "start_time": "2022-05-12T11:36:01.691Z"
   },
   {
    "duration": 16,
    "start_time": "2022-05-12T11:36:02.469Z"
   },
   {
    "duration": 6,
    "start_time": "2022-05-12T11:36:05.468Z"
   },
   {
    "duration": 167,
    "start_time": "2022-05-12T11:50:32.017Z"
   },
   {
    "duration": 26,
    "start_time": "2022-05-12T11:50:53.052Z"
   },
   {
    "duration": 22,
    "start_time": "2022-05-12T11:51:10.956Z"
   },
   {
    "duration": 21,
    "start_time": "2022-05-12T11:51:39.277Z"
   },
   {
    "duration": 22,
    "start_time": "2022-05-12T11:52:09.810Z"
   },
   {
    "duration": 144,
    "start_time": "2022-05-12T11:52:47.446Z"
   },
   {
    "duration": 72,
    "start_time": "2022-05-12T11:53:36.590Z"
   },
   {
    "duration": 23,
    "start_time": "2022-05-12T11:53:46.689Z"
   },
   {
    "duration": 354,
    "start_time": "2022-05-12T11:56:40.675Z"
   },
   {
    "duration": 363,
    "start_time": "2022-05-12T11:57:07.910Z"
   },
   {
    "duration": 375,
    "start_time": "2022-05-12T11:57:15.468Z"
   },
   {
    "duration": 451,
    "start_time": "2022-05-12T11:57:20.706Z"
   },
   {
    "duration": 384,
    "start_time": "2022-05-12T11:57:34.682Z"
   },
   {
    "duration": 385,
    "start_time": "2022-05-12T11:57:40.694Z"
   },
   {
    "duration": 419,
    "start_time": "2022-05-12T12:07:58.387Z"
   },
   {
    "duration": 422,
    "start_time": "2022-05-12T12:08:23.055Z"
   },
   {
    "duration": 432,
    "start_time": "2022-05-12T12:09:32.317Z"
   },
   {
    "duration": 516,
    "start_time": "2022-05-12T12:14:04.263Z"
   },
   {
    "duration": 465,
    "start_time": "2022-05-12T12:14:25.940Z"
   },
   {
    "duration": 440,
    "start_time": "2022-05-12T12:14:56.753Z"
   },
   {
    "duration": 4513,
    "start_time": "2022-05-12T12:15:22.900Z"
   },
   {
    "duration": 4120,
    "start_time": "2022-05-12T12:16:03.053Z"
   },
   {
    "duration": 561,
    "start_time": "2022-05-12T12:17:52.478Z"
   },
   {
    "duration": 437,
    "start_time": "2022-05-12T12:18:44.125Z"
   },
   {
    "duration": 440,
    "start_time": "2022-05-12T12:18:52.561Z"
   },
   {
    "duration": 24,
    "start_time": "2022-05-12T12:19:46.258Z"
   },
   {
    "duration": 496,
    "start_time": "2022-05-12T12:19:59.599Z"
   },
   {
    "duration": 444,
    "start_time": "2022-05-12T12:20:14.225Z"
   },
   {
    "duration": 3914,
    "start_time": "2022-05-12T12:22:25.988Z"
   },
   {
    "duration": 4017,
    "start_time": "2022-05-12T12:22:38.792Z"
   },
   {
    "duration": 497,
    "start_time": "2022-05-12T12:22:56.389Z"
   },
   {
    "duration": 928,
    "start_time": "2022-05-12T12:30:25.304Z"
   },
   {
    "duration": 543,
    "start_time": "2022-05-12T12:31:23.549Z"
   },
   {
    "duration": 34,
    "start_time": "2022-05-12T12:34:53.682Z"
   },
   {
    "duration": 37,
    "start_time": "2022-05-12T12:36:27.910Z"
   },
   {
    "duration": 43,
    "start_time": "2022-05-12T12:37:07.846Z"
   },
   {
    "duration": 39,
    "start_time": "2022-05-12T12:37:54.792Z"
   },
   {
    "duration": 432,
    "start_time": "2022-05-12T12:41:21.707Z"
   },
   {
    "duration": 467,
    "start_time": "2022-05-12T12:43:42.975Z"
   },
   {
    "duration": 547,
    "start_time": "2022-05-12T12:44:42.762Z"
   },
   {
    "duration": 71,
    "start_time": "2022-05-13T10:42:59.662Z"
   },
   {
    "duration": 1735,
    "start_time": "2022-05-13T10:43:07.029Z"
   },
   {
    "duration": 71,
    "start_time": "2022-05-13T10:43:08.766Z"
   },
   {
    "duration": 74,
    "start_time": "2022-05-13T10:43:08.839Z"
   },
   {
    "duration": 6,
    "start_time": "2022-05-13T10:43:08.916Z"
   },
   {
    "duration": 9,
    "start_time": "2022-05-13T10:43:08.924Z"
   },
   {
    "duration": 22,
    "start_time": "2022-05-13T10:43:08.935Z"
   },
   {
    "duration": 7,
    "start_time": "2022-05-13T10:43:09.180Z"
   },
   {
    "duration": 9,
    "start_time": "2022-05-13T10:43:10.754Z"
   },
   {
    "duration": 22,
    "start_time": "2022-05-13T10:43:11.141Z"
   },
   {
    "duration": 10,
    "start_time": "2022-05-13T10:43:11.554Z"
   },
   {
    "duration": 10,
    "start_time": "2022-05-13T10:43:12.349Z"
   },
   {
    "duration": 23,
    "start_time": "2022-05-13T10:43:12.674Z"
   },
   {
    "duration": 53,
    "start_time": "2022-05-13T10:43:13.407Z"
   },
   {
    "duration": 26,
    "start_time": "2022-05-13T10:43:14.790Z"
   },
   {
    "duration": 15,
    "start_time": "2022-05-13T10:43:15.580Z"
   },
   {
    "duration": 23,
    "start_time": "2022-05-13T10:43:15.930Z"
   },
   {
    "duration": 21,
    "start_time": "2022-05-13T10:43:16.271Z"
   },
   {
    "duration": 26,
    "start_time": "2022-05-13T10:43:16.959Z"
   },
   {
    "duration": 12,
    "start_time": "2022-05-13T10:43:17.755Z"
   },
   {
    "duration": 11,
    "start_time": "2022-05-13T10:43:19.137Z"
   },
   {
    "duration": 43,
    "start_time": "2022-05-13T10:43:19.201Z"
   },
   {
    "duration": 10,
    "start_time": "2022-05-13T10:43:19.246Z"
   },
   {
    "duration": 49,
    "start_time": "2022-05-13T10:43:19.258Z"
   },
   {
    "duration": 30,
    "start_time": "2022-05-13T10:43:20.677Z"
   },
   {
    "duration": 25,
    "start_time": "2022-05-13T10:43:21.326Z"
   },
   {
    "duration": 7,
    "start_time": "2022-05-13T10:43:22.634Z"
   },
   {
    "duration": 25,
    "start_time": "2022-05-13T10:43:23.476Z"
   },
   {
    "duration": 570,
    "start_time": "2022-05-13T10:43:27.780Z"
   },
   {
    "duration": 66,
    "start_time": "2022-05-13T10:43:31.781Z"
   },
   {
    "duration": 26,
    "start_time": "2022-05-13T10:48:11.767Z"
   },
   {
    "duration": 103,
    "start_time": "2022-05-13T10:48:26.301Z"
   },
   {
    "duration": 32,
    "start_time": "2022-05-13T10:48:43.579Z"
   },
   {
    "duration": 18,
    "start_time": "2022-05-13T10:56:59.399Z"
   },
   {
    "duration": 12,
    "start_time": "2022-05-13T11:00:08.782Z"
   },
   {
    "duration": 18,
    "start_time": "2022-05-13T11:00:20.254Z"
   },
   {
    "duration": 24,
    "start_time": "2022-05-13T11:13:20.871Z"
   },
   {
    "duration": 23,
    "start_time": "2022-05-13T11:14:10.642Z"
   },
   {
    "duration": 26,
    "start_time": "2022-05-13T11:16:00.357Z"
   },
   {
    "duration": 15,
    "start_time": "2022-05-13T11:16:36.245Z"
   },
   {
    "duration": 16,
    "start_time": "2022-05-13T11:16:56.506Z"
   },
   {
    "duration": 50,
    "start_time": "2022-05-13T11:17:30.506Z"
   },
   {
    "duration": 592,
    "start_time": "2022-05-13T11:21:52.455Z"
   },
   {
    "duration": 237,
    "start_time": "2022-05-13T11:22:07.158Z"
   },
   {
    "duration": 677,
    "start_time": "2022-05-13T11:22:21.813Z"
   },
   {
    "duration": 6319,
    "start_time": "2022-05-13T11:24:39.707Z"
   },
   {
    "duration": 441,
    "start_time": "2022-05-13T11:28:23.755Z"
   },
   {
    "duration": 549,
    "start_time": "2022-05-13T11:28:50.620Z"
   },
   {
    "duration": 849,
    "start_time": "2022-05-13T11:30:09.685Z"
   },
   {
    "duration": 654,
    "start_time": "2022-05-13T11:32:11.530Z"
   },
   {
    "duration": 563,
    "start_time": "2022-05-13T11:35:33.178Z"
   },
   {
    "duration": 550,
    "start_time": "2022-05-13T11:50:11.179Z"
   },
   {
    "duration": 197,
    "start_time": "2022-05-13T11:50:55.450Z"
   },
   {
    "duration": 70,
    "start_time": "2022-05-13T11:51:00.577Z"
   },
   {
    "duration": 548,
    "start_time": "2022-05-13T11:52:02.326Z"
   },
   {
    "duration": 541,
    "start_time": "2022-05-13T11:52:32.176Z"
   },
   {
    "duration": 558,
    "start_time": "2022-05-13T11:58:10.998Z"
   },
   {
    "duration": 562,
    "start_time": "2022-05-13T12:00:00.069Z"
   },
   {
    "duration": 583,
    "start_time": "2022-05-13T12:03:33.596Z"
   },
   {
    "duration": 558,
    "start_time": "2022-05-13T12:06:10.796Z"
   },
   {
    "duration": 763,
    "start_time": "2022-05-13T12:09:56.981Z"
   },
   {
    "duration": 650,
    "start_time": "2022-05-13T12:10:56.996Z"
   },
   {
    "duration": 561,
    "start_time": "2022-05-13T12:11:11.661Z"
   },
   {
    "duration": 547,
    "start_time": "2022-05-13T12:12:57.247Z"
   },
   {
    "duration": 554,
    "start_time": "2022-05-13T12:13:18.333Z"
   },
   {
    "duration": 550,
    "start_time": "2022-05-13T12:14:57.660Z"
   },
   {
    "duration": 561,
    "start_time": "2022-05-13T12:15:37.915Z"
   },
   {
    "duration": 1813,
    "start_time": "2022-05-14T17:09:11.628Z"
   },
   {
    "duration": 77,
    "start_time": "2022-05-14T17:09:13.443Z"
   },
   {
    "duration": 60,
    "start_time": "2022-05-14T17:09:13.524Z"
   },
   {
    "duration": 7,
    "start_time": "2022-05-14T17:09:14.671Z"
   },
   {
    "duration": 7,
    "start_time": "2022-05-14T17:09:15.254Z"
   },
   {
    "duration": 20,
    "start_time": "2022-05-14T17:09:15.607Z"
   },
   {
    "duration": 7,
    "start_time": "2022-05-14T17:09:15.957Z"
   },
   {
    "duration": 10,
    "start_time": "2022-05-14T17:09:17.089Z"
   },
   {
    "duration": 22,
    "start_time": "2022-05-14T17:09:17.367Z"
   },
   {
    "duration": 11,
    "start_time": "2022-05-14T17:09:17.668Z"
   },
   {
    "duration": 10,
    "start_time": "2022-05-14T17:09:18.267Z"
   },
   {
    "duration": 22,
    "start_time": "2022-05-14T17:09:18.557Z"
   },
   {
    "duration": 54,
    "start_time": "2022-05-14T17:09:19.149Z"
   },
   {
    "duration": 25,
    "start_time": "2022-05-14T17:09:20.303Z"
   },
   {
    "duration": 14,
    "start_time": "2022-05-14T17:09:20.907Z"
   },
   {
    "duration": 24,
    "start_time": "2022-05-14T17:09:21.181Z"
   },
   {
    "duration": 22,
    "start_time": "2022-05-14T17:09:21.469Z"
   },
   {
    "duration": 24,
    "start_time": "2022-05-14T17:09:22.277Z"
   },
   {
    "duration": 11,
    "start_time": "2022-05-14T17:09:22.720Z"
   },
   {
    "duration": 11,
    "start_time": "2022-05-14T17:09:22.997Z"
   },
   {
    "duration": 40,
    "start_time": "2022-05-14T17:09:23.331Z"
   },
   {
    "duration": 11,
    "start_time": "2022-05-14T17:09:23.653Z"
   },
   {
    "duration": 25,
    "start_time": "2022-05-14T17:09:24.005Z"
   },
   {
    "duration": 30,
    "start_time": "2022-05-14T17:09:24.594Z"
   },
   {
    "duration": 25,
    "start_time": "2022-05-14T17:09:24.941Z"
   },
   {
    "duration": 7,
    "start_time": "2022-05-14T17:09:25.851Z"
   },
   {
    "duration": 25,
    "start_time": "2022-05-14T17:09:26.599Z"
   },
   {
    "duration": 612,
    "start_time": "2022-05-14T17:09:28.027Z"
   },
   {
    "duration": 20,
    "start_time": "2022-05-14T17:09:29.149Z"
   },
   {
    "duration": 638,
    "start_time": "2022-05-14T17:09:30.052Z"
   },
   {
    "duration": 29,
    "start_time": "2022-05-14T17:18:06.178Z"
   },
   {
    "duration": 640,
    "start_time": "2022-05-14T17:22:20.925Z"
   },
   {
    "duration": 624,
    "start_time": "2022-05-14T17:24:38.091Z"
   },
   {
    "duration": 626,
    "start_time": "2022-05-14T17:24:44.782Z"
   },
   {
    "duration": 812,
    "start_time": "2022-05-14T17:25:02.375Z"
   },
   {
    "duration": 18,
    "start_time": "2022-05-14T17:50:51.489Z"
   },
   {
    "duration": 1563,
    "start_time": "2022-05-15T10:33:07.824Z"
   },
   {
    "duration": 66,
    "start_time": "2022-05-15T10:33:09.390Z"
   },
   {
    "duration": 43,
    "start_time": "2022-05-15T10:33:09.458Z"
   },
   {
    "duration": 22,
    "start_time": "2022-05-15T10:33:09.503Z"
   },
   {
    "duration": 6,
    "start_time": "2022-05-15T10:33:09.528Z"
   },
   {
    "duration": 13,
    "start_time": "2022-05-15T10:33:09.692Z"
   },
   {
    "duration": 6,
    "start_time": "2022-05-15T10:33:10.004Z"
   },
   {
    "duration": 6,
    "start_time": "2022-05-15T10:33:11.151Z"
   },
   {
    "duration": 20,
    "start_time": "2022-05-15T10:33:11.418Z"
   },
   {
    "duration": 8,
    "start_time": "2022-05-15T10:33:11.680Z"
   },
   {
    "duration": 11,
    "start_time": "2022-05-15T10:33:12.225Z"
   },
   {
    "duration": 19,
    "start_time": "2022-05-15T10:33:12.516Z"
   },
   {
    "duration": 42,
    "start_time": "2022-05-15T10:33:13.069Z"
   },
   {
    "duration": 22,
    "start_time": "2022-05-15T10:33:14.332Z"
   },
   {
    "duration": 13,
    "start_time": "2022-05-15T10:33:14.884Z"
   },
   {
    "duration": 17,
    "start_time": "2022-05-15T10:33:15.178Z"
   },
   {
    "duration": 16,
    "start_time": "2022-05-15T10:33:15.482Z"
   },
   {
    "duration": 18,
    "start_time": "2022-05-15T10:33:16.092Z"
   },
   {
    "duration": 10,
    "start_time": "2022-05-15T10:33:16.732Z"
   },
   {
    "duration": 11,
    "start_time": "2022-05-15T10:33:16.988Z"
   },
   {
    "duration": 31,
    "start_time": "2022-05-15T10:33:17.268Z"
   },
   {
    "duration": 8,
    "start_time": "2022-05-15T10:33:17.550Z"
   },
   {
    "duration": 18,
    "start_time": "2022-05-15T10:33:17.853Z"
   },
   {
    "duration": 23,
    "start_time": "2022-05-15T10:33:18.469Z"
   },
   {
    "duration": 15,
    "start_time": "2022-05-15T10:33:18.755Z"
   },
   {
    "duration": 7,
    "start_time": "2022-05-15T10:33:19.434Z"
   },
   {
    "duration": 16,
    "start_time": "2022-05-15T10:33:20.148Z"
   },
   {
    "duration": 395,
    "start_time": "2022-05-15T10:33:21.037Z"
   },
   {
    "duration": 19,
    "start_time": "2022-05-15T10:33:21.627Z"
   },
   {
    "duration": 409,
    "start_time": "2022-05-15T10:33:22.227Z"
   },
   {
    "duration": 548,
    "start_time": "2022-05-15T10:33:22.854Z"
   },
   {
    "duration": 18,
    "start_time": "2022-05-15T10:33:23.515Z"
   },
   {
    "duration": 196,
    "start_time": "2022-05-15T10:33:23.825Z"
   },
   {
    "duration": 13,
    "start_time": "2022-05-15T10:44:12.003Z"
   },
   {
    "duration": 5,
    "start_time": "2022-05-15T10:58:18.237Z"
   },
   {
    "duration": 214,
    "start_time": "2022-05-15T10:58:22.079Z"
   },
   {
    "duration": 305,
    "start_time": "2022-05-15T10:58:40.542Z"
   },
   {
    "duration": 162,
    "start_time": "2022-05-15T10:59:03.552Z"
   },
   {
    "duration": 153,
    "start_time": "2022-05-15T11:01:30.264Z"
   },
   {
    "duration": 271,
    "start_time": "2022-05-15T11:02:58.489Z"
   },
   {
    "duration": 182,
    "start_time": "2022-05-15T11:03:04.421Z"
   },
   {
    "duration": 186,
    "start_time": "2022-05-15T11:03:14.296Z"
   },
   {
    "duration": 190,
    "start_time": "2022-05-15T11:03:28.927Z"
   },
   {
    "duration": 168,
    "start_time": "2022-05-15T11:03:34.887Z"
   },
   {
    "duration": 163,
    "start_time": "2022-05-15T11:03:41.494Z"
   },
   {
    "duration": 188,
    "start_time": "2022-05-15T11:03:56.854Z"
   },
   {
    "duration": 208,
    "start_time": "2022-05-15T11:04:05.688Z"
   },
   {
    "duration": 285,
    "start_time": "2022-05-15T11:06:45.195Z"
   },
   {
    "duration": 335,
    "start_time": "2022-05-15T11:07:10.321Z"
   },
   {
    "duration": 273,
    "start_time": "2022-05-15T11:07:18.258Z"
   },
   {
    "duration": 390,
    "start_time": "2022-05-15T11:07:26.229Z"
   },
   {
    "duration": 400,
    "start_time": "2022-05-15T11:09:38.837Z"
   },
   {
    "duration": 297,
    "start_time": "2022-05-15T11:10:57.146Z"
   },
   {
    "duration": 355,
    "start_time": "2022-05-15T11:12:38.166Z"
   },
   {
    "duration": 311,
    "start_time": "2022-05-15T11:13:44.576Z"
   },
   {
    "duration": 325,
    "start_time": "2022-05-15T11:16:44.456Z"
   },
   {
    "duration": 275,
    "start_time": "2022-05-15T11:21:26.902Z"
   },
   {
    "duration": 276,
    "start_time": "2022-05-15T11:21:46.657Z"
   },
   {
    "duration": 342,
    "start_time": "2022-05-15T11:22:05.110Z"
   },
   {
    "duration": 458,
    "start_time": "2022-05-15T11:22:23.083Z"
   },
   {
    "duration": 338,
    "start_time": "2022-05-15T11:22:36.263Z"
   },
   {
    "duration": 451,
    "start_time": "2022-05-15T11:22:41.199Z"
   },
   {
    "duration": 306,
    "start_time": "2022-05-15T11:22:58.458Z"
   },
   {
    "duration": 324,
    "start_time": "2022-05-15T11:23:12.948Z"
   },
   {
    "duration": 232,
    "start_time": "2022-05-15T11:23:29.782Z"
   },
   {
    "duration": 478,
    "start_time": "2022-05-15T11:23:39.505Z"
   },
   {
    "duration": 461,
    "start_time": "2022-05-15T11:23:52.835Z"
   },
   {
    "duration": 514,
    "start_time": "2022-05-15T11:24:19.938Z"
   },
   {
    "duration": 496,
    "start_time": "2022-05-15T11:24:47.264Z"
   },
   {
    "duration": 661,
    "start_time": "2022-05-15T11:24:57.150Z"
   },
   {
    "duration": 594,
    "start_time": "2022-05-15T11:25:16.373Z"
   },
   {
    "duration": 616,
    "start_time": "2022-05-15T11:26:02.690Z"
   },
   {
    "duration": 686,
    "start_time": "2022-05-15T11:26:22.610Z"
   },
   {
    "duration": 469,
    "start_time": "2022-05-15T12:19:11.068Z"
   },
   {
    "duration": 349,
    "start_time": "2022-05-15T12:20:40.296Z"
   },
   {
    "duration": 404,
    "start_time": "2022-05-15T12:20:51.218Z"
   },
   {
    "duration": 386,
    "start_time": "2022-05-15T12:21:00.442Z"
   },
   {
    "duration": 346,
    "start_time": "2022-05-15T12:21:06.630Z"
   },
   {
    "duration": 406,
    "start_time": "2022-05-15T12:21:17.799Z"
   },
   {
    "duration": 377,
    "start_time": "2022-05-15T12:21:55.240Z"
   },
   {
    "duration": 402,
    "start_time": "2022-05-15T12:22:29.173Z"
   },
   {
    "duration": 328,
    "start_time": "2022-05-15T12:24:29.845Z"
   },
   {
    "duration": 1879,
    "start_time": "2022-05-15T12:26:02.415Z"
   },
   {
    "duration": 496,
    "start_time": "2022-05-15T12:26:21.380Z"
   },
   {
    "duration": 42,
    "start_time": "2022-05-15T12:27:06.902Z"
   },
   {
    "duration": 742,
    "start_time": "2022-05-15T12:27:53.962Z"
   },
   {
    "duration": 27,
    "start_time": "2022-05-15T12:28:29.311Z"
   },
   {
    "duration": 337,
    "start_time": "2022-05-15T12:28:55.230Z"
   },
   {
    "duration": 256,
    "start_time": "2022-05-15T12:29:11.452Z"
   },
   {
    "duration": 233,
    "start_time": "2022-05-15T12:29:52.259Z"
   },
   {
    "duration": 250,
    "start_time": "2022-05-15T12:30:18.444Z"
   },
   {
    "duration": 665,
    "start_time": "2022-05-15T12:33:49.546Z"
   },
   {
    "duration": 398,
    "start_time": "2022-05-15T12:42:57.947Z"
   },
   {
    "duration": 825,
    "start_time": "2022-05-15T12:43:23.129Z"
   },
   {
    "duration": 667,
    "start_time": "2022-05-15T12:43:41.438Z"
   },
   {
    "duration": 645,
    "start_time": "2022-05-15T12:44:03.271Z"
   },
   {
    "duration": 779,
    "start_time": "2022-05-15T12:44:12.510Z"
   },
   {
    "duration": 681,
    "start_time": "2022-05-15T12:44:17.862Z"
   },
   {
    "duration": 694,
    "start_time": "2022-05-15T12:44:41.991Z"
   },
   {
    "duration": 865,
    "start_time": "2022-05-15T12:45:23.511Z"
   },
   {
    "duration": 850,
    "start_time": "2022-05-15T12:46:47.597Z"
   },
   {
    "duration": 738,
    "start_time": "2022-05-15T12:47:02.045Z"
   },
   {
    "duration": 1046,
    "start_time": "2022-05-15T12:47:18.527Z"
   },
   {
    "duration": 776,
    "start_time": "2022-05-15T12:49:46.005Z"
   },
   {
    "duration": 802,
    "start_time": "2022-05-15T12:49:53.640Z"
   },
   {
    "duration": 774,
    "start_time": "2022-05-15T12:50:05.189Z"
   },
   {
    "duration": 902,
    "start_time": "2022-05-15T12:50:14.671Z"
   },
   {
    "duration": 1031,
    "start_time": "2022-05-15T12:50:25.762Z"
   },
   {
    "duration": 814,
    "start_time": "2022-05-15T12:51:56.142Z"
   },
   {
    "duration": 854,
    "start_time": "2022-05-15T12:52:07.703Z"
   },
   {
    "duration": 500,
    "start_time": "2022-05-15T12:52:52.178Z"
   },
   {
    "duration": 929,
    "start_time": "2022-05-15T12:53:12.414Z"
   },
   {
    "duration": 1000,
    "start_time": "2022-05-15T12:53:34.463Z"
   },
   {
    "duration": 829,
    "start_time": "2022-05-15T12:53:46.295Z"
   },
   {
    "duration": 998,
    "start_time": "2022-05-15T12:53:57.170Z"
   },
   {
    "duration": 830,
    "start_time": "2022-05-15T12:55:47.656Z"
   },
   {
    "duration": 805,
    "start_time": "2022-05-15T12:56:20.464Z"
   },
   {
    "duration": 25,
    "start_time": "2022-05-15T14:54:34.415Z"
   },
   {
    "duration": 21,
    "start_time": "2022-05-15T14:55:23.973Z"
   },
   {
    "duration": 24,
    "start_time": "2022-05-15T14:55:53.409Z"
   },
   {
    "duration": 17,
    "start_time": "2022-05-15T14:56:26.930Z"
   },
   {
    "duration": 16,
    "start_time": "2022-05-15T14:56:31.550Z"
   },
   {
    "duration": 982,
    "start_time": "2022-05-15T14:56:52.861Z"
   },
   {
    "duration": 819,
    "start_time": "2022-05-15T15:27:16.984Z"
   },
   {
    "duration": 1675,
    "start_time": "2022-05-15T15:27:41.662Z"
   },
   {
    "duration": 1619,
    "start_time": "2022-05-15T15:28:08.236Z"
   },
   {
    "duration": 1599,
    "start_time": "2022-05-15T15:32:03.042Z"
   },
   {
    "duration": 1210,
    "start_time": "2022-05-15T15:32:21.718Z"
   },
   {
    "duration": 1276,
    "start_time": "2022-05-15T15:32:50.752Z"
   },
   {
    "duration": 612,
    "start_time": "2022-05-15T15:45:57.088Z"
   },
   {
    "duration": 620,
    "start_time": "2022-05-15T15:46:25.346Z"
   },
   {
    "duration": 606,
    "start_time": "2022-05-15T15:46:41.238Z"
   },
   {
    "duration": 1675,
    "start_time": "2022-05-15T15:48:29.636Z"
   },
   {
    "duration": 1654,
    "start_time": "2022-05-15T15:49:29.536Z"
   },
   {
    "duration": 1202,
    "start_time": "2022-05-15T15:52:10.760Z"
   },
   {
    "duration": 1142,
    "start_time": "2022-05-15T15:52:25.575Z"
   },
   {
    "duration": 1354,
    "start_time": "2022-05-15T15:52:36.993Z"
   },
   {
    "duration": 1155,
    "start_time": "2022-05-15T15:52:49.050Z"
   },
   {
    "duration": 1088,
    "start_time": "2022-05-15T15:53:58.676Z"
   },
   {
    "duration": 14,
    "start_time": "2022-05-15T16:07:42.771Z"
   },
   {
    "duration": 18,
    "start_time": "2022-05-15T16:08:24.869Z"
   },
   {
    "duration": 17,
    "start_time": "2022-05-15T16:10:34.773Z"
   },
   {
    "duration": 18,
    "start_time": "2022-05-15T16:10:44.274Z"
   },
   {
    "duration": 17,
    "start_time": "2022-05-15T16:20:26.787Z"
   },
   {
    "duration": 191,
    "start_time": "2022-05-15T16:21:30.100Z"
   },
   {
    "duration": 204,
    "start_time": "2022-05-15T16:21:36.904Z"
   },
   {
    "duration": 17,
    "start_time": "2022-05-15T16:21:43.047Z"
   },
   {
    "duration": 14,
    "start_time": "2022-05-15T16:22:56.848Z"
   },
   {
    "duration": 17,
    "start_time": "2022-05-15T16:23:25.908Z"
   },
   {
    "duration": 101,
    "start_time": "2022-05-15T16:48:35.395Z"
   },
   {
    "duration": 108,
    "start_time": "2022-05-15T16:49:17.304Z"
   },
   {
    "duration": 222,
    "start_time": "2022-05-15T16:49:55.338Z"
   },
   {
    "duration": 4,
    "start_time": "2022-05-15T16:50:37.337Z"
   },
   {
    "duration": 199,
    "start_time": "2022-05-15T16:50:45.610Z"
   },
   {
    "duration": 103,
    "start_time": "2022-05-15T16:50:50.632Z"
   },
   {
    "duration": 117,
    "start_time": "2022-05-15T16:52:16.587Z"
   },
   {
    "duration": 112,
    "start_time": "2022-05-15T16:52:30.943Z"
   },
   {
    "duration": 115,
    "start_time": "2022-05-15T16:54:13.307Z"
   },
   {
    "duration": 106,
    "start_time": "2022-05-15T16:54:35.203Z"
   },
   {
    "duration": 98,
    "start_time": "2022-05-15T16:54:48.402Z"
   },
   {
    "duration": 112,
    "start_time": "2022-05-15T16:55:43.350Z"
   },
   {
    "duration": 128,
    "start_time": "2022-05-15T16:56:26.014Z"
   },
   {
    "duration": 28,
    "start_time": "2022-05-15T17:07:56.130Z"
   },
   {
    "duration": 65,
    "start_time": "2022-05-15T17:09:08.273Z"
   },
   {
    "duration": 31,
    "start_time": "2022-05-15T17:10:43.508Z"
   },
   {
    "duration": 34,
    "start_time": "2022-05-15T17:11:06.653Z"
   },
   {
    "duration": 3288,
    "start_time": "2022-05-15T17:13:21.795Z"
   },
   {
    "duration": 27,
    "start_time": "2022-05-15T17:14:14.493Z"
   },
   {
    "duration": 45,
    "start_time": "2022-05-15T17:18:53.477Z"
   },
   {
    "duration": 39,
    "start_time": "2022-05-15T17:19:04.877Z"
   },
   {
    "duration": 26,
    "start_time": "2022-05-15T17:21:09.160Z"
   },
   {
    "duration": 3496,
    "start_time": "2022-05-15T17:24:43.971Z"
   },
   {
    "duration": 14,
    "start_time": "2022-05-15T17:24:58.285Z"
   },
   {
    "duration": 494,
    "start_time": "2022-05-15T17:25:06.163Z"
   },
   {
    "duration": 1834,
    "start_time": "2022-05-16T08:29:29.788Z"
   },
   {
    "duration": 78,
    "start_time": "2022-05-16T08:29:31.626Z"
   },
   {
    "duration": 62,
    "start_time": "2022-05-16T08:29:34.811Z"
   },
   {
    "duration": 7,
    "start_time": "2022-05-16T08:29:35.695Z"
   },
   {
    "duration": 7,
    "start_time": "2022-05-16T08:29:36.358Z"
   },
   {
    "duration": 21,
    "start_time": "2022-05-16T08:29:36.925Z"
   },
   {
    "duration": 7,
    "start_time": "2022-05-16T08:29:37.487Z"
   },
   {
    "duration": 10,
    "start_time": "2022-05-16T08:29:39.685Z"
   },
   {
    "duration": 22,
    "start_time": "2022-05-16T08:29:40.337Z"
   },
   {
    "duration": 13,
    "start_time": "2022-05-16T08:29:40.915Z"
   },
   {
    "duration": 10,
    "start_time": "2022-05-16T08:29:41.950Z"
   },
   {
    "duration": 21,
    "start_time": "2022-05-16T08:29:42.439Z"
   },
   {
    "duration": 87,
    "start_time": "2022-05-16T08:29:43.634Z"
   },
   {
    "duration": 24,
    "start_time": "2022-05-16T08:29:45.862Z"
   },
   {
    "duration": 14,
    "start_time": "2022-05-16T08:29:46.852Z"
   },
   {
    "duration": 23,
    "start_time": "2022-05-16T08:29:47.365Z"
   },
   {
    "duration": 22,
    "start_time": "2022-05-16T08:29:47.904Z"
   },
   {
    "duration": 23,
    "start_time": "2022-05-16T08:29:49.141Z"
   },
   {
    "duration": 12,
    "start_time": "2022-05-16T08:29:50.320Z"
   },
   {
    "duration": 11,
    "start_time": "2022-05-16T08:29:50.842Z"
   },
   {
    "duration": 43,
    "start_time": "2022-05-16T08:29:51.400Z"
   },
   {
    "duration": 9,
    "start_time": "2022-05-16T08:29:51.968Z"
   },
   {
    "duration": 22,
    "start_time": "2022-05-16T08:29:52.724Z"
   },
   {
    "duration": 30,
    "start_time": "2022-05-16T08:29:53.807Z"
   },
   {
    "duration": 23,
    "start_time": "2022-05-16T08:29:54.278Z"
   },
   {
    "duration": 7,
    "start_time": "2022-05-16T08:29:55.318Z"
   },
   {
    "duration": 23,
    "start_time": "2022-05-16T08:29:56.792Z"
   },
   {
    "duration": 615,
    "start_time": "2022-05-16T08:29:58.347Z"
   },
   {
    "duration": 18,
    "start_time": "2022-05-16T08:29:59.430Z"
   },
   {
    "duration": 629,
    "start_time": "2022-05-16T08:30:00.438Z"
   },
   {
    "duration": 644,
    "start_time": "2022-05-16T08:30:01.370Z"
   },
   {
    "duration": 1191,
    "start_time": "2022-05-16T08:30:02.464Z"
   },
   {
    "duration": 1384,
    "start_time": "2022-05-16T08:30:03.658Z"
   },
   {
    "duration": 1762,
    "start_time": "2022-05-16T08:30:05.044Z"
   },
   {
    "duration": 25,
    "start_time": "2022-05-16T08:30:06.809Z"
   },
   {
    "duration": 99,
    "start_time": "2022-05-16T08:30:07.747Z"
   },
   {
    "duration": 38,
    "start_time": "2022-05-16T08:30:08.329Z"
   },
   {
    "duration": 43,
    "start_time": "2022-05-16T09:03:04.707Z"
   },
   {
    "duration": 39,
    "start_time": "2022-05-16T09:03:48.123Z"
   },
   {
    "duration": 38,
    "start_time": "2022-05-16T09:04:26.206Z"
   },
   {
    "duration": 40,
    "start_time": "2022-05-16T09:05:04.294Z"
   },
   {
    "duration": 38,
    "start_time": "2022-05-16T09:05:21.386Z"
   },
   {
    "duration": 420,
    "start_time": "2022-05-16T09:15:31.514Z"
   },
   {
    "duration": 269,
    "start_time": "2022-05-16T09:15:41.083Z"
   },
   {
    "duration": 689,
    "start_time": "2022-05-16T09:17:26.732Z"
   },
   {
    "duration": 670,
    "start_time": "2022-05-16T09:17:38.507Z"
   },
   {
    "duration": 834,
    "start_time": "2022-05-16T09:19:55.990Z"
   },
   {
    "duration": 656,
    "start_time": "2022-05-16T09:20:22.279Z"
   },
   {
    "duration": 649,
    "start_time": "2022-05-16T09:21:39.902Z"
   },
   {
    "duration": 155,
    "start_time": "2022-05-16T09:27:45.316Z"
   },
   {
    "duration": 7,
    "start_time": "2022-05-16T09:27:52.252Z"
   },
   {
    "duration": 10,
    "start_time": "2022-05-16T09:28:17.797Z"
   },
   {
    "duration": 12,
    "start_time": "2022-05-16T09:28:30.347Z"
   },
   {
    "duration": 8,
    "start_time": "2022-05-16T09:29:20.748Z"
   },
   {
    "duration": 8,
    "start_time": "2022-05-16T09:29:37.154Z"
   },
   {
    "duration": 14,
    "start_time": "2022-05-16T09:29:48.227Z"
   },
   {
    "duration": 37,
    "start_time": "2022-05-16T09:34:44.077Z"
   },
   {
    "duration": 674,
    "start_time": "2022-05-16T09:36:19.151Z"
   },
   {
    "duration": 663,
    "start_time": "2022-05-16T09:36:26.768Z"
   },
   {
    "duration": 777,
    "start_time": "2022-05-16T09:37:31.001Z"
   },
   {
    "duration": 24,
    "start_time": "2022-05-16T09:39:04.980Z"
   },
   {
    "duration": 33,
    "start_time": "2022-05-16T09:41:32.009Z"
   },
   {
    "duration": 822,
    "start_time": "2022-05-16T09:44:29.732Z"
   },
   {
    "duration": 753,
    "start_time": "2022-05-16T09:44:44.428Z"
   },
   {
    "duration": 201,
    "start_time": "2022-05-16T09:50:20.905Z"
   },
   {
    "duration": 1583,
    "start_time": "2022-05-16T09:50:43.413Z"
   },
   {
    "duration": 302,
    "start_time": "2022-05-16T09:51:02.375Z"
   },
   {
    "duration": 11,
    "start_time": "2022-05-16T09:52:14.650Z"
   },
   {
    "duration": 1563,
    "start_time": "2022-05-16T10:32:43.694Z"
   },
   {
    "duration": 11,
    "start_time": "2022-05-16T10:54:27.672Z"
   },
   {
    "duration": 5,
    "start_time": "2022-05-16T10:56:45.436Z"
   },
   {
    "duration": 6,
    "start_time": "2022-05-16T10:57:18.347Z"
   },
   {
    "duration": 12,
    "start_time": "2022-05-16T10:58:21.371Z"
   },
   {
    "duration": 8,
    "start_time": "2022-05-16T10:58:29.444Z"
   },
   {
    "duration": 13,
    "start_time": "2022-05-16T10:58:43.910Z"
   },
   {
    "duration": 540,
    "start_time": "2022-05-16T11:05:04.765Z"
   },
   {
    "duration": 13,
    "start_time": "2022-05-16T11:19:48.860Z"
   },
   {
    "duration": 12,
    "start_time": "2022-05-16T11:20:15.027Z"
   },
   {
    "duration": 284,
    "start_time": "2022-05-16T11:23:24.445Z"
   },
   {
    "duration": 7,
    "start_time": "2022-05-16T11:23:35.620Z"
   },
   {
    "duration": 5,
    "start_time": "2022-05-16T11:24:01.399Z"
   },
   {
    "duration": 14,
    "start_time": "2022-05-16T11:36:40.382Z"
   },
   {
    "duration": 6,
    "start_time": "2022-05-16T11:42:59.572Z"
   },
   {
    "duration": 6,
    "start_time": "2022-05-16T11:43:21.818Z"
   },
   {
    "duration": 13,
    "start_time": "2022-05-16T11:43:30.287Z"
   },
   {
    "duration": 13,
    "start_time": "2022-05-16T11:43:41.937Z"
   },
   {
    "duration": 5,
    "start_time": "2022-05-16T11:43:45.262Z"
   },
   {
    "duration": 1814,
    "start_time": "2022-05-18T10:22:30.382Z"
   },
   {
    "duration": 199,
    "start_time": "2022-05-18T10:22:32.198Z"
   },
   {
    "duration": 38,
    "start_time": "2022-05-18T10:22:32.399Z"
   },
   {
    "duration": 5,
    "start_time": "2022-05-18T10:22:32.439Z"
   },
   {
    "duration": 10,
    "start_time": "2022-05-18T10:22:32.446Z"
   },
   {
    "duration": 20,
    "start_time": "2022-05-18T10:22:32.457Z"
   },
   {
    "duration": 6,
    "start_time": "2022-05-18T10:22:32.479Z"
   },
   {
    "duration": 14,
    "start_time": "2022-05-18T10:22:32.486Z"
   },
   {
    "duration": 34,
    "start_time": "2022-05-18T10:22:32.502Z"
   },
   {
    "duration": 8,
    "start_time": "2022-05-18T10:22:32.538Z"
   },
   {
    "duration": 40,
    "start_time": "2022-05-18T10:22:32.547Z"
   },
   {
    "duration": 20,
    "start_time": "2022-05-18T10:22:32.589Z"
   },
   {
    "duration": 16,
    "start_time": "2022-05-18T10:22:32.610Z"
   },
   {
    "duration": 6,
    "start_time": "2022-05-18T10:22:32.629Z"
   },
   {
    "duration": 39,
    "start_time": "2022-05-18T10:22:32.636Z"
   },
   {
    "duration": 8,
    "start_time": "2022-05-18T10:22:32.677Z"
   },
   {
    "duration": 27,
    "start_time": "2022-05-18T10:22:32.686Z"
   },
   {
    "duration": 12,
    "start_time": "2022-05-18T10:22:32.715Z"
   },
   {
    "duration": 50,
    "start_time": "2022-05-18T10:22:32.729Z"
   },
   {
    "duration": 18,
    "start_time": "2022-05-18T10:22:32.781Z"
   },
   {
    "duration": 6,
    "start_time": "2022-05-18T10:22:32.801Z"
   },
   {
    "duration": 29,
    "start_time": "2022-05-18T10:22:32.809Z"
   },
   {
    "duration": 506,
    "start_time": "2022-05-18T10:22:32.841Z"
   },
   {
    "duration": 13,
    "start_time": "2022-05-18T10:22:33.348Z"
   },
   {
    "duration": 407,
    "start_time": "2022-05-18T10:22:33.363Z"
   },
   {
    "duration": 413,
    "start_time": "2022-05-18T10:22:33.771Z"
   },
   {
    "duration": 697,
    "start_time": "2022-05-18T10:22:34.185Z"
   },
   {
    "duration": 991,
    "start_time": "2022-05-18T10:22:34.884Z"
   },
   {
    "duration": 1294,
    "start_time": "2022-05-18T10:22:35.877Z"
   },
   {
    "duration": 15,
    "start_time": "2022-05-18T10:22:37.175Z"
   },
   {
    "duration": 9,
    "start_time": "2022-05-18T10:22:37.192Z"
   },
   {
    "duration": 0,
    "start_time": "2022-05-18T10:22:37.203Z"
   },
   {
    "duration": 0,
    "start_time": "2022-05-18T10:22:37.205Z"
   },
   {
    "duration": 0,
    "start_time": "2022-05-18T10:22:37.206Z"
   },
   {
    "duration": 0,
    "start_time": "2022-05-18T10:22:37.207Z"
   },
   {
    "duration": 0,
    "start_time": "2022-05-18T10:22:37.209Z"
   },
   {
    "duration": 0,
    "start_time": "2022-05-18T10:22:37.210Z"
   },
   {
    "duration": 437,
    "start_time": "2022-05-18T10:24:16.218Z"
   },
   {
    "duration": 472,
    "start_time": "2022-05-18T10:24:28.866Z"
   },
   {
    "duration": 508,
    "start_time": "2022-05-18T10:24:34.406Z"
   },
   {
    "duration": 107,
    "start_time": "2022-05-18T10:24:49.020Z"
   },
   {
    "duration": 10,
    "start_time": "2022-05-18T10:24:59.601Z"
   },
   {
    "duration": 4,
    "start_time": "2022-05-18T10:25:05.762Z"
   },
   {
    "duration": 9,
    "start_time": "2022-05-18T10:25:08.694Z"
   },
   {
    "duration": 5,
    "start_time": "2022-05-18T10:25:12.184Z"
   },
   {
    "duration": 61,
    "start_time": "2022-05-19T10:29:18.095Z"
   },
   {
    "duration": 1528,
    "start_time": "2022-05-19T10:29:27.106Z"
   },
   {
    "duration": 197,
    "start_time": "2022-05-19T10:29:28.637Z"
   },
   {
    "duration": 42,
    "start_time": "2022-05-19T10:29:30.514Z"
   },
   {
    "duration": 5,
    "start_time": "2022-05-19T10:29:30.931Z"
   },
   {
    "duration": 4,
    "start_time": "2022-05-19T10:29:31.361Z"
   },
   {
    "duration": 5,
    "start_time": "2022-05-19T10:29:31.704Z"
   },
   {
    "duration": 5,
    "start_time": "2022-05-19T10:29:32.065Z"
   },
   {
    "duration": 12,
    "start_time": "2022-05-19T10:29:32.419Z"
   },
   {
    "duration": 35,
    "start_time": "2022-05-19T10:29:34.265Z"
   },
   {
    "duration": 10,
    "start_time": "2022-05-19T10:29:34.985Z"
   },
   {
    "duration": 16,
    "start_time": "2022-05-19T10:29:35.337Z"
   },
   {
    "duration": 19,
    "start_time": "2022-05-19T10:29:36.474Z"
   },
   {
    "duration": 14,
    "start_time": "2022-05-19T10:29:38.311Z"
   },
   {
    "duration": 6,
    "start_time": "2022-05-19T10:29:39.799Z"
   },
   {
    "duration": 8,
    "start_time": "2022-05-19T10:29:40.896Z"
   },
   {
    "duration": 9,
    "start_time": "2022-05-19T10:29:41.405Z"
   },
   {
    "duration": 28,
    "start_time": "2022-05-19T10:29:42.219Z"
   },
   {
    "duration": 11,
    "start_time": "2022-05-19T10:29:43.522Z"
   },
   {
    "duration": 17,
    "start_time": "2022-05-19T10:29:44.387Z"
   },
   {
    "duration": 14,
    "start_time": "2022-05-19T10:29:45.497Z"
   },
   {
    "duration": 5,
    "start_time": "2022-05-19T10:29:47.415Z"
   },
   {
    "duration": 15,
    "start_time": "2022-05-19T10:29:48.156Z"
   },
   {
    "duration": 872,
    "start_time": "2022-05-19T10:29:50.809Z"
   },
   {
    "duration": 747,
    "start_time": "2022-05-19T10:31:07.361Z"
   },
   {
    "duration": 395,
    "start_time": "2022-05-19T10:45:15.164Z"
   },
   {
    "duration": 414,
    "start_time": "2022-05-19T10:49:46.591Z"
   },
   {
    "duration": 454,
    "start_time": "2022-05-19T10:54:47.263Z"
   },
   {
    "duration": 484,
    "start_time": "2022-05-19T11:09:41.043Z"
   },
   {
    "duration": 306,
    "start_time": "2022-05-19T11:14:51.840Z"
   },
   {
    "duration": 384,
    "start_time": "2022-05-19T11:15:00.150Z"
   },
   {
    "duration": 326,
    "start_time": "2022-05-19T11:15:22.908Z"
   },
   {
    "duration": 326,
    "start_time": "2022-05-19T11:15:36.710Z"
   },
   {
    "duration": 1033,
    "start_time": "2022-05-19T11:16:41.121Z"
   },
   {
    "duration": 96,
    "start_time": "2022-05-19T11:20:45.915Z"
   },
   {
    "duration": 32,
    "start_time": "2022-05-19T11:20:54.561Z"
   },
   {
    "duration": 315,
    "start_time": "2022-05-19T11:21:09.316Z"
   },
   {
    "duration": 330,
    "start_time": "2022-05-19T11:22:27.966Z"
   },
   {
    "duration": 319,
    "start_time": "2022-05-19T11:22:43.597Z"
   },
   {
    "duration": 3,
    "start_time": "2022-05-19T11:26:49.258Z"
   },
   {
    "duration": 383,
    "start_time": "2022-05-19T11:31:09.376Z"
   },
   {
    "duration": 563,
    "start_time": "2022-05-19T11:32:16.493Z"
   },
   {
    "duration": 1042,
    "start_time": "2022-05-19T11:32:54.969Z"
   },
   {
    "duration": 1109,
    "start_time": "2022-05-19T11:33:50.541Z"
   },
   {
    "duration": 1091,
    "start_time": "2022-05-19T11:34:11.492Z"
   },
   {
    "duration": 1149,
    "start_time": "2022-05-19T11:35:30.880Z"
   },
   {
    "duration": 1081,
    "start_time": "2022-05-19T11:48:28.196Z"
   },
   {
    "duration": 940,
    "start_time": "2022-05-19T11:48:53.895Z"
   },
   {
    "duration": 966,
    "start_time": "2022-05-19T11:49:32.086Z"
   },
   {
    "duration": 1045,
    "start_time": "2022-05-19T11:50:06.988Z"
   },
   {
    "duration": 424,
    "start_time": "2022-05-19T11:51:03.295Z"
   },
   {
    "duration": 989,
    "start_time": "2022-05-19T11:51:22.201Z"
   },
   {
    "duration": 1230,
    "start_time": "2022-05-19T11:52:43.843Z"
   },
   {
    "duration": 326,
    "start_time": "2022-05-19T11:55:39.183Z"
   },
   {
    "duration": 1204,
    "start_time": "2022-05-19T11:55:57.829Z"
   },
   {
    "duration": 1131,
    "start_time": "2022-05-19T11:56:37.743Z"
   },
   {
    "duration": 343,
    "start_time": "2022-05-19T11:58:16.681Z"
   },
   {
    "duration": 1102,
    "start_time": "2022-05-19T11:59:23.840Z"
   },
   {
    "duration": 996,
    "start_time": "2022-05-19T12:02:04.527Z"
   },
   {
    "duration": 306,
    "start_time": "2022-05-19T12:05:54.266Z"
   },
   {
    "duration": 1177,
    "start_time": "2022-05-19T12:06:11.601Z"
   },
   {
    "duration": 1033,
    "start_time": "2022-05-19T12:06:44.662Z"
   },
   {
    "duration": 1364,
    "start_time": "2022-05-19T12:08:49.695Z"
   },
   {
    "duration": 13,
    "start_time": "2022-05-19T12:13:43.003Z"
   },
   {
    "duration": 8,
    "start_time": "2022-05-19T12:13:47.949Z"
   },
   {
    "duration": 4,
    "start_time": "2022-05-19T12:13:54.279Z"
   },
   {
    "duration": 5,
    "start_time": "2022-05-19T12:14:00.821Z"
   },
   {
    "duration": 1810,
    "start_time": "2022-05-21T11:52:40.472Z"
   },
   {
    "duration": 249,
    "start_time": "2022-05-21T11:52:42.284Z"
   },
   {
    "duration": 63,
    "start_time": "2022-05-21T11:52:44.190Z"
   },
   {
    "duration": 7,
    "start_time": "2022-05-21T11:52:44.566Z"
   },
   {
    "duration": 5,
    "start_time": "2022-05-21T11:52:44.866Z"
   },
   {
    "duration": 7,
    "start_time": "2022-05-21T11:52:45.166Z"
   },
   {
    "duration": 7,
    "start_time": "2022-05-21T11:52:45.426Z"
   },
   {
    "duration": 13,
    "start_time": "2022-05-21T11:52:45.721Z"
   },
   {
    "duration": 50,
    "start_time": "2022-05-21T11:52:47.177Z"
   },
   {
    "duration": 8,
    "start_time": "2022-05-21T11:52:47.766Z"
   },
   {
    "duration": 16,
    "start_time": "2022-05-21T11:52:47.977Z"
   },
   {
    "duration": 20,
    "start_time": "2022-05-21T11:52:48.773Z"
   },
   {
    "duration": 28,
    "start_time": "2022-05-21T11:52:50.581Z"
   },
   {
    "duration": 7,
    "start_time": "2022-05-21T11:52:51.472Z"
   },
   {
    "duration": 13,
    "start_time": "2022-05-21T11:52:52.292Z"
   },
   {
    "duration": 8,
    "start_time": "2022-05-21T11:52:52.621Z"
   },
   {
    "duration": 38,
    "start_time": "2022-05-21T11:52:53.370Z"
   },
   {
    "duration": 12,
    "start_time": "2022-05-21T11:52:53.674Z"
   },
   {
    "duration": 25,
    "start_time": "2022-05-21T11:52:54.383Z"
   },
   {
    "duration": 22,
    "start_time": "2022-05-21T11:52:54.988Z"
   },
   {
    "duration": 8,
    "start_time": "2022-05-21T11:52:55.589Z"
   },
   {
    "duration": 13,
    "start_time": "2022-05-21T11:52:56.179Z"
   },
   {
    "duration": 467,
    "start_time": "2022-05-21T11:52:58.074Z"
   },
   {
    "duration": 14,
    "start_time": "2022-05-21T11:53:10.173Z"
   },
   {
    "duration": 434,
    "start_time": "2022-05-21T11:53:12.674Z"
   },
   {
    "duration": 312,
    "start_time": "2022-05-21T11:53:20.504Z"
   },
   {
    "duration": 1279,
    "start_time": "2022-05-21T11:53:24.265Z"
   },
   {
    "duration": 1166,
    "start_time": "2022-05-21T11:53:29.873Z"
   },
   {
    "duration": 1048,
    "start_time": "2022-05-21T11:54:19.227Z"
   },
   {
    "duration": 1313,
    "start_time": "2022-05-21T11:55:24.460Z"
   },
   {
    "duration": 18,
    "start_time": "2022-05-21T12:00:51.819Z"
   },
   {
    "duration": 688,
    "start_time": "2022-05-21T12:03:34.902Z"
   },
   {
    "duration": 657,
    "start_time": "2022-05-21T12:03:51.839Z"
   },
   {
    "duration": 853,
    "start_time": "2022-05-21T12:05:59.288Z"
   },
   {
    "duration": 885,
    "start_time": "2022-05-21T12:06:40.375Z"
   },
   {
    "duration": 876,
    "start_time": "2022-05-21T12:06:51.400Z"
   },
   {
    "duration": 753,
    "start_time": "2022-05-21T12:07:17.426Z"
   },
   {
    "duration": 833,
    "start_time": "2022-05-21T12:07:32.595Z"
   },
   {
    "duration": 783,
    "start_time": "2022-05-21T12:07:40.322Z"
   },
   {
    "duration": 738,
    "start_time": "2022-05-21T12:07:52.237Z"
   },
   {
    "duration": 842,
    "start_time": "2022-05-21T12:11:02.516Z"
   },
   {
    "duration": 803,
    "start_time": "2022-05-21T12:11:49.921Z"
   },
   {
    "duration": 748,
    "start_time": "2022-05-21T12:18:55.092Z"
   },
   {
    "duration": 854,
    "start_time": "2022-05-21T12:21:42.981Z"
   },
   {
    "duration": 1291,
    "start_time": "2022-05-21T12:24:33.420Z"
   },
   {
    "duration": 885,
    "start_time": "2022-05-21T12:24:47.816Z"
   },
   {
    "duration": 967,
    "start_time": "2022-05-21T12:25:17.822Z"
   },
   {
    "duration": 822,
    "start_time": "2022-05-21T12:25:46.220Z"
   },
   {
    "duration": 48,
    "start_time": "2022-05-21T12:28:35.624Z"
   },
   {
    "duration": 42,
    "start_time": "2022-05-21T12:28:53.016Z"
   },
   {
    "duration": 38,
    "start_time": "2022-05-21T12:29:05.333Z"
   },
   {
    "duration": 53,
    "start_time": "2022-05-21T12:29:27.622Z"
   },
   {
    "duration": 64,
    "start_time": "2022-05-21T12:29:37.419Z"
   },
   {
    "duration": 47,
    "start_time": "2022-05-21T12:30:03.826Z"
   },
   {
    "duration": 907,
    "start_time": "2022-05-21T12:30:31.234Z"
   },
   {
    "duration": 797,
    "start_time": "2022-05-21T12:31:38.222Z"
   },
   {
    "duration": 748,
    "start_time": "2022-05-21T12:47:13.435Z"
   },
   {
    "duration": 575,
    "start_time": "2022-05-21T12:56:19.954Z"
   },
   {
    "duration": 695,
    "start_time": "2022-05-21T13:08:25.091Z"
   },
   {
    "duration": 16,
    "start_time": "2022-05-21T13:20:00.521Z"
   },
   {
    "duration": 4,
    "start_time": "2022-05-21T13:30:31.467Z"
   },
   {
    "duration": 9,
    "start_time": "2022-05-21T13:31:09.459Z"
   },
   {
    "duration": 4,
    "start_time": "2022-05-21T13:31:25.661Z"
   }
  ],
  "kernelspec": {
   "display_name": "Python 3 (ipykernel)",
   "language": "python",
   "name": "python3"
  },
  "language_info": {
   "codemirror_mode": {
    "name": "ipython",
    "version": 3
   },
   "file_extension": ".py",
   "mimetype": "text/x-python",
   "name": "python",
   "nbconvert_exporter": "python",
   "pygments_lexer": "ipython3",
   "version": "3.9.12"
  },
  "toc": {
   "base_numbering": 1,
   "nav_menu": {
    "height": "70px",
    "width": "334px"
   },
   "number_sections": true,
   "sideBar": true,
   "skip_h1_title": true,
   "title_cell": "Table of Contents",
   "title_sidebar": "Contents",
   "toc_cell": false,
   "toc_position": {
    "height": "calc(100% - 180px)",
    "left": "10px",
    "top": "150px",
    "width": "165px"
   },
   "toc_section_display": true,
   "toc_window_display": true
  }
 },
 "nbformat": 4,
 "nbformat_minor": 2
}
