{
 "cells": [
  {
   "cell_type": "markdown",
   "metadata": {},
   "source": [
    "# Исследование надёжности заёмщиков\n",
    "\n",
    "Заказчик — кредитный отдел банка. Нужно разобраться, влияет ли семейное положение и количество детей клиента на факт погашения кредита в срок. Входные данные от банка — статистика о платёжеспособности клиентов.\n",
    "\n",
    "Результаты исследования будут учтены при построении модели **кредитного скоринга** — специальной системы, которая оценивает способность потенциального заёмщика вернуть кредит банку."
   ]
  },
  {
   "cell_type": "markdown",
   "metadata": {},
   "source": [
    "## Изучение общей информации"
   ]
  },
  {
   "cell_type": "code",
   "execution_count": 1,
   "metadata": {},
   "outputs": [
    {
     "name": "stdout",
     "output_type": "stream",
     "text": [
      "<class 'pandas.core.frame.DataFrame'>\n",
      "RangeIndex: 21525 entries, 0 to 21524\n",
      "Data columns (total 12 columns):\n",
      "children            21525 non-null int64\n",
      "days_employed       19351 non-null float64\n",
      "dob_years           21525 non-null int64\n",
      "education           21525 non-null object\n",
      "education_id        21525 non-null int64\n",
      "family_status       21525 non-null object\n",
      "family_status_id    21525 non-null int64\n",
      "gender              21525 non-null object\n",
      "income_type         21525 non-null object\n",
      "debt                21525 non-null int64\n",
      "total_income        19351 non-null float64\n",
      "purpose             21525 non-null object\n",
      "dtypes: float64(2), int64(5), object(5)\n",
      "memory usage: 2.0+ MB\n"
     ]
    },
    {
     "data": {
      "text/html": [
       "<div>\n",
       "<style scoped>\n",
       "    .dataframe tbody tr th:only-of-type {\n",
       "        vertical-align: middle;\n",
       "    }\n",
       "\n",
       "    .dataframe tbody tr th {\n",
       "        vertical-align: top;\n",
       "    }\n",
       "\n",
       "    .dataframe thead th {\n",
       "        text-align: right;\n",
       "    }\n",
       "</style>\n",
       "<table border=\"1\" class=\"dataframe\">\n",
       "  <thead>\n",
       "    <tr style=\"text-align: right;\">\n",
       "      <th></th>\n",
       "      <th>children</th>\n",
       "      <th>days_employed</th>\n",
       "      <th>dob_years</th>\n",
       "      <th>education</th>\n",
       "      <th>education_id</th>\n",
       "      <th>family_status</th>\n",
       "      <th>family_status_id</th>\n",
       "      <th>gender</th>\n",
       "      <th>income_type</th>\n",
       "      <th>debt</th>\n",
       "      <th>total_income</th>\n",
       "      <th>purpose</th>\n",
       "    </tr>\n",
       "  </thead>\n",
       "  <tbody>\n",
       "    <tr>\n",
       "      <td>0</td>\n",
       "      <td>1</td>\n",
       "      <td>-8437.673028</td>\n",
       "      <td>42</td>\n",
       "      <td>высшее</td>\n",
       "      <td>0</td>\n",
       "      <td>женат / замужем</td>\n",
       "      <td>0</td>\n",
       "      <td>F</td>\n",
       "      <td>сотрудник</td>\n",
       "      <td>0</td>\n",
       "      <td>253875.639453</td>\n",
       "      <td>покупка жилья</td>\n",
       "    </tr>\n",
       "    <tr>\n",
       "      <td>1</td>\n",
       "      <td>1</td>\n",
       "      <td>-4024.803754</td>\n",
       "      <td>36</td>\n",
       "      <td>среднее</td>\n",
       "      <td>1</td>\n",
       "      <td>женат / замужем</td>\n",
       "      <td>0</td>\n",
       "      <td>F</td>\n",
       "      <td>сотрудник</td>\n",
       "      <td>0</td>\n",
       "      <td>112080.014102</td>\n",
       "      <td>приобретение автомобиля</td>\n",
       "    </tr>\n",
       "    <tr>\n",
       "      <td>2</td>\n",
       "      <td>0</td>\n",
       "      <td>-5623.422610</td>\n",
       "      <td>33</td>\n",
       "      <td>Среднее</td>\n",
       "      <td>1</td>\n",
       "      <td>женат / замужем</td>\n",
       "      <td>0</td>\n",
       "      <td>M</td>\n",
       "      <td>сотрудник</td>\n",
       "      <td>0</td>\n",
       "      <td>145885.952297</td>\n",
       "      <td>покупка жилья</td>\n",
       "    </tr>\n",
       "    <tr>\n",
       "      <td>3</td>\n",
       "      <td>3</td>\n",
       "      <td>-4124.747207</td>\n",
       "      <td>32</td>\n",
       "      <td>среднее</td>\n",
       "      <td>1</td>\n",
       "      <td>женат / замужем</td>\n",
       "      <td>0</td>\n",
       "      <td>M</td>\n",
       "      <td>сотрудник</td>\n",
       "      <td>0</td>\n",
       "      <td>267628.550329</td>\n",
       "      <td>дополнительное образование</td>\n",
       "    </tr>\n",
       "    <tr>\n",
       "      <td>4</td>\n",
       "      <td>0</td>\n",
       "      <td>340266.072047</td>\n",
       "      <td>53</td>\n",
       "      <td>среднее</td>\n",
       "      <td>1</td>\n",
       "      <td>гражданский брак</td>\n",
       "      <td>1</td>\n",
       "      <td>F</td>\n",
       "      <td>пенсионер</td>\n",
       "      <td>0</td>\n",
       "      <td>158616.077870</td>\n",
       "      <td>сыграть свадьбу</td>\n",
       "    </tr>\n",
       "  </tbody>\n",
       "</table>\n",
       "</div>"
      ],
      "text/plain": [
       "   children  days_employed  dob_years education  education_id  \\\n",
       "0         1   -8437.673028         42    высшее             0   \n",
       "1         1   -4024.803754         36   среднее             1   \n",
       "2         0   -5623.422610         33   Среднее             1   \n",
       "3         3   -4124.747207         32   среднее             1   \n",
       "4         0  340266.072047         53   среднее             1   \n",
       "\n",
       "      family_status  family_status_id gender income_type  debt   total_income  \\\n",
       "0   женат / замужем                 0      F   сотрудник     0  253875.639453   \n",
       "1   женат / замужем                 0      F   сотрудник     0  112080.014102   \n",
       "2   женат / замужем                 0      M   сотрудник     0  145885.952297   \n",
       "3   женат / замужем                 0      M   сотрудник     0  267628.550329   \n",
       "4  гражданский брак                 1      F   пенсионер     0  158616.077870   \n",
       "\n",
       "                      purpose  \n",
       "0               покупка жилья  \n",
       "1     приобретение автомобиля  \n",
       "2               покупка жилья  \n",
       "3  дополнительное образование  \n",
       "4             сыграть свадьбу  "
      ]
     },
     "execution_count": 1,
     "metadata": {},
     "output_type": "execute_result"
    }
   ],
   "source": [
    "# импорт библиотеки pandas\n",
    "import pandas as pd\n",
    "# чтение файла с данными и сохранение в df\n",
    "data = pd.read_csv('/datasets/data.csv')\n",
    "# получение общей информации о данных в таблице df\n",
    "data.info()\n",
    "# получение первых 10 строк таблицы df\n",
    "data.head()"
   ]
  },
  {
   "cell_type": "markdown",
   "metadata": {},
   "source": [
    " \n",
    "Согласно документации к данным:\n",
    " \n",
    "* `children` — количество детей в семье;\n",
    "* `days_employed` — общий трудовой стаж в днях;\n",
    "* `dob_years` — возраст клиента в годах;\n",
    "* `education` — уровень образования клиента;\n",
    "* `education_id` — идентификатор уровня образования;\n",
    "* `family_status` — семейное положение;\n",
    "* `family_status_id` — идентификатор семейного положения;\n",
    "* `gender` — пол клиента;\n",
    "* `income_type` — тип занятости;\n",
    "* `debt` — имел ли задолженность по возврату кредитов;\n",
    "* `total_income` — ежемесячный доход;\n",
    "* `purpose` — цель получения кредита.\n",
    "\n",
    "\n",
    "Посмотрим уникальные значения для столбцов `children`, `ducation`, `family_status`, `family_status_id`, `gender`.\n",
    " "
   ]
  },
  {
   "cell_type": "code",
   "execution_count": 2,
   "metadata": {},
   "outputs": [
    {
     "data": {
      "text/plain": [
       "array([ 1,  0,  3,  2, -1,  4, 20,  5])"
      ]
     },
     "execution_count": 2,
     "metadata": {},
     "output_type": "execute_result"
    }
   ],
   "source": [
    "# посмотрим список уникальных значений столбца children\n",
    "data['children'].unique()"
   ]
  },
  {
   "cell_type": "code",
   "execution_count": 3,
   "metadata": {},
   "outputs": [
    {
     "data": {
      "text/plain": [
       "array([42, 36, 33, 32, 53, 27, 43, 50, 35, 41, 40, 65, 54, 56, 26, 48, 24,\n",
       "       21, 57, 67, 28, 63, 62, 47, 34, 68, 25, 31, 30, 20, 49, 37, 45, 61,\n",
       "       64, 44, 52, 46, 23, 38, 39, 51,  0, 59, 29, 60, 55, 58, 71, 22, 73,\n",
       "       66, 69, 19, 72, 70, 74, 75])"
      ]
     },
     "execution_count": 3,
     "metadata": {},
     "output_type": "execute_result"
    }
   ],
   "source": [
    "# посмотрим список уникальных значений столбца dob_years\n",
    "data['dob_years'].unique()"
   ]
  },
  {
   "cell_type": "code",
   "execution_count": 4,
   "metadata": {},
   "outputs": [
    {
     "data": {
      "text/plain": [
       "array(['высшее', 'среднее', 'Среднее', 'СРЕДНЕЕ', 'ВЫСШЕЕ',\n",
       "       'неоконченное высшее', 'начальное', 'Высшее',\n",
       "       'НЕОКОНЧЕННОЕ ВЫСШЕЕ', 'Неоконченное высшее', 'НАЧАЛЬНОЕ',\n",
       "       'Начальное', 'Ученая степень', 'УЧЕНАЯ СТЕПЕНЬ', 'ученая степень'],\n",
       "      dtype=object)"
      ]
     },
     "execution_count": 4,
     "metadata": {},
     "output_type": "execute_result"
    }
   ],
   "source": [
    "#посмотрим список уникальных значений столбца education\n",
    "data['education'].unique()"
   ]
  },
  {
   "cell_type": "code",
   "execution_count": 5,
   "metadata": {},
   "outputs": [
    {
     "data": {
      "text/plain": [
       "array([0, 1, 2, 3, 4])"
      ]
     },
     "execution_count": 5,
     "metadata": {},
     "output_type": "execute_result"
    }
   ],
   "source": [
    "#посмотрим список уникальных значений столбца education_id\n",
    "data['education_id'].unique()"
   ]
  },
  {
   "cell_type": "code",
   "execution_count": 6,
   "metadata": {},
   "outputs": [
    {
     "data": {
      "text/plain": [
       "array(['женат / замужем', 'гражданский брак', 'вдовец / вдова',\n",
       "       'в разводе', 'Не женат / не замужем'], dtype=object)"
      ]
     },
     "execution_count": 6,
     "metadata": {},
     "output_type": "execute_result"
    }
   ],
   "source": [
    "#посмотрим список уникальных значений столбца family_status\n",
    "data['family_status'].unique()"
   ]
  },
  {
   "cell_type": "code",
   "execution_count": 7,
   "metadata": {},
   "outputs": [
    {
     "data": {
      "text/plain": [
       "array([0, 1, 2, 3, 4])"
      ]
     },
     "execution_count": 7,
     "metadata": {},
     "output_type": "execute_result"
    }
   ],
   "source": [
    "#посмотрим список уникальных значений столбца family_status_id\n",
    "data['family_status_id'].unique()"
   ]
  },
  {
   "cell_type": "code",
   "execution_count": 8,
   "metadata": {},
   "outputs": [
    {
     "data": {
      "text/plain": [
       "array(['F', 'M', 'XNA'], dtype=object)"
      ]
     },
     "execution_count": 8,
     "metadata": {},
     "output_type": "execute_result"
    }
   ],
   "source": [
    "#посмотрим список уникальных значений столбца gender\n",
    "data['gender'].unique()"
   ]
  },
  {
   "cell_type": "code",
   "execution_count": 9,
   "metadata": {},
   "outputs": [
    {
     "data": {
      "text/plain": [
       "array(['сотрудник', 'пенсионер', 'компаньон', 'госслужащий',\n",
       "       'безработный', 'предприниматель', 'студент', 'в декрете'],\n",
       "      dtype=object)"
      ]
     },
     "execution_count": 9,
     "metadata": {},
     "output_type": "execute_result"
    }
   ],
   "source": [
    "#посмотрим список уникальных значений столбца income_type\n",
    "data['income_type'].unique()"
   ]
  },
  {
   "cell_type": "code",
   "execution_count": 10,
   "metadata": {},
   "outputs": [
    {
     "data": {
      "text/plain": [
       "array([0, 1])"
      ]
     },
     "execution_count": 10,
     "metadata": {},
     "output_type": "execute_result"
    }
   ],
   "source": [
    "#посмотрим список уникальных значений столбца debt\n",
    "data['debt'].unique()"
   ]
  },
  {
   "cell_type": "code",
   "execution_count": 11,
   "metadata": {},
   "outputs": [
    {
     "data": {
      "text/plain": [
       "array(['покупка жилья', 'приобретение автомобиля',\n",
       "       'дополнительное образование', 'сыграть свадьбу',\n",
       "       'операции с жильем', 'образование', 'на проведение свадьбы',\n",
       "       'покупка жилья для семьи', 'покупка недвижимости',\n",
       "       'покупка коммерческой недвижимости', 'покупка жилой недвижимости',\n",
       "       'строительство собственной недвижимости', 'недвижимость',\n",
       "       'строительство недвижимости', 'на покупку подержанного автомобиля',\n",
       "       'на покупку своего автомобиля',\n",
       "       'операции с коммерческой недвижимостью',\n",
       "       'строительство жилой недвижимости', 'жилье',\n",
       "       'операции со своей недвижимостью', 'автомобили',\n",
       "       'заняться образованием', 'сделка с подержанным автомобилем',\n",
       "       'получение образования', 'автомобиль', 'свадьба',\n",
       "       'получение дополнительного образования', 'покупка своего жилья',\n",
       "       'операции с недвижимостью', 'получение высшего образования',\n",
       "       'свой автомобиль', 'сделка с автомобилем',\n",
       "       'профильное образование', 'высшее образование',\n",
       "       'покупка жилья для сдачи', 'на покупку автомобиля', 'ремонт жилью',\n",
       "       'заняться высшим образованием'], dtype=object)"
      ]
     },
     "execution_count": 11,
     "metadata": {},
     "output_type": "execute_result"
    }
   ],
   "source": [
    "#посмотрим список уникальных значений столбца purpose\n",
    "data['purpose'].unique()"
   ]
  },
  {
   "cell_type": "code",
   "execution_count": 12,
   "metadata": {},
   "outputs": [
    {
     "data": {
      "text/plain": [
       "0"
      ]
     },
     "execution_count": 12,
     "metadata": {},
     "output_type": "execute_result"
    }
   ],
   "source": [
    "#проверим наличие отрицательных и нулевых значений в столбце total_income\n",
    "data[data['total_income'] <= 0]['total_income'].count()"
   ]
  },
  {
   "cell_type": "markdown",
   "metadata": {},
   "source": [
    "**Вывод**"
   ]
  },
  {
   "cell_type": "markdown",
   "metadata": {},
   "source": [
    "В колонках `total_income` и `days_employed` есть пропуски данных.\n",
    "\n",
    "В списке уникальных значений `education` есть повторяющиеся, так как использован различный регистр, что может затруднять поиск дубликатов.\n",
    "\n",
    "В датасете есть значения, несоответствующие действительности:\n",
    "* в колонке `children` - отрицательные значения и значения в размере 20 детей в семье;\n",
    "* в колонке `days_employed` - отрицательный трудовой стаж и количество дней стажа, превыщающее потенциальную длительность человеческой жизни (например,340266 - это 932 года стажа);\n",
    "* в столбце `dob_years` и `gender` также есть значения , несоответствующие действительности( 0 и XNA соответственно). Возможно таким образом заполнили строки с отсутствующими данными. Так как значения в этих столбцах не влияют на дальнейший анализ , оставим их в таком виде.\n",
    "\n",
    "В столбце `purpose` цели кредита для дальнейшего анализа необходимо стандартизировать, так как есть одинаковые цели, но по-разному сформулированные.\n",
    "\n",
    "Для оптимальной работы с таблицей  создадим отдельные словари для категорий образования и семейного статуса."
   ]
  },
  {
   "cell_type": "markdown",
   "metadata": {},
   "source": [
    "## Предобработка данных"
   ]
  },
  {
   "cell_type": "markdown",
   "metadata": {},
   "source": [
    "### Обработка артефактных значений"
   ]
  },
  {
   "cell_type": "markdown",
   "metadata": {},
   "source": [
    "Проверим наличие зависимости артефактных значений в `days_employed` от типа занятости заемщиков."
   ]
  },
  {
   "cell_type": "code",
   "execution_count": 13,
   "metadata": {},
   "outputs": [
    {
     "data": {
      "text/html": [
       "<div>\n",
       "<style scoped>\n",
       "    .dataframe tbody tr th:only-of-type {\n",
       "        vertical-align: middle;\n",
       "    }\n",
       "\n",
       "    .dataframe tbody tr th {\n",
       "        vertical-align: top;\n",
       "    }\n",
       "\n",
       "    .dataframe thead th {\n",
       "        text-align: right;\n",
       "    }\n",
       "</style>\n",
       "<table border=\"1\" class=\"dataframe\">\n",
       "  <thead>\n",
       "    <tr style=\"text-align: right;\">\n",
       "      <th></th>\n",
       "      <th>count</th>\n",
       "      <th>mean</th>\n",
       "      <th>std</th>\n",
       "      <th>min</th>\n",
       "      <th>25%</th>\n",
       "      <th>50%</th>\n",
       "      <th>75%</th>\n",
       "      <th>max</th>\n",
       "    </tr>\n",
       "    <tr>\n",
       "      <th>income_type</th>\n",
       "      <th></th>\n",
       "      <th></th>\n",
       "      <th></th>\n",
       "      <th></th>\n",
       "      <th></th>\n",
       "      <th></th>\n",
       "      <th></th>\n",
       "      <th></th>\n",
       "    </tr>\n",
       "  </thead>\n",
       "  <tbody>\n",
       "    <tr>\n",
       "      <td>безработный</td>\n",
       "      <td>2.0</td>\n",
       "      <td>366413.652744</td>\n",
       "      <td>40855.478519</td>\n",
       "      <td>337524.466835</td>\n",
       "      <td>351969.059790</td>\n",
       "      <td>366413.652744</td>\n",
       "      <td>380858.245699</td>\n",
       "      <td>395302.838654</td>\n",
       "    </tr>\n",
       "    <tr>\n",
       "      <td>в декрете</td>\n",
       "      <td>1.0</td>\n",
       "      <td>-3296.759962</td>\n",
       "      <td>NaN</td>\n",
       "      <td>-3296.759962</td>\n",
       "      <td>-3296.759962</td>\n",
       "      <td>-3296.759962</td>\n",
       "      <td>-3296.759962</td>\n",
       "      <td>-3296.759962</td>\n",
       "    </tr>\n",
       "    <tr>\n",
       "      <td>госслужащий</td>\n",
       "      <td>1312.0</td>\n",
       "      <td>-3399.896902</td>\n",
       "      <td>2788.371363</td>\n",
       "      <td>-15193.032201</td>\n",
       "      <td>-4759.399260</td>\n",
       "      <td>-2689.368353</td>\n",
       "      <td>-1257.171811</td>\n",
       "      <td>-39.954170</td>\n",
       "    </tr>\n",
       "    <tr>\n",
       "      <td>компаньон</td>\n",
       "      <td>4577.0</td>\n",
       "      <td>-2111.524398</td>\n",
       "      <td>2048.448594</td>\n",
       "      <td>-17615.563266</td>\n",
       "      <td>-2876.648520</td>\n",
       "      <td>-1547.382223</td>\n",
       "      <td>-685.687432</td>\n",
       "      <td>-30.195337</td>\n",
       "    </tr>\n",
       "    <tr>\n",
       "      <td>пенсионер</td>\n",
       "      <td>3443.0</td>\n",
       "      <td>365003.491245</td>\n",
       "      <td>21069.606065</td>\n",
       "      <td>328728.720605</td>\n",
       "      <td>346649.346146</td>\n",
       "      <td>365213.306266</td>\n",
       "      <td>383231.396871</td>\n",
       "      <td>401755.400475</td>\n",
       "    </tr>\n",
       "    <tr>\n",
       "      <td>предприниматель</td>\n",
       "      <td>1.0</td>\n",
       "      <td>-520.848083</td>\n",
       "      <td>NaN</td>\n",
       "      <td>-520.848083</td>\n",
       "      <td>-520.848083</td>\n",
       "      <td>-520.848083</td>\n",
       "      <td>-520.848083</td>\n",
       "      <td>-520.848083</td>\n",
       "    </tr>\n",
       "    <tr>\n",
       "      <td>сотрудник</td>\n",
       "      <td>10014.0</td>\n",
       "      <td>-2326.499216</td>\n",
       "      <td>2307.924129</td>\n",
       "      <td>-18388.949901</td>\n",
       "      <td>-3108.123025</td>\n",
       "      <td>-1574.202821</td>\n",
       "      <td>-746.027361</td>\n",
       "      <td>-24.141633</td>\n",
       "    </tr>\n",
       "    <tr>\n",
       "      <td>студент</td>\n",
       "      <td>1.0</td>\n",
       "      <td>-578.751554</td>\n",
       "      <td>NaN</td>\n",
       "      <td>-578.751554</td>\n",
       "      <td>-578.751554</td>\n",
       "      <td>-578.751554</td>\n",
       "      <td>-578.751554</td>\n",
       "      <td>-578.751554</td>\n",
       "    </tr>\n",
       "  </tbody>\n",
       "</table>\n",
       "</div>"
      ],
      "text/plain": [
       "                   count           mean           std            min  \\\n",
       "income_type                                                            \n",
       "безработный          2.0  366413.652744  40855.478519  337524.466835   \n",
       "в декрете            1.0   -3296.759962           NaN   -3296.759962   \n",
       "госслужащий       1312.0   -3399.896902   2788.371363  -15193.032201   \n",
       "компаньон         4577.0   -2111.524398   2048.448594  -17615.563266   \n",
       "пенсионер         3443.0  365003.491245  21069.606065  328728.720605   \n",
       "предприниматель      1.0    -520.848083           NaN    -520.848083   \n",
       "сотрудник        10014.0   -2326.499216   2307.924129  -18388.949901   \n",
       "студент              1.0    -578.751554           NaN    -578.751554   \n",
       "\n",
       "                           25%            50%            75%            max  \n",
       "income_type                                                                  \n",
       "безработный      351969.059790  366413.652744  380858.245699  395302.838654  \n",
       "в декрете         -3296.759962   -3296.759962   -3296.759962   -3296.759962  \n",
       "госслужащий       -4759.399260   -2689.368353   -1257.171811     -39.954170  \n",
       "компаньон         -2876.648520   -1547.382223    -685.687432     -30.195337  \n",
       "пенсионер        346649.346146  365213.306266  383231.396871  401755.400475  \n",
       "предприниматель    -520.848083    -520.848083    -520.848083    -520.848083  \n",
       "сотрудник         -3108.123025   -1574.202821    -746.027361     -24.141633  \n",
       "студент            -578.751554    -578.751554    -578.751554    -578.751554  "
      ]
     },
     "metadata": {},
     "output_type": "display_data"
    },
    {
     "data": {
      "text/html": [
       "<div>\n",
       "<style scoped>\n",
       "    .dataframe tbody tr th:only-of-type {\n",
       "        vertical-align: middle;\n",
       "    }\n",
       "\n",
       "    .dataframe tbody tr th {\n",
       "        vertical-align: top;\n",
       "    }\n",
       "\n",
       "    .dataframe thead th {\n",
       "        text-align: right;\n",
       "    }\n",
       "</style>\n",
       "<table border=\"1\" class=\"dataframe\">\n",
       "  <thead>\n",
       "    <tr style=\"text-align: right;\">\n",
       "      <th></th>\n",
       "      <th>count</th>\n",
       "      <th>mean</th>\n",
       "      <th>std</th>\n",
       "      <th>min</th>\n",
       "      <th>25%</th>\n",
       "      <th>50%</th>\n",
       "      <th>75%</th>\n",
       "      <th>max</th>\n",
       "    </tr>\n",
       "    <tr>\n",
       "      <th>income_type</th>\n",
       "      <th></th>\n",
       "      <th></th>\n",
       "      <th></th>\n",
       "      <th></th>\n",
       "      <th></th>\n",
       "      <th></th>\n",
       "      <th></th>\n",
       "      <th></th>\n",
       "    </tr>\n",
       "  </thead>\n",
       "  <tbody>\n",
       "    <tr>\n",
       "      <td>безработный</td>\n",
       "      <td>2.0</td>\n",
       "      <td>38.000000</td>\n",
       "      <td>9.899495</td>\n",
       "      <td>31.0</td>\n",
       "      <td>34.50</td>\n",
       "      <td>38.0</td>\n",
       "      <td>41.50</td>\n",
       "      <td>45.0</td>\n",
       "    </tr>\n",
       "    <tr>\n",
       "      <td>в декрете</td>\n",
       "      <td>1.0</td>\n",
       "      <td>39.000000</td>\n",
       "      <td>NaN</td>\n",
       "      <td>39.0</td>\n",
       "      <td>39.00</td>\n",
       "      <td>39.0</td>\n",
       "      <td>39.00</td>\n",
       "      <td>39.0</td>\n",
       "    </tr>\n",
       "    <tr>\n",
       "      <td>госслужащий</td>\n",
       "      <td>1459.0</td>\n",
       "      <td>40.636737</td>\n",
       "      <td>10.744491</td>\n",
       "      <td>0.0</td>\n",
       "      <td>32.00</td>\n",
       "      <td>40.0</td>\n",
       "      <td>48.00</td>\n",
       "      <td>75.0</td>\n",
       "    </tr>\n",
       "    <tr>\n",
       "      <td>компаньон</td>\n",
       "      <td>5085.0</td>\n",
       "      <td>39.697542</td>\n",
       "      <td>10.671115</td>\n",
       "      <td>0.0</td>\n",
       "      <td>31.00</td>\n",
       "      <td>39.0</td>\n",
       "      <td>48.00</td>\n",
       "      <td>74.0</td>\n",
       "    </tr>\n",
       "    <tr>\n",
       "      <td>пенсионер</td>\n",
       "      <td>3856.0</td>\n",
       "      <td>59.063019</td>\n",
       "      <td>7.618526</td>\n",
       "      <td>0.0</td>\n",
       "      <td>56.00</td>\n",
       "      <td>60.0</td>\n",
       "      <td>64.00</td>\n",
       "      <td>74.0</td>\n",
       "    </tr>\n",
       "    <tr>\n",
       "      <td>предприниматель</td>\n",
       "      <td>2.0</td>\n",
       "      <td>42.500000</td>\n",
       "      <td>21.920310</td>\n",
       "      <td>27.0</td>\n",
       "      <td>34.75</td>\n",
       "      <td>42.5</td>\n",
       "      <td>50.25</td>\n",
       "      <td>58.0</td>\n",
       "    </tr>\n",
       "    <tr>\n",
       "      <td>сотрудник</td>\n",
       "      <td>11119.0</td>\n",
       "      <td>39.821027</td>\n",
       "      <td>10.655127</td>\n",
       "      <td>0.0</td>\n",
       "      <td>32.00</td>\n",
       "      <td>39.0</td>\n",
       "      <td>48.00</td>\n",
       "      <td>74.0</td>\n",
       "    </tr>\n",
       "    <tr>\n",
       "      <td>студент</td>\n",
       "      <td>1.0</td>\n",
       "      <td>22.000000</td>\n",
       "      <td>NaN</td>\n",
       "      <td>22.0</td>\n",
       "      <td>22.00</td>\n",
       "      <td>22.0</td>\n",
       "      <td>22.00</td>\n",
       "      <td>22.0</td>\n",
       "    </tr>\n",
       "  </tbody>\n",
       "</table>\n",
       "</div>"
      ],
      "text/plain": [
       "                   count       mean        std   min    25%   50%    75%   max\n",
       "income_type                                                                   \n",
       "безработный          2.0  38.000000   9.899495  31.0  34.50  38.0  41.50  45.0\n",
       "в декрете            1.0  39.000000        NaN  39.0  39.00  39.0  39.00  39.0\n",
       "госслужащий       1459.0  40.636737  10.744491   0.0  32.00  40.0  48.00  75.0\n",
       "компаньон         5085.0  39.697542  10.671115   0.0  31.00  39.0  48.00  74.0\n",
       "пенсионер         3856.0  59.063019   7.618526   0.0  56.00  60.0  64.00  74.0\n",
       "предприниматель      2.0  42.500000  21.920310  27.0  34.75  42.5  50.25  58.0\n",
       "сотрудник        11119.0  39.821027  10.655127   0.0  32.00  39.0  48.00  74.0\n",
       "студент              1.0  22.000000        NaN  22.0  22.00  22.0  22.00  22.0"
      ]
     },
     "execution_count": 13,
     "metadata": {},
     "output_type": "execute_result"
    }
   ],
   "source": [
    "#сгруппируем значения стажа заемщиков по типам занятости и применим функцию describe\n",
    "display(data.groupby('income_type')['days_employed'].describe())\n",
    "# посмотрим информацию о возрасте по типам занятости\n",
    "data.groupby('income_type')['dob_years'].describe()"
   ]
  },
  {
   "cell_type": "markdown",
   "metadata": {},
   "source": [
    "Все значения столбца `days_employed` не соответствуют действительности.\n",
    "\n",
    "В категориях \"в декрете\", \"госслужащий\", \"компаньон\", \"предприниматель\", \"сотрудник\", \"студент\" все значения отрицательные. Заменим отрицательные значения на соответствующие им модули.\n",
    "\n",
    "В оставшихся категориях \"безработный\",\"пенсионер\" указан аномально высокий трудовой стаж. "
   ]
  },
  {
   "cell_type": "markdown",
   "metadata": {},
   "source": [
    "Обработаем отрицательные артефактные значения `days_employed` "
   ]
  },
  {
   "cell_type": "code",
   "execution_count": 14,
   "metadata": {},
   "outputs": [
    {
     "data": {
      "text/plain": [
       "0"
      ]
     },
     "execution_count": 14,
     "metadata": {},
     "output_type": "execute_result"
    }
   ],
   "source": [
    "#применим метод abs к столбцу 'days_employed'\n",
    "data['days_employed'] = data['days_employed'].abs()\n",
    "# проверим,что отрицательных значенрий не осталось\n",
    "data[data['days_employed'] < 0]['days_employed'].count()"
   ]
  },
  {
   "cell_type": "markdown",
   "metadata": {},
   "source": [
    "Посчитаем удельный вес артефактных значений в столбце `children`"
   ]
  },
  {
   "cell_type": "code",
   "execution_count": 15,
   "metadata": {
    "scrolled": true
   },
   "outputs": [
    {
     "data": {
      "text/html": [
       "<div>\n",
       "<style scoped>\n",
       "    .dataframe tbody tr th:only-of-type {\n",
       "        vertical-align: middle;\n",
       "    }\n",
       "\n",
       "    .dataframe tbody tr th {\n",
       "        vertical-align: top;\n",
       "    }\n",
       "\n",
       "    .dataframe thead th {\n",
       "        text-align: right;\n",
       "    }\n",
       "</style>\n",
       "<table border=\"1\" class=\"dataframe\">\n",
       "  <thead>\n",
       "    <tr style=\"text-align: right;\">\n",
       "      <th></th>\n",
       "      <th>index</th>\n",
       "      <th>children</th>\n",
       "      <th>ratio</th>\n",
       "    </tr>\n",
       "  </thead>\n",
       "  <tbody>\n",
       "    <tr>\n",
       "      <td>0</td>\n",
       "      <td>0</td>\n",
       "      <td>14149</td>\n",
       "      <td>65.73</td>\n",
       "    </tr>\n",
       "    <tr>\n",
       "      <td>1</td>\n",
       "      <td>1</td>\n",
       "      <td>4818</td>\n",
       "      <td>22.38</td>\n",
       "    </tr>\n",
       "    <tr>\n",
       "      <td>2</td>\n",
       "      <td>2</td>\n",
       "      <td>2055</td>\n",
       "      <td>9.55</td>\n",
       "    </tr>\n",
       "    <tr>\n",
       "      <td>3</td>\n",
       "      <td>3</td>\n",
       "      <td>330</td>\n",
       "      <td>1.53</td>\n",
       "    </tr>\n",
       "    <tr>\n",
       "      <td>4</td>\n",
       "      <td>20</td>\n",
       "      <td>76</td>\n",
       "      <td>0.35</td>\n",
       "    </tr>\n",
       "    <tr>\n",
       "      <td>5</td>\n",
       "      <td>-1</td>\n",
       "      <td>47</td>\n",
       "      <td>0.22</td>\n",
       "    </tr>\n",
       "    <tr>\n",
       "      <td>6</td>\n",
       "      <td>4</td>\n",
       "      <td>41</td>\n",
       "      <td>0.19</td>\n",
       "    </tr>\n",
       "    <tr>\n",
       "      <td>7</td>\n",
       "      <td>5</td>\n",
       "      <td>9</td>\n",
       "      <td>0.04</td>\n",
       "    </tr>\n",
       "  </tbody>\n",
       "</table>\n",
       "</div>"
      ],
      "text/plain": [
       "   index  children  ratio\n",
       "0      0     14149  65.73\n",
       "1      1      4818  22.38\n",
       "2      2      2055   9.55\n",
       "3      3       330   1.53\n",
       "4     20        76   0.35\n",
       "5     -1        47   0.22\n",
       "6      4        41   0.19\n",
       "7      5         9   0.04"
      ]
     },
     "execution_count": 15,
     "metadata": {},
     "output_type": "execute_result"
    }
   ],
   "source": [
    "# создадим группировку по количеству детей \n",
    "children_group_counts = data['children'].value_counts().reset_index()\n",
    "#вычислим удельный вес каждой группы\n",
    "children_group_counts['ratio'] = (children_group_counts['children']/(children_group_counts['children'].sum())*100).round(2)\n",
    "children_group_counts"
   ]
  },
  {
   "cell_type": "markdown",
   "metadata": {},
   "source": [
    "Обработаем артефактные значения `children` "
   ]
  },
  {
   "cell_type": "code",
   "execution_count": 16,
   "metadata": {},
   "outputs": [
    {
     "name": "stdout",
     "output_type": "stream",
     "text": [
      "0\n"
     ]
    },
    {
     "data": {
      "text/plain": [
       "0"
      ]
     },
     "execution_count": 16,
     "metadata": {},
     "output_type": "execute_result"
    }
   ],
   "source": [
    "# Изменим отрицательные значения на положительные, а количество 20 на 2\n",
    "data = data.replace({'children':{-1:1, 20:2}})\n",
    "#проверим, что замена произошла и количество  строк со старыми значениями равно теперь 0\n",
    "print(data[data['children'] == 20]['children'].count())\n",
    "data[data['children'] == -1]['children'].count()"
   ]
  },
  {
   "cell_type": "markdown",
   "metadata": {},
   "source": [
    "**Вывод**"
   ]
  },
  {
   "cell_type": "markdown",
   "metadata": {},
   "source": [
    "Возможно артефактные значения столбцов `days_employed` и `children`  появились в следствии неверного ввода информации или сбоя при переносе информации. \n",
    "Целесообразно отрицательные значения заменить на соответствующий модуль.\n",
    "\n",
    "Удельный вес группы строк `children` со значением 20 менее 0.5%. Вследствии этого данные этой группы не будут имеют существенного влияния на результаты анализа датасета. Также на текущий момент в общедоступных источниках есть информация только об одной семье в России с таким высоким количеством детей, в то время как количество записей в данной группе - 76, что  маловероятно может соответствовать количеству заявок одной семьи. Поэтому допустимо заменить  20  на 2.\n",
    "\n",
    "Сложно определить  причину появления значений столбца `days_employed`, сильно превыщающих максимально возможый для человека трудовой стаж в днях (возможно была допущена ошибка в разделители целой и дробной части в момент ввода данных, или был указан стаж не в днях , а в часах ). Так как эти данные не используютсят в дальнейшем анализе гипотез,оставим значения в текущем виде."
   ]
  },
  {
   "cell_type": "markdown",
   "metadata": {},
   "source": [
    "### Обработка пропусков"
   ]
  },
  {
   "cell_type": "code",
   "execution_count": 17,
   "metadata": {},
   "outputs": [
    {
     "data": {
      "text/plain": [
       "children               0\n",
       "days_employed       2174\n",
       "dob_years              0\n",
       "education              0\n",
       "education_id           0\n",
       "family_status          0\n",
       "family_status_id       0\n",
       "gender                 0\n",
       "income_type            0\n",
       "debt                   0\n",
       "total_income        2174\n",
       "purpose                0\n",
       "dtype: int64"
      ]
     },
     "execution_count": 17,
     "metadata": {},
     "output_type": "execute_result"
    }
   ],
   "source": [
    "# найдем количество пропусков \n",
    "data.isna().sum() "
   ]
  },
  {
   "cell_type": "code",
   "execution_count": 18,
   "metadata": {
    "scrolled": false
   },
   "outputs": [
    {
     "data": {
      "text/html": [
       "<div>\n",
       "<style scoped>\n",
       "    .dataframe tbody tr th:only-of-type {\n",
       "        vertical-align: middle;\n",
       "    }\n",
       "\n",
       "    .dataframe tbody tr th {\n",
       "        vertical-align: top;\n",
       "    }\n",
       "\n",
       "    .dataframe thead th {\n",
       "        text-align: right;\n",
       "    }\n",
       "</style>\n",
       "<table border=\"1\" class=\"dataframe\">\n",
       "  <thead>\n",
       "    <tr style=\"text-align: right;\">\n",
       "      <th></th>\n",
       "      <th>children</th>\n",
       "      <th>days_employed</th>\n",
       "      <th>dob_years</th>\n",
       "      <th>education</th>\n",
       "      <th>education_id</th>\n",
       "      <th>family_status</th>\n",
       "      <th>family_status_id</th>\n",
       "      <th>gender</th>\n",
       "      <th>income_type</th>\n",
       "      <th>debt</th>\n",
       "      <th>total_income</th>\n",
       "      <th>purpose</th>\n",
       "    </tr>\n",
       "  </thead>\n",
       "  <tbody>\n",
       "    <tr>\n",
       "      <td>12</td>\n",
       "      <td>0</td>\n",
       "      <td>NaN</td>\n",
       "      <td>65</td>\n",
       "      <td>среднее</td>\n",
       "      <td>1</td>\n",
       "      <td>гражданский брак</td>\n",
       "      <td>1</td>\n",
       "      <td>M</td>\n",
       "      <td>пенсионер</td>\n",
       "      <td>0</td>\n",
       "      <td>NaN</td>\n",
       "      <td>сыграть свадьбу</td>\n",
       "    </tr>\n",
       "    <tr>\n",
       "      <td>26</td>\n",
       "      <td>0</td>\n",
       "      <td>NaN</td>\n",
       "      <td>41</td>\n",
       "      <td>среднее</td>\n",
       "      <td>1</td>\n",
       "      <td>женат / замужем</td>\n",
       "      <td>0</td>\n",
       "      <td>M</td>\n",
       "      <td>госслужащий</td>\n",
       "      <td>0</td>\n",
       "      <td>NaN</td>\n",
       "      <td>образование</td>\n",
       "    </tr>\n",
       "    <tr>\n",
       "      <td>29</td>\n",
       "      <td>0</td>\n",
       "      <td>NaN</td>\n",
       "      <td>63</td>\n",
       "      <td>среднее</td>\n",
       "      <td>1</td>\n",
       "      <td>Не женат / не замужем</td>\n",
       "      <td>4</td>\n",
       "      <td>F</td>\n",
       "      <td>пенсионер</td>\n",
       "      <td>0</td>\n",
       "      <td>NaN</td>\n",
       "      <td>строительство жилой недвижимости</td>\n",
       "    </tr>\n",
       "    <tr>\n",
       "      <td>41</td>\n",
       "      <td>0</td>\n",
       "      <td>NaN</td>\n",
       "      <td>50</td>\n",
       "      <td>среднее</td>\n",
       "      <td>1</td>\n",
       "      <td>женат / замужем</td>\n",
       "      <td>0</td>\n",
       "      <td>F</td>\n",
       "      <td>госслужащий</td>\n",
       "      <td>0</td>\n",
       "      <td>NaN</td>\n",
       "      <td>сделка с подержанным автомобилем</td>\n",
       "    </tr>\n",
       "    <tr>\n",
       "      <td>55</td>\n",
       "      <td>0</td>\n",
       "      <td>NaN</td>\n",
       "      <td>54</td>\n",
       "      <td>среднее</td>\n",
       "      <td>1</td>\n",
       "      <td>гражданский брак</td>\n",
       "      <td>1</td>\n",
       "      <td>F</td>\n",
       "      <td>пенсионер</td>\n",
       "      <td>1</td>\n",
       "      <td>NaN</td>\n",
       "      <td>сыграть свадьбу</td>\n",
       "    </tr>\n",
       "  </tbody>\n",
       "</table>\n",
       "</div>"
      ],
      "text/plain": [
       "    children  days_employed  dob_years education  education_id  \\\n",
       "12         0            NaN         65   среднее             1   \n",
       "26         0            NaN         41   среднее             1   \n",
       "29         0            NaN         63   среднее             1   \n",
       "41         0            NaN         50   среднее             1   \n",
       "55         0            NaN         54   среднее             1   \n",
       "\n",
       "            family_status  family_status_id gender  income_type  debt  \\\n",
       "12       гражданский брак                 1      M    пенсионер     0   \n",
       "26        женат / замужем                 0      M  госслужащий     0   \n",
       "29  Не женат / не замужем                 4      F    пенсионер     0   \n",
       "41        женат / замужем                 0      F  госслужащий     0   \n",
       "55       гражданский брак                 1      F    пенсионер     1   \n",
       "\n",
       "    total_income                           purpose  \n",
       "12           NaN                   сыграть свадьбу  \n",
       "26           NaN                       образование  \n",
       "29           NaN  строительство жилой недвижимости  \n",
       "41           NaN  сделка с подержанным автомобилем  \n",
       "55           NaN                   сыграть свадьбу  "
      ]
     },
     "execution_count": 18,
     "metadata": {},
     "output_type": "execute_result"
    }
   ],
   "source": [
    "#просмотрим первые 10 строк с пропусками                                                    \n",
    "data[data['days_employed'].isna()].head()   "
   ]
  },
  {
   "cell_type": "markdown",
   "metadata": {},
   "source": [
    "Возможно есть корреляция между отсутствующими значениями в столбце `days_employed` и `total_income`"
   ]
  },
  {
   "cell_type": "code",
   "execution_count": 19,
   "metadata": {
    "scrolled": false
   },
   "outputs": [
    {
     "data": {
      "text/plain": [
       "2174"
      ]
     },
     "execution_count": 19,
     "metadata": {},
     "output_type": "execute_result"
    }
   ],
   "source": [
    "# проверим предположение о корреляции между данными столбцов days_employed и total_income.\n",
    "data[data['days_employed'].isna()&data['total_income'].isna()]['children'].count()"
   ]
  },
  {
   "cell_type": "markdown",
   "metadata": {},
   "source": [
    "Во всех строках , где пропущены значения `total_income`, стоят пропуски и в `days_employed`. \n",
    "\n",
    "В дальнейшем анализе общий трудовой стаж не участвует, пропуски в значениях `days_employed` можно заполнить на нулевые значения. \n",
    "\n",
    "Столбец `total_income` имеет значение для последующего анализа.Заменим пропущенные значения в столбце на медианные значения соответствующей группы занятости. "
   ]
  },
  {
   "cell_type": "markdown",
   "metadata": {},
   "source": [
    "Рассчитаем медианные значения `total_income` в зависимости от типа занятости заемщика ."
   ]
  },
  {
   "cell_type": "code",
   "execution_count": 20,
   "metadata": {},
   "outputs": [
    {
     "name": "stdout",
     "output_type": "stream",
     "text": [
      "income_type\n",
      "безработный        131339.751676\n",
      "в декрете           53829.130729\n",
      "госслужащий        150447.935283\n",
      "компаньон          172357.950966\n",
      "пенсионер          118514.486412\n",
      "предприниматель    499163.144947\n",
      "сотрудник          142594.396847\n",
      "студент             98201.625314\n",
      "Name: total_income, dtype: float64\n"
     ]
    }
   ],
   "source": [
    "\n",
    "# создадим группировку по датафрейму без пропущенных значений для корректного расчета медианного значения внутри группы\n",
    "data_not_nan = data.dropna().groupby('income_type')['total_income'].median()\n",
    "data_not_nan   "
   ]
  },
  {
   "cell_type": "markdown",
   "metadata": {},
   "source": [
    "Обработаем пропущенные значения в столбце  `total_income`."
   ]
  },
  {
   "cell_type": "code",
   "execution_count": 21,
   "metadata": {},
   "outputs": [
    {
     "name": "stdout",
     "output_type": "stream",
     "text": [
      "0\n"
     ]
    },
    {
     "data": {
      "text/html": [
       "<div>\n",
       "<style scoped>\n",
       "    .dataframe tbody tr th:only-of-type {\n",
       "        vertical-align: middle;\n",
       "    }\n",
       "\n",
       "    .dataframe tbody tr th {\n",
       "        vertical-align: top;\n",
       "    }\n",
       "\n",
       "    .dataframe thead th {\n",
       "        text-align: right;\n",
       "    }\n",
       "</style>\n",
       "<table border=\"1\" class=\"dataframe\">\n",
       "  <thead>\n",
       "    <tr style=\"text-align: right;\">\n",
       "      <th></th>\n",
       "      <th>children</th>\n",
       "      <th>days_employed</th>\n",
       "      <th>dob_years</th>\n",
       "      <th>education</th>\n",
       "      <th>education_id</th>\n",
       "      <th>family_status</th>\n",
       "      <th>family_status_id</th>\n",
       "      <th>gender</th>\n",
       "      <th>income_type</th>\n",
       "      <th>debt</th>\n",
       "      <th>total_income</th>\n",
       "      <th>purpose</th>\n",
       "    </tr>\n",
       "  </thead>\n",
       "  <tbody>\n",
       "    <tr>\n",
       "      <td>12</td>\n",
       "      <td>0</td>\n",
       "      <td>NaN</td>\n",
       "      <td>65</td>\n",
       "      <td>среднее</td>\n",
       "      <td>1</td>\n",
       "      <td>гражданский брак</td>\n",
       "      <td>1</td>\n",
       "      <td>M</td>\n",
       "      <td>пенсионер</td>\n",
       "      <td>0</td>\n",
       "      <td>118514.486412</td>\n",
       "      <td>сыграть свадьбу</td>\n",
       "    </tr>\n",
       "    <tr>\n",
       "      <td>26</td>\n",
       "      <td>0</td>\n",
       "      <td>NaN</td>\n",
       "      <td>41</td>\n",
       "      <td>среднее</td>\n",
       "      <td>1</td>\n",
       "      <td>женат / замужем</td>\n",
       "      <td>0</td>\n",
       "      <td>M</td>\n",
       "      <td>госслужащий</td>\n",
       "      <td>0</td>\n",
       "      <td>150447.935283</td>\n",
       "      <td>образование</td>\n",
       "    </tr>\n",
       "    <tr>\n",
       "      <td>29</td>\n",
       "      <td>0</td>\n",
       "      <td>NaN</td>\n",
       "      <td>63</td>\n",
       "      <td>среднее</td>\n",
       "      <td>1</td>\n",
       "      <td>Не женат / не замужем</td>\n",
       "      <td>4</td>\n",
       "      <td>F</td>\n",
       "      <td>пенсионер</td>\n",
       "      <td>0</td>\n",
       "      <td>118514.486412</td>\n",
       "      <td>строительство жилой недвижимости</td>\n",
       "    </tr>\n",
       "    <tr>\n",
       "      <td>41</td>\n",
       "      <td>0</td>\n",
       "      <td>NaN</td>\n",
       "      <td>50</td>\n",
       "      <td>среднее</td>\n",
       "      <td>1</td>\n",
       "      <td>женат / замужем</td>\n",
       "      <td>0</td>\n",
       "      <td>F</td>\n",
       "      <td>госслужащий</td>\n",
       "      <td>0</td>\n",
       "      <td>150447.935283</td>\n",
       "      <td>сделка с подержанным автомобилем</td>\n",
       "    </tr>\n",
       "    <tr>\n",
       "      <td>55</td>\n",
       "      <td>0</td>\n",
       "      <td>NaN</td>\n",
       "      <td>54</td>\n",
       "      <td>среднее</td>\n",
       "      <td>1</td>\n",
       "      <td>гражданский брак</td>\n",
       "      <td>1</td>\n",
       "      <td>F</td>\n",
       "      <td>пенсионер</td>\n",
       "      <td>1</td>\n",
       "      <td>118514.486412</td>\n",
       "      <td>сыграть свадьбу</td>\n",
       "    </tr>\n",
       "  </tbody>\n",
       "</table>\n",
       "</div>"
      ],
      "text/plain": [
       "    children  days_employed  dob_years education  education_id  \\\n",
       "12         0            NaN         65   среднее             1   \n",
       "26         0            NaN         41   среднее             1   \n",
       "29         0            NaN         63   среднее             1   \n",
       "41         0            NaN         50   среднее             1   \n",
       "55         0            NaN         54   среднее             1   \n",
       "\n",
       "            family_status  family_status_id gender  income_type  debt  \\\n",
       "12       гражданский брак                 1      M    пенсионер     0   \n",
       "26        женат / замужем                 0      M  госслужащий     0   \n",
       "29  Не женат / не замужем                 4      F    пенсионер     0   \n",
       "41        женат / замужем                 0      F  госслужащий     0   \n",
       "55       гражданский брак                 1      F    пенсионер     1   \n",
       "\n",
       "     total_income                           purpose  \n",
       "12  118514.486412                   сыграть свадьбу  \n",
       "26  150447.935283                       образование  \n",
       "29  118514.486412  строительство жилой недвижимости  \n",
       "41  150447.935283  сделка с подержанным автомобилем  \n",
       "55  118514.486412                   сыграть свадьбу  "
      ]
     },
     "metadata": {},
     "output_type": "display_data"
    }
   ],
   "source": [
    "# заменим пропуски в income_type на медиану по соответствующей группе занятости\n",
    "mediana = data.groupby('income_type')['total_income'].transform('median')\n",
    "data['total_income'] = data['total_income'].fillna(mediana)\n",
    "# проверим , что в столбце total_income не осталось пропусков\n",
    "print(data['total_income'].isna().sum())\n",
    "#посмотрим первые 5 строк ,заполненные медианой\n",
    "display(data[data['days_employed'].isna()].head())  "
   ]
  },
  {
   "cell_type": "markdown",
   "metadata": {},
   "source": [
    "Обработаем пропуски в `days_employed` "
   ]
  },
  {
   "cell_type": "code",
   "execution_count": 22,
   "metadata": {
    "scrolled": true
   },
   "outputs": [
    {
     "name": "stdout",
     "output_type": "stream",
     "text": [
      "['пенсионер' 'госслужащий' 'компаньон' 'сотрудник' 'предприниматель']\n"
     ]
    },
    {
     "data": {
      "text/plain": [
       "0"
      ]
     },
     "execution_count": 22,
     "metadata": {},
     "output_type": "execute_result"
    }
   ],
   "source": [
    "#посмотрим для каких групп заемщиков характерны пропуски\n",
    "print(data[data['days_employed'].isna()]['income_type'].unique()) \n",
    "#заменим пропуски на нулевые значения\n",
    "data['days_employed'] = data['days_employed'].fillna(0)\n",
    "#проверим, что пропусков Nan не осталось в столбце days_employed\n",
    "data['days_employed'].isna().sum()"
   ]
  },
  {
   "cell_type": "markdown",
   "metadata": {},
   "source": [
    "**Вывод**"
   ]
  },
  {
   "cell_type": "markdown",
   "metadata": {},
   "source": [
    "С помощью функции isna было обнаружено 2174 пропуска Nan в колонке `days_employed` и столько же в колонке `total_income`. Так как все пропуски в обоих столбцах приходятся на одни и те же строки, возможно данные клиенты пока не  предоставили соответствующую информацию,документы или необходимые справки от работодателя.\n",
    "\n",
    "Так как группировки с Nan могут привести к неккоректным результатам анализа, необходимо обработать пропущенные значения.\n",
    "\n",
    "Значения столбца `days_employed` не будут использованы в проверке гипотез, поэтому возможна их замена на нулевые значения.\n",
    "\n",
    "Значения столбца `total_income` будут использованы в дальнейшем анализе , в связи с чем лучше заменить их на медианные значения по соответствуюшей группе  занятости, так как разным группам работников будет соответствовать разный уровень дохода (у пенсионера с большей долей вероятности доход будет ниже, чем у предпринимателя и тд). Внутри групп возможны отдельные нетипично высокие показатели дохода, лучше использовать медиану для замены , так как медиана позволит нивелировать влияние выбросов.\n"
   ]
  },
  {
   "cell_type": "markdown",
   "metadata": {},
   "source": [
    "### Замена типа данных"
   ]
  },
  {
   "cell_type": "markdown",
   "metadata": {},
   "source": [
    "Приведем значения столбца `days_employed` к целочисленному типу данных.\n"
   ]
  },
  {
   "cell_type": "code",
   "execution_count": 23,
   "metadata": {},
   "outputs": [
    {
     "name": "stdout",
     "output_type": "stream",
     "text": [
      "<class 'pandas.core.frame.DataFrame'>\n",
      "RangeIndex: 21525 entries, 0 to 21524\n",
      "Data columns (total 12 columns):\n",
      "children            21525 non-null int64\n",
      "days_employed       21525 non-null int64\n",
      "dob_years           21525 non-null int64\n",
      "education           21525 non-null object\n",
      "education_id        21525 non-null int64\n",
      "family_status       21525 non-null object\n",
      "family_status_id    21525 non-null int64\n",
      "gender              21525 non-null object\n",
      "income_type         21525 non-null object\n",
      "debt                21525 non-null int64\n",
      "total_income        21525 non-null float64\n",
      "purpose             21525 non-null object\n",
      "dtypes: float64(1), int64(6), object(5)\n",
      "memory usage: 2.0+ MB\n"
     ]
    }
   ],
   "source": [
    "#заменим тип данных в столбце 'days_employed' с float на int\n",
    "data['days_employed'] = data['days_employed'].astype(int)\n",
    "#проверим тип данных \n",
    "data.info()"
   ]
  },
  {
   "cell_type": "markdown",
   "metadata": {},
   "source": [
    "Округлим значения столбцов `total_income` и `median_income`"
   ]
  },
  {
   "cell_type": "code",
   "execution_count": 24,
   "metadata": {},
   "outputs": [
    {
     "data": {
      "text/html": [
       "<div>\n",
       "<style scoped>\n",
       "    .dataframe tbody tr th:only-of-type {\n",
       "        vertical-align: middle;\n",
       "    }\n",
       "\n",
       "    .dataframe tbody tr th {\n",
       "        vertical-align: top;\n",
       "    }\n",
       "\n",
       "    .dataframe thead th {\n",
       "        text-align: right;\n",
       "    }\n",
       "</style>\n",
       "<table border=\"1\" class=\"dataframe\">\n",
       "  <thead>\n",
       "    <tr style=\"text-align: right;\">\n",
       "      <th></th>\n",
       "      <th>children</th>\n",
       "      <th>days_employed</th>\n",
       "      <th>dob_years</th>\n",
       "      <th>education</th>\n",
       "      <th>education_id</th>\n",
       "      <th>family_status</th>\n",
       "      <th>family_status_id</th>\n",
       "      <th>gender</th>\n",
       "      <th>income_type</th>\n",
       "      <th>debt</th>\n",
       "      <th>total_income</th>\n",
       "      <th>purpose</th>\n",
       "    </tr>\n",
       "  </thead>\n",
       "  <tbody>\n",
       "    <tr>\n",
       "      <td>0</td>\n",
       "      <td>1</td>\n",
       "      <td>8437</td>\n",
       "      <td>42</td>\n",
       "      <td>высшее</td>\n",
       "      <td>0</td>\n",
       "      <td>женат / замужем</td>\n",
       "      <td>0</td>\n",
       "      <td>F</td>\n",
       "      <td>сотрудник</td>\n",
       "      <td>0</td>\n",
       "      <td>253875.64</td>\n",
       "      <td>покупка жилья</td>\n",
       "    </tr>\n",
       "    <tr>\n",
       "      <td>1</td>\n",
       "      <td>1</td>\n",
       "      <td>4024</td>\n",
       "      <td>36</td>\n",
       "      <td>среднее</td>\n",
       "      <td>1</td>\n",
       "      <td>женат / замужем</td>\n",
       "      <td>0</td>\n",
       "      <td>F</td>\n",
       "      <td>сотрудник</td>\n",
       "      <td>0</td>\n",
       "      <td>112080.01</td>\n",
       "      <td>приобретение автомобиля</td>\n",
       "    </tr>\n",
       "    <tr>\n",
       "      <td>2</td>\n",
       "      <td>0</td>\n",
       "      <td>5623</td>\n",
       "      <td>33</td>\n",
       "      <td>Среднее</td>\n",
       "      <td>1</td>\n",
       "      <td>женат / замужем</td>\n",
       "      <td>0</td>\n",
       "      <td>M</td>\n",
       "      <td>сотрудник</td>\n",
       "      <td>0</td>\n",
       "      <td>145885.95</td>\n",
       "      <td>покупка жилья</td>\n",
       "    </tr>\n",
       "    <tr>\n",
       "      <td>3</td>\n",
       "      <td>3</td>\n",
       "      <td>4124</td>\n",
       "      <td>32</td>\n",
       "      <td>среднее</td>\n",
       "      <td>1</td>\n",
       "      <td>женат / замужем</td>\n",
       "      <td>0</td>\n",
       "      <td>M</td>\n",
       "      <td>сотрудник</td>\n",
       "      <td>0</td>\n",
       "      <td>267628.55</td>\n",
       "      <td>дополнительное образование</td>\n",
       "    </tr>\n",
       "    <tr>\n",
       "      <td>4</td>\n",
       "      <td>0</td>\n",
       "      <td>340266</td>\n",
       "      <td>53</td>\n",
       "      <td>среднее</td>\n",
       "      <td>1</td>\n",
       "      <td>гражданский брак</td>\n",
       "      <td>1</td>\n",
       "      <td>F</td>\n",
       "      <td>пенсионер</td>\n",
       "      <td>0</td>\n",
       "      <td>158616.08</td>\n",
       "      <td>сыграть свадьбу</td>\n",
       "    </tr>\n",
       "  </tbody>\n",
       "</table>\n",
       "</div>"
      ],
      "text/plain": [
       "   children  days_employed  dob_years education  education_id  \\\n",
       "0         1           8437         42    высшее             0   \n",
       "1         1           4024         36   среднее             1   \n",
       "2         0           5623         33   Среднее             1   \n",
       "3         3           4124         32   среднее             1   \n",
       "4         0         340266         53   среднее             1   \n",
       "\n",
       "      family_status  family_status_id gender income_type  debt  total_income  \\\n",
       "0   женат / замужем                 0      F   сотрудник     0     253875.64   \n",
       "1   женат / замужем                 0      F   сотрудник     0     112080.01   \n",
       "2   женат / замужем                 0      M   сотрудник     0     145885.95   \n",
       "3   женат / замужем                 0      M   сотрудник     0     267628.55   \n",
       "4  гражданский брак                 1      F   пенсионер     0     158616.08   \n",
       "\n",
       "                      purpose  \n",
       "0               покупка жилья  \n",
       "1     приобретение автомобиля  \n",
       "2               покупка жилья  \n",
       "3  дополнительное образование  \n",
       "4             сыграть свадьбу  "
      ]
     },
     "execution_count": 24,
     "metadata": {},
     "output_type": "execute_result"
    }
   ],
   "source": [
    "#округлим значения total_income и median_income\n",
    "data['total_income'] = data['total_income'].round(2)\n",
    "#data['median_income'] = data['median_income'].round(2)\n",
    "data.head()"
   ]
  },
  {
   "cell_type": "markdown",
   "metadata": {},
   "source": [
    "**Вывод**"
   ]
  },
  {
   "cell_type": "markdown",
   "metadata": {},
   "source": [
    "Изначально в столбце `days_employed` данные были  вещественные (float), возможно это произошло вследствии появления пропусков типа Nan, которые имеют тип данных float. После обработки пропусков возможно поменять тип данных столбца `days_employed` на целочисленный, так как  данные трудового стажа , измеряемого днями, не могут быть дробными.\n",
    "\n",
    "Для изменения типа данных был выбран метод astype() как универсальный метод с возможностью четко указать необходимый тип данных. \n",
    "\n",
    "Для оптимальной работы с таблицей округлили значения столцов `total_income` и `median_income` до 2-х знаков после запятой с помощью метода round().\n"
   ]
  },
  {
   "cell_type": "markdown",
   "metadata": {},
   "source": [
    "### Обработка дубликатов"
   ]
  },
  {
   "cell_type": "markdown",
   "metadata": {},
   "source": [
    "Для выявления неявных дубликатов приведем строковые данные к единому регистру - нижнему\n",
    "  "
   ]
  },
  {
   "cell_type": "code",
   "execution_count": 25,
   "metadata": {
    "scrolled": true
   },
   "outputs": [
    {
     "name": "stdout",
     "output_type": "stream",
     "text": [
      "['высшее' 'среднее' 'неоконченное высшее' 'начальное' 'ученая степень']\n",
      "['женат / замужем' 'гражданский брак' 'вдовец / вдова' 'в разводе'\n",
      " 'не женат / не замужем']\n",
      "['покупка жилья' 'приобретение автомобиля' 'дополнительное образование'\n",
      " 'сыграть свадьбу' 'операции с жильем' 'образование'\n",
      " 'на проведение свадьбы' 'покупка жилья для семьи' 'покупка недвижимости'\n",
      " 'покупка коммерческой недвижимости' 'покупка жилой недвижимости'\n",
      " 'строительство собственной недвижимости' 'недвижимость'\n",
      " 'строительство недвижимости' 'на покупку подержанного автомобиля'\n",
      " 'на покупку своего автомобиля' 'операции с коммерческой недвижимостью'\n",
      " 'строительство жилой недвижимости' 'жилье'\n",
      " 'операции со своей недвижимостью' 'автомобили' 'заняться образованием'\n",
      " 'сделка с подержанным автомобилем' 'получение образования' 'автомобиль'\n",
      " 'свадьба' 'получение дополнительного образования' 'покупка своего жилья'\n",
      " 'операции с недвижимостью' 'получение высшего образования'\n",
      " 'свой автомобиль' 'сделка с автомобилем' 'профильное образование'\n",
      " 'высшее образование' 'покупка жилья для сдачи' 'на покупку автомобиля'\n",
      " 'ремонт жилью' 'заняться высшим образованием']\n"
     ]
    }
   ],
   "source": [
    "#приведем знаечния education, family_status,purpose к нижнему регистру  \n",
    "data['education'] = data['education'].str.lower()\n",
    "data['family_status'] = data['family_status'].str.lower()\n",
    "data['purpose'] = data['purpose'].str.lower()\n",
    "# проверим, что значения столбцов в едином регистре\n",
    "print(data['education'].unique())\n",
    "print(data['family_status'].unique())\n",
    "print(data['purpose'].unique())"
   ]
  },
  {
   "cell_type": "code",
   "execution_count": 26,
   "metadata": {},
   "outputs": [
    {
     "name": "stdout",
     "output_type": "stream",
     "text": [
      "71\n"
     ]
    },
    {
     "data": {
      "text/plain": [
       "0"
      ]
     },
     "execution_count": 26,
     "metadata": {},
     "output_type": "execute_result"
    }
   ],
   "source": [
    "# посчитаем количество явных дубликатов\n",
    "print(data.duplicated().sum())\n",
    "#удалим дубликаты\n",
    "data = data.drop_duplicates().reset_index(drop=True)\n",
    "#проверим , что дубликатов не осталось\n",
    "data.duplicated().sum()"
   ]
  },
  {
   "cell_type": "markdown",
   "metadata": {},
   "source": [
    "**Вывод**"
   ]
  },
  {
   "cell_type": "markdown",
   "metadata": {},
   "source": [
    "Датасет содержал 71 строку дубликатов,часть из которых удалось выявить благодаря приведению данных к единому регистру.Возможно  клиент обращался в банк несколько раз с одинаковым запросом (например, первый раз - только узнавал интересующую информацию, второй раз - подавал заявку) и каждый раз заново о нем вводили информацию  по его заявке в систему .\n",
    "\n",
    "Для поиска дупликатов мы применили метод duplicated() в сочетании с методом sum(). \n",
    " \n",
    "Для получения корректных  результатов анализа дубликаты необходимо было удалить c помощью метода drop_duplicates(). "
   ]
  },
  {
   "cell_type": "markdown",
   "metadata": {},
   "source": [
    "### Лемматизация"
   ]
  },
  {
   "cell_type": "markdown",
   "metadata": {},
   "source": [
    "Стандартизируем цели получения кредита "
   ]
  },
  {
   "cell_type": "code",
   "execution_count": 27,
   "metadata": {},
   "outputs": [
    {
     "data": {
      "text/plain": [
       "Counter({'покупка': 10,\n",
       "         ' ': 59,\n",
       "         'жилье': 7,\n",
       "         '\\n': 38,\n",
       "         'приобретение': 1,\n",
       "         'автомобиль': 9,\n",
       "         'дополнительный': 2,\n",
       "         'образование': 9,\n",
       "         'сыграть': 1,\n",
       "         'свадьба': 3,\n",
       "         'операция': 4,\n",
       "         'с': 5,\n",
       "         'на': 4,\n",
       "         'проведение': 1,\n",
       "         'для': 2,\n",
       "         'семья': 1,\n",
       "         'недвижимость': 10,\n",
       "         'коммерческий': 2,\n",
       "         'жилой': 2,\n",
       "         'строительство': 3,\n",
       "         'собственный': 1,\n",
       "         'подержать': 1,\n",
       "         'свой': 4,\n",
       "         'со': 1,\n",
       "         'заниматься': 2,\n",
       "         'сделка': 2,\n",
       "         'подержанный': 1,\n",
       "         'получение': 3,\n",
       "         'высокий': 3,\n",
       "         'профильный': 1,\n",
       "         'сдача': 1,\n",
       "         'ремонт': 1})"
      ]
     },
     "execution_count": 27,
     "metadata": {},
     "output_type": "execute_result"
    }
   ],
   "source": [
    "# импортируем библиотеку PyMystem\n",
    "from pymystem3 import Mystem\n",
    "m = Mystem()\n",
    "# создадим пустой список для лемм\n",
    "lemmas_list = []\n",
    "# создадим список уникальных значений столбца purpose\n",
    "purpose_list = data['purpose'].unique()\n",
    "\n",
    "# напишем цикл для создания списка лемм\n",
    "for value in purpose_list:\n",
    "    lemma = m.lemmatize(value)\n",
    "    lemmas_list.append(lemma)\n",
    "\n",
    "purpose_count = []    \n",
    "for i in lemmas_list:\n",
    "    for y in i:\n",
    "        purpose_count.append(y)\n",
    "#импортируем контейнер Counter из модуля collections\n",
    "from collections import Counter\n",
    "#подсчитаем количество упоминаний лемм\n",
    "values = Counter (purpose_count)\n",
    "values"
   ]
  },
  {
   "cell_type": "markdown",
   "metadata": {},
   "source": [
    "Добавим в датасет столбец со стандартизированными целями"
   ]
  },
  {
   "cell_type": "code",
   "execution_count": 28,
   "metadata": {},
   "outputs": [
    {
     "data": {
      "text/html": [
       "<div>\n",
       "<style scoped>\n",
       "    .dataframe tbody tr th:only-of-type {\n",
       "        vertical-align: middle;\n",
       "    }\n",
       "\n",
       "    .dataframe tbody tr th {\n",
       "        vertical-align: top;\n",
       "    }\n",
       "\n",
       "    .dataframe thead th {\n",
       "        text-align: right;\n",
       "    }\n",
       "</style>\n",
       "<table border=\"1\" class=\"dataframe\">\n",
       "  <thead>\n",
       "    <tr style=\"text-align: right;\">\n",
       "      <th></th>\n",
       "      <th>children</th>\n",
       "      <th>days_employed</th>\n",
       "      <th>dob_years</th>\n",
       "      <th>education</th>\n",
       "      <th>education_id</th>\n",
       "      <th>family_status</th>\n",
       "      <th>family_status_id</th>\n",
       "      <th>gender</th>\n",
       "      <th>income_type</th>\n",
       "      <th>debt</th>\n",
       "      <th>total_income</th>\n",
       "      <th>purpose</th>\n",
       "      <th>purpose_cat</th>\n",
       "    </tr>\n",
       "  </thead>\n",
       "  <tbody>\n",
       "    <tr>\n",
       "      <td>0</td>\n",
       "      <td>1</td>\n",
       "      <td>8437</td>\n",
       "      <td>42</td>\n",
       "      <td>высшее</td>\n",
       "      <td>0</td>\n",
       "      <td>женат / замужем</td>\n",
       "      <td>0</td>\n",
       "      <td>F</td>\n",
       "      <td>сотрудник</td>\n",
       "      <td>0</td>\n",
       "      <td>253875.64</td>\n",
       "      <td>покупка жилья</td>\n",
       "      <td>жилая недвижимость</td>\n",
       "    </tr>\n",
       "    <tr>\n",
       "      <td>1</td>\n",
       "      <td>1</td>\n",
       "      <td>4024</td>\n",
       "      <td>36</td>\n",
       "      <td>среднее</td>\n",
       "      <td>1</td>\n",
       "      <td>женат / замужем</td>\n",
       "      <td>0</td>\n",
       "      <td>F</td>\n",
       "      <td>сотрудник</td>\n",
       "      <td>0</td>\n",
       "      <td>112080.01</td>\n",
       "      <td>приобретение автомобиля</td>\n",
       "      <td>автомобиль</td>\n",
       "    </tr>\n",
       "    <tr>\n",
       "      <td>2</td>\n",
       "      <td>0</td>\n",
       "      <td>5623</td>\n",
       "      <td>33</td>\n",
       "      <td>среднее</td>\n",
       "      <td>1</td>\n",
       "      <td>женат / замужем</td>\n",
       "      <td>0</td>\n",
       "      <td>M</td>\n",
       "      <td>сотрудник</td>\n",
       "      <td>0</td>\n",
       "      <td>145885.95</td>\n",
       "      <td>покупка жилья</td>\n",
       "      <td>жилая недвижимость</td>\n",
       "    </tr>\n",
       "    <tr>\n",
       "      <td>3</td>\n",
       "      <td>3</td>\n",
       "      <td>4124</td>\n",
       "      <td>32</td>\n",
       "      <td>среднее</td>\n",
       "      <td>1</td>\n",
       "      <td>женат / замужем</td>\n",
       "      <td>0</td>\n",
       "      <td>M</td>\n",
       "      <td>сотрудник</td>\n",
       "      <td>0</td>\n",
       "      <td>267628.55</td>\n",
       "      <td>дополнительное образование</td>\n",
       "      <td>образование</td>\n",
       "    </tr>\n",
       "    <tr>\n",
       "      <td>4</td>\n",
       "      <td>0</td>\n",
       "      <td>340266</td>\n",
       "      <td>53</td>\n",
       "      <td>среднее</td>\n",
       "      <td>1</td>\n",
       "      <td>гражданский брак</td>\n",
       "      <td>1</td>\n",
       "      <td>F</td>\n",
       "      <td>пенсионер</td>\n",
       "      <td>0</td>\n",
       "      <td>158616.08</td>\n",
       "      <td>сыграть свадьбу</td>\n",
       "      <td>свадьба</td>\n",
       "    </tr>\n",
       "  </tbody>\n",
       "</table>\n",
       "</div>"
      ],
      "text/plain": [
       "   children  days_employed  dob_years education  education_id  \\\n",
       "0         1           8437         42    высшее             0   \n",
       "1         1           4024         36   среднее             1   \n",
       "2         0           5623         33   среднее             1   \n",
       "3         3           4124         32   среднее             1   \n",
       "4         0         340266         53   среднее             1   \n",
       "\n",
       "      family_status  family_status_id gender income_type  debt  total_income  \\\n",
       "0   женат / замужем                 0      F   сотрудник     0     253875.64   \n",
       "1   женат / замужем                 0      F   сотрудник     0     112080.01   \n",
       "2   женат / замужем                 0      M   сотрудник     0     145885.95   \n",
       "3   женат / замужем                 0      M   сотрудник     0     267628.55   \n",
       "4  гражданский брак                 1      F   пенсионер     0     158616.08   \n",
       "\n",
       "                      purpose         purpose_cat  \n",
       "0               покупка жилья  жилая недвижимость  \n",
       "1     приобретение автомобиля          автомобиль  \n",
       "2               покупка жилья  жилая недвижимость  \n",
       "3  дополнительное образование         образование  \n",
       "4             сыграть свадьбу             свадьба  "
      ]
     },
     "metadata": {},
     "output_type": "display_data"
    },
    {
     "data": {
      "text/plain": [
       "0"
      ]
     },
     "execution_count": 28,
     "metadata": {},
     "output_type": "execute_result"
    }
   ],
   "source": [
    "# напишем функцию , которая возвращает стандартную цель кредита по наличию соответствующих лемм в столбце purpose\n",
    "def purpose_categ (purpose):\n",
    "    lemma = ' '.join(m.lemmatize(purpose))\n",
    " \n",
    "    if 'автомобиль' in lemma:\n",
    "        return 'автомобиль'\n",
    "    if 'коммерческий' in lemma:\n",
    "        return 'коммерческая недвижимость'\n",
    "    if 'недвижимость'  in lemma or 'жилье'  in lemma :\n",
    "        return  'жилая недвижимость'\n",
    "    if 'свадьба' in lemma:\n",
    "        return  'свадьба'\n",
    "    if 'образование' in lemma:\n",
    "        return 'образование'\n",
    "    if 'ремонт' in lemma and 'жиль' in lemma :\n",
    "        return 'ремонт жилья'\n",
    "    else:\n",
    "        return 0\n",
    "# применим функцию к столбцу purpose и поместим ее результаты в новый столбец purpose_cat\n",
    "data['purpose_cat'] = data['purpose'].apply(purpose_categ)\n",
    "display(data.head())\n",
    "# проверим, что стандартные цели проставлены в каждой строке датасета \n",
    "data[data['purpose_cat'] == 0]['purpose'].count()"
   ]
  },
  {
   "cell_type": "markdown",
   "metadata": {},
   "source": [
    "Проверим датасет на наличие дубликатов после стандартизирования целей кредита"
   ]
  },
  {
   "cell_type": "code",
   "execution_count": 29,
   "metadata": {},
   "outputs": [
    {
     "data": {
      "text/html": [
       "<div>\n",
       "<style scoped>\n",
       "    .dataframe tbody tr th:only-of-type {\n",
       "        vertical-align: middle;\n",
       "    }\n",
       "\n",
       "    .dataframe tbody tr th {\n",
       "        vertical-align: top;\n",
       "    }\n",
       "\n",
       "    .dataframe thead th {\n",
       "        text-align: right;\n",
       "    }\n",
       "</style>\n",
       "<table border=\"1\" class=\"dataframe\">\n",
       "  <thead>\n",
       "    <tr style=\"text-align: right;\">\n",
       "      <th></th>\n",
       "      <th>children</th>\n",
       "      <th>days_employed</th>\n",
       "      <th>dob_years</th>\n",
       "      <th>education</th>\n",
       "      <th>education_id</th>\n",
       "      <th>family_status</th>\n",
       "      <th>family_status_id</th>\n",
       "      <th>gender</th>\n",
       "      <th>income_type</th>\n",
       "      <th>debt</th>\n",
       "      <th>total_income</th>\n",
       "      <th>purpose_cat</th>\n",
       "    </tr>\n",
       "  </thead>\n",
       "  <tbody>\n",
       "    <tr>\n",
       "      <td>0</td>\n",
       "      <td>1</td>\n",
       "      <td>8437</td>\n",
       "      <td>42</td>\n",
       "      <td>высшее</td>\n",
       "      <td>0</td>\n",
       "      <td>женат / замужем</td>\n",
       "      <td>0</td>\n",
       "      <td>F</td>\n",
       "      <td>сотрудник</td>\n",
       "      <td>0</td>\n",
       "      <td>253875.64</td>\n",
       "      <td>жилая недвижимость</td>\n",
       "    </tr>\n",
       "    <tr>\n",
       "      <td>1</td>\n",
       "      <td>1</td>\n",
       "      <td>4024</td>\n",
       "      <td>36</td>\n",
       "      <td>среднее</td>\n",
       "      <td>1</td>\n",
       "      <td>женат / замужем</td>\n",
       "      <td>0</td>\n",
       "      <td>F</td>\n",
       "      <td>сотрудник</td>\n",
       "      <td>0</td>\n",
       "      <td>112080.01</td>\n",
       "      <td>автомобиль</td>\n",
       "    </tr>\n",
       "    <tr>\n",
       "      <td>2</td>\n",
       "      <td>0</td>\n",
       "      <td>5623</td>\n",
       "      <td>33</td>\n",
       "      <td>среднее</td>\n",
       "      <td>1</td>\n",
       "      <td>женат / замужем</td>\n",
       "      <td>0</td>\n",
       "      <td>M</td>\n",
       "      <td>сотрудник</td>\n",
       "      <td>0</td>\n",
       "      <td>145885.95</td>\n",
       "      <td>жилая недвижимость</td>\n",
       "    </tr>\n",
       "    <tr>\n",
       "      <td>3</td>\n",
       "      <td>3</td>\n",
       "      <td>4124</td>\n",
       "      <td>32</td>\n",
       "      <td>среднее</td>\n",
       "      <td>1</td>\n",
       "      <td>женат / замужем</td>\n",
       "      <td>0</td>\n",
       "      <td>M</td>\n",
       "      <td>сотрудник</td>\n",
       "      <td>0</td>\n",
       "      <td>267628.55</td>\n",
       "      <td>образование</td>\n",
       "    </tr>\n",
       "    <tr>\n",
       "      <td>4</td>\n",
       "      <td>0</td>\n",
       "      <td>340266</td>\n",
       "      <td>53</td>\n",
       "      <td>среднее</td>\n",
       "      <td>1</td>\n",
       "      <td>гражданский брак</td>\n",
       "      <td>1</td>\n",
       "      <td>F</td>\n",
       "      <td>пенсионер</td>\n",
       "      <td>0</td>\n",
       "      <td>158616.08</td>\n",
       "      <td>свадьба</td>\n",
       "    </tr>\n",
       "  </tbody>\n",
       "</table>\n",
       "</div>"
      ],
      "text/plain": [
       "   children  days_employed  dob_years education  education_id  \\\n",
       "0         1           8437         42    высшее             0   \n",
       "1         1           4024         36   среднее             1   \n",
       "2         0           5623         33   среднее             1   \n",
       "3         3           4124         32   среднее             1   \n",
       "4         0         340266         53   среднее             1   \n",
       "\n",
       "      family_status  family_status_id gender income_type  debt  total_income  \\\n",
       "0   женат / замужем                 0      F   сотрудник     0     253875.64   \n",
       "1   женат / замужем                 0      F   сотрудник     0     112080.01   \n",
       "2   женат / замужем                 0      M   сотрудник     0     145885.95   \n",
       "3   женат / замужем                 0      M   сотрудник     0     267628.55   \n",
       "4  гражданский брак                 1      F   пенсионер     0     158616.08   \n",
       "\n",
       "          purpose_cat  \n",
       "0  жилая недвижимость  \n",
       "1          автомобиль  \n",
       "2  жилая недвижимость  \n",
       "3         образование  \n",
       "4             свадьба  "
      ]
     },
     "metadata": {},
     "output_type": "display_data"
    },
    {
     "data": {
      "text/plain": [
       "298"
      ]
     },
     "execution_count": 29,
     "metadata": {},
     "output_type": "execute_result"
    }
   ],
   "source": [
    "# удалим столбец purpose\n",
    "data = data.drop(['purpose'], axis=1) \n",
    "# выведем полученную таблицу\n",
    "display(data.head())\n",
    "# посчитаем количество дубликатов\n",
    "data.duplicated().sum()"
   ]
  },
  {
   "cell_type": "markdown",
   "metadata": {},
   "source": [
    "Удалим выявленные дубликаты"
   ]
  },
  {
   "cell_type": "code",
   "execution_count": 30,
   "metadata": {},
   "outputs": [
    {
     "data": {
      "text/plain": [
       "0"
      ]
     },
     "execution_count": 30,
     "metadata": {},
     "output_type": "execute_result"
    }
   ],
   "source": [
    "# удалим дупликаты методом drop_duplicates()\n",
    "data = data.drop_duplicates().reset_index(drop=True)\n",
    "#проверим , что дубликатов не осталось\n",
    "data.duplicated().sum()"
   ]
  },
  {
   "cell_type": "markdown",
   "metadata": {},
   "source": [
    "**Вывод**"
   ]
  },
  {
   "cell_type": "markdown",
   "metadata": {},
   "source": [
    "Данные столбца `purpose` изначально не были стандартизированы,цели кредитования были указаны в свободной форме и одинаковые цели могли быть сформулированны по-разному. Оставив данные в такой форме , сложно было бы выявить закономерности между разными целями кредитования и возвратом кредита в срок.\n",
    "\n",
    "Для корректного анализа данных была проведена лемматизация. С помощью метода lemmatize библиотеки PyMystem каждое слово в строках столбца `purpose` было приведено к его  словарной форме - лемме. Далее с помощью контейнера Counter было подсчитано сколько раз упоминалась каждая лемма в столбце `purpose`. Просмотр списка лемм позволил выявить стандартные  цели кредитования.\n",
    "\n",
    "Благодаря стандартизации целей получилось найти и удалить 298 дубликатов, которые до стандартизации были неявными и могли быть обнаружены только просмотром данных вручную.  "
   ]
  },
  {
   "cell_type": "markdown",
   "metadata": {},
   "source": [
    "### Категоризация данных"
   ]
  },
  {
   "cell_type": "markdown",
   "metadata": {},
   "source": [
    "Создадим словари для категориальных переменных"
   ]
  },
  {
   "cell_type": "code",
   "execution_count": 31,
   "metadata": {},
   "outputs": [
    {
     "data": {
      "text/html": [
       "<div>\n",
       "<style scoped>\n",
       "    .dataframe tbody tr th:only-of-type {\n",
       "        vertical-align: middle;\n",
       "    }\n",
       "\n",
       "    .dataframe tbody tr th {\n",
       "        vertical-align: top;\n",
       "    }\n",
       "\n",
       "    .dataframe thead th {\n",
       "        text-align: right;\n",
       "    }\n",
       "</style>\n",
       "<table border=\"1\" class=\"dataframe\">\n",
       "  <thead>\n",
       "    <tr style=\"text-align: right;\">\n",
       "      <th></th>\n",
       "      <th>education_id</th>\n",
       "      <th>education</th>\n",
       "    </tr>\n",
       "  </thead>\n",
       "  <tbody>\n",
       "    <tr>\n",
       "      <td>0</td>\n",
       "      <td>0</td>\n",
       "      <td>высшее</td>\n",
       "    </tr>\n",
       "    <tr>\n",
       "      <td>1</td>\n",
       "      <td>1</td>\n",
       "      <td>среднее</td>\n",
       "    </tr>\n",
       "    <tr>\n",
       "      <td>2</td>\n",
       "      <td>2</td>\n",
       "      <td>неоконченное высшее</td>\n",
       "    </tr>\n",
       "    <tr>\n",
       "      <td>3</td>\n",
       "      <td>3</td>\n",
       "      <td>начальное</td>\n",
       "    </tr>\n",
       "    <tr>\n",
       "      <td>4</td>\n",
       "      <td>4</td>\n",
       "      <td>ученая степень</td>\n",
       "    </tr>\n",
       "  </tbody>\n",
       "</table>\n",
       "</div>"
      ],
      "text/plain": [
       "   education_id            education\n",
       "0             0               высшее\n",
       "1             1              среднее\n",
       "2             2  неоконченное высшее\n",
       "3             3            начальное\n",
       "4             4       ученая степень"
      ]
     },
     "metadata": {},
     "output_type": "display_data"
    },
    {
     "data": {
      "text/plain": [
       "{0: ['высшее'],\n",
       " 1: ['среднее'],\n",
       " 2: ['неоконченное высшее'],\n",
       " 3: ['начальное'],\n",
       " 4: ['ученая степень']}"
      ]
     },
     "execution_count": 31,
     "metadata": {},
     "output_type": "execute_result"
    }
   ],
   "source": [
    "#создадим отдельный датафрейм с ключами и их значениями для словаря категорий образования\n",
    "for_education_dict = data[['education_id','education']].drop_duplicates().reset_index(drop=True)\n",
    "display(for_education_dict)\n",
    "#создадим справочник с категориями типов образования\n",
    "education_dict = for_education_dict.set_index('education_id').T.to_dict('list')\n",
    "#выведем полученный словарь\n",
    "education_dict"
   ]
  },
  {
   "cell_type": "code",
   "execution_count": 32,
   "metadata": {},
   "outputs": [
    {
     "data": {
      "text/html": [
       "<div>\n",
       "<style scoped>\n",
       "    .dataframe tbody tr th:only-of-type {\n",
       "        vertical-align: middle;\n",
       "    }\n",
       "\n",
       "    .dataframe tbody tr th {\n",
       "        vertical-align: top;\n",
       "    }\n",
       "\n",
       "    .dataframe thead th {\n",
       "        text-align: right;\n",
       "    }\n",
       "</style>\n",
       "<table border=\"1\" class=\"dataframe\">\n",
       "  <thead>\n",
       "    <tr style=\"text-align: right;\">\n",
       "      <th></th>\n",
       "      <th>family_status_id</th>\n",
       "      <th>family_status</th>\n",
       "    </tr>\n",
       "  </thead>\n",
       "  <tbody>\n",
       "    <tr>\n",
       "      <td>0</td>\n",
       "      <td>0</td>\n",
       "      <td>женат / замужем</td>\n",
       "    </tr>\n",
       "    <tr>\n",
       "      <td>1</td>\n",
       "      <td>1</td>\n",
       "      <td>гражданский брак</td>\n",
       "    </tr>\n",
       "    <tr>\n",
       "      <td>2</td>\n",
       "      <td>2</td>\n",
       "      <td>вдовец / вдова</td>\n",
       "    </tr>\n",
       "    <tr>\n",
       "      <td>3</td>\n",
       "      <td>3</td>\n",
       "      <td>в разводе</td>\n",
       "    </tr>\n",
       "    <tr>\n",
       "      <td>4</td>\n",
       "      <td>4</td>\n",
       "      <td>не женат / не замужем</td>\n",
       "    </tr>\n",
       "  </tbody>\n",
       "</table>\n",
       "</div>"
      ],
      "text/plain": [
       "   family_status_id          family_status\n",
       "0                 0        женат / замужем\n",
       "1                 1       гражданский брак\n",
       "2                 2         вдовец / вдова\n",
       "3                 3              в разводе\n",
       "4                 4  не женат / не замужем"
      ]
     },
     "metadata": {},
     "output_type": "display_data"
    },
    {
     "data": {
      "text/plain": [
       "{0: ['женат / замужем'],\n",
       " 1: ['гражданский брак'],\n",
       " 2: ['вдовец / вдова'],\n",
       " 3: ['в разводе'],\n",
       " 4: ['не женат / не замужем']}"
      ]
     },
     "execution_count": 32,
     "metadata": {},
     "output_type": "execute_result"
    }
   ],
   "source": [
    "#создадим создадим отдельный датафрейм с ключами и их значениями для индикаторов семейного статуса\n",
    "for_family_status_dict = data[['family_status_id','family_status']].drop_duplicates().reset_index(drop=True)\n",
    "display(for_family_status_dict)\n",
    "# создадим словарь индикаторов семейного статуса\n",
    "family_status_dict = for_family_status_dict.set_index('family_status_id').T.to_dict('list')\n",
    "#выведем полученный словарь\n",
    "family_status_dict"
   ]
  },
  {
   "cell_type": "code",
   "execution_count": 33,
   "metadata": {},
   "outputs": [
    {
     "data": {
      "text/html": [
       "<div>\n",
       "<style scoped>\n",
       "    .dataframe tbody tr th:only-of-type {\n",
       "        vertical-align: middle;\n",
       "    }\n",
       "\n",
       "    .dataframe tbody tr th {\n",
       "        vertical-align: top;\n",
       "    }\n",
       "\n",
       "    .dataframe thead th {\n",
       "        text-align: right;\n",
       "    }\n",
       "</style>\n",
       "<table border=\"1\" class=\"dataframe\">\n",
       "  <thead>\n",
       "    <tr style=\"text-align: right;\">\n",
       "      <th></th>\n",
       "      <th>children</th>\n",
       "      <th>days_employed</th>\n",
       "      <th>dob_years</th>\n",
       "      <th>education_id</th>\n",
       "      <th>family_status_id</th>\n",
       "      <th>gender</th>\n",
       "      <th>income_type</th>\n",
       "      <th>debt</th>\n",
       "      <th>total_income</th>\n",
       "      <th>purpose_cat</th>\n",
       "    </tr>\n",
       "  </thead>\n",
       "  <tbody>\n",
       "    <tr>\n",
       "      <td>0</td>\n",
       "      <td>1</td>\n",
       "      <td>8437</td>\n",
       "      <td>42</td>\n",
       "      <td>0</td>\n",
       "      <td>0</td>\n",
       "      <td>F</td>\n",
       "      <td>сотрудник</td>\n",
       "      <td>0</td>\n",
       "      <td>253875.64</td>\n",
       "      <td>жилая недвижимость</td>\n",
       "    </tr>\n",
       "    <tr>\n",
       "      <td>1</td>\n",
       "      <td>1</td>\n",
       "      <td>4024</td>\n",
       "      <td>36</td>\n",
       "      <td>1</td>\n",
       "      <td>0</td>\n",
       "      <td>F</td>\n",
       "      <td>сотрудник</td>\n",
       "      <td>0</td>\n",
       "      <td>112080.01</td>\n",
       "      <td>автомобиль</td>\n",
       "    </tr>\n",
       "    <tr>\n",
       "      <td>2</td>\n",
       "      <td>0</td>\n",
       "      <td>5623</td>\n",
       "      <td>33</td>\n",
       "      <td>1</td>\n",
       "      <td>0</td>\n",
       "      <td>M</td>\n",
       "      <td>сотрудник</td>\n",
       "      <td>0</td>\n",
       "      <td>145885.95</td>\n",
       "      <td>жилая недвижимость</td>\n",
       "    </tr>\n",
       "    <tr>\n",
       "      <td>3</td>\n",
       "      <td>3</td>\n",
       "      <td>4124</td>\n",
       "      <td>32</td>\n",
       "      <td>1</td>\n",
       "      <td>0</td>\n",
       "      <td>M</td>\n",
       "      <td>сотрудник</td>\n",
       "      <td>0</td>\n",
       "      <td>267628.55</td>\n",
       "      <td>образование</td>\n",
       "    </tr>\n",
       "    <tr>\n",
       "      <td>4</td>\n",
       "      <td>0</td>\n",
       "      <td>340266</td>\n",
       "      <td>53</td>\n",
       "      <td>1</td>\n",
       "      <td>1</td>\n",
       "      <td>F</td>\n",
       "      <td>пенсионер</td>\n",
       "      <td>0</td>\n",
       "      <td>158616.08</td>\n",
       "      <td>свадьба</td>\n",
       "    </tr>\n",
       "  </tbody>\n",
       "</table>\n",
       "</div>"
      ],
      "text/plain": [
       "   children  days_employed  dob_years  education_id  family_status_id gender  \\\n",
       "0         1           8437         42             0                 0      F   \n",
       "1         1           4024         36             1                 0      F   \n",
       "2         0           5623         33             1                 0      M   \n",
       "3         3           4124         32             1                 0      M   \n",
       "4         0         340266         53             1                 1      F   \n",
       "\n",
       "  income_type  debt  total_income         purpose_cat  \n",
       "0   сотрудник     0     253875.64  жилая недвижимость  \n",
       "1   сотрудник     0     112080.01          автомобиль  \n",
       "2   сотрудник     0     145885.95  жилая недвижимость  \n",
       "3   сотрудник     0     267628.55         образование  \n",
       "4   пенсионер     0     158616.08             свадьба  "
      ]
     },
     "execution_count": 33,
     "metadata": {},
     "output_type": "execute_result"
    }
   ],
   "source": [
    "# Удалим столбцы с описательными данными\n",
    "data =  data.drop(['education', 'family_status'], axis=1)\n",
    "#выведем обновленный датафрейм\n",
    "data.head()"
   ]
  },
  {
   "cell_type": "code",
   "execution_count": 34,
   "metadata": {},
   "outputs": [
    {
     "name": "stdout",
     "output_type": "stream",
     "text": [
      "(119187.0, 172358.0]     7087\n",
      "(20666.0, 119187.0]      7052\n",
      "(172358.0, 2265604.0]    7017\n",
      "Name: total_income, dtype: int64\n"
     ]
    },
    {
     "data": {
      "text/html": [
       "<div>\n",
       "<style scoped>\n",
       "    .dataframe tbody tr th:only-of-type {\n",
       "        vertical-align: middle;\n",
       "    }\n",
       "\n",
       "    .dataframe tbody tr th {\n",
       "        vertical-align: top;\n",
       "    }\n",
       "\n",
       "    .dataframe thead th {\n",
       "        text-align: right;\n",
       "    }\n",
       "</style>\n",
       "<table border=\"1\" class=\"dataframe\">\n",
       "  <thead>\n",
       "    <tr style=\"text-align: right;\">\n",
       "      <th></th>\n",
       "      <th>children</th>\n",
       "      <th>days_employed</th>\n",
       "      <th>dob_years</th>\n",
       "      <th>education_id</th>\n",
       "      <th>family_status_id</th>\n",
       "      <th>gender</th>\n",
       "      <th>income_type</th>\n",
       "      <th>debt</th>\n",
       "      <th>total_income</th>\n",
       "      <th>purpose_cat</th>\n",
       "      <th>income_category</th>\n",
       "    </tr>\n",
       "  </thead>\n",
       "  <tbody>\n",
       "    <tr>\n",
       "      <td>0</td>\n",
       "      <td>1</td>\n",
       "      <td>8437</td>\n",
       "      <td>42</td>\n",
       "      <td>0</td>\n",
       "      <td>0</td>\n",
       "      <td>F</td>\n",
       "      <td>сотрудник</td>\n",
       "      <td>0</td>\n",
       "      <td>253875.64</td>\n",
       "      <td>жилая недвижимость</td>\n",
       "      <td>высокий</td>\n",
       "    </tr>\n",
       "    <tr>\n",
       "      <td>1</td>\n",
       "      <td>1</td>\n",
       "      <td>4024</td>\n",
       "      <td>36</td>\n",
       "      <td>1</td>\n",
       "      <td>0</td>\n",
       "      <td>F</td>\n",
       "      <td>сотрудник</td>\n",
       "      <td>0</td>\n",
       "      <td>112080.01</td>\n",
       "      <td>автомобиль</td>\n",
       "      <td>низкий</td>\n",
       "    </tr>\n",
       "    <tr>\n",
       "      <td>2</td>\n",
       "      <td>0</td>\n",
       "      <td>5623</td>\n",
       "      <td>33</td>\n",
       "      <td>1</td>\n",
       "      <td>0</td>\n",
       "      <td>M</td>\n",
       "      <td>сотрудник</td>\n",
       "      <td>0</td>\n",
       "      <td>145885.95</td>\n",
       "      <td>жилая недвижимость</td>\n",
       "      <td>средний</td>\n",
       "    </tr>\n",
       "    <tr>\n",
       "      <td>3</td>\n",
       "      <td>3</td>\n",
       "      <td>4124</td>\n",
       "      <td>32</td>\n",
       "      <td>1</td>\n",
       "      <td>0</td>\n",
       "      <td>M</td>\n",
       "      <td>сотрудник</td>\n",
       "      <td>0</td>\n",
       "      <td>267628.55</td>\n",
       "      <td>образование</td>\n",
       "      <td>высокий</td>\n",
       "    </tr>\n",
       "    <tr>\n",
       "      <td>4</td>\n",
       "      <td>0</td>\n",
       "      <td>340266</td>\n",
       "      <td>53</td>\n",
       "      <td>1</td>\n",
       "      <td>1</td>\n",
       "      <td>F</td>\n",
       "      <td>пенсионер</td>\n",
       "      <td>0</td>\n",
       "      <td>158616.08</td>\n",
       "      <td>свадьба</td>\n",
       "      <td>средний</td>\n",
       "    </tr>\n",
       "  </tbody>\n",
       "</table>\n",
       "</div>"
      ],
      "text/plain": [
       "   children  days_employed  dob_years  education_id  family_status_id gender  \\\n",
       "0         1           8437         42             0                 0      F   \n",
       "1         1           4024         36             1                 0      F   \n",
       "2         0           5623         33             1                 0      M   \n",
       "3         3           4124         32             1                 0      M   \n",
       "4         0         340266         53             1                 1      F   \n",
       "\n",
       "  income_type  debt  total_income         purpose_cat income_category  \n",
       "0   сотрудник     0     253875.64  жилая недвижимость         высокий  \n",
       "1   сотрудник     0     112080.01          автомобиль          низкий  \n",
       "2   сотрудник     0     145885.95  жилая недвижимость         средний  \n",
       "3   сотрудник     0     267628.55         образование         высокий  \n",
       "4   пенсионер     0     158616.08             свадьба         средний  "
      ]
     },
     "execution_count": 34,
     "metadata": {},
     "output_type": "execute_result"
    }
   ],
   "source": [
    "# разделим данные столбца total_income на 3 интервала равного размера \n",
    "qcut = pd.qcut(data['total_income'],q= 3,precision=0)\n",
    "# посмотрим как распределяются значения по интервалам\n",
    "print(qcut.value_counts())\n",
    "# Создадим столбец в исходном датафрейме с данными о категории доходов\n",
    "data['income_category'] = pd.qcut(data['total_income'],q=3, labels=['низкий', 'средний','высокий'], precision=0)\n",
    "data.head()"
   ]
  },
  {
   "cell_type": "markdown",
   "metadata": {},
   "source": [
    "Проведем категоризацию количества детей "
   ]
  },
  {
   "cell_type": "code",
   "execution_count": 35,
   "metadata": {},
   "outputs": [
    {
     "data": {
      "text/html": [
       "<div>\n",
       "<style scoped>\n",
       "    .dataframe tbody tr th:only-of-type {\n",
       "        vertical-align: middle;\n",
       "    }\n",
       "\n",
       "    .dataframe tbody tr th {\n",
       "        vertical-align: top;\n",
       "    }\n",
       "\n",
       "    .dataframe thead th {\n",
       "        text-align: right;\n",
       "    }\n",
       "</style>\n",
       "<table border=\"1\" class=\"dataframe\">\n",
       "  <thead>\n",
       "    <tr style=\"text-align: right;\">\n",
       "      <th></th>\n",
       "      <th>children</th>\n",
       "      <th>days_employed</th>\n",
       "      <th>dob_years</th>\n",
       "      <th>education_id</th>\n",
       "      <th>family_status_id</th>\n",
       "      <th>gender</th>\n",
       "      <th>income_type</th>\n",
       "      <th>debt</th>\n",
       "      <th>total_income</th>\n",
       "      <th>purpose_cat</th>\n",
       "      <th>income_category</th>\n",
       "      <th>children_cat</th>\n",
       "    </tr>\n",
       "  </thead>\n",
       "  <tbody>\n",
       "    <tr>\n",
       "      <td>0</td>\n",
       "      <td>1</td>\n",
       "      <td>8437</td>\n",
       "      <td>42</td>\n",
       "      <td>0</td>\n",
       "      <td>0</td>\n",
       "      <td>F</td>\n",
       "      <td>сотрудник</td>\n",
       "      <td>0</td>\n",
       "      <td>253875.64</td>\n",
       "      <td>жилая недвижимость</td>\n",
       "      <td>высокий</td>\n",
       "      <td>от 1 до 2 детей</td>\n",
       "    </tr>\n",
       "    <tr>\n",
       "      <td>1</td>\n",
       "      <td>1</td>\n",
       "      <td>4024</td>\n",
       "      <td>36</td>\n",
       "      <td>1</td>\n",
       "      <td>0</td>\n",
       "      <td>F</td>\n",
       "      <td>сотрудник</td>\n",
       "      <td>0</td>\n",
       "      <td>112080.01</td>\n",
       "      <td>автомобиль</td>\n",
       "      <td>низкий</td>\n",
       "      <td>от 1 до 2 детей</td>\n",
       "    </tr>\n",
       "    <tr>\n",
       "      <td>2</td>\n",
       "      <td>0</td>\n",
       "      <td>5623</td>\n",
       "      <td>33</td>\n",
       "      <td>1</td>\n",
       "      <td>0</td>\n",
       "      <td>M</td>\n",
       "      <td>сотрудник</td>\n",
       "      <td>0</td>\n",
       "      <td>145885.95</td>\n",
       "      <td>жилая недвижимость</td>\n",
       "      <td>средний</td>\n",
       "      <td>нет детей</td>\n",
       "    </tr>\n",
       "    <tr>\n",
       "      <td>3</td>\n",
       "      <td>3</td>\n",
       "      <td>4124</td>\n",
       "      <td>32</td>\n",
       "      <td>1</td>\n",
       "      <td>0</td>\n",
       "      <td>M</td>\n",
       "      <td>сотрудник</td>\n",
       "      <td>0</td>\n",
       "      <td>267628.55</td>\n",
       "      <td>образование</td>\n",
       "      <td>высокий</td>\n",
       "      <td>многодетныe</td>\n",
       "    </tr>\n",
       "    <tr>\n",
       "      <td>4</td>\n",
       "      <td>0</td>\n",
       "      <td>340266</td>\n",
       "      <td>53</td>\n",
       "      <td>1</td>\n",
       "      <td>1</td>\n",
       "      <td>F</td>\n",
       "      <td>пенсионер</td>\n",
       "      <td>0</td>\n",
       "      <td>158616.08</td>\n",
       "      <td>свадьба</td>\n",
       "      <td>средний</td>\n",
       "      <td>нет детей</td>\n",
       "    </tr>\n",
       "  </tbody>\n",
       "</table>\n",
       "</div>"
      ],
      "text/plain": [
       "   children  days_employed  dob_years  education_id  family_status_id gender  \\\n",
       "0         1           8437         42             0                 0      F   \n",
       "1         1           4024         36             1                 0      F   \n",
       "2         0           5623         33             1                 0      M   \n",
       "3         3           4124         32             1                 0      M   \n",
       "4         0         340266         53             1                 1      F   \n",
       "\n",
       "  income_type  debt  total_income         purpose_cat income_category  \\\n",
       "0   сотрудник     0     253875.64  жилая недвижимость         высокий   \n",
       "1   сотрудник     0     112080.01          автомобиль          низкий   \n",
       "2   сотрудник     0     145885.95  жилая недвижимость         средний   \n",
       "3   сотрудник     0     267628.55         образование         высокий   \n",
       "4   пенсионер     0     158616.08             свадьба         средний   \n",
       "\n",
       "      children_cat  \n",
       "0  от 1 до 2 детей  \n",
       "1  от 1 до 2 детей  \n",
       "2        нет детей  \n",
       "3      многодетныe  \n",
       "4        нет детей  "
      ]
     },
     "metadata": {},
     "output_type": "display_data"
    }
   ],
   "source": [
    "\n",
    "# напишем функцию, проставляющую дополнительный индикатор  нет детей ,  от 1 до 2 детей,  многодетные\n",
    "def children_cat(row):\n",
    "    if row == 0:\n",
    "        return 'нет детей'\n",
    "    if row in [1,2]:\n",
    "        return 'от 1 до 2 детей'\n",
    "    if row >=3:\n",
    "        return 'многодетныe'\n",
    "# применим функцию к столбцу children\n",
    "data['children_cat'] = data['children'].apply(children_cat)\n",
    "display(data.head())"
   ]
  },
  {
   "cell_type": "markdown",
   "metadata": {},
   "source": [
    "Проведем категоризацию заемщиков по наличию пары"
   ]
  },
  {
   "cell_type": "code",
   "execution_count": 36,
   "metadata": {},
   "outputs": [
    {
     "data": {
      "text/html": [
       "<div>\n",
       "<style scoped>\n",
       "    .dataframe tbody tr th:only-of-type {\n",
       "        vertical-align: middle;\n",
       "    }\n",
       "\n",
       "    .dataframe tbody tr th {\n",
       "        vertical-align: top;\n",
       "    }\n",
       "\n",
       "    .dataframe thead th {\n",
       "        text-align: right;\n",
       "    }\n",
       "</style>\n",
       "<table border=\"1\" class=\"dataframe\">\n",
       "  <thead>\n",
       "    <tr style=\"text-align: right;\">\n",
       "      <th></th>\n",
       "      <th>children</th>\n",
       "      <th>days_employed</th>\n",
       "      <th>dob_years</th>\n",
       "      <th>education_id</th>\n",
       "      <th>family_status_id</th>\n",
       "      <th>gender</th>\n",
       "      <th>income_type</th>\n",
       "      <th>debt</th>\n",
       "      <th>total_income</th>\n",
       "      <th>purpose_cat</th>\n",
       "      <th>income_category</th>\n",
       "      <th>children_cat</th>\n",
       "      <th>family_status_cons</th>\n",
       "    </tr>\n",
       "  </thead>\n",
       "  <tbody>\n",
       "    <tr>\n",
       "      <td>0</td>\n",
       "      <td>1</td>\n",
       "      <td>8437</td>\n",
       "      <td>42</td>\n",
       "      <td>0</td>\n",
       "      <td>0</td>\n",
       "      <td>F</td>\n",
       "      <td>сотрудник</td>\n",
       "      <td>0</td>\n",
       "      <td>253875.64</td>\n",
       "      <td>жилая недвижимость</td>\n",
       "      <td>высокий</td>\n",
       "      <td>от 1 до 2 детей</td>\n",
       "      <td>есть пара</td>\n",
       "    </tr>\n",
       "    <tr>\n",
       "      <td>1</td>\n",
       "      <td>1</td>\n",
       "      <td>4024</td>\n",
       "      <td>36</td>\n",
       "      <td>1</td>\n",
       "      <td>0</td>\n",
       "      <td>F</td>\n",
       "      <td>сотрудник</td>\n",
       "      <td>0</td>\n",
       "      <td>112080.01</td>\n",
       "      <td>автомобиль</td>\n",
       "      <td>низкий</td>\n",
       "      <td>от 1 до 2 детей</td>\n",
       "      <td>есть пара</td>\n",
       "    </tr>\n",
       "    <tr>\n",
       "      <td>2</td>\n",
       "      <td>0</td>\n",
       "      <td>5623</td>\n",
       "      <td>33</td>\n",
       "      <td>1</td>\n",
       "      <td>0</td>\n",
       "      <td>M</td>\n",
       "      <td>сотрудник</td>\n",
       "      <td>0</td>\n",
       "      <td>145885.95</td>\n",
       "      <td>жилая недвижимость</td>\n",
       "      <td>средний</td>\n",
       "      <td>нет детей</td>\n",
       "      <td>есть пара</td>\n",
       "    </tr>\n",
       "    <tr>\n",
       "      <td>3</td>\n",
       "      <td>3</td>\n",
       "      <td>4124</td>\n",
       "      <td>32</td>\n",
       "      <td>1</td>\n",
       "      <td>0</td>\n",
       "      <td>M</td>\n",
       "      <td>сотрудник</td>\n",
       "      <td>0</td>\n",
       "      <td>267628.55</td>\n",
       "      <td>образование</td>\n",
       "      <td>высокий</td>\n",
       "      <td>многодетныe</td>\n",
       "      <td>есть пара</td>\n",
       "    </tr>\n",
       "    <tr>\n",
       "      <td>4</td>\n",
       "      <td>0</td>\n",
       "      <td>340266</td>\n",
       "      <td>53</td>\n",
       "      <td>1</td>\n",
       "      <td>1</td>\n",
       "      <td>F</td>\n",
       "      <td>пенсионер</td>\n",
       "      <td>0</td>\n",
       "      <td>158616.08</td>\n",
       "      <td>свадьба</td>\n",
       "      <td>средний</td>\n",
       "      <td>нет детей</td>\n",
       "      <td>есть пара</td>\n",
       "    </tr>\n",
       "  </tbody>\n",
       "</table>\n",
       "</div>"
      ],
      "text/plain": [
       "   children  days_employed  dob_years  education_id  family_status_id gender  \\\n",
       "0         1           8437         42             0                 0      F   \n",
       "1         1           4024         36             1                 0      F   \n",
       "2         0           5623         33             1                 0      M   \n",
       "3         3           4124         32             1                 0      M   \n",
       "4         0         340266         53             1                 1      F   \n",
       "\n",
       "  income_type  debt  total_income         purpose_cat income_category  \\\n",
       "0   сотрудник     0     253875.64  жилая недвижимость         высокий   \n",
       "1   сотрудник     0     112080.01          автомобиль          низкий   \n",
       "2   сотрудник     0     145885.95  жилая недвижимость         средний   \n",
       "3   сотрудник     0     267628.55         образование         высокий   \n",
       "4   пенсионер     0     158616.08             свадьба         средний   \n",
       "\n",
       "      children_cat family_status_cons  \n",
       "0  от 1 до 2 детей          есть пара  \n",
       "1  от 1 до 2 детей          есть пара  \n",
       "2        нет детей          есть пара  \n",
       "3      многодетныe          есть пара  \n",
       "4        нет детей          есть пара  "
      ]
     },
     "metadata": {},
     "output_type": "display_data"
    }
   ],
   "source": [
    "#сделаем укрупненную группировку есть пара - нет пары\n",
    "# напишем функцию, проставляющую дополнительный индикатор есть пара / нет пары\n",
    "def family_status(row):\n",
    "    if row in [0,1]:\n",
    "        return 'есть пара'\n",
    "    if row in [2,3,4]:\n",
    "        return 'нет пары'\n",
    "# применим функцию к столбцу  family_status_id  \n",
    "data['family_status_cons'] = data['family_status_id'].apply(family_status)\n",
    "display(data.head())"
   ]
  },
  {
   "cell_type": "markdown",
   "metadata": {},
   "source": [
    "**Вывод**"
   ]
  },
  {
   "cell_type": "markdown",
   "metadata": {},
   "source": [
    "Чтобы сократить размер датасета и время обработки данных,упростить визуальную работу с таблицей, создали отдельные словари для уровней образования и семейных статусов. Дублирующуюся информацию с описательными значениями из датасета удалили, оставив только столбцы с ключами.\n",
    "\n",
    "Для проверки гипотезы о влиянии уровня дохода на возврат кредита в срок выделили три категории заемщиков : заемщики с низким уровнем дохода, со средним уровнем дохода, с высоким уровнем дохода. Для этого воспользовались функцией qcut, разделив массив данных на 3 интервала одинакового размера.Информацию с категорией заемщика по уровню дохода добавили в датасет."
   ]
  },
  {
   "cell_type": "markdown",
   "metadata": {},
   "source": [
    "##  Проверка гипотез"
   ]
  },
  {
   "cell_type": "markdown",
   "metadata": {},
   "source": [
    "- Есть ли зависимость между наличием детей и возвратом кредита в срок?"
   ]
  },
  {
   "cell_type": "code",
   "execution_count": 37,
   "metadata": {},
   "outputs": [
    {
     "data": {
      "text/html": [
       "<div>\n",
       "<style scoped>\n",
       "    .dataframe tbody tr th:only-of-type {\n",
       "        vertical-align: middle;\n",
       "    }\n",
       "\n",
       "    .dataframe tbody tr th {\n",
       "        vertical-align: top;\n",
       "    }\n",
       "\n",
       "    .dataframe thead th {\n",
       "        text-align: right;\n",
       "    }\n",
       "</style>\n",
       "<table border=\"1\" class=\"dataframe\">\n",
       "  <thead>\n",
       "    <tr style=\"text-align: right;\">\n",
       "      <th>debt</th>\n",
       "      <th>0</th>\n",
       "      <th>1</th>\n",
       "      <th>ratio_no_debt</th>\n",
       "      <th>ratio_have_debt</th>\n",
       "    </tr>\n",
       "    <tr>\n",
       "      <th>children_cat</th>\n",
       "      <th></th>\n",
       "      <th></th>\n",
       "      <th></th>\n",
       "      <th></th>\n",
       "    </tr>\n",
       "  </thead>\n",
       "  <tbody>\n",
       "    <tr>\n",
       "      <td>многодетныe</td>\n",
       "      <td>347</td>\n",
       "      <td>31</td>\n",
       "      <td>91.80</td>\n",
       "      <td>8.20</td>\n",
       "    </tr>\n",
       "    <tr>\n",
       "      <td>нет детей</td>\n",
       "      <td>12792</td>\n",
       "      <td>1061</td>\n",
       "      <td>92.34</td>\n",
       "      <td>7.66</td>\n",
       "    </tr>\n",
       "    <tr>\n",
       "      <td>от 1 до 2 детей</td>\n",
       "      <td>6278</td>\n",
       "      <td>647</td>\n",
       "      <td>90.66</td>\n",
       "      <td>9.34</td>\n",
       "    </tr>\n",
       "  </tbody>\n",
       "</table>\n",
       "</div>"
      ],
      "text/plain": [
       "debt                 0     1  ratio_no_debt  ratio_have_debt\n",
       "children_cat                                                \n",
       "многодетныe        347    31          91.80             8.20\n",
       "нет детей        12792  1061          92.34             7.66\n",
       "от 1 до 2 детей   6278   647          90.66             9.34"
      ]
     },
     "execution_count": 37,
     "metadata": {},
     "output_type": "execute_result"
    }
   ],
   "source": [
    "\n",
    "# сделаем сводную таблицу с информацией о доли заемщиков, имевших задолженность в разрезе групп\n",
    "child_debt_pivot_cons = data.pivot_table(index='children_cat', columns='debt', values='total_income', aggfunc='count',fill_value=0)\n",
    "# посчитаем доли заемщиков без задолженности и с задолженностью в разрезе групп\n",
    "child_debt_pivot_cons['ratio_no_debt'] = (child_debt_pivot_cons[0]/(child_debt_pivot_cons[0]+child_debt_pivot_cons[1]))*100\n",
    "child_debt_pivot_cons['ratio_have_debt'] = (child_debt_pivot_cons[1]/(child_debt_pivot_cons[0]+child_debt_pivot_cons[1]))*100\n",
    "#выведем сводную таблицу\n",
    "child_debt_pivot_cons.round(2)"
   ]
  },
  {
   "cell_type": "markdown",
   "metadata": {},
   "source": [
    "**Вывод**"
   ]
  },
  {
   "cell_type": "markdown",
   "metadata": {},
   "source": [
    "Результаты сводной таблицы показывают связь между наличием детей и их количество и возвратом кредита в срок.\n",
    "\n",
    "Доля заемщиков, у которых не было задолженностей по кредиту , наибольшая  в группе заявителей без детей. Что, возможно, связано с меньшими расходами домохозяйств данной группы.\n",
    "\n",
    "Самая высокая доля заемщиков , имевших задолженность, в группе людей, имеющих от 1 до 2 детей. \n"
   ]
  },
  {
   "cell_type": "markdown",
   "metadata": {},
   "source": [
    "- Есть ли зависимость между семейным положением и возвратом кредита в срок?"
   ]
  },
  {
   "cell_type": "code",
   "execution_count": 38,
   "metadata": {},
   "outputs": [
    {
     "data": {
      "text/html": [
       "<div>\n",
       "<style scoped>\n",
       "    .dataframe tbody tr th:only-of-type {\n",
       "        vertical-align: middle;\n",
       "    }\n",
       "\n",
       "    .dataframe tbody tr th {\n",
       "        vertical-align: top;\n",
       "    }\n",
       "\n",
       "    .dataframe thead th {\n",
       "        text-align: right;\n",
       "    }\n",
       "</style>\n",
       "<table border=\"1\" class=\"dataframe\">\n",
       "  <thead>\n",
       "    <tr style=\"text-align: right;\">\n",
       "      <th>debt</th>\n",
       "      <th>0</th>\n",
       "      <th>1</th>\n",
       "      <th>ratio_no_debt</th>\n",
       "      <th>ratio_have_debt</th>\n",
       "    </tr>\n",
       "    <tr>\n",
       "      <th>family_status_cons</th>\n",
       "      <th></th>\n",
       "      <th></th>\n",
       "      <th></th>\n",
       "      <th></th>\n",
       "    </tr>\n",
       "  </thead>\n",
       "  <tbody>\n",
       "    <tr>\n",
       "      <td>есть пара</td>\n",
       "      <td>14914</td>\n",
       "      <td>1317</td>\n",
       "      <td>91.89</td>\n",
       "      <td>8.11</td>\n",
       "    </tr>\n",
       "    <tr>\n",
       "      <td>нет пары</td>\n",
       "      <td>4503</td>\n",
       "      <td>422</td>\n",
       "      <td>91.43</td>\n",
       "      <td>8.57</td>\n",
       "    </tr>\n",
       "  </tbody>\n",
       "</table>\n",
       "</div>"
      ],
      "text/plain": [
       "debt                    0     1  ratio_no_debt  ratio_have_debt\n",
       "family_status_cons                                             \n",
       "есть пара           14914  1317          91.89             8.11\n",
       "нет пары             4503   422          91.43             8.57"
      ]
     },
     "execution_count": 38,
     "metadata": {},
     "output_type": "execute_result"
    }
   ],
   "source": [
    "# сделаем сводную таблицу с информацией о доли заемщиков, имевших задолженность в разрезе групп\n",
    "family_debt_pivot = data.pivot_table(index='family_status_cons', columns='debt', values='total_income', aggfunc='count',fill_value=0)\n",
    "# посчитаем доли заемщиков без задолженности и с задолженностью в разрезе групп\n",
    "family_debt_pivot['ratio_no_debt'] = family_debt_pivot[0]/(family_debt_pivot[0]+family_debt_pivot[1])*100\n",
    "family_debt_pivot['ratio_have_debt'] = family_debt_pivot[1]/(family_debt_pivot[0]+family_debt_pivot[1])*100\n",
    "#выведем сводную таблицу\n",
    "family_debt_pivot.round(2)"
   ]
  },
  {
   "cell_type": "markdown",
   "metadata": {},
   "source": [
    "**Вывод**"
   ]
  },
  {
   "cell_type": "markdown",
   "metadata": {},
   "source": [
    "Зависимость между семейным положением и возвратом кредита в срок отсутствует.\n",
    "Доли заемщиков, имевших задолженность , в обоих группах различаются незначительно."
   ]
  },
  {
   "cell_type": "markdown",
   "metadata": {},
   "source": [
    "- Есть ли зависимость между уровнем дохода и возвратом кредита в срок?"
   ]
  },
  {
   "cell_type": "code",
   "execution_count": 39,
   "metadata": {},
   "outputs": [
    {
     "data": {
      "text/html": [
       "<div>\n",
       "<style scoped>\n",
       "    .dataframe tbody tr th:only-of-type {\n",
       "        vertical-align: middle;\n",
       "    }\n",
       "\n",
       "    .dataframe tbody tr th {\n",
       "        vertical-align: top;\n",
       "    }\n",
       "\n",
       "    .dataframe thead th {\n",
       "        text-align: right;\n",
       "    }\n",
       "</style>\n",
       "<table border=\"1\" class=\"dataframe\">\n",
       "  <thead>\n",
       "    <tr style=\"text-align: right;\">\n",
       "      <th>debt</th>\n",
       "      <th>0</th>\n",
       "      <th>1</th>\n",
       "      <th>ratio_no_debt</th>\n",
       "      <th>ratio_have_debt</th>\n",
       "    </tr>\n",
       "    <tr>\n",
       "      <th>income_category</th>\n",
       "      <th></th>\n",
       "      <th></th>\n",
       "      <th></th>\n",
       "      <th></th>\n",
       "    </tr>\n",
       "  </thead>\n",
       "  <tbody>\n",
       "    <tr>\n",
       "      <td>низкий</td>\n",
       "      <td>6471</td>\n",
       "      <td>581</td>\n",
       "      <td>91.76</td>\n",
       "      <td>8.24</td>\n",
       "    </tr>\n",
       "    <tr>\n",
       "      <td>средний</td>\n",
       "      <td>6457</td>\n",
       "      <td>630</td>\n",
       "      <td>91.11</td>\n",
       "      <td>8.89</td>\n",
       "    </tr>\n",
       "    <tr>\n",
       "      <td>высокий</td>\n",
       "      <td>6489</td>\n",
       "      <td>528</td>\n",
       "      <td>92.48</td>\n",
       "      <td>7.52</td>\n",
       "    </tr>\n",
       "  </tbody>\n",
       "</table>\n",
       "</div>"
      ],
      "text/plain": [
       "debt                0    1  ratio_no_debt  ratio_have_debt\n",
       "income_category                                           \n",
       "низкий           6471  581          91.76             8.24\n",
       "средний          6457  630          91.11             8.89\n",
       "высокий          6489  528          92.48             7.52"
      ]
     },
     "execution_count": 39,
     "metadata": {},
     "output_type": "execute_result"
    }
   ],
   "source": [
    "# создадим сводную таблицу наличия зависимости между уровнем дохода и возвратом кредита в срок\n",
    "income_category_pivot = data.pivot_table(index='income_category', columns='debt',values='total_income', aggfunc='count',fill_value=0)\n",
    "# посчитаем доли заемщиков без задолженности и с задолженностью в разрезе групп \n",
    "income_category_pivot['ratio_no_debt']= ((income_category_pivot[0]/(income_category_pivot[0]+income_category_pivot[1]))*100).round(2)\n",
    "income_category_pivot['ratio_have_debt']= ((income_category_pivot[1]/(income_category_pivot[0]+income_category_pivot[1]))*100).round(2)\n",
    "#выведем сводную таблицу\n",
    "income_category_pivot"
   ]
  },
  {
   "cell_type": "markdown",
   "metadata": {},
   "source": [
    "**Вывод**"
   ]
  },
  {
   "cell_type": "markdown",
   "metadata": {},
   "source": [
    "Результаты сводной таблицы показывают наличие связи между уровнем доходов и возвратом кредита в срок. Долч заемщиков, имевших задолженность по кредиту, меньше всего в группе с высоким уровнем дохода."
   ]
  },
  {
   "cell_type": "markdown",
   "metadata": {},
   "source": [
    "- Как разные цели кредита влияют на его возврат в срок?"
   ]
  },
  {
   "cell_type": "code",
   "execution_count": 40,
   "metadata": {},
   "outputs": [
    {
     "data": {
      "text/html": [
       "<div>\n",
       "<style scoped>\n",
       "    .dataframe tbody tr th:only-of-type {\n",
       "        vertical-align: middle;\n",
       "    }\n",
       "\n",
       "    .dataframe tbody tr th {\n",
       "        vertical-align: top;\n",
       "    }\n",
       "\n",
       "    .dataframe thead th {\n",
       "        text-align: right;\n",
       "    }\n",
       "</style>\n",
       "<table border=\"1\" class=\"dataframe\">\n",
       "  <thead>\n",
       "    <tr style=\"text-align: right;\">\n",
       "      <th>debt</th>\n",
       "      <th>0</th>\n",
       "      <th>1</th>\n",
       "      <th>ratio_no_debt</th>\n",
       "      <th>ratio_have_debt</th>\n",
       "    </tr>\n",
       "    <tr>\n",
       "      <th>purpose_cat</th>\n",
       "      <th></th>\n",
       "      <th></th>\n",
       "      <th></th>\n",
       "      <th></th>\n",
       "    </tr>\n",
       "  </thead>\n",
       "  <tbody>\n",
       "    <tr>\n",
       "      <td>автомобиль</td>\n",
       "      <td>3870</td>\n",
       "      <td>402</td>\n",
       "      <td>90.6</td>\n",
       "      <td>9.4</td>\n",
       "    </tr>\n",
       "    <tr>\n",
       "      <td>жилая недвижимость</td>\n",
       "      <td>8621</td>\n",
       "      <td>682</td>\n",
       "      <td>92.7</td>\n",
       "      <td>7.3</td>\n",
       "    </tr>\n",
       "    <tr>\n",
       "      <td>коммерческая недвижимость</td>\n",
       "      <td>1212</td>\n",
       "      <td>99</td>\n",
       "      <td>92.4</td>\n",
       "      <td>7.6</td>\n",
       "    </tr>\n",
       "    <tr>\n",
       "      <td>образование</td>\n",
       "      <td>3594</td>\n",
       "      <td>370</td>\n",
       "      <td>90.7</td>\n",
       "      <td>9.3</td>\n",
       "    </tr>\n",
       "    <tr>\n",
       "      <td>свадьба</td>\n",
       "      <td>2120</td>\n",
       "      <td>186</td>\n",
       "      <td>91.9</td>\n",
       "      <td>8.1</td>\n",
       "    </tr>\n",
       "  </tbody>\n",
       "</table>\n",
       "</div>"
      ],
      "text/plain": [
       "debt                          0    1  ratio_no_debt  ratio_have_debt\n",
       "purpose_cat                                                         \n",
       "автомобиль                 3870  402           90.6              9.4\n",
       "жилая недвижимость         8621  682           92.7              7.3\n",
       "коммерческая недвижимость  1212   99           92.4              7.6\n",
       "образование                3594  370           90.7              9.3\n",
       "свадьба                    2120  186           91.9              8.1"
      ]
     },
     "execution_count": 40,
     "metadata": {},
     "output_type": "execute_result"
    }
   ],
   "source": [
    "# создадим сводную таблицу наличия зависимости между целями кредита и возвратом кредита в срок\n",
    "purpose_debt_pivot = data.pivot_table(index='purpose_cat', columns='debt', values='total_income', aggfunc='count',fill_value=0)\n",
    "# посчитаем доли заемщиков без задолженности и с задолженностью в разрезе групп \n",
    "purpose_debt_pivot['ratio_no_debt'] = (purpose_debt_pivot[0]/(purpose_debt_pivot[0]+purpose_debt_pivot[1]))*100\n",
    "purpose_debt_pivot['ratio_have_debt'] = (purpose_debt_pivot[1]/(purpose_debt_pivot[0]+purpose_debt_pivot[1]))*100\n",
    "#выведем сводную таблицу\n",
    "purpose_debt_pivot.round(1)"
   ]
  },
  {
   "cell_type": "markdown",
   "metadata": {},
   "source": [
    "**Вывод**"
   ]
  },
  {
   "cell_type": "markdown",
   "metadata": {},
   "source": [
    "Различные цели кредитования влияют на возврат кредита в срок. Стабильнее всего платят заемщики, которые брали кредит на покупку жилой и коммерческой недвижимости.Доли должников в данных группах - наименьшие среди рассматриваемых.\n",
    "\n",
    "Чаще всего просрочки допускают заемщики, имеющие цель кредитование \"образование\" и \"автомобиль\"."
   ]
  },
  {
   "cell_type": "markdown",
   "metadata": {},
   "source": [
    "##  Общий вывод"
   ]
  },
  {
   "cell_type": "markdown",
   "metadata": {},
   "source": [
    "Цель проводимого исследования выявить зависимости между семейным положением и количеством детей клиента на факт погашения кредита в срок.\n",
    "\n",
    "В ходе исследования была проведена предобработка данных, удалены дубликаты, заполнены пропуски , обработаны артефактные значения, выделены категории заемщиков по уровню доходов и созданы словари для части категориальных данных.\n",
    "Это позволило корректно проверить 4 гипотезы и установить,что:\n",
    "1. Наличие детей влияет на возврат кредита в срок.\n",
    "\n",
    "Заемщики без детей реже допускают просрочки по взятым кредитам, чем заемщики с детьми.\n",
    "Но многодетность дисциплинирует людей и доля заемщиков, имевших задолженность, в данной группе меньше, чем у групп с 1 или 2-мя детьми.\n",
    "\n",
    "\n",
    "2. Наличие пары у заемщика влияет на возврат кредита в срок настолько незначительно ,  что допустимо говорить об отсутствии связи между семейным положением и наличием просроченной задолженности.\n",
    "\n",
    "\n",
    "3. Есть корреляция уровня доходов и возврата кредита в срок. \n",
    "\n",
    "Заемщики с высоким уровнем дохода стабильнее платят по кредитам.\n",
    "\n",
    "\n",
    "4. Цели кредитования также влияют на возврат кредита в срок.\n",
    "\n",
    "Заемщики , воспользовавшиеся ипотекой, реже допускают просрочки, чем остальные группы. \n",
    "\n",
    "При построении модели кредитного скоринга следует учитывать факт наличия и количества детей у заемщика, цель кредитования и его уровень дохода.\n",
    "\n",
    "На этапе предобработки  была выявлена проблема корректности и полноты данных. \n",
    "\n",
    "Все записи столбца стаж работы в днях не соответствуют действительности: отрицательные,аномально высокие,либо отсутствуют.\n",
    "\n",
    "В данных о ежемесячном доходе выявлены пропуски. Так как  данные о доходе имеют непосредственное значение для определения способности заемщика вернуть кредит в срок,важно скорректировать настройки системы ввода/сбора информации, так чтобы исключить возможность пропусков.\n",
    "\n",
    "Также данные о наличии детей и данные о возрасте заемщика имеют невысокую долю артефактных значений.\n",
    "\n",
    "Для решения проблемы корректности данных желательно минимизировать влияние человеческого фактора и максимально стандартизировать этапы сбора и ввода информации по заемщику.Возможно также ввести автоматическую проверку значения на достоверность при вводе информации."
   ]
  }
 ],
 "metadata": {
  "ExecuteTimeLog": [
   {
    "duration": 3211,
    "start_time": "2022-01-20T11:35:22.697Z"
   },
   {
    "duration": 103,
    "start_time": "2022-01-20T11:37:06.478Z"
   },
   {
    "duration": 99,
    "start_time": "2022-01-20T11:51:50.412Z"
   },
   {
    "duration": 94,
    "start_time": "2022-01-20T11:52:16.649Z"
   },
   {
    "duration": 28,
    "start_time": "2022-01-20T12:06:31.780Z"
   },
   {
    "duration": 13,
    "start_time": "2022-01-20T12:06:46.064Z"
   },
   {
    "duration": 23,
    "start_time": "2022-01-20T12:08:32.325Z"
   },
   {
    "duration": 24,
    "start_time": "2022-01-20T12:08:40.924Z"
   },
   {
    "duration": 24,
    "start_time": "2022-01-20T12:08:48.300Z"
   },
   {
    "duration": 14,
    "start_time": "2022-01-20T12:09:07.749Z"
   },
   {
    "duration": 13,
    "start_time": "2022-01-20T12:09:27.715Z"
   },
   {
    "duration": 23,
    "start_time": "2022-01-20T12:09:46.910Z"
   },
   {
    "duration": 227,
    "start_time": "2022-01-21T11:10:38.487Z"
   },
   {
    "duration": 634,
    "start_time": "2022-01-21T11:11:05.310Z"
   },
   {
    "duration": 9,
    "start_time": "2022-01-21T11:11:10.434Z"
   },
   {
    "duration": 5,
    "start_time": "2022-01-21T11:11:13.042Z"
   },
   {
    "duration": 213,
    "start_time": "2022-01-21T11:14:38.418Z"
   },
   {
    "duration": 6,
    "start_time": "2022-01-21T11:14:47.283Z"
   },
   {
    "duration": 14,
    "start_time": "2022-01-21T11:15:35.177Z"
   },
   {
    "duration": 63,
    "start_time": "2022-01-21T11:23:48.553Z"
   },
   {
    "duration": 65,
    "start_time": "2022-01-21T11:24:03.764Z"
   },
   {
    "duration": 58,
    "start_time": "2022-01-21T11:24:21.074Z"
   },
   {
    "duration": 373,
    "start_time": "2022-01-21T11:25:48.694Z"
   },
   {
    "duration": 16,
    "start_time": "2022-01-21T11:25:55.064Z"
   },
   {
    "duration": 6,
    "start_time": "2022-01-21T11:27:21.062Z"
   },
   {
    "duration": 13,
    "start_time": "2022-01-21T12:07:22.057Z"
   },
   {
    "duration": 13,
    "start_time": "2022-01-21T12:07:46.295Z"
   },
   {
    "duration": 18,
    "start_time": "2022-01-21T12:09:19.153Z"
   },
   {
    "duration": 10,
    "start_time": "2022-01-21T12:09:46.520Z"
   },
   {
    "duration": 6,
    "start_time": "2022-01-21T12:10:57.367Z"
   },
   {
    "duration": 7,
    "start_time": "2022-01-21T12:11:16.965Z"
   },
   {
    "duration": 4,
    "start_time": "2022-01-21T12:25:48.582Z"
   },
   {
    "duration": 4,
    "start_time": "2022-01-21T12:26:01.976Z"
   },
   {
    "duration": 6,
    "start_time": "2022-01-21T12:26:36.057Z"
   },
   {
    "duration": 4,
    "start_time": "2022-01-21T12:28:40.860Z"
   },
   {
    "duration": 9,
    "start_time": "2022-01-21T12:28:55.026Z"
   },
   {
    "duration": 283,
    "start_time": "2022-01-21T12:31:01.865Z"
   },
   {
    "duration": 5,
    "start_time": "2022-01-21T12:31:28.143Z"
   },
   {
    "duration": 7,
    "start_time": "2022-01-21T12:31:57.203Z"
   },
   {
    "duration": 5,
    "start_time": "2022-01-21T12:33:04.131Z"
   },
   {
    "duration": 5,
    "start_time": "2022-01-21T12:33:38.396Z"
   },
   {
    "duration": 6,
    "start_time": "2022-01-21T12:34:18.589Z"
   },
   {
    "duration": 5,
    "start_time": "2022-01-21T12:34:33.497Z"
   },
   {
    "duration": 13,
    "start_time": "2022-01-21T12:34:48.990Z"
   },
   {
    "duration": 9,
    "start_time": "2022-01-21T12:37:17.785Z"
   },
   {
    "duration": 6,
    "start_time": "2022-01-21T12:37:46.850Z"
   },
   {
    "duration": 7,
    "start_time": "2022-01-21T12:38:44.332Z"
   },
   {
    "duration": 8,
    "start_time": "2022-01-21T12:40:45.974Z"
   },
   {
    "duration": 7,
    "start_time": "2022-01-21T12:41:35.135Z"
   },
   {
    "duration": 7,
    "start_time": "2022-01-21T12:43:38.640Z"
   },
   {
    "duration": 8,
    "start_time": "2022-01-21T12:44:40.024Z"
   },
   {
    "duration": 7,
    "start_time": "2022-01-21T12:44:47.803Z"
   },
   {
    "duration": 207,
    "start_time": "2022-01-21T12:52:09.752Z"
   },
   {
    "duration": 190,
    "start_time": "2022-01-21T12:53:33.362Z"
   },
   {
    "duration": 8,
    "start_time": "2022-01-21T12:54:00.238Z"
   },
   {
    "duration": 196,
    "start_time": "2022-01-21T12:54:49.514Z"
   },
   {
    "duration": 175,
    "start_time": "2022-01-21T12:55:18.928Z"
   },
   {
    "duration": 21,
    "start_time": "2022-01-21T13:00:51.598Z"
   },
   {
    "duration": 36,
    "start_time": "2022-01-21T13:01:41.103Z"
   },
   {
    "duration": 23,
    "start_time": "2022-01-21T13:01:49.324Z"
   },
   {
    "duration": 28,
    "start_time": "2022-01-21T13:05:12.312Z"
   },
   {
    "duration": 15,
    "start_time": "2022-01-21T13:06:04.761Z"
   },
   {
    "duration": 16,
    "start_time": "2022-01-21T13:06:19.511Z"
   },
   {
    "duration": 15,
    "start_time": "2022-01-21T14:10:56.298Z"
   },
   {
    "duration": 508,
    "start_time": "2022-01-21T14:13:44.352Z"
   },
   {
    "duration": 510,
    "start_time": "2022-01-21T14:13:58.700Z"
   },
   {
    "duration": 200,
    "start_time": "2022-01-21T14:14:08.444Z"
   },
   {
    "duration": 71,
    "start_time": "2022-01-21T14:14:45.631Z"
   },
   {
    "duration": 37,
    "start_time": "2022-01-21T14:14:57.427Z"
   },
   {
    "duration": 40,
    "start_time": "2022-01-21T14:20:20.737Z"
   },
   {
    "duration": 40,
    "start_time": "2022-01-21T14:23:13.138Z"
   },
   {
    "duration": 41,
    "start_time": "2022-01-21T14:23:27.971Z"
   },
   {
    "duration": 43,
    "start_time": "2022-01-21T14:23:35.173Z"
   },
   {
    "duration": 43,
    "start_time": "2022-01-21T14:23:50.744Z"
   },
   {
    "duration": 207,
    "start_time": "2022-01-21T14:24:21.468Z"
   },
   {
    "duration": 24,
    "start_time": "2022-01-21T14:24:33.644Z"
   },
   {
    "duration": 29,
    "start_time": "2022-01-21T14:24:43.787Z"
   },
   {
    "duration": 21,
    "start_time": "2022-01-21T14:25:00.893Z"
   },
   {
    "duration": 31,
    "start_time": "2022-01-21T14:25:56.255Z"
   },
   {
    "duration": 8,
    "start_time": "2022-01-21T14:33:24.383Z"
   },
   {
    "duration": 2626,
    "start_time": "2022-01-21T14:33:40.128Z"
   },
   {
    "duration": 2629,
    "start_time": "2022-01-21T14:34:33.486Z"
   },
   {
    "duration": 2530,
    "start_time": "2022-01-21T14:34:53.679Z"
   },
   {
    "duration": 42,
    "start_time": "2022-01-21T14:35:15.558Z"
   },
   {
    "duration": 62,
    "start_time": "2022-01-21T14:35:27.773Z"
   },
   {
    "duration": 61,
    "start_time": "2022-01-21T14:35:35.640Z"
   },
   {
    "duration": 13,
    "start_time": "2022-01-21T14:35:41.614Z"
   },
   {
    "duration": 10,
    "start_time": "2022-01-21T14:35:45.414Z"
   },
   {
    "duration": 9,
    "start_time": "2022-01-21T14:35:49.686Z"
   },
   {
    "duration": 14,
    "start_time": "2022-01-21T14:35:52.924Z"
   },
   {
    "duration": 6,
    "start_time": "2022-01-21T14:35:56.878Z"
   },
   {
    "duration": 8,
    "start_time": "2022-01-21T14:36:02.129Z"
   },
   {
    "duration": 40,
    "start_time": "2022-01-21T14:36:10.023Z"
   },
   {
    "duration": 40,
    "start_time": "2022-01-21T14:36:25.513Z"
   },
   {
    "duration": 6,
    "start_time": "2022-01-21T14:36:31.185Z"
   },
   {
    "duration": 76,
    "start_time": "2022-01-21T14:36:59.657Z"
   },
   {
    "duration": 2417,
    "start_time": "2022-01-21T14:37:13.308Z"
   },
   {
    "duration": 2520,
    "start_time": "2022-01-21T14:37:48.953Z"
   },
   {
    "duration": 3058,
    "start_time": "2022-01-21T14:38:08.867Z"
   },
   {
    "duration": 4,
    "start_time": "2022-01-21T14:38:32.312Z"
   },
   {
    "duration": 4,
    "start_time": "2022-01-21T14:38:43.986Z"
   },
   {
    "duration": 41,
    "start_time": "2022-01-21T14:38:54.344Z"
   },
   {
    "duration": 38,
    "start_time": "2022-01-21T14:39:03.200Z"
   },
   {
    "duration": 40,
    "start_time": "2022-01-21T15:00:04.074Z"
   },
   {
    "duration": 12,
    "start_time": "2022-01-21T15:00:31.072Z"
   },
   {
    "duration": 13,
    "start_time": "2022-01-21T15:22:35.838Z"
   },
   {
    "duration": 17,
    "start_time": "2022-01-21T15:22:42.848Z"
   },
   {
    "duration": 42,
    "start_time": "2022-01-21T15:23:09.835Z"
   },
   {
    "duration": 40,
    "start_time": "2022-01-21T15:23:22.898Z"
   },
   {
    "duration": 27,
    "start_time": "2022-01-21T15:23:46.423Z"
   },
   {
    "duration": 6,
    "start_time": "2022-01-21T15:24:27.481Z"
   },
   {
    "duration": 2829,
    "start_time": "2022-01-21T15:25:21.648Z"
   },
   {
    "duration": 37,
    "start_time": "2022-01-21T15:25:37.152Z"
   },
   {
    "duration": 26,
    "start_time": "2022-01-21T15:25:43.084Z"
   },
   {
    "duration": 5,
    "start_time": "2022-01-21T15:27:57.739Z"
   },
   {
    "duration": 4,
    "start_time": "2022-01-21T15:40:58.500Z"
   },
   {
    "duration": 211,
    "start_time": "2022-01-21T15:42:50.806Z"
   },
   {
    "duration": 6,
    "start_time": "2022-01-21T15:43:14.497Z"
   },
   {
    "duration": 5,
    "start_time": "2022-01-21T15:43:16.387Z"
   },
   {
    "duration": 19,
    "start_time": "2022-01-21T15:43:37.521Z"
   },
   {
    "duration": 33,
    "start_time": "2022-01-21T15:43:47.137Z"
   },
   {
    "duration": 23,
    "start_time": "2022-01-21T15:44:36.019Z"
   },
   {
    "duration": 5,
    "start_time": "2022-01-21T15:45:13.371Z"
   },
   {
    "duration": 4,
    "start_time": "2022-01-21T15:46:23.424Z"
   },
   {
    "duration": 20,
    "start_time": "2022-01-21T15:47:44.412Z"
   },
   {
    "duration": 482,
    "start_time": "2022-01-22T09:19:48.671Z"
   },
   {
    "duration": 1769,
    "start_time": "2022-01-22T09:20:04.929Z"
   },
   {
    "duration": 1514,
    "start_time": "2022-01-22T09:20:12.543Z"
   },
   {
    "duration": 7,
    "start_time": "2022-01-22T09:20:18.920Z"
   },
   {
    "duration": 541,
    "start_time": "2022-01-22T09:24:07.151Z"
   },
   {
    "duration": 28,
    "start_time": "2022-01-22T09:24:16.854Z"
   },
   {
    "duration": 411,
    "start_time": "2022-01-22T09:24:42.875Z"
   },
   {
    "duration": 88,
    "start_time": "2022-01-22T09:24:58.653Z"
   },
   {
    "duration": 21,
    "start_time": "2022-01-22T09:24:58.759Z"
   },
   {
    "duration": 7,
    "start_time": "2022-01-22T09:24:58.783Z"
   },
   {
    "duration": 13,
    "start_time": "2022-01-22T09:24:58.794Z"
   },
   {
    "duration": 64,
    "start_time": "2022-01-22T09:24:58.810Z"
   },
   {
    "duration": 9,
    "start_time": "2022-01-22T09:24:58.876Z"
   },
   {
    "duration": 12,
    "start_time": "2022-01-22T09:24:58.888Z"
   },
   {
    "duration": 99,
    "start_time": "2022-01-22T09:24:58.903Z"
   },
   {
    "duration": 9,
    "start_time": "2022-01-22T09:24:59.007Z"
   },
   {
    "duration": 49,
    "start_time": "2022-01-22T09:24:59.019Z"
   },
   {
    "duration": 21,
    "start_time": "2022-01-22T09:24:59.071Z"
   },
   {
    "duration": 8,
    "start_time": "2022-01-22T09:24:59.095Z"
   },
   {
    "duration": 52,
    "start_time": "2022-01-22T09:24:59.107Z"
   },
   {
    "duration": 19,
    "start_time": "2022-01-22T09:24:59.162Z"
   },
   {
    "duration": 20,
    "start_time": "2022-01-22T09:24:59.184Z"
   },
   {
    "duration": 376,
    "start_time": "2022-01-22T09:26:08.918Z"
   },
   {
    "duration": 389,
    "start_time": "2022-01-22T09:28:36.654Z"
   },
   {
    "duration": 33,
    "start_time": "2022-01-22T09:28:58.190Z"
   },
   {
    "duration": 23,
    "start_time": "2022-01-22T09:29:46.757Z"
   },
   {
    "duration": 8,
    "start_time": "2022-01-22T09:44:52.715Z"
   },
   {
    "duration": 3,
    "start_time": "2022-01-22T09:52:20.539Z"
   },
   {
    "duration": 50,
    "start_time": "2022-01-22T09:55:02.928Z"
   },
   {
    "duration": 3601,
    "start_time": "2022-01-22T10:20:11.605Z"
   },
   {
    "duration": 8,
    "start_time": "2022-01-22T10:20:44.323Z"
   },
   {
    "duration": 382,
    "start_time": "2022-01-22T10:22:52.336Z"
   },
   {
    "duration": 5,
    "start_time": "2022-01-22T10:23:12.193Z"
   },
   {
    "duration": 5,
    "start_time": "2022-01-22T10:23:16.754Z"
   },
   {
    "duration": 6,
    "start_time": "2022-01-22T10:23:28.936Z"
   },
   {
    "duration": 7,
    "start_time": "2022-01-22T10:24:10.168Z"
   },
   {
    "duration": 4779,
    "start_time": "2022-01-22T10:24:49.318Z"
   },
   {
    "duration": 4580,
    "start_time": "2022-01-22T10:25:10.801Z"
   },
   {
    "duration": 6502,
    "start_time": "2022-01-22T10:25:41.585Z"
   },
   {
    "duration": 9,
    "start_time": "2022-01-22T10:49:50.263Z"
   },
   {
    "duration": 12,
    "start_time": "2022-01-22T10:51:33.560Z"
   },
   {
    "duration": 4910,
    "start_time": "2022-01-22T10:52:07.169Z"
   },
   {
    "duration": 4933,
    "start_time": "2022-01-22T10:52:30.980Z"
   },
   {
    "duration": 12,
    "start_time": "2022-01-22T10:53:02.979Z"
   },
   {
    "duration": 17,
    "start_time": "2022-01-22T10:53:53.327Z"
   },
   {
    "duration": 7,
    "start_time": "2022-01-22T11:24:21.389Z"
   },
   {
    "duration": 6,
    "start_time": "2022-01-22T11:24:35.736Z"
   },
   {
    "duration": 13,
    "start_time": "2022-01-22T11:24:40.691Z"
   },
   {
    "duration": 10,
    "start_time": "2022-01-22T11:25:09.099Z"
   },
   {
    "duration": 13,
    "start_time": "2022-01-22T11:25:16.297Z"
   },
   {
    "duration": 21,
    "start_time": "2022-01-22T11:26:22.975Z"
   },
   {
    "duration": 14,
    "start_time": "2022-01-22T11:27:00.026Z"
   },
   {
    "duration": 15,
    "start_time": "2022-01-22T11:27:20.051Z"
   },
   {
    "duration": 21,
    "start_time": "2022-01-22T11:31:41.030Z"
   },
   {
    "duration": 484,
    "start_time": "2022-01-24T09:10:10.201Z"
   },
   {
    "duration": 856,
    "start_time": "2022-01-24T09:10:25.015Z"
   },
   {
    "duration": 15,
    "start_time": "2022-01-24T09:10:25.873Z"
   },
   {
    "duration": 19,
    "start_time": "2022-01-24T09:10:25.890Z"
   },
   {
    "duration": 25,
    "start_time": "2022-01-24T09:10:25.911Z"
   },
   {
    "duration": 19,
    "start_time": "2022-01-24T09:10:25.938Z"
   },
   {
    "duration": 8,
    "start_time": "2022-01-24T09:10:25.959Z"
   },
   {
    "duration": 9,
    "start_time": "2022-01-24T09:10:25.970Z"
   },
   {
    "duration": 54,
    "start_time": "2022-01-24T09:10:25.982Z"
   },
   {
    "duration": 7,
    "start_time": "2022-01-24T09:10:26.038Z"
   },
   {
    "duration": 16,
    "start_time": "2022-01-24T09:10:26.047Z"
   },
   {
    "duration": 573,
    "start_time": "2022-01-24T09:10:26.065Z"
   },
   {
    "duration": -36,
    "start_time": "2022-01-24T09:10:26.676Z"
   },
   {
    "duration": -38,
    "start_time": "2022-01-24T09:10:26.679Z"
   },
   {
    "duration": -39,
    "start_time": "2022-01-24T09:10:26.682Z"
   },
   {
    "duration": -43,
    "start_time": "2022-01-24T09:10:26.687Z"
   },
   {
    "duration": -46,
    "start_time": "2022-01-24T09:10:26.691Z"
   },
   {
    "duration": 433,
    "start_time": "2022-01-24T09:10:33.104Z"
   },
   {
    "duration": 278,
    "start_time": "2022-01-24T09:10:51.778Z"
   },
   {
    "duration": 308,
    "start_time": "2022-01-24T09:13:35.975Z"
   },
   {
    "duration": 326,
    "start_time": "2022-01-24T09:13:42.625Z"
   },
   {
    "duration": 286,
    "start_time": "2022-01-24T09:13:54.966Z"
   },
   {
    "duration": 289,
    "start_time": "2022-01-24T09:14:58.193Z"
   },
   {
    "duration": 245,
    "start_time": "2022-01-24T09:15:12.024Z"
   },
   {
    "duration": 70,
    "start_time": "2022-01-24T09:15:17.194Z"
   },
   {
    "duration": 15,
    "start_time": "2022-01-24T09:15:27.628Z"
   },
   {
    "duration": 5,
    "start_time": "2022-01-24T09:15:38.246Z"
   },
   {
    "duration": 12,
    "start_time": "2022-01-24T09:15:44.793Z"
   },
   {
    "duration": 17,
    "start_time": "2022-01-24T09:15:47.656Z"
   },
   {
    "duration": 8,
    "start_time": "2022-01-24T09:15:53.012Z"
   },
   {
    "duration": 34,
    "start_time": "2022-01-24T09:15:57.452Z"
   },
   {
    "duration": 6,
    "start_time": "2022-01-24T09:16:05.777Z"
   },
   {
    "duration": 11,
    "start_time": "2022-01-24T09:16:08.937Z"
   },
   {
    "duration": 5,
    "start_time": "2022-01-24T09:16:13.013Z"
   },
   {
    "duration": 327,
    "start_time": "2022-01-24T09:16:25.075Z"
   },
   {
    "duration": 288,
    "start_time": "2022-01-24T09:16:53.003Z"
   },
   {
    "duration": 260,
    "start_time": "2022-01-24T09:16:59.932Z"
   },
   {
    "duration": 250,
    "start_time": "2022-01-24T09:17:20.077Z"
   },
   {
    "duration": 254,
    "start_time": "2022-01-24T09:17:35.003Z"
   },
   {
    "duration": 36,
    "start_time": "2022-01-24T09:18:02.341Z"
   },
   {
    "duration": 8,
    "start_time": "2022-01-24T09:18:08.519Z"
   },
   {
    "duration": 12,
    "start_time": "2022-01-24T09:18:11.154Z"
   },
   {
    "duration": 13,
    "start_time": "2022-01-24T09:18:14.758Z"
   },
   {
    "duration": 91,
    "start_time": "2022-01-24T09:19:00.415Z"
   },
   {
    "duration": 15,
    "start_time": "2022-01-24T09:19:12.444Z"
   },
   {
    "duration": 24,
    "start_time": "2022-01-24T09:20:34.704Z"
   },
   {
    "duration": 15,
    "start_time": "2022-01-24T09:21:18.777Z"
   },
   {
    "duration": 23,
    "start_time": "2022-01-24T09:21:57.557Z"
   },
   {
    "duration": 4,
    "start_time": "2022-01-24T09:22:48.025Z"
   },
   {
    "duration": 5,
    "start_time": "2022-01-24T09:26:23.849Z"
   },
   {
    "duration": 5,
    "start_time": "2022-01-24T09:26:34.752Z"
   },
   {
    "duration": 15,
    "start_time": "2022-01-24T09:26:43.051Z"
   },
   {
    "duration": 9,
    "start_time": "2022-01-24T09:26:48.929Z"
   },
   {
    "duration": 35,
    "start_time": "2022-01-24T09:26:52.485Z"
   },
   {
    "duration": 7,
    "start_time": "2022-01-24T09:26:55.217Z"
   },
   {
    "duration": 11,
    "start_time": "2022-01-24T09:26:57.430Z"
   },
   {
    "duration": 15,
    "start_time": "2022-01-24T09:27:01.212Z"
   },
   {
    "duration": 16,
    "start_time": "2022-01-24T09:27:17.475Z"
   },
   {
    "duration": 6,
    "start_time": "2022-01-24T10:09:57.415Z"
   },
   {
    "duration": 4,
    "start_time": "2022-01-24T10:10:03.748Z"
   },
   {
    "duration": 38,
    "start_time": "2022-01-24T10:10:13.808Z"
   },
   {
    "duration": 9,
    "start_time": "2022-01-24T10:10:17.168Z"
   },
   {
    "duration": 14,
    "start_time": "2022-01-24T10:10:19.792Z"
   },
   {
    "duration": 28,
    "start_time": "2022-01-24T10:10:23.368Z"
   },
   {
    "duration": 7,
    "start_time": "2022-01-24T10:20:57.420Z"
   },
   {
    "duration": 3903,
    "start_time": "2022-01-24T10:37:29.551Z"
   },
   {
    "duration": 75,
    "start_time": "2022-01-24T10:37:47.341Z"
   },
   {
    "duration": 14,
    "start_time": "2022-01-24T10:37:51.532Z"
   },
   {
    "duration": 5,
    "start_time": "2022-01-24T10:37:54.919Z"
   },
   {
    "duration": 14,
    "start_time": "2022-01-24T10:37:59.241Z"
   },
   {
    "duration": 17,
    "start_time": "2022-01-24T10:38:08.959Z"
   },
   {
    "duration": 8,
    "start_time": "2022-01-24T10:38:12.149Z"
   },
   {
    "duration": 39,
    "start_time": "2022-01-24T10:38:16.911Z"
   },
   {
    "duration": 8,
    "start_time": "2022-01-24T10:38:20.985Z"
   },
   {
    "duration": 12,
    "start_time": "2022-01-24T10:38:25.397Z"
   },
   {
    "duration": 11,
    "start_time": "2022-01-24T10:38:28.456Z"
   },
   {
    "duration": 19,
    "start_time": "2022-01-24T10:38:46.926Z"
   },
   {
    "duration": 19,
    "start_time": "2022-01-24T10:38:57.180Z"
   },
   {
    "duration": 12,
    "start_time": "2022-01-24T10:40:28.968Z"
   },
   {
    "duration": 12,
    "start_time": "2022-01-24T10:40:48.686Z"
   },
   {
    "duration": 8,
    "start_time": "2022-01-24T10:41:08.053Z"
   },
   {
    "duration": 24,
    "start_time": "2022-01-24T10:41:22.296Z"
   },
   {
    "duration": 12,
    "start_time": "2022-01-24T10:41:55.276Z"
   },
   {
    "duration": 20,
    "start_time": "2022-01-24T10:46:17.902Z"
   },
   {
    "duration": 5,
    "start_time": "2022-01-24T10:56:29.333Z"
   },
   {
    "duration": 6,
    "start_time": "2022-01-24T10:56:33.377Z"
   },
   {
    "duration": 3534,
    "start_time": "2022-01-24T11:11:19.351Z"
   },
   {
    "duration": 5017,
    "start_time": "2022-01-24T11:12:11.680Z"
   },
   {
    "duration": 6,
    "start_time": "2022-01-24T11:13:12.163Z"
   },
   {
    "duration": 74,
    "start_time": "2022-01-24T11:13:36.354Z"
   },
   {
    "duration": 14,
    "start_time": "2022-01-24T11:13:36.430Z"
   },
   {
    "duration": 14,
    "start_time": "2022-01-24T11:13:36.446Z"
   },
   {
    "duration": 29,
    "start_time": "2022-01-24T11:13:36.463Z"
   },
   {
    "duration": 33,
    "start_time": "2022-01-24T11:13:36.495Z"
   },
   {
    "duration": 19,
    "start_time": "2022-01-24T11:13:36.530Z"
   },
   {
    "duration": 33,
    "start_time": "2022-01-24T11:13:36.551Z"
   },
   {
    "duration": 56,
    "start_time": "2022-01-24T11:13:36.587Z"
   },
   {
    "duration": 8,
    "start_time": "2022-01-24T11:13:36.645Z"
   },
   {
    "duration": 28,
    "start_time": "2022-01-24T11:13:36.656Z"
   },
   {
    "duration": 25,
    "start_time": "2022-01-24T11:13:36.686Z"
   },
   {
    "duration": 28,
    "start_time": "2022-01-24T11:13:36.713Z"
   },
   {
    "duration": 25,
    "start_time": "2022-01-24T11:13:36.743Z"
   },
   {
    "duration": 23,
    "start_time": "2022-01-24T11:13:36.770Z"
   },
   {
    "duration": 29,
    "start_time": "2022-01-24T11:13:36.794Z"
   },
   {
    "duration": 28,
    "start_time": "2022-01-24T11:13:36.825Z"
   },
   {
    "duration": 49,
    "start_time": "2022-01-24T11:14:11.092Z"
   },
   {
    "duration": 78,
    "start_time": "2022-01-24T11:16:05.863Z"
   },
   {
    "duration": 6,
    "start_time": "2022-01-24T11:16:36.959Z"
   },
   {
    "duration": 57,
    "start_time": "2022-01-24T11:22:37.124Z"
   },
   {
    "duration": 276,
    "start_time": "2022-01-24T11:25:56.269Z"
   },
   {
    "duration": 257,
    "start_time": "2022-01-24T11:26:39.105Z"
   },
   {
    "duration": 275,
    "start_time": "2022-01-24T11:27:00.251Z"
   },
   {
    "duration": 12,
    "start_time": "2022-01-24T11:27:14.070Z"
   },
   {
    "duration": 37,
    "start_time": "2022-01-24T11:31:00.235Z"
   },
   {
    "duration": 852,
    "start_time": "2022-01-26T07:31:37.187Z"
   },
   {
    "duration": 26,
    "start_time": "2022-01-26T07:31:38.042Z"
   },
   {
    "duration": 6,
    "start_time": "2022-01-26T07:31:38.072Z"
   },
   {
    "duration": 13,
    "start_time": "2022-01-26T07:31:38.081Z"
   },
   {
    "duration": 21,
    "start_time": "2022-01-26T07:31:38.096Z"
   },
   {
    "duration": 45,
    "start_time": "2022-01-26T07:31:38.120Z"
   },
   {
    "duration": 3,
    "start_time": "2022-01-26T07:31:38.168Z"
   },
   {
    "duration": 51,
    "start_time": "2022-01-26T07:31:38.174Z"
   },
   {
    "duration": 37,
    "start_time": "2022-01-26T07:31:38.229Z"
   },
   {
    "duration": 23,
    "start_time": "2022-01-26T07:31:38.269Z"
   },
   {
    "duration": 14,
    "start_time": "2022-01-26T07:31:38.295Z"
   },
   {
    "duration": 58,
    "start_time": "2022-01-26T07:31:38.312Z"
   },
   {
    "duration": 65,
    "start_time": "2022-01-26T07:31:38.372Z"
   },
   {
    "duration": 7,
    "start_time": "2022-01-26T07:31:38.460Z"
   },
   {
    "duration": 47,
    "start_time": "2022-01-26T07:31:38.470Z"
   },
   {
    "duration": 48,
    "start_time": "2022-01-26T07:31:38.519Z"
   },
   {
    "duration": 32,
    "start_time": "2022-01-26T07:52:22.187Z"
   },
   {
    "duration": 32,
    "start_time": "2022-01-26T08:03:22.859Z"
   },
   {
    "duration": 665,
    "start_time": "2022-01-26T08:06:02.888Z"
   },
   {
    "duration": 33,
    "start_time": "2022-01-26T08:06:15.468Z"
   },
   {
    "duration": 24,
    "start_time": "2022-01-26T08:06:27.834Z"
   },
   {
    "duration": 10408,
    "start_time": "2022-01-26T08:08:33.153Z"
   },
   {
    "duration": 12,
    "start_time": "2022-01-26T08:09:32.168Z"
   },
   {
    "duration": 19,
    "start_time": "2022-01-26T08:09:42.469Z"
   },
   {
    "duration": 23,
    "start_time": "2022-01-26T08:22:02.713Z"
   },
   {
    "duration": 45,
    "start_time": "2022-01-26T08:22:36.908Z"
   },
   {
    "duration": 64,
    "start_time": "2022-01-26T08:23:27.389Z"
   },
   {
    "duration": 70,
    "start_time": "2022-01-26T08:24:06.635Z"
   },
   {
    "duration": 55,
    "start_time": "2022-01-26T08:24:33.194Z"
   },
   {
    "duration": 22,
    "start_time": "2022-01-26T08:29:05.099Z"
   },
   {
    "duration": 64,
    "start_time": "2022-01-26T08:40:23.987Z"
   },
   {
    "duration": 396,
    "start_time": "2022-01-26T09:01:46.003Z"
   },
   {
    "duration": 384,
    "start_time": "2022-01-26T09:02:07.530Z"
   },
   {
    "duration": 501,
    "start_time": "2022-01-26T09:05:27.747Z"
   },
   {
    "duration": 7,
    "start_time": "2022-01-26T09:05:47.290Z"
   },
   {
    "duration": 371,
    "start_time": "2022-01-26T09:06:28.607Z"
   },
   {
    "duration": 409,
    "start_time": "2022-01-26T09:10:15.557Z"
   },
   {
    "duration": 918,
    "start_time": "2022-01-26T09:20:11.282Z"
   },
   {
    "duration": 1268,
    "start_time": "2022-01-26T09:25:49.232Z"
   },
   {
    "duration": 1026,
    "start_time": "2022-01-26T09:26:25.525Z"
   },
   {
    "duration": 393,
    "start_time": "2022-01-26T09:29:08.463Z"
   },
   {
    "duration": 371,
    "start_time": "2022-01-26T09:29:20.118Z"
   },
   {
    "duration": 9,
    "start_time": "2022-01-26T09:31:24.624Z"
   },
   {
    "duration": 9,
    "start_time": "2022-01-26T09:31:39.874Z"
   },
   {
    "duration": 125,
    "start_time": "2022-01-26T09:32:18.707Z"
   },
   {
    "duration": 204,
    "start_time": "2022-01-26T09:32:43.502Z"
   },
   {
    "duration": 118,
    "start_time": "2022-01-26T09:33:07.720Z"
   },
   {
    "duration": 192,
    "start_time": "2022-01-26T09:33:14.520Z"
   },
   {
    "duration": 891,
    "start_time": "2022-01-26T09:33:24.099Z"
   },
   {
    "duration": 36,
    "start_time": "2022-01-26T09:33:57.945Z"
   },
   {
    "duration": 375,
    "start_time": "2022-01-26T09:40:02.060Z"
   },
   {
    "duration": 1394,
    "start_time": "2022-01-26T09:41:55.825Z"
   },
   {
    "duration": -210,
    "start_time": "2022-01-26T09:46:19.145Z"
   },
   {
    "duration": 932,
    "start_time": "2022-01-26T09:46:58.227Z"
   },
   {
    "duration": 945,
    "start_time": "2022-01-26T09:47:34.994Z"
   },
   {
    "duration": 931,
    "start_time": "2022-01-26T09:48:48.064Z"
   },
   {
    "duration": 1321,
    "start_time": "2022-01-26T09:49:31.244Z"
   },
   {
    "duration": 1292,
    "start_time": "2022-01-26T09:51:11.666Z"
   },
   {
    "duration": 1304,
    "start_time": "2022-01-26T09:51:44.159Z"
   },
   {
    "duration": 1344,
    "start_time": "2022-01-26T09:52:22.535Z"
   },
   {
    "duration": 1304,
    "start_time": "2022-01-26T09:56:07.029Z"
   },
   {
    "duration": 1343,
    "start_time": "2022-01-26T09:59:46.533Z"
   },
   {
    "duration": 1371,
    "start_time": "2022-01-26T10:02:24.853Z"
   },
   {
    "duration": 1538,
    "start_time": "2022-01-26T10:03:00.060Z"
   },
   {
    "duration": 974,
    "start_time": "2022-01-26T10:03:24.051Z"
   },
   {
    "duration": 1075,
    "start_time": "2022-01-26T10:04:26.047Z"
   },
   {
    "duration": 999,
    "start_time": "2022-01-26T10:04:36.734Z"
   },
   {
    "duration": 1160,
    "start_time": "2022-01-26T10:07:02.192Z"
   },
   {
    "duration": 1477,
    "start_time": "2022-01-26T10:19:40.944Z"
   },
   {
    "duration": 2199,
    "start_time": "2022-01-26T10:20:32.538Z"
   },
   {
    "duration": 1110,
    "start_time": "2022-01-26T10:21:15.479Z"
   },
   {
    "duration": 1080,
    "start_time": "2022-01-26T10:37:50.397Z"
   },
   {
    "duration": 1083,
    "start_time": "2022-01-26T10:39:24.141Z"
   },
   {
    "duration": 1174,
    "start_time": "2022-01-26T10:39:37.192Z"
   },
   {
    "duration": 1205,
    "start_time": "2022-01-26T10:39:57.504Z"
   },
   {
    "duration": 1093,
    "start_time": "2022-01-26T10:40:26.773Z"
   },
   {
    "duration": 1038,
    "start_time": "2022-01-26T10:40:56.898Z"
   },
   {
    "duration": 1103,
    "start_time": "2022-01-26T10:41:35.231Z"
   },
   {
    "duration": 1548,
    "start_time": "2022-01-26T10:44:40.931Z"
   },
   {
    "duration": 198,
    "start_time": "2022-01-26T10:45:15.991Z"
   },
   {
    "duration": 1022,
    "start_time": "2022-01-26T10:45:49.067Z"
   },
   {
    "duration": 1472,
    "start_time": "2022-01-26T10:47:02.894Z"
   },
   {
    "duration": 1483,
    "start_time": "2022-01-26T10:47:24.836Z"
   },
   {
    "duration": 1018,
    "start_time": "2022-01-26T10:47:43.981Z"
   },
   {
    "duration": 1111,
    "start_time": "2022-01-26T10:52:52.581Z"
   },
   {
    "duration": 1673,
    "start_time": "2022-01-26T10:53:42.791Z"
   },
   {
    "duration": 1074,
    "start_time": "2022-01-26T10:54:11.944Z"
   },
   {
    "duration": 1065,
    "start_time": "2022-01-26T10:54:33.110Z"
   },
   {
    "duration": 1071,
    "start_time": "2022-01-26T10:54:57.310Z"
   },
   {
    "duration": 1006,
    "start_time": "2022-01-26T10:55:35.174Z"
   },
   {
    "duration": 995,
    "start_time": "2022-01-26T10:55:54.203Z"
   },
   {
    "duration": 117,
    "start_time": "2022-01-26T10:57:03.008Z"
   },
   {
    "duration": 1032,
    "start_time": "2022-01-26T10:57:08.400Z"
   },
   {
    "duration": 1039,
    "start_time": "2022-01-26T10:58:58.512Z"
   },
   {
    "duration": 1015,
    "start_time": "2022-01-26T10:59:59.946Z"
   },
   {
    "duration": 1046,
    "start_time": "2022-01-26T11:00:25.746Z"
   },
   {
    "duration": 1411,
    "start_time": "2022-01-26T11:03:28.148Z"
   },
   {
    "duration": 1403,
    "start_time": "2022-01-26T11:03:40.314Z"
   },
   {
    "duration": 1593,
    "start_time": "2022-01-26T11:08:40.397Z"
   },
   {
    "duration": 1017,
    "start_time": "2022-01-26T11:08:56.499Z"
   },
   {
    "duration": 1446,
    "start_time": "2022-01-26T11:13:17.978Z"
   },
   {
    "duration": 1216,
    "start_time": "2022-01-26T11:14:02.892Z"
   },
   {
    "duration": 1014,
    "start_time": "2022-01-26T11:14:37.999Z"
   },
   {
    "duration": 1600,
    "start_time": "2022-01-26T11:15:00.241Z"
   },
   {
    "duration": 1409,
    "start_time": "2022-01-26T11:15:39.930Z"
   },
   {
    "duration": 1490,
    "start_time": "2022-01-26T11:15:54.794Z"
   },
   {
    "duration": 1037,
    "start_time": "2022-01-26T11:18:21.652Z"
   },
   {
    "duration": 995,
    "start_time": "2022-01-26T11:19:08.035Z"
   },
   {
    "duration": 1037,
    "start_time": "2022-01-26T11:19:35.071Z"
   },
   {
    "duration": 1014,
    "start_time": "2022-01-26T11:20:25.176Z"
   },
   {
    "duration": 1016,
    "start_time": "2022-01-26T11:20:37.010Z"
   },
   {
    "duration": 1041,
    "start_time": "2022-01-26T11:21:11.110Z"
   },
   {
    "duration": 1030,
    "start_time": "2022-01-26T11:21:20.463Z"
   },
   {
    "duration": 1136,
    "start_time": "2022-01-26T11:22:08.524Z"
   },
   {
    "duration": 1004,
    "start_time": "2022-01-26T11:22:13.344Z"
   },
   {
    "duration": 1042,
    "start_time": "2022-01-26T11:22:57.927Z"
   },
   {
    "duration": 1022,
    "start_time": "2022-01-26T11:23:18.270Z"
   },
   {
    "duration": 1050,
    "start_time": "2022-01-26T11:24:13.532Z"
   },
   {
    "duration": 1063,
    "start_time": "2022-01-26T11:24:30.113Z"
   },
   {
    "duration": 494,
    "start_time": "2022-01-26T11:25:16.346Z"
   },
   {
    "duration": 1077,
    "start_time": "2022-01-26T11:25:27.698Z"
   },
   {
    "duration": 398,
    "start_time": "2022-01-26T11:26:03.654Z"
   },
   {
    "duration": 412,
    "start_time": "2022-01-26T11:26:10.972Z"
   },
   {
    "duration": 1003,
    "start_time": "2022-01-26T11:26:23.093Z"
   },
   {
    "duration": 512,
    "start_time": "2022-01-26T11:26:39.690Z"
   },
   {
    "duration": 1035,
    "start_time": "2022-01-26T11:26:54.631Z"
   },
   {
    "duration": 1041,
    "start_time": "2022-01-26T11:28:49.554Z"
   },
   {
    "duration": 982,
    "start_time": "2022-01-26T11:29:02.668Z"
   },
   {
    "duration": 426,
    "start_time": "2022-01-26T11:29:30.095Z"
   },
   {
    "duration": 955,
    "start_time": "2022-01-26T11:29:48.373Z"
   },
   {
    "duration": 432,
    "start_time": "2022-01-26T11:30:03.854Z"
   },
   {
    "duration": 1031,
    "start_time": "2022-01-26T11:32:57.366Z"
   },
   {
    "duration": 968,
    "start_time": "2022-01-26T11:33:09.982Z"
   },
   {
    "duration": 1334,
    "start_time": "2022-01-26T11:37:19.024Z"
   },
   {
    "duration": 1347,
    "start_time": "2022-01-26T11:37:46.974Z"
   },
   {
    "duration": 115,
    "start_time": "2022-01-26T11:39:05.088Z"
   },
   {
    "duration": 122,
    "start_time": "2022-01-26T11:39:34.342Z"
   },
   {
    "duration": 212,
    "start_time": "2022-01-26T11:39:41.366Z"
   },
   {
    "duration": 981,
    "start_time": "2022-01-26T11:39:49.737Z"
   },
   {
    "duration": 993,
    "start_time": "2022-01-26T11:39:58.881Z"
   },
   {
    "duration": 1364,
    "start_time": "2022-01-26T11:42:33.043Z"
   },
   {
    "duration": 963,
    "start_time": "2022-01-26T11:47:37.003Z"
   },
   {
    "duration": 1076,
    "start_time": "2022-01-26T11:48:02.329Z"
   },
   {
    "duration": 980,
    "start_time": "2022-01-26T11:48:31.188Z"
   },
   {
    "duration": 966,
    "start_time": "2022-01-26T11:48:53.214Z"
   },
   {
    "duration": 973,
    "start_time": "2022-01-26T11:49:27.329Z"
   },
   {
    "duration": 983,
    "start_time": "2022-01-26T11:50:18.988Z"
   },
   {
    "duration": 985,
    "start_time": "2022-01-26T11:50:53.768Z"
   },
   {
    "duration": 1324,
    "start_time": "2022-01-26T11:51:19.651Z"
   },
   {
    "duration": 959,
    "start_time": "2022-01-26T11:51:52.090Z"
   },
   {
    "duration": 984,
    "start_time": "2022-01-26T11:52:14.704Z"
   },
   {
    "duration": 988,
    "start_time": "2022-01-26T11:52:43.673Z"
   },
   {
    "duration": 977,
    "start_time": "2022-01-26T11:53:36.905Z"
   },
   {
    "duration": 1082,
    "start_time": "2022-01-26T11:54:20.980Z"
   },
   {
    "duration": 1005,
    "start_time": "2022-01-26T11:54:41.743Z"
   },
   {
    "duration": 988,
    "start_time": "2022-01-26T11:56:18.685Z"
   },
   {
    "duration": 972,
    "start_time": "2022-01-26T11:56:38.677Z"
   },
   {
    "duration": 977,
    "start_time": "2022-01-26T11:57:38.687Z"
   },
   {
    "duration": 975,
    "start_time": "2022-01-26T12:00:14.055Z"
   },
   {
    "duration": 978,
    "start_time": "2022-01-26T12:00:29.125Z"
   },
   {
    "duration": 3968,
    "start_time": "2022-01-26T12:06:39.945Z"
   },
   {
    "duration": 4714,
    "start_time": "2022-01-26T12:06:56.289Z"
   },
   {
    "duration": 4408,
    "start_time": "2022-01-26T12:07:02.495Z"
   },
   {
    "duration": 3989,
    "start_time": "2022-01-26T12:07:07.345Z"
   },
   {
    "duration": 4164,
    "start_time": "2022-01-26T12:10:15.422Z"
   },
   {
    "duration": 4375,
    "start_time": "2022-01-26T14:58:21.256Z"
   },
   {
    "duration": 4505,
    "start_time": "2022-01-26T14:58:44.956Z"
   },
   {
    "duration": 4071,
    "start_time": "2022-01-26T14:59:06.845Z"
   },
   {
    "duration": 5,
    "start_time": "2022-01-26T15:05:21.237Z"
   },
   {
    "duration": 5,
    "start_time": "2022-01-26T15:05:43.095Z"
   },
   {
    "duration": 10,
    "start_time": "2022-01-26T15:10:01.282Z"
   },
   {
    "duration": 20,
    "start_time": "2022-01-26T15:11:04.557Z"
   },
   {
    "duration": 79,
    "start_time": "2022-01-26T15:12:38.153Z"
   },
   {
    "duration": 15,
    "start_time": "2022-01-26T15:17:10.360Z"
   },
   {
    "duration": 2054,
    "start_time": "2022-01-26T15:35:49.862Z"
   },
   {
    "duration": 36,
    "start_time": "2022-01-26T15:36:00.758Z"
   },
   {
    "duration": 46,
    "start_time": "2022-01-26T15:38:58.525Z"
   },
   {
    "duration": 45,
    "start_time": "2022-01-26T15:40:05.845Z"
   },
   {
    "duration": 17,
    "start_time": "2022-01-26T15:46:36.715Z"
   },
   {
    "duration": 456,
    "start_time": "2022-01-27T11:23:02.030Z"
   },
   {
    "duration": 14,
    "start_time": "2022-01-27T11:23:45.159Z"
   },
   {
    "duration": 19,
    "start_time": "2022-01-27T11:23:55.268Z"
   },
   {
    "duration": 13,
    "start_time": "2022-01-27T11:24:08.379Z"
   },
   {
    "duration": 13,
    "start_time": "2022-01-27T11:24:23.991Z"
   },
   {
    "duration": 25,
    "start_time": "2022-01-27T11:24:39.873Z"
   },
   {
    "duration": 11,
    "start_time": "2022-01-27T11:26:37.397Z"
   },
   {
    "duration": 12,
    "start_time": "2022-01-27T11:27:27.264Z"
   },
   {
    "duration": 11,
    "start_time": "2022-01-27T11:27:38.503Z"
   },
   {
    "duration": 12,
    "start_time": "2022-01-27T11:27:52.050Z"
   },
   {
    "duration": 29,
    "start_time": "2022-01-27T12:18:05.787Z"
   },
   {
    "duration": 33,
    "start_time": "2022-01-27T12:18:31.924Z"
   },
   {
    "duration": 36,
    "start_time": "2022-01-27T12:18:55.090Z"
   },
   {
    "duration": 32,
    "start_time": "2022-01-27T12:19:13.257Z"
   },
   {
    "duration": 25,
    "start_time": "2022-01-27T12:22:20.690Z"
   },
   {
    "duration": 35,
    "start_time": "2022-01-27T12:23:35.145Z"
   },
   {
    "duration": 38,
    "start_time": "2022-01-27T12:24:09.030Z"
   },
   {
    "duration": 121,
    "start_time": "2022-01-27T12:33:21.231Z"
   },
   {
    "duration": 116,
    "start_time": "2022-01-27T12:33:39.669Z"
   },
   {
    "duration": 129,
    "start_time": "2022-01-27T12:33:50.538Z"
   },
   {
    "duration": 119,
    "start_time": "2022-01-27T12:34:01.946Z"
   },
   {
    "duration": 60,
    "start_time": "2022-01-27T12:34:30.433Z"
   },
   {
    "duration": 37,
    "start_time": "2022-01-27T12:36:00.218Z"
   },
   {
    "duration": 164,
    "start_time": "2022-01-27T12:42:22.336Z"
   },
   {
    "duration": 41,
    "start_time": "2022-01-27T12:42:46.990Z"
   },
   {
    "duration": 6628,
    "start_time": "2022-01-27T12:51:12.081Z"
   },
   {
    "duration": 6863,
    "start_time": "2022-01-27T12:51:43.717Z"
   },
   {
    "duration": 38,
    "start_time": "2022-01-27T12:51:58.950Z"
   },
   {
    "duration": 43,
    "start_time": "2022-01-27T12:53:25.263Z"
   },
   {
    "duration": 40,
    "start_time": "2022-01-27T12:54:21.729Z"
   },
   {
    "duration": 35,
    "start_time": "2022-01-27T12:55:22.976Z"
   },
   {
    "duration": 34,
    "start_time": "2022-01-27T13:17:42.560Z"
   },
   {
    "duration": 413,
    "start_time": "2022-01-27T13:21:07.584Z"
   },
   {
    "duration": 41,
    "start_time": "2022-01-27T13:21:34.305Z"
   },
   {
    "duration": 15,
    "start_time": "2022-01-27T13:21:59.197Z"
   },
   {
    "duration": 40,
    "start_time": "2022-01-27T13:22:02.589Z"
   },
   {
    "duration": 44,
    "start_time": "2022-01-27T13:22:10.796Z"
   },
   {
    "duration": 78,
    "start_time": "2022-01-28T09:54:55.895Z"
   },
   {
    "duration": 81,
    "start_time": "2022-01-28T09:55:07.041Z"
   },
   {
    "duration": 286,
    "start_time": "2022-01-28T09:55:19.771Z"
   },
   {
    "duration": 684,
    "start_time": "2022-01-28T09:55:40.072Z"
   },
   {
    "duration": 13,
    "start_time": "2022-01-28T09:55:40.758Z"
   },
   {
    "duration": 4,
    "start_time": "2022-01-28T09:55:40.773Z"
   },
   {
    "duration": 19,
    "start_time": "2022-01-28T09:55:40.779Z"
   },
   {
    "duration": 8,
    "start_time": "2022-01-28T09:55:40.800Z"
   },
   {
    "duration": 14,
    "start_time": "2022-01-28T09:55:40.810Z"
   },
   {
    "duration": 6,
    "start_time": "2022-01-28T09:55:40.825Z"
   },
   {
    "duration": 28,
    "start_time": "2022-01-28T09:55:40.833Z"
   },
   {
    "duration": 32,
    "start_time": "2022-01-28T09:55:40.862Z"
   },
   {
    "duration": 5,
    "start_time": "2022-01-28T09:55:40.895Z"
   },
   {
    "duration": 13,
    "start_time": "2022-01-28T09:55:40.902Z"
   },
   {
    "duration": 9,
    "start_time": "2022-01-28T09:55:40.917Z"
   },
   {
    "duration": 42,
    "start_time": "2022-01-28T09:55:40.927Z"
   },
   {
    "duration": 46,
    "start_time": "2022-01-28T09:55:40.971Z"
   },
   {
    "duration": 20,
    "start_time": "2022-01-28T09:55:41.019Z"
   },
   {
    "duration": 37,
    "start_time": "2022-01-28T09:55:41.041Z"
   },
   {
    "duration": 81,
    "start_time": "2022-01-28T09:55:41.080Z"
   },
   {
    "duration": 697,
    "start_time": "2022-01-28T09:55:41.163Z"
   },
   {
    "duration": 705,
    "start_time": "2022-01-28T09:55:41.862Z"
   },
   {
    "duration": 2810,
    "start_time": "2022-01-28T09:55:42.569Z"
   },
   {
    "duration": 9,
    "start_time": "2022-01-28T09:55:45.381Z"
   },
   {
    "duration": 28,
    "start_time": "2022-01-28T09:55:45.392Z"
   },
   {
    "duration": 52,
    "start_time": "2022-01-28T09:55:45.423Z"
   },
   {
    "duration": 19,
    "start_time": "2022-01-28T09:55:45.477Z"
   },
   {
    "duration": 54,
    "start_time": "2022-01-28T09:55:45.498Z"
   },
   {
    "duration": 39,
    "start_time": "2022-01-28T09:55:45.555Z"
   },
   {
    "duration": 25,
    "start_time": "2022-01-28T09:55:45.605Z"
   },
   {
    "duration": 13,
    "start_time": "2022-01-28T09:56:01.398Z"
   },
   {
    "duration": 279,
    "start_time": "2022-01-28T09:56:24.976Z"
   },
   {
    "duration": 11,
    "start_time": "2022-01-28T09:56:30.297Z"
   },
   {
    "duration": 11,
    "start_time": "2022-01-28T09:58:12.768Z"
   },
   {
    "duration": 15,
    "start_time": "2022-01-28T10:12:57.097Z"
   },
   {
    "duration": 249,
    "start_time": "2022-01-28T10:14:55.496Z"
   },
   {
    "duration": 677,
    "start_time": "2022-01-28T10:15:11.226Z"
   },
   {
    "duration": 452,
    "start_time": "2022-01-28T10:17:20.045Z"
   },
   {
    "duration": 424,
    "start_time": "2022-01-28T10:18:14.271Z"
   },
   {
    "duration": 437,
    "start_time": "2022-01-28T10:18:30.688Z"
   },
   {
    "duration": 420,
    "start_time": "2022-01-28T10:22:28.857Z"
   },
   {
    "duration": 250,
    "start_time": "2022-01-28T10:29:05.852Z"
   },
   {
    "duration": 489,
    "start_time": "2022-01-28T10:29:14.164Z"
   },
   {
    "duration": 427,
    "start_time": "2022-01-28T10:29:24.012Z"
   },
   {
    "duration": 464,
    "start_time": "2022-01-28T10:32:09.527Z"
   },
   {
    "duration": 413,
    "start_time": "2022-01-28T10:32:18.417Z"
   },
   {
    "duration": 419,
    "start_time": "2022-01-28T10:34:34.522Z"
   },
   {
    "duration": 411,
    "start_time": "2022-01-28T10:34:42.987Z"
   },
   {
    "duration": 179,
    "start_time": "2022-01-28T10:35:36.846Z"
   },
   {
    "duration": 14,
    "start_time": "2022-01-28T10:35:55.224Z"
   },
   {
    "duration": 172,
    "start_time": "2022-01-28T10:36:02.719Z"
   },
   {
    "duration": 10,
    "start_time": "2022-01-28T10:39:12.723Z"
   },
   {
    "duration": 10,
    "start_time": "2022-01-28T10:40:29.081Z"
   },
   {
    "duration": 264,
    "start_time": "2022-01-28T10:41:32.966Z"
   },
   {
    "duration": 20,
    "start_time": "2022-01-28T10:42:14.422Z"
   },
   {
    "duration": 15,
    "start_time": "2022-01-28T10:43:49.533Z"
   },
   {
    "duration": 1013,
    "start_time": "2022-01-28T10:44:19.991Z"
   },
   {
    "duration": 16,
    "start_time": "2022-01-28T10:44:31.513Z"
   },
   {
    "duration": 28,
    "start_time": "2022-01-28T10:44:56.258Z"
   },
   {
    "duration": 21,
    "start_time": "2022-01-28T12:23:04.777Z"
   },
   {
    "duration": 19,
    "start_time": "2022-01-28T12:27:55.549Z"
   },
   {
    "duration": 19,
    "start_time": "2022-01-28T12:28:24.958Z"
   },
   {
    "duration": 13,
    "start_time": "2022-01-28T12:35:05.690Z"
   },
   {
    "duration": 15,
    "start_time": "2022-01-28T12:35:21.946Z"
   },
   {
    "duration": 15,
    "start_time": "2022-01-28T12:36:47.624Z"
   },
   {
    "duration": 15,
    "start_time": "2022-01-28T12:37:43.691Z"
   },
   {
    "duration": 16,
    "start_time": "2022-01-28T12:37:50.597Z"
   },
   {
    "duration": 12,
    "start_time": "2022-01-28T12:37:55.267Z"
   },
   {
    "duration": 28,
    "start_time": "2022-01-28T12:41:07.530Z"
   },
   {
    "duration": 7824,
    "start_time": "2022-01-28T12:46:47.534Z"
   },
   {
    "duration": 7085,
    "start_time": "2022-01-28T12:46:58.848Z"
   },
   {
    "duration": 28,
    "start_time": "2022-01-28T12:47:20.602Z"
   },
   {
    "duration": 29,
    "start_time": "2022-01-28T12:49:15.296Z"
   },
   {
    "duration": 270,
    "start_time": "2022-01-28T12:53:19.407Z"
   },
   {
    "duration": 276,
    "start_time": "2022-01-28T12:53:49.012Z"
   },
   {
    "duration": 47,
    "start_time": "2022-01-28T12:54:01.644Z"
   },
   {
    "duration": 88,
    "start_time": "2022-01-28T12:55:03.026Z"
   },
   {
    "duration": 86,
    "start_time": "2022-01-28T12:55:41.805Z"
   },
   {
    "duration": 43,
    "start_time": "2022-01-28T12:55:46.979Z"
   },
   {
    "duration": 44,
    "start_time": "2022-01-28T12:56:11.550Z"
   },
   {
    "duration": 43,
    "start_time": "2022-01-28T12:57:52.732Z"
   },
   {
    "duration": 48,
    "start_time": "2022-01-28T12:58:18.278Z"
   },
   {
    "duration": 50,
    "start_time": "2022-01-28T12:58:42.585Z"
   },
   {
    "duration": 46,
    "start_time": "2022-01-28T13:00:13.231Z"
   },
   {
    "duration": 46,
    "start_time": "2022-01-28T13:00:22.383Z"
   },
   {
    "duration": 47,
    "start_time": "2022-01-28T13:01:11.283Z"
   },
   {
    "duration": 47,
    "start_time": "2022-01-28T13:01:41.333Z"
   },
   {
    "duration": 46,
    "start_time": "2022-01-28T13:02:00.528Z"
   },
   {
    "duration": 38,
    "start_time": "2022-01-28T13:06:26.271Z"
   },
   {
    "duration": 39,
    "start_time": "2022-01-28T13:06:53.928Z"
   },
   {
    "duration": 27,
    "start_time": "2022-01-28T13:07:16.616Z"
   },
   {
    "duration": 46,
    "start_time": "2022-01-28T13:08:19.639Z"
   },
   {
    "duration": 45,
    "start_time": "2022-01-28T13:08:37.490Z"
   },
   {
    "duration": 25,
    "start_time": "2022-01-28T13:09:40.082Z"
   },
   {
    "duration": 345,
    "start_time": "2022-01-28T18:35:26.881Z"
   },
   {
    "duration": 1148,
    "start_time": "2022-01-28T18:35:39.195Z"
   },
   {
    "duration": 5,
    "start_time": "2022-01-28T18:35:40.346Z"
   },
   {
    "duration": 21,
    "start_time": "2022-01-28T18:35:40.354Z"
   },
   {
    "duration": 18,
    "start_time": "2022-01-28T18:35:40.377Z"
   },
   {
    "duration": 6,
    "start_time": "2022-01-28T18:35:40.397Z"
   },
   {
    "duration": 70,
    "start_time": "2022-01-28T18:35:40.405Z"
   },
   {
    "duration": 11,
    "start_time": "2022-01-28T18:35:40.477Z"
   },
   {
    "duration": 19,
    "start_time": "2022-01-28T18:35:40.492Z"
   },
   {
    "duration": 42,
    "start_time": "2022-01-28T18:35:40.514Z"
   },
   {
    "duration": 5,
    "start_time": "2022-01-28T18:35:40.559Z"
   },
   {
    "duration": 51,
    "start_time": "2022-01-28T18:35:40.567Z"
   },
   {
    "duration": 32,
    "start_time": "2022-01-28T18:35:40.620Z"
   },
   {
    "duration": 23,
    "start_time": "2022-01-28T18:35:40.655Z"
   },
   {
    "duration": 16,
    "start_time": "2022-01-28T18:35:40.680Z"
   },
   {
    "duration": 59,
    "start_time": "2022-01-28T18:35:40.698Z"
   },
   {
    "duration": 89,
    "start_time": "2022-01-28T18:35:40.760Z"
   },
   {
    "duration": 9,
    "start_time": "2022-01-28T18:35:40.853Z"
   },
   {
    "duration": 19,
    "start_time": "2022-01-28T18:35:40.865Z"
   },
   {
    "duration": 97,
    "start_time": "2022-01-28T18:35:40.886Z"
   },
   {
    "duration": 897,
    "start_time": "2022-01-28T18:35:40.985Z"
   },
   {
    "duration": 925,
    "start_time": "2022-01-28T18:35:41.885Z"
   },
   {
    "duration": 4049,
    "start_time": "2022-01-28T18:35:42.813Z"
   },
   {
    "duration": 14,
    "start_time": "2022-01-28T18:35:46.866Z"
   },
   {
    "duration": 13,
    "start_time": "2022-01-28T18:35:46.883Z"
   },
   {
    "duration": 83,
    "start_time": "2022-01-28T18:35:46.899Z"
   },
   {
    "duration": 18,
    "start_time": "2022-01-28T18:35:46.985Z"
   },
   {
    "duration": 66,
    "start_time": "2022-01-28T18:35:47.006Z"
   },
   {
    "duration": 45,
    "start_time": "2022-01-28T18:35:47.074Z"
   },
   {
    "duration": 839,
    "start_time": "2022-01-28T18:35:47.121Z"
   },
   {
    "duration": 45,
    "start_time": "2022-01-28T18:35:47.963Z"
   },
   {
    "duration": 8,
    "start_time": "2022-01-28T18:36:57.256Z"
   },
   {
    "duration": 6,
    "start_time": "2022-01-28T18:37:24.009Z"
   },
   {
    "duration": 57,
    "start_time": "2022-01-28T18:39:28.056Z"
   },
   {
    "duration": 14,
    "start_time": "2022-01-28T18:40:03.358Z"
   },
   {
    "duration": 7,
    "start_time": "2022-01-28T18:40:39.037Z"
   },
   {
    "duration": 6,
    "start_time": "2022-01-28T18:40:48.075Z"
   },
   {
    "duration": 8,
    "start_time": "2022-01-28T18:41:30.176Z"
   },
   {
    "duration": 6,
    "start_time": "2022-01-28T18:42:05.091Z"
   },
   {
    "duration": 8,
    "start_time": "2022-01-28T18:42:48.019Z"
   },
   {
    "duration": 7,
    "start_time": "2022-01-28T18:43:35.524Z"
   },
   {
    "duration": 7,
    "start_time": "2022-01-28T18:44:04.781Z"
   },
   {
    "duration": 7,
    "start_time": "2022-01-28T18:44:38.697Z"
   },
   {
    "duration": 9,
    "start_time": "2022-01-28T18:45:06.999Z"
   },
   {
    "duration": 9,
    "start_time": "2022-01-28T18:45:44.931Z"
   },
   {
    "duration": 123,
    "start_time": "2022-01-28T18:57:12.860Z"
   },
   {
    "duration": 607,
    "start_time": "2022-01-29T09:10:45.921Z"
   },
   {
    "duration": 879,
    "start_time": "2022-01-29T09:10:51.201Z"
   },
   {
    "duration": 6,
    "start_time": "2022-01-29T09:10:53.887Z"
   },
   {
    "duration": 5,
    "start_time": "2022-01-29T09:11:19.296Z"
   },
   {
    "duration": 6,
    "start_time": "2022-01-29T09:11:43.630Z"
   },
   {
    "duration": 6,
    "start_time": "2022-01-29T09:12:12.813Z"
   },
   {
    "duration": 7,
    "start_time": "2022-01-29T09:12:37.262Z"
   },
   {
    "duration": 6,
    "start_time": "2022-01-29T09:12:57.093Z"
   },
   {
    "duration": 9,
    "start_time": "2022-01-29T09:13:18.653Z"
   },
   {
    "duration": 6,
    "start_time": "2022-01-29T09:13:39.399Z"
   },
   {
    "duration": 6,
    "start_time": "2022-01-29T09:13:59.883Z"
   },
   {
    "duration": 7,
    "start_time": "2022-01-29T09:14:22.689Z"
   },
   {
    "duration": 13,
    "start_time": "2022-01-29T09:16:31.120Z"
   },
   {
    "duration": 9,
    "start_time": "2022-01-29T09:47:08.618Z"
   },
   {
    "duration": 6,
    "start_time": "2022-01-29T09:47:29.269Z"
   },
   {
    "duration": 9,
    "start_time": "2022-01-29T09:53:45.127Z"
   },
   {
    "duration": 7,
    "start_time": "2022-01-29T09:53:52.085Z"
   },
   {
    "duration": 18,
    "start_time": "2022-01-29T09:57:58.372Z"
   },
   {
    "duration": 8,
    "start_time": "2022-01-29T09:58:06.669Z"
   },
   {
    "duration": 411,
    "start_time": "2022-01-29T10:02:35.717Z"
   },
   {
    "duration": 16,
    "start_time": "2022-01-29T10:03:14.606Z"
   },
   {
    "duration": 109,
    "start_time": "2022-01-29T10:17:10.814Z"
   },
   {
    "duration": 15,
    "start_time": "2022-01-29T10:23:48.903Z"
   },
   {
    "duration": 88,
    "start_time": "2022-01-29T10:24:20.951Z"
   },
   {
    "duration": 6,
    "start_time": "2022-01-29T10:24:26.173Z"
   },
   {
    "duration": 6,
    "start_time": "2022-01-29T10:24:28.416Z"
   },
   {
    "duration": 6,
    "start_time": "2022-01-29T10:24:30.582Z"
   },
   {
    "duration": 18,
    "start_time": "2022-01-29T10:24:36.703Z"
   },
   {
    "duration": 15,
    "start_time": "2022-01-29T10:24:39.218Z"
   },
   {
    "duration": 12,
    "start_time": "2022-01-29T10:37:13.739Z"
   },
   {
    "duration": 9,
    "start_time": "2022-01-29T10:40:49.657Z"
   },
   {
    "duration": 9,
    "start_time": "2022-01-29T10:41:37.920Z"
   },
   {
    "duration": 61,
    "start_time": "2022-01-29T10:52:35.027Z"
   },
   {
    "duration": 635,
    "start_time": "2022-01-29T10:53:39.538Z"
   },
   {
    "duration": 119,
    "start_time": "2022-01-29T10:53:59.271Z"
   },
   {
    "duration": 138,
    "start_time": "2022-01-29T10:54:28.607Z"
   },
   {
    "duration": 603,
    "start_time": "2022-01-29T10:56:40.694Z"
   },
   {
    "duration": 962,
    "start_time": "2022-01-29T10:57:00.582Z"
   },
   {
    "duration": 428,
    "start_time": "2022-01-29T10:57:10.215Z"
   },
   {
    "duration": 457,
    "start_time": "2022-01-29T10:58:29.228Z"
   },
   {
    "duration": 10156,
    "start_time": "2022-01-29T10:58:49.460Z"
   },
   {
    "duration": 1786,
    "start_time": "2022-01-29T10:59:03.117Z"
   },
   {
    "duration": 7,
    "start_time": "2022-01-29T10:59:04.907Z"
   },
   {
    "duration": 6,
    "start_time": "2022-01-29T10:59:04.918Z"
   },
   {
    "duration": 36,
    "start_time": "2022-01-29T10:59:04.928Z"
   },
   {
    "duration": 7,
    "start_time": "2022-01-29T10:59:04.969Z"
   },
   {
    "duration": 9,
    "start_time": "2022-01-29T10:59:04.978Z"
   },
   {
    "duration": 7,
    "start_time": "2022-01-29T10:59:04.990Z"
   },
   {
    "duration": 59,
    "start_time": "2022-01-29T10:59:05.000Z"
   },
   {
    "duration": 8,
    "start_time": "2022-01-29T10:59:05.065Z"
   },
   {
    "duration": 6,
    "start_time": "2022-01-29T10:59:05.077Z"
   },
   {
    "duration": 8,
    "start_time": "2022-01-29T10:59:05.085Z"
   },
   {
    "duration": 10,
    "start_time": "2022-01-29T10:59:05.096Z"
   },
   {
    "duration": 62,
    "start_time": "2022-01-29T10:59:05.108Z"
   },
   {
    "duration": 26,
    "start_time": "2022-01-29T10:59:05.173Z"
   },
   {
    "duration": 14,
    "start_time": "2022-01-29T10:59:05.202Z"
   },
   {
    "duration": 50,
    "start_time": "2022-01-29T10:59:05.218Z"
   },
   {
    "duration": 24,
    "start_time": "2022-01-29T10:59:05.271Z"
   },
   {
    "duration": 9,
    "start_time": "2022-01-29T10:59:05.297Z"
   },
   {
    "duration": 100,
    "start_time": "2022-01-29T10:59:05.309Z"
   },
   {
    "duration": 417,
    "start_time": "2022-01-29T10:59:05.412Z"
   },
   {
    "duration": -214,
    "start_time": "2022-01-29T10:59:06.046Z"
   },
   {
    "duration": -216,
    "start_time": "2022-01-29T10:59:06.049Z"
   },
   {
    "duration": -219,
    "start_time": "2022-01-29T10:59:06.053Z"
   },
   {
    "duration": -226,
    "start_time": "2022-01-29T10:59:06.062Z"
   },
   {
    "duration": -247,
    "start_time": "2022-01-29T10:59:06.084Z"
   },
   {
    "duration": -254,
    "start_time": "2022-01-29T10:59:06.092Z"
   },
   {
    "duration": -256,
    "start_time": "2022-01-29T10:59:06.096Z"
   },
   {
    "duration": -260,
    "start_time": "2022-01-29T10:59:06.101Z"
   },
   {
    "duration": -262,
    "start_time": "2022-01-29T10:59:06.105Z"
   },
   {
    "duration": -283,
    "start_time": "2022-01-29T10:59:06.127Z"
   },
   {
    "duration": -286,
    "start_time": "2022-01-29T10:59:06.131Z"
   },
   {
    "duration": -289,
    "start_time": "2022-01-29T10:59:06.135Z"
   },
   {
    "duration": -294,
    "start_time": "2022-01-29T10:59:06.141Z"
   },
   {
    "duration": -313,
    "start_time": "2022-01-29T10:59:06.161Z"
   },
   {
    "duration": -331,
    "start_time": "2022-01-29T10:59:06.180Z"
   },
   {
    "duration": -334,
    "start_time": "2022-01-29T10:59:06.185Z"
   },
   {
    "duration": -339,
    "start_time": "2022-01-29T10:59:06.191Z"
   },
   {
    "duration": -358,
    "start_time": "2022-01-29T10:59:06.211Z"
   },
   {
    "duration": 372,
    "start_time": "2022-01-29T10:59:40.167Z"
   },
   {
    "duration": 89,
    "start_time": "2022-01-29T10:59:47.917Z"
   },
   {
    "duration": 5,
    "start_time": "2022-01-29T10:59:48.009Z"
   },
   {
    "duration": 44,
    "start_time": "2022-01-29T10:59:48.017Z"
   },
   {
    "duration": 6,
    "start_time": "2022-01-29T10:59:48.064Z"
   },
   {
    "duration": 7,
    "start_time": "2022-01-29T10:59:48.072Z"
   },
   {
    "duration": 8,
    "start_time": "2022-01-29T10:59:48.081Z"
   },
   {
    "duration": 6,
    "start_time": "2022-01-29T10:59:48.091Z"
   },
   {
    "duration": 15,
    "start_time": "2022-01-29T10:59:48.100Z"
   },
   {
    "duration": 7,
    "start_time": "2022-01-29T10:59:48.161Z"
   },
   {
    "duration": 8,
    "start_time": "2022-01-29T10:59:48.170Z"
   },
   {
    "duration": 9,
    "start_time": "2022-01-29T10:59:48.180Z"
   },
   {
    "duration": 7,
    "start_time": "2022-01-29T10:59:48.192Z"
   },
   {
    "duration": 70,
    "start_time": "2022-01-29T10:59:48.202Z"
   },
   {
    "duration": 15,
    "start_time": "2022-01-29T10:59:48.274Z"
   },
   {
    "duration": 14,
    "start_time": "2022-01-29T10:59:48.292Z"
   },
   {
    "duration": 56,
    "start_time": "2022-01-29T10:59:48.308Z"
   },
   {
    "duration": 20,
    "start_time": "2022-01-29T10:59:48.367Z"
   },
   {
    "duration": 9,
    "start_time": "2022-01-29T10:59:48.389Z"
   },
   {
    "duration": 100,
    "start_time": "2022-01-29T10:59:48.400Z"
   },
   {
    "duration": 371,
    "start_time": "2022-01-29T10:59:48.503Z"
   },
   {
    "duration": -102,
    "start_time": "2022-01-29T10:59:48.980Z"
   },
   {
    "duration": -106,
    "start_time": "2022-01-29T10:59:48.985Z"
   },
   {
    "duration": -110,
    "start_time": "2022-01-29T10:59:48.990Z"
   },
   {
    "duration": -116,
    "start_time": "2022-01-29T10:59:48.997Z"
   },
   {
    "duration": -117,
    "start_time": "2022-01-29T10:59:49.000Z"
   },
   {
    "duration": -120,
    "start_time": "2022-01-29T10:59:49.004Z"
   },
   {
    "duration": -123,
    "start_time": "2022-01-29T10:59:49.009Z"
   },
   {
    "duration": -126,
    "start_time": "2022-01-29T10:59:49.013Z"
   },
   {
    "duration": -129,
    "start_time": "2022-01-29T10:59:49.017Z"
   },
   {
    "duration": -131,
    "start_time": "2022-01-29T10:59:49.021Z"
   },
   {
    "duration": -134,
    "start_time": "2022-01-29T10:59:49.025Z"
   },
   {
    "duration": -137,
    "start_time": "2022-01-29T10:59:49.030Z"
   },
   {
    "duration": -139,
    "start_time": "2022-01-29T10:59:49.033Z"
   },
   {
    "duration": -143,
    "start_time": "2022-01-29T10:59:49.038Z"
   },
   {
    "duration": -145,
    "start_time": "2022-01-29T10:59:49.042Z"
   },
   {
    "duration": -149,
    "start_time": "2022-01-29T10:59:49.047Z"
   },
   {
    "duration": -152,
    "start_time": "2022-01-29T10:59:49.051Z"
   },
   {
    "duration": -155,
    "start_time": "2022-01-29T10:59:49.055Z"
   },
   {
    "duration": 9842,
    "start_time": "2022-01-29T11:04:16.025Z"
   },
   {
    "duration": 9,
    "start_time": "2022-01-29T11:04:33.878Z"
   },
   {
    "duration": 8,
    "start_time": "2022-01-29T11:08:53.902Z"
   },
   {
    "duration": 385,
    "start_time": "2022-01-29T11:10:28.512Z"
   },
   {
    "duration": 16,
    "start_time": "2022-01-29T11:10:37.430Z"
   },
   {
    "duration": 935,
    "start_time": "2022-01-30T11:19:53.699Z"
   },
   {
    "duration": 6,
    "start_time": "2022-01-30T11:19:54.636Z"
   },
   {
    "duration": 26,
    "start_time": "2022-01-30T11:19:54.645Z"
   },
   {
    "duration": 18,
    "start_time": "2022-01-30T11:19:54.678Z"
   },
   {
    "duration": 9,
    "start_time": "2022-01-30T11:19:54.698Z"
   },
   {
    "duration": 13,
    "start_time": "2022-01-30T11:19:54.710Z"
   },
   {
    "duration": 8,
    "start_time": "2022-01-30T11:19:54.726Z"
   },
   {
    "duration": 43,
    "start_time": "2022-01-30T11:19:54.738Z"
   },
   {
    "duration": 9,
    "start_time": "2022-01-30T11:19:54.786Z"
   },
   {
    "duration": 8,
    "start_time": "2022-01-30T11:19:54.798Z"
   },
   {
    "duration": 13,
    "start_time": "2022-01-30T11:19:54.809Z"
   },
   {
    "duration": 49,
    "start_time": "2022-01-30T11:19:54.825Z"
   },
   {
    "duration": 19,
    "start_time": "2022-01-30T11:19:54.877Z"
   },
   {
    "duration": 37,
    "start_time": "2022-01-30T11:19:54.898Z"
   },
   {
    "duration": 50,
    "start_time": "2022-01-30T11:19:54.939Z"
   },
   {
    "duration": 14,
    "start_time": "2022-01-30T11:19:54.992Z"
   },
   {
    "duration": 24,
    "start_time": "2022-01-30T11:19:55.009Z"
   },
   {
    "duration": 11,
    "start_time": "2022-01-30T11:19:55.068Z"
   },
   {
    "duration": 95,
    "start_time": "2022-01-30T11:19:55.082Z"
   },
   {
    "duration": 13,
    "start_time": "2022-01-30T11:19:55.181Z"
   },
   {
    "duration": 12,
    "start_time": "2022-01-30T11:19:55.199Z"
   },
   {
    "duration": 66,
    "start_time": "2022-01-30T11:19:55.215Z"
   },
   {
    "duration": 473,
    "start_time": "2022-01-30T11:19:55.290Z"
   },
   {
    "duration": -155,
    "start_time": "2022-01-30T11:19:55.921Z"
   },
   {
    "duration": -167,
    "start_time": "2022-01-30T11:19:55.935Z"
   },
   {
    "duration": -171,
    "start_time": "2022-01-30T11:19:55.941Z"
   },
   {
    "duration": -175,
    "start_time": "2022-01-30T11:19:55.946Z"
   },
   {
    "duration": -178,
    "start_time": "2022-01-30T11:19:55.951Z"
   },
   {
    "duration": -181,
    "start_time": "2022-01-30T11:19:55.955Z"
   },
   {
    "duration": -184,
    "start_time": "2022-01-30T11:19:55.960Z"
   },
   {
    "duration": -187,
    "start_time": "2022-01-30T11:19:55.965Z"
   },
   {
    "duration": -190,
    "start_time": "2022-01-30T11:19:55.969Z"
   },
   {
    "duration": -193,
    "start_time": "2022-01-30T11:19:55.974Z"
   },
   {
    "duration": -195,
    "start_time": "2022-01-30T11:19:55.978Z"
   },
   {
    "duration": -199,
    "start_time": "2022-01-30T11:19:55.983Z"
   },
   {
    "duration": 15,
    "start_time": "2022-01-30T11:31:37.155Z"
   },
   {
    "duration": 12,
    "start_time": "2022-01-30T11:32:03.150Z"
   },
   {
    "duration": 100,
    "start_time": "2022-01-30T11:32:12.237Z"
   },
   {
    "duration": 19,
    "start_time": "2022-01-30T11:32:26.100Z"
   },
   {
    "duration": 18,
    "start_time": "2022-01-30T11:32:29.709Z"
   },
   {
    "duration": 15,
    "start_time": "2022-01-30T11:32:33.228Z"
   },
   {
    "duration": 14,
    "start_time": "2022-01-30T11:32:38.157Z"
   },
   {
    "duration": 40,
    "start_time": "2022-01-30T11:32:41.461Z"
   },
   {
    "duration": 9,
    "start_time": "2022-01-30T11:32:45.620Z"
   },
   {
    "duration": 65,
    "start_time": "2022-01-30T11:32:49.542Z"
   },
   {
    "duration": 8,
    "start_time": "2022-01-30T11:32:54.108Z"
   },
   {
    "duration": 8,
    "start_time": "2022-01-30T11:32:57.148Z"
   },
   {
    "duration": 280,
    "start_time": "2022-01-30T12:08:30.159Z"
   },
   {
    "duration": 24,
    "start_time": "2022-01-30T12:08:36.333Z"
   },
   {
    "duration": 65,
    "start_time": "2022-01-30T12:09:38.499Z"
   },
   {
    "duration": 73,
    "start_time": "2022-01-30T12:09:58.346Z"
   },
   {
    "duration": 23,
    "start_time": "2022-01-30T12:10:05.009Z"
   },
   {
    "duration": 90,
    "start_time": "2022-01-30T12:11:38.998Z"
   },
   {
    "duration": 125,
    "start_time": "2022-01-30T12:11:39.093Z"
   },
   {
    "duration": 173,
    "start_time": "2022-01-30T12:11:39.223Z"
   },
   {
    "duration": 292,
    "start_time": "2022-01-30T12:11:39.399Z"
   },
   {
    "duration": 57,
    "start_time": "2022-01-30T12:11:39.693Z"
   },
   {
    "duration": 102,
    "start_time": "2022-01-30T12:11:39.753Z"
   },
   {
    "duration": 6,
    "start_time": "2022-01-30T12:12:09.101Z"
   },
   {
    "duration": 110,
    "start_time": "2022-01-30T12:12:09.110Z"
   },
   {
    "duration": 102,
    "start_time": "2022-01-30T12:12:09.223Z"
   },
   {
    "duration": 11,
    "start_time": "2022-01-30T12:12:09.327Z"
   },
   {
    "duration": 8,
    "start_time": "2022-01-30T12:12:09.341Z"
   },
   {
    "duration": 7,
    "start_time": "2022-01-30T12:12:09.351Z"
   },
   {
    "duration": 28,
    "start_time": "2022-01-30T12:12:09.360Z"
   },
   {
    "duration": 25,
    "start_time": "2022-01-30T12:12:09.392Z"
   },
   {
    "duration": 19,
    "start_time": "2022-01-30T12:12:09.424Z"
   },
   {
    "duration": 41,
    "start_time": "2022-01-30T12:12:09.446Z"
   },
   {
    "duration": 24,
    "start_time": "2022-01-30T12:12:09.489Z"
   },
   {
    "duration": 11,
    "start_time": "2022-01-30T12:12:09.515Z"
   },
   {
    "duration": 113,
    "start_time": "2022-01-30T12:12:09.528Z"
   },
   {
    "duration": 36,
    "start_time": "2022-01-30T12:12:09.645Z"
   },
   {
    "duration": 12,
    "start_time": "2022-01-30T12:12:09.684Z"
   },
   {
    "duration": 17,
    "start_time": "2022-01-30T12:12:09.698Z"
   },
   {
    "duration": 376,
    "start_time": "2022-01-30T12:12:09.738Z"
   },
   {
    "duration": -195,
    "start_time": "2022-01-30T12:12:10.311Z"
   },
   {
    "duration": -201,
    "start_time": "2022-01-30T12:12:10.319Z"
   },
   {
    "duration": -206,
    "start_time": "2022-01-30T12:12:10.325Z"
   },
   {
    "duration": -228,
    "start_time": "2022-01-30T12:12:10.348Z"
   },
   {
    "duration": -234,
    "start_time": "2022-01-30T12:12:10.356Z"
   },
   {
    "duration": -248,
    "start_time": "2022-01-30T12:12:10.371Z"
   },
   {
    "duration": -251,
    "start_time": "2022-01-30T12:12:10.375Z"
   },
   {
    "duration": -371,
    "start_time": "2022-01-30T12:12:10.497Z"
   },
   {
    "duration": -382,
    "start_time": "2022-01-30T12:12:10.509Z"
   },
   {
    "duration": -385,
    "start_time": "2022-01-30T12:12:10.513Z"
   },
   {
    "duration": -387,
    "start_time": "2022-01-30T12:12:10.517Z"
   },
   {
    "duration": -399,
    "start_time": "2022-01-30T12:12:10.530Z"
   },
   {
    "duration": -402,
    "start_time": "2022-01-30T12:12:10.534Z"
   },
   {
    "duration": 21,
    "start_time": "2022-01-30T12:12:25.385Z"
   },
   {
    "duration": 22,
    "start_time": "2022-01-30T12:13:05.958Z"
   },
   {
    "duration": 21,
    "start_time": "2022-01-30T12:15:48.543Z"
   },
   {
    "duration": 20,
    "start_time": "2022-01-30T12:16:38.211Z"
   },
   {
    "duration": 70,
    "start_time": "2022-01-30T12:20:40.490Z"
   },
   {
    "duration": 70,
    "start_time": "2022-01-30T12:20:53.093Z"
   },
   {
    "duration": 80,
    "start_time": "2022-01-30T12:21:17.162Z"
   },
   {
    "duration": 71,
    "start_time": "2022-01-30T12:21:34.443Z"
   },
   {
    "duration": 77,
    "start_time": "2022-01-30T12:24:05.370Z"
   },
   {
    "duration": 77,
    "start_time": "2022-01-30T12:24:38.566Z"
   },
   {
    "duration": 973,
    "start_time": "2022-01-30T12:42:27.614Z"
   },
   {
    "duration": 69,
    "start_time": "2022-01-30T12:45:22.399Z"
   },
   {
    "duration": 4519,
    "start_time": "2022-01-30T12:49:21.248Z"
   },
   {
    "duration": 4368,
    "start_time": "2022-01-30T12:50:17.635Z"
   },
   {
    "duration": 34,
    "start_time": "2022-01-30T12:57:36.359Z"
   },
   {
    "duration": 46,
    "start_time": "2022-01-30T13:17:35.876Z"
   },
   {
    "duration": 256,
    "start_time": "2022-01-30T13:21:47.195Z"
   },
   {
    "duration": 523,
    "start_time": "2022-01-30T13:22:09.758Z"
   },
   {
    "duration": 6983,
    "start_time": "2022-01-30T13:22:40.983Z"
   },
   {
    "duration": 108,
    "start_time": "2022-01-30T13:23:22.063Z"
   },
   {
    "duration": 7,
    "start_time": "2022-01-30T13:23:22.175Z"
   },
   {
    "duration": 15,
    "start_time": "2022-01-30T13:23:22.187Z"
   },
   {
    "duration": 9,
    "start_time": "2022-01-30T13:23:22.207Z"
   },
   {
    "duration": 50,
    "start_time": "2022-01-30T13:23:22.219Z"
   },
   {
    "duration": 11,
    "start_time": "2022-01-30T13:23:22.273Z"
   },
   {
    "duration": 6,
    "start_time": "2022-01-30T13:23:22.287Z"
   },
   {
    "duration": 7,
    "start_time": "2022-01-30T13:23:22.297Z"
   },
   {
    "duration": 6,
    "start_time": "2022-01-30T13:23:22.308Z"
   },
   {
    "duration": 6,
    "start_time": "2022-01-30T13:23:22.369Z"
   },
   {
    "duration": 8,
    "start_time": "2022-01-30T13:23:22.378Z"
   },
   {
    "duration": 10,
    "start_time": "2022-01-30T13:23:22.389Z"
   },
   {
    "duration": 79,
    "start_time": "2022-01-30T13:23:22.402Z"
   },
   {
    "duration": 16,
    "start_time": "2022-01-30T13:23:22.484Z"
   },
   {
    "duration": 18,
    "start_time": "2022-01-30T13:23:22.503Z"
   },
   {
    "duration": 58,
    "start_time": "2022-01-30T13:23:22.523Z"
   },
   {
    "duration": 24,
    "start_time": "2022-01-30T13:23:22.584Z"
   },
   {
    "duration": 11,
    "start_time": "2022-01-30T13:23:22.611Z"
   },
   {
    "duration": 123,
    "start_time": "2022-01-30T13:23:22.625Z"
   },
   {
    "duration": 27,
    "start_time": "2022-01-30T13:23:22.751Z"
   },
   {
    "duration": 16,
    "start_time": "2022-01-30T13:23:22.781Z"
   },
   {
    "duration": 21,
    "start_time": "2022-01-30T13:23:22.800Z"
   },
   {
    "duration": 56,
    "start_time": "2022-01-30T13:23:22.828Z"
   },
   {
    "duration": 82,
    "start_time": "2022-01-30T13:23:22.888Z"
   },
   {
    "duration": 109,
    "start_time": "2022-01-30T13:23:22.973Z"
   },
   {
    "duration": 1319,
    "start_time": "2022-01-30T13:23:23.085Z"
   },
   {
    "duration": 5074,
    "start_time": "2022-01-30T13:23:24.408Z"
   },
   {
    "duration": 59,
    "start_time": "2022-01-30T13:23:29.489Z"
   },
   {
    "duration": 296,
    "start_time": "2022-01-30T13:23:29.551Z"
   },
   {
    "duration": -39,
    "start_time": "2022-01-30T13:23:29.888Z"
   },
   {
    "duration": -41,
    "start_time": "2022-01-30T13:23:29.892Z"
   },
   {
    "duration": -63,
    "start_time": "2022-01-30T13:23:29.915Z"
   },
   {
    "duration": -69,
    "start_time": "2022-01-30T13:23:29.922Z"
   },
   {
    "duration": -72,
    "start_time": "2022-01-30T13:23:29.927Z"
   },
   {
    "duration": -85,
    "start_time": "2022-01-30T13:23:29.941Z"
   },
   {
    "duration": -89,
    "start_time": "2022-01-30T13:23:29.947Z"
   },
   {
    "duration": 50,
    "start_time": "2022-01-30T13:26:04.524Z"
   },
   {
    "duration": 17,
    "start_time": "2022-01-30T13:56:26.258Z"
   },
   {
    "duration": 18,
    "start_time": "2022-01-30T13:56:37.744Z"
   },
   {
    "duration": 124,
    "start_time": "2022-01-30T13:57:52.819Z"
   },
   {
    "duration": 16,
    "start_time": "2022-01-30T13:58:08.198Z"
   },
   {
    "duration": 307,
    "start_time": "2022-01-30T13:58:08.368Z"
   },
   {
    "duration": 51,
    "start_time": "2022-01-30T13:58:14.373Z"
   },
   {
    "duration": 105,
    "start_time": "2022-01-30T14:05:12.918Z"
   },
   {
    "duration": 96,
    "start_time": "2022-01-30T14:06:26.414Z"
   },
   {
    "duration": 281,
    "start_time": "2022-01-30T14:08:06.850Z"
   },
   {
    "duration": 297,
    "start_time": "2022-01-30T14:08:38.107Z"
   },
   {
    "duration": 299,
    "start_time": "2022-01-30T14:16:02.738Z"
   },
   {
    "duration": 276,
    "start_time": "2022-01-30T14:16:43.945Z"
   },
   {
    "duration": 21,
    "start_time": "2022-01-30T14:23:19.398Z"
   },
   {
    "duration": 34,
    "start_time": "2022-01-30T14:23:43.553Z"
   },
   {
    "duration": 22,
    "start_time": "2022-01-30T14:26:42.930Z"
   },
   {
    "duration": 294,
    "start_time": "2022-01-30T14:28:34.740Z"
   },
   {
    "duration": 327,
    "start_time": "2022-01-30T14:28:44.420Z"
   },
   {
    "duration": 18,
    "start_time": "2022-01-30T14:28:48.815Z"
   },
   {
    "duration": 16,
    "start_time": "2022-01-30T14:30:34.791Z"
   },
   {
    "duration": 18,
    "start_time": "2022-01-30T14:31:15.391Z"
   },
   {
    "duration": 22,
    "start_time": "2022-01-30T14:31:24.622Z"
   },
   {
    "duration": 21,
    "start_time": "2022-01-30T14:33:57.593Z"
   },
   {
    "duration": 293,
    "start_time": "2022-01-30T14:42:31.903Z"
   },
   {
    "duration": 28,
    "start_time": "2022-01-30T14:42:43.918Z"
   },
   {
    "duration": 269,
    "start_time": "2022-01-30T14:43:18.922Z"
   },
   {
    "duration": 309,
    "start_time": "2022-01-30T14:43:29.838Z"
   },
   {
    "duration": 85,
    "start_time": "2022-01-30T14:43:43.083Z"
   },
   {
    "duration": 6,
    "start_time": "2022-01-30T14:43:43.172Z"
   },
   {
    "duration": 20,
    "start_time": "2022-01-30T14:43:43.182Z"
   },
   {
    "duration": 13,
    "start_time": "2022-01-30T14:43:43.205Z"
   },
   {
    "duration": 8,
    "start_time": "2022-01-30T14:43:43.220Z"
   },
   {
    "duration": 11,
    "start_time": "2022-01-30T14:43:43.230Z"
   },
   {
    "duration": 6,
    "start_time": "2022-01-30T14:43:43.273Z"
   },
   {
    "duration": 10,
    "start_time": "2022-01-30T14:43:43.286Z"
   },
   {
    "duration": 21,
    "start_time": "2022-01-30T14:43:43.299Z"
   },
   {
    "duration": 15,
    "start_time": "2022-01-30T14:43:43.322Z"
   },
   {
    "duration": 39,
    "start_time": "2022-01-30T14:43:43.339Z"
   },
   {
    "duration": 8,
    "start_time": "2022-01-30T14:43:43.381Z"
   },
   {
    "duration": 17,
    "start_time": "2022-01-30T14:43:43.391Z"
   },
   {
    "duration": 24,
    "start_time": "2022-01-30T14:43:43.410Z"
   },
   {
    "duration": 34,
    "start_time": "2022-01-30T14:43:43.436Z"
   },
   {
    "duration": 14,
    "start_time": "2022-01-30T14:43:43.478Z"
   },
   {
    "duration": 21,
    "start_time": "2022-01-30T14:43:43.495Z"
   },
   {
    "duration": 9,
    "start_time": "2022-01-30T14:43:43.518Z"
   },
   {
    "duration": 99,
    "start_time": "2022-01-30T14:43:43.529Z"
   },
   {
    "duration": 8,
    "start_time": "2022-01-30T14:43:43.630Z"
   },
   {
    "duration": 30,
    "start_time": "2022-01-30T14:43:43.640Z"
   },
   {
    "duration": 21,
    "start_time": "2022-01-30T14:43:43.672Z"
   },
   {
    "duration": 20,
    "start_time": "2022-01-30T14:43:43.698Z"
   },
   {
    "duration": 90,
    "start_time": "2022-01-30T14:43:43.720Z"
   },
   {
    "duration": 89,
    "start_time": "2022-01-30T14:43:43.813Z"
   },
   {
    "duration": 1050,
    "start_time": "2022-01-30T14:43:43.904Z"
   },
   {
    "duration": 4316,
    "start_time": "2022-01-30T14:43:44.957Z"
   },
   {
    "duration": 44,
    "start_time": "2022-01-30T14:43:49.276Z"
   },
   {
    "duration": 72,
    "start_time": "2022-01-30T14:43:49.322Z"
   },
   {
    "duration": 19,
    "start_time": "2022-01-30T14:43:49.397Z"
   },
   {
    "duration": 20,
    "start_time": "2022-01-30T14:43:49.419Z"
   },
   {
    "duration": 23,
    "start_time": "2022-01-30T14:43:49.469Z"
   },
   {
    "duration": 353,
    "start_time": "2022-01-30T14:43:49.494Z"
   },
   {
    "duration": -130,
    "start_time": "2022-01-30T14:43:49.980Z"
   },
   {
    "duration": -135,
    "start_time": "2022-01-30T14:43:49.986Z"
   },
   {
    "duration": -139,
    "start_time": "2022-01-30T14:43:49.992Z"
   },
   {
    "duration": 300,
    "start_time": "2022-01-30T14:45:09.638Z"
   },
   {
    "duration": 38,
    "start_time": "2022-01-30T14:45:19.842Z"
   },
   {
    "duration": 36,
    "start_time": "2022-01-30T14:46:06.630Z"
   },
   {
    "duration": 101,
    "start_time": "2022-01-30T14:46:24.812Z"
   },
   {
    "duration": 33,
    "start_time": "2022-01-30T14:46:35.086Z"
   },
   {
    "duration": 7494,
    "start_time": "2022-01-30T15:02:36.308Z"
   },
   {
    "duration": 7449,
    "start_time": "2022-01-30T15:03:30.115Z"
   },
   {
    "duration": 46,
    "start_time": "2022-01-30T15:03:53.698Z"
   },
   {
    "duration": 7575,
    "start_time": "2022-01-30T15:07:23.055Z"
   },
   {
    "duration": 362,
    "start_time": "2022-01-30T15:07:44.628Z"
   },
   {
    "duration": 41,
    "start_time": "2022-01-30T15:08:02.484Z"
   },
   {
    "duration": 38,
    "start_time": "2022-01-30T15:08:45.429Z"
   },
   {
    "duration": 52,
    "start_time": "2022-01-30T15:10:32.346Z"
   },
   {
    "duration": 354,
    "start_time": "2022-01-30T16:12:50.344Z"
   },
   {
    "duration": 70,
    "start_time": "2022-01-30T16:13:01.323Z"
   },
   {
    "duration": 76,
    "start_time": "2022-01-30T16:18:01.457Z"
   },
   {
    "duration": 48,
    "start_time": "2022-01-30T16:43:43.016Z"
   },
   {
    "duration": 1375,
    "start_time": "2022-01-30T16:47:05.023Z"
   },
   {
    "duration": 250,
    "start_time": "2022-01-30T16:47:23.313Z"
   },
   {
    "duration": 79,
    "start_time": "2022-01-30T16:47:49.213Z"
   },
   {
    "duration": 285,
    "start_time": "2022-01-30T16:48:02.590Z"
   },
   {
    "duration": 325,
    "start_time": "2022-01-30T16:48:29.684Z"
   },
   {
    "duration": 43,
    "start_time": "2022-01-30T16:48:49.446Z"
   },
   {
    "duration": 42,
    "start_time": "2022-01-30T16:49:14.276Z"
   },
   {
    "duration": 38,
    "start_time": "2022-01-30T16:49:37.444Z"
   },
   {
    "duration": 43,
    "start_time": "2022-01-30T16:49:47.711Z"
   },
   {
    "duration": 47,
    "start_time": "2022-01-30T16:50:03.282Z"
   },
   {
    "duration": 43,
    "start_time": "2022-01-30T16:55:06.726Z"
   },
   {
    "duration": 296,
    "start_time": "2022-01-30T16:56:10.248Z"
   },
   {
    "duration": 85,
    "start_time": "2022-01-30T16:56:21.917Z"
   },
   {
    "duration": 5,
    "start_time": "2022-01-30T16:56:22.005Z"
   },
   {
    "duration": 6,
    "start_time": "2022-01-30T16:56:22.013Z"
   },
   {
    "duration": 47,
    "start_time": "2022-01-30T16:56:22.022Z"
   },
   {
    "duration": 6,
    "start_time": "2022-01-30T16:56:22.072Z"
   },
   {
    "duration": 12,
    "start_time": "2022-01-30T16:56:22.080Z"
   },
   {
    "duration": 5,
    "start_time": "2022-01-30T16:56:22.094Z"
   },
   {
    "duration": 8,
    "start_time": "2022-01-30T16:56:22.102Z"
   },
   {
    "duration": 7,
    "start_time": "2022-01-30T16:56:22.113Z"
   },
   {
    "duration": 52,
    "start_time": "2022-01-30T16:56:22.123Z"
   },
   {
    "duration": 9,
    "start_time": "2022-01-30T16:56:22.178Z"
   },
   {
    "duration": 7,
    "start_time": "2022-01-30T16:56:22.190Z"
   },
   {
    "duration": 19,
    "start_time": "2022-01-30T16:56:22.199Z"
   },
   {
    "duration": 60,
    "start_time": "2022-01-30T16:56:22.220Z"
   },
   {
    "duration": 15,
    "start_time": "2022-01-30T16:56:22.283Z"
   },
   {
    "duration": 12,
    "start_time": "2022-01-30T16:56:22.300Z"
   },
   {
    "duration": 54,
    "start_time": "2022-01-30T16:56:22.314Z"
   },
   {
    "duration": 9,
    "start_time": "2022-01-30T16:56:22.371Z"
   },
   {
    "duration": 87,
    "start_time": "2022-01-30T16:56:22.382Z"
   },
   {
    "duration": 9,
    "start_time": "2022-01-30T16:56:22.471Z"
   },
   {
    "duration": 8,
    "start_time": "2022-01-30T16:56:22.482Z"
   },
   {
    "duration": 18,
    "start_time": "2022-01-30T16:56:22.493Z"
   },
   {
    "duration": 61,
    "start_time": "2022-01-30T16:56:22.513Z"
   },
   {
    "duration": 62,
    "start_time": "2022-01-30T16:56:22.576Z"
   },
   {
    "duration": 85,
    "start_time": "2022-01-30T16:56:22.640Z"
   },
   {
    "duration": 986,
    "start_time": "2022-01-30T16:56:22.728Z"
   },
   {
    "duration": 4054,
    "start_time": "2022-01-30T16:56:23.721Z"
   },
   {
    "duration": 45,
    "start_time": "2022-01-30T16:56:27.777Z"
   },
   {
    "duration": 73,
    "start_time": "2022-01-30T16:56:27.824Z"
   },
   {
    "duration": 20,
    "start_time": "2022-01-30T16:56:27.899Z"
   },
   {
    "duration": 21,
    "start_time": "2022-01-30T16:56:27.921Z"
   },
   {
    "duration": 20,
    "start_time": "2022-01-30T16:56:27.969Z"
   },
   {
    "duration": 48,
    "start_time": "2022-01-30T16:56:27.991Z"
   },
   {
    "duration": 70,
    "start_time": "2022-01-30T16:56:28.041Z"
   },
   {
    "duration": 96,
    "start_time": "2022-01-30T16:56:28.113Z"
   },
   {
    "duration": 274,
    "start_time": "2022-01-30T16:56:28.211Z"
   },
   {
    "duration": -47,
    "start_time": "2022-01-30T16:56:28.534Z"
   },
   {
    "duration": 87,
    "start_time": "2022-01-30T16:56:38.149Z"
   },
   {
    "duration": 29,
    "start_time": "2022-01-30T16:56:38.239Z"
   },
   {
    "duration": 6,
    "start_time": "2022-01-30T16:56:38.272Z"
   },
   {
    "duration": 13,
    "start_time": "2022-01-30T16:56:38.281Z"
   },
   {
    "duration": 5,
    "start_time": "2022-01-30T16:56:38.296Z"
   },
   {
    "duration": 10,
    "start_time": "2022-01-30T16:56:38.303Z"
   },
   {
    "duration": 53,
    "start_time": "2022-01-30T16:56:38.316Z"
   },
   {
    "duration": 6,
    "start_time": "2022-01-30T16:56:38.373Z"
   },
   {
    "duration": 7,
    "start_time": "2022-01-30T16:56:38.382Z"
   },
   {
    "duration": 6,
    "start_time": "2022-01-30T16:56:38.392Z"
   },
   {
    "duration": 10,
    "start_time": "2022-01-30T16:56:38.400Z"
   },
   {
    "duration": 61,
    "start_time": "2022-01-30T16:56:38.412Z"
   },
   {
    "duration": 22,
    "start_time": "2022-01-30T16:56:38.475Z"
   },
   {
    "duration": 15,
    "start_time": "2022-01-30T16:56:38.500Z"
   },
   {
    "duration": 18,
    "start_time": "2022-01-30T16:56:38.517Z"
   },
   {
    "duration": 42,
    "start_time": "2022-01-30T16:56:38.537Z"
   },
   {
    "duration": 18,
    "start_time": "2022-01-30T16:56:38.582Z"
   },
   {
    "duration": 9,
    "start_time": "2022-01-30T16:56:38.602Z"
   },
   {
    "duration": 97,
    "start_time": "2022-01-30T16:56:38.613Z"
   },
   {
    "duration": 8,
    "start_time": "2022-01-30T16:56:38.712Z"
   },
   {
    "duration": 19,
    "start_time": "2022-01-30T16:56:38.723Z"
   },
   {
    "duration": 35,
    "start_time": "2022-01-30T16:56:38.745Z"
   },
   {
    "duration": 21,
    "start_time": "2022-01-30T16:56:38.785Z"
   },
   {
    "duration": 94,
    "start_time": "2022-01-30T16:56:38.808Z"
   },
   {
    "duration": 86,
    "start_time": "2022-01-30T16:56:38.904Z"
   },
   {
    "duration": 1002,
    "start_time": "2022-01-30T16:56:38.992Z"
   },
   {
    "duration": 4173,
    "start_time": "2022-01-30T16:56:39.996Z"
   },
   {
    "duration": 45,
    "start_time": "2022-01-30T16:56:44.172Z"
   },
   {
    "duration": 72,
    "start_time": "2022-01-30T16:56:44.220Z"
   },
   {
    "duration": 21,
    "start_time": "2022-01-30T16:56:44.294Z"
   },
   {
    "duration": 20,
    "start_time": "2022-01-30T16:56:44.317Z"
   },
   {
    "duration": 24,
    "start_time": "2022-01-30T16:56:44.370Z"
   },
   {
    "duration": 82,
    "start_time": "2022-01-30T16:56:44.397Z"
   },
   {
    "duration": 54,
    "start_time": "2022-01-30T16:56:44.481Z"
   },
   {
    "duration": 91,
    "start_time": "2022-01-30T16:56:44.537Z"
   },
   {
    "duration": 304,
    "start_time": "2022-01-30T16:56:44.631Z"
   },
   {
    "duration": 260,
    "start_time": "2022-01-30T16:56:59.167Z"
   },
   {
    "duration": 98,
    "start_time": "2022-01-30T16:57:05.673Z"
   },
   {
    "duration": 7,
    "start_time": "2022-01-30T16:57:05.774Z"
   },
   {
    "duration": 7,
    "start_time": "2022-01-30T16:57:05.785Z"
   },
   {
    "duration": 9,
    "start_time": "2022-01-30T16:57:05.794Z"
   },
   {
    "duration": 5,
    "start_time": "2022-01-30T16:57:05.805Z"
   },
   {
    "duration": 61,
    "start_time": "2022-01-30T16:57:05.813Z"
   },
   {
    "duration": 6,
    "start_time": "2022-01-30T16:57:05.877Z"
   },
   {
    "duration": 11,
    "start_time": "2022-01-30T16:57:05.886Z"
   },
   {
    "duration": 6,
    "start_time": "2022-01-30T16:57:05.902Z"
   },
   {
    "duration": 14,
    "start_time": "2022-01-30T16:57:05.911Z"
   },
   {
    "duration": 48,
    "start_time": "2022-01-30T16:57:05.928Z"
   },
   {
    "duration": 12,
    "start_time": "2022-01-30T16:57:05.979Z"
   },
   {
    "duration": 31,
    "start_time": "2022-01-30T16:57:05.993Z"
   },
   {
    "duration": 45,
    "start_time": "2022-01-30T16:57:06.026Z"
   },
   {
    "duration": 18,
    "start_time": "2022-01-30T16:57:06.074Z"
   },
   {
    "duration": 17,
    "start_time": "2022-01-30T16:57:06.095Z"
   },
   {
    "duration": 56,
    "start_time": "2022-01-30T16:57:06.115Z"
   },
   {
    "duration": 11,
    "start_time": "2022-01-30T16:57:06.176Z"
   },
   {
    "duration": 89,
    "start_time": "2022-01-30T16:57:06.189Z"
   },
   {
    "duration": 9,
    "start_time": "2022-01-30T16:57:06.280Z"
   },
   {
    "duration": 11,
    "start_time": "2022-01-30T16:57:06.291Z"
   },
   {
    "duration": 19,
    "start_time": "2022-01-30T16:57:06.305Z"
   },
   {
    "duration": 56,
    "start_time": "2022-01-30T16:57:06.327Z"
   },
   {
    "duration": 89,
    "start_time": "2022-01-30T16:57:06.386Z"
   },
   {
    "duration": 91,
    "start_time": "2022-01-30T16:57:06.478Z"
   },
   {
    "duration": 1042,
    "start_time": "2022-01-30T16:57:06.572Z"
   },
   {
    "duration": 4063,
    "start_time": "2022-01-30T16:57:07.620Z"
   },
   {
    "duration": 45,
    "start_time": "2022-01-30T16:57:11.686Z"
   },
   {
    "duration": 75,
    "start_time": "2022-01-30T16:57:11.733Z"
   },
   {
    "duration": 20,
    "start_time": "2022-01-30T16:57:11.810Z"
   },
   {
    "duration": 45,
    "start_time": "2022-01-30T16:57:11.832Z"
   },
   {
    "duration": 22,
    "start_time": "2022-01-30T16:57:11.880Z"
   },
   {
    "duration": 84,
    "start_time": "2022-01-30T16:57:11.905Z"
   },
   {
    "duration": 46,
    "start_time": "2022-01-30T16:57:11.992Z"
   },
   {
    "duration": 94,
    "start_time": "2022-01-30T16:57:12.040Z"
   },
   {
    "duration": 257,
    "start_time": "2022-01-30T16:57:12.137Z"
   },
   {
    "duration": 93,
    "start_time": "2022-01-30T16:57:40.124Z"
   },
   {
    "duration": 6,
    "start_time": "2022-01-30T16:57:40.220Z"
   },
   {
    "duration": 42,
    "start_time": "2022-01-30T16:57:40.229Z"
   },
   {
    "duration": 30,
    "start_time": "2022-01-30T16:57:40.273Z"
   },
   {
    "duration": 10,
    "start_time": "2022-01-30T16:57:40.306Z"
   },
   {
    "duration": 22,
    "start_time": "2022-01-30T16:57:40.318Z"
   },
   {
    "duration": 6,
    "start_time": "2022-01-30T16:57:40.343Z"
   },
   {
    "duration": 8,
    "start_time": "2022-01-30T16:57:40.352Z"
   },
   {
    "duration": 7,
    "start_time": "2022-01-30T16:57:40.373Z"
   },
   {
    "duration": 21,
    "start_time": "2022-01-30T16:57:40.383Z"
   },
   {
    "duration": 26,
    "start_time": "2022-01-30T16:57:40.406Z"
   },
   {
    "duration": 10,
    "start_time": "2022-01-30T16:57:40.435Z"
   },
   {
    "duration": 34,
    "start_time": "2022-01-30T16:57:40.447Z"
   },
   {
    "duration": 14,
    "start_time": "2022-01-30T16:57:40.484Z"
   },
   {
    "duration": 15,
    "start_time": "2022-01-30T16:57:40.500Z"
   },
   {
    "duration": 13,
    "start_time": "2022-01-30T16:57:40.518Z"
   },
   {
    "duration": 54,
    "start_time": "2022-01-30T16:57:40.534Z"
   },
   {
    "duration": 11,
    "start_time": "2022-01-30T16:57:40.591Z"
   },
   {
    "duration": 99,
    "start_time": "2022-01-30T16:57:40.605Z"
   },
   {
    "duration": 8,
    "start_time": "2022-01-30T16:57:40.706Z"
   },
   {
    "duration": 24,
    "start_time": "2022-01-30T16:57:40.716Z"
   },
   {
    "duration": 31,
    "start_time": "2022-01-30T16:57:40.743Z"
   },
   {
    "duration": 21,
    "start_time": "2022-01-30T16:57:40.776Z"
   },
   {
    "duration": 86,
    "start_time": "2022-01-30T16:57:40.800Z"
   },
   {
    "duration": 90,
    "start_time": "2022-01-30T16:57:40.889Z"
   },
   {
    "duration": 1006,
    "start_time": "2022-01-30T16:57:40.981Z"
   },
   {
    "duration": 4493,
    "start_time": "2022-01-30T16:57:41.994Z"
   },
   {
    "duration": 42,
    "start_time": "2022-01-30T16:57:46.490Z"
   },
   {
    "duration": 71,
    "start_time": "2022-01-30T16:57:46.535Z"
   },
   {
    "duration": 21,
    "start_time": "2022-01-30T16:57:46.609Z"
   },
   {
    "duration": 45,
    "start_time": "2022-01-30T16:57:46.632Z"
   },
   {
    "duration": 16,
    "start_time": "2022-01-30T16:57:46.679Z"
   },
   {
    "duration": 71,
    "start_time": "2022-01-30T16:57:46.698Z"
   },
   {
    "duration": 45,
    "start_time": "2022-01-30T16:57:46.771Z"
   },
   {
    "duration": 96,
    "start_time": "2022-01-30T16:57:46.818Z"
   },
   {
    "duration": 267,
    "start_time": "2022-01-30T16:57:46.916Z"
   },
   {
    "duration": 37,
    "start_time": "2022-01-30T16:58:50.030Z"
   },
   {
    "duration": 42,
    "start_time": "2022-01-30T16:59:05.188Z"
   },
   {
    "duration": 76,
    "start_time": "2022-01-30T17:08:21.674Z"
   },
   {
    "duration": 43,
    "start_time": "2022-01-30T17:14:54.258Z"
   },
   {
    "duration": 266,
    "start_time": "2022-01-30T17:17:48.184Z"
   },
   {
    "duration": 36,
    "start_time": "2022-01-30T17:18:24.309Z"
   },
   {
    "duration": 87,
    "start_time": "2022-01-30T17:37:05.167Z"
   },
   {
    "duration": 33,
    "start_time": "2022-01-30T17:40:07.932Z"
   },
   {
    "duration": 22,
    "start_time": "2022-01-30T17:40:22.120Z"
   },
   {
    "duration": 71,
    "start_time": "2022-01-30T17:44:46.022Z"
   },
   {
    "duration": 8,
    "start_time": "2022-01-30T17:45:22.928Z"
   },
   {
    "duration": 18,
    "start_time": "2022-01-30T17:47:14.229Z"
   },
   {
    "duration": 66,
    "start_time": "2022-01-30T17:48:48.976Z"
   },
   {
    "duration": 69,
    "start_time": "2022-01-30T17:49:00.733Z"
   },
   {
    "duration": 108,
    "start_time": "2022-01-30T17:49:33.693Z"
   },
   {
    "duration": 1052,
    "start_time": "2022-01-30T17:54:51.317Z"
   },
   {
    "duration": 3971,
    "start_time": "2022-01-30T17:55:37.852Z"
   },
   {
    "duration": 23,
    "start_time": "2022-01-30T18:00:32.782Z"
   },
   {
    "duration": 330,
    "start_time": "2022-01-30T18:00:42.198Z"
   },
   {
    "duration": 123,
    "start_time": "2022-01-30T18:00:54.911Z"
   },
   {
    "duration": 6,
    "start_time": "2022-01-30T18:00:55.036Z"
   },
   {
    "duration": 28,
    "start_time": "2022-01-30T18:00:55.045Z"
   },
   {
    "duration": 9,
    "start_time": "2022-01-30T18:00:55.077Z"
   },
   {
    "duration": 11,
    "start_time": "2022-01-30T18:00:55.090Z"
   },
   {
    "duration": 8,
    "start_time": "2022-01-30T18:00:55.103Z"
   },
   {
    "duration": 9,
    "start_time": "2022-01-30T18:00:55.114Z"
   },
   {
    "duration": 47,
    "start_time": "2022-01-30T18:00:55.127Z"
   },
   {
    "duration": 7,
    "start_time": "2022-01-30T18:00:55.177Z"
   },
   {
    "duration": 6,
    "start_time": "2022-01-30T18:00:55.186Z"
   },
   {
    "duration": 10,
    "start_time": "2022-01-30T18:00:55.195Z"
   },
   {
    "duration": 8,
    "start_time": "2022-01-30T18:00:55.208Z"
   },
   {
    "duration": 67,
    "start_time": "2022-01-30T18:00:55.219Z"
   },
   {
    "duration": 19,
    "start_time": "2022-01-30T18:00:55.289Z"
   },
   {
    "duration": 14,
    "start_time": "2022-01-30T18:00:55.311Z"
   },
   {
    "duration": 49,
    "start_time": "2022-01-30T18:00:55.328Z"
   },
   {
    "duration": 22,
    "start_time": "2022-01-30T18:00:55.380Z"
   },
   {
    "duration": 9,
    "start_time": "2022-01-30T18:00:55.405Z"
   },
   {
    "duration": 103,
    "start_time": "2022-01-30T18:00:55.417Z"
   },
   {
    "duration": 11,
    "start_time": "2022-01-30T18:00:55.523Z"
   },
   {
    "duration": 7,
    "start_time": "2022-01-30T18:00:55.536Z"
   },
   {
    "duration": 18,
    "start_time": "2022-01-30T18:00:55.569Z"
   },
   {
    "duration": 20,
    "start_time": "2022-01-30T18:00:55.592Z"
   },
   {
    "duration": 102,
    "start_time": "2022-01-30T18:00:55.615Z"
   },
   {
    "duration": 79,
    "start_time": "2022-01-30T18:00:55.719Z"
   },
   {
    "duration": 1020,
    "start_time": "2022-01-30T18:00:55.800Z"
   },
   {
    "duration": 5163,
    "start_time": "2022-01-30T18:00:56.823Z"
   },
   {
    "duration": 86,
    "start_time": "2022-01-30T18:01:01.989Z"
   },
   {
    "duration": 46,
    "start_time": "2022-01-30T18:01:02.078Z"
   },
   {
    "duration": 50,
    "start_time": "2022-01-30T18:01:02.126Z"
   },
   {
    "duration": 21,
    "start_time": "2022-01-30T18:01:02.179Z"
   },
   {
    "duration": 20,
    "start_time": "2022-01-30T18:01:02.202Z"
   },
   {
    "duration": 100,
    "start_time": "2022-01-30T18:01:02.225Z"
   },
   {
    "duration": 68,
    "start_time": "2022-01-30T18:01:02.327Z"
   },
   {
    "duration": 74,
    "start_time": "2022-01-30T18:01:02.398Z"
   },
   {
    "duration": 36,
    "start_time": "2022-01-30T18:01:02.474Z"
   },
   {
    "duration": 23,
    "start_time": "2022-01-30T18:12:42.931Z"
   },
   {
    "duration": 37,
    "start_time": "2022-01-30T18:12:56.672Z"
   },
   {
    "duration": 35,
    "start_time": "2022-01-30T18:20:08.859Z"
   },
   {
    "duration": 90,
    "start_time": "2022-01-30T18:28:54.843Z"
   },
   {
    "duration": 8,
    "start_time": "2022-01-30T18:28:54.936Z"
   },
   {
    "duration": 6,
    "start_time": "2022-01-30T18:28:54.971Z"
   },
   {
    "duration": 7,
    "start_time": "2022-01-30T18:28:54.979Z"
   },
   {
    "duration": 7,
    "start_time": "2022-01-30T18:28:54.989Z"
   },
   {
    "duration": 11,
    "start_time": "2022-01-30T18:28:54.998Z"
   },
   {
    "duration": 60,
    "start_time": "2022-01-30T18:28:55.011Z"
   },
   {
    "duration": 9,
    "start_time": "2022-01-30T18:28:55.077Z"
   },
   {
    "duration": 10,
    "start_time": "2022-01-30T18:28:55.091Z"
   },
   {
    "duration": 8,
    "start_time": "2022-01-30T18:28:55.105Z"
   },
   {
    "duration": 61,
    "start_time": "2022-01-30T18:28:55.116Z"
   },
   {
    "duration": 10,
    "start_time": "2022-01-30T18:28:55.180Z"
   },
   {
    "duration": 33,
    "start_time": "2022-01-30T18:28:55.193Z"
   },
   {
    "duration": 57,
    "start_time": "2022-01-30T18:28:55.229Z"
   },
   {
    "duration": 21,
    "start_time": "2022-01-30T18:28:55.289Z"
   },
   {
    "duration": 21,
    "start_time": "2022-01-30T18:28:55.313Z"
   },
   {
    "duration": 50,
    "start_time": "2022-01-30T18:28:55.338Z"
   },
   {
    "duration": 11,
    "start_time": "2022-01-30T18:28:55.390Z"
   },
   {
    "duration": 99,
    "start_time": "2022-01-30T18:28:55.405Z"
   },
   {
    "duration": 10,
    "start_time": "2022-01-30T18:28:55.507Z"
   },
   {
    "duration": 9,
    "start_time": "2022-01-30T18:28:55.521Z"
   },
   {
    "duration": 52,
    "start_time": "2022-01-30T18:28:55.533Z"
   },
   {
    "duration": 21,
    "start_time": "2022-01-30T18:28:55.592Z"
   },
   {
    "duration": 102,
    "start_time": "2022-01-30T18:28:55.617Z"
   },
   {
    "duration": 95,
    "start_time": "2022-01-30T18:28:55.722Z"
   },
   {
    "duration": 1132,
    "start_time": "2022-01-30T18:28:55.820Z"
   },
   {
    "duration": 4493,
    "start_time": "2022-01-30T18:28:56.955Z"
   },
   {
    "duration": 60,
    "start_time": "2022-01-30T18:29:01.450Z"
   },
   {
    "duration": 90,
    "start_time": "2022-01-30T18:29:01.512Z"
   },
   {
    "duration": 29,
    "start_time": "2022-01-30T18:29:01.605Z"
   },
   {
    "duration": 54,
    "start_time": "2022-01-30T18:29:01.637Z"
   },
   {
    "duration": 26,
    "start_time": "2022-01-30T18:29:01.694Z"
   },
   {
    "duration": 83,
    "start_time": "2022-01-30T18:29:01.723Z"
   },
   {
    "duration": 82,
    "start_time": "2022-01-30T18:29:01.808Z"
   },
   {
    "duration": 78,
    "start_time": "2022-01-30T18:29:01.893Z"
   },
   {
    "duration": 50,
    "start_time": "2022-01-30T18:29:01.974Z"
   },
   {
    "duration": 62,
    "start_time": "2022-01-30T18:29:02.027Z"
   },
   {
    "duration": 34,
    "start_time": "2022-01-30T18:29:20.459Z"
   },
   {
    "duration": 1540,
    "start_time": "2022-02-08T15:40:42.012Z"
   },
   {
    "duration": 6,
    "start_time": "2022-02-08T15:40:43.554Z"
   },
   {
    "duration": 10,
    "start_time": "2022-02-08T15:40:43.564Z"
   },
   {
    "duration": 32,
    "start_time": "2022-02-08T15:40:43.577Z"
   },
   {
    "duration": 5,
    "start_time": "2022-02-08T15:40:43.611Z"
   },
   {
    "duration": 9,
    "start_time": "2022-02-08T15:40:43.619Z"
   },
   {
    "duration": 5,
    "start_time": "2022-02-08T15:40:43.630Z"
   },
   {
    "duration": 9,
    "start_time": "2022-02-08T15:40:43.637Z"
   },
   {
    "duration": 7,
    "start_time": "2022-02-08T15:40:43.651Z"
   },
   {
    "duration": 5,
    "start_time": "2022-02-08T15:40:43.661Z"
   },
   {
    "duration": 6,
    "start_time": "2022-02-08T15:40:43.708Z"
   },
   {
    "duration": 7,
    "start_time": "2022-02-08T15:40:43.716Z"
   },
   {
    "duration": 17,
    "start_time": "2022-02-08T15:40:43.726Z"
   },
   {
    "duration": 15,
    "start_time": "2022-02-08T15:40:43.745Z"
   },
   {
    "duration": 49,
    "start_time": "2022-02-08T15:40:43.762Z"
   },
   {
    "duration": 10,
    "start_time": "2022-02-08T15:40:43.813Z"
   },
   {
    "duration": 17,
    "start_time": "2022-02-08T15:40:43.825Z"
   },
   {
    "duration": 8,
    "start_time": "2022-02-08T15:40:43.843Z"
   },
   {
    "duration": 79,
    "start_time": "2022-02-08T15:40:43.853Z"
   },
   {
    "duration": 6,
    "start_time": "2022-02-08T15:40:43.934Z"
   },
   {
    "duration": 19,
    "start_time": "2022-02-08T15:40:43.943Z"
   },
   {
    "duration": 27,
    "start_time": "2022-02-08T15:40:43.964Z"
   },
   {
    "duration": 35,
    "start_time": "2022-02-08T15:40:43.993Z"
   },
   {
    "duration": 88,
    "start_time": "2022-02-08T15:40:44.031Z"
   },
   {
    "duration": 87,
    "start_time": "2022-02-08T15:40:44.122Z"
   },
   {
    "duration": 752,
    "start_time": "2022-02-08T15:40:44.211Z"
   },
   {
    "duration": 3708,
    "start_time": "2022-02-08T15:40:44.967Z"
   },
   {
    "duration": 50,
    "start_time": "2022-02-08T15:40:48.677Z"
   },
   {
    "duration": 36,
    "start_time": "2022-02-08T15:40:48.729Z"
   },
   {
    "duration": 42,
    "start_time": "2022-02-08T15:40:48.767Z"
   },
   {
    "duration": 18,
    "start_time": "2022-02-08T15:40:48.812Z"
   },
   {
    "duration": 16,
    "start_time": "2022-02-08T15:40:48.833Z"
   },
   {
    "duration": 74,
    "start_time": "2022-02-08T15:40:48.851Z"
   },
   {
    "duration": 40,
    "start_time": "2022-02-08T15:40:48.927Z"
   },
   {
    "duration": 54,
    "start_time": "2022-02-08T15:40:48.969Z"
   },
   {
    "duration": 26,
    "start_time": "2022-02-08T15:40:49.025Z"
   },
   {
    "duration": 27,
    "start_time": "2022-02-08T15:40:49.053Z"
   },
   {
    "duration": 681,
    "start_time": "2022-02-08T16:34:26.533Z"
   },
   {
    "duration": 6,
    "start_time": "2022-02-08T16:34:27.216Z"
   },
   {
    "duration": 11,
    "start_time": "2022-02-08T16:34:27.225Z"
   },
   {
    "duration": 8,
    "start_time": "2022-02-08T16:34:27.238Z"
   },
   {
    "duration": 8,
    "start_time": "2022-02-08T16:34:27.248Z"
   },
   {
    "duration": 8,
    "start_time": "2022-02-08T16:34:27.258Z"
   },
   {
    "duration": 8,
    "start_time": "2022-02-08T16:34:27.268Z"
   },
   {
    "duration": 5,
    "start_time": "2022-02-08T16:34:27.308Z"
   },
   {
    "duration": 12,
    "start_time": "2022-02-08T16:34:27.316Z"
   },
   {
    "duration": 6,
    "start_time": "2022-02-08T16:34:27.331Z"
   },
   {
    "duration": 9,
    "start_time": "2022-02-08T16:34:27.339Z"
   },
   {
    "duration": 8,
    "start_time": "2022-02-08T16:34:27.351Z"
   },
   {
    "duration": 51,
    "start_time": "2022-02-08T16:34:27.361Z"
   },
   {
    "duration": 15,
    "start_time": "2022-02-08T16:34:27.414Z"
   },
   {
    "duration": 13,
    "start_time": "2022-02-08T16:34:27.432Z"
   },
   {
    "duration": 11,
    "start_time": "2022-02-08T16:34:27.447Z"
   },
   {
    "duration": 56,
    "start_time": "2022-02-08T16:34:27.460Z"
   },
   {
    "duration": 7,
    "start_time": "2022-02-08T16:34:27.518Z"
   },
   {
    "duration": 53,
    "start_time": "2022-02-08T16:34:27.527Z"
   },
   {
    "duration": 32,
    "start_time": "2022-02-08T16:34:27.581Z"
   },
   {
    "duration": 12,
    "start_time": "2022-02-08T16:34:27.615Z"
   },
   {
    "duration": 22,
    "start_time": "2022-02-08T16:34:27.629Z"
   },
   {
    "duration": 18,
    "start_time": "2022-02-08T16:34:27.654Z"
   },
   {
    "duration": 72,
    "start_time": "2022-02-08T16:34:27.674Z"
   },
   {
    "duration": 66,
    "start_time": "2022-02-08T16:34:27.748Z"
   },
   {
    "duration": 717,
    "start_time": "2022-02-08T16:34:27.816Z"
   },
   {
    "duration": 3357,
    "start_time": "2022-02-08T16:34:28.537Z"
   },
   {
    "duration": 42,
    "start_time": "2022-02-08T16:34:31.896Z"
   },
   {
    "duration": 40,
    "start_time": "2022-02-08T16:34:31.940Z"
   },
   {
    "duration": 38,
    "start_time": "2022-02-08T16:34:31.982Z"
   },
   {
    "duration": 17,
    "start_time": "2022-02-08T16:34:32.022Z"
   },
   {
    "duration": 18,
    "start_time": "2022-02-08T16:34:32.041Z"
   },
   {
    "duration": 74,
    "start_time": "2022-02-08T16:34:32.061Z"
   },
   {
    "duration": 50,
    "start_time": "2022-02-08T16:34:32.138Z"
   },
   {
    "duration": 49,
    "start_time": "2022-02-08T16:34:32.207Z"
   },
   {
    "duration": 53,
    "start_time": "2022-02-08T16:34:32.258Z"
   },
   {
    "duration": 36,
    "start_time": "2022-02-08T16:34:32.313Z"
   },
   {
    "duration": 617,
    "start_time": "2022-02-09T13:12:50.864Z"
   },
   {
    "duration": 3,
    "start_time": "2022-02-09T13:12:51.483Z"
   },
   {
    "duration": 6,
    "start_time": "2022-02-09T13:12:51.488Z"
   },
   {
    "duration": 5,
    "start_time": "2022-02-09T13:12:51.495Z"
   },
   {
    "duration": 3,
    "start_time": "2022-02-09T13:12:51.501Z"
   },
   {
    "duration": 5,
    "start_time": "2022-02-09T13:12:51.506Z"
   },
   {
    "duration": 3,
    "start_time": "2022-02-09T13:12:51.527Z"
   },
   {
    "duration": 5,
    "start_time": "2022-02-09T13:12:51.532Z"
   },
   {
    "duration": 4,
    "start_time": "2022-02-09T13:12:51.538Z"
   },
   {
    "duration": 5,
    "start_time": "2022-02-09T13:12:51.543Z"
   },
   {
    "duration": 6,
    "start_time": "2022-02-09T13:12:51.550Z"
   },
   {
    "duration": 5,
    "start_time": "2022-02-09T13:12:51.557Z"
   },
   {
    "duration": 5,
    "start_time": "2022-02-09T13:12:51.563Z"
   },
   {
    "duration": 10,
    "start_time": "2022-02-09T13:12:51.570Z"
   },
   {
    "duration": 47,
    "start_time": "2022-02-09T13:12:51.581Z"
   },
   {
    "duration": 8,
    "start_time": "2022-02-09T13:12:51.629Z"
   },
   {
    "duration": 12,
    "start_time": "2022-02-09T13:12:51.639Z"
   },
   {
    "duration": 5,
    "start_time": "2022-02-09T13:12:51.652Z"
   },
   {
    "duration": 35,
    "start_time": "2022-02-09T13:12:51.659Z"
   },
   {
    "duration": 33,
    "start_time": "2022-02-09T13:12:51.696Z"
   },
   {
    "duration": 6,
    "start_time": "2022-02-09T13:12:51.731Z"
   },
   {
    "duration": 10,
    "start_time": "2022-02-09T13:12:51.738Z"
   },
   {
    "duration": 11,
    "start_time": "2022-02-09T13:12:51.751Z"
   },
   {
    "duration": 39,
    "start_time": "2022-02-09T13:12:51.763Z"
   },
   {
    "duration": 38,
    "start_time": "2022-02-09T13:12:51.827Z"
   },
   {
    "duration": 611,
    "start_time": "2022-02-09T13:12:51.867Z"
   },
   {
    "duration": 2907,
    "start_time": "2022-02-09T13:12:52.479Z"
   },
   {
    "duration": 24,
    "start_time": "2022-02-09T13:12:55.388Z"
   },
   {
    "duration": 26,
    "start_time": "2022-02-09T13:12:55.427Z"
   },
   {
    "duration": 12,
    "start_time": "2022-02-09T13:12:55.455Z"
   },
   {
    "duration": 13,
    "start_time": "2022-02-09T13:12:55.468Z"
   },
   {
    "duration": 11,
    "start_time": "2022-02-09T13:12:55.482Z"
   },
   {
    "duration": 49,
    "start_time": "2022-02-09T13:12:55.495Z"
   },
   {
    "duration": 27,
    "start_time": "2022-02-09T13:12:55.545Z"
   },
   {
    "duration": 27,
    "start_time": "2022-02-09T13:12:55.573Z"
   },
   {
    "duration": 39,
    "start_time": "2022-02-09T13:12:55.602Z"
   },
   {
    "duration": 19,
    "start_time": "2022-02-09T13:12:55.643Z"
   },
   {
    "duration": 6,
    "start_time": "2022-02-09T13:15:07.031Z"
   },
   {
    "duration": 1367,
    "start_time": "2022-02-09T13:30:55.708Z"
   },
   {
    "duration": 6,
    "start_time": "2022-02-09T13:31:49.340Z"
   },
   {
    "duration": 8,
    "start_time": "2022-02-09T13:32:06.056Z"
   },
   {
    "duration": 8,
    "start_time": "2022-02-09T13:32:25.487Z"
   },
   {
    "duration": 10,
    "start_time": "2022-02-09T13:32:34.123Z"
   },
   {
    "duration": 11,
    "start_time": "2022-02-09T13:32:45.035Z"
   },
   {
    "duration": 13,
    "start_time": "2022-02-09T13:34:50.716Z"
   },
   {
    "duration": 26,
    "start_time": "2022-02-09T13:36:09.617Z"
   },
   {
    "duration": 22,
    "start_time": "2022-02-09T13:36:16.625Z"
   },
   {
    "duration": 20,
    "start_time": "2022-02-09T13:36:31.740Z"
   },
   {
    "duration": 60,
    "start_time": "2022-02-09T13:36:40.944Z"
   },
   {
    "duration": 4,
    "start_time": "2022-02-09T13:36:48.814Z"
   },
   {
    "duration": 4,
    "start_time": "2022-02-09T13:36:49.523Z"
   },
   {
    "duration": 4,
    "start_time": "2022-02-09T13:36:49.992Z"
   },
   {
    "duration": 4,
    "start_time": "2022-02-09T13:36:50.502Z"
   },
   {
    "duration": 4,
    "start_time": "2022-02-09T13:36:51.119Z"
   },
   {
    "duration": 4,
    "start_time": "2022-02-09T13:36:51.592Z"
   },
   {
    "duration": 4,
    "start_time": "2022-02-09T13:36:52.158Z"
   },
   {
    "duration": 5,
    "start_time": "2022-02-09T13:36:52.648Z"
   },
   {
    "duration": 4,
    "start_time": "2022-02-09T13:36:53.107Z"
   },
   {
    "duration": 5,
    "start_time": "2022-02-09T13:36:53.877Z"
   },
   {
    "duration": 6,
    "start_time": "2022-02-09T13:36:57.138Z"
   },
   {
    "duration": 19,
    "start_time": "2022-02-09T13:37:05.339Z"
   },
   {
    "duration": 7,
    "start_time": "2022-02-09T13:40:14.260Z"
   },
   {
    "duration": 9,
    "start_time": "2022-02-09T13:43:03.268Z"
   },
   {
    "duration": 10,
    "start_time": "2022-02-09T13:43:42.168Z"
   },
   {
    "duration": 9,
    "start_time": "2022-02-09T13:44:16.241Z"
   },
   {
    "duration": 8,
    "start_time": "2022-02-09T13:44:48.892Z"
   },
   {
    "duration": 8,
    "start_time": "2022-02-09T13:45:19.279Z"
   },
   {
    "duration": 31,
    "start_time": "2022-02-09T13:46:24.865Z"
   },
   {
    "duration": 112,
    "start_time": "2022-02-09T13:48:00.560Z"
   },
   {
    "duration": 25,
    "start_time": "2022-02-09T13:48:41.885Z"
   },
   {
    "duration": 29,
    "start_time": "2022-02-09T13:49:51.570Z"
   },
   {
    "duration": 7,
    "start_time": "2022-02-09T13:52:18.271Z"
   },
   {
    "duration": 9,
    "start_time": "2022-02-09T13:52:31.505Z"
   },
   {
    "duration": 9,
    "start_time": "2022-02-09T13:53:15.162Z"
   },
   {
    "duration": 209,
    "start_time": "2022-02-10T08:06:25.877Z"
   },
   {
    "duration": 176,
    "start_time": "2022-02-10T08:06:40.795Z"
   },
   {
    "duration": 619,
    "start_time": "2022-02-10T08:06:46.871Z"
   },
   {
    "duration": 5,
    "start_time": "2022-02-10T08:06:53.257Z"
   },
   {
    "duration": 5,
    "start_time": "2022-02-10T08:06:53.685Z"
   },
   {
    "duration": 5,
    "start_time": "2022-02-10T08:06:54.135Z"
   },
   {
    "duration": 4,
    "start_time": "2022-02-10T08:06:54.640Z"
   },
   {
    "duration": 6,
    "start_time": "2022-02-10T08:06:55.183Z"
   },
   {
    "duration": 4,
    "start_time": "2022-02-10T08:06:55.607Z"
   },
   {
    "duration": 5,
    "start_time": "2022-02-10T08:06:56.045Z"
   },
   {
    "duration": 5,
    "start_time": "2022-02-10T08:06:56.574Z"
   },
   {
    "duration": 5,
    "start_time": "2022-02-10T08:06:57.193Z"
   },
   {
    "duration": 5,
    "start_time": "2022-02-10T08:06:58.112Z"
   },
   {
    "duration": 5,
    "start_time": "2022-02-10T08:06:58.608Z"
   },
   {
    "duration": 22,
    "start_time": "2022-02-10T08:07:03.200Z"
   },
   {
    "duration": 9,
    "start_time": "2022-02-10T08:07:03.680Z"
   },
   {
    "duration": 9,
    "start_time": "2022-02-10T08:07:04.150Z"
   },
   {
    "duration": 11,
    "start_time": "2022-02-10T08:07:04.518Z"
   },
   {
    "duration": 10,
    "start_time": "2022-02-10T08:07:04.926Z"
   },
   {
    "duration": 12,
    "start_time": "2022-02-10T08:07:05.351Z"
   },
   {
    "duration": 11,
    "start_time": "2022-02-10T08:07:06.278Z"
   },
   {
    "duration": 29,
    "start_time": "2022-02-10T08:07:07.119Z"
   },
   {
    "duration": 32,
    "start_time": "2022-02-10T08:07:08.278Z"
   },
   {
    "duration": 7,
    "start_time": "2022-02-10T08:07:24.913Z"
   },
   {
    "duration": 22,
    "start_time": "2022-02-10T08:07:50.293Z"
   },
   {
    "duration": 9,
    "start_time": "2022-02-10T08:08:01.001Z"
   },
   {
    "duration": 13,
    "start_time": "2022-02-10T08:08:18.899Z"
   },
   {
    "duration": 68,
    "start_time": "2022-02-10T08:26:37.941Z"
   },
   {
    "duration": 29,
    "start_time": "2022-02-10T08:28:17.454Z"
   },
   {
    "duration": 69,
    "start_time": "2022-02-10T08:41:30.895Z"
   },
   {
    "duration": 228,
    "start_time": "2022-02-10T08:47:36.567Z"
   },
   {
    "duration": 73,
    "start_time": "2022-02-10T08:47:49.895Z"
   },
   {
    "duration": 76,
    "start_time": "2022-02-10T08:48:57.437Z"
   },
   {
    "duration": 56,
    "start_time": "2022-02-10T08:50:13.316Z"
   },
   {
    "duration": 76,
    "start_time": "2022-02-10T08:51:27.128Z"
   },
   {
    "duration": 75,
    "start_time": "2022-02-10T08:52:29.965Z"
   },
   {
    "duration": 31,
    "start_time": "2022-02-10T08:52:36.148Z"
   },
   {
    "duration": 4708,
    "start_time": "2022-02-10T08:59:22.776Z"
   },
   {
    "duration": 46,
    "start_time": "2022-02-10T08:59:54.863Z"
   },
   {
    "duration": 41,
    "start_time": "2022-02-10T09:00:04.134Z"
   },
   {
    "duration": 232,
    "start_time": "2022-02-10T09:34:35.437Z"
   },
   {
    "duration": 228,
    "start_time": "2022-02-10T09:35:40.324Z"
   },
   {
    "duration": 215,
    "start_time": "2022-02-10T09:41:29.698Z"
   },
   {
    "duration": 230,
    "start_time": "2022-02-10T09:42:38.541Z"
   },
   {
    "duration": 52,
    "start_time": "2022-02-10T09:47:25.528Z"
   },
   {
    "duration": 58,
    "start_time": "2022-02-10T09:47:36.699Z"
   },
   {
    "duration": 65,
    "start_time": "2022-02-10T09:47:48.575Z"
   },
   {
    "duration": 88,
    "start_time": "2022-02-10T09:48:25.572Z"
   },
   {
    "duration": 260,
    "start_time": "2022-02-10T09:50:16.997Z"
   },
   {
    "duration": 227,
    "start_time": "2022-02-10T09:50:53.425Z"
   },
   {
    "duration": 280,
    "start_time": "2022-02-10T09:52:21.126Z"
   },
   {
    "duration": 235,
    "start_time": "2022-02-10T09:55:23.670Z"
   },
   {
    "duration": 75,
    "start_time": "2022-02-10T09:56:42.322Z"
   },
   {
    "duration": 82,
    "start_time": "2022-02-10T09:57:01.326Z"
   },
   {
    "duration": 89,
    "start_time": "2022-02-10T10:01:03.479Z"
   },
   {
    "duration": 197,
    "start_time": "2022-02-10T10:23:44.481Z"
   },
   {
    "duration": 200,
    "start_time": "2022-02-10T10:24:30.728Z"
   },
   {
    "duration": 215,
    "start_time": "2022-02-10T10:25:28.315Z"
   },
   {
    "duration": 204,
    "start_time": "2022-02-10T10:34:36.346Z"
   },
   {
    "duration": 216,
    "start_time": "2022-02-10T10:35:21.642Z"
   },
   {
    "duration": 217,
    "start_time": "2022-02-10T10:35:48.984Z"
   },
   {
    "duration": 260,
    "start_time": "2022-02-10T10:36:00.216Z"
   },
   {
    "duration": 62,
    "start_time": "2022-02-10T10:36:12.124Z"
   },
   {
    "duration": 4,
    "start_time": "2022-02-10T10:36:14.403Z"
   },
   {
    "duration": 5,
    "start_time": "2022-02-10T10:36:15.109Z"
   },
   {
    "duration": 6,
    "start_time": "2022-02-10T10:36:15.669Z"
   },
   {
    "duration": 5,
    "start_time": "2022-02-10T10:36:16.281Z"
   },
   {
    "duration": 6,
    "start_time": "2022-02-10T10:36:16.811Z"
   },
   {
    "duration": 5,
    "start_time": "2022-02-10T10:36:17.263Z"
   },
   {
    "duration": 5,
    "start_time": "2022-02-10T10:36:17.709Z"
   },
   {
    "duration": 5,
    "start_time": "2022-02-10T10:36:18.109Z"
   },
   {
    "duration": 5,
    "start_time": "2022-02-10T10:36:18.549Z"
   },
   {
    "duration": 6,
    "start_time": "2022-02-10T10:36:19.150Z"
   },
   {
    "duration": 7,
    "start_time": "2022-02-10T10:36:19.896Z"
   },
   {
    "duration": 33,
    "start_time": "2022-02-10T10:36:26.188Z"
   },
   {
    "duration": 8,
    "start_time": "2022-02-10T10:36:34.927Z"
   },
   {
    "duration": 11,
    "start_time": "2022-02-10T10:36:45.710Z"
   },
   {
    "duration": 10,
    "start_time": "2022-02-10T10:36:49.948Z"
   },
   {
    "duration": 10,
    "start_time": "2022-02-10T10:36:53.837Z"
   },
   {
    "duration": 14,
    "start_time": "2022-02-10T10:36:55.017Z"
   },
   {
    "duration": 6,
    "start_time": "2022-02-10T10:36:59.036Z"
   },
   {
    "duration": 118,
    "start_time": "2022-02-10T10:37:02.999Z"
   },
   {
    "duration": 121,
    "start_time": "2022-02-10T10:37:22.173Z"
   },
   {
    "duration": 110,
    "start_time": "2022-02-10T10:38:22.407Z"
   },
   {
    "duration": 58,
    "start_time": "2022-02-10T10:39:34.953Z"
   },
   {
    "duration": 68,
    "start_time": "2022-02-10T10:39:53.397Z"
   },
   {
    "duration": 122,
    "start_time": "2022-02-10T10:40:06.962Z"
   },
   {
    "duration": 5741,
    "start_time": "2022-02-10T10:40:58.546Z"
   },
   {
    "duration": 117,
    "start_time": "2022-02-10T10:48:48.968Z"
   },
   {
    "duration": 47,
    "start_time": "2022-02-10T10:57:43.018Z"
   },
   {
    "duration": 66,
    "start_time": "2022-02-10T10:57:43.126Z"
   },
   {
    "duration": 229,
    "start_time": "2022-02-10T11:01:09.181Z"
   },
   {
    "duration": 241,
    "start_time": "2022-02-10T11:04:42.342Z"
   },
   {
    "duration": 227,
    "start_time": "2022-02-10T11:06:24.943Z"
   },
   {
    "duration": 143,
    "start_time": "2022-02-10T11:06:52.222Z"
   },
   {
    "duration": 212,
    "start_time": "2022-02-10T11:07:31.601Z"
   },
   {
    "duration": 56,
    "start_time": "2022-02-10T11:07:52.579Z"
   },
   {
    "duration": 57,
    "start_time": "2022-02-10T11:08:25.724Z"
   },
   {
    "duration": 146,
    "start_time": "2022-02-10T11:11:37.032Z"
   },
   {
    "duration": 148,
    "start_time": "2022-02-10T11:12:59.136Z"
   },
   {
    "duration": 139,
    "start_time": "2022-02-10T11:13:37.762Z"
   },
   {
    "duration": 66,
    "start_time": "2022-02-10T11:14:37.698Z"
   },
   {
    "duration": 5,
    "start_time": "2022-02-10T11:14:40.358Z"
   },
   {
    "duration": 5,
    "start_time": "2022-02-10T11:14:40.782Z"
   },
   {
    "duration": 5,
    "start_time": "2022-02-10T11:14:41.175Z"
   },
   {
    "duration": 5,
    "start_time": "2022-02-10T11:14:41.550Z"
   },
   {
    "duration": 5,
    "start_time": "2022-02-10T11:14:41.942Z"
   },
   {
    "duration": 4,
    "start_time": "2022-02-10T11:14:42.351Z"
   },
   {
    "duration": 5,
    "start_time": "2022-02-10T11:14:42.726Z"
   },
   {
    "duration": 4,
    "start_time": "2022-02-10T11:14:43.071Z"
   },
   {
    "duration": 4,
    "start_time": "2022-02-10T11:14:43.454Z"
   },
   {
    "duration": 6,
    "start_time": "2022-02-10T11:14:44.100Z"
   },
   {
    "duration": 6,
    "start_time": "2022-02-10T11:14:44.620Z"
   },
   {
    "duration": 39,
    "start_time": "2022-02-10T11:14:50.357Z"
   },
   {
    "duration": 7,
    "start_time": "2022-02-10T11:14:53.637Z"
   },
   {
    "duration": 10,
    "start_time": "2022-02-10T11:15:03.661Z"
   },
   {
    "duration": 10,
    "start_time": "2022-02-10T11:15:08.213Z"
   },
   {
    "duration": 13,
    "start_time": "2022-02-10T11:15:12.045Z"
   },
   {
    "duration": 13,
    "start_time": "2022-02-10T11:15:13.357Z"
   },
   {
    "duration": 7,
    "start_time": "2022-02-10T11:15:16.005Z"
   },
   {
    "duration": 139,
    "start_time": "2022-02-10T11:15:23.502Z"
   },
   {
    "duration": 138,
    "start_time": "2022-02-10T11:16:08.535Z"
   },
   {
    "duration": 129,
    "start_time": "2022-02-10T11:16:57.736Z"
   },
   {
    "duration": 149,
    "start_time": "2022-02-10T11:17:15.328Z"
   },
   {
    "duration": 116,
    "start_time": "2022-02-10T11:18:00.948Z"
   },
   {
    "duration": 4441,
    "start_time": "2022-02-10T11:18:40.588Z"
   },
   {
    "duration": 115,
    "start_time": "2022-02-10T11:19:04.498Z"
   },
   {
    "duration": 14,
    "start_time": "2022-02-10T11:23:49.576Z"
   },
   {
    "duration": 43,
    "start_time": "2022-02-10T11:43:40.739Z"
   },
   {
    "duration": 50,
    "start_time": "2022-02-10T11:44:48.452Z"
   },
   {
    "duration": 51,
    "start_time": "2022-02-10T11:49:39.060Z"
   },
   {
    "duration": 50,
    "start_time": "2022-02-10T11:49:52.853Z"
   },
   {
    "duration": 51,
    "start_time": "2022-02-10T11:50:49.973Z"
   },
   {
    "duration": 223,
    "start_time": "2022-02-10T11:53:31.496Z"
   },
   {
    "duration": 66,
    "start_time": "2022-02-10T11:54:25.465Z"
   },
   {
    "duration": 69,
    "start_time": "2022-02-10T11:55:33.860Z"
   },
   {
    "duration": 62,
    "start_time": "2022-02-10T11:55:51.684Z"
   },
   {
    "duration": 4,
    "start_time": "2022-02-10T11:55:59.521Z"
   },
   {
    "duration": 5,
    "start_time": "2022-02-10T11:56:01.619Z"
   },
   {
    "duration": 4,
    "start_time": "2022-02-10T11:56:02.841Z"
   },
   {
    "duration": 5,
    "start_time": "2022-02-10T11:56:04.763Z"
   },
   {
    "duration": 6,
    "start_time": "2022-02-10T11:56:05.137Z"
   },
   {
    "duration": 4,
    "start_time": "2022-02-10T11:56:05.528Z"
   },
   {
    "duration": 5,
    "start_time": "2022-02-10T11:56:05.906Z"
   },
   {
    "duration": 6,
    "start_time": "2022-02-10T11:56:08.499Z"
   },
   {
    "duration": 4,
    "start_time": "2022-02-10T11:56:08.970Z"
   },
   {
    "duration": 5,
    "start_time": "2022-02-10T11:56:09.289Z"
   },
   {
    "duration": 6,
    "start_time": "2022-02-10T11:56:11.093Z"
   },
   {
    "duration": 9,
    "start_time": "2022-02-10T11:57:21.113Z"
   },
   {
    "duration": 66,
    "start_time": "2022-02-10T11:57:49.745Z"
   },
   {
    "duration": 75,
    "start_time": "2022-02-10T11:58:51.458Z"
   },
   {
    "duration": 7,
    "start_time": "2022-02-10T12:01:49.928Z"
   },
   {
    "duration": 10,
    "start_time": "2022-02-10T12:01:59.043Z"
   },
   {
    "duration": 10,
    "start_time": "2022-02-10T12:02:03.126Z"
   },
   {
    "duration": 13,
    "start_time": "2022-02-10T12:02:06.584Z"
   },
   {
    "duration": 8,
    "start_time": "2022-02-10T12:02:10.592Z"
   },
   {
    "duration": 16,
    "start_time": "2022-02-10T12:02:27.122Z"
   },
   {
    "duration": 123,
    "start_time": "2022-02-10T12:02:32.083Z"
   },
   {
    "duration": 80,
    "start_time": "2022-02-10T12:02:45.381Z"
   },
   {
    "duration": 7,
    "start_time": "2022-02-10T12:04:10.632Z"
   },
   {
    "duration": 9,
    "start_time": "2022-02-10T12:04:22.942Z"
   },
   {
    "duration": 6,
    "start_time": "2022-02-10T12:04:27.137Z"
   },
   {
    "duration": 57,
    "start_time": "2022-02-10T12:04:33.541Z"
   },
   {
    "duration": 4,
    "start_time": "2022-02-10T12:04:34.798Z"
   },
   {
    "duration": 5,
    "start_time": "2022-02-10T12:04:35.327Z"
   },
   {
    "duration": 4,
    "start_time": "2022-02-10T12:04:35.725Z"
   },
   {
    "duration": 4,
    "start_time": "2022-02-10T12:04:36.101Z"
   },
   {
    "duration": 5,
    "start_time": "2022-02-10T12:04:36.495Z"
   },
   {
    "duration": 5,
    "start_time": "2022-02-10T12:04:36.855Z"
   },
   {
    "duration": 6,
    "start_time": "2022-02-10T12:04:37.205Z"
   },
   {
    "duration": 5,
    "start_time": "2022-02-10T12:04:37.582Z"
   },
   {
    "duration": 5,
    "start_time": "2022-02-10T12:04:38.033Z"
   },
   {
    "duration": 6,
    "start_time": "2022-02-10T12:04:38.405Z"
   },
   {
    "duration": 8,
    "start_time": "2022-02-10T12:04:38.885Z"
   },
   {
    "duration": 73,
    "start_time": "2022-02-10T12:04:43.519Z"
   },
   {
    "duration": 7,
    "start_time": "2022-02-10T12:04:50.472Z"
   },
   {
    "duration": 75,
    "start_time": "2022-02-10T12:04:54.471Z"
   },
   {
    "duration": 11,
    "start_time": "2022-02-10T12:05:05.200Z"
   },
   {
    "duration": 79,
    "start_time": "2022-02-10T12:05:08.815Z"
   },
   {
    "duration": 10,
    "start_time": "2022-02-10T12:05:15.624Z"
   },
   {
    "duration": 77,
    "start_time": "2022-02-10T12:05:22.512Z"
   },
   {
    "duration": 13,
    "start_time": "2022-02-10T12:05:37.092Z"
   },
   {
    "duration": 7,
    "start_time": "2022-02-10T12:05:41.500Z"
   },
   {
    "duration": 14,
    "start_time": "2022-02-10T12:05:54.404Z"
   },
   {
    "duration": 75,
    "start_time": "2022-02-10T12:05:58.448Z"
   },
   {
    "duration": 54,
    "start_time": "2022-02-10T12:07:23.531Z"
   },
   {
    "duration": 23,
    "start_time": "2022-02-10T12:12:52.959Z"
   },
   {
    "duration": 28,
    "start_time": "2022-02-10T12:14:15.215Z"
   },
   {
    "duration": 39,
    "start_time": "2022-02-10T12:14:44.307Z"
   },
   {
    "duration": -429,
    "start_time": "2022-02-10T12:29:18.981Z"
   },
   {
    "duration": -434,
    "start_time": "2022-02-10T12:29:18.989Z"
   },
   {
    "duration": -437,
    "start_time": "2022-02-10T12:29:18.994Z"
   },
   {
    "duration": -440,
    "start_time": "2022-02-10T12:29:18.999Z"
   },
   {
    "duration": -445,
    "start_time": "2022-02-10T12:29:19.006Z"
   },
   {
    "duration": -449,
    "start_time": "2022-02-10T12:29:19.012Z"
   },
   {
    "duration": -452,
    "start_time": "2022-02-10T12:29:19.017Z"
   },
   {
    "duration": -456,
    "start_time": "2022-02-10T12:29:19.023Z"
   },
   {
    "duration": -460,
    "start_time": "2022-02-10T12:29:19.030Z"
   },
   {
    "duration": -463,
    "start_time": "2022-02-10T12:29:19.035Z"
   },
   {
    "duration": -467,
    "start_time": "2022-02-10T12:29:19.041Z"
   },
   {
    "duration": -469,
    "start_time": "2022-02-10T12:29:19.045Z"
   },
   {
    "duration": -716,
    "start_time": "2022-02-10T12:29:19.295Z"
   },
   {
    "duration": -767,
    "start_time": "2022-02-10T12:29:19.347Z"
   },
   {
    "duration": -774,
    "start_time": "2022-02-10T12:29:19.355Z"
   },
   {
    "duration": -779,
    "start_time": "2022-02-10T12:29:19.360Z"
   },
   {
    "duration": -784,
    "start_time": "2022-02-10T12:29:19.366Z"
   },
   {
    "duration": -788,
    "start_time": "2022-02-10T12:29:19.371Z"
   },
   {
    "duration": -794,
    "start_time": "2022-02-10T12:29:19.378Z"
   },
   {
    "duration": -800,
    "start_time": "2022-02-10T12:29:19.385Z"
   },
   {
    "duration": -804,
    "start_time": "2022-02-10T12:29:19.390Z"
   },
   {
    "duration": -808,
    "start_time": "2022-02-10T12:29:19.395Z"
   },
   {
    "duration": -813,
    "start_time": "2022-02-10T12:29:19.402Z"
   },
   {
    "duration": -824,
    "start_time": "2022-02-10T12:29:19.414Z"
   },
   {
    "duration": -828,
    "start_time": "2022-02-10T12:29:19.419Z"
   },
   {
    "duration": -832,
    "start_time": "2022-02-10T12:29:19.424Z"
   },
   {
    "duration": -836,
    "start_time": "2022-02-10T12:29:19.429Z"
   },
   {
    "duration": -840,
    "start_time": "2022-02-10T12:29:19.434Z"
   },
   {
    "duration": -844,
    "start_time": "2022-02-10T12:29:19.439Z"
   },
   {
    "duration": -848,
    "start_time": "2022-02-10T12:29:19.444Z"
   },
   {
    "duration": -851,
    "start_time": "2022-02-10T12:29:19.448Z"
   },
   {
    "duration": -854,
    "start_time": "2022-02-10T12:29:19.452Z"
   },
   {
    "duration": -798,
    "start_time": "2022-02-10T12:29:19.457Z"
   },
   {
    "duration": -802,
    "start_time": "2022-02-10T12:29:19.462Z"
   },
   {
    "duration": -807,
    "start_time": "2022-02-10T12:29:19.468Z"
   },
   {
    "duration": -811,
    "start_time": "2022-02-10T12:29:19.473Z"
   },
   {
    "duration": -815,
    "start_time": "2022-02-10T12:29:19.478Z"
   },
   {
    "duration": -820,
    "start_time": "2022-02-10T12:29:19.484Z"
   },
   {
    "duration": 62,
    "start_time": "2022-02-10T12:29:23.006Z"
   },
   {
    "duration": 4,
    "start_time": "2022-02-10T12:29:29.742Z"
   },
   {
    "duration": 5,
    "start_time": "2022-02-10T12:29:29.951Z"
   },
   {
    "duration": 5,
    "start_time": "2022-02-10T12:29:30.290Z"
   },
   {
    "duration": 4,
    "start_time": "2022-02-10T12:29:30.663Z"
   },
   {
    "duration": 5,
    "start_time": "2022-02-10T12:29:30.921Z"
   },
   {
    "duration": 4,
    "start_time": "2022-02-10T12:29:31.227Z"
   },
   {
    "duration": 4,
    "start_time": "2022-02-10T12:29:31.659Z"
   },
   {
    "duration": 5,
    "start_time": "2022-02-10T12:29:31.899Z"
   },
   {
    "duration": 4,
    "start_time": "2022-02-10T12:29:32.128Z"
   },
   {
    "duration": 5,
    "start_time": "2022-02-10T12:29:32.413Z"
   },
   {
    "duration": 6,
    "start_time": "2022-02-10T12:29:32.757Z"
   },
   {
    "duration": 76,
    "start_time": "2022-02-10T12:29:34.971Z"
   },
   {
    "duration": 8,
    "start_time": "2022-02-10T12:29:35.805Z"
   },
   {
    "duration": 12,
    "start_time": "2022-02-10T12:29:40.890Z"
   },
   {
    "duration": 10,
    "start_time": "2022-02-10T12:29:42.320Z"
   },
   {
    "duration": 9,
    "start_time": "2022-02-10T12:29:44.351Z"
   },
   {
    "duration": 14,
    "start_time": "2022-02-10T12:29:44.791Z"
   },
   {
    "duration": 7,
    "start_time": "2022-02-10T12:29:47.348Z"
   },
   {
    "duration": 15,
    "start_time": "2022-02-10T12:29:52.074Z"
   },
   {
    "duration": 895,
    "start_time": "2022-02-10T12:31:04.914Z"
   },
   {
    "duration": 6303,
    "start_time": "2022-02-10T12:35:32.331Z"
   },
   {
    "duration": 38622,
    "start_time": "2022-02-10T12:35:51.407Z"
   },
   {
    "duration": 117271,
    "start_time": "2022-02-10T12:38:46.598Z"
   },
   {
    "duration": 310,
    "start_time": "2022-02-10T12:41:16.588Z"
   },
   {
    "duration": 186,
    "start_time": "2022-02-10T12:48:25.280Z"
   },
   {
    "duration": 221,
    "start_time": "2022-02-10T12:50:03.954Z"
   },
   {
    "duration": 62,
    "start_time": "2022-02-10T13:06:35.153Z"
   },
   {
    "duration": 65,
    "start_time": "2022-02-10T13:07:16.789Z"
   },
   {
    "duration": 73,
    "start_time": "2022-02-10T13:07:58.240Z"
   },
   {
    "duration": 64,
    "start_time": "2022-02-10T13:10:06.019Z"
   },
   {
    "duration": 92,
    "start_time": "2022-02-10T13:11:26.028Z"
   },
   {
    "duration": 61,
    "start_time": "2022-02-10T13:16:22.831Z"
   },
   {
    "duration": 262,
    "start_time": "2022-02-10T13:16:31.513Z"
   },
   {
    "duration": 59,
    "start_time": "2022-02-10T13:17:14.292Z"
   },
   {
    "duration": 64,
    "start_time": "2022-02-10T13:18:56.525Z"
   },
   {
    "duration": 4,
    "start_time": "2022-02-10T13:18:58.110Z"
   },
   {
    "duration": 6,
    "start_time": "2022-02-10T13:18:58.415Z"
   },
   {
    "duration": 5,
    "start_time": "2022-02-10T13:18:58.733Z"
   },
   {
    "duration": 5,
    "start_time": "2022-02-10T13:18:59.039Z"
   },
   {
    "duration": 7,
    "start_time": "2022-02-10T13:18:59.397Z"
   },
   {
    "duration": 5,
    "start_time": "2022-02-10T13:18:59.702Z"
   },
   {
    "duration": 5,
    "start_time": "2022-02-10T13:19:00.030Z"
   },
   {
    "duration": 7,
    "start_time": "2022-02-10T13:19:00.326Z"
   },
   {
    "duration": 6,
    "start_time": "2022-02-10T13:19:00.621Z"
   },
   {
    "duration": 6,
    "start_time": "2022-02-10T13:19:01.311Z"
   },
   {
    "duration": 6,
    "start_time": "2022-02-10T13:19:02.046Z"
   },
   {
    "duration": 80,
    "start_time": "2022-02-10T13:19:07.417Z"
   },
   {
    "duration": 7,
    "start_time": "2022-02-10T13:19:27.384Z"
   },
   {
    "duration": 12,
    "start_time": "2022-02-10T13:19:28.534Z"
   },
   {
    "duration": 10,
    "start_time": "2022-02-10T13:19:29.503Z"
   },
   {
    "duration": 10,
    "start_time": "2022-02-10T13:19:33.950Z"
   },
   {
    "duration": 13,
    "start_time": "2022-02-10T13:19:34.959Z"
   },
   {
    "duration": 8,
    "start_time": "2022-02-10T13:19:35.813Z"
   },
   {
    "duration": 15,
    "start_time": "2022-02-10T13:19:38.670Z"
   },
   {
    "duration": 60,
    "start_time": "2022-02-10T13:19:48.015Z"
   },
   {
    "duration": 54,
    "start_time": "2022-02-10T13:20:09.547Z"
   },
   {
    "duration": 60,
    "start_time": "2022-02-10T13:20:16.260Z"
   },
   {
    "duration": 66,
    "start_time": "2022-02-10T13:20:48.089Z"
   },
   {
    "duration": 65,
    "start_time": "2022-02-10T13:33:20.085Z"
   },
   {
    "duration": 26,
    "start_time": "2022-02-10T13:33:26.291Z"
   },
   {
    "duration": 28,
    "start_time": "2022-02-10T13:34:03.822Z"
   },
   {
    "duration": 28,
    "start_time": "2022-02-10T13:34:12.334Z"
   },
   {
    "duration": 29,
    "start_time": "2022-02-10T13:34:46.576Z"
   },
   {
    "duration": 920,
    "start_time": "2022-02-11T08:34:14.858Z"
   },
   {
    "duration": 608,
    "start_time": "2022-02-11T08:34:22.807Z"
   },
   {
    "duration": 4,
    "start_time": "2022-02-11T08:34:24.107Z"
   },
   {
    "duration": 4,
    "start_time": "2022-02-11T08:34:24.470Z"
   },
   {
    "duration": 4,
    "start_time": "2022-02-11T08:34:24.806Z"
   },
   {
    "duration": 4,
    "start_time": "2022-02-11T08:34:25.124Z"
   },
   {
    "duration": 4,
    "start_time": "2022-02-11T08:34:25.436Z"
   },
   {
    "duration": 4,
    "start_time": "2022-02-11T08:34:25.771Z"
   },
   {
    "duration": 5,
    "start_time": "2022-02-11T08:34:26.133Z"
   },
   {
    "duration": 5,
    "start_time": "2022-02-11T08:34:26.453Z"
   },
   {
    "duration": 5,
    "start_time": "2022-02-11T08:34:26.779Z"
   },
   {
    "duration": 6,
    "start_time": "2022-02-11T08:34:27.093Z"
   },
   {
    "duration": 5,
    "start_time": "2022-02-11T08:34:27.388Z"
   },
   {
    "duration": 69,
    "start_time": "2022-02-11T08:34:29.576Z"
   },
   {
    "duration": 7,
    "start_time": "2022-02-11T08:34:31.774Z"
   },
   {
    "duration": 14,
    "start_time": "2022-02-11T08:34:34.820Z"
   },
   {
    "duration": 10,
    "start_time": "2022-02-11T08:34:36.782Z"
   },
   {
    "duration": 8,
    "start_time": "2022-02-11T08:34:40.188Z"
   },
   {
    "duration": 12,
    "start_time": "2022-02-11T08:34:40.850Z"
   },
   {
    "duration": 5,
    "start_time": "2022-02-11T08:34:42.626Z"
   },
   {
    "duration": 14,
    "start_time": "2022-02-11T08:34:45.409Z"
   },
   {
    "duration": 24,
    "start_time": "2022-02-11T08:34:47.619Z"
   },
   {
    "duration": 24,
    "start_time": "2022-02-11T08:36:16.659Z"
   },
   {
    "duration": 16,
    "start_time": "2022-02-11T08:47:22.408Z"
   },
   {
    "duration": 17,
    "start_time": "2022-02-11T08:47:43.462Z"
   },
   {
    "duration": 6,
    "start_time": "2022-02-11T08:47:50.496Z"
   },
   {
    "duration": 12,
    "start_time": "2022-02-11T08:47:56.118Z"
   },
   {
    "duration": 7984,
    "start_time": "2022-02-11T08:47:58.446Z"
   },
   {
    "duration": -108,
    "start_time": "2022-02-11T08:48:06.540Z"
   },
   {
    "duration": -116,
    "start_time": "2022-02-11T08:48:06.549Z"
   },
   {
    "duration": 42,
    "start_time": "2022-02-11T08:48:32.229Z"
   },
   {
    "duration": 43,
    "start_time": "2022-02-11T08:48:36.963Z"
   },
   {
    "duration": 608,
    "start_time": "2022-02-11T08:49:29.526Z"
   },
   {
    "duration": 2448,
    "start_time": "2022-02-11T08:49:33.553Z"
   },
   {
    "duration": 26,
    "start_time": "2022-02-11T08:49:40.268Z"
   },
   {
    "duration": 31,
    "start_time": "2022-02-11T08:49:44.036Z"
   },
   {
    "duration": 13,
    "start_time": "2022-02-11T08:50:49.506Z"
   },
   {
    "duration": 13,
    "start_time": "2022-02-11T08:50:51.859Z"
   },
   {
    "duration": 11,
    "start_time": "2022-02-11T08:50:53.768Z"
   },
   {
    "duration": 30,
    "start_time": "2022-02-11T08:50:55.430Z"
   },
   {
    "duration": 30,
    "start_time": "2022-02-11T08:51:35.171Z"
   },
   {
    "duration": 7,
    "start_time": "2022-02-11T08:51:54.740Z"
   },
   {
    "duration": 14,
    "start_time": "2022-02-11T08:52:10.165Z"
   },
   {
    "duration": 23,
    "start_time": "2022-02-11T08:53:47.615Z"
   },
   {
    "duration": 103,
    "start_time": "2022-02-11T08:55:42.536Z"
   },
   {
    "duration": 27,
    "start_time": "2022-02-11T08:59:20.569Z"
   },
   {
    "duration": 17,
    "start_time": "2022-02-11T08:59:41.106Z"
   },
   {
    "duration": 25,
    "start_time": "2022-02-11T09:00:31.229Z"
   },
   {
    "duration": 24,
    "start_time": "2022-02-11T09:03:00.209Z"
   },
   {
    "duration": 23,
    "start_time": "2022-02-11T09:03:04.103Z"
   },
   {
    "duration": 8154,
    "start_time": "2022-02-11T09:06:36.305Z"
   },
   {
    "duration": 11,
    "start_time": "2022-02-11T09:07:28.117Z"
   },
   {
    "duration": 57,
    "start_time": "2022-02-11T10:21:10.172Z"
   },
   {
    "duration": 3,
    "start_time": "2022-02-11T10:21:11.704Z"
   },
   {
    "duration": 3,
    "start_time": "2022-02-11T10:21:12.132Z"
   },
   {
    "duration": 4,
    "start_time": "2022-02-11T10:21:12.482Z"
   },
   {
    "duration": 5,
    "start_time": "2022-02-11T10:21:12.839Z"
   },
   {
    "duration": 5,
    "start_time": "2022-02-11T10:21:13.168Z"
   },
   {
    "duration": 5,
    "start_time": "2022-02-11T10:21:13.507Z"
   },
   {
    "duration": 5,
    "start_time": "2022-02-11T10:21:13.850Z"
   },
   {
    "duration": 4,
    "start_time": "2022-02-11T10:21:14.186Z"
   },
   {
    "duration": 5,
    "start_time": "2022-02-11T10:21:14.565Z"
   },
   {
    "duration": 6,
    "start_time": "2022-02-11T10:21:14.882Z"
   },
   {
    "duration": 6,
    "start_time": "2022-02-11T10:21:15.266Z"
   },
   {
    "duration": 68,
    "start_time": "2022-02-11T10:21:23.646Z"
   },
   {
    "duration": 49,
    "start_time": "2022-02-11T10:25:11.537Z"
   },
   {
    "duration": 50,
    "start_time": "2022-02-11T10:25:25.199Z"
   },
   {
    "duration": 51,
    "start_time": "2022-02-11T10:47:01.366Z"
   },
   {
    "duration": 64,
    "start_time": "2022-02-11T10:47:24.715Z"
   },
   {
    "duration": 5,
    "start_time": "2022-02-11T10:47:29.295Z"
   },
   {
    "duration": 4,
    "start_time": "2022-02-11T10:47:29.672Z"
   },
   {
    "duration": 5,
    "start_time": "2022-02-11T10:47:30.055Z"
   },
   {
    "duration": 4,
    "start_time": "2022-02-11T10:47:30.395Z"
   },
   {
    "duration": 5,
    "start_time": "2022-02-11T10:47:30.777Z"
   },
   {
    "duration": 5,
    "start_time": "2022-02-11T10:47:31.115Z"
   },
   {
    "duration": 5,
    "start_time": "2022-02-11T10:47:31.482Z"
   },
   {
    "duration": 5,
    "start_time": "2022-02-11T10:47:31.883Z"
   },
   {
    "duration": 4,
    "start_time": "2022-02-11T10:47:32.267Z"
   },
   {
    "duration": 5,
    "start_time": "2022-02-11T10:47:32.643Z"
   },
   {
    "duration": 5,
    "start_time": "2022-02-11T10:47:33.075Z"
   },
   {
    "duration": 53,
    "start_time": "2022-02-11T10:47:39.493Z"
   },
   {
    "duration": 11,
    "start_time": "2022-02-11T10:49:16.968Z"
   },
   {
    "duration": 9,
    "start_time": "2022-02-11T10:49:22.049Z"
   },
   {
    "duration": 9,
    "start_time": "2022-02-11T10:49:29.304Z"
   },
   {
    "duration": 12,
    "start_time": "2022-02-11T10:49:30.100Z"
   },
   {
    "duration": 7,
    "start_time": "2022-02-11T10:49:36.820Z"
   },
   {
    "duration": 13,
    "start_time": "2022-02-11T10:49:42.937Z"
   },
   {
    "duration": 9,
    "start_time": "2022-02-11T11:00:48.603Z"
   },
   {
    "duration": 13,
    "start_time": "2022-02-11T11:00:58.363Z"
   },
   {
    "duration": 62,
    "start_time": "2022-02-11T11:01:12.920Z"
   },
   {
    "duration": 4,
    "start_time": "2022-02-11T11:01:12.984Z"
   },
   {
    "duration": 4,
    "start_time": "2022-02-11T11:01:12.989Z"
   },
   {
    "duration": 7,
    "start_time": "2022-02-11T11:01:12.995Z"
   },
   {
    "duration": 4,
    "start_time": "2022-02-11T11:01:13.003Z"
   },
   {
    "duration": 5,
    "start_time": "2022-02-11T11:01:13.008Z"
   },
   {
    "duration": 3,
    "start_time": "2022-02-11T11:01:13.015Z"
   },
   {
    "duration": 8,
    "start_time": "2022-02-11T11:01:13.020Z"
   },
   {
    "duration": 43,
    "start_time": "2022-02-11T11:01:13.029Z"
   },
   {
    "duration": 3,
    "start_time": "2022-02-11T11:01:13.074Z"
   },
   {
    "duration": 10,
    "start_time": "2022-02-11T11:01:13.078Z"
   },
   {
    "duration": 6,
    "start_time": "2022-02-11T11:01:13.089Z"
   },
   {
    "duration": 51,
    "start_time": "2022-02-11T11:01:13.096Z"
   },
   {
    "duration": 27,
    "start_time": "2022-02-11T11:01:13.148Z"
   },
   {
    "duration": 11,
    "start_time": "2022-02-11T11:01:13.177Z"
   },
   {
    "duration": 8,
    "start_time": "2022-02-11T11:01:13.190Z"
   },
   {
    "duration": 7,
    "start_time": "2022-02-11T11:01:13.199Z"
   },
   {
    "duration": 12,
    "start_time": "2022-02-11T11:01:13.208Z"
   },
   {
    "duration": 6,
    "start_time": "2022-02-11T11:01:13.222Z"
   },
   {
    "duration": 48,
    "start_time": "2022-02-11T11:01:13.230Z"
   },
   {
    "duration": 16,
    "start_time": "2022-02-11T11:01:13.280Z"
   },
   {
    "duration": 9,
    "start_time": "2022-02-11T11:01:15.830Z"
   },
   {
    "duration": 69,
    "start_time": "2022-02-11T11:01:22.693Z"
   },
   {
    "duration": 4,
    "start_time": "2022-02-11T11:01:24.140Z"
   },
   {
    "duration": 5,
    "start_time": "2022-02-11T11:01:24.462Z"
   },
   {
    "duration": 5,
    "start_time": "2022-02-11T11:01:24.838Z"
   },
   {
    "duration": 4,
    "start_time": "2022-02-11T11:01:25.175Z"
   },
   {
    "duration": 4,
    "start_time": "2022-02-11T11:01:25.542Z"
   },
   {
    "duration": 4,
    "start_time": "2022-02-11T11:01:25.868Z"
   },
   {
    "duration": 4,
    "start_time": "2022-02-11T11:01:26.232Z"
   },
   {
    "duration": 5,
    "start_time": "2022-02-11T11:01:26.552Z"
   },
   {
    "duration": 4,
    "start_time": "2022-02-11T11:01:26.894Z"
   },
   {
    "duration": 6,
    "start_time": "2022-02-11T11:01:27.237Z"
   },
   {
    "duration": 5,
    "start_time": "2022-02-11T11:01:27.618Z"
   },
   {
    "duration": 51,
    "start_time": "2022-02-11T11:01:30.536Z"
   },
   {
    "duration": 7,
    "start_time": "2022-02-11T11:01:32.388Z"
   },
   {
    "duration": 10,
    "start_time": "2022-02-11T11:01:34.480Z"
   },
   {
    "duration": 9,
    "start_time": "2022-02-11T11:01:36.046Z"
   },
   {
    "duration": 9,
    "start_time": "2022-02-11T11:01:40.162Z"
   },
   {
    "duration": 12,
    "start_time": "2022-02-11T11:01:40.988Z"
   },
   {
    "duration": 6,
    "start_time": "2022-02-11T11:01:43.252Z"
   },
   {
    "duration": 13,
    "start_time": "2022-02-11T11:01:45.925Z"
   },
   {
    "duration": 18,
    "start_time": "2022-02-11T11:01:52.783Z"
   },
   {
    "duration": 9,
    "start_time": "2022-02-11T11:01:56.393Z"
   },
   {
    "duration": 6,
    "start_time": "2022-02-11T11:02:51.735Z"
   },
   {
    "duration": 61,
    "start_time": "2022-02-11T11:03:00.100Z"
   },
   {
    "duration": 4,
    "start_time": "2022-02-11T11:03:00.163Z"
   },
   {
    "duration": 15,
    "start_time": "2022-02-11T11:03:00.168Z"
   },
   {
    "duration": 14,
    "start_time": "2022-02-11T11:03:00.184Z"
   },
   {
    "duration": 15,
    "start_time": "2022-02-11T11:03:00.199Z"
   },
   {
    "duration": 6,
    "start_time": "2022-02-11T11:03:00.216Z"
   },
   {
    "duration": 7,
    "start_time": "2022-02-11T11:03:00.223Z"
   },
   {
    "duration": 9,
    "start_time": "2022-02-11T11:03:00.232Z"
   },
   {
    "duration": 12,
    "start_time": "2022-02-11T11:03:00.242Z"
   },
   {
    "duration": 11,
    "start_time": "2022-02-11T11:03:00.255Z"
   },
   {
    "duration": 10,
    "start_time": "2022-02-11T11:03:00.268Z"
   },
   {
    "duration": 11,
    "start_time": "2022-02-11T11:03:00.280Z"
   },
   {
    "duration": 61,
    "start_time": "2022-02-11T11:03:00.292Z"
   },
   {
    "duration": 6,
    "start_time": "2022-02-11T11:03:00.354Z"
   },
   {
    "duration": 18,
    "start_time": "2022-02-11T11:03:00.361Z"
   },
   {
    "duration": 8,
    "start_time": "2022-02-11T11:03:00.380Z"
   },
   {
    "duration": 8,
    "start_time": "2022-02-11T11:03:00.390Z"
   },
   {
    "duration": 16,
    "start_time": "2022-02-11T11:03:00.399Z"
   },
   {
    "duration": 5,
    "start_time": "2022-02-11T11:03:00.416Z"
   },
   {
    "duration": 7,
    "start_time": "2022-02-11T11:03:04.757Z"
   },
   {
    "duration": 14,
    "start_time": "2022-02-11T11:03:08.439Z"
   },
   {
    "duration": 9,
    "start_time": "2022-02-11T11:04:11.879Z"
   },
   {
    "duration": 8,
    "start_time": "2022-02-11T11:04:59.612Z"
   },
   {
    "duration": 10,
    "start_time": "2022-02-11T11:05:08.492Z"
   },
   {
    "duration": 9,
    "start_time": "2022-02-11T11:05:29.680Z"
   },
   {
    "duration": 9,
    "start_time": "2022-02-11T11:06:14.969Z"
   },
   {
    "duration": 9,
    "start_time": "2022-02-11T11:06:26.575Z"
   },
   {
    "duration": 60,
    "start_time": "2022-02-11T11:06:37.804Z"
   },
   {
    "duration": 4,
    "start_time": "2022-02-11T11:06:37.866Z"
   },
   {
    "duration": 4,
    "start_time": "2022-02-11T11:06:37.872Z"
   },
   {
    "duration": 5,
    "start_time": "2022-02-11T11:06:37.879Z"
   },
   {
    "duration": 4,
    "start_time": "2022-02-11T11:06:37.886Z"
   },
   {
    "duration": 6,
    "start_time": "2022-02-11T11:06:37.891Z"
   },
   {
    "duration": 6,
    "start_time": "2022-02-11T11:06:37.899Z"
   },
   {
    "duration": 8,
    "start_time": "2022-02-11T11:06:37.907Z"
   },
   {
    "duration": 8,
    "start_time": "2022-02-11T11:06:37.917Z"
   },
   {
    "duration": 8,
    "start_time": "2022-02-11T11:06:37.927Z"
   },
   {
    "duration": 36,
    "start_time": "2022-02-11T11:06:37.936Z"
   },
   {
    "duration": 5,
    "start_time": "2022-02-11T11:06:37.974Z"
   },
   {
    "duration": 51,
    "start_time": "2022-02-11T11:06:37.980Z"
   },
   {
    "duration": 5,
    "start_time": "2022-02-11T11:06:38.033Z"
   },
   {
    "duration": 34,
    "start_time": "2022-02-11T11:06:38.040Z"
   },
   {
    "duration": 8,
    "start_time": "2022-02-11T11:06:38.076Z"
   },
   {
    "duration": 8,
    "start_time": "2022-02-11T11:06:38.085Z"
   },
   {
    "duration": 12,
    "start_time": "2022-02-11T11:06:38.094Z"
   },
   {
    "duration": 6,
    "start_time": "2022-02-11T11:06:38.107Z"
   },
   {
    "duration": 17,
    "start_time": "2022-02-11T11:06:38.114Z"
   },
   {
    "duration": 48,
    "start_time": "2022-02-11T11:06:38.133Z"
   },
   {
    "duration": 11,
    "start_time": "2022-02-11T11:06:41.339Z"
   },
   {
    "duration": 10,
    "start_time": "2022-02-11T11:07:37.854Z"
   },
   {
    "duration": 7,
    "start_time": "2022-02-11T11:08:49.088Z"
   },
   {
    "duration": 9,
    "start_time": "2022-02-11T11:09:00.082Z"
   },
   {
    "duration": 8,
    "start_time": "2022-02-11T11:09:12.265Z"
   },
   {
    "duration": 59,
    "start_time": "2022-02-11T11:09:22.238Z"
   },
   {
    "duration": 4,
    "start_time": "2022-02-11T11:09:22.298Z"
   },
   {
    "duration": 5,
    "start_time": "2022-02-11T11:09:22.304Z"
   },
   {
    "duration": 6,
    "start_time": "2022-02-11T11:09:22.311Z"
   },
   {
    "duration": 4,
    "start_time": "2022-02-11T11:09:22.319Z"
   },
   {
    "duration": 5,
    "start_time": "2022-02-11T11:09:22.325Z"
   },
   {
    "duration": 4,
    "start_time": "2022-02-11T11:09:22.331Z"
   },
   {
    "duration": 36,
    "start_time": "2022-02-11T11:09:22.337Z"
   },
   {
    "duration": 5,
    "start_time": "2022-02-11T11:09:22.375Z"
   },
   {
    "duration": 6,
    "start_time": "2022-02-11T11:09:22.382Z"
   },
   {
    "duration": 12,
    "start_time": "2022-02-11T11:09:22.390Z"
   },
   {
    "duration": 10,
    "start_time": "2022-02-11T11:09:22.403Z"
   },
   {
    "duration": 72,
    "start_time": "2022-02-11T11:09:22.414Z"
   },
   {
    "duration": 5,
    "start_time": "2022-02-11T11:09:22.488Z"
   },
   {
    "duration": 10,
    "start_time": "2022-02-11T11:09:22.494Z"
   },
   {
    "duration": 8,
    "start_time": "2022-02-11T11:09:22.505Z"
   },
   {
    "duration": 8,
    "start_time": "2022-02-11T11:09:22.515Z"
   },
   {
    "duration": 10,
    "start_time": "2022-02-11T11:09:22.524Z"
   },
   {
    "duration": 38,
    "start_time": "2022-02-11T11:09:22.536Z"
   },
   {
    "duration": 16,
    "start_time": "2022-02-11T11:09:22.576Z"
   },
   {
    "duration": 14,
    "start_time": "2022-02-11T11:09:22.593Z"
   },
   {
    "duration": 9,
    "start_time": "2022-02-11T11:09:24.774Z"
   },
   {
    "duration": 57,
    "start_time": "2022-02-11T11:18:41.317Z"
   },
   {
    "duration": 3,
    "start_time": "2022-02-11T11:18:41.376Z"
   },
   {
    "duration": 17,
    "start_time": "2022-02-11T11:18:41.381Z"
   },
   {
    "duration": 13,
    "start_time": "2022-02-11T11:18:41.399Z"
   },
   {
    "duration": 10,
    "start_time": "2022-02-11T11:18:41.414Z"
   },
   {
    "duration": 22,
    "start_time": "2022-02-11T11:18:41.425Z"
   },
   {
    "duration": 23,
    "start_time": "2022-02-11T11:18:41.449Z"
   },
   {
    "duration": 12,
    "start_time": "2022-02-11T11:18:41.474Z"
   },
   {
    "duration": 16,
    "start_time": "2022-02-11T11:18:41.488Z"
   },
   {
    "duration": 9,
    "start_time": "2022-02-11T11:18:41.505Z"
   },
   {
    "duration": 12,
    "start_time": "2022-02-11T11:18:41.516Z"
   },
   {
    "duration": 11,
    "start_time": "2022-02-11T11:18:41.530Z"
   },
   {
    "duration": 67,
    "start_time": "2022-02-11T11:18:41.543Z"
   },
   {
    "duration": 7,
    "start_time": "2022-02-11T11:18:41.612Z"
   },
   {
    "duration": 30,
    "start_time": "2022-02-11T11:18:41.620Z"
   },
   {
    "duration": 22,
    "start_time": "2022-02-11T11:18:41.651Z"
   },
   {
    "duration": 7,
    "start_time": "2022-02-11T11:18:41.674Z"
   },
   {
    "duration": 11,
    "start_time": "2022-02-11T11:18:41.683Z"
   },
   {
    "duration": 5,
    "start_time": "2022-02-11T11:18:41.695Z"
   },
   {
    "duration": 16,
    "start_time": "2022-02-11T11:18:41.701Z"
   },
   {
    "duration": 15,
    "start_time": "2022-02-11T11:18:41.719Z"
   },
   {
    "duration": 7,
    "start_time": "2022-02-11T11:18:41.735Z"
   },
   {
    "duration": 11,
    "start_time": "2022-02-11T11:18:41.774Z"
   },
   {
    "duration": 11,
    "start_time": "2022-02-11T11:18:41.787Z"
   },
   {
    "duration": 40,
    "start_time": "2022-02-11T11:18:41.800Z"
   },
   {
    "duration": 68,
    "start_time": "2022-02-11T11:18:41.842Z"
   },
   {
    "duration": 616,
    "start_time": "2022-02-11T11:18:41.911Z"
   },
   {
    "duration": 2547,
    "start_time": "2022-02-11T11:18:42.529Z"
   },
   {
    "duration": 26,
    "start_time": "2022-02-11T11:18:45.078Z"
   },
   {
    "duration": 27,
    "start_time": "2022-02-11T11:18:45.106Z"
   },
   {
    "duration": 38,
    "start_time": "2022-02-11T11:18:45.135Z"
   },
   {
    "duration": 16,
    "start_time": "2022-02-11T11:18:45.175Z"
   },
   {
    "duration": 12,
    "start_time": "2022-02-11T11:18:45.192Z"
   },
   {
    "duration": 21,
    "start_time": "2022-02-11T11:18:45.206Z"
   },
   {
    "duration": 43,
    "start_time": "2022-02-11T11:18:45.229Z"
   },
   {
    "duration": 16,
    "start_time": "2022-02-11T11:18:45.274Z"
   },
   {
    "duration": 21,
    "start_time": "2022-02-11T11:18:45.291Z"
   },
   {
    "duration": 19,
    "start_time": "2022-02-11T11:18:45.314Z"
   },
   {
    "duration": 43,
    "start_time": "2022-02-11T11:18:45.334Z"
   },
   {
    "duration": 20,
    "start_time": "2022-02-11T11:18:45.378Z"
   },
   {
    "duration": 121,
    "start_time": "2022-02-11T11:29:24.252Z"
   },
   {
    "duration": 814,
    "start_time": "2022-02-11T14:50:46.568Z"
   },
   {
    "duration": 8,
    "start_time": "2022-02-11T14:50:47.385Z"
   },
   {
    "duration": 36,
    "start_time": "2022-02-11T14:50:47.397Z"
   },
   {
    "duration": 8,
    "start_time": "2022-02-11T14:50:47.437Z"
   },
   {
    "duration": 5,
    "start_time": "2022-02-11T14:50:47.447Z"
   },
   {
    "duration": 10,
    "start_time": "2022-02-11T14:50:47.454Z"
   },
   {
    "duration": 9,
    "start_time": "2022-02-11T14:50:47.466Z"
   },
   {
    "duration": 6,
    "start_time": "2022-02-11T14:50:47.480Z"
   },
   {
    "duration": 9,
    "start_time": "2022-02-11T14:50:47.534Z"
   },
   {
    "duration": 6,
    "start_time": "2022-02-11T14:50:47.546Z"
   },
   {
    "duration": 10,
    "start_time": "2022-02-11T14:50:47.555Z"
   },
   {
    "duration": 9,
    "start_time": "2022-02-11T14:50:47.567Z"
   },
   {
    "duration": 85,
    "start_time": "2022-02-11T14:50:47.633Z"
   },
   {
    "duration": 8,
    "start_time": "2022-02-11T14:50:47.732Z"
   },
   {
    "duration": 21,
    "start_time": "2022-02-11T14:50:47.742Z"
   },
   {
    "duration": 14,
    "start_time": "2022-02-11T14:50:47.765Z"
   },
   {
    "duration": 11,
    "start_time": "2022-02-11T14:50:47.781Z"
   },
   {
    "duration": 56,
    "start_time": "2022-02-11T14:50:47.794Z"
   },
   {
    "duration": 8,
    "start_time": "2022-02-11T14:50:47.852Z"
   },
   {
    "duration": 20,
    "start_time": "2022-02-11T14:50:47.862Z"
   },
   {
    "duration": 63,
    "start_time": "2022-02-11T14:50:47.884Z"
   },
   {
    "duration": 10,
    "start_time": "2022-02-11T14:50:47.949Z"
   },
   {
    "duration": 15,
    "start_time": "2022-02-11T14:50:47.964Z"
   },
   {
    "duration": 52,
    "start_time": "2022-02-11T14:50:47.982Z"
   },
   {
    "duration": 62,
    "start_time": "2022-02-11T14:50:48.036Z"
   },
   {
    "duration": 88,
    "start_time": "2022-02-11T14:50:48.100Z"
   },
   {
    "duration": 906,
    "start_time": "2022-02-11T14:50:48.190Z"
   },
   {
    "duration": 3900,
    "start_time": "2022-02-11T14:50:49.099Z"
   },
   {
    "duration": 60,
    "start_time": "2022-02-11T14:50:53.001Z"
   },
   {
    "duration": 45,
    "start_time": "2022-02-11T14:50:53.063Z"
   },
   {
    "duration": 42,
    "start_time": "2022-02-11T14:50:53.110Z"
   },
   {
    "duration": 22,
    "start_time": "2022-02-11T14:50:53.155Z"
   },
   {
    "duration": 52,
    "start_time": "2022-02-11T14:50:53.180Z"
   },
   {
    "duration": 35,
    "start_time": "2022-02-11T14:50:53.235Z"
   },
   {
    "duration": 25,
    "start_time": "2022-02-11T14:50:53.273Z"
   },
   {
    "duration": 58,
    "start_time": "2022-02-11T14:50:53.301Z"
   },
   {
    "duration": 40,
    "start_time": "2022-02-11T14:50:53.362Z"
   },
   {
    "duration": 57,
    "start_time": "2022-02-11T14:50:53.405Z"
   },
   {
    "duration": 34,
    "start_time": "2022-02-11T14:50:53.465Z"
   },
   {
    "duration": 62,
    "start_time": "2022-02-11T14:50:53.502Z"
   },
   {
    "duration": 824,
    "start_time": "2022-02-11T14:56:07.949Z"
   },
   {
    "duration": 5,
    "start_time": "2022-02-11T14:56:08.776Z"
   },
   {
    "duration": 9,
    "start_time": "2022-02-11T14:56:08.784Z"
   },
   {
    "duration": 11,
    "start_time": "2022-02-11T14:56:08.796Z"
   },
   {
    "duration": 23,
    "start_time": "2022-02-11T14:56:08.810Z"
   },
   {
    "duration": 8,
    "start_time": "2022-02-11T14:56:08.836Z"
   },
   {
    "duration": 5,
    "start_time": "2022-02-11T14:56:08.847Z"
   },
   {
    "duration": 7,
    "start_time": "2022-02-11T14:56:08.855Z"
   },
   {
    "duration": 11,
    "start_time": "2022-02-11T14:56:08.865Z"
   },
   {
    "duration": 5,
    "start_time": "2022-02-11T14:56:08.878Z"
   },
   {
    "duration": 7,
    "start_time": "2022-02-11T14:56:08.932Z"
   },
   {
    "duration": 7,
    "start_time": "2022-02-11T14:56:08.942Z"
   },
   {
    "duration": 32,
    "start_time": "2022-02-11T14:56:15.708Z"
   },
   {
    "duration": 19,
    "start_time": "2022-02-11T14:56:53.944Z"
   },
   {
    "duration": 12,
    "start_time": "2022-02-11T14:58:08.494Z"
   },
   {
    "duration": 85,
    "start_time": "2022-02-11T14:58:13.080Z"
   },
   {
    "duration": 21,
    "start_time": "2022-02-11T14:58:24.288Z"
   },
   {
    "duration": 10,
    "start_time": "2022-02-11T14:58:29.743Z"
   },
   {
    "duration": 19,
    "start_time": "2022-02-11T14:59:20.861Z"
   },
   {
    "duration": 33,
    "start_time": "2022-02-11T15:04:01.259Z"
   },
   {
    "duration": 10,
    "start_time": "2022-02-11T15:06:27.774Z"
   },
   {
    "duration": 18,
    "start_time": "2022-02-11T15:07:48.301Z"
   },
   {
    "duration": 13,
    "start_time": "2022-02-11T15:07:51.201Z"
   },
   {
    "duration": 13,
    "start_time": "2022-02-11T15:07:53.771Z"
   },
   {
    "duration": 20,
    "start_time": "2022-02-11T15:07:55.336Z"
   },
   {
    "duration": 11,
    "start_time": "2022-02-11T15:07:57.534Z"
   },
   {
    "duration": 21,
    "start_time": "2022-02-11T15:08:03.495Z"
   },
   {
    "duration": 28,
    "start_time": "2022-02-11T15:08:06.934Z"
   },
   {
    "duration": 880,
    "start_time": "2022-02-11T15:23:02.636Z"
   },
   {
    "duration": 14,
    "start_time": "2022-02-11T15:23:03.519Z"
   },
   {
    "duration": 26,
    "start_time": "2022-02-11T15:23:03.536Z"
   },
   {
    "duration": 29,
    "start_time": "2022-02-11T15:23:03.565Z"
   },
   {
    "duration": 21,
    "start_time": "2022-02-11T15:23:03.597Z"
   },
   {
    "duration": 22,
    "start_time": "2022-02-11T15:23:03.620Z"
   },
   {
    "duration": 26,
    "start_time": "2022-02-11T15:23:03.645Z"
   },
   {
    "duration": 13,
    "start_time": "2022-02-11T15:23:03.674Z"
   },
   {
    "duration": 24,
    "start_time": "2022-02-11T15:23:03.690Z"
   },
   {
    "duration": 18,
    "start_time": "2022-02-11T15:23:03.717Z"
   },
   {
    "duration": 45,
    "start_time": "2022-02-11T15:23:03.738Z"
   },
   {
    "duration": 19,
    "start_time": "2022-02-11T15:23:03.786Z"
   },
   {
    "duration": 118,
    "start_time": "2022-02-11T15:23:03.808Z"
   },
   {
    "duration": 9,
    "start_time": "2022-02-11T15:23:03.929Z"
   },
   {
    "duration": 32,
    "start_time": "2022-02-11T15:23:03.940Z"
   },
   {
    "duration": 20,
    "start_time": "2022-02-11T15:23:03.975Z"
   },
   {
    "duration": 16,
    "start_time": "2022-02-11T15:23:03.998Z"
   },
   {
    "duration": 30,
    "start_time": "2022-02-11T15:23:04.033Z"
   },
   {
    "duration": 9,
    "start_time": "2022-02-11T15:23:04.066Z"
   },
   {
    "duration": 36,
    "start_time": "2022-02-11T15:23:04.078Z"
   },
   {
    "duration": 41,
    "start_time": "2022-02-11T15:23:04.117Z"
   },
   {
    "duration": 10,
    "start_time": "2022-02-11T15:23:04.161Z"
   },
   {
    "duration": 29,
    "start_time": "2022-02-11T15:23:04.174Z"
   },
   {
    "duration": 44,
    "start_time": "2022-02-11T15:23:04.205Z"
   },
   {
    "duration": 84,
    "start_time": "2022-02-11T15:23:04.252Z"
   },
   {
    "duration": 72,
    "start_time": "2022-02-11T15:23:04.338Z"
   },
   {
    "duration": 927,
    "start_time": "2022-02-11T15:23:04.431Z"
   },
   {
    "duration": 3994,
    "start_time": "2022-02-11T15:23:05.361Z"
   },
   {
    "duration": 48,
    "start_time": "2022-02-11T15:23:09.358Z"
   },
   {
    "duration": 65,
    "start_time": "2022-02-11T15:23:09.409Z"
   },
   {
    "duration": 21,
    "start_time": "2022-02-11T15:23:09.476Z"
   },
   {
    "duration": 50,
    "start_time": "2022-02-11T15:23:09.500Z"
   },
   {
    "duration": 21,
    "start_time": "2022-02-11T15:23:09.553Z"
   },
   {
    "duration": 78,
    "start_time": "2022-02-11T15:23:09.577Z"
   },
   {
    "duration": 26,
    "start_time": "2022-02-11T15:23:09.658Z"
   },
   {
    "duration": 47,
    "start_time": "2022-02-11T15:23:09.687Z"
   },
   {
    "duration": 45,
    "start_time": "2022-02-11T15:23:09.737Z"
   },
   {
    "duration": 64,
    "start_time": "2022-02-11T15:23:09.785Z"
   },
   {
    "duration": 38,
    "start_time": "2022-02-11T15:23:09.852Z"
   },
   {
    "duration": 61,
    "start_time": "2022-02-11T15:23:09.892Z"
   },
   {
    "duration": 829,
    "start_time": "2022-02-11T15:31:25.752Z"
   },
   {
    "duration": 6,
    "start_time": "2022-02-11T15:31:26.583Z"
   },
   {
    "duration": 8,
    "start_time": "2022-02-11T15:31:26.592Z"
   },
   {
    "duration": 34,
    "start_time": "2022-02-11T15:31:26.603Z"
   },
   {
    "duration": 6,
    "start_time": "2022-02-11T15:31:26.639Z"
   },
   {
    "duration": 8,
    "start_time": "2022-02-11T15:31:26.647Z"
   },
   {
    "duration": 6,
    "start_time": "2022-02-11T15:31:26.657Z"
   },
   {
    "duration": 7,
    "start_time": "2022-02-11T15:31:26.667Z"
   },
   {
    "duration": 10,
    "start_time": "2022-02-11T15:31:26.677Z"
   },
   {
    "duration": 45,
    "start_time": "2022-02-11T15:31:26.689Z"
   },
   {
    "duration": 9,
    "start_time": "2022-02-11T15:31:26.736Z"
   },
   {
    "duration": 10,
    "start_time": "2022-02-11T15:31:26.747Z"
   },
   {
    "duration": 126,
    "start_time": "2022-02-11T15:31:26.760Z"
   },
   {
    "duration": 9,
    "start_time": "2022-02-11T15:31:26.889Z"
   },
   {
    "duration": 46,
    "start_time": "2022-02-11T15:31:26.901Z"
   },
   {
    "duration": 15,
    "start_time": "2022-02-11T15:31:26.949Z"
   },
   {
    "duration": 12,
    "start_time": "2022-02-11T15:31:26.967Z"
   },
   {
    "duration": 58,
    "start_time": "2022-02-11T15:31:26.983Z"
   },
   {
    "duration": 10,
    "start_time": "2022-02-11T15:31:27.044Z"
   },
   {
    "duration": 32,
    "start_time": "2022-02-11T15:31:27.056Z"
   },
   {
    "duration": 57,
    "start_time": "2022-02-11T15:31:27.091Z"
   },
   {
    "duration": 12,
    "start_time": "2022-02-11T15:31:27.150Z"
   },
   {
    "duration": 15,
    "start_time": "2022-02-11T15:31:27.167Z"
   },
   {
    "duration": 54,
    "start_time": "2022-02-11T15:31:27.185Z"
   },
   {
    "duration": 97,
    "start_time": "2022-02-11T15:31:27.242Z"
   },
   {
    "duration": 62,
    "start_time": "2022-02-11T15:31:27.341Z"
   },
   {
    "duration": 956,
    "start_time": "2022-02-11T15:31:27.405Z"
   },
   {
    "duration": 3919,
    "start_time": "2022-02-11T15:31:28.364Z"
   },
   {
    "duration": 56,
    "start_time": "2022-02-11T15:31:32.286Z"
   },
   {
    "duration": 43,
    "start_time": "2022-02-11T15:31:32.344Z"
   },
   {
    "duration": 44,
    "start_time": "2022-02-11T15:31:32.389Z"
   },
   {
    "duration": 20,
    "start_time": "2022-02-11T15:31:32.435Z"
   },
   {
    "duration": 21,
    "start_time": "2022-02-11T15:31:32.457Z"
   },
   {
    "duration": 64,
    "start_time": "2022-02-11T15:31:32.481Z"
   },
   {
    "duration": 26,
    "start_time": "2022-02-11T15:31:32.547Z"
   },
   {
    "duration": 28,
    "start_time": "2022-02-11T15:31:32.575Z"
   },
   {
    "duration": 38,
    "start_time": "2022-02-11T15:31:32.632Z"
   },
   {
    "duration": 33,
    "start_time": "2022-02-11T15:31:32.672Z"
   },
   {
    "duration": 36,
    "start_time": "2022-02-11T15:31:32.732Z"
   },
   {
    "duration": 85,
    "start_time": "2022-02-11T15:31:32.771Z"
   }
  ],
  "kernelspec": {
   "display_name": "Python 3 (ipykernel)",
   "language": "python",
   "name": "python3"
  },
  "language_info": {
   "codemirror_mode": {
    "name": "ipython",
    "version": 3
   },
   "file_extension": ".py",
   "mimetype": "text/x-python",
   "name": "python",
   "nbconvert_exporter": "python",
   "pygments_lexer": "ipython3",
   "version": "3.9.12"
  },
  "toc": {
   "base_numbering": 1,
   "nav_menu": {},
   "number_sections": true,
   "sideBar": true,
   "skip_h1_title": true,
   "title_cell": "Table of Contents",
   "title_sidebar": "Contents",
   "toc_cell": false,
   "toc_position": {},
   "toc_section_display": true,
   "toc_window_display": false
  }
 },
 "nbformat": 4,
 "nbformat_minor": 2
}
