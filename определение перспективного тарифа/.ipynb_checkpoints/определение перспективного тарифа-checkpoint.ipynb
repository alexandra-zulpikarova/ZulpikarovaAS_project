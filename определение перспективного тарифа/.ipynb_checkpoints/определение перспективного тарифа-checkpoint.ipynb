{
 "cells": [
  {
   "cell_type": "markdown",
   "metadata": {},
   "source": [
    "<h1>Содержание<span class=\"tocSkip\"></span></h1>\n",
    "<div class=\"toc\"><ul class=\"toc-item\"><li><span><a href=\"#Изучение-данных-из-файла\" data-toc-modified-id=\"Изучение-данных-из-файла-1\"><span class=\"toc-item-num\">1&nbsp;&nbsp;</span>Изучение данных из файла</a></span></li><li><span><a href=\"#Предобработка-данных\" data-toc-modified-id=\"Предобработка-данных-2\"><span class=\"toc-item-num\">2&nbsp;&nbsp;</span>Предобработка данных</a></span><ul class=\"toc-item\"><li><span><a href=\"#Проверка-на-наличие-дубликатов\" data-toc-modified-id=\"Проверка-на-наличие-дубликатов-2.1\"><span class=\"toc-item-num\">2.1&nbsp;&nbsp;</span>Проверка на наличие дубликатов</a></span></li><li><span><a href=\"#Замена-типа-данных\" data-toc-modified-id=\"Замена-типа-данных-2.2\"><span class=\"toc-item-num\">2.2&nbsp;&nbsp;</span>Замена типа данных</a></span></li></ul></li><li><span><a href=\"#Расчеты-и-добавление-результатов\" data-toc-modified-id=\"Расчеты-и-добавление-результатов-3\"><span class=\"toc-item-num\">3&nbsp;&nbsp;</span>Расчеты и добавление результатов</a></span></li><li><span><a href=\"#Исследовательский-анализ-данных\" data-toc-modified-id=\"Исследовательский-анализ-данных-4\"><span class=\"toc-item-num\">4&nbsp;&nbsp;</span>Исследовательский анализ данных</a></span></li><li><span><a href=\"#Проверка-гипотез\" data-toc-modified-id=\"Проверка-гипотез-5\"><span class=\"toc-item-num\">5&nbsp;&nbsp;</span>Проверка гипотез</a></span><ul class=\"toc-item\"><li><span><a href=\"#Средняя-выручка-пользователей-тарифов-&quot;Ультра&quot;-и-&quot;Смарт&quot;-различаются\" data-toc-modified-id=\"Средняя-выручка-пользователей-тарифов-&quot;Ультра&quot;-и-&quot;Смарт&quot;-различаются-5.1\"><span class=\"toc-item-num\">5.1&nbsp;&nbsp;</span>Средняя выручка пользователей тарифов \"Ультра\" и \"Смарт\" различаются</a></span></li><li><span><a href=\"#Средняя-выручка-пользователей-из-Москвы-отличается-от-выручки-пользователей-из-других-регионов\" data-toc-modified-id=\"Средняя-выручка-пользователей-из-Москвы-отличается-от-выручки-пользователей-из-других-регионов-5.2\"><span class=\"toc-item-num\">5.2&nbsp;&nbsp;</span>Средняя выручка пользователей из Москвы отличается от выручки пользователей из других регионов</a></span></li></ul></li><li><span><a href=\"#Общий-вывод\" data-toc-modified-id=\"Общий-вывод-6\"><span class=\"toc-item-num\">6&nbsp;&nbsp;</span>Общий вывод</a></span></li></ul></div>"
   ]
  },
  {
   "cell_type": "markdown",
   "metadata": {},
   "source": [
    "# Определение перспективного тарифа для телеком-компании\n",
    "\n",
    " Компания «Мегалайн» — федеральный оператор сотовой связи. Клиентам предлагают два тарифных плана: «Смарт» и «Ультра». Чтобы скорректировать рекламный бюджет, коммерческий департамент хочет понять, какой тариф приносит больше денег.\n",
    "Необходимо сделать предварительный анализ тарифов на небольшой выборке клиентов. В распоряжении данные 500 пользователей «Мегалайна»: кто они, откуда, каким тарифом пользуются, сколько звонков и сообщений каждый отправил за 2018 год. Нужно проанализировать поведение клиентов и сделать вывод — какой тариф лучше. "
   ]
  },
  {
   "cell_type": "markdown",
   "metadata": {},
   "source": [
    "## Изучение данных из файла"
   ]
  },
  {
   "cell_type": "code",
   "execution_count": 1,
   "metadata": {},
   "outputs": [],
   "source": [
    "# импорт библиотек \n",
    "import pandas as pd \n",
    "import seaborn as sns\n",
    "import matplotlib.pyplot as plt\n",
    "import numpy as np\n",
    "from scipy import stats as st"
   ]
  },
  {
   "cell_type": "code",
   "execution_count": 3,
   "metadata": {},
   "outputs": [
    {
     "data": {
      "text/html": [
       "<div>\n",
       "<style scoped>\n",
       "    .dataframe tbody tr th:only-of-type {\n",
       "        vertical-align: middle;\n",
       "    }\n",
       "\n",
       "    .dataframe tbody tr th {\n",
       "        vertical-align: top;\n",
       "    }\n",
       "\n",
       "    .dataframe thead th {\n",
       "        text-align: right;\n",
       "    }\n",
       "</style>\n",
       "<table border=\"1\" class=\"dataframe\">\n",
       "  <thead>\n",
       "    <tr style=\"text-align: right;\">\n",
       "      <th></th>\n",
       "      <th>id</th>\n",
       "      <th>call_date</th>\n",
       "      <th>duration</th>\n",
       "      <th>user_id</th>\n",
       "    </tr>\n",
       "  </thead>\n",
       "  <tbody>\n",
       "    <tr>\n",
       "      <th>0</th>\n",
       "      <td>1000_0</td>\n",
       "      <td>2018-07-25</td>\n",
       "      <td>0.00</td>\n",
       "      <td>1000</td>\n",
       "    </tr>\n",
       "    <tr>\n",
       "      <th>1</th>\n",
       "      <td>1000_1</td>\n",
       "      <td>2018-08-17</td>\n",
       "      <td>0.00</td>\n",
       "      <td>1000</td>\n",
       "    </tr>\n",
       "    <tr>\n",
       "      <th>2</th>\n",
       "      <td>1000_2</td>\n",
       "      <td>2018-06-11</td>\n",
       "      <td>2.85</td>\n",
       "      <td>1000</td>\n",
       "    </tr>\n",
       "    <tr>\n",
       "      <th>3</th>\n",
       "      <td>1000_3</td>\n",
       "      <td>2018-09-21</td>\n",
       "      <td>13.80</td>\n",
       "      <td>1000</td>\n",
       "    </tr>\n",
       "    <tr>\n",
       "      <th>4</th>\n",
       "      <td>1000_4</td>\n",
       "      <td>2018-12-15</td>\n",
       "      <td>5.18</td>\n",
       "      <td>1000</td>\n",
       "    </tr>\n",
       "    <tr>\n",
       "      <th>5</th>\n",
       "      <td>1000_5</td>\n",
       "      <td>2018-11-02</td>\n",
       "      <td>0.00</td>\n",
       "      <td>1000</td>\n",
       "    </tr>\n",
       "    <tr>\n",
       "      <th>6</th>\n",
       "      <td>1000_6</td>\n",
       "      <td>2018-10-18</td>\n",
       "      <td>0.00</td>\n",
       "      <td>1000</td>\n",
       "    </tr>\n",
       "    <tr>\n",
       "      <th>7</th>\n",
       "      <td>1000_7</td>\n",
       "      <td>2018-08-22</td>\n",
       "      <td>18.31</td>\n",
       "      <td>1000</td>\n",
       "    </tr>\n",
       "    <tr>\n",
       "      <th>8</th>\n",
       "      <td>1000_8</td>\n",
       "      <td>2018-09-15</td>\n",
       "      <td>18.44</td>\n",
       "      <td>1000</td>\n",
       "    </tr>\n",
       "    <tr>\n",
       "      <th>9</th>\n",
       "      <td>1000_9</td>\n",
       "      <td>2018-08-15</td>\n",
       "      <td>0.00</td>\n",
       "      <td>1000</td>\n",
       "    </tr>\n",
       "  </tbody>\n",
       "</table>\n",
       "</div>"
      ],
      "text/plain": [
       "       id   call_date  duration  user_id\n",
       "0  1000_0  2018-07-25      0.00     1000\n",
       "1  1000_1  2018-08-17      0.00     1000\n",
       "2  1000_2  2018-06-11      2.85     1000\n",
       "3  1000_3  2018-09-21     13.80     1000\n",
       "4  1000_4  2018-12-15      5.18     1000\n",
       "5  1000_5  2018-11-02      0.00     1000\n",
       "6  1000_6  2018-10-18      0.00     1000\n",
       "7  1000_7  2018-08-22     18.31     1000\n",
       "8  1000_8  2018-09-15     18.44     1000\n",
       "9  1000_9  2018-08-15      0.00     1000"
      ]
     },
     "metadata": {},
     "output_type": "display_data"
    },
    {
     "name": "stdout",
     "output_type": "stream",
     "text": [
      "<class 'pandas.core.frame.DataFrame'>\n",
      "RangeIndex: 202607 entries, 0 to 202606\n",
      "Data columns (total 4 columns):\n",
      " #   Column     Non-Null Count   Dtype  \n",
      "---  ------     --------------   -----  \n",
      " 0   id         202607 non-null  object \n",
      " 1   call_date  202607 non-null  object \n",
      " 2   duration   202607 non-null  float64\n",
      " 3   user_id    202607 non-null  int64  \n",
      "dtypes: float64(1), int64(1), object(2)\n",
      "memory usage: 6.2+ MB\n"
     ]
    },
    {
     "data": {
      "text/plain": [
       "None"
      ]
     },
     "metadata": {},
     "output_type": "display_data"
    },
    {
     "data": {
      "text/html": [
       "<div>\n",
       "<style scoped>\n",
       "    .dataframe tbody tr th:only-of-type {\n",
       "        vertical-align: middle;\n",
       "    }\n",
       "\n",
       "    .dataframe tbody tr th {\n",
       "        vertical-align: top;\n",
       "    }\n",
       "\n",
       "    .dataframe thead th {\n",
       "        text-align: right;\n",
       "    }\n",
       "</style>\n",
       "<table border=\"1\" class=\"dataframe\">\n",
       "  <thead>\n",
       "    <tr style=\"text-align: right;\">\n",
       "      <th></th>\n",
       "      <th>duration</th>\n",
       "      <th>user_id</th>\n",
       "    </tr>\n",
       "  </thead>\n",
       "  <tbody>\n",
       "    <tr>\n",
       "      <th>count</th>\n",
       "      <td>202607.000000</td>\n",
       "      <td>202607.000000</td>\n",
       "    </tr>\n",
       "    <tr>\n",
       "      <th>mean</th>\n",
       "      <td>6.755887</td>\n",
       "      <td>1253.940619</td>\n",
       "    </tr>\n",
       "    <tr>\n",
       "      <th>std</th>\n",
       "      <td>5.843365</td>\n",
       "      <td>144.722751</td>\n",
       "    </tr>\n",
       "    <tr>\n",
       "      <th>min</th>\n",
       "      <td>0.000000</td>\n",
       "      <td>1000.000000</td>\n",
       "    </tr>\n",
       "    <tr>\n",
       "      <th>25%</th>\n",
       "      <td>1.300000</td>\n",
       "      <td>1126.000000</td>\n",
       "    </tr>\n",
       "    <tr>\n",
       "      <th>50%</th>\n",
       "      <td>6.000000</td>\n",
       "      <td>1260.000000</td>\n",
       "    </tr>\n",
       "    <tr>\n",
       "      <th>75%</th>\n",
       "      <td>10.700000</td>\n",
       "      <td>1379.000000</td>\n",
       "    </tr>\n",
       "    <tr>\n",
       "      <th>max</th>\n",
       "      <td>38.000000</td>\n",
       "      <td>1499.000000</td>\n",
       "    </tr>\n",
       "  </tbody>\n",
       "</table>\n",
       "</div>"
      ],
      "text/plain": [
       "            duration        user_id\n",
       "count  202607.000000  202607.000000\n",
       "mean        6.755887    1253.940619\n",
       "std         5.843365     144.722751\n",
       "min         0.000000    1000.000000\n",
       "25%         1.300000    1126.000000\n",
       "50%         6.000000    1260.000000\n",
       "75%        10.700000    1379.000000\n",
       "max        38.000000    1499.000000"
      ]
     },
     "execution_count": 3,
     "metadata": {},
     "output_type": "execute_result"
    }
   ],
   "source": [
    "# прочитаем датасет c информацией о звонках и выведем первые 10 строк таблицы \n",
    "calls = pd.read_csv('/Users/aleksandrakiseleva/Desktop/проекты/определение перспективного тарифа/calls.csv')\n",
    "display(calls.head(10))\n",
    "# получение общей информации о данных датасета\n",
    "display(calls.info())\n",
    "#получим статистическую информацию о данных\n",
    "calls.describe()"
   ]
  },
  {
   "cell_type": "markdown",
   "metadata": {},
   "source": [
    "Согласно документации к данным:\n",
    "* `id` — уникальный номер звонка\n",
    "* `call_date` — дата звонка\n",
    "* `duration` — длительность звонка в минутах\n",
    "* `user_id` — идентификатор пользователя, сделавшего звонок \n",
    "\n",
    "В датасете 202607 записи, пропусков нет. В столбце `duration` есть нулевые значения , которые обозначают пропущенные звонки.Удалять их не будем.\n",
    "\n",
    "Также в соответствии с политикой мобильного оператора все секунды округляются до минут , что позволяет нам поменять тип данных в `duration` с вещественного на целочисленный после округления. \n",
    "\n",
    "Тип данных столбца `call_date` также необходимо привести к  в специальному формату для хранения даты и времени - datetime."
   ]
  },
  {
   "cell_type": "code",
   "execution_count": 4,
   "metadata": {
    "scrolled": false
   },
   "outputs": [
    {
     "data": {
      "text/html": [
       "<div>\n",
       "<style scoped>\n",
       "    .dataframe tbody tr th:only-of-type {\n",
       "        vertical-align: middle;\n",
       "    }\n",
       "\n",
       "    .dataframe tbody tr th {\n",
       "        vertical-align: top;\n",
       "    }\n",
       "\n",
       "    .dataframe thead th {\n",
       "        text-align: right;\n",
       "    }\n",
       "</style>\n",
       "<table border=\"1\" class=\"dataframe\">\n",
       "  <thead>\n",
       "    <tr style=\"text-align: right;\">\n",
       "      <th></th>\n",
       "      <th>id</th>\n",
       "      <th>mb_used</th>\n",
       "      <th>session_date</th>\n",
       "      <th>user_id</th>\n",
       "    </tr>\n",
       "  </thead>\n",
       "  <tbody>\n",
       "    <tr>\n",
       "      <th>0</th>\n",
       "      <td>1000_0</td>\n",
       "      <td>112.95</td>\n",
       "      <td>2018-11-25</td>\n",
       "      <td>1000</td>\n",
       "    </tr>\n",
       "    <tr>\n",
       "      <th>1</th>\n",
       "      <td>1000_1</td>\n",
       "      <td>1052.81</td>\n",
       "      <td>2018-09-07</td>\n",
       "      <td>1000</td>\n",
       "    </tr>\n",
       "    <tr>\n",
       "      <th>2</th>\n",
       "      <td>1000_2</td>\n",
       "      <td>1197.26</td>\n",
       "      <td>2018-06-25</td>\n",
       "      <td>1000</td>\n",
       "    </tr>\n",
       "    <tr>\n",
       "      <th>3</th>\n",
       "      <td>1000_3</td>\n",
       "      <td>550.27</td>\n",
       "      <td>2018-08-22</td>\n",
       "      <td>1000</td>\n",
       "    </tr>\n",
       "    <tr>\n",
       "      <th>4</th>\n",
       "      <td>1000_4</td>\n",
       "      <td>302.56</td>\n",
       "      <td>2018-09-24</td>\n",
       "      <td>1000</td>\n",
       "    </tr>\n",
       "    <tr>\n",
       "      <th>5</th>\n",
       "      <td>1000_5</td>\n",
       "      <td>399.97</td>\n",
       "      <td>2018-10-02</td>\n",
       "      <td>1000</td>\n",
       "    </tr>\n",
       "    <tr>\n",
       "      <th>6</th>\n",
       "      <td>1000_6</td>\n",
       "      <td>540.08</td>\n",
       "      <td>2018-09-07</td>\n",
       "      <td>1000</td>\n",
       "    </tr>\n",
       "    <tr>\n",
       "      <th>7</th>\n",
       "      <td>1000_7</td>\n",
       "      <td>415.70</td>\n",
       "      <td>2018-07-11</td>\n",
       "      <td>1000</td>\n",
       "    </tr>\n",
       "    <tr>\n",
       "      <th>8</th>\n",
       "      <td>1000_8</td>\n",
       "      <td>505.40</td>\n",
       "      <td>2018-10-08</td>\n",
       "      <td>1000</td>\n",
       "    </tr>\n",
       "    <tr>\n",
       "      <th>9</th>\n",
       "      <td>1000_9</td>\n",
       "      <td>345.54</td>\n",
       "      <td>2018-09-03</td>\n",
       "      <td>1000</td>\n",
       "    </tr>\n",
       "  </tbody>\n",
       "</table>\n",
       "</div>"
      ],
      "text/plain": [
       "       id  mb_used session_date  user_id\n",
       "0  1000_0   112.95   2018-11-25     1000\n",
       "1  1000_1  1052.81   2018-09-07     1000\n",
       "2  1000_2  1197.26   2018-06-25     1000\n",
       "3  1000_3   550.27   2018-08-22     1000\n",
       "4  1000_4   302.56   2018-09-24     1000\n",
       "5  1000_5   399.97   2018-10-02     1000\n",
       "6  1000_6   540.08   2018-09-07     1000\n",
       "7  1000_7   415.70   2018-07-11     1000\n",
       "8  1000_8   505.40   2018-10-08     1000\n",
       "9  1000_9   345.54   2018-09-03     1000"
      ]
     },
     "metadata": {},
     "output_type": "display_data"
    },
    {
     "name": "stdout",
     "output_type": "stream",
     "text": [
      "<class 'pandas.core.frame.DataFrame'>\n",
      "Int64Index: 149396 entries, 0 to 149395\n",
      "Data columns (total 4 columns):\n",
      " #   Column        Non-Null Count   Dtype  \n",
      "---  ------        --------------   -----  \n",
      " 0   id            149396 non-null  object \n",
      " 1   mb_used       149396 non-null  float64\n",
      " 2   session_date  149396 non-null  object \n",
      " 3   user_id       149396 non-null  int64  \n",
      "dtypes: float64(1), int64(1), object(2)\n",
      "memory usage: 5.7+ MB\n"
     ]
    },
    {
     "data": {
      "text/plain": [
       "None"
      ]
     },
     "metadata": {},
     "output_type": "display_data"
    },
    {
     "data": {
      "text/html": [
       "<div>\n",
       "<style scoped>\n",
       "    .dataframe tbody tr th:only-of-type {\n",
       "        vertical-align: middle;\n",
       "    }\n",
       "\n",
       "    .dataframe tbody tr th {\n",
       "        vertical-align: top;\n",
       "    }\n",
       "\n",
       "    .dataframe thead th {\n",
       "        text-align: right;\n",
       "    }\n",
       "</style>\n",
       "<table border=\"1\" class=\"dataframe\">\n",
       "  <thead>\n",
       "    <tr style=\"text-align: right;\">\n",
       "      <th></th>\n",
       "      <th>mb_used</th>\n",
       "      <th>user_id</th>\n",
       "    </tr>\n",
       "  </thead>\n",
       "  <tbody>\n",
       "    <tr>\n",
       "      <th>count</th>\n",
       "      <td>149396.000000</td>\n",
       "      <td>149396.000000</td>\n",
       "    </tr>\n",
       "    <tr>\n",
       "      <th>mean</th>\n",
       "      <td>370.192426</td>\n",
       "      <td>1252.099842</td>\n",
       "    </tr>\n",
       "    <tr>\n",
       "      <th>std</th>\n",
       "      <td>278.300951</td>\n",
       "      <td>144.050823</td>\n",
       "    </tr>\n",
       "    <tr>\n",
       "      <th>min</th>\n",
       "      <td>0.000000</td>\n",
       "      <td>1000.000000</td>\n",
       "    </tr>\n",
       "    <tr>\n",
       "      <th>25%</th>\n",
       "      <td>138.187500</td>\n",
       "      <td>1130.000000</td>\n",
       "    </tr>\n",
       "    <tr>\n",
       "      <th>50%</th>\n",
       "      <td>348.015000</td>\n",
       "      <td>1251.000000</td>\n",
       "    </tr>\n",
       "    <tr>\n",
       "      <th>75%</th>\n",
       "      <td>559.552500</td>\n",
       "      <td>1380.000000</td>\n",
       "    </tr>\n",
       "    <tr>\n",
       "      <th>max</th>\n",
       "      <td>1724.830000</td>\n",
       "      <td>1499.000000</td>\n",
       "    </tr>\n",
       "  </tbody>\n",
       "</table>\n",
       "</div>"
      ],
      "text/plain": [
       "             mb_used        user_id\n",
       "count  149396.000000  149396.000000\n",
       "mean      370.192426    1252.099842\n",
       "std       278.300951     144.050823\n",
       "min         0.000000    1000.000000\n",
       "25%       138.187500    1130.000000\n",
       "50%       348.015000    1251.000000\n",
       "75%       559.552500    1380.000000\n",
       "max      1724.830000    1499.000000"
      ]
     },
     "execution_count": 4,
     "metadata": {},
     "output_type": "execute_result"
    }
   ],
   "source": [
    "# прочитаем датасет с информацией об интернет-сессиях  и выведем первые 10 строк таблицы \n",
    "internet = pd.read_csv('/Users/aleksandrakiseleva/Desktop/проекты/определение перспективного тарифа/internet.csv',index_col=0)\n",
    "display(internet.head(10))\n",
    "# получение общей информации о данных датасета\n",
    "display(internet.info())\n",
    "#получим статистическую информацию о данных\n",
    "internet.describe()"
   ]
  },
  {
   "cell_type": "markdown",
   "metadata": {},
   "source": [
    "Согласно документации к данным:\n",
    "* `id` — уникальный номер сессии\n",
    "* `mb_used` — объём потраченного за сессию интернет-трафика (в мегабайтах)\n",
    "* `session_date` — дата интернет-сессии\n",
    "* `user_id` — идентификатор пользователя\n",
    "\n",
    "В датасете 149396 записей, пропусков нет. \n",
    "\n",
    "В соответствии с внутренней политикой «Мегалайн» всегда округляет  мегабайты — до гигабайт и для веб-трафика отдельные сессии не считаются. Вместо этого общая сумма за месяц округляется в бо́льшую сторону. В дальнейшем после агрегирования данных по месяцам возможно будет поменять тип `mb_used` с float64 на int32 для оптимизации работы с таблицей и экономии памяти.\n",
    "\n",
    "Тип данных столбца `session_date` также необходимо привести к  в специальному формату для хранения даты и времени - datetime."
   ]
  },
  {
   "cell_type": "code",
   "execution_count": 5,
   "metadata": {},
   "outputs": [
    {
     "data": {
      "text/html": [
       "<div>\n",
       "<style scoped>\n",
       "    .dataframe tbody tr th:only-of-type {\n",
       "        vertical-align: middle;\n",
       "    }\n",
       "\n",
       "    .dataframe tbody tr th {\n",
       "        vertical-align: top;\n",
       "    }\n",
       "\n",
       "    .dataframe thead th {\n",
       "        text-align: right;\n",
       "    }\n",
       "</style>\n",
       "<table border=\"1\" class=\"dataframe\">\n",
       "  <thead>\n",
       "    <tr style=\"text-align: right;\">\n",
       "      <th></th>\n",
       "      <th>id</th>\n",
       "      <th>message_date</th>\n",
       "      <th>user_id</th>\n",
       "    </tr>\n",
       "  </thead>\n",
       "  <tbody>\n",
       "    <tr>\n",
       "      <th>0</th>\n",
       "      <td>1000_0</td>\n",
       "      <td>2018-06-27</td>\n",
       "      <td>1000</td>\n",
       "    </tr>\n",
       "    <tr>\n",
       "      <th>1</th>\n",
       "      <td>1000_1</td>\n",
       "      <td>2018-10-08</td>\n",
       "      <td>1000</td>\n",
       "    </tr>\n",
       "    <tr>\n",
       "      <th>2</th>\n",
       "      <td>1000_2</td>\n",
       "      <td>2018-08-04</td>\n",
       "      <td>1000</td>\n",
       "    </tr>\n",
       "    <tr>\n",
       "      <th>3</th>\n",
       "      <td>1000_3</td>\n",
       "      <td>2018-06-16</td>\n",
       "      <td>1000</td>\n",
       "    </tr>\n",
       "    <tr>\n",
       "      <th>4</th>\n",
       "      <td>1000_4</td>\n",
       "      <td>2018-12-05</td>\n",
       "      <td>1000</td>\n",
       "    </tr>\n",
       "    <tr>\n",
       "      <th>5</th>\n",
       "      <td>1000_5</td>\n",
       "      <td>2018-06-20</td>\n",
       "      <td>1000</td>\n",
       "    </tr>\n",
       "    <tr>\n",
       "      <th>6</th>\n",
       "      <td>1000_6</td>\n",
       "      <td>2018-11-19</td>\n",
       "      <td>1000</td>\n",
       "    </tr>\n",
       "    <tr>\n",
       "      <th>7</th>\n",
       "      <td>1000_7</td>\n",
       "      <td>2018-10-29</td>\n",
       "      <td>1000</td>\n",
       "    </tr>\n",
       "    <tr>\n",
       "      <th>8</th>\n",
       "      <td>1000_8</td>\n",
       "      <td>2018-06-25</td>\n",
       "      <td>1000</td>\n",
       "    </tr>\n",
       "    <tr>\n",
       "      <th>9</th>\n",
       "      <td>1000_9</td>\n",
       "      <td>2018-12-18</td>\n",
       "      <td>1000</td>\n",
       "    </tr>\n",
       "  </tbody>\n",
       "</table>\n",
       "</div>"
      ],
      "text/plain": [
       "       id message_date  user_id\n",
       "0  1000_0   2018-06-27     1000\n",
       "1  1000_1   2018-10-08     1000\n",
       "2  1000_2   2018-08-04     1000\n",
       "3  1000_3   2018-06-16     1000\n",
       "4  1000_4   2018-12-05     1000\n",
       "5  1000_5   2018-06-20     1000\n",
       "6  1000_6   2018-11-19     1000\n",
       "7  1000_7   2018-10-29     1000\n",
       "8  1000_8   2018-06-25     1000\n",
       "9  1000_9   2018-12-18     1000"
      ]
     },
     "metadata": {},
     "output_type": "display_data"
    },
    {
     "name": "stdout",
     "output_type": "stream",
     "text": [
      "<class 'pandas.core.frame.DataFrame'>\n",
      "RangeIndex: 123036 entries, 0 to 123035\n",
      "Data columns (total 3 columns):\n",
      " #   Column        Non-Null Count   Dtype \n",
      "---  ------        --------------   ----- \n",
      " 0   id            123036 non-null  object\n",
      " 1   message_date  123036 non-null  object\n",
      " 2   user_id       123036 non-null  int64 \n",
      "dtypes: int64(1), object(2)\n",
      "memory usage: 2.8+ MB\n"
     ]
    }
   ],
   "source": [
    "# прочитаем датасет с информацией о сообщениях и выведем первые 10 строк таблицы \n",
    "messages = pd.read_csv('/Users/aleksandrakiseleva/Desktop/проекты/определение перспективного тарифа/messages.csv')\n",
    "display(messages.head(10))\n",
    "# получение общей информации о данных датасета\n",
    "messages.info()"
   ]
  },
  {
   "cell_type": "markdown",
   "metadata": {},
   "source": [
    "Согласно документации к данным:\n",
    "* `id` — уникальный номер сообщения\n",
    "* `message_date` — дата сообщения\n",
    "* `user_id` — идентификатор пользователя, отправившего сообщение\n",
    "\n",
    "В датасете 123036 записей, пропусков нет. \n",
    "\n",
    "Тип данных столбца `message_date`  необходимо привести к  в специальному формату для хранения даты и времени - datetime."
   ]
  },
  {
   "cell_type": "code",
   "execution_count": 6,
   "metadata": {},
   "outputs": [
    {
     "data": {
      "text/html": [
       "<div>\n",
       "<style scoped>\n",
       "    .dataframe tbody tr th:only-of-type {\n",
       "        vertical-align: middle;\n",
       "    }\n",
       "\n",
       "    .dataframe tbody tr th {\n",
       "        vertical-align: top;\n",
       "    }\n",
       "\n",
       "    .dataframe thead th {\n",
       "        text-align: right;\n",
       "    }\n",
       "</style>\n",
       "<table border=\"1\" class=\"dataframe\">\n",
       "  <thead>\n",
       "    <tr style=\"text-align: right;\">\n",
       "      <th></th>\n",
       "      <th>messages_included</th>\n",
       "      <th>mb_per_month_included</th>\n",
       "      <th>minutes_included</th>\n",
       "      <th>rub_monthly_fee</th>\n",
       "      <th>rub_per_gb</th>\n",
       "      <th>rub_per_message</th>\n",
       "      <th>rub_per_minute</th>\n",
       "      <th>tariff_name</th>\n",
       "    </tr>\n",
       "  </thead>\n",
       "  <tbody>\n",
       "    <tr>\n",
       "      <th>0</th>\n",
       "      <td>50</td>\n",
       "      <td>15360</td>\n",
       "      <td>500</td>\n",
       "      <td>550</td>\n",
       "      <td>200</td>\n",
       "      <td>3</td>\n",
       "      <td>3</td>\n",
       "      <td>smart</td>\n",
       "    </tr>\n",
       "    <tr>\n",
       "      <th>1</th>\n",
       "      <td>1000</td>\n",
       "      <td>30720</td>\n",
       "      <td>3000</td>\n",
       "      <td>1950</td>\n",
       "      <td>150</td>\n",
       "      <td>1</td>\n",
       "      <td>1</td>\n",
       "      <td>ultra</td>\n",
       "    </tr>\n",
       "  </tbody>\n",
       "</table>\n",
       "</div>"
      ],
      "text/plain": [
       "   messages_included  mb_per_month_included  minutes_included  \\\n",
       "0                 50                  15360               500   \n",
       "1               1000                  30720              3000   \n",
       "\n",
       "   rub_monthly_fee  rub_per_gb  rub_per_message  rub_per_minute tariff_name  \n",
       "0              550         200                3               3       smart  \n",
       "1             1950         150                1               1       ultra  "
      ]
     },
     "metadata": {},
     "output_type": "display_data"
    },
    {
     "data": {
      "text/plain": [
       "messages_included         int64\n",
       "mb_per_month_included     int64\n",
       "minutes_included          int64\n",
       "rub_monthly_fee           int64\n",
       "rub_per_gb                int64\n",
       "rub_per_message           int64\n",
       "rub_per_minute            int64\n",
       "tariff_name              object\n",
       "dtype: object"
      ]
     },
     "execution_count": 6,
     "metadata": {},
     "output_type": "execute_result"
    }
   ],
   "source": [
    "# прочитаем  и выведем датасет\n",
    "tariffs = pd.read_csv('/Users/aleksandrakiseleva/Desktop/проекты/определение перспективного тарифа/tariffs.csv')\n",
    "display(tariffs.head())\n",
    "# получение общей информации о данных датасета\n",
    "tariffs.dtypes"
   ]
  },
  {
   "cell_type": "markdown",
   "metadata": {},
   "source": [
    "Согласно документации к данным:\n",
    "* `messages_included` — количество сообщений в месяц, включённых в абонентскую плату\n",
    "* `mb_per_month_included` — объём интернет-трафика, включённого в абонентскую плату (в мегабайтах)\n",
    "* `minutes_included` — количество минут разговора в месяц, включённых в абонентскую плату\n",
    "* `rub_monthly_fee` — ежемесячная абонентская плата в рублях\n",
    "* `rub_per_gb` — стоимость дополнительного гигабайта интернет-трафика сверх тарифного пакета (1 гигабайт = 1024 мегабайта)\n",
    "* `rub_per_message` — стоимость отправки сообщения сверх тарифного пакета\n",
    "* `rub_per_minute` — стоимость минуты разговора сверх тарифного пакета (например, если в тарифе 100 минут разговора в месяц, то со 101 минуты будет взиматься плата)\n",
    "* `tariff_name` — название тарифа\n",
    "\n",
    "Описание тарифов\n",
    " \n",
    " **Тариф «Смарт»**\n",
    "* Ежемесячная плата: 550 рублей\n",
    "* Включено 500 минут разговора, 50 сообщений и 15 Гб интернет-трафика\n",
    "* Стоимость услуг сверх тарифного пакета:\n",
    "   -  минута разговора: 3 рубля\n",
    "   -  сообщение: 3 рубля\n",
    "   -  1 Гб интернет-трафика: 200 рублей\n",
    " \n",
    " **Тариф «Ультра»**\n",
    "* Ежемесячная плата: 1950 рублей\n",
    "* Включено 3000 минут разговора, 1000 сообщений и 30 Гб интернет-трафика\n",
    "* Стоимость услуг сверх тарифного пакета:\n",
    "   -  минута разговора: 1 рубль\n",
    "   -  сообщение: 1 рубль\n",
    "   -  1 Гб интернет-трафика: 150 рублей"
   ]
  },
  {
   "cell_type": "code",
   "execution_count": 8,
   "metadata": {},
   "outputs": [
    {
     "data": {
      "text/html": [
       "<div>\n",
       "<style scoped>\n",
       "    .dataframe tbody tr th:only-of-type {\n",
       "        vertical-align: middle;\n",
       "    }\n",
       "\n",
       "    .dataframe tbody tr th {\n",
       "        vertical-align: top;\n",
       "    }\n",
       "\n",
       "    .dataframe thead th {\n",
       "        text-align: right;\n",
       "    }\n",
       "</style>\n",
       "<table border=\"1\" class=\"dataframe\">\n",
       "  <thead>\n",
       "    <tr style=\"text-align: right;\">\n",
       "      <th></th>\n",
       "      <th>user_id</th>\n",
       "      <th>age</th>\n",
       "      <th>churn_date</th>\n",
       "      <th>city</th>\n",
       "      <th>first_name</th>\n",
       "      <th>last_name</th>\n",
       "      <th>reg_date</th>\n",
       "      <th>tariff</th>\n",
       "    </tr>\n",
       "  </thead>\n",
       "  <tbody>\n",
       "    <tr>\n",
       "      <th>0</th>\n",
       "      <td>1000</td>\n",
       "      <td>52</td>\n",
       "      <td>NaN</td>\n",
       "      <td>Краснодар</td>\n",
       "      <td>Рафаил</td>\n",
       "      <td>Верещагин</td>\n",
       "      <td>2018-05-25</td>\n",
       "      <td>ultra</td>\n",
       "    </tr>\n",
       "    <tr>\n",
       "      <th>1</th>\n",
       "      <td>1001</td>\n",
       "      <td>41</td>\n",
       "      <td>NaN</td>\n",
       "      <td>Москва</td>\n",
       "      <td>Иван</td>\n",
       "      <td>Ежов</td>\n",
       "      <td>2018-11-01</td>\n",
       "      <td>smart</td>\n",
       "    </tr>\n",
       "    <tr>\n",
       "      <th>2</th>\n",
       "      <td>1002</td>\n",
       "      <td>59</td>\n",
       "      <td>NaN</td>\n",
       "      <td>Стерлитамак</td>\n",
       "      <td>Евгений</td>\n",
       "      <td>Абрамович</td>\n",
       "      <td>2018-06-17</td>\n",
       "      <td>smart</td>\n",
       "    </tr>\n",
       "    <tr>\n",
       "      <th>3</th>\n",
       "      <td>1003</td>\n",
       "      <td>23</td>\n",
       "      <td>NaN</td>\n",
       "      <td>Москва</td>\n",
       "      <td>Белла</td>\n",
       "      <td>Белякова</td>\n",
       "      <td>2018-08-17</td>\n",
       "      <td>ultra</td>\n",
       "    </tr>\n",
       "    <tr>\n",
       "      <th>4</th>\n",
       "      <td>1004</td>\n",
       "      <td>68</td>\n",
       "      <td>NaN</td>\n",
       "      <td>Новокузнецк</td>\n",
       "      <td>Татьяна</td>\n",
       "      <td>Авдеенко</td>\n",
       "      <td>2018-05-14</td>\n",
       "      <td>ultra</td>\n",
       "    </tr>\n",
       "    <tr>\n",
       "      <th>5</th>\n",
       "      <td>1005</td>\n",
       "      <td>67</td>\n",
       "      <td>NaN</td>\n",
       "      <td>Набережные Челны</td>\n",
       "      <td>Афанасий</td>\n",
       "      <td>Горлов</td>\n",
       "      <td>2018-01-25</td>\n",
       "      <td>smart</td>\n",
       "    </tr>\n",
       "    <tr>\n",
       "      <th>6</th>\n",
       "      <td>1006</td>\n",
       "      <td>21</td>\n",
       "      <td>NaN</td>\n",
       "      <td>Ульяновск</td>\n",
       "      <td>Леонид</td>\n",
       "      <td>Ермолаев</td>\n",
       "      <td>2018-02-26</td>\n",
       "      <td>smart</td>\n",
       "    </tr>\n",
       "    <tr>\n",
       "      <th>7</th>\n",
       "      <td>1007</td>\n",
       "      <td>65</td>\n",
       "      <td>NaN</td>\n",
       "      <td>Москва</td>\n",
       "      <td>Юна</td>\n",
       "      <td>Березина</td>\n",
       "      <td>2018-04-19</td>\n",
       "      <td>smart</td>\n",
       "    </tr>\n",
       "    <tr>\n",
       "      <th>8</th>\n",
       "      <td>1008</td>\n",
       "      <td>63</td>\n",
       "      <td>NaN</td>\n",
       "      <td>Челябинск</td>\n",
       "      <td>Рустэм</td>\n",
       "      <td>Пономарёв</td>\n",
       "      <td>2018-12-19</td>\n",
       "      <td>smart</td>\n",
       "    </tr>\n",
       "    <tr>\n",
       "      <th>9</th>\n",
       "      <td>1009</td>\n",
       "      <td>24</td>\n",
       "      <td>NaN</td>\n",
       "      <td>Пермь</td>\n",
       "      <td>Василиса</td>\n",
       "      <td>Блинова</td>\n",
       "      <td>2018-03-22</td>\n",
       "      <td>smart</td>\n",
       "    </tr>\n",
       "  </tbody>\n",
       "</table>\n",
       "</div>"
      ],
      "text/plain": [
       "   user_id  age churn_date              city first_name  last_name  \\\n",
       "0     1000   52        NaN         Краснодар     Рафаил  Верещагин   \n",
       "1     1001   41        NaN            Москва       Иван       Ежов   \n",
       "2     1002   59        NaN       Стерлитамак    Евгений  Абрамович   \n",
       "3     1003   23        NaN            Москва      Белла   Белякова   \n",
       "4     1004   68        NaN       Новокузнецк    Татьяна   Авдеенко   \n",
       "5     1005   67        NaN  Набережные Челны   Афанасий     Горлов   \n",
       "6     1006   21        NaN         Ульяновск     Леонид   Ермолаев   \n",
       "7     1007   65        NaN            Москва        Юна   Березина   \n",
       "8     1008   63        NaN         Челябинск     Рустэм  Пономарёв   \n",
       "9     1009   24        NaN             Пермь   Василиса    Блинова   \n",
       "\n",
       "     reg_date tariff  \n",
       "0  2018-05-25  ultra  \n",
       "1  2018-11-01  smart  \n",
       "2  2018-06-17  smart  \n",
       "3  2018-08-17  ultra  \n",
       "4  2018-05-14  ultra  \n",
       "5  2018-01-25  smart  \n",
       "6  2018-02-26  smart  \n",
       "7  2018-04-19  smart  \n",
       "8  2018-12-19  smart  \n",
       "9  2018-03-22  smart  "
      ]
     },
     "metadata": {},
     "output_type": "display_data"
    },
    {
     "name": "stdout",
     "output_type": "stream",
     "text": [
      "<class 'pandas.core.frame.DataFrame'>\n",
      "RangeIndex: 500 entries, 0 to 499\n",
      "Data columns (total 8 columns):\n",
      " #   Column      Non-Null Count  Dtype \n",
      "---  ------      --------------  ----- \n",
      " 0   user_id     500 non-null    int64 \n",
      " 1   age         500 non-null    int64 \n",
      " 2   churn_date  38 non-null     object\n",
      " 3   city        500 non-null    object\n",
      " 4   first_name  500 non-null    object\n",
      " 5   last_name   500 non-null    object\n",
      " 6   reg_date    500 non-null    object\n",
      " 7   tariff      500 non-null    object\n",
      "dtypes: int64(2), object(6)\n",
      "memory usage: 31.4+ KB\n"
     ]
    },
    {
     "data": {
      "text/plain": [
       "None"
      ]
     },
     "metadata": {},
     "output_type": "display_data"
    },
    {
     "data": {
      "text/html": [
       "<div>\n",
       "<style scoped>\n",
       "    .dataframe tbody tr th:only-of-type {\n",
       "        vertical-align: middle;\n",
       "    }\n",
       "\n",
       "    .dataframe tbody tr th {\n",
       "        vertical-align: top;\n",
       "    }\n",
       "\n",
       "    .dataframe thead th {\n",
       "        text-align: right;\n",
       "    }\n",
       "</style>\n",
       "<table border=\"1\" class=\"dataframe\">\n",
       "  <thead>\n",
       "    <tr style=\"text-align: right;\">\n",
       "      <th></th>\n",
       "      <th>user_id</th>\n",
       "      <th>age</th>\n",
       "    </tr>\n",
       "  </thead>\n",
       "  <tbody>\n",
       "    <tr>\n",
       "      <th>count</th>\n",
       "      <td>500.000000</td>\n",
       "      <td>500.00000</td>\n",
       "    </tr>\n",
       "    <tr>\n",
       "      <th>mean</th>\n",
       "      <td>1249.500000</td>\n",
       "      <td>46.58800</td>\n",
       "    </tr>\n",
       "    <tr>\n",
       "      <th>std</th>\n",
       "      <td>144.481833</td>\n",
       "      <td>16.66763</td>\n",
       "    </tr>\n",
       "    <tr>\n",
       "      <th>min</th>\n",
       "      <td>1000.000000</td>\n",
       "      <td>18.00000</td>\n",
       "    </tr>\n",
       "    <tr>\n",
       "      <th>25%</th>\n",
       "      <td>1124.750000</td>\n",
       "      <td>32.00000</td>\n",
       "    </tr>\n",
       "    <tr>\n",
       "      <th>50%</th>\n",
       "      <td>1249.500000</td>\n",
       "      <td>46.00000</td>\n",
       "    </tr>\n",
       "    <tr>\n",
       "      <th>75%</th>\n",
       "      <td>1374.250000</td>\n",
       "      <td>62.00000</td>\n",
       "    </tr>\n",
       "    <tr>\n",
       "      <th>max</th>\n",
       "      <td>1499.000000</td>\n",
       "      <td>75.00000</td>\n",
       "    </tr>\n",
       "  </tbody>\n",
       "</table>\n",
       "</div>"
      ],
      "text/plain": [
       "           user_id        age\n",
       "count   500.000000  500.00000\n",
       "mean   1249.500000   46.58800\n",
       "std     144.481833   16.66763\n",
       "min    1000.000000   18.00000\n",
       "25%    1124.750000   32.00000\n",
       "50%    1249.500000   46.00000\n",
       "75%    1374.250000   62.00000\n",
       "max    1499.000000   75.00000"
      ]
     },
     "metadata": {},
     "output_type": "display_data"
    }
   ],
   "source": [
    "# прочитаем датасет с информацией о пользователях и выведем первые 10 строк таблицы \n",
    "users = pd.read_csv('/Users/aleksandrakiseleva/Desktop/проекты/определение перспективного тарифа/users.csv')\n",
    "display(users.head(10))\n",
    "# получение общей информации о данных датасета\n",
    "display(users.info())\n",
    "#получим статистическую информацию о данных\n",
    "display(users.describe())\n",
    "# приведем текстовые данные пользователей к нижнему регистру\n",
    "users['city'] = users['city'].str.lower()\n",
    "users['first_name'] = users['first_name'].str.lower()\n",
    "users['last_name'] = users['last_name'].str.lower()"
   ]
  },
  {
   "cell_type": "markdown",
   "metadata": {},
   "source": [
    "Согласно документации к данным:\n",
    "* `user_id` — уникальный идентификатор пользователя\n",
    "* `first_name` — имя пользователя\n",
    "* `last_name` — фамилия пользователя\n",
    "* `age` — возраст пользователя (годы)\n",
    "* `reg_date` — дата подключения тарифа (день, месяц, год)\n",
    "* `churn_date` — дата прекращения пользования тарифом (если значение пропущено, то тариф ещё действовал на момент выгрузки данных)\n",
    "* `city` — город проживания пользователя\n",
    "* `tarif` — название тарифного плана\n",
    "\n",
    "В `churn_date` есть 462 пропуска. В соответствии с документацией пропуски в данном столбце означают что тариф ещё действовал на момент выгрузки данных. Так как в дальнейшем анализе тарифов данный столбец не участвует, заменим Nan на 0. \n",
    "\n",
    "Тип данных столбца `churn_date` и `reg_date` необходимо привести к  в специальному формату для хранения даты и времени - datetime."
   ]
  },
  {
   "cell_type": "markdown",
   "metadata": {},
   "source": [
    "## Предобработка данных"
   ]
  },
  {
   "cell_type": "markdown",
   "metadata": {},
   "source": [
    "### Проверка на наличие дубликатов"
   ]
  },
  {
   "cell_type": "code",
   "execution_count": 9,
   "metadata": {},
   "outputs": [
    {
     "data": {
      "text/plain": [
       "0"
      ]
     },
     "execution_count": 9,
     "metadata": {},
     "output_type": "execute_result"
    }
   ],
   "source": [
    "# проверим таблицу со звонками на наличие дубликатов\n",
    "calls.duplicated().sum()"
   ]
  },
  {
   "cell_type": "code",
   "execution_count": 10,
   "metadata": {},
   "outputs": [
    {
     "data": {
      "text/plain": [
       "0"
      ]
     },
     "execution_count": 10,
     "metadata": {},
     "output_type": "execute_result"
    }
   ],
   "source": [
    "# проверим таблицу с интернет-сессиями на наличие дубликатов\n",
    "internet.duplicated().sum()"
   ]
  },
  {
   "cell_type": "code",
   "execution_count": 11,
   "metadata": {},
   "outputs": [
    {
     "data": {
      "text/plain": [
       "0"
      ]
     },
     "execution_count": 11,
     "metadata": {},
     "output_type": "execute_result"
    }
   ],
   "source": [
    "# проверим таблицу с информацией о сообщениях на наличие дубликатов\n",
    "messages.duplicated().sum()"
   ]
  },
  {
   "cell_type": "code",
   "execution_count": 12,
   "metadata": {
    "scrolled": true
   },
   "outputs": [
    {
     "data": {
      "text/plain": [
       "0"
      ]
     },
     "metadata": {},
     "output_type": "display_data"
    },
    {
     "data": {
      "text/plain": [
       "0"
      ]
     },
     "execution_count": 12,
     "metadata": {},
     "output_type": "execute_result"
    }
   ],
   "source": [
    "# проверим список клиентов на наличие дубликатов\n",
    "display(users[['city','first_name','last_name']].duplicated().sum())\n",
    "users.duplicated().sum()"
   ]
  },
  {
   "cell_type": "markdown",
   "metadata": {},
   "source": [
    "Дубликаты в датасетах отсутствуют."
   ]
  },
  {
   "cell_type": "markdown",
   "metadata": {},
   "source": [
    "### Замена типа данных"
   ]
  },
  {
   "cell_type": "markdown",
   "metadata": {},
   "source": [
    "Для оптимизации работыт с данными заменим типы данных.\n",
    "\n",
    "Для датасета calls:\n",
    " - call_date переведем в datetime\n",
    " - duration в int. Для округления секунд в соответсвии с внутренней политикой оператора в большую сторону, необходимо сначала округлить данные столбца , а затем привести столбец к типу int, так как при приведении данных к int с помощью astype округление будет происходить в меньшую сторону.\n",
    "\n",
    "Для датасета internet:\n",
    " - session_date переведем в datetime\n",
    " - mb_used округлим до гигабайтов и заменим тип данных на int.Так как политикой компании для веб-трафика предусмотрено, что  отдельные сессии не считаются,вместо этого общая сумма за месяц округляется в бо́льшую сторону, сначала произведем агрегацию данных об интернет сессиях по пользователям и по месяцам.\n",
    " \n",
    "Для датасета messages:\n",
    " - message_date переведем в datetime\n",
    "\n",
    "Для датасета users:\n",
    " - churn_date и reg_date переведем в datetime.  "
   ]
  },
  {
   "cell_type": "code",
   "execution_count": 13,
   "metadata": {},
   "outputs": [],
   "source": [
    "# приведем вышеуказанные столбцы к datetime\n",
    "calls['call_date'] = pd.to_datetime(calls['call_date'], format='%Y-%m-%d')\n",
    "internet['session_date'] = pd.to_datetime(internet['session_date'], format='%Y-%m-%d')\n",
    "messages['message_date'] = pd.to_datetime(messages['message_date'], format='%Y-%m-%d')\n",
    "users['reg_date'] = pd.to_datetime(users['reg_date'], format='%Y-%m-%d')\n",
    "users['churn_date'] = pd.to_datetime(users['churn_date'], format='%Y-%m-%d')"
   ]
  },
  {
   "cell_type": "code",
   "execution_count": 14,
   "metadata": {},
   "outputs": [
    {
     "name": "stdout",
     "output_type": "stream",
     "text": [
      "[ 7  8  6  9 12 11 10  5  3  4  1  2]\n",
      "[11  9  6  8 10  7 12  5  2  3  4  1]\n"
     ]
    },
    {
     "data": {
      "text/plain": [
       "array([ 6, 10,  8, 12, 11,  5,  7,  9,  3,  4,  2,  1])"
      ]
     },
     "execution_count": 14,
     "metadata": {},
     "output_type": "execute_result"
    }
   ],
   "source": [
    "# добавим столбец со значением месяца в датасеты calls,internet,messages для последубщей агрегации\n",
    "calls['month'] = pd.DatetimeIndex(calls['call_date']).month\n",
    "internet['month'] = pd.DatetimeIndex(internet['session_date']).month\n",
    "messages['month'] = pd.DatetimeIndex(messages['message_date']).month\n",
    "# проверим, что в добавленных столбцах 'month' отсутствуют данные, не соответствующие дейтвительности\n",
    "print(calls['month'].unique())\n",
    "print(internet['month'].unique())\n",
    "messages['month'].unique()"
   ]
  },
  {
   "cell_type": "code",
   "execution_count": 15,
   "metadata": {},
   "outputs": [
    {
     "name": "stdout",
     "output_type": "stream",
     "text": [
      "Int64Index([ 1,  2,  3,  4,  5,  6,  7,  8,  9, 10, 11, 12, 13, 14, 15, 16, 17,\n",
      "            18, 19, 20, 21, 22, 23, 24, 25, 26, 27, 28, 29, 30, 31],\n",
      "           dtype='int64', name='call_date')\n",
      "Int64Index([2018], dtype='int64', name='call_date')\n",
      "Int64Index([2018], dtype='int64', name='session_date')\n",
      "Int64Index([ 1,  2,  3,  4,  5,  6,  7,  8,  9, 10, 11, 12, 13, 14, 15, 16, 17,\n",
      "            18, 19, 20, 21, 22, 23, 24, 25, 26, 27, 28, 29, 30, 31],\n",
      "           dtype='int64', name='session_date')\n",
      "Int64Index([2018], dtype='int64', name='message_date')\n",
      "Int64Index([ 1,  2,  3,  4,  5,  6,  7,  8,  9, 10, 11, 12, 13, 14, 15, 16, 17,\n",
      "            18, 19, 20, 21, 22, 23, 24, 25, 26, 27, 28, 29, 30, 31],\n",
      "           dtype='int64', name='message_date')\n"
     ]
    }
   ],
   "source": [
    "# проверим, что в солбцах с датами  отсутствуют данные, не соответствующие дейтвительности\n",
    "print(pd.DatetimeIndex(calls['call_date']).day.unique().sort_values())\n",
    "print(pd.DatetimeIndex(calls['call_date']).year.unique().sort_values())\n",
    "print(pd.DatetimeIndex(internet['session_date']).year.unique().sort_values())\n",
    "print(pd.DatetimeIndex(internet['session_date']).day.unique().sort_values())\n",
    "print(pd.DatetimeIndex(messages['message_date']).year.unique().sort_values())\n",
    "print(pd.DatetimeIndex(messages['message_date']).day.unique().sort_values())"
   ]
  },
  {
   "cell_type": "markdown",
   "metadata": {},
   "source": [
    "Не существующие даты в датасетах отсутствуют.\n",
    "\n",
    "Округлим и переведем duration в int. В соответствии с внутренней политикой компании секунды округляем в большую сторону."
   ]
  },
  {
   "cell_type": "code",
   "execution_count": 16,
   "metadata": {
    "scrolled": true
   },
   "outputs": [
    {
     "name": "stdout",
     "output_type": "stream",
     "text": [
      "<class 'pandas.core.frame.DataFrame'>\n",
      "RangeIndex: 202607 entries, 0 to 202606\n",
      "Data columns (total 5 columns):\n",
      " #   Column     Non-Null Count   Dtype         \n",
      "---  ------     --------------   -----         \n",
      " 0   id         202607 non-null  object        \n",
      " 1   call_date  202607 non-null  datetime64[ns]\n",
      " 2   duration   202607 non-null  int64         \n",
      " 3   user_id    202607 non-null  int64         \n",
      " 4   month      202607 non-null  int64         \n",
      "dtypes: datetime64[ns](1), int64(3), object(1)\n",
      "memory usage: 7.7+ MB\n"
     ]
    }
   ],
   "source": [
    "# Округлим duration датасета calls до минут\n",
    "calls['duration'] = np.ceil(calls['duration'])\n",
    "#замним тип данных столбца duration на int\n",
    "calls['duration'] = calls['duration'].astype('int')\n",
    "# проверим тип данных\n",
    "calls.info()"
   ]
  },
  {
   "cell_type": "markdown",
   "metadata": {},
   "source": [
    "Для приведения столбца gb_used к целочисленному типу данных сначала сгруппируем данные датасета об интернет-сессиях по пользователям и месяцам и округлим использованные мегабайты в большую сторону. \n"
   ]
  },
  {
   "cell_type": "code",
   "execution_count": 17,
   "metadata": {},
   "outputs": [
    {
     "data": {
      "text/html": [
       "<div>\n",
       "<style scoped>\n",
       "    .dataframe tbody tr th:only-of-type {\n",
       "        vertical-align: middle;\n",
       "    }\n",
       "\n",
       "    .dataframe tbody tr th {\n",
       "        vertical-align: top;\n",
       "    }\n",
       "\n",
       "    .dataframe thead th {\n",
       "        text-align: right;\n",
       "    }\n",
       "</style>\n",
       "<table border=\"1\" class=\"dataframe\">\n",
       "  <thead>\n",
       "    <tr style=\"text-align: right;\">\n",
       "      <th></th>\n",
       "      <th>user_id</th>\n",
       "      <th>month</th>\n",
       "      <th>gb_used</th>\n",
       "    </tr>\n",
       "  </thead>\n",
       "  <tbody>\n",
       "    <tr>\n",
       "      <th>0</th>\n",
       "      <td>1000</td>\n",
       "      <td>5</td>\n",
       "      <td>3.0</td>\n",
       "    </tr>\n",
       "    <tr>\n",
       "      <th>1</th>\n",
       "      <td>1000</td>\n",
       "      <td>6</td>\n",
       "      <td>23.0</td>\n",
       "    </tr>\n",
       "    <tr>\n",
       "      <th>2</th>\n",
       "      <td>1000</td>\n",
       "      <td>7</td>\n",
       "      <td>14.0</td>\n",
       "    </tr>\n",
       "    <tr>\n",
       "      <th>3</th>\n",
       "      <td>1000</td>\n",
       "      <td>8</td>\n",
       "      <td>14.0</td>\n",
       "    </tr>\n",
       "    <tr>\n",
       "      <th>4</th>\n",
       "      <td>1000</td>\n",
       "      <td>9</td>\n",
       "      <td>15.0</td>\n",
       "    </tr>\n",
       "  </tbody>\n",
       "</table>\n",
       "</div>"
      ],
      "text/plain": [
       "   user_id  month  gb_used\n",
       "0     1000      5      3.0\n",
       "1     1000      6     23.0\n",
       "2     1000      7     14.0\n",
       "3     1000      8     14.0\n",
       "4     1000      9     15.0"
      ]
     },
     "metadata": {},
     "output_type": "display_data"
    }
   ],
   "source": [
    "# сгруппируем данные по месяцам и клиентам\n",
    "internet_grouped = internet.groupby(['user_id','month']).agg('sum').sort_values(by='user_id').reset_index()\n",
    "#огруглим в соответствии с политикой оператора количество использованных мегабайт в большую сторону и переведем в гигабайты\n",
    "internet_grouped['gb_used'] = np.ceil(internet_grouped['mb_used']/1024)\n",
    "internet_grouped = internet_grouped[['user_id','month','gb_used']]\n",
    "#выведем преобразованный датасет\n",
    "display(internet_grouped.head())\n",
    "#display(internet_grouped.describe())\n",
    "#display(internet_grouped[internet_grouped['gb_used']==0])"
   ]
  },
  {
   "cell_type": "markdown",
   "metadata": {},
   "source": [
    "Заменим тип данных столбца gb_used на целочисленный."
   ]
  },
  {
   "cell_type": "code",
   "execution_count": 18,
   "metadata": {},
   "outputs": [
    {
     "name": "stdout",
     "output_type": "stream",
     "text": [
      "<class 'pandas.core.frame.DataFrame'>\n",
      "RangeIndex: 3203 entries, 0 to 3202\n",
      "Data columns (total 3 columns):\n",
      " #   Column   Non-Null Count  Dtype\n",
      "---  ------   --------------  -----\n",
      " 0   user_id  3203 non-null   int64\n",
      " 1   month    3203 non-null   int64\n",
      " 2   gb_used  3203 non-null   int64\n",
      "dtypes: int64(3)\n",
      "memory usage: 75.2 KB\n"
     ]
    }
   ],
   "source": [
    "#  применим метод astype для приведения gb_used  к типу int\n",
    "internet_grouped['gb_used'] = internet_grouped['gb_used'].astype('int')\n",
    "#проверим тип данных\n",
    "internet_grouped.info()"
   ]
  },
  {
   "cell_type": "markdown",
   "metadata": {},
   "source": [
    " ## Расчеты и добавление результатов"
   ]
  },
  {
   "cell_type": "markdown",
   "metadata": {},
   "source": [
    "Посчитаем количество сделанных звонков и израсходованных минут разговора по месяцам для каждого пользователя."
   ]
  },
  {
   "cell_type": "code",
   "execution_count": 19,
   "metadata": {},
   "outputs": [
    {
     "data": {
      "text/html": [
       "<div>\n",
       "<style scoped>\n",
       "    .dataframe tbody tr th:only-of-type {\n",
       "        vertical-align: middle;\n",
       "    }\n",
       "\n",
       "    .dataframe tbody tr th {\n",
       "        vertical-align: top;\n",
       "    }\n",
       "\n",
       "    .dataframe thead th {\n",
       "        text-align: right;\n",
       "    }\n",
       "</style>\n",
       "<table border=\"1\" class=\"dataframe\">\n",
       "  <thead>\n",
       "    <tr style=\"text-align: right;\">\n",
       "      <th></th>\n",
       "      <th>user_id</th>\n",
       "      <th>month</th>\n",
       "      <th>calls_duration</th>\n",
       "      <th>number_of_calls</th>\n",
       "    </tr>\n",
       "  </thead>\n",
       "  <tbody>\n",
       "    <tr>\n",
       "      <th>0</th>\n",
       "      <td>1000</td>\n",
       "      <td>5</td>\n",
       "      <td>159</td>\n",
       "      <td>22</td>\n",
       "    </tr>\n",
       "    <tr>\n",
       "      <th>1</th>\n",
       "      <td>1000</td>\n",
       "      <td>6</td>\n",
       "      <td>172</td>\n",
       "      <td>43</td>\n",
       "    </tr>\n",
       "    <tr>\n",
       "      <th>2</th>\n",
       "      <td>1000</td>\n",
       "      <td>7</td>\n",
       "      <td>340</td>\n",
       "      <td>47</td>\n",
       "    </tr>\n",
       "    <tr>\n",
       "      <th>3</th>\n",
       "      <td>1000</td>\n",
       "      <td>8</td>\n",
       "      <td>408</td>\n",
       "      <td>52</td>\n",
       "    </tr>\n",
       "    <tr>\n",
       "      <th>4</th>\n",
       "      <td>1000</td>\n",
       "      <td>9</td>\n",
       "      <td>466</td>\n",
       "      <td>58</td>\n",
       "    </tr>\n",
       "    <tr>\n",
       "      <th>5</th>\n",
       "      <td>1000</td>\n",
       "      <td>10</td>\n",
       "      <td>350</td>\n",
       "      <td>57</td>\n",
       "    </tr>\n",
       "    <tr>\n",
       "      <th>6</th>\n",
       "      <td>1000</td>\n",
       "      <td>11</td>\n",
       "      <td>338</td>\n",
       "      <td>43</td>\n",
       "    </tr>\n",
       "    <tr>\n",
       "      <th>7</th>\n",
       "      <td>1000</td>\n",
       "      <td>12</td>\n",
       "      <td>333</td>\n",
       "      <td>46</td>\n",
       "    </tr>\n",
       "    <tr>\n",
       "      <th>8</th>\n",
       "      <td>1001</td>\n",
       "      <td>11</td>\n",
       "      <td>430</td>\n",
       "      <td>59</td>\n",
       "    </tr>\n",
       "    <tr>\n",
       "      <th>9</th>\n",
       "      <td>1001</td>\n",
       "      <td>12</td>\n",
       "      <td>414</td>\n",
       "      <td>63</td>\n",
       "    </tr>\n",
       "  </tbody>\n",
       "</table>\n",
       "</div>"
      ],
      "text/plain": [
       "   user_id  month  calls_duration  number_of_calls\n",
       "0     1000      5             159               22\n",
       "1     1000      6             172               43\n",
       "2     1000      7             340               47\n",
       "3     1000      8             408               52\n",
       "4     1000      9             466               58\n",
       "5     1000     10             350               57\n",
       "6     1000     11             338               43\n",
       "7     1000     12             333               46\n",
       "8     1001     11             430               59\n",
       "9     1001     12             414               63"
      ]
     },
     "execution_count": 19,
     "metadata": {},
     "output_type": "execute_result"
    }
   ],
   "source": [
    "# применим метод groupby для группировки в разрезе пользователей и месяцев\n",
    "#  с помощь метода sum посчитаем длительность звонков для каждого пользоавтеля помесячно\n",
    "# с помощью count - количество звонков пользователей в месяц\n",
    "calls_grouped = calls.groupby(['user_id','month']).agg(['sum','count'])['duration'].sort_values(by='user_id').reset_index()\n",
    "# переименуем столбцы талицы со сгруппированными данными\n",
    "calls_grouped.rename(columns={'sum':'calls_duration',\n",
    "                               'count':'number_of_calls'}\n",
    "                              ,inplace=True)\n",
    "#выведем таблицу\n",
    "calls_grouped.head(10)"
   ]
  },
  {
   "cell_type": "markdown",
   "metadata": {},
   "source": [
    "Посчитаем количество отправленных сообщений пользователями по месяцам"
   ]
  },
  {
   "cell_type": "code",
   "execution_count": 20,
   "metadata": {},
   "outputs": [
    {
     "data": {
      "text/html": [
       "<div>\n",
       "<style scoped>\n",
       "    .dataframe tbody tr th:only-of-type {\n",
       "        vertical-align: middle;\n",
       "    }\n",
       "\n",
       "    .dataframe tbody tr th {\n",
       "        vertical-align: top;\n",
       "    }\n",
       "\n",
       "    .dataframe thead th {\n",
       "        text-align: right;\n",
       "    }\n",
       "</style>\n",
       "<table border=\"1\" class=\"dataframe\">\n",
       "  <thead>\n",
       "    <tr style=\"text-align: right;\">\n",
       "      <th></th>\n",
       "      <th>user_id</th>\n",
       "      <th>month</th>\n",
       "      <th>number_of_messag</th>\n",
       "    </tr>\n",
       "  </thead>\n",
       "  <tbody>\n",
       "    <tr>\n",
       "      <th>0</th>\n",
       "      <td>1000</td>\n",
       "      <td>5</td>\n",
       "      <td>22</td>\n",
       "    </tr>\n",
       "    <tr>\n",
       "      <th>1</th>\n",
       "      <td>1000</td>\n",
       "      <td>6</td>\n",
       "      <td>60</td>\n",
       "    </tr>\n",
       "    <tr>\n",
       "      <th>2</th>\n",
       "      <td>1000</td>\n",
       "      <td>7</td>\n",
       "      <td>75</td>\n",
       "    </tr>\n",
       "    <tr>\n",
       "      <th>3</th>\n",
       "      <td>1000</td>\n",
       "      <td>8</td>\n",
       "      <td>81</td>\n",
       "    </tr>\n",
       "    <tr>\n",
       "      <th>4</th>\n",
       "      <td>1000</td>\n",
       "      <td>9</td>\n",
       "      <td>57</td>\n",
       "    </tr>\n",
       "  </tbody>\n",
       "</table>\n",
       "</div>"
      ],
      "text/plain": [
       "   user_id  month  number_of_messag\n",
       "0     1000      5                22\n",
       "1     1000      6                60\n",
       "2     1000      7                75\n",
       "3     1000      8                81\n",
       "4     1000      9                57"
      ]
     },
     "metadata": {},
     "output_type": "display_data"
    }
   ],
   "source": [
    "# применим метод groupby для группировки в разрезе пользователей и месяцев\n",
    "# с помощью count почитаем количество отправленных сообщений пользователей в месяц\n",
    "messages_grouped = messages.groupby(['user_id','month'])['id'].agg('count').reset_index()\n",
    "#переименуем столбцы талицы со сгруппированными данными\n",
    "messages_grouped.rename(columns={'id':'number_of_messag'},inplace=True)\n",
    "#выведем таблицу\n",
    "display(messages_grouped.head())\n",
    "#display(messages_grouped.describe())"
   ]
  },
  {
   "cell_type": "markdown",
   "metadata": {},
   "source": [
    "Создадим единый датасет с агрегированными данными о звонках,интернет-сессиях и сообщениях."
   ]
  },
  {
   "cell_type": "code",
   "execution_count": 21,
   "metadata": {},
   "outputs": [
    {
     "data": {
      "text/html": [
       "<div>\n",
       "<style scoped>\n",
       "    .dataframe tbody tr th:only-of-type {\n",
       "        vertical-align: middle;\n",
       "    }\n",
       "\n",
       "    .dataframe tbody tr th {\n",
       "        vertical-align: top;\n",
       "    }\n",
       "\n",
       "    .dataframe thead th {\n",
       "        text-align: right;\n",
       "    }\n",
       "</style>\n",
       "<table border=\"1\" class=\"dataframe\">\n",
       "  <thead>\n",
       "    <tr style=\"text-align: right;\">\n",
       "      <th></th>\n",
       "      <th>user_id</th>\n",
       "      <th>month</th>\n",
       "      <th>calls_duration</th>\n",
       "      <th>number_of_calls</th>\n",
       "      <th>gb_used</th>\n",
       "      <th>number_of_messag</th>\n",
       "    </tr>\n",
       "  </thead>\n",
       "  <tbody>\n",
       "    <tr>\n",
       "      <th>0</th>\n",
       "      <td>1000</td>\n",
       "      <td>5</td>\n",
       "      <td>159</td>\n",
       "      <td>22</td>\n",
       "      <td>3</td>\n",
       "      <td>22</td>\n",
       "    </tr>\n",
       "    <tr>\n",
       "      <th>1</th>\n",
       "      <td>1000</td>\n",
       "      <td>6</td>\n",
       "      <td>172</td>\n",
       "      <td>43</td>\n",
       "      <td>23</td>\n",
       "      <td>60</td>\n",
       "    </tr>\n",
       "    <tr>\n",
       "      <th>2</th>\n",
       "      <td>1000</td>\n",
       "      <td>7</td>\n",
       "      <td>340</td>\n",
       "      <td>47</td>\n",
       "      <td>14</td>\n",
       "      <td>75</td>\n",
       "    </tr>\n",
       "    <tr>\n",
       "      <th>3</th>\n",
       "      <td>1000</td>\n",
       "      <td>8</td>\n",
       "      <td>408</td>\n",
       "      <td>52</td>\n",
       "      <td>14</td>\n",
       "      <td>81</td>\n",
       "    </tr>\n",
       "    <tr>\n",
       "      <th>4</th>\n",
       "      <td>1000</td>\n",
       "      <td>9</td>\n",
       "      <td>466</td>\n",
       "      <td>58</td>\n",
       "      <td>15</td>\n",
       "      <td>57</td>\n",
       "    </tr>\n",
       "  </tbody>\n",
       "</table>\n",
       "</div>"
      ],
      "text/plain": [
       "   user_id  month  calls_duration  number_of_calls  gb_used  number_of_messag\n",
       "0     1000      5             159               22        3                22\n",
       "1     1000      6             172               43       23                60\n",
       "2     1000      7             340               47       14                75\n",
       "3     1000      8             408               52       14                81\n",
       "4     1000      9             466               58       15                57"
      ]
     },
     "metadata": {},
     "output_type": "display_data"
    }
   ],
   "source": [
    "# с помощью merge  соединим датасет со звонками и датасет с интернет-сессиями\n",
    "data = pd.merge(calls_grouped,internet_grouped,how='outer',on=['user_id','month']).reset_index(drop=True)\n",
    "# к объединенному датасету data добавим датасет с сообщениями пользователей\n",
    "data = pd.merge(data,messages_grouped,how='outer',on=['user_id','month']).reset_index(drop=True).fillna(0)\n",
    "# приведем к целочисленому типу необходимые данные \n",
    "data = data.astype({'calls_duration':'int',\n",
    "                    'gb_used':'int',\n",
    "                    'number_of_messag':'int',\n",
    "                'number_of_calls':'int',})\n",
    "#   выведем таблицу\n",
    "display(data.head())"
   ]
  },
  {
   "cell_type": "markdown",
   "metadata": {},
   "source": [
    "В созданном датасете появились пропуски Nan, в тех случаях когда пользователь в определенном месяце не использовал какую-либо услуг,но пользовался другими.Выше с помощью метода fillna заменили такие пропуски  нулями.\n",
    "\n",
    "Добавим к созданному датасету информацию о тарифах и городах пользователях.\n",
    "\n",
    "И рассчитаем помесячную выручку с каждого пользователя (вычтем бесплатный лимит из суммарного количества звонков, сообщений и интернет-трафика; остаток умножим на значение из тарифного плана; прибавим абонентскую плату, соответствующую тарифному плану).\n"
   ]
  },
  {
   "cell_type": "code",
   "execution_count": 22,
   "metadata": {
    "scrolled": false
   },
   "outputs": [
    {
     "data": {
      "text/html": [
       "<div>\n",
       "<style scoped>\n",
       "    .dataframe tbody tr th:only-of-type {\n",
       "        vertical-align: middle;\n",
       "    }\n",
       "\n",
       "    .dataframe tbody tr th {\n",
       "        vertical-align: top;\n",
       "    }\n",
       "\n",
       "    .dataframe thead th {\n",
       "        text-align: right;\n",
       "    }\n",
       "</style>\n",
       "<table border=\"1\" class=\"dataframe\">\n",
       "  <thead>\n",
       "    <tr style=\"text-align: right;\">\n",
       "      <th></th>\n",
       "      <th>user_id</th>\n",
       "      <th>month</th>\n",
       "      <th>calls_duration</th>\n",
       "      <th>number_of_calls</th>\n",
       "      <th>gb_used</th>\n",
       "      <th>number_of_messag</th>\n",
       "      <th>city</th>\n",
       "      <th>tariff</th>\n",
       "      <th>revenue</th>\n",
       "    </tr>\n",
       "  </thead>\n",
       "  <tbody>\n",
       "    <tr>\n",
       "      <th>0</th>\n",
       "      <td>1000</td>\n",
       "      <td>5</td>\n",
       "      <td>159</td>\n",
       "      <td>22</td>\n",
       "      <td>3</td>\n",
       "      <td>22</td>\n",
       "      <td>краснодар</td>\n",
       "      <td>ultra</td>\n",
       "      <td>1950.0</td>\n",
       "    </tr>\n",
       "    <tr>\n",
       "      <th>1</th>\n",
       "      <td>1000</td>\n",
       "      <td>6</td>\n",
       "      <td>172</td>\n",
       "      <td>43</td>\n",
       "      <td>23</td>\n",
       "      <td>60</td>\n",
       "      <td>краснодар</td>\n",
       "      <td>ultra</td>\n",
       "      <td>1950.0</td>\n",
       "    </tr>\n",
       "    <tr>\n",
       "      <th>2</th>\n",
       "      <td>1000</td>\n",
       "      <td>7</td>\n",
       "      <td>340</td>\n",
       "      <td>47</td>\n",
       "      <td>14</td>\n",
       "      <td>75</td>\n",
       "      <td>краснодар</td>\n",
       "      <td>ultra</td>\n",
       "      <td>1950.0</td>\n",
       "    </tr>\n",
       "    <tr>\n",
       "      <th>3</th>\n",
       "      <td>1000</td>\n",
       "      <td>8</td>\n",
       "      <td>408</td>\n",
       "      <td>52</td>\n",
       "      <td>14</td>\n",
       "      <td>81</td>\n",
       "      <td>краснодар</td>\n",
       "      <td>ultra</td>\n",
       "      <td>1950.0</td>\n",
       "    </tr>\n",
       "    <tr>\n",
       "      <th>4</th>\n",
       "      <td>1000</td>\n",
       "      <td>9</td>\n",
       "      <td>466</td>\n",
       "      <td>58</td>\n",
       "      <td>15</td>\n",
       "      <td>57</td>\n",
       "      <td>краснодар</td>\n",
       "      <td>ultra</td>\n",
       "      <td>1950.0</td>\n",
       "    </tr>\n",
       "    <tr>\n",
       "      <th>5</th>\n",
       "      <td>1000</td>\n",
       "      <td>10</td>\n",
       "      <td>350</td>\n",
       "      <td>57</td>\n",
       "      <td>15</td>\n",
       "      <td>73</td>\n",
       "      <td>краснодар</td>\n",
       "      <td>ultra</td>\n",
       "      <td>1950.0</td>\n",
       "    </tr>\n",
       "    <tr>\n",
       "      <th>6</th>\n",
       "      <td>1000</td>\n",
       "      <td>11</td>\n",
       "      <td>338</td>\n",
       "      <td>43</td>\n",
       "      <td>15</td>\n",
       "      <td>58</td>\n",
       "      <td>краснодар</td>\n",
       "      <td>ultra</td>\n",
       "      <td>1950.0</td>\n",
       "    </tr>\n",
       "    <tr>\n",
       "      <th>7</th>\n",
       "      <td>1000</td>\n",
       "      <td>12</td>\n",
       "      <td>333</td>\n",
       "      <td>46</td>\n",
       "      <td>10</td>\n",
       "      <td>70</td>\n",
       "      <td>краснодар</td>\n",
       "      <td>ultra</td>\n",
       "      <td>1950.0</td>\n",
       "    </tr>\n",
       "    <tr>\n",
       "      <th>8</th>\n",
       "      <td>1001</td>\n",
       "      <td>11</td>\n",
       "      <td>430</td>\n",
       "      <td>59</td>\n",
       "      <td>18</td>\n",
       "      <td>0</td>\n",
       "      <td>москва</td>\n",
       "      <td>smart</td>\n",
       "      <td>1150.0</td>\n",
       "    </tr>\n",
       "    <tr>\n",
       "      <th>9</th>\n",
       "      <td>1001</td>\n",
       "      <td>12</td>\n",
       "      <td>414</td>\n",
       "      <td>63</td>\n",
       "      <td>14</td>\n",
       "      <td>0</td>\n",
       "      <td>москва</td>\n",
       "      <td>smart</td>\n",
       "      <td>550.0</td>\n",
       "    </tr>\n",
       "  </tbody>\n",
       "</table>\n",
       "</div>"
      ],
      "text/plain": [
       "   user_id  month  calls_duration  number_of_calls  gb_used  number_of_messag  \\\n",
       "0     1000      5             159               22        3                22   \n",
       "1     1000      6             172               43       23                60   \n",
       "2     1000      7             340               47       14                75   \n",
       "3     1000      8             408               52       14                81   \n",
       "4     1000      9             466               58       15                57   \n",
       "5     1000     10             350               57       15                73   \n",
       "6     1000     11             338               43       15                58   \n",
       "7     1000     12             333               46       10                70   \n",
       "8     1001     11             430               59       18                 0   \n",
       "9     1001     12             414               63       14                 0   \n",
       "\n",
       "        city tariff  revenue  \n",
       "0  краснодар  ultra   1950.0  \n",
       "1  краснодар  ultra   1950.0  \n",
       "2  краснодар  ultra   1950.0  \n",
       "3  краснодар  ultra   1950.0  \n",
       "4  краснодар  ultra   1950.0  \n",
       "5  краснодар  ultra   1950.0  \n",
       "6  краснодар  ultra   1950.0  \n",
       "7  краснодар  ultra   1950.0  \n",
       "8     москва  smart   1150.0  \n",
       "9     москва  smart    550.0  "
      ]
     },
     "execution_count": 22,
     "metadata": {},
     "output_type": "execute_result"
    }
   ],
   "source": [
    "#добавим в data информацию о тарифах и городах пользователей из tariffs\n",
    "data = pd.merge(data,users[['city','tariff','user_id']],how='left',on='user_id')\n",
    "#display(tariffs)\n",
    "#display(data.head(10))\n",
    "# Напишем функцию для подсчета помесячной выручки с пользователя \n",
    "def revenue (row):\n",
    "    if row['tariff'] == 'smart': \n",
    "        if  row['calls_duration'] > tariffs.loc[0,'minutes_included']: # расчет платы за сверхлимитные звонки\n",
    "            revenue_over_calls = (row['calls_duration'] - tariffs.loc[0,'minutes_included'])*tariffs.loc[0,'rub_per_minute']\n",
    "        else:\n",
    "            revenue_over_calls = 0\n",
    "        if  row['gb_used'] > (tariffs.loc[0,'mb_per_month_included']/1024): # расчет платы за сверхлимитные гигабайты\n",
    "            revenue_over_gb = (row['gb_used'] - (tariffs.loc[0,'mb_per_month_included']/1024))*tariffs.loc[0,'rub_per_gb']\n",
    "        else:\n",
    "            revenue_over_gb = 0  \n",
    "        if  row['number_of_messag'] > tariffs.loc[0,'messages_included']: # расчет платы за сверхлимитные сообщения\n",
    "            revenue_over_messag = (row['number_of_messag'] - tariffs.loc[0,'messages_included'])*tariffs.loc[0,'rub_per_message']\n",
    "        else:\n",
    "            revenue_over_messag = 0  \n",
    "        revenue = tariffs.loc[0,'rub_monthly_fee'] + revenue_over_calls + revenue_over_gb + revenue_over_messag # расчет помеcячной выручки \n",
    "        return revenue\n",
    "    else: # аналогичный расчет для тарифа ultra\n",
    "        if  row['calls_duration'] > tariffs.loc[1,'minutes_included']:\n",
    "            revenue_over_calls = (row['calls_duration'] - tariffs.loc[1,'minutes_included'])*tariffs.loc[1,'rub_per_minute']\n",
    "        else:\n",
    "            revenue_over_calls = 0\n",
    "        if  row['gb_used'] > (tariffs.loc[1,'mb_per_month_included']/1024):\n",
    "            revenue_over_gb = (row['gb_used'] - (tariffs.loc[1,'mb_per_month_included']/1024))*tariffs.loc[1,'rub_per_gb']\n",
    "        else:\n",
    "            revenue_over_gb = 0  \n",
    "        if  row['number_of_messag'] > tariffs.loc[1,'messages_included']:\n",
    "            revenue_over_messag = (row['number_of_messag'] - tariffs.loc[1,'messages_included'])*tariffs.loc[1,'rub_per_message']\n",
    "        else:\n",
    "            revenue_over_messag = 0  \n",
    "        revenue = tariffs.loc[1,'rub_monthly_fee'] + revenue_over_calls + revenue_over_gb + revenue_over_messag\n",
    "        return revenue\n",
    "# применим функцию revenue             \n",
    "data['revenue'] = data.apply(revenue,axis=1)                       \n",
    "data.head(10)"
   ]
  },
  {
   "cell_type": "markdown",
   "metadata": {},
   "source": [
    "## Исследовательский анализ данных"
   ]
  },
  {
   "cell_type": "markdown",
   "metadata": {},
   "source": [
    "Исследуем характеристики нашей выборки клиентов."
   ]
  },
  {
   "cell_type": "code",
   "execution_count": 23,
   "metadata": {},
   "outputs": [
    {
     "data": {
      "text/plain": [
       "<matplotlib.legend.Legend at 0x7f966b98d5b0>"
      ]
     },
     "execution_count": 23,
     "metadata": {},
     "output_type": "execute_result"
    },
    {
     "data": {
      "image/png": "[encoded data removed]",
      "text/plain": [
       "<Figure size 432x288 with 1 Axes>"
      ]
     },
     "metadata": {},
     "output_type": "display_data"
    }
   ],
   "source": [
    "# посчитаем количество клиентов для каждого тарифа и построим по этим данным круговую диаграмму\n",
    "data.groupby('tariff')['user_id'].count().plot(kind='pie',title = 'Распределение пользователей по тарифам в процентах',autopct='%.2f')\n",
    "plt.tight_layout(pad=0)\n",
    "plt.legend(['Смарт', 'Ультра'])\n"
   ]
  },
  {
   "cell_type": "markdown",
   "metadata": {},
   "source": [
    "Основная часть выборки представлена пользователями тарифа Смарт - 69%, 31% приходится на пользователей тарифа Ультра."
   ]
  },
  {
   "cell_type": "code",
   "execution_count": 289,
   "metadata": {},
   "outputs": [
    {
     "data": {
      "text/plain": [
       "<function matplotlib.pyplot.show(close=None, block=None)>"
      ]
     },
     "execution_count": 289,
     "metadata": {},
     "output_type": "execute_result"
    },
    {
     "data": {
      "image/png": "[encoded data removed]",
      "text/plain": [
       "<Figure size 432x288 with 1 Axes>"
      ]
     },
     "metadata": {},
     "output_type": "display_data"
    }
   ],
   "source": [
    "# посчитаем сумму выручки для тарифов и постороим по эти данным круговую диаграмму\n",
    "data.groupby('tariff')['revenue'].sum().plot(kind='pie',title = 'Распределение выручки по тарифам в процентах',autopct='%.2f')\n",
    "plt.tight_layout(pad=0)\n",
    "plt.legend(['Смарт', 'Ультра'])\n",
    "plt.show"
   ]
  },
  {
   "cell_type": "code",
   "execution_count": 290,
   "metadata": {},
   "outputs": [
    {
     "data": {
      "text/plain": [
       "tariff\n",
       "smart    1289.973531\n",
       "ultra    2070.152284\n",
       "Name: revenue, dtype: float64"
      ]
     },
     "metadata": {},
     "output_type": "display_data"
    },
    {
     "data": {
      "text/plain": [
       "<function matplotlib.pyplot.show(close=None, block=None)>"
      ]
     },
     "execution_count": 290,
     "metadata": {},
     "output_type": "execute_result"
    },
    {
     "data": {
      "image/png": "[encoded data removed]",
      "text/plain": [
       "<Figure size 432x288 with 1 Axes>"
      ]
     },
     "metadata": {
      "needs_background": "light"
     },
     "output_type": "display_data"
    }
   ],
   "source": [
    "# посчитаем среднее значение выручки с одного пользователя в разрезе тарифов \n",
    "display(data.groupby('tariff')['revenue'].mean())\n",
    "# представим средние в виде графика\n",
    "data.groupby('tariff')['revenue'].mean().plot(x='tariff',kind='bar',title = 'Средняя выручка пользователя')\n",
    "plt.show"
   ]
  },
  {
   "cell_type": "markdown",
   "metadata": {},
   "source": [
    "За счет более высокой средней выручки с пользователя 31% клиентов из выборки дают 41% из общей суммы выручки."
   ]
  },
  {
   "cell_type": "markdown",
   "metadata": {},
   "source": [
    "Исследуем поведение клиентов оператора."
   ]
  },
  {
   "cell_type": "code",
   "execution_count": 291,
   "metadata": {
    "scrolled": false
   },
   "outputs": [
    {
     "data": {
      "text/html": [
       "<style  type=\"text/css\" >\n",
       "</style><table id=\"T_668ba_\" ><caption>Статистики показателей тарифа SMART</caption><thead>    <tr>        <th class=\"blank level0\" ></th>        <th class=\"col_heading level0 col0\" >calls_duration</th>        <th class=\"col_heading level0 col1\" >number_of_calls</th>        <th class=\"col_heading level0 col2\" >gb_used</th>        <th class=\"col_heading level0 col3\" >number_of_messag</th>    </tr></thead><tbody>\n",
       "                <tr>\n",
       "                        <th id=\"T_668ba_level0_row0\" class=\"row_heading level0 row0\" >mean</th>\n",
       "                        <td id=\"T_668ba_row0_col0\" class=\"data row0 col0\" >417.934948</td>\n",
       "                        <td id=\"T_668ba_row0_col1\" class=\"data row0 col1\" >58.463437</td>\n",
       "                        <td id=\"T_668ba_row0_col2\" class=\"data row0 col2\" >16.328847</td>\n",
       "                        <td id=\"T_668ba_row0_col3\" class=\"data row0 col3\" >33.384029</td>\n",
       "            </tr>\n",
       "            <tr>\n",
       "                        <th id=\"T_668ba_level0_row1\" class=\"row_heading level0 row1\" >var</th>\n",
       "                        <td id=\"T_668ba_row1_col0\" class=\"data row1 col0\" >36219.315784</td>\n",
       "                        <td id=\"T_668ba_row1_col1\" class=\"data row1 col1\" >672.876243</td>\n",
       "                        <td id=\"T_668ba_row1_col2\" class=\"data row1 col2\" >33.028705</td>\n",
       "                        <td id=\"T_668ba_row1_col3\" class=\"data row1 col3\" >796.812958</td>\n",
       "            </tr>\n",
       "            <tr>\n",
       "                        <th id=\"T_668ba_level0_row2\" class=\"row_heading level0 row2\" >std</th>\n",
       "                        <td id=\"T_668ba_row2_col0\" class=\"data row2 col0\" >190.313730</td>\n",
       "                        <td id=\"T_668ba_row2_col1\" class=\"data row2 col1\" >25.939858</td>\n",
       "                        <td id=\"T_668ba_row2_col2\" class=\"data row2 col2\" >5.747061</td>\n",
       "                        <td id=\"T_668ba_row2_col3\" class=\"data row2 col3\" >28.227876</td>\n",
       "            </tr>\n",
       "            <tr>\n",
       "                        <th id=\"T_668ba_level0_row3\" class=\"row_heading level0 row3\" >median</th>\n",
       "                        <td id=\"T_668ba_row3_col0\" class=\"data row3 col0\" >422.000000</td>\n",
       "                        <td id=\"T_668ba_row3_col1\" class=\"data row3 col1\" >60.000000</td>\n",
       "                        <td id=\"T_668ba_row3_col2\" class=\"data row3 col2\" >17.000000</td>\n",
       "                        <td id=\"T_668ba_row3_col3\" class=\"data row3 col3\" >28.000000</td>\n",
       "            </tr>\n",
       "    </tbody></table>"
      ],
      "text/plain": [
       "<pandas.io.formats.style.Styler at 0x7f096299df10>"
      ]
     },
     "metadata": {},
     "output_type": "display_data"
    },
    {
     "data": {
      "text/html": [
       "<style  type=\"text/css\" >\n",
       "</style><table id=\"T_4a676_\" ><caption>Статистики показателей тарифа ULTRA</caption><thead>    <tr>        <th class=\"blank level0\" ></th>        <th class=\"col_heading level0 col0\" >calls_duration</th>        <th class=\"col_heading level0 col1\" >number_of_calls</th>        <th class=\"col_heading level0 col2\" >gb_used</th>        <th class=\"col_heading level0 col3\" >number_of_messag</th>    </tr></thead><tbody>\n",
       "                <tr>\n",
       "                        <th id=\"T_4a676_level0_row0\" class=\"row_heading level0 row0\" >mean</th>\n",
       "                        <td id=\"T_4a676_row0_col0\" class=\"data row0 col0\" >526.623350</td>\n",
       "                        <td id=\"T_4a676_row0_col1\" class=\"data row0 col1\" >73.392893</td>\n",
       "                        <td id=\"T_4a676_row0_col2\" class=\"data row0 col2\" >19.494416</td>\n",
       "                        <td id=\"T_4a676_row0_col3\" class=\"data row0 col3\" >49.363452</td>\n",
       "            </tr>\n",
       "            <tr>\n",
       "                        <th id=\"T_4a676_level0_row1\" class=\"row_heading level0 row1\" >var</th>\n",
       "                        <td id=\"T_4a676_row1_col0\" class=\"data row1 col0\" >100873.633397</td>\n",
       "                        <td id=\"T_4a676_row1_col1\" class=\"data row1 col1\" >1928.689990</td>\n",
       "                        <td id=\"T_4a676_row1_col2\" class=\"data row1 col2\" >97.091686</td>\n",
       "                        <td id=\"T_4a676_row1_col3\" class=\"data row1 col3\" >2285.266143</td>\n",
       "            </tr>\n",
       "            <tr>\n",
       "                        <th id=\"T_4a676_level0_row2\" class=\"row_heading level0 row2\" >std</th>\n",
       "                        <td id=\"T_4a676_row2_col0\" class=\"data row2 col0\" >317.606098</td>\n",
       "                        <td id=\"T_4a676_row2_col1\" class=\"data row2 col1\" >43.916853</td>\n",
       "                        <td id=\"T_4a676_row2_col2\" class=\"data row2 col2\" >9.853511</td>\n",
       "                        <td id=\"T_4a676_row2_col3\" class=\"data row2 col3\" >47.804457</td>\n",
       "            </tr>\n",
       "            <tr>\n",
       "                        <th id=\"T_4a676_level0_row3\" class=\"row_heading level0 row3\" >median</th>\n",
       "                        <td id=\"T_4a676_row3_col0\" class=\"data row3 col0\" >518.000000</td>\n",
       "                        <td id=\"T_4a676_row3_col1\" class=\"data row3 col1\" >74.000000</td>\n",
       "                        <td id=\"T_4a676_row3_col2\" class=\"data row3 col2\" >19.000000</td>\n",
       "                        <td id=\"T_4a676_row3_col3\" class=\"data row3 col3\" >38.000000</td>\n",
       "            </tr>\n",
       "    </tbody></table>"
      ],
      "text/plain": [
       "<pandas.io.formats.style.Styler at 0x7f092b26e6a0>"
      ]
     },
     "metadata": {},
     "output_type": "display_data"
    },
    {
     "data": {
      "image/png": "[encoded data removed]",
      "text/plain": [
       "<Figure size 864x432 with 1 Axes>"
      ]
     },
     "metadata": {
      "needs_background": "light"
     },
     "output_type": "display_data"
    },
    {
     "data": {
      "image/png": "[encoded data removed]",
      "text/plain": [
       "<Figure size 864x432 with 1 Axes>"
      ]
     },
     "metadata": {
      "needs_background": "light"
     },
     "output_type": "display_data"
    },
    {
     "data": {
      "image/png": "[encoded data removed]",
      "text/plain": [
       "<Figure size 864x432 with 1 Axes>"
      ]
     },
     "metadata": {
      "needs_background": "light"
     },
     "output_type": "display_data"
    },
    {
     "data": {
      "image/png": "[encoded data removed]",
      "text/plain": [
       "<Figure size 864x432 with 1 Axes>"
      ]
     },
     "metadata": {
      "needs_background": "light"
     },
     "output_type": "display_data"
    },
    {
     "data": {
      "text/html": [
       "<div>\n",
       "<style scoped>\n",
       "    .dataframe tbody tr th:only-of-type {\n",
       "        vertical-align: middle;\n",
       "    }\n",
       "\n",
       "    .dataframe tbody tr th {\n",
       "        vertical-align: top;\n",
       "    }\n",
       "\n",
       "    .dataframe thead th {\n",
       "        text-align: right;\n",
       "    }\n",
       "</style>\n",
       "<table border=\"1\" class=\"dataframe\">\n",
       "  <thead>\n",
       "    <tr style=\"text-align: right;\">\n",
       "      <th></th>\n",
       "      <th>user_id</th>\n",
       "      <th>month</th>\n",
       "      <th>calls_duration</th>\n",
       "      <th>number_of_calls</th>\n",
       "      <th>gb_used</th>\n",
       "      <th>number_of_messag</th>\n",
       "      <th>city</th>\n",
       "      <th>tariff</th>\n",
       "      <th>revenue</th>\n",
       "    </tr>\n",
       "  </thead>\n",
       "  <tbody>\n",
       "  </tbody>\n",
       "</table>\n",
       "</div>"
      ],
      "text/plain": [
       "Empty DataFrame\n",
       "Columns: [user_id, month, calls_duration, number_of_calls, gb_used, number_of_messag, city, tariff, revenue]\n",
       "Index: []"
      ]
     },
     "metadata": {},
     "output_type": "display_data"
    }
   ],
   "source": [
    "# создадим  таблицу с информацией о среднем значении продолжительности звонков , интернет-сессий, количестве сообщений \n",
    "# количестве звонков, их дисперсии и стандартном отклонении для пользователей тарифа smart \n",
    "stat_smart = data.query('tariff == \"smart\"')\n",
    "stat_smart = stat_smart[['calls_duration', 'number_of_calls', 'gb_used','number_of_messag']].agg(['mean',np.var,np.std,'median'])\n",
    "display(stat_smart.style.set_caption('Статистики показателей тарифа SMART'))\n",
    "# создадим  таблицу с информацией о среднем значении продолжительности звонков , интернет-сессий, количестве сообщений \n",
    "# количестве звонков, их дисперсии и стандартном отклонении  для пользователей тарифа ultra\n",
    "stat_ultra = data.query('tariff == \"ultra\"')\n",
    "stat_ultra = stat_ultra[['calls_duration', 'number_of_calls', 'gb_used','number_of_messag']].agg(['mean',np.var,np.std,'median'])\n",
    "display(stat_ultra.style.set_caption('Статистики показателей тарифа ULTRA'))\n",
    "# создадим список показателей, для которых построим гистограммы\n",
    "names = ['calls_duration','number_of_calls','gb_used','number_of_messag']\n",
    "# создадим словарь длины линий, обозначающих среднее и отображаемых на соответствующих гистограммах\n",
    "ymax_dict = {'calls_duration':175,\n",
    "         'number_of_calls':190,\n",
    "         'gb_used':187,\n",
    "          'number_of_messag':400}\n",
    "# создадим словарь названий графиков для каждого показателя\n",
    "names_graph = {'calls_duration':'Гистограмма длительности звонков, мин.'\n",
    "               ,'number_of_calls':'Гистограма количества совершенных звонков, шт.'\n",
    "               ,'gb_used':'Гистограмма объема использованного траффика, Гб'\n",
    "               ,'number_of_messag':'Гистограмма количества отправленных сообщений, шт.'\n",
    "               }             \n",
    "# напишем цикл для построения гистограмм\n",
    "fig, ax = plt.subplots()\n",
    "for name in names:\n",
    "    ax=data.query('tariff == \"smart\"')[name].hist(bins=40,alpha=0.5,label='smart',figsize=(12,6))\n",
    "    data.query('tariff == \"ultra\"')[name].hist(bins=40,alpha=0.5,label='ultra',ax=ax,figsize=(12,6))\n",
    "    plt.vlines(x= stat_smart.loc['mean',name], color='blue', linestyle='--', label='Среднее SMART',\n",
    "               ymin=0,ymax=ymax_dict.get(name))\n",
    "    ax.text(stat_smart.loc['mean',name],ymax_dict.get(name),'{0:.0f}'.format(stat_smart.loc['mean',name]), \n",
    "             fontsize='large')\n",
    "    plt.vlines(x= stat_ultra.loc['mean',name], color='orange', linestyle='--', label='Среднее ULTRA',\n",
    "               ymin=0,ymax=ymax_dict.get(name))\n",
    "    ax.text(stat_ultra.loc['mean',name],ymax_dict.get(name),'{0:.0f}'.format(stat_ultra.loc['mean',name]), \n",
    "             fontsize='large')\n",
    "    plt.title(names_graph[name])\n",
    "    plt.tight_layout()\n",
    "    plt.legend()\n",
    "    plt.show()\n",
    "    \n",
    "display(data.query('tariff == \"ultra\"&number_of_messag>=1000'))"
   ]
  },
  {
   "cell_type": "code",
   "execution_count": 292,
   "metadata": {
    "scrolled": false
   },
   "outputs": [
    {
     "data": {
      "image/png": "[encoded data removed]",
      "text/plain": [
       "<Figure size 432x288 with 1 Axes>"
      ]
     },
     "metadata": {
      "needs_background": "light"
     },
     "output_type": "display_data"
    },
    {
     "data": {
      "image/png": "[encoded data removed]",
      "text/plain": [
       "<Figure size 432x288 with 1 Axes>"
      ]
     },
     "metadata": {
      "needs_background": "light"
     },
     "output_type": "display_data"
    },
    {
     "data": {
      "image/png": "[encoded data removed]",
      "text/plain": [
       "<Figure size 432x288 with 1 Axes>"
      ]
     },
     "metadata": {
      "needs_background": "light"
     },
     "output_type": "display_data"
    },
    {
     "data": {
      "image/png": "[encoded data removed]",
      "text/plain": [
       "<Figure size 432x288 with 1 Axes>"
      ]
     },
     "metadata": {
      "needs_background": "light"
     },
     "output_type": "display_data"
    }
   ],
   "source": [
    "# создадим сводную таблицу с информацией о среднем значении продолжительности звонков , интернет-сессий, количестве сообщений \n",
    "#  для пользователей тарифа smart и агрегацией по месяцам\n",
    "pivot_smart_data = (\n",
    "                    data[data['tariff'] == 'smart']\n",
    "                    .pivot_table(index='month',values=['calls_duration','gb_used','number_of_messag','number_of_calls'],\n",
    "                                aggfunc=['mean'])\n",
    "                    .reset_index() \n",
    "                         )\n",
    "pivot_smart_data.columns = ['-'.join(col) for col in pivot_smart_data.columns]\n",
    "# создадим сводную таблицу с информацией о среднем значении продолжительности звонков , интернет-сессий, количестве сообщений \n",
    "#  для пользователей тарифа ultra и агрегацией по месяцам\n",
    "pivot_ultra_data = (\n",
    "                    data[data['tariff'] == 'ultra']\n",
    "                    .pivot_table(index='month',values=['calls_duration','gb_used','number_of_messag','number_of_calls'],\n",
    "                                aggfunc=['mean'])\n",
    "                         )\n",
    "pivot_ultra_data.columns = ['-'.join(col) for col in pivot_ultra_data.columns]\n",
    "\n",
    "\n",
    "# создадим список показателей, для которых будем строить графики\n",
    "names = ['mean-calls_duration','mean-gb_used','mean-number_of_messag','mean-number_of_calls']\n",
    "# создадим словарь названий графиков для каждого показателя\n",
    "names_graph = {'mean-calls_duration':'Среднее количество используемых минут на пользователя'\n",
    "               ,'mean-gb_used':'Средний ежемесячный объем траффика пользователя '\n",
    "               ,'mean-number_of_messag':'Среднее количество сообщений по месяцам '\n",
    "               ,'mean-number_of_calls':'Среднее количество звонков по месяцам '}\n",
    "# напишем цикл для построения графиков\n",
    "for name in names:\n",
    "    ax = pivot_smart_data[name].plot(kind ='bar',label='smart',alpha=0.5)#,color='green')\n",
    "    pivot_ultra_data[name].plot(kind ='bar',label='ultra',alpha=0.3,ax=ax)#,color='red')\n",
    "    plt.title(names_graph[name])\n",
    "    plt.tight_layout()\n",
    "    plt.legend()\n",
    "    plt.show()"
   ]
  },
  {
   "cell_type": "markdown",
   "metadata": {},
   "source": [
    "По построенным гистограммам видно, что распределение показателей активности клиентов тарифов Смарт и Ультра  различается. Это говорит о разном поведении клиентов данных тарифов.Клиенты тарифа Ультра более активны: они больше разоваривают, больше используют Гб, пишут большее количество сообщений.Данная тенденция устойчива и сохраняется на протяжении всех 12 месяцев.Среди клиентов тарифа Смарт наблюдается большее однообразие в своем поведении как внутри выборки от клиента к клиенту, так и на протяжении года от месяца к месяцу.\n",
    "\n",
    "О разном поведении клиентов тарифов также говорит и разница стандартных отклонений для показателей разных тарифов.Стандартное отклонение по показателям пользователей тарифа Ультра  выше , чем для тарифа Смарт, что соответствует большему разбросу значений показателей количества используемых минут, объема трафика и количества сообщений для тарифа Ультра. Поведение клиентов тарифа Смарт более однообразное, что может быть связано с большими ограничениями в лимитах тарифа.\n",
    "\n",
    "В основном, клиенты тарифа Смарт говорят в месяц от 250 мин до 600 мин, среднее значение длительности звонков в месяц для одного пользователя равно 417 мин.\n",
    "\n",
    "У пользователей тарифа Ультра поведении более разнообразно : есть много пользователей, говорящих значительно больше среднего и много пользователей с небольшим количеством использованных минут в месяц . О чем также говорит и более высокое стандартное отклонение для длительности звонков пользователей Ультра. Оно превышает аналогичный показатель для тарифа Смарт в 1,7 раз (318 мин. - Ультра и 190 мин. - Смарт). Среднее количество используемых минут в месяц для пользователей тарифа Ультра равно 527.\n",
    "\n",
    "Пользователи Смарт используют в месяц, в основном, от 10 до 23 Гб траффика. Пользователям Смарт часто не хватает бесплатного месячного траффика, включенного в пакет тарифа(лимит для Смарт - 15 Гб, средний объем используемого траффика-16 Гб).  Пользователи тарифа Ультра ,в среднем, используют в месяц траффика незначительно больше (19Гб),чем пользователи Смарта. \n",
    "\n",
    "Для обоих тарифов характерно то ,что услуга отправки сообщений не так  популярна , как звонки и интернет. На гистограммах виден пик рядом  с нулем, говорящий о высоком количестве пользователей, отправляющих до 10 сообщений в мес.\n",
    "\n",
    "\n",
    "\n"
   ]
  },
  {
   "cell_type": "markdown",
   "metadata": {},
   "source": [
    "## Проверка гипотез"
   ]
  },
  {
   "cell_type": "markdown",
   "metadata": {},
   "source": [
    "### Средняя выручка пользователей тарифов \"Ультра\" и \"Смарт\" различаются"
   ]
  },
  {
   "cell_type": "markdown",
   "metadata": {},
   "source": [
    "\n",
    "Проверим различаются ли средняя выручка пользователей тарифов \"Ультра\" и \"Смарт\".\n",
    "\n",
    "Установим нулевую гипотезу - Средняя выручка пользователей тарифов \"Ультра\" и \"Смарт\" одинаковая.\n",
    "\n",
    "Если гипотеза верна то данные не будут противоречить ей .Если же  вероятность получить такие данные очень низка, отбросим нулевую гипотезу в пользу альтернативной. \n",
    "\n",
    "Альтернативную гипотезу сформулируем как : Средняя выручна пользователей тарифов \"Ультра\" и \"Смарт\" различаются.\n",
    "\n",
    "Критический уровень статистической значимости зададим значением в 5%, такой порог в статитический практике характиризуется как значимый."
   ]
  },
  {
   "cell_type": "code",
   "execution_count": 293,
   "metadata": {},
   "outputs": [
    {
     "name": "stdout",
     "output_type": "stream",
     "text": [
      "p-значение: 4.2606313931076085e-250\n",
      "Отвергаем нулевую гипотезу\n"
     ]
    }
   ],
   "source": [
    "# выручка пользователей smart\n",
    "revenue_smart = data[data['tariff'] == 'smart']['revenue']\n",
    "\n",
    "# выручка пользователей ultra\n",
    "revenue_ultra = data[data['tariff'] == 'ultra']['revenue'] \n",
    "\n",
    "#  зададим критический уровень статистической значимости\n",
    "alpha = .05\n",
    "\n",
    "#  проверим гипотезу о равенстве средних двух независимых совокупностей\n",
    "results = st.ttest_ind(revenue_smart,revenue_ultra,equal_var = False)\n",
    "\n",
    "print('p-значение:', results.pvalue)\n",
    "\n",
    "# сравним  получившееся p-значение с заданным уровнем статистической значимости\n",
    "if results.pvalue < alpha:\n",
    "    print(\"Отвергаем нулевую гипотезу\")\n",
    "else:\n",
    "    print(\"Не получилось отвергнуть нулевую гипотезу\")"
   ]
  },
  {
   "cell_type": "markdown",
   "metadata": {},
   "source": [
    "Данное p-значение указывают на то, что существует статистически  значимые расхождения.\n",
    "\n",
    "Вероятность получить такое или большее различие в средних случайно стремиться к нулю (1.4229814360764067e-160). Что является достаточным основанием говорить о том,что средняя выручка пользователей тарифов Смарт и Ультра различается, так как нулевая гипотеза отвергнута в пользу альтернативной."
   ]
  },
  {
   "cell_type": "code",
   "execution_count": 294,
   "metadata": {},
   "outputs": [
    {
     "name": "stdout",
     "output_type": "stream",
     "text": [
      "1289.9735307312696\n",
      "2070.1522842639592\n"
     ]
    }
   ],
   "source": [
    "# средняя выручка тарифов smart и ultra\n",
    "print(revenue_smart.mean())\n",
    "print(revenue_ultra.mean())"
   ]
  },
  {
   "cell_type": "markdown",
   "metadata": {},
   "source": [
    "### Средняя выручка пользователей из Москвы отличается от выручки пользователей из других регионов"
   ]
  },
  {
   "cell_type": "markdown",
   "metadata": {},
   "source": [
    "\n",
    "Проверим различаются ли средняя выручка пользователей из Москвы от выручки пользователей других регионов.\n",
    "\n",
    "Установим нулевую гипотезу - Средняя выручка пользователей тарифов Москвы и других регионов одинаковая.\n",
    "\n",
    "Альтернативную гипотезу сформулируем так  - Средняя выручка пользователей тарифов Москвы и других регионов разная.\n",
    "Критический уровень статистической значимости зададим значением 0.05"
   ]
  },
  {
   "cell_type": "code",
   "execution_count": 295,
   "metadata": {
    "scrolled": true
   },
   "outputs": [
    {
     "name": "stdout",
     "output_type": "stream",
     "text": [
      "p-значение: 0.5257376663729298\n",
      "Не получилось отвергнуть нулевую гипотезу\n"
     ]
    }
   ],
   "source": [
    "# выручка пользователей из Москвы\n",
    "revenue_moscow = data[data['city'] == 'москва']['revenue']\n",
    "\n",
    "# выручка пользователей из других городов\n",
    "revenue_other = data[data['city'] != 'москва']['revenue'] \n",
    "\n",
    "#  зададим критический уровень статистической значимости\n",
    "alpha = .05 \n",
    "\n",
    "#  проверим гипотезу о равенстве средних двух независимых совокупностей\n",
    "results = st.ttest_ind(revenue_moscow,revenue_other,equal_var = False)\n",
    "\n",
    "print('p-значение:', results.pvalue)\n",
    "\n",
    "# сравним  получившееся p-значение с заданным уровнем статистической значимости\n",
    "if results.pvalue < alpha:\n",
    "    print(\"Отвергаем нулевую гипотезу\")\n",
    "else:\n",
    "    print(\"Не получилось отвергнуть нулевую гипотезу\")"
   ]
  },
  {
   "cell_type": "code",
   "execution_count": 296,
   "metadata": {},
   "outputs": [
    {
     "name": "stdout",
     "output_type": "stream",
     "text": [
      "Средняя выручка пользователей из Москвы 1546.7135842880523\n",
      "Средняя выручка пользователей других городов 1524.9362274298885\n"
     ]
    }
   ],
   "source": [
    "# средняя выручка пользователей из Москвы и из других городов \n",
    "print('Средняя выручка пользователей из Москвы' ,revenue_moscow.mean())\n",
    "print('Средняя выручка пользователей других городов',revenue_other.mean())"
   ]
  },
  {
   "cell_type": "markdown",
   "metadata": {},
   "source": [
    "Полученное p-значение показывает, что между двумя средними отсутствует статистически значимое расхождение.\n",
    "\n",
    "Нулевую гипотезу \"Средняя выручка пользователей тарифов Москвы и других регионов одинаковая\" отвергнуть не получилось."
   ]
  },
  {
   "cell_type": "markdown",
   "metadata": {},
   "source": [
    "## Общий вывод"
   ]
  },
  {
   "cell_type": "markdown",
   "metadata": {},
   "source": [
    "Цель проводимого исследования - проанализировать поведение клиентов и сделать вывод о том, какой тариф приносит больше денег.\n",
    "\n",
    "В ходе исследования была проведена предобработка данных,заполнены пропуски , заменены типы данных,посчитана выручка с каждого пользователя в выборке,что позволило провести анализ поведения пользователей и проверить 2 гипотезы.\n",
    "\n",
    "Было установлено,что:\n",
    "1. Поведение пользователей тарифов Смарт и Ультра различается.\n",
    "\n",
    "Пользователи Ультра более активны,используют большее количество минут, сообщений и больший объем трафика. \n",
    "Поведение пользователей Смарт более однообразное как от пользователя к пользователю , так и в течение года : от месяца к месяцу. \n",
    "\n",
    "\n",
    "2. Средняя выручка от одного пользователя тарифов Смарт и Ультра различаются  \n",
    "\n",
    "Средняя выручка от одного пользователя тарифа Ультра выше, чем от пользователя Смарт.\n",
    "Тест показал , что вероятность получить данное различие между средними случайно стремится к нулю, что говорит о том, что в генеральной выборке будет наблюдаться та же тенденция.\n",
    "\n",
    "\n",
    "3. Средняя выручка от одного пользователя из Москвы не отличается от средней выручки пользователя из другого города.\n",
    "\n",
    "Региональный фактор не влияет на количество денег, получаемых с одного пользователя. \n",
    "\n",
    "С точки зрения корректировки рекламного бюджета целесообразно считать тариф Ультра более выгодным. Один клиент данного тарифа, пришедшего благодаря рекламе, принесет компании больше денег, чем клиент тарифа Смарт.\n",
    "\n",
    "В рамках анализа эффективности тарифов можно сказать,что: \n",
    "\n",
    "1. Около 40% пользователей тарифа Смарт не хватает количества минут, предусмотренных пакетом и они готовы переплачивать.\n",
    "Более, чем 50% пользователей тарифа Смарт не хватает месячного лимита Гб. А 15% пользователей Смарт переплачивают за сверхлимитные    сообщения. Несмотря на большую доля пользователей Смарт , платящих сверх установленных лимитов, средняя выручка с одного пользователя выше у тарифа Ультра. \n",
    "\n",
    "\n",
    "\n",
    "\n",
    "2. У тарифа Ультра лимиты излишне высокие. Так, нет ни одного пользователя за рассматриваемый период, использующего 3000 и более минут в \n",
    "месяц или превыщающего лимит на количество сообщений в месяц в размере 1000 шт.\n",
    "С точки зрения эффективности для тарифа Ультра возможно уменьшение данных лимитов.\n",
    "\n",
    "Также возможно введение дополнительного тарифа с большими лимитами, чем у Смарта и увеличенной абонентской платой.\n"
   ]
  }
 ],
 "metadata": {
  "ExecuteTimeLog": [
   {
    "duration": 68,
    "start_time": "2022-04-06T10:58:34.533Z"
   },
   {
    "duration": 1377,
    "start_time": "2022-04-06T10:58:39.061Z"
   },
   {
    "duration": 219,
    "start_time": "2022-04-06T10:58:41.310Z"
   },
   {
    "duration": 203,
    "start_time": "2022-04-06T11:01:18.475Z"
   },
   {
    "duration": 105,
    "start_time": "2022-04-06T11:05:36.634Z"
   },
   {
    "duration": 24,
    "start_time": "2022-04-06T11:07:30.301Z"
   },
   {
    "duration": 57,
    "start_time": "2022-04-06T11:08:51.527Z"
   },
   {
    "duration": 158,
    "start_time": "2022-04-06T11:28:07.205Z"
   },
   {
    "duration": 73,
    "start_time": "2022-04-06T11:30:05.377Z"
   },
   {
    "duration": 55,
    "start_time": "2022-04-06T11:31:01.958Z"
   },
   {
    "duration": 7,
    "start_time": "2022-04-06T11:31:55.594Z"
   },
   {
    "duration": 131,
    "start_time": "2022-04-06T11:34:55.138Z"
   },
   {
    "duration": 169,
    "start_time": "2022-04-06T11:37:32.351Z"
   },
   {
    "duration": 233,
    "start_time": "2022-04-06T11:38:01.034Z"
   },
   {
    "duration": 224,
    "start_time": "2022-04-06T11:39:19.316Z"
   },
   {
    "duration": 214,
    "start_time": "2022-04-06T11:40:21.463Z"
   },
   {
    "duration": 210,
    "start_time": "2022-04-06T11:40:36.307Z"
   },
   {
    "duration": 205,
    "start_time": "2022-04-06T11:41:00.287Z"
   },
   {
    "duration": 216,
    "start_time": "2022-04-06T11:41:36.728Z"
   },
   {
    "duration": 212,
    "start_time": "2022-04-06T11:43:01.437Z"
   },
   {
    "duration": 217,
    "start_time": "2022-04-06T11:44:04.170Z"
   },
   {
    "duration": 107,
    "start_time": "2022-04-06T11:45:35.425Z"
   },
   {
    "duration": 81,
    "start_time": "2022-04-06T11:47:13.021Z"
   },
   {
    "duration": 72,
    "start_time": "2022-04-06T11:47:55.021Z"
   },
   {
    "duration": 79,
    "start_time": "2022-04-06T11:48:09.368Z"
   },
   {
    "duration": 49,
    "start_time": "2022-04-06T11:49:03.141Z"
   },
   {
    "duration": 10,
    "start_time": "2022-04-06T11:50:01.953Z"
   },
   {
    "duration": 73,
    "start_time": "2022-04-06T11:59:33.912Z"
   },
   {
    "duration": 71,
    "start_time": "2022-04-06T12:02:08.425Z"
   },
   {
    "duration": 56,
    "start_time": "2022-04-06T12:03:24.612Z"
   },
   {
    "duration": 112,
    "start_time": "2022-04-06T12:04:49.408Z"
   },
   {
    "duration": 54,
    "start_time": "2022-04-06T12:08:27.646Z"
   },
   {
    "duration": 21,
    "start_time": "2022-04-06T12:09:40.480Z"
   },
   {
    "duration": 47,
    "start_time": "2022-04-06T19:17:04.465Z"
   },
   {
    "duration": 1220,
    "start_time": "2022-04-06T19:17:08.393Z"
   },
   {
    "duration": 204,
    "start_time": "2022-04-06T19:17:09.615Z"
   },
   {
    "duration": 180,
    "start_time": "2022-04-06T19:17:09.820Z"
   },
   {
    "duration": 110,
    "start_time": "2022-04-06T19:17:10.002Z"
   },
   {
    "duration": 27,
    "start_time": "2022-04-06T19:17:10.114Z"
   },
   {
    "duration": 47,
    "start_time": "2022-04-06T19:17:10.142Z"
   },
   {
    "duration": 119,
    "start_time": "2022-04-06T19:17:10.191Z"
   },
   {
    "duration": 53,
    "start_time": "2022-04-06T19:17:10.312Z"
   },
   {
    "duration": 46,
    "start_time": "2022-04-06T19:17:10.367Z"
   },
   {
    "duration": 24,
    "start_time": "2022-04-06T19:17:10.416Z"
   },
   {
    "duration": 70,
    "start_time": "2022-04-06T19:17:10.442Z"
   },
   {
    "duration": 64,
    "start_time": "2022-04-06T19:17:10.514Z"
   },
   {
    "duration": 112,
    "start_time": "2022-04-06T19:17:10.580Z"
   },
   {
    "duration": 22,
    "start_time": "2022-04-06T19:17:10.693Z"
   },
   {
    "duration": 70,
    "start_time": "2022-04-06T19:17:10.717Z"
   },
   {
    "duration": 29,
    "start_time": "2022-04-06T19:24:03.121Z"
   },
   {
    "duration": 12,
    "start_time": "2022-04-06T19:26:01.711Z"
   },
   {
    "duration": 324,
    "start_time": "2022-04-06T19:29:10.614Z"
   },
   {
    "duration": 350,
    "start_time": "2022-04-06T19:35:24.564Z"
   },
   {
    "duration": 1123,
    "start_time": "2022-04-07T11:07:17.473Z"
   },
   {
    "duration": 42,
    "start_time": "2022-04-07T11:07:40.768Z"
   },
   {
    "duration": 1277,
    "start_time": "2022-04-07T11:07:43.637Z"
   },
   {
    "duration": 207,
    "start_time": "2022-04-07T11:07:44.917Z"
   },
   {
    "duration": 184,
    "start_time": "2022-04-07T11:07:45.138Z"
   },
   {
    "duration": 102,
    "start_time": "2022-04-07T11:07:45.324Z"
   },
   {
    "duration": 26,
    "start_time": "2022-04-07T11:07:45.427Z"
   },
   {
    "duration": 43,
    "start_time": "2022-04-07T11:07:45.455Z"
   },
   {
    "duration": 115,
    "start_time": "2022-04-07T11:07:45.499Z"
   },
   {
    "duration": 56,
    "start_time": "2022-04-07T11:07:45.616Z"
   },
   {
    "duration": 48,
    "start_time": "2022-04-07T11:07:45.673Z"
   },
   {
    "duration": 22,
    "start_time": "2022-04-07T11:07:45.723Z"
   },
   {
    "duration": 69,
    "start_time": "2022-04-07T11:07:45.747Z"
   },
   {
    "duration": 70,
    "start_time": "2022-04-07T11:07:45.818Z"
   },
   {
    "duration": 123,
    "start_time": "2022-04-07T11:07:45.889Z"
   },
   {
    "duration": 33,
    "start_time": "2022-04-07T11:07:46.014Z"
   },
   {
    "duration": 37,
    "start_time": "2022-04-07T11:07:46.049Z"
   },
   {
    "duration": 11,
    "start_time": "2022-04-07T11:07:46.088Z"
   },
   {
    "duration": 443,
    "start_time": "2022-04-07T11:07:46.100Z"
   },
   {
    "duration": 18,
    "start_time": "2022-04-07T11:07:46.545Z"
   },
   {
    "duration": 18,
    "start_time": "2022-04-07T11:07:50.063Z"
   },
   {
    "duration": 37,
    "start_time": "2022-04-07T11:43:28.201Z"
   },
   {
    "duration": 21,
    "start_time": "2022-04-07T11:50:07.286Z"
   },
   {
    "duration": 206,
    "start_time": "2022-04-07T11:51:46.019Z"
   },
   {
    "duration": 1890,
    "start_time": "2022-04-07T11:56:04.815Z"
   },
   {
    "duration": 196,
    "start_time": "2022-04-07T11:57:29.241Z"
   },
   {
    "duration": 2618,
    "start_time": "2022-04-07T11:57:42.977Z"
   },
   {
    "duration": 282,
    "start_time": "2022-04-07T11:58:17.778Z"
   },
   {
    "duration": 21,
    "start_time": "2022-04-07T11:58:34.249Z"
   },
   {
    "duration": 181,
    "start_time": "2022-04-07T11:58:41.106Z"
   },
   {
    "duration": 148,
    "start_time": "2022-04-07T12:05:33.976Z"
   },
   {
    "duration": 8831,
    "start_time": "2022-04-07T12:06:08.929Z"
   },
   {
    "duration": 2881,
    "start_time": "2022-04-07T12:13:26.622Z"
   },
   {
    "duration": 2837,
    "start_time": "2022-04-07T12:13:36.176Z"
   },
   {
    "duration": 616,
    "start_time": "2022-04-07T12:17:08.977Z"
   },
   {
    "duration": 9,
    "start_time": "2022-04-07T12:18:08.621Z"
   },
   {
    "duration": 4,
    "start_time": "2022-04-07T12:19:17.765Z"
   },
   {
    "duration": 8,
    "start_time": "2022-04-07T12:19:57.399Z"
   },
   {
    "duration": 68,
    "start_time": "2022-04-07T16:32:21.149Z"
   },
   {
    "duration": 1752,
    "start_time": "2022-04-07T16:32:36.291Z"
   },
   {
    "duration": 276,
    "start_time": "2022-04-07T16:32:38.046Z"
   },
   {
    "duration": 247,
    "start_time": "2022-04-07T16:32:38.325Z"
   },
   {
    "duration": 138,
    "start_time": "2022-04-07T16:32:38.575Z"
   },
   {
    "duration": 29,
    "start_time": "2022-04-07T16:32:38.715Z"
   },
   {
    "duration": 71,
    "start_time": "2022-04-07T16:32:38.746Z"
   },
   {
    "duration": 145,
    "start_time": "2022-04-07T16:32:38.819Z"
   },
   {
    "duration": 82,
    "start_time": "2022-04-07T16:32:38.966Z"
   },
   {
    "duration": 72,
    "start_time": "2022-04-07T16:32:39.051Z"
   },
   {
    "duration": 27,
    "start_time": "2022-04-07T16:32:39.127Z"
   },
   {
    "duration": 127,
    "start_time": "2022-04-07T16:32:39.156Z"
   },
   {
    "duration": 81,
    "start_time": "2022-04-07T16:32:39.286Z"
   },
   {
    "duration": 154,
    "start_time": "2022-04-07T16:32:39.369Z"
   },
   {
    "duration": 40,
    "start_time": "2022-04-07T16:32:39.526Z"
   },
   {
    "duration": 46,
    "start_time": "2022-04-07T16:32:39.568Z"
   },
   {
    "duration": 31,
    "start_time": "2022-04-07T16:32:39.616Z"
   },
   {
    "duration": 673,
    "start_time": "2022-04-07T16:32:39.650Z"
   },
   {
    "duration": 36,
    "start_time": "2022-04-07T16:32:40.325Z"
   },
   {
    "duration": 28,
    "start_time": "2022-04-07T16:32:40.363Z"
   },
   {
    "duration": 387,
    "start_time": "2022-04-07T16:32:40.393Z"
   },
   {
    "duration": 412,
    "start_time": "2022-04-07T16:32:40.783Z"
   },
   {
    "duration": 4195,
    "start_time": "2022-04-07T16:32:41.197Z"
   },
   {
    "duration": 4073,
    "start_time": "2022-04-07T16:32:45.395Z"
   },
   {
    "duration": 1019,
    "start_time": "2022-04-07T16:32:49.470Z"
   },
   {
    "duration": 11,
    "start_time": "2022-04-07T16:32:50.491Z"
   },
   {
    "duration": 55,
    "start_time": "2022-04-07T16:32:50.504Z"
   },
   {
    "duration": 25,
    "start_time": "2022-04-07T16:32:50.561Z"
   },
   {
    "duration": 307,
    "start_time": "2022-04-07T16:33:28.140Z"
   },
   {
    "duration": 306,
    "start_time": "2022-04-07T16:33:44.964Z"
   },
   {
    "duration": 319,
    "start_time": "2022-04-07T16:34:06.403Z"
   },
   {
    "duration": 362,
    "start_time": "2022-04-07T16:36:25.312Z"
   },
   {
    "duration": 427,
    "start_time": "2022-04-07T16:36:33.453Z"
   },
   {
    "duration": 332,
    "start_time": "2022-04-07T17:13:46.203Z"
   },
   {
    "duration": 206,
    "start_time": "2022-04-07T17:15:36.546Z"
   },
   {
    "duration": 210,
    "start_time": "2022-04-07T17:15:58.698Z"
   },
   {
    "duration": 192,
    "start_time": "2022-04-07T17:16:10.712Z"
   },
   {
    "duration": 309,
    "start_time": "2022-04-07T17:16:25.211Z"
   },
   {
    "duration": 223,
    "start_time": "2022-04-07T17:16:40.891Z"
   },
   {
    "duration": 390,
    "start_time": "2022-04-07T17:17:09.362Z"
   },
   {
    "duration": 365,
    "start_time": "2022-04-07T17:19:26.211Z"
   },
   {
    "duration": 198,
    "start_time": "2022-04-07T17:24:41.118Z"
   },
   {
    "duration": 340,
    "start_time": "2022-04-07T17:24:58.449Z"
   },
   {
    "duration": 15,
    "start_time": "2022-04-07T17:26:30.104Z"
   },
   {
    "duration": 341,
    "start_time": "2022-04-07T17:26:49.164Z"
   },
   {
    "duration": 361,
    "start_time": "2022-04-07T17:37:39.809Z"
   },
   {
    "duration": 384,
    "start_time": "2022-04-07T17:39:40.326Z"
   },
   {
    "duration": 368,
    "start_time": "2022-04-07T17:40:03.638Z"
   },
   {
    "duration": 186,
    "start_time": "2022-04-07T17:40:27.521Z"
   },
   {
    "duration": 321,
    "start_time": "2022-04-07T17:40:38.559Z"
   },
   {
    "duration": 7,
    "start_time": "2022-04-07T18:44:09.648Z"
   },
   {
    "duration": 10,
    "start_time": "2022-04-07T18:48:52.999Z"
   },
   {
    "duration": 1174,
    "start_time": "2022-04-18T07:34:54.567Z"
   },
   {
    "duration": 213,
    "start_time": "2022-04-18T07:34:55.742Z"
   },
   {
    "duration": 193,
    "start_time": "2022-04-18T07:34:55.957Z"
   },
   {
    "duration": 110,
    "start_time": "2022-04-18T07:34:56.152Z"
   },
   {
    "duration": 24,
    "start_time": "2022-04-18T07:34:56.264Z"
   },
   {
    "duration": 56,
    "start_time": "2022-04-18T07:34:56.289Z"
   },
   {
    "duration": 181,
    "start_time": "2022-04-18T07:34:56.347Z"
   },
   {
    "duration": 0,
    "start_time": "2022-04-18T07:34:56.530Z"
   },
   {
    "duration": 0,
    "start_time": "2022-04-18T07:34:56.531Z"
   },
   {
    "duration": 0,
    "start_time": "2022-04-18T07:34:56.532Z"
   },
   {
    "duration": 0,
    "start_time": "2022-04-18T07:34:56.534Z"
   },
   {
    "duration": 0,
    "start_time": "2022-04-18T07:34:56.535Z"
   },
   {
    "duration": 0,
    "start_time": "2022-04-18T07:34:56.536Z"
   },
   {
    "duration": 0,
    "start_time": "2022-04-18T07:34:56.537Z"
   },
   {
    "duration": 0,
    "start_time": "2022-04-18T07:34:56.538Z"
   },
   {
    "duration": 0,
    "start_time": "2022-04-18T07:34:56.539Z"
   },
   {
    "duration": 0,
    "start_time": "2022-04-18T07:34:56.540Z"
   },
   {
    "duration": 0,
    "start_time": "2022-04-18T07:34:56.541Z"
   },
   {
    "duration": 0,
    "start_time": "2022-04-18T07:34:56.542Z"
   },
   {
    "duration": 0,
    "start_time": "2022-04-18T07:34:56.543Z"
   },
   {
    "duration": 0,
    "start_time": "2022-04-18T07:34:56.544Z"
   },
   {
    "duration": 0,
    "start_time": "2022-04-18T07:34:56.545Z"
   },
   {
    "duration": 0,
    "start_time": "2022-04-18T07:34:56.545Z"
   },
   {
    "duration": 0,
    "start_time": "2022-04-18T07:34:56.546Z"
   },
   {
    "duration": 0,
    "start_time": "2022-04-18T07:34:56.548Z"
   },
   {
    "duration": 0,
    "start_time": "2022-04-18T07:34:56.548Z"
   },
   {
    "duration": 0,
    "start_time": "2022-04-18T07:34:56.549Z"
   },
   {
    "duration": 1,
    "start_time": "2022-04-18T07:34:56.550Z"
   },
   {
    "duration": 0,
    "start_time": "2022-04-18T07:34:56.551Z"
   },
   {
    "duration": 0,
    "start_time": "2022-04-18T07:34:56.553Z"
   },
   {
    "duration": 97,
    "start_time": "2022-04-18T07:35:22.906Z"
   },
   {
    "duration": 12,
    "start_time": "2022-04-18T07:35:28.801Z"
   },
   {
    "duration": 105,
    "start_time": "2022-04-18T07:37:11.348Z"
   },
   {
    "duration": 46,
    "start_time": "2022-04-18T07:37:12.062Z"
   },
   {
    "duration": 1185,
    "start_time": "2022-04-18T07:37:17.566Z"
   },
   {
    "duration": 224,
    "start_time": "2022-04-18T07:37:18.753Z"
   },
   {
    "duration": 189,
    "start_time": "2022-04-18T07:37:18.978Z"
   },
   {
    "duration": 106,
    "start_time": "2022-04-18T07:37:19.169Z"
   },
   {
    "duration": 25,
    "start_time": "2022-04-18T07:37:19.277Z"
   },
   {
    "duration": 57,
    "start_time": "2022-04-18T07:37:19.303Z"
   },
   {
    "duration": 111,
    "start_time": "2022-04-18T07:37:19.361Z"
   },
   {
    "duration": 49,
    "start_time": "2022-04-18T07:37:19.474Z"
   },
   {
    "duration": 54,
    "start_time": "2022-04-18T07:37:19.525Z"
   },
   {
    "duration": 10,
    "start_time": "2022-04-18T07:37:19.582Z"
   },
   {
    "duration": 83,
    "start_time": "2022-04-18T07:37:19.593Z"
   },
   {
    "duration": 56,
    "start_time": "2022-04-18T07:37:19.678Z"
   },
   {
    "duration": 119,
    "start_time": "2022-04-18T07:37:19.736Z"
   },
   {
    "duration": 22,
    "start_time": "2022-04-18T07:37:19.856Z"
   },
   {
    "duration": 43,
    "start_time": "2022-04-18T07:37:19.880Z"
   },
   {
    "duration": 11,
    "start_time": "2022-04-18T07:37:19.924Z"
   },
   {
    "duration": 620,
    "start_time": "2022-04-18T07:37:19.937Z"
   },
   {
    "duration": 19,
    "start_time": "2022-04-18T07:37:20.559Z"
   },
   {
    "duration": 57,
    "start_time": "2022-04-18T07:37:20.580Z"
   },
   {
    "duration": 196,
    "start_time": "2022-04-18T07:37:20.639Z"
   },
   {
    "duration": 258,
    "start_time": "2022-04-18T07:37:20.837Z"
   },
   {
    "duration": 280,
    "start_time": "2022-04-18T07:37:21.096Z"
   },
   {
    "duration": 120,
    "start_time": "2022-04-18T07:37:21.377Z"
   },
   {
    "duration": 3016,
    "start_time": "2022-04-18T07:37:21.499Z"
   },
   {
    "duration": 2862,
    "start_time": "2022-04-18T07:37:24.522Z"
   },
   {
    "duration": 8,
    "start_time": "2022-04-18T07:37:27.386Z"
   },
   {
    "duration": 8,
    "start_time": "2022-04-18T07:37:27.395Z"
   },
   {
    "duration": 7,
    "start_time": "2022-04-18T07:37:27.423Z"
   },
   {
    "duration": 6,
    "start_time": "2022-04-18T07:37:27.432Z"
   },
   {
    "duration": 16,
    "start_time": "2022-04-18T07:39:02.911Z"
   },
   {
    "duration": 11,
    "start_time": "2022-04-18T07:39:12.429Z"
   },
   {
    "duration": 6,
    "start_time": "2022-04-18T07:39:26.508Z"
   },
   {
    "duration": 5,
    "start_time": "2022-04-18T07:43:04.946Z"
   },
   {
    "duration": 7,
    "start_time": "2022-04-18T07:43:17.040Z"
   },
   {
    "duration": 7,
    "start_time": "2022-04-18T07:43:44.058Z"
   },
   {
    "duration": 11,
    "start_time": "2022-04-18T07:53:39.235Z"
   },
   {
    "duration": 202,
    "start_time": "2022-04-18T07:56:16.451Z"
   },
   {
    "duration": 8,
    "start_time": "2022-04-18T08:00:22.177Z"
   },
   {
    "duration": 99,
    "start_time": "2022-04-18T08:01:07.288Z"
   },
   {
    "duration": 10,
    "start_time": "2022-04-18T08:01:21.204Z"
   },
   {
    "duration": 3263,
    "start_time": "2022-04-18T08:01:49.450Z"
   },
   {
    "duration": 195,
    "start_time": "2022-04-18T08:02:08.684Z"
   },
   {
    "duration": 9,
    "start_time": "2022-04-18T08:02:12.412Z"
   },
   {
    "duration": 15,
    "start_time": "2022-04-18T08:21:17.726Z"
   },
   {
    "duration": 1370,
    "start_time": "2022-05-04T16:31:59.779Z"
   },
   {
    "duration": 205,
    "start_time": "2022-05-04T16:32:01.151Z"
   },
   {
    "duration": 183,
    "start_time": "2022-05-04T16:32:01.712Z"
   },
   {
    "duration": 112,
    "start_time": "2022-05-04T16:32:03.078Z"
   },
   {
    "duration": 18,
    "start_time": "2022-05-04T16:32:04.304Z"
   },
   {
    "duration": 44,
    "start_time": "2022-05-04T16:32:05.640Z"
   },
   {
    "duration": 103,
    "start_time": "2022-05-04T16:32:08.526Z"
   },
   {
    "duration": 49,
    "start_time": "2022-05-04T16:32:08.882Z"
   },
   {
    "duration": 52,
    "start_time": "2022-05-04T16:32:09.198Z"
   },
   {
    "duration": 12,
    "start_time": "2022-05-04T16:32:09.528Z"
   },
   {
    "duration": 119,
    "start_time": "2022-05-04T16:32:23.833Z"
   },
   {
    "duration": 8,
    "start_time": "2022-05-04T16:32:27.063Z"
   },
   {
    "duration": 1836,
    "start_time": "2022-05-04T16:32:54.989Z"
   },
   {
    "duration": 1713,
    "start_time": "2022-05-04T16:33:11.741Z"
   },
   {
    "duration": 6,
    "start_time": "2022-05-04T16:33:31.466Z"
   },
   {
    "duration": 197,
    "start_time": "2022-05-04T16:34:03.479Z"
   },
   {
    "duration": 175,
    "start_time": "2022-05-04T16:34:04.505Z"
   },
   {
    "duration": 104,
    "start_time": "2022-05-04T16:34:05.556Z"
   },
   {
    "duration": 18,
    "start_time": "2022-05-04T16:34:06.426Z"
   },
   {
    "duration": 43,
    "start_time": "2022-05-04T16:34:07.278Z"
   },
   {
    "duration": 100,
    "start_time": "2022-05-04T16:34:09.347Z"
   },
   {
    "duration": 48,
    "start_time": "2022-05-04T16:34:09.732Z"
   },
   {
    "duration": 44,
    "start_time": "2022-05-04T16:34:10.090Z"
   },
   {
    "duration": 11,
    "start_time": "2022-05-04T16:34:10.484Z"
   },
   {
    "duration": 72,
    "start_time": "2022-05-04T16:34:13.372Z"
   },
   {
    "duration": 7,
    "start_time": "2022-05-04T16:34:18.644Z"
   },
   {
    "duration": 6,
    "start_time": "2022-05-04T16:35:04.987Z"
   },
   {
    "duration": 97,
    "start_time": "2022-05-04T16:35:08.402Z"
   },
   {
    "duration": 6,
    "start_time": "2022-05-04T16:35:10.326Z"
   },
   {
    "duration": 279,
    "start_time": "2022-05-04T16:35:17.034Z"
   },
   {
    "duration": 253,
    "start_time": "2022-05-04T16:35:17.674Z"
   },
   {
    "duration": 151,
    "start_time": "2022-05-04T16:35:18.688Z"
   },
   {
    "duration": 24,
    "start_time": "2022-05-04T16:35:19.498Z"
   },
   {
    "duration": 59,
    "start_time": "2022-05-04T16:35:20.929Z"
   },
   {
    "duration": 141,
    "start_time": "2022-05-04T16:35:21.788Z"
   },
   {
    "duration": 44,
    "start_time": "2022-05-04T16:35:22.106Z"
   },
   {
    "duration": 43,
    "start_time": "2022-05-04T16:35:22.452Z"
   },
   {
    "duration": 11,
    "start_time": "2022-05-04T16:35:22.774Z"
   },
   {
    "duration": 70,
    "start_time": "2022-05-04T16:35:25.548Z"
   },
   {
    "duration": 6,
    "start_time": "2022-05-04T16:35:27.490Z"
   },
   {
    "duration": 72,
    "start_time": "2022-05-04T16:35:52.179Z"
   },
   {
    "duration": 103,
    "start_time": "2022-05-04T16:35:57.341Z"
   },
   {
    "duration": 14,
    "start_time": "2022-05-04T16:47:48.494Z"
   },
   {
    "duration": 10,
    "start_time": "2022-05-04T16:48:01.764Z"
   },
   {
    "duration": 107,
    "start_time": "2022-05-04T16:48:05.847Z"
   },
   {
    "duration": 26,
    "start_time": "2022-05-04T16:48:08.584Z"
   },
   {
    "duration": 32,
    "start_time": "2022-05-04T16:48:11.980Z"
   },
   {
    "duration": 12,
    "start_time": "2022-05-04T16:48:17.215Z"
   },
   {
    "duration": 352,
    "start_time": "2022-05-04T16:48:33.491Z"
   },
   {
    "duration": 21,
    "start_time": "2022-05-04T16:48:40.965Z"
   },
   {
    "duration": 27,
    "start_time": "2022-05-04T16:48:43.673Z"
   },
   {
    "duration": 200,
    "start_time": "2022-05-04T16:48:48.726Z"
   },
   {
    "duration": 32,
    "start_time": "2022-05-04T16:54:38.585Z"
   },
   {
    "duration": 31,
    "start_time": "2022-05-04T16:58:50.246Z"
   },
   {
    "duration": 29,
    "start_time": "2022-05-04T16:59:23.659Z"
   },
   {
    "duration": 31,
    "start_time": "2022-05-04T17:00:08.519Z"
   },
   {
    "duration": 31,
    "start_time": "2022-05-04T17:00:49.778Z"
   },
   {
    "duration": 29,
    "start_time": "2022-05-04T17:02:05.058Z"
   },
   {
    "duration": 4,
    "start_time": "2022-05-04T17:08:57.293Z"
   },
   {
    "duration": 6,
    "start_time": "2022-05-04T17:10:47.896Z"
   },
   {
    "duration": 23,
    "start_time": "2022-05-04T17:12:45.766Z"
   },
   {
    "duration": 19,
    "start_time": "2022-05-04T17:13:00.406Z"
   },
   {
    "duration": 58,
    "start_time": "2022-05-07T08:14:25.469Z"
   },
   {
    "duration": 1356,
    "start_time": "2022-05-07T08:14:33.689Z"
   },
   {
    "duration": 205,
    "start_time": "2022-05-07T08:14:35.048Z"
   },
   {
    "duration": 200,
    "start_time": "2022-05-07T08:14:35.255Z"
   },
   {
    "duration": 115,
    "start_time": "2022-05-07T08:14:35.457Z"
   },
   {
    "duration": 20,
    "start_time": "2022-05-07T08:14:35.573Z"
   },
   {
    "duration": 50,
    "start_time": "2022-05-07T08:14:35.595Z"
   },
   {
    "duration": 111,
    "start_time": "2022-05-07T08:14:35.647Z"
   },
   {
    "duration": 68,
    "start_time": "2022-05-07T08:14:35.759Z"
   },
   {
    "duration": 80,
    "start_time": "2022-05-07T08:14:35.829Z"
   },
   {
    "duration": 12,
    "start_time": "2022-05-07T08:14:35.913Z"
   },
   {
    "duration": 98,
    "start_time": "2022-05-07T08:14:35.927Z"
   },
   {
    "duration": 6,
    "start_time": "2022-05-07T08:14:36.027Z"
   },
   {
    "duration": 71,
    "start_time": "2022-05-07T08:14:36.034Z"
   },
   {
    "duration": 132,
    "start_time": "2022-05-07T08:14:36.107Z"
   },
   {
    "duration": 23,
    "start_time": "2022-05-07T08:14:36.240Z"
   },
   {
    "duration": 68,
    "start_time": "2022-05-07T08:14:36.264Z"
   },
   {
    "duration": 11,
    "start_time": "2022-05-07T08:14:36.333Z"
   },
   {
    "duration": 501,
    "start_time": "2022-05-07T08:14:36.346Z"
   },
   {
    "duration": 22,
    "start_time": "2022-05-07T08:14:36.849Z"
   },
   {
    "duration": 46,
    "start_time": "2022-05-07T08:14:36.873Z"
   },
   {
    "duration": 209,
    "start_time": "2022-05-07T08:14:36.921Z"
   },
   {
    "duration": 346,
    "start_time": "2022-05-07T08:14:37.132Z"
   },
   {
    "duration": 298,
    "start_time": "2022-05-07T08:14:37.480Z"
   },
   {
    "duration": 144,
    "start_time": "2022-05-07T08:14:37.780Z"
   },
   {
    "duration": 3802,
    "start_time": "2022-05-07T08:14:37.925Z"
   },
   {
    "duration": 3121,
    "start_time": "2022-05-07T08:14:41.729Z"
   },
   {
    "duration": 7,
    "start_time": "2022-05-07T08:14:44.852Z"
   },
   {
    "duration": 5,
    "start_time": "2022-05-07T08:14:44.862Z"
   },
   {
    "duration": 32,
    "start_time": "2022-05-07T08:14:44.869Z"
   },
   {
    "duration": 5,
    "start_time": "2022-05-07T08:14:44.903Z"
   },
   {
    "duration": 3930,
    "start_time": "2022-05-07T08:15:05.230Z"
   },
   {
    "duration": 2837,
    "start_time": "2022-05-07T08:20:36.635Z"
   },
   {
    "duration": 1344,
    "start_time": "2022-05-07T08:21:19.614Z"
   },
   {
    "duration": 1641,
    "start_time": "2022-05-07T08:21:50.398Z"
   },
   {
    "duration": 1670,
    "start_time": "2022-05-07T08:22:49.460Z"
   },
   {
    "duration": 1603,
    "start_time": "2022-05-07T08:23:26.218Z"
   },
   {
    "duration": 1292,
    "start_time": "2022-05-07T08:23:42.893Z"
   },
   {
    "duration": 1498,
    "start_time": "2022-05-07T08:24:26.234Z"
   },
   {
    "duration": 1481,
    "start_time": "2022-05-07T08:25:09.511Z"
   },
   {
    "duration": 164,
    "start_time": "2022-05-07T08:27:08.888Z"
   },
   {
    "duration": 1272,
    "start_time": "2022-05-07T08:27:58.600Z"
   },
   {
    "duration": 1355,
    "start_time": "2022-05-07T08:28:19.841Z"
   },
   {
    "duration": 34,
    "start_time": "2022-05-07T08:42:32.683Z"
   },
   {
    "duration": 27,
    "start_time": "2022-05-07T08:44:09.352Z"
   },
   {
    "duration": 139,
    "start_time": "2022-05-07T08:45:33.727Z"
   },
   {
    "duration": 25,
    "start_time": "2022-05-07T08:45:42.231Z"
   },
   {
    "duration": 27,
    "start_time": "2022-05-07T08:46:46.477Z"
   },
   {
    "duration": 25,
    "start_time": "2022-05-07T08:50:26.245Z"
   },
   {
    "duration": 184,
    "start_time": "2022-05-07T08:51:39.589Z"
   },
   {
    "duration": 20,
    "start_time": "2022-05-07T08:52:05.242Z"
   },
   {
    "duration": 25,
    "start_time": "2022-05-07T08:52:14.675Z"
   },
   {
    "duration": 148,
    "start_time": "2022-05-07T08:58:22.120Z"
   },
   {
    "duration": 31,
    "start_time": "2022-05-07T08:58:43.348Z"
   },
   {
    "duration": 26,
    "start_time": "2022-05-07T08:59:40.759Z"
   },
   {
    "duration": 1552,
    "start_time": "2022-05-07T09:00:28.475Z"
   },
   {
    "duration": 1742,
    "start_time": "2022-05-07T09:10:05.777Z"
   },
   {
    "duration": 1381,
    "start_time": "2022-05-07T09:12:52.589Z"
   },
   {
    "duration": 1988,
    "start_time": "2022-05-07T09:17:17.635Z"
   },
   {
    "duration": 1442,
    "start_time": "2022-05-07T09:17:37.227Z"
   },
   {
    "duration": 38,
    "start_time": "2022-05-07T09:18:45.549Z"
   },
   {
    "duration": 1542,
    "start_time": "2022-05-07T09:19:04.052Z"
   },
   {
    "duration": 2625,
    "start_time": "2022-05-07T09:28:37.474Z"
   },
   {
    "duration": 3335,
    "start_time": "2022-05-07T09:31:04.056Z"
   },
   {
    "duration": 2298,
    "start_time": "2022-05-07T09:31:36.501Z"
   },
   {
    "duration": 200,
    "start_time": "2022-05-07T09:32:16.134Z"
   },
   {
    "duration": 1692,
    "start_time": "2022-05-07T09:32:38.332Z"
   },
   {
    "duration": 302,
    "start_time": "2022-05-07T09:33:05.193Z"
   },
   {
    "duration": 2144,
    "start_time": "2022-05-07T09:37:56.525Z"
   },
   {
    "duration": 1704,
    "start_time": "2022-05-07T09:40:19.374Z"
   },
   {
    "duration": 230,
    "start_time": "2022-05-07T09:40:45.794Z"
   },
   {
    "duration": 323,
    "start_time": "2022-05-07T09:42:16.300Z"
   },
   {
    "duration": 1928,
    "start_time": "2022-05-07T09:42:58.995Z"
   },
   {
    "duration": 2154,
    "start_time": "2022-05-07T09:43:26.669Z"
   },
   {
    "duration": 1951,
    "start_time": "2022-05-07T09:43:37.930Z"
   },
   {
    "duration": 1555,
    "start_time": "2022-05-07T09:45:23.924Z"
   },
   {
    "duration": 1434,
    "start_time": "2022-05-07T09:45:36.634Z"
   },
   {
    "duration": 143,
    "start_time": "2022-05-07T09:52:57.226Z"
   },
   {
    "duration": 1814,
    "start_time": "2022-05-07T09:53:56.471Z"
   },
   {
    "duration": 1934,
    "start_time": "2022-05-07T09:54:14.972Z"
   },
   {
    "duration": 2304,
    "start_time": "2022-05-07T09:54:27.655Z"
   },
   {
    "duration": 1905,
    "start_time": "2022-05-07T09:54:59.779Z"
   },
   {
    "duration": 2212,
    "start_time": "2022-05-07T09:55:45.298Z"
   },
   {
    "duration": 2649,
    "start_time": "2022-05-07T09:56:45.435Z"
   },
   {
    "duration": 2215,
    "start_time": "2022-05-07T09:57:14.434Z"
   },
   {
    "duration": 258,
    "start_time": "2022-05-07T10:02:46.918Z"
   },
   {
    "duration": 2970,
    "start_time": "2022-05-07T10:02:57.579Z"
   },
   {
    "duration": 3159,
    "start_time": "2022-05-07T10:03:14.383Z"
   },
   {
    "duration": 2782,
    "start_time": "2022-05-07T10:03:34.015Z"
   },
   {
    "duration": 2858,
    "start_time": "2022-05-07T10:03:50.792Z"
   },
   {
    "duration": 3101,
    "start_time": "2022-05-07T10:04:04.042Z"
   },
   {
    "duration": 2348,
    "start_time": "2022-05-07T10:05:28.629Z"
   },
   {
    "duration": 2951,
    "start_time": "2022-05-07T10:06:14.971Z"
   },
   {
    "duration": 2681,
    "start_time": "2022-05-07T10:06:31.268Z"
   },
   {
    "duration": 2892,
    "start_time": "2022-05-07T10:07:14.290Z"
   },
   {
    "duration": 2836,
    "start_time": "2022-05-07T10:07:33.619Z"
   },
   {
    "duration": 1759,
    "start_time": "2022-05-07T10:08:03.430Z"
   },
   {
    "duration": 1829,
    "start_time": "2022-05-07T10:08:47.874Z"
   },
   {
    "duration": 1998,
    "start_time": "2022-05-07T10:10:20.213Z"
   },
   {
    "duration": 2191,
    "start_time": "2022-05-07T10:11:02.781Z"
   },
   {
    "duration": 1821,
    "start_time": "2022-05-07T10:12:59.692Z"
   },
   {
    "duration": 278,
    "start_time": "2022-05-07T10:15:57.086Z"
   },
   {
    "duration": 1969,
    "start_time": "2022-05-07T10:17:53.137Z"
   },
   {
    "duration": 1677,
    "start_time": "2022-05-07T10:18:59.109Z"
   },
   {
    "duration": 1843,
    "start_time": "2022-05-07T10:19:24.447Z"
   },
   {
    "duration": 1982,
    "start_time": "2022-05-07T10:19:58.658Z"
   },
   {
    "duration": 913,
    "start_time": "2022-05-07T10:50:57.132Z"
   },
   {
    "duration": 1981,
    "start_time": "2022-05-07T10:57:33.687Z"
   },
   {
    "duration": 3339,
    "start_time": "2022-05-07T11:00:10.218Z"
   },
   {
    "duration": 2537,
    "start_time": "2022-05-07T11:01:21.213Z"
   },
   {
    "duration": 2476,
    "start_time": "2022-05-07T11:06:55.426Z"
   },
   {
    "duration": 977,
    "start_time": "2022-05-07T11:07:46.615Z"
   },
   {
    "duration": 1790,
    "start_time": "2022-05-07T11:08:15.309Z"
   },
   {
    "duration": 1916,
    "start_time": "2022-05-07T11:15:53.324Z"
   },
   {
    "duration": 2698,
    "start_time": "2022-05-07T11:49:07.791Z"
   },
   {
    "duration": 2029,
    "start_time": "2022-05-07T12:33:14.083Z"
   },
   {
    "duration": 2368,
    "start_time": "2022-05-07T14:26:50.144Z"
   },
   {
    "duration": 1863,
    "start_time": "2022-05-07T14:31:03.254Z"
   },
   {
    "duration": 1920,
    "start_time": "2022-05-07T14:32:06.482Z"
   },
   {
    "duration": 1904,
    "start_time": "2022-05-07T14:33:13.650Z"
   },
   {
    "duration": 5,
    "start_time": "2022-05-07T15:54:23.866Z"
   },
   {
    "duration": 2188,
    "start_time": "2022-05-07T15:54:50.826Z"
   },
   {
    "duration": 2244,
    "start_time": "2022-05-07T15:55:23.478Z"
   },
   {
    "duration": 2210,
    "start_time": "2022-05-07T16:00:46.916Z"
   },
   {
    "duration": 146,
    "start_time": "2022-05-07T16:02:57.124Z"
   },
   {
    "duration": 128,
    "start_time": "2022-05-07T16:03:03.035Z"
   },
   {
    "duration": 144,
    "start_time": "2022-05-07T16:03:08.787Z"
   },
   {
    "duration": 2228,
    "start_time": "2022-05-07T16:03:27.057Z"
   },
   {
    "duration": 8,
    "start_time": "2022-05-07T16:04:04.365Z"
   },
   {
    "duration": 13,
    "start_time": "2022-05-07T16:04:29.850Z"
   },
   {
    "duration": 18,
    "start_time": "2022-05-07T16:04:53.049Z"
   },
   {
    "duration": 2312,
    "start_time": "2022-05-07T16:09:11.720Z"
   },
   {
    "duration": 2108,
    "start_time": "2022-05-07T16:13:43.034Z"
   },
   {
    "duration": 35,
    "start_time": "2022-05-07T16:19:57.981Z"
   },
   {
    "duration": 33,
    "start_time": "2022-05-07T16:20:35.739Z"
   },
   {
    "duration": 189,
    "start_time": "2022-05-07T16:22:07.409Z"
   },
   {
    "duration": 25,
    "start_time": "2022-05-07T16:22:15.056Z"
   },
   {
    "duration": 2317,
    "start_time": "2022-05-07T16:23:48.282Z"
   },
   {
    "duration": 2384,
    "start_time": "2022-05-07T16:24:20.902Z"
   },
   {
    "duration": 3,
    "start_time": "2022-05-07T16:24:48.081Z"
   },
   {
    "duration": 213,
    "start_time": "2022-05-07T16:24:48.086Z"
   },
   {
    "duration": 174,
    "start_time": "2022-05-07T16:24:48.301Z"
   },
   {
    "duration": 115,
    "start_time": "2022-05-07T16:24:48.477Z"
   },
   {
    "duration": 20,
    "start_time": "2022-05-07T16:24:48.594Z"
   },
   {
    "duration": 43,
    "start_time": "2022-05-07T16:24:48.615Z"
   },
   {
    "duration": 113,
    "start_time": "2022-05-07T16:24:48.660Z"
   },
   {
    "duration": 54,
    "start_time": "2022-05-07T16:24:48.774Z"
   },
   {
    "duration": 43,
    "start_time": "2022-05-07T16:24:48.830Z"
   },
   {
    "duration": 27,
    "start_time": "2022-05-07T16:24:48.874Z"
   },
   {
    "duration": 71,
    "start_time": "2022-05-07T16:24:48.903Z"
   },
   {
    "duration": 20,
    "start_time": "2022-05-07T16:24:48.976Z"
   },
   {
    "duration": 76,
    "start_time": "2022-05-07T16:24:48.997Z"
   },
   {
    "duration": 122,
    "start_time": "2022-05-07T16:24:49.074Z"
   },
   {
    "duration": 23,
    "start_time": "2022-05-07T16:24:49.198Z"
   },
   {
    "duration": 29,
    "start_time": "2022-05-07T16:24:49.223Z"
   },
   {
    "duration": 11,
    "start_time": "2022-05-07T16:24:49.254Z"
   },
   {
    "duration": 399,
    "start_time": "2022-05-07T16:24:49.266Z"
   },
   {
    "duration": 29,
    "start_time": "2022-05-07T16:24:49.667Z"
   },
   {
    "duration": 18,
    "start_time": "2022-05-07T16:24:49.698Z"
   },
   {
    "duration": 214,
    "start_time": "2022-05-07T16:24:49.718Z"
   },
   {
    "duration": 2360,
    "start_time": "2022-05-07T16:24:49.933Z"
   },
   {
    "duration": 0,
    "start_time": "2022-05-07T16:24:52.295Z"
   },
   {
    "duration": 0,
    "start_time": "2022-05-07T16:24:52.296Z"
   },
   {
    "duration": 0,
    "start_time": "2022-05-07T16:24:52.297Z"
   },
   {
    "duration": 0,
    "start_time": "2022-05-07T16:24:52.298Z"
   },
   {
    "duration": 0,
    "start_time": "2022-05-07T16:24:52.299Z"
   },
   {
    "duration": 0,
    "start_time": "2022-05-07T16:24:52.300Z"
   },
   {
    "duration": 0,
    "start_time": "2022-05-07T16:24:52.301Z"
   },
   {
    "duration": 0,
    "start_time": "2022-05-07T16:24:52.302Z"
   },
   {
    "duration": 0,
    "start_time": "2022-05-07T16:24:52.303Z"
   },
   {
    "duration": 2150,
    "start_time": "2022-05-07T16:25:54.720Z"
   },
   {
    "duration": 3,
    "start_time": "2022-05-07T16:26:10.001Z"
   },
   {
    "duration": 184,
    "start_time": "2022-05-07T16:26:10.371Z"
   },
   {
    "duration": 263,
    "start_time": "2022-05-07T16:26:11.055Z"
   },
   {
    "duration": 98,
    "start_time": "2022-05-07T16:26:12.103Z"
   },
   {
    "duration": 19,
    "start_time": "2022-05-07T16:26:12.821Z"
   },
   {
    "duration": 58,
    "start_time": "2022-05-07T16:26:13.576Z"
   },
   {
    "duration": 133,
    "start_time": "2022-05-07T16:26:15.328Z"
   },
   {
    "duration": 48,
    "start_time": "2022-05-07T16:26:15.693Z"
   },
   {
    "duration": 46,
    "start_time": "2022-05-07T16:26:16.045Z"
   },
   {
    "duration": 10,
    "start_time": "2022-05-07T16:26:16.405Z"
   },
   {
    "duration": 74,
    "start_time": "2022-05-07T16:26:18.820Z"
   },
   {
    "duration": 6,
    "start_time": "2022-05-07T16:26:19.325Z"
   },
   {
    "duration": 79,
    "start_time": "2022-05-07T16:26:19.702Z"
   },
   {
    "duration": 145,
    "start_time": "2022-05-07T16:26:20.041Z"
   },
   {
    "duration": 36,
    "start_time": "2022-05-07T16:26:20.726Z"
   },
   {
    "duration": 44,
    "start_time": "2022-05-07T16:26:21.814Z"
   },
   {
    "duration": 15,
    "start_time": "2022-05-07T16:26:22.576Z"
   },
   {
    "duration": 687,
    "start_time": "2022-05-07T16:26:25.207Z"
   },
   {
    "duration": 30,
    "start_time": "2022-05-07T16:26:26.480Z"
   },
   {
    "duration": 28,
    "start_time": "2022-05-07T16:26:27.772Z"
   },
   {
    "duration": 332,
    "start_time": "2022-05-07T16:26:30.873Z"
   },
   {
    "duration": 2373,
    "start_time": "2022-05-07T16:26:43.393Z"
   },
   {
    "duration": 2508,
    "start_time": "2022-05-07T16:27:01.193Z"
   },
   {
    "duration": 203,
    "start_time": "2022-05-07T16:27:15.842Z"
   },
   {
    "duration": 3,
    "start_time": "2022-05-07T16:27:22.796Z"
   },
   {
    "duration": 324,
    "start_time": "2022-05-07T16:27:22.803Z"
   },
   {
    "duration": 280,
    "start_time": "2022-05-07T16:27:23.130Z"
   },
   {
    "duration": 156,
    "start_time": "2022-05-07T16:27:23.413Z"
   },
   {
    "duration": 26,
    "start_time": "2022-05-07T16:27:23.573Z"
   },
   {
    "duration": 42,
    "start_time": "2022-05-07T16:27:23.601Z"
   },
   {
    "duration": 99,
    "start_time": "2022-05-07T16:27:23.644Z"
   },
   {
    "duration": 54,
    "start_time": "2022-05-07T16:27:23.745Z"
   },
   {
    "duration": 49,
    "start_time": "2022-05-07T16:27:23.800Z"
   },
   {
    "duration": 11,
    "start_time": "2022-05-07T16:27:23.850Z"
   },
   {
    "duration": 98,
    "start_time": "2022-05-07T16:27:23.864Z"
   },
   {
    "duration": 6,
    "start_time": "2022-05-07T16:27:23.964Z"
   },
   {
    "duration": 73,
    "start_time": "2022-05-07T16:27:23.972Z"
   },
   {
    "duration": 126,
    "start_time": "2022-05-07T16:27:24.047Z"
   },
   {
    "duration": 34,
    "start_time": "2022-05-07T16:27:24.174Z"
   },
   {
    "duration": 25,
    "start_time": "2022-05-07T16:27:24.210Z"
   },
   {
    "duration": 14,
    "start_time": "2022-05-07T16:27:24.237Z"
   },
   {
    "duration": 563,
    "start_time": "2022-05-07T16:27:24.253Z"
   },
   {
    "duration": 33,
    "start_time": "2022-05-07T16:27:24.818Z"
   },
   {
    "duration": 41,
    "start_time": "2022-05-07T16:27:24.853Z"
   },
   {
    "duration": 232,
    "start_time": "2022-05-07T16:27:24.896Z"
   },
   {
    "duration": 31,
    "start_time": "2022-05-07T16:27:25.130Z"
   },
   {
    "duration": 0,
    "start_time": "2022-05-07T16:27:25.163Z"
   },
   {
    "duration": 0,
    "start_time": "2022-05-07T16:27:25.166Z"
   },
   {
    "duration": 0,
    "start_time": "2022-05-07T16:27:25.192Z"
   },
   {
    "duration": 0,
    "start_time": "2022-05-07T16:27:25.194Z"
   },
   {
    "duration": 0,
    "start_time": "2022-05-07T16:27:25.196Z"
   },
   {
    "duration": 0,
    "start_time": "2022-05-07T16:27:25.197Z"
   },
   {
    "duration": 0,
    "start_time": "2022-05-07T16:27:25.198Z"
   },
   {
    "duration": 0,
    "start_time": "2022-05-07T16:27:25.200Z"
   },
   {
    "duration": 0,
    "start_time": "2022-05-07T16:27:25.201Z"
   },
   {
    "duration": 26,
    "start_time": "2022-05-07T16:28:04.582Z"
   },
   {
    "duration": 25,
    "start_time": "2022-05-07T16:28:42.067Z"
   },
   {
    "duration": 36,
    "start_time": "2022-05-07T16:30:18.538Z"
   },
   {
    "duration": 26,
    "start_time": "2022-05-07T16:33:44.673Z"
   },
   {
    "duration": 26,
    "start_time": "2022-05-07T16:34:33.066Z"
   },
   {
    "duration": 25,
    "start_time": "2022-05-07T16:34:53.049Z"
   },
   {
    "duration": 21,
    "start_time": "2022-05-07T16:40:00.109Z"
   },
   {
    "duration": 8427,
    "start_time": "2022-05-07T16:40:39.531Z"
   },
   {
    "duration": 13287,
    "start_time": "2022-05-07T16:42:54.668Z"
   },
   {
    "duration": 2717,
    "start_time": "2022-05-07T16:46:16.664Z"
   },
   {
    "duration": 13296,
    "start_time": "2022-05-07T16:52:58.448Z"
   },
   {
    "duration": 2323,
    "start_time": "2022-05-07T16:55:14.712Z"
   },
   {
    "duration": 3,
    "start_time": "2022-05-07T16:55:29.911Z"
   },
   {
    "duration": 286,
    "start_time": "2022-05-07T16:55:29.916Z"
   },
   {
    "duration": 203,
    "start_time": "2022-05-07T16:55:30.204Z"
   },
   {
    "duration": 127,
    "start_time": "2022-05-07T16:55:30.409Z"
   },
   {
    "duration": 18,
    "start_time": "2022-05-07T16:55:30.540Z"
   },
   {
    "duration": 58,
    "start_time": "2022-05-07T16:55:30.561Z"
   },
   {
    "duration": 172,
    "start_time": "2022-05-07T16:55:30.622Z"
   },
   {
    "duration": 51,
    "start_time": "2022-05-07T16:55:30.796Z"
   },
   {
    "duration": 73,
    "start_time": "2022-05-07T16:55:30.849Z"
   },
   {
    "duration": 11,
    "start_time": "2022-05-07T16:55:30.927Z"
   },
   {
    "duration": 98,
    "start_time": "2022-05-07T16:55:30.942Z"
   },
   {
    "duration": 8,
    "start_time": "2022-05-07T16:55:31.043Z"
   },
   {
    "duration": 97,
    "start_time": "2022-05-07T16:55:31.053Z"
   },
   {
    "duration": 137,
    "start_time": "2022-05-07T16:55:31.151Z"
   },
   {
    "duration": 38,
    "start_time": "2022-05-07T16:55:31.291Z"
   },
   {
    "duration": 62,
    "start_time": "2022-05-07T16:55:31.331Z"
   },
   {
    "duration": 18,
    "start_time": "2022-05-07T16:55:31.395Z"
   },
   {
    "duration": 437,
    "start_time": "2022-05-07T16:55:31.415Z"
   },
   {
    "duration": 21,
    "start_time": "2022-05-07T16:55:31.854Z"
   },
   {
    "duration": 34,
    "start_time": "2022-05-07T16:55:31.876Z"
   },
   {
    "duration": 8825,
    "start_time": "2022-05-07T16:55:31.912Z"
   },
   {
    "duration": 0,
    "start_time": "2022-05-07T16:55:40.740Z"
   },
   {
    "duration": 0,
    "start_time": "2022-05-07T16:55:40.742Z"
   },
   {
    "duration": 0,
    "start_time": "2022-05-07T16:55:40.744Z"
   },
   {
    "duration": 0,
    "start_time": "2022-05-07T16:55:40.745Z"
   },
   {
    "duration": 0,
    "start_time": "2022-05-07T16:55:40.747Z"
   },
   {
    "duration": 0,
    "start_time": "2022-05-07T16:55:40.749Z"
   },
   {
    "duration": 0,
    "start_time": "2022-05-07T16:55:40.751Z"
   },
   {
    "duration": 0,
    "start_time": "2022-05-07T16:55:40.752Z"
   },
   {
    "duration": 0,
    "start_time": "2022-05-07T16:55:40.754Z"
   },
   {
    "duration": 0,
    "start_time": "2022-05-07T16:55:40.756Z"
   },
   {
    "duration": 2451,
    "start_time": "2022-05-07T16:57:39.180Z"
   },
   {
    "duration": 198,
    "start_time": "2022-05-07T16:59:42.050Z"
   },
   {
    "duration": 3,
    "start_time": "2022-05-07T17:00:06.653Z"
   },
   {
    "duration": 193,
    "start_time": "2022-05-07T17:00:06.976Z"
   },
   {
    "duration": 174,
    "start_time": "2022-05-07T17:00:07.602Z"
   },
   {
    "duration": 99,
    "start_time": "2022-05-07T17:00:08.585Z"
   },
   {
    "duration": 19,
    "start_time": "2022-05-07T17:00:09.204Z"
   },
   {
    "duration": 44,
    "start_time": "2022-05-07T17:00:09.861Z"
   },
   {
    "duration": 98,
    "start_time": "2022-05-07T17:00:11.479Z"
   },
   {
    "duration": 51,
    "start_time": "2022-05-07T17:00:11.779Z"
   },
   {
    "duration": 47,
    "start_time": "2022-05-07T17:00:12.084Z"
   },
   {
    "duration": 12,
    "start_time": "2022-05-07T17:00:12.388Z"
   },
   {
    "duration": 77,
    "start_time": "2022-05-07T17:00:13.927Z"
   },
   {
    "duration": 6,
    "start_time": "2022-05-07T17:00:15.423Z"
   },
   {
    "duration": 59,
    "start_time": "2022-05-07T17:00:15.835Z"
   },
   {
    "duration": 106,
    "start_time": "2022-05-07T17:00:16.165Z"
   },
   {
    "duration": 23,
    "start_time": "2022-05-07T17:00:16.789Z"
   },
   {
    "duration": 26,
    "start_time": "2022-05-07T17:00:18.588Z"
   },
   {
    "duration": 10,
    "start_time": "2022-05-07T17:00:18.616Z"
   },
   {
    "duration": 439,
    "start_time": "2022-05-07T17:00:19.897Z"
   },
   {
    "duration": 20,
    "start_time": "2022-05-07T17:00:20.622Z"
   },
   {
    "duration": 20,
    "start_time": "2022-05-07T17:00:21.419Z"
   },
   {
    "duration": 198,
    "start_time": "2022-05-07T17:00:23.363Z"
   },
   {
    "duration": 8763,
    "start_time": "2022-05-07T17:00:35.966Z"
   },
   {
    "duration": 3,
    "start_time": "2022-05-07T17:03:54.856Z"
   },
   {
    "duration": 235,
    "start_time": "2022-05-07T17:03:54.862Z"
   },
   {
    "duration": 194,
    "start_time": "2022-05-07T17:03:55.099Z"
   },
   {
    "duration": 107,
    "start_time": "2022-05-07T17:03:55.295Z"
   },
   {
    "duration": 18,
    "start_time": "2022-05-07T17:03:55.405Z"
   },
   {
    "duration": 45,
    "start_time": "2022-05-07T17:03:55.425Z"
   },
   {
    "duration": 107,
    "start_time": "2022-05-07T17:03:55.472Z"
   },
   {
    "duration": 57,
    "start_time": "2022-05-07T17:03:55.581Z"
   },
   {
    "duration": 62,
    "start_time": "2022-05-07T17:03:55.640Z"
   },
   {
    "duration": 10,
    "start_time": "2022-05-07T17:03:55.703Z"
   },
   {
    "duration": 92,
    "start_time": "2022-05-07T17:03:55.717Z"
   },
   {
    "duration": 6,
    "start_time": "2022-05-07T17:03:55.811Z"
   },
   {
    "duration": 59,
    "start_time": "2022-05-07T17:03:55.818Z"
   },
   {
    "duration": 118,
    "start_time": "2022-05-07T17:03:55.893Z"
   },
   {
    "duration": 23,
    "start_time": "2022-05-07T17:03:56.013Z"
   },
   {
    "duration": 26,
    "start_time": "2022-05-07T17:03:56.038Z"
   },
   {
    "duration": 35,
    "start_time": "2022-05-07T17:03:56.065Z"
   },
   {
    "duration": 397,
    "start_time": "2022-05-07T17:03:56.101Z"
   },
   {
    "duration": 20,
    "start_time": "2022-05-07T17:03:56.499Z"
   },
   {
    "duration": 19,
    "start_time": "2022-05-07T17:03:56.520Z"
   },
   {
    "duration": 229,
    "start_time": "2022-05-07T17:03:56.541Z"
   },
   {
    "duration": 9850,
    "start_time": "2022-05-07T17:03:56.772Z"
   },
   {
    "duration": 0,
    "start_time": "2022-05-07T17:04:06.624Z"
   },
   {
    "duration": 0,
    "start_time": "2022-05-07T17:04:06.625Z"
   },
   {
    "duration": 0,
    "start_time": "2022-05-07T17:04:06.626Z"
   },
   {
    "duration": 0,
    "start_time": "2022-05-07T17:04:06.628Z"
   },
   {
    "duration": 0,
    "start_time": "2022-05-07T17:04:06.629Z"
   },
   {
    "duration": 0,
    "start_time": "2022-05-07T17:04:06.630Z"
   },
   {
    "duration": 0,
    "start_time": "2022-05-07T17:04:06.631Z"
   },
   {
    "duration": 0,
    "start_time": "2022-05-07T17:04:06.633Z"
   },
   {
    "duration": 0,
    "start_time": "2022-05-07T17:04:06.633Z"
   },
   {
    "duration": 211,
    "start_time": "2022-05-07T17:04:21.025Z"
   },
   {
    "duration": 213,
    "start_time": "2022-05-07T17:04:24.431Z"
   },
   {
    "duration": 112,
    "start_time": "2022-05-07T17:04:27.631Z"
   },
   {
    "duration": 1915,
    "start_time": "2022-05-07T17:04:32.684Z"
   },
   {
    "duration": 1676,
    "start_time": "2022-05-07T17:06:11.066Z"
   },
   {
    "duration": 10,
    "start_time": "2022-05-07T17:06:24.769Z"
   },
   {
    "duration": 4,
    "start_time": "2022-05-07T17:06:28.550Z"
   },
   {
    "duration": 9,
    "start_time": "2022-05-07T17:06:31.584Z"
   },
   {
    "duration": 4,
    "start_time": "2022-05-07T17:06:34.038Z"
   },
   {
    "duration": 50,
    "start_time": "2022-05-07T20:09:19.179Z"
   },
   {
    "duration": 1403,
    "start_time": "2022-05-07T20:09:23.187Z"
   },
   {
    "duration": 226,
    "start_time": "2022-05-07T20:09:24.593Z"
   },
   {
    "duration": 213,
    "start_time": "2022-05-07T20:09:24.821Z"
   },
   {
    "duration": 133,
    "start_time": "2022-05-07T20:09:25.036Z"
   },
   {
    "duration": 20,
    "start_time": "2022-05-07T20:09:25.171Z"
   },
   {
    "duration": 66,
    "start_time": "2022-05-07T20:09:25.193Z"
   },
   {
    "duration": 186,
    "start_time": "2022-05-07T20:09:25.262Z"
   },
   {
    "duration": 81,
    "start_time": "2022-05-07T20:09:25.455Z"
   },
   {
    "duration": 96,
    "start_time": "2022-05-07T20:09:25.539Z"
   },
   {
    "duration": 23,
    "start_time": "2022-05-07T20:09:25.639Z"
   },
   {
    "duration": 91,
    "start_time": "2022-05-07T20:09:25.664Z"
   },
   {
    "duration": 58,
    "start_time": "2022-05-07T20:09:25.757Z"
   },
   {
    "duration": 136,
    "start_time": "2022-05-07T20:09:25.818Z"
   },
   {
    "duration": 25,
    "start_time": "2022-05-07T20:09:25.956Z"
   },
   {
    "duration": 39,
    "start_time": "2022-05-07T20:09:25.983Z"
   },
   {
    "duration": 31,
    "start_time": "2022-05-07T20:09:26.024Z"
   },
   {
    "duration": 437,
    "start_time": "2022-05-07T20:09:26.057Z"
   },
   {
    "duration": 20,
    "start_time": "2022-05-07T20:09:26.496Z"
   },
   {
    "duration": 41,
    "start_time": "2022-05-07T20:09:26.518Z"
   },
   {
    "duration": 220,
    "start_time": "2022-05-07T20:09:26.561Z"
   },
   {
    "duration": 8493,
    "start_time": "2022-05-07T20:09:30.523Z"
   },
   {
    "duration": 4,
    "start_time": "2022-05-07T20:12:41.972Z"
   },
   {
    "duration": 13,
    "start_time": "2022-05-07T20:12:50.217Z"
   },
   {
    "duration": 8,
    "start_time": "2022-05-07T20:13:07.600Z"
   },
   {
    "duration": 15,
    "start_time": "2022-05-07T20:13:30.892Z"
   },
   {
    "duration": 7,
    "start_time": "2022-05-07T20:13:35.892Z"
   },
   {
    "duration": 6521,
    "start_time": "2022-05-07T20:13:56.651Z"
   },
   {
    "duration": 4,
    "start_time": "2022-05-07T20:14:46.875Z"
   },
   {
    "duration": 31,
    "start_time": "2022-05-07T20:14:57.053Z"
   },
   {
    "duration": 9,
    "start_time": "2022-05-07T20:15:32.536Z"
   },
   {
    "duration": 9,
    "start_time": "2022-05-07T20:16:11.511Z"
   },
   {
    "duration": 7,
    "start_time": "2022-05-07T20:16:20.795Z"
   },
   {
    "duration": 5,
    "start_time": "2022-05-07T20:16:24.264Z"
   },
   {
    "duration": 12,
    "start_time": "2022-05-07T20:16:31.770Z"
   },
   {
    "duration": 4,
    "start_time": "2022-05-07T20:16:45.224Z"
   },
   {
    "duration": 16,
    "start_time": "2022-05-07T20:16:47.806Z"
   },
   {
    "duration": 11,
    "start_time": "2022-05-07T20:16:50.782Z"
   },
   {
    "duration": 6,
    "start_time": "2022-05-07T20:16:56.052Z"
   },
   {
    "duration": 18,
    "start_time": "2022-05-07T20:17:01.283Z"
   },
   {
    "duration": 7,
    "start_time": "2022-05-07T20:21:01.447Z"
   },
   {
    "duration": 4,
    "start_time": "2022-05-07T20:21:08.891Z"
   },
   {
    "duration": 1717,
    "start_time": "2022-05-07T20:21:12.764Z"
   },
   {
    "duration": 5,
    "start_time": "2022-05-07T20:21:47.022Z"
   },
   {
    "duration": 8,
    "start_time": "2022-05-07T20:21:47.741Z"
   },
   {
    "duration": 1718,
    "start_time": "2022-05-07T20:21:49.485Z"
   },
   {
    "duration": 1659,
    "start_time": "2022-05-07T20:22:03.161Z"
   },
   {
    "duration": 1690,
    "start_time": "2022-05-07T20:22:27.309Z"
   },
   {
    "duration": 10,
    "start_time": "2022-05-07T20:22:34.900Z"
   },
   {
    "duration": 9,
    "start_time": "2022-05-07T20:22:47.892Z"
   },
   {
    "duration": 1620,
    "start_time": "2022-05-07T20:22:53.684Z"
   },
   {
    "duration": 6,
    "start_time": "2022-05-07T20:23:08.296Z"
   },
   {
    "duration": 9,
    "start_time": "2022-05-07T20:23:08.902Z"
   },
   {
    "duration": 1860,
    "start_time": "2022-05-07T20:23:10.036Z"
   },
   {
    "duration": 5,
    "start_time": "2022-05-07T20:31:40.279Z"
   },
   {
    "duration": 6508,
    "start_time": "2022-05-07T20:31:41.629Z"
   },
   {
    "duration": 5,
    "start_time": "2022-05-07T20:31:59.428Z"
   },
   {
    "duration": 6213,
    "start_time": "2022-05-07T20:32:00.089Z"
   },
   {
    "duration": 139,
    "start_time": "2022-05-07T20:35:28.312Z"
   }
  ],
  "kernelspec": {
   "display_name": "Python 3 (ipykernel)",
   "language": "python",
   "name": "python3"
  },
  "language_info": {
   "codemirror_mode": {
    "name": "ipython",
    "version": 3
   },
   "file_extension": ".py",
   "mimetype": "text/x-python",
   "name": "python",
   "nbconvert_exporter": "python",
   "pygments_lexer": "ipython3",
   "version": "3.9.12"
  },
  "toc": {
   "base_numbering": 1,
   "nav_menu": {
    "height": "129px",
    "width": "438px"
   },
   "number_sections": true,
   "sideBar": true,
   "skip_h1_title": true,
   "title_cell": "Table of Contents",
   "title_sidebar": "Contents",
   "toc_cell": false,
   "toc_position": {},
   "toc_section_display": true,
   "toc_window_display": true
  }
 },
 "nbformat": 4,
 "nbformat_minor": 2
}
