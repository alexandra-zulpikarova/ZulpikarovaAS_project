{
 "cells": [
  {
   "cell_type": "markdown",
   "metadata": {
    "toc": true
   },
   "source": [
    "<h1>Исследование рынка общественного питания Москвы<span class=\"tocSkip\"></span></h1>\n",
    "<div class=\"toc\"><ul class=\"toc-item\"><li><span><a href=\"#Изучение-данных\" data-toc-modified-id=\"Изучение-данных-1\"><span class=\"toc-item-num\">1&nbsp;&nbsp;</span>Изучение данных</a></span></li><li><span><a href=\"#Предобработка-данных\" data-toc-modified-id=\"Предобработка-данных-2\"><span class=\"toc-item-num\">2&nbsp;&nbsp;</span>Предобработка данных</a></span></li><li><span><a href=\"#Анализ-данных-о-рынке-общественного-питания-Москвы\" data-toc-modified-id=\"Анализ-данных-о-рынке-общественного-питания-Москвы-3\"><span class=\"toc-item-num\">3&nbsp;&nbsp;</span>Анализ данных о рынке общественного питания Москвы</a></span><ul class=\"toc-item\"><li><span><a href=\"#Распределение-объектов-общественного-питания-по-типам\" data-toc-modified-id=\"Распределение-объектов-общественного-питания-по-типам-3.1\"><span class=\"toc-item-num\">3.1&nbsp;&nbsp;</span>Распределение объектов общественного питания по типам</a></span></li><li><span><a href=\"#Соотношение-сетевых-и-несетевых-заведений-на-рынке\" data-toc-modified-id=\"Соотношение-сетевых-и-несетевых-заведений-на-рынке-3.2\"><span class=\"toc-item-num\">3.2&nbsp;&nbsp;</span>Соотношение сетевых и несетевых заведений на рынке</a></span></li><li><span><a href=\"#Характеристики-сетевого-распространения-заведений\" data-toc-modified-id=\"Характеристики-сетевого-распространения-заведений-3.3\"><span class=\"toc-item-num\">3.3&nbsp;&nbsp;</span>Характеристики сетевого распространения заведений</a></span></li><li><span><a href=\"#Анализ-среднего-количества-посадочных-мест\" data-toc-modified-id=\"Анализ-среднего-количества-посадочных-мест-3.4\"><span class=\"toc-item-num\">3.4&nbsp;&nbsp;</span>Анализ среднего количества посадочных мест</a></span></li><li><span><a href=\"#Анализ-территориального-размещения-объектов-питания\" data-toc-modified-id=\"Анализ-территориального-размещения-объектов-питания-3.5\"><span class=\"toc-item-num\">3.5&nbsp;&nbsp;</span>Анализ территориального размещения объектов питания</a></span></li></ul></li><li><span><a href=\"#Выводы\" data-toc-modified-id=\"Выводы-4\"><span class=\"toc-item-num\">4&nbsp;&nbsp;</span>Выводы</a></span></li></ul></div>"
   ]
  },
  {
   "cell_type": "markdown",
   "metadata": {},
   "source": [
    "# Описание проекта"
   ]
  },
  {
   "cell_type": "markdown",
   "metadata": {},
   "source": [
    "Цель - открыть небольшое кафе в Москве. Оно оригинальное — гостей должны обслуживать роботы. Проект многообещающий, но дорогой. Потенциальных инвесторов интересует текущее положение дел на рынке — сможет ли кафе снискать популярность на долгое время?\n",
    "Инвесторы просят  подготовить исследование рынка по открытым данным о заведениях общественного питания в Москве и данным со списком всех улиц,районов и округов Москвы."
   ]
  },
  {
   "cell_type": "markdown",
   "metadata": {},
   "source": [
    "## Изучение данных "
   ]
  },
  {
   "cell_type": "code",
   "execution_count": 1,
   "metadata": {},
   "outputs": [],
   "source": [
    "# импорт библиотек \n",
    "import pandas as pd \n",
    "import seaborn as sns\n",
    "from matplotlib import pyplot as plt\n",
    "from plotly import graph_objects as go\n",
    "import numpy as np\n",
    "from numpy import median\n",
    "import datetime as dt\n",
    "from scipy import stats as st \n",
    "from pandas.plotting import register_matplotlib_converters\n",
    "import warnings\n",
    "from io import BytesIO\n",
    "import requests\n",
    "# конвертеры, которые позволяют использовать типы pandas в matplotlib  \n",
    "register_matplotlib_converters()"
   ]
  },
  {
   "cell_type": "code",
   "execution_count": 2,
   "metadata": {},
   "outputs": [
    {
     "data": {
      "text/html": [
       "<div>\n",
       "<style scoped>\n",
       "    .dataframe tbody tr th:only-of-type {\n",
       "        vertical-align: middle;\n",
       "    }\n",
       "\n",
       "    .dataframe tbody tr th {\n",
       "        vertical-align: top;\n",
       "    }\n",
       "\n",
       "    .dataframe thead th {\n",
       "        text-align: right;\n",
       "    }\n",
       "</style>\n",
       "<table border=\"1\" class=\"dataframe\">\n",
       "  <thead>\n",
       "    <tr style=\"text-align: right;\">\n",
       "      <th></th>\n",
       "      <th>id</th>\n",
       "      <th>object_name</th>\n",
       "      <th>chain</th>\n",
       "      <th>object_type</th>\n",
       "      <th>address</th>\n",
       "      <th>number</th>\n",
       "    </tr>\n",
       "  </thead>\n",
       "  <tbody>\n",
       "    <tr>\n",
       "      <th>0</th>\n",
       "      <td>151635</td>\n",
       "      <td>СМЕТАНА</td>\n",
       "      <td>нет</td>\n",
       "      <td>кафе</td>\n",
       "      <td>город Москва, улица Егора Абакумова, дом 9</td>\n",
       "      <td>48</td>\n",
       "    </tr>\n",
       "    <tr>\n",
       "      <th>1</th>\n",
       "      <td>77874</td>\n",
       "      <td>Родник</td>\n",
       "      <td>нет</td>\n",
       "      <td>кафе</td>\n",
       "      <td>город Москва, улица Талалихина, дом 2/1, корпус 1</td>\n",
       "      <td>35</td>\n",
       "    </tr>\n",
       "    <tr>\n",
       "      <th>2</th>\n",
       "      <td>24309</td>\n",
       "      <td>Кафе «Академия»</td>\n",
       "      <td>нет</td>\n",
       "      <td>кафе</td>\n",
       "      <td>город Москва, Абельмановская улица, дом 6</td>\n",
       "      <td>95</td>\n",
       "    </tr>\n",
       "    <tr>\n",
       "      <th>3</th>\n",
       "      <td>21894</td>\n",
       "      <td>ПИЦЦЕТОРИЯ</td>\n",
       "      <td>да</td>\n",
       "      <td>кафе</td>\n",
       "      <td>город Москва, Абрамцевская улица, дом 1</td>\n",
       "      <td>40</td>\n",
       "    </tr>\n",
       "    <tr>\n",
       "      <th>4</th>\n",
       "      <td>119365</td>\n",
       "      <td>Кафе «Вишневая метель»</td>\n",
       "      <td>нет</td>\n",
       "      <td>кафе</td>\n",
       "      <td>город Москва, Абрамцевская улица, дом 9, корпус 1</td>\n",
       "      <td>50</td>\n",
       "    </tr>\n",
       "    <tr>\n",
       "      <th>5</th>\n",
       "      <td>27429</td>\n",
       "      <td>СТОЛ. ПРИ ГОУ СОШ № 1051</td>\n",
       "      <td>нет</td>\n",
       "      <td>столовая</td>\n",
       "      <td>город Москва, Абрамцевская улица, дом 15, корпус 1</td>\n",
       "      <td>240</td>\n",
       "    </tr>\n",
       "    <tr>\n",
       "      <th>6</th>\n",
       "      <td>148815</td>\n",
       "      <td>Брусника</td>\n",
       "      <td>да</td>\n",
       "      <td>кафе</td>\n",
       "      <td>город Москва, переулок Сивцев Вражек, дом 6/2</td>\n",
       "      <td>10</td>\n",
       "    </tr>\n",
       "    <tr>\n",
       "      <th>7</th>\n",
       "      <td>20957</td>\n",
       "      <td>Буфет МТУСИ</td>\n",
       "      <td>нет</td>\n",
       "      <td>столовая</td>\n",
       "      <td>город Москва, Авиамоторная улица, дом 8, строение 1</td>\n",
       "      <td>90</td>\n",
       "    </tr>\n",
       "    <tr>\n",
       "      <th>8</th>\n",
       "      <td>20958</td>\n",
       "      <td>КПФ СЕМЬЯ-1</td>\n",
       "      <td>нет</td>\n",
       "      <td>столовая</td>\n",
       "      <td>город Москва, Авиамоторная улица, дом 8, строение 1</td>\n",
       "      <td>150</td>\n",
       "    </tr>\n",
       "    <tr>\n",
       "      <th>9</th>\n",
       "      <td>28858</td>\n",
       "      <td>Столовая МТУСИ</td>\n",
       "      <td>нет</td>\n",
       "      <td>столовая</td>\n",
       "      <td>город Москва, Авиамоторная улица, дом 8, строение 1</td>\n",
       "      <td>120</td>\n",
       "    </tr>\n",
       "  </tbody>\n",
       "</table>\n",
       "</div>"
      ],
      "text/plain": [
       "       id               object_name chain object_type  \\\n",
       "0  151635                   СМЕТАНА   нет        кафе   \n",
       "1   77874                    Родник   нет        кафе   \n",
       "2   24309           Кафе «Академия»   нет        кафе   \n",
       "3   21894                ПИЦЦЕТОРИЯ    да        кафе   \n",
       "4  119365    Кафе «Вишневая метель»   нет        кафе   \n",
       "5   27429  СТОЛ. ПРИ ГОУ СОШ № 1051   нет    столовая   \n",
       "6  148815                  Брусника    да        кафе   \n",
       "7   20957               Буфет МТУСИ   нет    столовая   \n",
       "8   20958               КПФ СЕМЬЯ-1   нет    столовая   \n",
       "9   28858            Столовая МТУСИ   нет    столовая   \n",
       "\n",
       "                                               address  number  \n",
       "0           город Москва, улица Егора Абакумова, дом 9      48  \n",
       "1    город Москва, улица Талалихина, дом 2/1, корпус 1      35  \n",
       "2            город Москва, Абельмановская улица, дом 6      95  \n",
       "3              город Москва, Абрамцевская улица, дом 1      40  \n",
       "4    город Москва, Абрамцевская улица, дом 9, корпус 1      50  \n",
       "5   город Москва, Абрамцевская улица, дом 15, корпус 1     240  \n",
       "6        город Москва, переулок Сивцев Вражек, дом 6/2      10  \n",
       "7  город Москва, Авиамоторная улица, дом 8, строение 1      90  \n",
       "8  город Москва, Авиамоторная улица, дом 8, строение 1     150  \n",
       "9  город Москва, Авиамоторная улица, дом 8, строение 1     120  "
      ]
     },
     "metadata": {},
     "output_type": "display_data"
    },
    {
     "name": "stdout",
     "output_type": "stream",
     "text": [
      "<class 'pandas.core.frame.DataFrame'>\n",
      "RangeIndex: 15366 entries, 0 to 15365\n",
      "Data columns (total 6 columns):\n",
      " #   Column       Non-Null Count  Dtype \n",
      "---  ------       --------------  ----- \n",
      " 0   id           15366 non-null  int64 \n",
      " 1   object_name  15366 non-null  object\n",
      " 2   chain        15366 non-null  object\n",
      " 3   object_type  15366 non-null  object\n",
      " 4   address      15366 non-null  object\n",
      " 5   number       15366 non-null  int64 \n",
      "dtypes: int64(2), object(4)\n",
      "memory usage: 720.4+ KB\n"
     ]
    }
   ],
   "source": [
    "# настроим вывод таблиц так, чтобы содержимое строки отображолось полностью\n",
    "pd.set_option('display.max_colwidth', None)\n",
    "pd.set_option('display.float_format', '{:,.2f}'.format)\n",
    "# прочитаем датасеты и сохраним в переменные \n",
    "data = pd.read_csv('/datasets/rest_data.csv')\n",
    "# выведем таблицу\n",
    "display(data.head(10))\n",
    "# получение общей информации о данных датасета\n",
    "data.info()"
   ]
  },
  {
   "cell_type": "markdown",
   "metadata": {},
   "source": [
    "Согласно документации к данным таблица  содержит:\n",
    " - id — идентификатор объекта;\n",
    " - object_name — название объекта общественного питания;\n",
    " - chain — сетевой ресторан;\n",
    " - object_type — тип объекта общественного питания;\n",
    " - address — адрес;\n",
    " - number — количество посадочных мест."
   ]
  },
  {
   "cell_type": "code",
   "execution_count": 3,
   "metadata": {},
   "outputs": [
    {
     "data": {
      "text/plain": [
       "array(['нет', 'да'], dtype=object)"
      ]
     },
     "execution_count": 3,
     "metadata": {},
     "output_type": "execute_result"
    }
   ],
   "source": [
    "# посмотрим на уникальные значения каналов привлечения датасета orders\n",
    "data['chain'].unique()"
   ]
  },
  {
   "cell_type": "code",
   "execution_count": 4,
   "metadata": {},
   "outputs": [
    {
     "data": {
      "text/plain": [
       "array(['кафе', 'столовая', 'закусочная',\n",
       "       'предприятие быстрого обслуживания', 'ресторан', 'кафетерий',\n",
       "       'буфет', 'бар', 'магазин (отдел кулинарии)'], dtype=object)"
      ]
     },
     "execution_count": 4,
     "metadata": {},
     "output_type": "execute_result"
    }
   ],
   "source": [
    "# посмотрим на уникальные значения каналов привлечения датасета orders\n",
    "data['object_type'].unique()"
   ]
  },
  {
   "cell_type": "code",
   "execution_count": 5,
   "metadata": {},
   "outputs": [
    {
     "data": {
      "text/html": [
       "<div>\n",
       "<style scoped>\n",
       "    .dataframe tbody tr th:only-of-type {\n",
       "        vertical-align: middle;\n",
       "    }\n",
       "\n",
       "    .dataframe tbody tr th {\n",
       "        vertical-align: top;\n",
       "    }\n",
       "\n",
       "    .dataframe thead th {\n",
       "        text-align: right;\n",
       "    }\n",
       "</style>\n",
       "<table border=\"1\" class=\"dataframe\">\n",
       "  <thead>\n",
       "    <tr style=\"text-align: right;\">\n",
       "      <th></th>\n",
       "      <th>id</th>\n",
       "      <th>number</th>\n",
       "    </tr>\n",
       "  </thead>\n",
       "  <tbody>\n",
       "    <tr>\n",
       "      <th>count</th>\n",
       "      <td>15,366.00</td>\n",
       "      <td>15,366.00</td>\n",
       "    </tr>\n",
       "    <tr>\n",
       "      <th>mean</th>\n",
       "      <td>119,720.07</td>\n",
       "      <td>59.55</td>\n",
       "    </tr>\n",
       "    <tr>\n",
       "      <th>std</th>\n",
       "      <td>73,036.13</td>\n",
       "      <td>74.74</td>\n",
       "    </tr>\n",
       "    <tr>\n",
       "      <th>min</th>\n",
       "      <td>838.00</td>\n",
       "      <td>0.00</td>\n",
       "    </tr>\n",
       "    <tr>\n",
       "      <th>25%</th>\n",
       "      <td>28,524.00</td>\n",
       "      <td>12.00</td>\n",
       "    </tr>\n",
       "    <tr>\n",
       "      <th>50%</th>\n",
       "      <td>144,974.50</td>\n",
       "      <td>40.00</td>\n",
       "    </tr>\n",
       "    <tr>\n",
       "      <th>75%</th>\n",
       "      <td>184,262.25</td>\n",
       "      <td>80.00</td>\n",
       "    </tr>\n",
       "    <tr>\n",
       "      <th>max</th>\n",
       "      <td>223,439.00</td>\n",
       "      <td>1,700.00</td>\n",
       "    </tr>\n",
       "  </tbody>\n",
       "</table>\n",
       "</div>"
      ],
      "text/plain": [
       "              id    number\n",
       "count  15,366.00 15,366.00\n",
       "mean  119,720.07     59.55\n",
       "std    73,036.13     74.74\n",
       "min       838.00      0.00\n",
       "25%    28,524.00     12.00\n",
       "50%   144,974.50     40.00\n",
       "75%   184,262.25     80.00\n",
       "max   223,439.00  1,700.00"
      ]
     },
     "execution_count": 5,
     "metadata": {},
     "output_type": "execute_result"
    }
   ],
   "source": [
    "# посмотрим статистическую инфо о посадочных местах\n",
    "data.describe()"
   ]
  },
  {
   "cell_type": "markdown",
   "metadata": {},
   "source": [
    "Просматривая статистическую информацию  и уникальные значения текстовых столбцов в данных не обнаружено значений, не соответствующих действительности .\n",
    "\n",
    "Пропусков в датасете не выявлено. \n",
    "\n",
    "Для оптимальной работы изменим тип данных столбца chain с object на bool. У остальных столбцов датасета тип данных соответсвующий.\n",
    "\n",
    "Для удобства работы с данными необходимо перевести значения object_name,address   датасета к нижнему регистру.\n",
    "\n",
    "\n",
    "\n",
    "\n",
    "А также проверить данные датасета на явные дубликаты и неявные дубликаты.\n"
   ]
  },
  {
   "cell_type": "markdown",
   "metadata": {},
   "source": [
    "##  Предобработка данных"
   ]
  },
  {
   "cell_type": "markdown",
   "metadata": {},
   "source": [
    "Приведем значения  столбцов object_name,address датасета к нижнему регистру."
   ]
  },
  {
   "cell_type": "code",
   "execution_count": 6,
   "metadata": {},
   "outputs": [],
   "source": [
    "# приводим object_name и address к нижнему регистру\n",
    "data['object_name'] = data['object_name'].str.lower()\n",
    "data['address'] = data['address'].str.lower()"
   ]
  },
  {
   "cell_type": "markdown",
   "metadata": {},
   "source": [
    "Изменим тип данных столбца chain таблиц  с object на bool. "
   ]
  },
  {
   "cell_type": "code",
   "execution_count": 7,
   "metadata": {},
   "outputs": [
    {
     "name": "stdout",
     "output_type": "stream",
     "text": [
      "<class 'pandas.core.frame.DataFrame'>\n",
      "RangeIndex: 15366 entries, 0 to 15365\n",
      "Data columns (total 6 columns):\n",
      " #   Column       Non-Null Count  Dtype \n",
      "---  ------       --------------  ----- \n",
      " 0   id           15366 non-null  int64 \n",
      " 1   object_name  15366 non-null  object\n",
      " 2   chain        15366 non-null  bool  \n",
      " 3   object_type  15366 non-null  object\n",
      " 4   address      15366 non-null  object\n",
      " 5   number       15366 non-null  int64 \n",
      "dtypes: bool(1), int64(2), object(3)\n",
      "memory usage: 615.4+ KB\n"
     ]
    },
    {
     "data": {
      "text/html": [
       "<div>\n",
       "<style scoped>\n",
       "    .dataframe tbody tr th:only-of-type {\n",
       "        vertical-align: middle;\n",
       "    }\n",
       "\n",
       "    .dataframe tbody tr th {\n",
       "        vertical-align: top;\n",
       "    }\n",
       "\n",
       "    .dataframe thead th {\n",
       "        text-align: right;\n",
       "    }\n",
       "</style>\n",
       "<table border=\"1\" class=\"dataframe\">\n",
       "  <thead>\n",
       "    <tr style=\"text-align: right;\">\n",
       "      <th></th>\n",
       "      <th>id</th>\n",
       "      <th>object_name</th>\n",
       "      <th>chain</th>\n",
       "      <th>object_type</th>\n",
       "      <th>address</th>\n",
       "      <th>number</th>\n",
       "    </tr>\n",
       "  </thead>\n",
       "  <tbody>\n",
       "    <tr>\n",
       "      <th>0</th>\n",
       "      <td>151635</td>\n",
       "      <td>сметана</td>\n",
       "      <td>False</td>\n",
       "      <td>кафе</td>\n",
       "      <td>город москва, улица егора абакумова, дом 9</td>\n",
       "      <td>48</td>\n",
       "    </tr>\n",
       "    <tr>\n",
       "      <th>1</th>\n",
       "      <td>77874</td>\n",
       "      <td>родник</td>\n",
       "      <td>False</td>\n",
       "      <td>кафе</td>\n",
       "      <td>город москва, улица талалихина, дом 2/1, корпус 1</td>\n",
       "      <td>35</td>\n",
       "    </tr>\n",
       "    <tr>\n",
       "      <th>2</th>\n",
       "      <td>24309</td>\n",
       "      <td>кафе «академия»</td>\n",
       "      <td>False</td>\n",
       "      <td>кафе</td>\n",
       "      <td>город москва, абельмановская улица, дом 6</td>\n",
       "      <td>95</td>\n",
       "    </tr>\n",
       "    <tr>\n",
       "      <th>3</th>\n",
       "      <td>21894</td>\n",
       "      <td>пиццетория</td>\n",
       "      <td>True</td>\n",
       "      <td>кафе</td>\n",
       "      <td>город москва, абрамцевская улица, дом 1</td>\n",
       "      <td>40</td>\n",
       "    </tr>\n",
       "    <tr>\n",
       "      <th>4</th>\n",
       "      <td>119365</td>\n",
       "      <td>кафе «вишневая метель»</td>\n",
       "      <td>False</td>\n",
       "      <td>кафе</td>\n",
       "      <td>город москва, абрамцевская улица, дом 9, корпус 1</td>\n",
       "      <td>50</td>\n",
       "    </tr>\n",
       "  </tbody>\n",
       "</table>\n",
       "</div>"
      ],
      "text/plain": [
       "       id             object_name  chain object_type  \\\n",
       "0  151635                 сметана  False        кафе   \n",
       "1   77874                  родник  False        кафе   \n",
       "2   24309         кафе «академия»  False        кафе   \n",
       "3   21894              пиццетория   True        кафе   \n",
       "4  119365  кафе «вишневая метель»  False        кафе   \n",
       "\n",
       "                                             address  number  \n",
       "0         город москва, улица егора абакумова, дом 9      48  \n",
       "1  город москва, улица талалихина, дом 2/1, корпус 1      35  \n",
       "2          город москва, абельмановская улица, дом 6      95  \n",
       "3            город москва, абрамцевская улица, дом 1      40  \n",
       "4  город москва, абрамцевская улица, дом 9, корпус 1      50  "
      ]
     },
     "execution_count": 7,
     "metadata": {},
     "output_type": "execute_result"
    }
   ],
   "source": [
    "# изменяем тип chain на bool  с помощью lambda функции\n",
    "data['chain'] = data['chain'].apply( lambda x: np.where(x=='да', True, False))\n",
    "# проверим\n",
    "data.info()\n",
    "data.head()"
   ]
  },
  {
   "cell_type": "markdown",
   "metadata": {},
   "source": [
    "Проверим датасеты на явные дубликаты."
   ]
  },
  {
   "cell_type": "code",
   "execution_count": 8,
   "metadata": {},
   "outputs": [
    {
     "name": "stdout",
     "output_type": "stream",
     "text": [
      "0\n",
      "0\n",
      "85\n"
     ]
    }
   ],
   "source": [
    "print(data.duplicated().sum())\n",
    "print(data['id'].duplicated().sum())\n",
    "print(data[['object_name','address','number','object_type']].duplicated().sum())"
   ]
  },
  {
   "cell_type": "markdown",
   "metadata": {},
   "source": [
    "В датасете есть 85 объектов, имеющих одинаковое название, тип и количество посадочных мест и располагающихся по одному и тому же адресу. Будем считать такие записи дубликатами. Вероятность того , что на одном адресе (даже в крупном торговом центре имеется 2 и более одинаковых точки питания с одинаковым количеством посадочных мест ) минимальна. \n",
    "\n",
    "Удалим из датасета такие дубликаты."
   ]
  },
  {
   "cell_type": "code",
   "execution_count": 9,
   "metadata": {},
   "outputs": [
    {
     "name": "stdout",
     "output_type": "stream",
     "text": [
      "0\n"
     ]
    }
   ],
   "source": [
    "# удаляем дубликаты с помощью drop_duplicates\n",
    "data = data.drop_duplicates(subset=['object_name','address','number','object_type']).reset_index(drop=True)\n",
    "# проверка\n",
    "print(data[['object_name','address','number','object_type']].duplicated().sum())"
   ]
  },
  {
   "cell_type": "markdown",
   "metadata": {},
   "source": [
    "## Анализ данных о рынке общественного питания Москвы"
   ]
  },
  {
   "cell_type": "markdown",
   "metadata": {},
   "source": [
    "### Распределение объектов общественного питания по типам"
   ]
  },
  {
   "cell_type": "markdown",
   "metadata": {},
   "source": [
    "Исследуем  соотношение видов объектов общественного питания по количеству."
   ]
  },
  {
   "cell_type": "code",
   "execution_count": 10,
   "metadata": {},
   "outputs": [
    {
     "data": {
      "text/html": [
       "<div>\n",
       "<style scoped>\n",
       "    .dataframe tbody tr th:only-of-type {\n",
       "        vertical-align: middle;\n",
       "    }\n",
       "\n",
       "    .dataframe tbody tr th {\n",
       "        vertical-align: top;\n",
       "    }\n",
       "\n",
       "    .dataframe thead th {\n",
       "        text-align: right;\n",
       "    }\n",
       "</style>\n",
       "<table border=\"1\" class=\"dataframe\">\n",
       "  <thead>\n",
       "    <tr style=\"text-align: right;\">\n",
       "      <th></th>\n",
       "      <th>object_type</th>\n",
       "      <th>amount</th>\n",
       "      <th>ratio</th>\n",
       "    </tr>\n",
       "  </thead>\n",
       "  <tbody>\n",
       "    <tr>\n",
       "      <th>0</th>\n",
       "      <td>кафе</td>\n",
       "      <td>6071</td>\n",
       "      <td>39.70</td>\n",
       "    </tr>\n",
       "    <tr>\n",
       "      <th>1</th>\n",
       "      <td>столовая</td>\n",
       "      <td>2584</td>\n",
       "      <td>16.90</td>\n",
       "    </tr>\n",
       "    <tr>\n",
       "      <th>2</th>\n",
       "      <td>ресторан</td>\n",
       "      <td>2282</td>\n",
       "      <td>14.90</td>\n",
       "    </tr>\n",
       "    <tr>\n",
       "      <th>3</th>\n",
       "      <td>предприятие быстрого обслуживания</td>\n",
       "      <td>1897</td>\n",
       "      <td>12.40</td>\n",
       "    </tr>\n",
       "    <tr>\n",
       "      <th>4</th>\n",
       "      <td>бар</td>\n",
       "      <td>855</td>\n",
       "      <td>5.60</td>\n",
       "    </tr>\n",
       "    <tr>\n",
       "      <th>5</th>\n",
       "      <td>буфет</td>\n",
       "      <td>576</td>\n",
       "      <td>3.80</td>\n",
       "    </tr>\n",
       "    <tr>\n",
       "      <th>6</th>\n",
       "      <td>кафетерий</td>\n",
       "      <td>395</td>\n",
       "      <td>2.60</td>\n",
       "    </tr>\n",
       "    <tr>\n",
       "      <th>7</th>\n",
       "      <td>закусочная</td>\n",
       "      <td>348</td>\n",
       "      <td>2.30</td>\n",
       "    </tr>\n",
       "    <tr>\n",
       "      <th>8</th>\n",
       "      <td>магазин (отдел кулинарии)</td>\n",
       "      <td>273</td>\n",
       "      <td>1.80</td>\n",
       "    </tr>\n",
       "  </tbody>\n",
       "</table>\n",
       "</div>"
      ],
      "text/plain": [
       "                         object_type  amount  ratio\n",
       "0                               кафе    6071  39.70\n",
       "1                           столовая    2584  16.90\n",
       "2                           ресторан    2282  14.90\n",
       "3  предприятие быстрого обслуживания    1897  12.40\n",
       "4                                бар     855   5.60\n",
       "5                              буфет     576   3.80\n",
       "6                          кафетерий     395   2.60\n",
       "7                         закусочная     348   2.30\n",
       "8          магазин (отдел кулинарии)     273   1.80"
      ]
     },
     "execution_count": 10,
     "metadata": {},
     "output_type": "execute_result"
    }
   ],
   "source": [
    "# сгруппируем количество объектов по типам заведений\n",
    "numbers_object_type = data.groupby('object_type').agg({'object_name':'count'}).sort_values(by='object_name',ascending=False).reset_index()\n",
    "# переименуем столбцы\n",
    "numbers_object_type.columns = ['object_type','amount']\n",
    "# посчитаем долю каждого типа заведений \n",
    "numbers_object_type['ratio'] = (numbers_object_type['amount']/numbers_object_type['amount'].sum()*100).round(1)\n",
    "numbers_object_type"
   ]
  },
  {
   "cell_type": "code",
   "execution_count": 11,
   "metadata": {},
   "outputs": [
    {
     "data": {
      "image/png": "[encoded data removed]",
      "text/plain": [
       "<Figure size 864x576 with 1 Axes>"
      ]
     },
     "metadata": {
      "needs_background": "light"
     },
     "output_type": "display_data"
    }
   ],
   "source": [
    "# функция, проставляющая значения над барами\n",
    "def addlabels(x,y):\n",
    "    for i in range(len(x)):\n",
    "        plt.text(i, y[i].round(1), y[i].round(1), ha = 'center',fontsize=15)\n",
    "# выберем стиль для графика\n",
    "with plt.style.context('seaborn-pastel'):\n",
    "    # столбчатая диаграмма\n",
    "    plt.figure(figsize=(12, 8))\n",
    "    plt.tick_params(labelsize=14)\n",
    "    sns.barplot(x='object_type',y='ratio',data=numbers_object_type)\n",
    "    plt.title('Количество заведений по типу объекта',fontsize=17)\n",
    "    plt.xlabel('Тип объекта',fontsize=14)\n",
    "    addlabels(numbers_object_type['object_type'],numbers_object_type['ratio'])\n",
    "    plt.ylabel('Доля(%)',fontsize=14)\n",
    "    plt.xticks(rotation=70)\n",
    "    plt.show()"
   ]
  },
  {
   "cell_type": "markdown",
   "metadata": {},
   "source": [
    "Наибольшее количество предприятий общественного питания организовано по типу кафе (6071шт.или 40%). Также в тройку самых популярных объектов питания входят столовые(2584 шт.-17%) и рестораны (2282 шт.-15%). Наименее распространненые - это отделы кулинарии, всего 273шт.,что составляет 2% от общего числа заведений.\n",
    "\n"
   ]
  },
  {
   "cell_type": "markdown",
   "metadata": {},
   "source": [
    "### Соотношение сетевых и несетевых заведений на рынке "
   ]
  },
  {
   "cell_type": "markdown",
   "metadata": {},
   "source": [
    "Исследуем соотношение сетевых и несетевых заведений по их количеству. "
   ]
  },
  {
   "cell_type": "code",
   "execution_count": 12,
   "metadata": {},
   "outputs": [
    {
     "data": {
      "text/html": [
       "<style  type=\"text/css\" >\n",
       "</style><table id=\"T_1753c_\" ><caption>Количество типов заведений,шт.</caption><thead>    <tr>        <th class=\"blank level0\" ></th>        <th class=\"col_heading level0 col0\" >chain</th>        <th class=\"col_heading level0 col1\" >бар</th>        <th class=\"col_heading level0 col2\" >буфет</th>        <th class=\"col_heading level0 col3\" >закусочная</th>        <th class=\"col_heading level0 col4\" >кафе</th>        <th class=\"col_heading level0 col5\" >кафетерий</th>        <th class=\"col_heading level0 col6\" >кулинария</th>        <th class=\"col_heading level0 col7\" >пред-ие быстрого обсл-е</th>        <th class=\"col_heading level0 col8\" >ресторан</th>        <th class=\"col_heading level0 col9\" >столовая</th>        <th class=\"col_heading level0 col10\" >amount</th>        <th class=\"col_heading level0 col11\" >ratio</th>    </tr></thead><tbody>\n",
       "                <tr>\n",
       "                        <th id=\"T_1753c_level0_row0\" class=\"row_heading level0 row0\" >0</th>\n",
       "                        <td id=\"T_1753c_row0_col0\" class=\"data row0 col0\" >несетевые</td>\n",
       "                        <td id=\"T_1753c_row0_col1\" class=\"data row0 col1\" >818</td>\n",
       "                        <td id=\"T_1753c_row0_col2\" class=\"data row0 col2\" >565</td>\n",
       "                        <td id=\"T_1753c_row0_col3\" class=\"data row0 col3\" >292</td>\n",
       "                        <td id=\"T_1753c_row0_col4\" class=\"data row0 col4\" >4675</td>\n",
       "                        <td id=\"T_1753c_row0_col5\" class=\"data row0 col5\" >343</td>\n",
       "                        <td id=\"T_1753c_row0_col6\" class=\"data row0 col6\" >195</td>\n",
       "                        <td id=\"T_1753c_row0_col7\" class=\"data row0 col7\" >1109</td>\n",
       "                        <td id=\"T_1753c_row0_col8\" class=\"data row0 col8\" >1739</td>\n",
       "                        <td id=\"T_1753c_row0_col9\" class=\"data row0 col9\" >2581</td>\n",
       "                        <td id=\"T_1753c_row0_col10\" class=\"data row0 col10\" >12317</td>\n",
       "                        <td id=\"T_1753c_row0_col11\" class=\"data row0 col11\" >80.600000</td>\n",
       "            </tr>\n",
       "            <tr>\n",
       "                        <th id=\"T_1753c_level0_row1\" class=\"row_heading level0 row1\" >1</th>\n",
       "                        <td id=\"T_1753c_row1_col0\" class=\"data row1 col0\" >сетевые</td>\n",
       "                        <td id=\"T_1753c_row1_col1\" class=\"data row1 col1\" >37</td>\n",
       "                        <td id=\"T_1753c_row1_col2\" class=\"data row1 col2\" >11</td>\n",
       "                        <td id=\"T_1753c_row1_col3\" class=\"data row1 col3\" >56</td>\n",
       "                        <td id=\"T_1753c_row1_col4\" class=\"data row1 col4\" >1396</td>\n",
       "                        <td id=\"T_1753c_row1_col5\" class=\"data row1 col5\" >52</td>\n",
       "                        <td id=\"T_1753c_row1_col6\" class=\"data row1 col6\" >78</td>\n",
       "                        <td id=\"T_1753c_row1_col7\" class=\"data row1 col7\" >788</td>\n",
       "                        <td id=\"T_1753c_row1_col8\" class=\"data row1 col8\" >543</td>\n",
       "                        <td id=\"T_1753c_row1_col9\" class=\"data row1 col9\" >3</td>\n",
       "                        <td id=\"T_1753c_row1_col10\" class=\"data row1 col10\" >2964</td>\n",
       "                        <td id=\"T_1753c_row1_col11\" class=\"data row1 col11\" >19.400000</td>\n",
       "            </tr>\n",
       "    </tbody></table>"
      ],
      "text/plain": [
       "<pandas.io.formats.style.Styler at 0x7f73f7c0b400>"
      ]
     },
     "metadata": {},
     "output_type": "display_data"
    },
    {
     "data": {
      "text/html": [
       "<style  type=\"text/css\" >\n",
       "</style><table id=\"T_98ae2_\" ><caption>Доля типов заведений по способу организации(%)</caption><thead>    <tr>        <th class=\"blank level0\" ></th>        <th class=\"col_heading level0 col0\" >chain</th>        <th class=\"col_heading level0 col1\" >бар</th>        <th class=\"col_heading level0 col2\" >буфет</th>        <th class=\"col_heading level0 col3\" >закусочная</th>        <th class=\"col_heading level0 col4\" >кафе</th>        <th class=\"col_heading level0 col5\" >кафетерий</th>        <th class=\"col_heading level0 col6\" >кулинария</th>        <th class=\"col_heading level0 col7\" >пред-ие быстрого обсл-е</th>        <th class=\"col_heading level0 col8\" >ресторан</th>        <th class=\"col_heading level0 col9\" >столовая</th>        <th class=\"col_heading level0 col10\" >amount</th>    </tr></thead><tbody>\n",
       "                <tr>\n",
       "                        <th id=\"T_98ae2_level0_row0\" class=\"row_heading level0 row0\" >0</th>\n",
       "                        <td id=\"T_98ae2_row0_col0\" class=\"data row0 col0\" >несетевые</td>\n",
       "                        <td id=\"T_98ae2_row0_col1\" class=\"data row0 col1\" >0.066000</td>\n",
       "                        <td id=\"T_98ae2_row0_col2\" class=\"data row0 col2\" >0.046000</td>\n",
       "                        <td id=\"T_98ae2_row0_col3\" class=\"data row0 col3\" >0.024000</td>\n",
       "                        <td id=\"T_98ae2_row0_col4\" class=\"data row0 col4\" >0.380000</td>\n",
       "                        <td id=\"T_98ae2_row0_col5\" class=\"data row0 col5\" >0.028000</td>\n",
       "                        <td id=\"T_98ae2_row0_col6\" class=\"data row0 col6\" >0.016000</td>\n",
       "                        <td id=\"T_98ae2_row0_col7\" class=\"data row0 col7\" >0.090000</td>\n",
       "                        <td id=\"T_98ae2_row0_col8\" class=\"data row0 col8\" >0.141000</td>\n",
       "                        <td id=\"T_98ae2_row0_col9\" class=\"data row0 col9\" >0.210000</td>\n",
       "                        <td id=\"T_98ae2_row0_col10\" class=\"data row0 col10\" >1.000000</td>\n",
       "            </tr>\n",
       "            <tr>\n",
       "                        <th id=\"T_98ae2_level0_row1\" class=\"row_heading level0 row1\" >1</th>\n",
       "                        <td id=\"T_98ae2_row1_col0\" class=\"data row1 col0\" >сетевые</td>\n",
       "                        <td id=\"T_98ae2_row1_col1\" class=\"data row1 col1\" >0.012000</td>\n",
       "                        <td id=\"T_98ae2_row1_col2\" class=\"data row1 col2\" >0.004000</td>\n",
       "                        <td id=\"T_98ae2_row1_col3\" class=\"data row1 col3\" >0.019000</td>\n",
       "                        <td id=\"T_98ae2_row1_col4\" class=\"data row1 col4\" >0.471000</td>\n",
       "                        <td id=\"T_98ae2_row1_col5\" class=\"data row1 col5\" >0.018000</td>\n",
       "                        <td id=\"T_98ae2_row1_col6\" class=\"data row1 col6\" >0.026000</td>\n",
       "                        <td id=\"T_98ae2_row1_col7\" class=\"data row1 col7\" >0.266000</td>\n",
       "                        <td id=\"T_98ae2_row1_col8\" class=\"data row1 col8\" >0.183000</td>\n",
       "                        <td id=\"T_98ae2_row1_col9\" class=\"data row1 col9\" >0.001000</td>\n",
       "                        <td id=\"T_98ae2_row1_col10\" class=\"data row1 col10\" >1.000000</td>\n",
       "            </tr>\n",
       "    </tbody></table>"
      ],
      "text/plain": [
       "<pandas.io.formats.style.Styler at 0x7f74365d1370>"
      ]
     },
     "metadata": {},
     "output_type": "display_data"
    }
   ],
   "source": [
    "#numbers_chain = data.groupby('chain').agg({'id':'count'}).sort_values(by='id',ascending=False).reset_index()\n",
    "\n",
    "# сводная таблица о количестве заведений в разрезе их типов \n",
    "numbers_chain_n =data.pivot_table(index='chain',columns='object_type',values='id',aggfunc=('count')).reset_index()\n",
    "# переименование столбцов и замена значений булевых строк \n",
    "numbers_chain_n.columns = ['chain','бар','буфет','закусочная','кафе','кафетерий','кулинария','пред-ие быстрого обсл-е','ресторан','столовая']\n",
    "numbers_chain_n['chain'] = np.where(numbers_chain_n['chain']==True,'сетевые','несетевые')\n",
    "#общая сумма заведений \n",
    "numbers_chain_n['amount'] =(\n",
    "                            numbers_chain_n['бар']+numbers_chain_n['буфет']+numbers_chain_n['закусочная']+\n",
    "                            numbers_chain_n['кафе'] + numbers_chain_n['кафетерий']+ numbers_chain_n['кулинария']\n",
    "                            +numbers_chain_n['пред-ие быстрого обсл-е']+numbers_chain_n['ресторан']\n",
    "                            +numbers_chain_n['столовая']\n",
    "                           )\n",
    "#доля сетевых и несетевых\n",
    "numbers_chain_n['ratio'] = (numbers_chain_n['amount']/numbers_chain_n['amount'].sum()*100).round(1)\n",
    "\n",
    "display(numbers_chain_n.style.set_caption('Количество типов заведений,шт.'))                           \n",
    "\n",
    "# сводная таблица о доле заведений в разрезе их типов\n",
    "ratio_chain = (\n",
    "    numbers_chain_n.loc[0:1,'бар':'amount']\n",
    "    .div([numbers_chain_n.loc[0,'amount'],numbers_chain_n.loc[1,'amount']],axis=0)\n",
    "    .round(3)\n",
    ")\n",
    "#подписываем строки\n",
    "ratio_chain.loc[0,'chain'] = 'несетевые'\n",
    "ratio_chain.loc[1,'chain'] = 'сетевые'\n",
    "\n",
    "ratio_chain=ratio_chain[['chain','бар','буфет','закусочная','кафе','кафетерий','кулинария','пред-ие быстрого обсл-е','ресторан','столовая','amount']]\n",
    "\n",
    "display(ratio_chain.style.set_caption('Доля типов заведений по способу организации(%)'))\n",
    "\n"
   ]
  },
  {
   "cell_type": "code",
   "execution_count": 13,
   "metadata": {
    "scrolled": false
   },
   "outputs": [
    {
     "data": {
      "image/png": "[encoded data removed]",
      "text/plain": [
       "<Figure size 864x576 with 1 Axes>"
      ]
     },
     "metadata": {
      "needs_background": "light"
     },
     "output_type": "display_data"
    }
   ],
   "source": [
    "# построим столбчатый график доли заведений по типу организации\n",
    "with plt.style.context('seaborn-pastel'):\n",
    "    plt.figure(figsize=(12, 8))\n",
    "    plt.tick_params(labelsize=18)\n",
    "    sns.barplot(x='chain',y='ratio',data=numbers_chain_n)\n",
    "    plt.title('Количество заведений по типу объекта',fontsize=19)\n",
    "    plt.xlabel('Тип объекта',fontsize=16)\n",
    "    addlabels(numbers_chain_n['chain'],numbers_chain_n['ratio'])\n",
    "    plt.ylabel('Доля(%)',fontsize=16)\n",
    "    plt.xticks(rotation=70)\n",
    "    plt.show()\n",
    "    "
   ]
  },
  {
   "cell_type": "markdown",
   "metadata": {},
   "source": [
    "Основная масса заведений (81%) принадлежит к категории несетевых заведений и только 19% или 2964шт. относится к сетевым учреждениям.\n",
    "\n",
    " Распределение типов заведений внутри категорий(сеть/не сеть) похожа. Для обеих категорий наиболее распространнеными являются кафе и рестораны, также для сетей -фастфуды а для несетевых заведений -столовые.Доля остальных типов заведений  в обеих категориях невысокая."
   ]
  },
  {
   "cell_type": "markdown",
   "metadata": {},
   "source": [
    "### Характеристики сетевого распространения заведений"
   ]
  },
  {
   "cell_type": "code",
   "execution_count": 14,
   "metadata": {
    "scrolled": false
   },
   "outputs": [
    {
     "data": {
      "text/html": [
       "<div>\n",
       "<style scoped>\n",
       "    .dataframe tbody tr th:only-of-type {\n",
       "        vertical-align: middle;\n",
       "    }\n",
       "\n",
       "    .dataframe tbody tr th {\n",
       "        vertical-align: top;\n",
       "    }\n",
       "\n",
       "    .dataframe thead th {\n",
       "        text-align: right;\n",
       "    }\n",
       "</style>\n",
       "<table border=\"1\" class=\"dataframe\">\n",
       "  <thead>\n",
       "    <tr style=\"text-align: right;\">\n",
       "      <th></th>\n",
       "      <th>type</th>\n",
       "      <th>ratio</th>\n",
       "    </tr>\n",
       "  </thead>\n",
       "  <tbody>\n",
       "    <tr>\n",
       "      <th>0</th>\n",
       "      <td>бар</td>\n",
       "      <td>4.33</td>\n",
       "    </tr>\n",
       "    <tr>\n",
       "      <th>1</th>\n",
       "      <td>буфет</td>\n",
       "      <td>1.91</td>\n",
       "    </tr>\n",
       "    <tr>\n",
       "      <th>2</th>\n",
       "      <td>закусочная</td>\n",
       "      <td>16.09</td>\n",
       "    </tr>\n",
       "    <tr>\n",
       "      <th>3</th>\n",
       "      <td>кафе</td>\n",
       "      <td>22.99</td>\n",
       "    </tr>\n",
       "    <tr>\n",
       "      <th>4</th>\n",
       "      <td>кафетерий</td>\n",
       "      <td>13.16</td>\n",
       "    </tr>\n",
       "    <tr>\n",
       "      <th>5</th>\n",
       "      <td>кулинария</td>\n",
       "      <td>28.57</td>\n",
       "    </tr>\n",
       "    <tr>\n",
       "      <th>6</th>\n",
       "      <td>пред-ие быстрого обсл-е</td>\n",
       "      <td>41.54</td>\n",
       "    </tr>\n",
       "    <tr>\n",
       "      <th>7</th>\n",
       "      <td>ресторан</td>\n",
       "      <td>23.79</td>\n",
       "    </tr>\n",
       "    <tr>\n",
       "      <th>8</th>\n",
       "      <td>столовая</td>\n",
       "      <td>0.12</td>\n",
       "    </tr>\n",
       "  </tbody>\n",
       "</table>\n",
       "</div>"
      ],
      "text/plain": [
       "                      type ratio\n",
       "0                      бар  4.33\n",
       "1                    буфет  1.91\n",
       "2               закусочная 16.09\n",
       "3                     кафе 22.99\n",
       "4                кафетерий 13.16\n",
       "5                кулинария 28.57\n",
       "6  пред-ие быстрого обсл-е 41.54\n",
       "7                 ресторан 23.79\n",
       "8                 столовая  0.12"
      ]
     },
     "metadata": {},
     "output_type": "display_data"
    },
    {
     "data": {
      "image/png": "[encoded data removed]",
      "text/plain": [
       "<Figure size 792x504 with 1 Axes>"
      ]
     },
     "metadata": {
      "needs_background": "light"
     },
     "output_type": "display_data"
    }
   ],
   "source": [
    "# построим круговую диаграмму доли заведений по типу организации\n",
    "#list = numbers_chain_n.loc[0:1,'бар':'столовая'].columns.values.tolist()\n",
    "#values = numbers_chain_n.loc[1,'бар':'столовая'].tolist()\n",
    "#fig = go.Figure(data=[go.Pie(labels=list, values=values)])\n",
    "#fig.show()\n",
    "# построим таблицу с долями сетевых заведений от общей массы заведений\n",
    "ratio_chain_type = ((numbers_chain_n.loc[1,'бар':'столовая']/numbers_chain_n.loc[0:1,'бар':'столовая'].sum())*100).to_frame().reset_index()\n",
    "ratio_chain_type.columns = ['type','ratio']\n",
    "display(ratio_chain_type)\n",
    "# построим столбчатый график доли сетевых заведений по типу организации\n",
    "with plt.style.context('seaborn-pastel'):\n",
    "    plt.figure(figsize=(11, 7))\n",
    "    plt.tick_params(labelsize=18)\n",
    "    sns.barplot(x='type',y='ratio',data=ratio_chain_type)\n",
    "    plt.title('Доля сетевых заведений в общей массе по типу объекта',fontsize=19)\n",
    "    plt.xlabel('Тип объекта',fontsize=16)\n",
    "    addlabels(ratio_chain_type['type'],ratio_chain_type['ratio'])\n",
    "    plt.ylabel('Доля(%)',fontsize=16)\n",
    "    plt.xticks(rotation=70)\n",
    "    plt.show()"
   ]
  },
  {
   "cell_type": "markdown",
   "metadata": {},
   "source": [
    "Сетевое распространение наиболее характерно для предприятий быстрого обслуживания - 42% от общей массы фастфуда. \n",
    "\n",
    "29% заведений, открытых в формате отдела кулинарии, приходятся на сети.\n",
    "\n",
    "24% заведений приходится на сетевые рестораны. Доля сетевых кафе практически совпадает с долей сетевых ресторанов и равна 23%.\n",
    "Столовые, в основном , открывают несетевые игроки.\n",
    "\n",
    "Определим какое количесво точек внутри сети и посадочных мест в одном заведении  характерно для сетевых заведений."
   ]
  },
  {
   "cell_type": "code",
   "execution_count": 15,
   "metadata": {},
   "outputs": [
    {
     "data": {
      "text/html": [
       "<div>\n",
       "<style scoped>\n",
       "    .dataframe tbody tr th:only-of-type {\n",
       "        vertical-align: middle;\n",
       "    }\n",
       "\n",
       "    .dataframe tbody tr th {\n",
       "        vertical-align: top;\n",
       "    }\n",
       "\n",
       "    .dataframe thead th {\n",
       "        text-align: right;\n",
       "    }\n",
       "</style>\n",
       "<table border=\"1\" class=\"dataframe\">\n",
       "  <thead>\n",
       "    <tr style=\"text-align: right;\">\n",
       "      <th></th>\n",
       "      <th>amount</th>\n",
       "      <th>seats</th>\n",
       "    </tr>\n",
       "    <tr>\n",
       "      <th>object_name</th>\n",
       "      <th></th>\n",
       "      <th></th>\n",
       "    </tr>\n",
       "  </thead>\n",
       "  <tbody>\n",
       "    <tr>\n",
       "      <th>шоколадница</th>\n",
       "      <td>157</td>\n",
       "      <td>50.00</td>\n",
       "    </tr>\n",
       "    <tr>\n",
       "      <th>kfc</th>\n",
       "      <td>155</td>\n",
       "      <td>45.00</td>\n",
       "    </tr>\n",
       "    <tr>\n",
       "      <th>макдоналдс</th>\n",
       "      <td>150</td>\n",
       "      <td>77.50</td>\n",
       "    </tr>\n",
       "    <tr>\n",
       "      <th>бургер кинг</th>\n",
       "      <td>137</td>\n",
       "      <td>45.00</td>\n",
       "    </tr>\n",
       "    <tr>\n",
       "      <th>теремок</th>\n",
       "      <td>94</td>\n",
       "      <td>23.00</td>\n",
       "    </tr>\n",
       "    <tr>\n",
       "      <th>...</th>\n",
       "      <td>...</td>\n",
       "      <td>...</td>\n",
       "    </tr>\n",
       "    <tr>\n",
       "      <th>кафе «хлеб насущный»</th>\n",
       "      <td>1</td>\n",
       "      <td>38.00</td>\n",
       "    </tr>\n",
       "    <tr>\n",
       "      <th>кафе «урюк» хивинская чайхона</th>\n",
       "      <td>1</td>\n",
       "      <td>50.00</td>\n",
       "    </tr>\n",
       "    <tr>\n",
       "      <th>кафе «торнадо»</th>\n",
       "      <td>1</td>\n",
       "      <td>80.00</td>\n",
       "    </tr>\n",
       "    <tr>\n",
       "      <th>кафе «тапчан»</th>\n",
       "      <td>1</td>\n",
       "      <td>70.00</td>\n",
       "    </tr>\n",
       "    <tr>\n",
       "      <th>кофе с собой gate 42</th>\n",
       "      <td>1</td>\n",
       "      <td>4.00</td>\n",
       "    </tr>\n",
       "  </tbody>\n",
       "</table>\n",
       "<p>577 rows × 2 columns</p>\n",
       "</div>"
      ],
      "text/plain": [
       "                               amount  seats\n",
       "object_name                                 \n",
       "шоколадница                       157  50.00\n",
       "kfc                               155  45.00\n",
       "макдоналдс                        150  77.50\n",
       "бургер кинг                       137  45.00\n",
       "теремок                            94  23.00\n",
       "...                               ...    ...\n",
       "кафе «хлеб насущный»                1  38.00\n",
       "кафе «урюк» хивинская чайхона       1  50.00\n",
       "кафе «торнадо»                      1  80.00\n",
       "кафе «тапчан»                       1  70.00\n",
       "кофе с собой gate 42                1   4.00\n",
       "\n",
       "[577 rows x 2 columns]"
      ]
     },
     "metadata": {},
     "output_type": "display_data"
    }
   ],
   "source": [
    "# сгруппируем сетевые заведения по наименованиям сетей в разрезе точек внутри сети и количества посадочных мест\n",
    "chain_name_group = data.query('chain == True').groupby('object_name').agg({'object_name':'count','number':'median'})\n",
    "chain_name_group.columns = ['amount','seats']\n",
    "display(chain_name_group.sort_values(by='amount',ascending=False))\n"
   ]
  },
  {
   "cell_type": "code",
   "execution_count": 16,
   "metadata": {
    "scrolled": false
   },
   "outputs": [
    {
     "data": {
      "image/png": "[encoded data removed]",
      "text/plain": [
       "<Figure size 1080x720 with 3 Axes>"
      ]
     },
     "metadata": {
      "needs_background": "light"
     },
     "output_type": "display_data"
    }
   ],
   "source": [
    "# точечная диаграмма связи двух переменных: точек и посадочных мест\n",
    "with plt.style.context('seaborn-pastel'):\n",
    "    ax =sns.jointplot(x='amount', y='seats', data=chain_name_group, kind='reg')\n",
    "    ax.fig.set_figheight(10)\n",
    "    ax.fig.set_figwidth(15)\n",
    "    ax.fig.suptitle(\"Распределение количества точек и количество посадочных мест по сетям\",fontsize=17)\n",
    "    ax.set_axis_labels('Количество заведений в сети (шт.)', 'Среднее количество посадчных мест для 1 заведения сети (шт.)', fontsize=16)\n",
    "    plt.show()\n",
    "    "
   ]
  },
  {
   "cell_type": "markdown",
   "metadata": {},
   "source": [
    "На графике видно множество точек соответствующих количеству точек в сети равному 1, что для сетевого заведения будет неверно. Вероятнее всего, это неявные дубликаты. Так как все данные дубликаты не представляется возможным исправить вручную, рассмотрим распределение количества точек и количества посадочных мест без данных записей."
   ]
  },
  {
   "cell_type": "code",
   "execution_count": 17,
   "metadata": {
    "scrolled": false
   },
   "outputs": [
    {
     "data": {
      "image/png": "[encoded data removed]",
      "text/plain": [
       "<Figure size 1008x648 with 3 Axes>"
      ]
     },
     "metadata": {
      "needs_background": "light"
     },
     "output_type": "display_data"
    },
    {
     "name": "stdout",
     "output_type": "stream",
     "text": [
      "20% заведений имеют не более 17.5  посадочных мест\n",
      "90% заведений имеют не более 122.25  посадочных мест\n",
      "70% заведений имеют не более 6.0 точек в сети\n",
      "80% заведений имеют не более 10.0 точек в сети\n"
     ]
    }
   ],
   "source": [
    "# оставляем только сети с количеством точек более 2 \n",
    "chain_name_group_filt = chain_name_group[chain_name_group['amount']>1]\n",
    "\n",
    "# точечная диаграмма связи двух переменных: точек и посадочных мест\n",
    "with plt.style.context('seaborn-pastel'):\n",
    "    ax = sns.jointplot(x='amount', y='seats', data=chain_name_group_filt,kind='scatter')\n",
    "    ax.fig.set_figheight(9)\n",
    "    ax.fig.set_figwidth(14)\n",
    "    ax.fig.suptitle(\"Распределение количества точек и количество посадочных мест по сетям\",fontsize=17)\n",
    "    ax.set_axis_labels('Количество заведений в сети (шт.)', 'Среднее количество посадчных мест для 1 заведения сети (шт.)', fontsize=16)\n",
    "    plt.show()\n",
    "# посчитаем перцентили \n",
    "print('20% заведений имеют не более',np.percentile(chain_name_group_filt['seats'], 20),' посадочных мест')\n",
    "print('90% заведений имеют не более',np.percentile(chain_name_group_filt['seats'], 90),' посадочных мест')\n",
    "print('70% заведений имеют не более',np.percentile(chain_name_group_filt['amount'], 70),'точек в сети')\n",
    "print('80% заведений имеют не более',np.percentile(chain_name_group_filt['amount'], 80),'точек в сети')\n",
    "\n"
   ]
  },
  {
   "cell_type": "markdown",
   "metadata": {},
   "source": [
    "По графику видно , что основная масса сетевых заведений имеют небольшое количество точек в своей сети и большое количество посадочных мест.\n",
    "\n",
    "Так 70% сетей имеют не более 6 точек в сети , еще 10% имеют от 6 до 10 точек, и только 20% сетей имеют более 10 точек.\n",
    "\n",
    "Для 70% сетей характерно от 17 до 122 посадочных мест в среднем на 1 заведение, 10% сетей имеют более 122 посадочных мест в заведении.\n",
    "\n",
    "Есть единичные сетевые рекордстмены: сети обладающие или огромных количеством посадочных мест, или широким распространением своих заведений в Москве."
   ]
  },
  {
   "cell_type": "markdown",
   "metadata": {},
   "source": [
    "### Анализ среднего количества посадочных мест "
   ]
  },
  {
   "cell_type": "markdown",
   "metadata": {},
   "source": [
    "Опишем среднее количество посадочных мест для каждого вида объекта общественного питания. Определим какой вид предоставляет в среднем самое большое количество посадочных мест."
   ]
  },
  {
   "cell_type": "code",
   "execution_count": 18,
   "metadata": {},
   "outputs": [
    {
     "data": {
      "image/png": "[encoded data removed]",
      "text/plain": [
       "<Figure size 792x504 with 1 Axes>"
      ]
     },
     "metadata": {
      "needs_background": "light"
     },
     "output_type": "display_data"
    }
   ],
   "source": [
    "# столбчатая диаграмма медианного значения посадочных мест \n",
    "with plt.style.context('seaborn-pastel'):\n",
    "    plt.figure(figsize=(11, 7))\n",
    "    plt.tick_params(labelsize=13)\n",
    "    ax = sns.barplot(x='object_type', y='number', data=data,estimator=median,hue='chain')\n",
    "    \n",
    "# проставим подписи на барах\n",
    "    for bar in ax.patches:\n",
    "        ax.annotate(format(bar.get_height(), '.0f'),\n",
    "                   (bar.get_x() + bar.get_width() / 10,\n",
    "                    bar.get_height()), ha='center', va='center',\n",
    "                   size=12, xytext=(0, 5),\n",
    "                   textcoords='offset points')\n",
    "    \n",
    "    plt.xticks(rotation=70)\n",
    "    plt.title('Среднее количество посадочных мест заведения по типам объектов',fontsize=17)\n",
    "    plt.xlabel('Тип объекта',fontsize=14)\n",
    "    plt.ylabel('Среднее кол-во посадочных мест в заведении(шт.)',fontsize=14)\n",
    "    plt.show()\n",
    "    \n"
   ]
  },
  {
   "cell_type": "markdown",
   "metadata": {},
   "source": [
    "И для сетевых заведений , и для несетевых характерны одинаковые типы заведений с наибольшим количеством посадочных мест.  Но несетевые заведения, в основном, обладают меньшей вместимостью, чем сетевые.\n",
    "\n",
    "Также наибольшее среднее количество посадочных мест характерно для заведений , которые чаще всего встречаются на рынке Москвы.\n",
    "\n",
    "Для сетевых заведений три типа с наибольшим  количеством посадочных мест на 1 заведение - это:\n",
    " \n",
    " - столовая (120 шт.)\n",
    " - ресторан (89 шт.)\n",
    " - бар (45 шт.)\n",
    "\n",
    "Также высоким количеством посадочных мест располагают сетевые кафе (40 шт.) и предприятия быстрого обслуживания (25 шт.). В остальных типах заведений либо невысокое количество посадочных мест , либо они отсутствуют.\n",
    "\n",
    "Для несетевых заведений три типа с наибольшим  количеством посадочных мест на 1 заведение - это также :\n",
    " \n",
    " - столовая (103 шт.)\n",
    " - ресторан (75 шт.)\n",
    " - бар (34 шт.)\n",
    " \n",
    "Несетевые буфеты и кафе имеют, в среднем, практически одинаковое количество посадочных мест, как и несетевые бары - 32 и 30 шт соответственно.\n",
    "\n"
   ]
  },
  {
   "cell_type": "markdown",
   "metadata": {},
   "source": [
    "### Анализ территориального размещения объектов питания "
   ]
  },
  {
   "cell_type": "markdown",
   "metadata": {},
   "source": [
    "Выделим в отдельный столбец информацию об улице из столбца address"
   ]
  },
  {
   "cell_type": "code",
   "execution_count": 19,
   "metadata": {},
   "outputs": [
    {
     "data": {
      "text/html": [
       "<div>\n",
       "<style scoped>\n",
       "    .dataframe tbody tr th:only-of-type {\n",
       "        vertical-align: middle;\n",
       "    }\n",
       "\n",
       "    .dataframe tbody tr th {\n",
       "        vertical-align: top;\n",
       "    }\n",
       "\n",
       "    .dataframe thead th {\n",
       "        text-align: right;\n",
       "    }\n",
       "</style>\n",
       "<table border=\"1\" class=\"dataframe\">\n",
       "  <thead>\n",
       "    <tr style=\"text-align: right;\">\n",
       "      <th></th>\n",
       "      <th>id</th>\n",
       "      <th>object_name</th>\n",
       "      <th>chain</th>\n",
       "      <th>object_type</th>\n",
       "      <th>address</th>\n",
       "      <th>number</th>\n",
       "      <th>street</th>\n",
       "    </tr>\n",
       "  </thead>\n",
       "  <tbody>\n",
       "    <tr>\n",
       "      <th>0</th>\n",
       "      <td>151635</td>\n",
       "      <td>сметана</td>\n",
       "      <td>False</td>\n",
       "      <td>кафе</td>\n",
       "      <td>город москва, улица егора абакумова, дом 9</td>\n",
       "      <td>48</td>\n",
       "      <td>улица егора абакумова</td>\n",
       "    </tr>\n",
       "    <tr>\n",
       "      <th>1</th>\n",
       "      <td>77874</td>\n",
       "      <td>родник</td>\n",
       "      <td>False</td>\n",
       "      <td>кафе</td>\n",
       "      <td>город москва, улица талалихина, дом 2/1, корпус 1</td>\n",
       "      <td>35</td>\n",
       "      <td>улица талалихина</td>\n",
       "    </tr>\n",
       "    <tr>\n",
       "      <th>2</th>\n",
       "      <td>24309</td>\n",
       "      <td>кафе «академия»</td>\n",
       "      <td>False</td>\n",
       "      <td>кафе</td>\n",
       "      <td>город москва, абельмановская улица, дом 6</td>\n",
       "      <td>95</td>\n",
       "      <td>абельмановская улица</td>\n",
       "    </tr>\n",
       "    <tr>\n",
       "      <th>3</th>\n",
       "      <td>21894</td>\n",
       "      <td>пиццетория</td>\n",
       "      <td>True</td>\n",
       "      <td>кафе</td>\n",
       "      <td>город москва, абрамцевская улица, дом 1</td>\n",
       "      <td>40</td>\n",
       "      <td>абрамцевская улица</td>\n",
       "    </tr>\n",
       "    <tr>\n",
       "      <th>4</th>\n",
       "      <td>119365</td>\n",
       "      <td>кафе «вишневая метель»</td>\n",
       "      <td>False</td>\n",
       "      <td>кафе</td>\n",
       "      <td>город москва, абрамцевская улица, дом 9, корпус 1</td>\n",
       "      <td>50</td>\n",
       "      <td>абрамцевская улица</td>\n",
       "    </tr>\n",
       "    <tr>\n",
       "      <th>5</th>\n",
       "      <td>27429</td>\n",
       "      <td>стол. при гоу сош № 1051</td>\n",
       "      <td>False</td>\n",
       "      <td>столовая</td>\n",
       "      <td>город москва, абрамцевская улица, дом 15, корпус 1</td>\n",
       "      <td>240</td>\n",
       "      <td>абрамцевская улица</td>\n",
       "    </tr>\n",
       "    <tr>\n",
       "      <th>6</th>\n",
       "      <td>148815</td>\n",
       "      <td>брусника</td>\n",
       "      <td>True</td>\n",
       "      <td>кафе</td>\n",
       "      <td>город москва, переулок сивцев вражек, дом 6/2</td>\n",
       "      <td>10</td>\n",
       "      <td>переулок сивцев вражек</td>\n",
       "    </tr>\n",
       "    <tr>\n",
       "      <th>7</th>\n",
       "      <td>20957</td>\n",
       "      <td>буфет мтуси</td>\n",
       "      <td>False</td>\n",
       "      <td>столовая</td>\n",
       "      <td>город москва, авиамоторная улица, дом 8, строение 1</td>\n",
       "      <td>90</td>\n",
       "      <td>авиамоторная улица</td>\n",
       "    </tr>\n",
       "    <tr>\n",
       "      <th>8</th>\n",
       "      <td>20958</td>\n",
       "      <td>кпф семья-1</td>\n",
       "      <td>False</td>\n",
       "      <td>столовая</td>\n",
       "      <td>город москва, авиамоторная улица, дом 8, строение 1</td>\n",
       "      <td>150</td>\n",
       "      <td>авиамоторная улица</td>\n",
       "    </tr>\n",
       "    <tr>\n",
       "      <th>9</th>\n",
       "      <td>28858</td>\n",
       "      <td>столовая мтуси</td>\n",
       "      <td>False</td>\n",
       "      <td>столовая</td>\n",
       "      <td>город москва, авиамоторная улица, дом 8, строение 1</td>\n",
       "      <td>120</td>\n",
       "      <td>авиамоторная улица</td>\n",
       "    </tr>\n",
       "  </tbody>\n",
       "</table>\n",
       "</div>"
      ],
      "text/plain": [
       "       id               object_name  chain object_type  \\\n",
       "0  151635                   сметана  False        кафе   \n",
       "1   77874                    родник  False        кафе   \n",
       "2   24309           кафе «академия»  False        кафе   \n",
       "3   21894                пиццетория   True        кафе   \n",
       "4  119365    кафе «вишневая метель»  False        кафе   \n",
       "5   27429  стол. при гоу сош № 1051  False    столовая   \n",
       "6  148815                  брусника   True        кафе   \n",
       "7   20957               буфет мтуси  False    столовая   \n",
       "8   20958               кпф семья-1  False    столовая   \n",
       "9   28858            столовая мтуси  False    столовая   \n",
       "\n",
       "                                               address  number  \\\n",
       "0           город москва, улица егора абакумова, дом 9      48   \n",
       "1    город москва, улица талалихина, дом 2/1, корпус 1      35   \n",
       "2            город москва, абельмановская улица, дом 6      95   \n",
       "3              город москва, абрамцевская улица, дом 1      40   \n",
       "4    город москва, абрамцевская улица, дом 9, корпус 1      50   \n",
       "5   город москва, абрамцевская улица, дом 15, корпус 1     240   \n",
       "6        город москва, переулок сивцев вражек, дом 6/2      10   \n",
       "7  город москва, авиамоторная улица, дом 8, строение 1      90   \n",
       "8  город москва, авиамоторная улица, дом 8, строение 1     150   \n",
       "9  город москва, авиамоторная улица, дом 8, строение 1     120   \n",
       "\n",
       "                   street  \n",
       "0   улица егора абакумова  \n",
       "1        улица талалихина  \n",
       "2    абельмановская улица  \n",
       "3      абрамцевская улица  \n",
       "4      абрамцевская улица  \n",
       "5      абрамцевская улица  \n",
       "6  переулок сивцев вражек  \n",
       "7      авиамоторная улица  \n",
       "8      авиамоторная улица  \n",
       "9      авиамоторная улица  "
      ]
     },
     "metadata": {},
     "output_type": "display_data"
    }
   ],
   "source": [
    "# список схожих обозначений для улицы\n",
    "street_types = ['улица', 'бульвар', 'проспект', 'переулок', 'шоссе', \n",
    "'проезд', 'набережная', 'площадь', 'аллея', 'линия', 'квартал', 'мост', 'тупик', 'просека']\n",
    "# функция выделяющая улицу с помощью строковых методов (возвращения индекса подстроки)\n",
    "def street_finder(address):\n",
    "    for address_part in address.split(', '):\n",
    "        for street_type in street_types:\n",
    "            if address_part.find(street_type)!= -1:\n",
    "                return address_part\n",
    "# применение функции к address и запиись в новый столбец\n",
    "data['street'] = data['address'].apply(street_finder)\n",
    "# удаление строк, для которых улица не определилась\n",
    "data = data[~(data['street'].isnull())]\n",
    "\n",
    "#проверим , что все строки заполнены\n",
    "data[data['street'].isna()]\n",
    "display(data.head(10))"
   ]
  },
  {
   "cell_type": "markdown",
   "metadata": {},
   "source": [
    "Построим график - топ-10 улиц по количеству объектов общественного питания и определим в каких районах Москвы находятся эти улицы."
   ]
  },
  {
   "cell_type": "code",
   "execution_count": 20,
   "metadata": {
    "scrolled": false
   },
   "outputs": [
    {
     "data": {
      "text/html": [
       "<div>\n",
       "<style scoped>\n",
       "    .dataframe tbody tr th:only-of-type {\n",
       "        vertical-align: middle;\n",
       "    }\n",
       "\n",
       "    .dataframe tbody tr th {\n",
       "        vertical-align: top;\n",
       "    }\n",
       "\n",
       "    .dataframe thead th {\n",
       "        text-align: right;\n",
       "    }\n",
       "</style>\n",
       "<table border=\"1\" class=\"dataframe\">\n",
       "  <thead>\n",
       "    <tr style=\"text-align: right;\">\n",
       "      <th></th>\n",
       "      <th>street</th>\n",
       "      <th>object_name</th>\n",
       "      <th>ratio</th>\n",
       "    </tr>\n",
       "  </thead>\n",
       "  <tbody>\n",
       "    <tr>\n",
       "      <th>1076</th>\n",
       "      <td>проспект мира</td>\n",
       "      <td>203</td>\n",
       "      <td>1.36</td>\n",
       "    </tr>\n",
       "    <tr>\n",
       "      <th>1080</th>\n",
       "      <td>профсоюзная улица</td>\n",
       "      <td>182</td>\n",
       "      <td>1.22</td>\n",
       "    </tr>\n",
       "    <tr>\n",
       "      <th>701</th>\n",
       "      <td>ленинградский проспект</td>\n",
       "      <td>172</td>\n",
       "      <td>1.15</td>\n",
       "    </tr>\n",
       "    <tr>\n",
       "      <th>1031</th>\n",
       "      <td>пресненская набережная</td>\n",
       "      <td>167</td>\n",
       "      <td>1.12</td>\n",
       "    </tr>\n",
       "    <tr>\n",
       "      <th>410</th>\n",
       "      <td>варшавское шоссе</td>\n",
       "      <td>165</td>\n",
       "      <td>1.11</td>\n",
       "    </tr>\n",
       "    <tr>\n",
       "      <th>704</th>\n",
       "      <td>ленинский проспект</td>\n",
       "      <td>148</td>\n",
       "      <td>0.99</td>\n",
       "    </tr>\n",
       "    <tr>\n",
       "      <th>1072</th>\n",
       "      <td>проспект вернадского</td>\n",
       "      <td>128</td>\n",
       "      <td>0.86</td>\n",
       "    </tr>\n",
       "    <tr>\n",
       "      <th>691</th>\n",
       "      <td>кутузовский проспект</td>\n",
       "      <td>114</td>\n",
       "      <td>0.77</td>\n",
       "    </tr>\n",
       "    <tr>\n",
       "      <th>611</th>\n",
       "      <td>каширское шоссе</td>\n",
       "      <td>111</td>\n",
       "      <td>0.74</td>\n",
       "    </tr>\n",
       "    <tr>\n",
       "      <th>621</th>\n",
       "      <td>кировоградская улица</td>\n",
       "      <td>108</td>\n",
       "      <td>0.72</td>\n",
       "    </tr>\n",
       "  </tbody>\n",
       "</table>\n",
       "</div>"
      ],
      "text/plain": [
       "                      street  object_name  ratio\n",
       "1076           проспект мира          203   1.36\n",
       "1080       профсоюзная улица          182   1.22\n",
       "701   ленинградский проспект          172   1.15\n",
       "1031  пресненская набережная          167   1.12\n",
       "410         варшавское шоссе          165   1.11\n",
       "704       ленинский проспект          148   0.99\n",
       "1072    проспект вернадского          128   0.86\n",
       "691     кутузовский проспект          114   0.77\n",
       "611          каширское шоссе          111   0.74\n",
       "621     кировоградская улица          108   0.72"
      ]
     },
     "metadata": {},
     "output_type": "display_data"
    },
    {
     "data": {
      "image/png": "[encoded data removed]",
      "text/plain": [
       "<Figure size 864x576 with 1 Axes>"
      ]
     },
     "metadata": {
      "needs_background": "light"
     },
     "output_type": "display_data"
    }
   ],
   "source": [
    "# группировка точек питания по улице и выделение топ-10\n",
    "street_grouped = (\n",
    "        data.groupby('street', as_index=False)\n",
    "        .agg({'object_name':'count'})\n",
    "        .sort_values(by='object_name',ascending=False)\n",
    ").head(10)\n",
    "street_grouped['ratio'] = (street_grouped['object_name']/len(data['object_name'])*100).round(2)\n",
    "display(street_grouped)\n",
    "# график горизонтальной столбчатой диаграммы топ-10 улиц\n",
    "with plt.style.context('seaborn-pastel'):\n",
    "    plt.figure(figsize=(12, 8))\n",
    "    plt.tick_params(labelsize=12)\n",
    "    ax = sns.barplot(x='object_name', y='street', data=street_grouped)\n",
    "    ax.set_title('Топ-10 улиц по количеству объектов общественного питания',fontsize=15)\n",
    "    ax.set_xlabel('Количество объектов(шт.)',fontsize=14)\n",
    "    ax.set_ylabel('Название улицы',fontsize=14)\n",
    "    plt.xticks(rotation=45)\n",
    "    plt.show()\n"
   ]
  },
  {
   "cell_type": "markdown",
   "metadata": {},
   "source": [
    "Для части улиц вхождение в список обусловила их большая протяженность (например, протяженность проспекта мира - 8,9км,) , для другой части - расположение в популярных районах, где много деловых и развлекательных объектов (пресненская набережная и тд)\n",
    "\n",
    "1 место по количеству заведений занимает проспект Мира, на нем расположено 203 заведения, следущей по количеству заведений является профсоюзная улица (182 объекта), тройку лидеров замыкает ленинградский проспект с 172 заведениями.\n",
    "\n",
    "По относительному показателю соотношения количества объектов на конкретной улице к общему количеству объектов в Москве все 10 популярных улиц имеют небольшое различие. Так между самым популярным проспектом Мира и кировоградской улицей, находящейся на 10 месте расхождение не превышает и 1%.\n",
    "\n",
    "Определим к каким районам относятся улицы с наибольшим количеством заведений.\n",
    "\n",
    "Для этого загрузим внешний файл (взят с сайта Мосгаза) со списком всех улиц, районов и округов."
   ]
  },
  {
   "cell_type": "code",
   "execution_count": 21,
   "metadata": {},
   "outputs": [
    {
     "data": {
      "text/html": [
       "<div>\n",
       "<style scoped>\n",
       "    .dataframe tbody tr th:only-of-type {\n",
       "        vertical-align: middle;\n",
       "    }\n",
       "\n",
       "    .dataframe tbody tr th {\n",
       "        vertical-align: top;\n",
       "    }\n",
       "\n",
       "    .dataframe thead th {\n",
       "        text-align: right;\n",
       "    }\n",
       "</style>\n",
       "<table border=\"1\" class=\"dataframe\">\n",
       "  <thead>\n",
       "    <tr style=\"text-align: right;\">\n",
       "      <th></th>\n",
       "      <th>streetname</th>\n",
       "      <th>areaid</th>\n",
       "      <th>okrug</th>\n",
       "      <th>area</th>\n",
       "    </tr>\n",
       "  </thead>\n",
       "  <tbody>\n",
       "    <tr>\n",
       "      <th>0</th>\n",
       "      <td>выставочный переулок</td>\n",
       "      <td>17</td>\n",
       "      <td>ЦАО</td>\n",
       "      <td>Пресненский район</td>\n",
       "    </tr>\n",
       "    <tr>\n",
       "      <th>1</th>\n",
       "      <td>улица гашека</td>\n",
       "      <td>17</td>\n",
       "      <td>ЦАО</td>\n",
       "      <td>Пресненский район</td>\n",
       "    </tr>\n",
       "    <tr>\n",
       "      <th>2</th>\n",
       "      <td>большая никитская улица</td>\n",
       "      <td>17</td>\n",
       "      <td>ЦАО</td>\n",
       "      <td>Пресненский район</td>\n",
       "    </tr>\n",
       "    <tr>\n",
       "      <th>3</th>\n",
       "      <td>глубокий переулок</td>\n",
       "      <td>17</td>\n",
       "      <td>ЦАО</td>\n",
       "      <td>Пресненский район</td>\n",
       "    </tr>\n",
       "    <tr>\n",
       "      <th>4</th>\n",
       "      <td>большой гнездниковский переулок</td>\n",
       "      <td>17</td>\n",
       "      <td>ЦАО</td>\n",
       "      <td>Пресненский район</td>\n",
       "    </tr>\n",
       "  </tbody>\n",
       "</table>\n",
       "</div>"
      ],
      "text/plain": [
       "                        streetname  areaid okrug               area\n",
       "0             выставочный переулок      17   ЦАО  Пресненский район\n",
       "1                     улица гашека      17   ЦАО  Пресненский район\n",
       "2          большая никитская улица      17   ЦАО  Пресненский район\n",
       "3                глубокий переулок      17   ЦАО  Пресненский район\n",
       "4  большой гнездниковский переулок      17   ЦАО  Пресненский район"
      ]
     },
     "execution_count": 21,
     "metadata": {},
     "output_type": "execute_result"
    }
   ],
   "source": [
    "# импорт внешнего файла с улицами/районами \n",
    "spreadsheet_id = '1MhxdNtXiuSyEo0qkRv5ky7Yzoi6v_a9KCzm6edfXgNw'\n",
    "file_name = 'https://docs.google.com/spreadsheets/d/{}/export?format=csv'.format(spreadsheet_id)\n",
    "r = requests.get(file_name)\n",
    "area = pd.read_csv(BytesIO(r.content))\n",
    "area['streetname'] = area['streetname'].str.lower()\n",
    "area.head()"
   ]
  },
  {
   "cell_type": "code",
   "execution_count": 22,
   "metadata": {
    "scrolled": false
   },
   "outputs": [
    {
     "data": {
      "text/html": [
       "<div>\n",
       "<style scoped>\n",
       "    .dataframe tbody tr th:only-of-type {\n",
       "        vertical-align: middle;\n",
       "    }\n",
       "\n",
       "    .dataframe tbody tr th {\n",
       "        vertical-align: top;\n",
       "    }\n",
       "\n",
       "    .dataframe thead th {\n",
       "        text-align: right;\n",
       "    }\n",
       "</style>\n",
       "<table border=\"1\" class=\"dataframe\">\n",
       "  <thead>\n",
       "    <tr style=\"text-align: right;\">\n",
       "      <th></th>\n",
       "      <th>streetname</th>\n",
       "      <th>area</th>\n",
       "      <th>okrug</th>\n",
       "    </tr>\n",
       "  </thead>\n",
       "  <tbody>\n",
       "    <tr>\n",
       "      <th>0</th>\n",
       "      <td>варшавское шоссе</td>\n",
       "      <td>Донской район</td>\n",
       "      <td>ЮАО</td>\n",
       "    </tr>\n",
       "    <tr>\n",
       "      <th>1</th>\n",
       "      <td>варшавское шоссе</td>\n",
       "      <td>Район Южное Бутово</td>\n",
       "      <td>ЮЗАО</td>\n",
       "    </tr>\n",
       "    <tr>\n",
       "      <th>2</th>\n",
       "      <td>варшавское шоссе</td>\n",
       "      <td>Район Чертаново Южное</td>\n",
       "      <td>ЮАО</td>\n",
       "    </tr>\n",
       "    <tr>\n",
       "      <th>3</th>\n",
       "      <td>варшавское шоссе</td>\n",
       "      <td>Район Северное Бутово</td>\n",
       "      <td>ЮЗАО</td>\n",
       "    </tr>\n",
       "    <tr>\n",
       "      <th>4</th>\n",
       "      <td>варшавское шоссе</td>\n",
       "      <td>Район Чертаново Северное</td>\n",
       "      <td>ЮАО</td>\n",
       "    </tr>\n",
       "    <tr>\n",
       "      <th>5</th>\n",
       "      <td>варшавское шоссе</td>\n",
       "      <td>Район Чертаново Центральное</td>\n",
       "      <td>ЮАО</td>\n",
       "    </tr>\n",
       "    <tr>\n",
       "      <th>6</th>\n",
       "      <td>варшавское шоссе</td>\n",
       "      <td>Нагорный район</td>\n",
       "      <td>ЮАО</td>\n",
       "    </tr>\n",
       "    <tr>\n",
       "      <th>7</th>\n",
       "      <td>варшавское шоссе</td>\n",
       "      <td>Район Нагатино-Садовники</td>\n",
       "      <td>ЮАО</td>\n",
       "    </tr>\n",
       "    <tr>\n",
       "      <th>8</th>\n",
       "      <td>каширское шоссе</td>\n",
       "      <td>Район Нагатино-Садовники</td>\n",
       "      <td>ЮАО</td>\n",
       "    </tr>\n",
       "    <tr>\n",
       "      <th>9</th>\n",
       "      <td>каширское шоссе</td>\n",
       "      <td>Район Москворечье-Сабурово</td>\n",
       "      <td>ЮАО</td>\n",
       "    </tr>\n",
       "    <tr>\n",
       "      <th>10</th>\n",
       "      <td>каширское шоссе</td>\n",
       "      <td>Район Орехово-Борисово Южное</td>\n",
       "      <td>ЮАО</td>\n",
       "    </tr>\n",
       "    <tr>\n",
       "      <th>11</th>\n",
       "      <td>каширское шоссе</td>\n",
       "      <td>Район Орехово-Борисово Северное</td>\n",
       "      <td>ЮАО</td>\n",
       "    </tr>\n",
       "    <tr>\n",
       "      <th>12</th>\n",
       "      <td>кировоградская улица</td>\n",
       "      <td>Район Чертаново Северное</td>\n",
       "      <td>ЮАО</td>\n",
       "    </tr>\n",
       "    <tr>\n",
       "      <th>13</th>\n",
       "      <td>кировоградская улица</td>\n",
       "      <td>Район Чертаново Центральное</td>\n",
       "      <td>ЮАО</td>\n",
       "    </tr>\n",
       "    <tr>\n",
       "      <th>14</th>\n",
       "      <td>кировоградская улица</td>\n",
       "      <td>Район Чертаново Южное</td>\n",
       "      <td>ЮАО</td>\n",
       "    </tr>\n",
       "    <tr>\n",
       "      <th>15</th>\n",
       "      <td>кутузовский проспект</td>\n",
       "      <td>Район Фили-Давыдково</td>\n",
       "      <td>ЗАО</td>\n",
       "    </tr>\n",
       "    <tr>\n",
       "      <th>16</th>\n",
       "      <td>кутузовский проспект</td>\n",
       "      <td>Район Дорогомилово</td>\n",
       "      <td>ЗАО</td>\n",
       "    </tr>\n",
       "    <tr>\n",
       "      <th>17</th>\n",
       "      <td>ленинградский проспект</td>\n",
       "      <td>Район Сокол</td>\n",
       "      <td>САО</td>\n",
       "    </tr>\n",
       "    <tr>\n",
       "      <th>18</th>\n",
       "      <td>ленинградский проспект</td>\n",
       "      <td>Хорошевский район</td>\n",
       "      <td>САО</td>\n",
       "    </tr>\n",
       "    <tr>\n",
       "      <th>19</th>\n",
       "      <td>ленинградский проспект</td>\n",
       "      <td>Район Беговой</td>\n",
       "      <td>САО</td>\n",
       "    </tr>\n",
       "    <tr>\n",
       "      <th>20</th>\n",
       "      <td>ленинградский проспект</td>\n",
       "      <td>Район Аэропорт</td>\n",
       "      <td>САО</td>\n",
       "    </tr>\n",
       "    <tr>\n",
       "      <th>21</th>\n",
       "      <td>ленинский проспект</td>\n",
       "      <td>Обручевский район</td>\n",
       "      <td>ЮЗАО</td>\n",
       "    </tr>\n",
       "    <tr>\n",
       "      <th>22</th>\n",
       "      <td>ленинский проспект</td>\n",
       "      <td>Район Тропарево-Никулино</td>\n",
       "      <td>ЗАО</td>\n",
       "    </tr>\n",
       "    <tr>\n",
       "      <th>23</th>\n",
       "      <td>ленинский проспект</td>\n",
       "      <td>Район Теплый Стан</td>\n",
       "      <td>ЮЗАО</td>\n",
       "    </tr>\n",
       "    <tr>\n",
       "      <th>24</th>\n",
       "      <td>ленинский проспект</td>\n",
       "      <td>Район Проспект Вернадского</td>\n",
       "      <td>ЗАО</td>\n",
       "    </tr>\n",
       "    <tr>\n",
       "      <th>25</th>\n",
       "      <td>ленинский проспект</td>\n",
       "      <td>Район Якиманка</td>\n",
       "      <td>ЦАО</td>\n",
       "    </tr>\n",
       "    <tr>\n",
       "      <th>26</th>\n",
       "      <td>ленинский проспект</td>\n",
       "      <td>Донской район</td>\n",
       "      <td>ЮАО</td>\n",
       "    </tr>\n",
       "    <tr>\n",
       "      <th>27</th>\n",
       "      <td>ленинский проспект</td>\n",
       "      <td>Ломоносовский район</td>\n",
       "      <td>ЮЗАО</td>\n",
       "    </tr>\n",
       "    <tr>\n",
       "      <th>28</th>\n",
       "      <td>ленинский проспект</td>\n",
       "      <td>Район Гагаринский</td>\n",
       "      <td>ЮЗАО</td>\n",
       "    </tr>\n",
       "    <tr>\n",
       "      <th>29</th>\n",
       "      <td>пресненская набережная</td>\n",
       "      <td>Пресненский район</td>\n",
       "      <td>ЦАО</td>\n",
       "    </tr>\n",
       "    <tr>\n",
       "      <th>30</th>\n",
       "      <td>проспект вернадского</td>\n",
       "      <td>Ломоносовский район</td>\n",
       "      <td>ЮЗАО</td>\n",
       "    </tr>\n",
       "    <tr>\n",
       "      <th>31</th>\n",
       "      <td>проспект вернадского</td>\n",
       "      <td>Район Проспект Вернадского</td>\n",
       "      <td>ЗАО</td>\n",
       "    </tr>\n",
       "    <tr>\n",
       "      <th>32</th>\n",
       "      <td>проспект вернадского</td>\n",
       "      <td>Район Раменки</td>\n",
       "      <td>ЗАО</td>\n",
       "    </tr>\n",
       "    <tr>\n",
       "      <th>33</th>\n",
       "      <td>проспект вернадского</td>\n",
       "      <td>Район Тропарево-Никулино</td>\n",
       "      <td>ЗАО</td>\n",
       "    </tr>\n",
       "    <tr>\n",
       "      <th>34</th>\n",
       "      <td>проспект вернадского</td>\n",
       "      <td>Район Гагаринский</td>\n",
       "      <td>ЮЗАО</td>\n",
       "    </tr>\n",
       "    <tr>\n",
       "      <th>35</th>\n",
       "      <td>проспект мира</td>\n",
       "      <td>Алексеевский район</td>\n",
       "      <td>СВАО</td>\n",
       "    </tr>\n",
       "    <tr>\n",
       "      <th>36</th>\n",
       "      <td>проспект мира</td>\n",
       "      <td>Ярославский Район</td>\n",
       "      <td>СВАО</td>\n",
       "    </tr>\n",
       "    <tr>\n",
       "      <th>37</th>\n",
       "      <td>проспект мира</td>\n",
       "      <td>Район Свиблово</td>\n",
       "      <td>СВАО</td>\n",
       "    </tr>\n",
       "    <tr>\n",
       "      <th>38</th>\n",
       "      <td>проспект мира</td>\n",
       "      <td>Район Ростокино</td>\n",
       "      <td>СВАО</td>\n",
       "    </tr>\n",
       "    <tr>\n",
       "      <th>39</th>\n",
       "      <td>проспект мира</td>\n",
       "      <td>Район Марьина роща</td>\n",
       "      <td>СВАО</td>\n",
       "    </tr>\n",
       "    <tr>\n",
       "      <th>40</th>\n",
       "      <td>проспект мира</td>\n",
       "      <td>Останкинский район</td>\n",
       "      <td>СВАО</td>\n",
       "    </tr>\n",
       "    <tr>\n",
       "      <th>41</th>\n",
       "      <td>проспект мира</td>\n",
       "      <td>Мещанский район</td>\n",
       "      <td>ЦАО</td>\n",
       "    </tr>\n",
       "    <tr>\n",
       "      <th>42</th>\n",
       "      <td>профсоюзная улица</td>\n",
       "      <td>Район Ясенево</td>\n",
       "      <td>ЮЗАО</td>\n",
       "    </tr>\n",
       "    <tr>\n",
       "      <th>43</th>\n",
       "      <td>профсоюзная улица</td>\n",
       "      <td>Обручевский район</td>\n",
       "      <td>ЮЗАО</td>\n",
       "    </tr>\n",
       "    <tr>\n",
       "      <th>44</th>\n",
       "      <td>профсоюзная улица</td>\n",
       "      <td>Район Черемушки</td>\n",
       "      <td>ЮЗАО</td>\n",
       "    </tr>\n",
       "    <tr>\n",
       "      <th>45</th>\n",
       "      <td>профсоюзная улица</td>\n",
       "      <td>Академический район</td>\n",
       "      <td>ЮЗАО</td>\n",
       "    </tr>\n",
       "    <tr>\n",
       "      <th>46</th>\n",
       "      <td>профсоюзная улица</td>\n",
       "      <td>Район Теплый Стан</td>\n",
       "      <td>ЮЗАО</td>\n",
       "    </tr>\n",
       "    <tr>\n",
       "      <th>47</th>\n",
       "      <td>профсоюзная улица</td>\n",
       "      <td>Район Коньково</td>\n",
       "      <td>ЮЗАО</td>\n",
       "    </tr>\n",
       "  </tbody>\n",
       "</table>\n",
       "</div>"
      ],
      "text/plain": [
       "                streetname                             area okrug\n",
       "0         варшавское шоссе                    Донской район   ЮАО\n",
       "1         варшавское шоссе               Район Южное Бутово  ЮЗАО\n",
       "2         варшавское шоссе            Район Чертаново Южное   ЮАО\n",
       "3         варшавское шоссе            Район Северное Бутово  ЮЗАО\n",
       "4         варшавское шоссе         Район Чертаново Северное   ЮАО\n",
       "5         варшавское шоссе      Район Чертаново Центральное   ЮАО\n",
       "6         варшавское шоссе                   Нагорный район   ЮАО\n",
       "7         варшавское шоссе         Район Нагатино-Садовники   ЮАО\n",
       "8          каширское шоссе         Район Нагатино-Садовники   ЮАО\n",
       "9          каширское шоссе       Район Москворечье-Сабурово   ЮАО\n",
       "10         каширское шоссе     Район Орехово-Борисово Южное   ЮАО\n",
       "11         каширское шоссе  Район Орехово-Борисово Северное   ЮАО\n",
       "12    кировоградская улица         Район Чертаново Северное   ЮАО\n",
       "13    кировоградская улица      Район Чертаново Центральное   ЮАО\n",
       "14    кировоградская улица            Район Чертаново Южное   ЮАО\n",
       "15    кутузовский проспект             Район Фили-Давыдково   ЗАО\n",
       "16    кутузовский проспект               Район Дорогомилово   ЗАО\n",
       "17  ленинградский проспект                      Район Сокол   САО\n",
       "18  ленинградский проспект                Хорошевский район   САО\n",
       "19  ленинградский проспект                    Район Беговой   САО\n",
       "20  ленинградский проспект                   Район Аэропорт   САО\n",
       "21      ленинский проспект                Обручевский район  ЮЗАО\n",
       "22      ленинский проспект         Район Тропарево-Никулино   ЗАО\n",
       "23      ленинский проспект                Район Теплый Стан  ЮЗАО\n",
       "24      ленинский проспект       Район Проспект Вернадского   ЗАО\n",
       "25      ленинский проспект                   Район Якиманка   ЦАО\n",
       "26      ленинский проспект                    Донской район   ЮАО\n",
       "27      ленинский проспект              Ломоносовский район  ЮЗАО\n",
       "28      ленинский проспект                Район Гагаринский  ЮЗАО\n",
       "29  пресненская набережная                Пресненский район   ЦАО\n",
       "30    проспект вернадского              Ломоносовский район  ЮЗАО\n",
       "31    проспект вернадского       Район Проспект Вернадского   ЗАО\n",
       "32    проспект вернадского                    Район Раменки   ЗАО\n",
       "33    проспект вернадского         Район Тропарево-Никулино   ЗАО\n",
       "34    проспект вернадского                Район Гагаринский  ЮЗАО\n",
       "35           проспект мира               Алексеевский район  СВАО\n",
       "36           проспект мира                Ярославский Район  СВАО\n",
       "37           проспект мира                   Район Свиблово  СВАО\n",
       "38           проспект мира                  Район Ростокино  СВАО\n",
       "39           проспект мира               Район Марьина роща  СВАО\n",
       "40           проспект мира               Останкинский район  СВАО\n",
       "41           проспект мира                  Мещанский район   ЦАО\n",
       "42       профсоюзная улица                    Район Ясенево  ЮЗАО\n",
       "43       профсоюзная улица                Обручевский район  ЮЗАО\n",
       "44       профсоюзная улица                  Район Черемушки  ЮЗАО\n",
       "45       профсоюзная улица              Академический район  ЮЗАО\n",
       "46       профсоюзная улица                Район Теплый Стан  ЮЗАО\n",
       "47       профсоюзная улица                   Район Коньково  ЮЗАО"
      ]
     },
     "execution_count": 22,
     "metadata": {},
     "output_type": "execute_result"
    }
   ],
   "source": [
    "# список топ-10 улиц\n",
    "list = street_grouped['street'].to_list()\n",
    "# фильтрация файла с улицами по вхождению в список топ-10\n",
    "street_area = area[area['streetname'].isin(list)].sort_values(by='streetname').reset_index(drop=True)\n",
    "# оставим только столбцы с улицей и районом\n",
    "street_area = street_area[['streetname','area','okrug']]\n",
    "street_area"
   ]
  },
  {
   "cell_type": "code",
   "execution_count": 23,
   "metadata": {
    "scrolled": false
   },
   "outputs": [
    {
     "data": {
      "text/html": [
       "<div>\n",
       "<style scoped>\n",
       "    .dataframe tbody tr th:only-of-type {\n",
       "        vertical-align: middle;\n",
       "    }\n",
       "\n",
       "    .dataframe tbody tr th {\n",
       "        vertical-align: top;\n",
       "    }\n",
       "\n",
       "    .dataframe thead th {\n",
       "        text-align: right;\n",
       "    }\n",
       "</style>\n",
       "<table border=\"1\" class=\"dataframe\">\n",
       "  <thead>\n",
       "    <tr style=\"text-align: right;\">\n",
       "      <th></th>\n",
       "      <th>area</th>\n",
       "    </tr>\n",
       "    <tr>\n",
       "      <th>streetname</th>\n",
       "      <th></th>\n",
       "    </tr>\n",
       "  </thead>\n",
       "  <tbody>\n",
       "    <tr>\n",
       "      <th>варшавское шоссе</th>\n",
       "      <td>8</td>\n",
       "    </tr>\n",
       "    <tr>\n",
       "      <th>ленинский проспект</th>\n",
       "      <td>8</td>\n",
       "    </tr>\n",
       "    <tr>\n",
       "      <th>проспект мира</th>\n",
       "      <td>7</td>\n",
       "    </tr>\n",
       "    <tr>\n",
       "      <th>профсоюзная улица</th>\n",
       "      <td>6</td>\n",
       "    </tr>\n",
       "    <tr>\n",
       "      <th>проспект вернадского</th>\n",
       "      <td>5</td>\n",
       "    </tr>\n",
       "    <tr>\n",
       "      <th>каширское шоссе</th>\n",
       "      <td>4</td>\n",
       "    </tr>\n",
       "    <tr>\n",
       "      <th>ленинградский проспект</th>\n",
       "      <td>4</td>\n",
       "    </tr>\n",
       "    <tr>\n",
       "      <th>кировоградская улица</th>\n",
       "      <td>3</td>\n",
       "    </tr>\n",
       "    <tr>\n",
       "      <th>кутузовский проспект</th>\n",
       "      <td>2</td>\n",
       "    </tr>\n",
       "    <tr>\n",
       "      <th>пресненская набережная</th>\n",
       "      <td>1</td>\n",
       "    </tr>\n",
       "  </tbody>\n",
       "</table>\n",
       "</div>"
      ],
      "text/plain": [
       "                        area\n",
       "streetname                  \n",
       "варшавское шоссе           8\n",
       "ленинский проспект         8\n",
       "проспект мира              7\n",
       "профсоюзная улица          6\n",
       "проспект вернадского       5\n",
       "каширское шоссе            4\n",
       "ленинградский проспект     4\n",
       "кировоградская улица       3\n",
       "кутузовский проспект       2\n",
       "пресненская набережная     1"
      ]
     },
     "metadata": {},
     "output_type": "display_data"
    }
   ],
   "source": [
    "# группируем список улиц с районам по улицам и считаем количество районов\n",
    "display(street_area.groupby('streetname').agg({'area':'count'}).sort_values(by='area',ascending=False))\n",
    "#display(street_area.groupby('okrug').agg({'okrug':'count'}))\n"
   ]
  },
  {
   "cell_type": "markdown",
   "metadata": {
    "scrolled": true
   },
   "source": [
    "Все улицы (за искл. пресненской набережной) входят сразу в несколько районов. \n",
    "Так варшавское шоссе протяженностью 22,5 км входит сразу в 8 районов, как и ленинский проспект (8 районов).\n",
    "\n",
    "\n",
    "Определим число улиц с одним объектом общественного питания, посмотрим в каких районах Москвы находятся эти улицы."
   ]
  },
  {
   "cell_type": "code",
   "execution_count": 24,
   "metadata": {},
   "outputs": [
    {
     "data": {
      "text/html": [
       "<div>\n",
       "<style scoped>\n",
       "    .dataframe tbody tr th:only-of-type {\n",
       "        vertical-align: middle;\n",
       "    }\n",
       "\n",
       "    .dataframe tbody tr th {\n",
       "        vertical-align: top;\n",
       "    }\n",
       "\n",
       "    .dataframe thead th {\n",
       "        text-align: right;\n",
       "    }\n",
       "</style>\n",
       "<table border=\"1\" class=\"dataframe\">\n",
       "  <thead>\n",
       "    <tr style=\"text-align: right;\">\n",
       "      <th></th>\n",
       "      <th>street</th>\n",
       "      <th>object_name</th>\n",
       "    </tr>\n",
       "  </thead>\n",
       "  <tbody>\n",
       "    <tr>\n",
       "      <th>0</th>\n",
       "      <td>улица рокотова</td>\n",
       "      <td>1</td>\n",
       "    </tr>\n",
       "    <tr>\n",
       "      <th>1</th>\n",
       "      <td>улица рословка</td>\n",
       "      <td>1</td>\n",
       "    </tr>\n",
       "    <tr>\n",
       "      <th>2</th>\n",
       "      <td>варсонофьевский переулок</td>\n",
       "      <td>1</td>\n",
       "    </tr>\n",
       "    <tr>\n",
       "      <th>3</th>\n",
       "      <td>вербная улица</td>\n",
       "      <td>1</td>\n",
       "    </tr>\n",
       "    <tr>\n",
       "      <th>4</th>\n",
       "      <td>улица ротерта</td>\n",
       "      <td>1</td>\n",
       "    </tr>\n",
       "    <tr>\n",
       "      <th>...</th>\n",
       "      <td>...</td>\n",
       "      <td>...</td>\n",
       "    </tr>\n",
       "    <tr>\n",
       "      <th>546</th>\n",
       "      <td>кривоарбатский переулок</td>\n",
       "      <td>1</td>\n",
       "    </tr>\n",
       "    <tr>\n",
       "      <th>547</th>\n",
       "      <td>улица девятая рота</td>\n",
       "      <td>1</td>\n",
       "    </tr>\n",
       "    <tr>\n",
       "      <th>548</th>\n",
       "      <td>кремлёвская набережная</td>\n",
       "      <td>1</td>\n",
       "    </tr>\n",
       "    <tr>\n",
       "      <th>549</th>\n",
       "      <td>улица демьяна бедного</td>\n",
       "      <td>1</td>\n",
       "    </tr>\n",
       "    <tr>\n",
       "      <th>550</th>\n",
       "      <td>яхромская улица</td>\n",
       "      <td>1</td>\n",
       "    </tr>\n",
       "  </tbody>\n",
       "</table>\n",
       "<p>551 rows × 2 columns</p>\n",
       "</div>"
      ],
      "text/plain": [
       "                       street  object_name\n",
       "0              улица рокотова            1\n",
       "1              улица рословка            1\n",
       "2    варсонофьевский переулок            1\n",
       "3               вербная улица            1\n",
       "4               улица ротерта            1\n",
       "..                        ...          ...\n",
       "546   кривоарбатский переулок            1\n",
       "547        улица девятая рота            1\n",
       "548    кремлёвская набережная            1\n",
       "549     улица демьяна бедного            1\n",
       "550           яхромская улица            1\n",
       "\n",
       "[551 rows x 2 columns]"
      ]
     },
     "metadata": {},
     "output_type": "display_data"
    },
    {
     "data": {
      "text/plain": [
       "'Количество улиц с одним объектом общественного питания - 551 шт.'"
      ]
     },
     "metadata": {},
     "output_type": "display_data"
    }
   ],
   "source": [
    "# группируем количество заведений по улице и выбираем заведения с 1 точкой\n",
    "street_grouped_one = (\n",
    "        data.groupby('street', as_index=False)\n",
    "        .agg({'object_name':'count'})\n",
    "        .sort_values(by='object_name',ascending=False)\n",
    "        .query('object_name==1')\n",
    ")\n",
    "street_grouped_one = street_grouped_one.reset_index( drop=True)\n",
    "display(street_grouped_one)\n",
    "display('Количество улиц с одним объектом общественного питания - {} шт.'.format(street_grouped_one['street'].count()))\n"
   ]
  },
  {
   "cell_type": "markdown",
   "metadata": {},
   "source": [
    "Посмотрим к каким районам принадлежат данные улицы"
   ]
  },
  {
   "cell_type": "code",
   "execution_count": 25,
   "metadata": {
    "scrolled": false
   },
   "outputs": [
    {
     "name": "stdout",
     "output_type": "stream",
     "text": [
      "Количество районов, содержащих 1 улицу - 101\n",
      "Районы ЦАО,включающие улицы с 1 объектом общественного питания\n"
     ]
    },
    {
     "data": {
      "text/plain": [
       "area    [Басманный район, Красносельский район, Район Якиманка, Район Хамовники, Мещанский район, Таганский район, Район Замоскворечье, Район Арбат, Тверской район, Пресненский район]\n",
       "dtype: object"
      ]
     },
     "metadata": {},
     "output_type": "display_data"
    },
    {
     "data": {
      "text/plain": [
       "street        0.00\n",
       "object_name   0.00\n",
       "streetname    6.35\n",
       "areaid        6.35\n",
       "okrug         6.35\n",
       "area          6.35\n",
       "dtype: float64"
      ]
     },
     "metadata": {},
     "output_type": "display_data"
    }
   ],
   "source": [
    "# список улиц с 1 заведением\n",
    "list = street_grouped_one['street'].to_list()\n",
    "# выделение районов улиц с 1 заведением\n",
    "street_area_one = area[area['streetname'].isin(list)].sort_values(by='streetname').reset_index(drop=True)\n",
    "street_area_one = street_area_one[['streetname','area','okrug']]\n",
    "print('Количество районов, содержащих 1 улицу -',len(street_area_one['area'].unique()))\n",
    "print('Районы ЦАО,включающие улицы с 1 объектом общественного питания')\n",
    "# районы с улицами по 1 заведению, входящие в ЦАО\n",
    "display(street_area_one.query('okrug==\"ЦАО\"').agg({'area':'unique'}))\n",
    "\n",
    "merged_streets = street_grouped_one.merge(area,how='left',left_on = 'street',right_on='streetname')\n",
    "# проверка для скольки улиц не нашлось района\n",
    "display(merged_streets.isna().sum()/len(list)*100)"
   ]
  },
  {
   "cell_type": "markdown",
   "metadata": {},
   "source": [
    "## Выводы"
   ]
  },
  {
   "cell_type": "markdown",
   "metadata": {},
   "source": [
    "Цель проводимого исследования - исследование и анализ рынка общественного питания в Москве для определения потенциала кафе,планируемого к открытию.\n",
    "\n",
    "В ходе анализа было установлено, что :\n",
    "\n",
    " 1. Наиболее популярные типы заведений на рынке Москвы - это кафе, столовые, рестораны и предприятия быстрого обслуживания.\n",
    " \n",
    " Наибольшее количество предприятий общественного питания представлено кафе - 40%. Также в тройку самых популярных объектов питания входят столовые и рестораны, занимая 17% и 15% рынка соответственно. Наименее распространненые типы заведений - это отделы кулинарии и закусочные.\n",
    " \n",
    " \n",
    " 2. Основную долю рынка общественного питания Москвы занимают несетевые заведения.\n",
    " \n",
    " Доля рынка несетевых заведений составляет 81% , и только 19% приходится на сетевые заведения.Основная масса рынка - это одиночные игроки, что позволит проекту избежать конкуренции с крупными сетями и их узнаваемым брендом.\n",
    " \n",
    " \n",
    " 3. Для предприятий быстрого обслуживания характерно сетевое распространение.\n",
    "\n",
    " Доля сетей на рынке фастфуда составляет 42%. Также высок уровень сетевого распространения для отделов кулинарии (29%),ресторанов(24%) и кафе(23%). Среди столовых практически нет сетевых заведений.\n",
    " \n",
    " \n",
    " 4. Для сетевых заведений характерно невысокое количество точек внутри сети с высоким количеством посадочных мест внутри заведений.\n",
    " \n",
    " Для 70% характерно не более 6 точек внутри сети и от 17 до 122 посадочных мест в среднем внутри точки.\n",
    " \n",
    " 5. Распределение среднего количества посадочных мест снутри заведения по типам заведений совпадает для сетевых и несетевых организаций.\n",
    " \n",
    " Наиболее вместимыми оказались столовые, рестораны и бары, что связано с длительностью времени посещения  (рестораны и бары) клиентами и желанием не терять по этой причине часть выручки или с однократностью посещения клиентами(столовая) в течения дня, во время обеда. \n",
    " \n",
    " 6. Наиболее популярными улицами по количеству размещенных объектов питания являются основные транспортные магистрали Москвы.\n",
    " \n",
    " Количество заведений на улицу из списка самых популярных приходится от 108 до 203 заведений , что в процентном соотношение к общему количество заведений в Москве составляет от 0,7 до 1,4 % . Такие улицы за счет своей протяженности принадлежат сразу нескольким районам и округам. \n",
    " \n",
    " 7. Есть улицы с небольшой нагрузкой в части заведений общественного питания , на которых не более 1 заведения.\n",
    " \n",
    " В том числе среди таких улиц есть улицы, находящиеся в ЦАО.\n",
    " \n",
    " \n",
    "По результатам исследования для открытия кафе можно порекомендовать улицы центрального административного округа, находящиеся в  следующих районах:\n",
    "    \n",
    "    - Басманный район, \n",
    "    - Красносельский район,\n",
    "    - Район Якиманка, \n",
    "    - Район Хамовники, \n",
    "    - Мещанский район, \n",
    "    - Таганский район, \n",
    "    - Район Замоскворечье, \n",
    "    - Район Арбат, \n",
    "    - Тверской район, \n",
    "    - Пресненский район.\n",
    "Оригинальный формат заведения (людей обслуживают роботы ) позволяет выбрать данные улицы, несмотря на то, что они обладают низкой  плотностью заведений общественного питания. При выборе улицы также необходимо будет обратить внимание на ее проходимость. \n",
    "\n",
    "В качестве формата заведения можно выбрать  кафе или предприятие быстрого обслуживания, как наиболее популярный тип общественного питания для Москвы. Другие распространенные виды не подойдут вследствии специфики обслуживания роботами.Например, рестораны требуют индивидуального подхода к клиенту, а использование роботов предполагает стандартизацию процессов .\n",
    "\n",
    "Типичное количество посадочных мест для такого вида заведения равно 30-40 мест. \n",
    "Для проекта есть переспектива роста в сетевое заведение(оптимальное число точек - до 6-10 заведений) с увеличением количества посадочных мест.\n",
    "\n",
    "\n",
    "\n",
    "\n"
   ]
  },
  {
   "cell_type": "markdown",
   "metadata": {},
   "source": [
    "Презентация: https://drive.google.com/file/d/1W_6oTKUslPwTJdUjJT_lQHiZLb3m_dlv/view?usp=sharing"
   ]
  }
 ],
 "metadata": {
  "ExecuteTimeLog": [
   {
    "duration": 1370,
    "start_time": "2022-06-02T07:54:01.832Z"
   },
   {
    "duration": 294,
    "start_time": "2022-06-02T07:55:17.232Z"
   },
   {
    "duration": 86,
    "start_time": "2022-06-02T07:55:29.986Z"
   },
   {
    "duration": 5,
    "start_time": "2022-06-02T08:02:15.064Z"
   },
   {
    "duration": 119,
    "start_time": "2022-06-02T08:02:35.394Z"
   },
   {
    "duration": 6,
    "start_time": "2022-06-02T08:02:43.374Z"
   },
   {
    "duration": 15,
    "start_time": "2022-06-02T08:08:14.726Z"
   },
   {
    "duration": 427,
    "start_time": "2022-06-02T08:09:53.400Z"
   },
   {
    "duration": 28,
    "start_time": "2022-06-02T08:58:48.868Z"
   },
   {
    "duration": 11,
    "start_time": "2022-06-02T08:59:18.612Z"
   },
   {
    "duration": 11,
    "start_time": "2022-06-02T08:59:21.511Z"
   },
   {
    "duration": 13,
    "start_time": "2022-06-02T08:59:33.155Z"
   },
   {
    "duration": 19,
    "start_time": "2022-06-02T09:00:10.785Z"
   },
   {
    "duration": 4,
    "start_time": "2022-06-02T09:02:45.538Z"
   },
   {
    "duration": 23,
    "start_time": "2022-06-02T09:03:00.559Z"
   },
   {
    "duration": 4,
    "start_time": "2022-06-02T09:04:07.512Z"
   },
   {
    "duration": 18,
    "start_time": "2022-06-02T09:06:57.867Z"
   },
   {
    "duration": 3,
    "start_time": "2022-06-02T09:14:17.006Z"
   },
   {
    "duration": 91,
    "start_time": "2022-06-02T09:14:17.708Z"
   },
   {
    "duration": 29,
    "start_time": "2022-06-02T09:14:21.640Z"
   },
   {
    "duration": 48,
    "start_time": "2022-06-02T09:14:22.662Z"
   },
   {
    "duration": 4,
    "start_time": "2022-06-02T09:14:50.259Z"
   },
   {
    "duration": 25,
    "start_time": "2022-06-02T09:15:10.785Z"
   },
   {
    "duration": 19,
    "start_time": "2022-06-02T09:15:39.547Z"
   },
   {
    "duration": 16,
    "start_time": "2022-06-02T09:16:06.750Z"
   },
   {
    "duration": 19,
    "start_time": "2022-06-02T09:16:22.038Z"
   },
   {
    "duration": 31,
    "start_time": "2022-06-02T09:16:57.107Z"
   },
   {
    "duration": 29,
    "start_time": "2022-06-02T09:17:07.381Z"
   },
   {
    "duration": 91,
    "start_time": "2022-06-02T09:17:34.794Z"
   },
   {
    "duration": 35,
    "start_time": "2022-06-02T09:17:39.738Z"
   },
   {
    "duration": 10,
    "start_time": "2022-06-02T09:18:44.987Z"
   },
   {
    "duration": 23,
    "start_time": "2022-06-02T09:19:11.385Z"
   },
   {
    "duration": 55,
    "start_time": "2022-06-02T09:19:12.295Z"
   },
   {
    "duration": 35,
    "start_time": "2022-06-02T09:19:16.053Z"
   },
   {
    "duration": 8,
    "start_time": "2022-06-02T09:19:20.194Z"
   },
   {
    "duration": 11,
    "start_time": "2022-06-02T09:19:33.938Z"
   },
   {
    "duration": 17,
    "start_time": "2022-06-02T09:20:50.258Z"
   },
   {
    "duration": 40,
    "start_time": "2022-06-02T09:20:53.942Z"
   },
   {
    "duration": 50,
    "start_time": "2022-06-02T09:21:10.940Z"
   },
   {
    "duration": 17,
    "start_time": "2022-06-02T09:22:37.808Z"
   },
   {
    "duration": 168,
    "start_time": "2022-06-02T09:24:49.565Z"
   },
   {
    "duration": 8,
    "start_time": "2022-06-02T09:24:53.462Z"
   },
   {
    "duration": 14,
    "start_time": "2022-06-02T09:24:57.869Z"
   },
   {
    "duration": 15,
    "start_time": "2022-06-02T09:31:50.792Z"
   },
   {
    "duration": 125,
    "start_time": "2022-06-02T09:32:42.024Z"
   },
   {
    "duration": 13,
    "start_time": "2022-06-02T09:33:20.159Z"
   },
   {
    "duration": 57,
    "start_time": "2022-06-02T09:33:44.086Z"
   },
   {
    "duration": 13,
    "start_time": "2022-06-02T09:34:14.250Z"
   },
   {
    "duration": 69,
    "start_time": "2022-06-02T09:36:49.492Z"
   },
   {
    "duration": 12,
    "start_time": "2022-06-02T09:37:19.058Z"
   },
   {
    "duration": 12,
    "start_time": "2022-06-02T09:38:37.360Z"
   },
   {
    "duration": 5,
    "start_time": "2022-06-02T11:08:06.530Z"
   },
   {
    "duration": 11,
    "start_time": "2022-06-02T11:09:20.297Z"
   },
   {
    "duration": 6,
    "start_time": "2022-06-02T11:09:58.870Z"
   },
   {
    "duration": 25,
    "start_time": "2022-06-02T11:33:25.154Z"
   },
   {
    "duration": 26,
    "start_time": "2022-06-02T11:34:29.547Z"
   },
   {
    "duration": 24,
    "start_time": "2022-06-02T11:42:06.275Z"
   },
   {
    "duration": 29,
    "start_time": "2022-06-02T11:42:18.480Z"
   },
   {
    "duration": 35,
    "start_time": "2022-06-02T11:42:33.183Z"
   },
   {
    "duration": 3,
    "start_time": "2022-06-02T11:43:47.705Z"
   },
   {
    "duration": 82,
    "start_time": "2022-06-02T11:43:48.068Z"
   },
   {
    "duration": 5,
    "start_time": "2022-06-02T11:43:48.606Z"
   },
   {
    "duration": 4,
    "start_time": "2022-06-02T11:43:48.895Z"
   },
   {
    "duration": 14,
    "start_time": "2022-06-02T11:43:49.202Z"
   },
   {
    "duration": 22,
    "start_time": "2022-06-02T11:43:50.782Z"
   },
   {
    "duration": 47,
    "start_time": "2022-06-02T11:43:54.012Z"
   },
   {
    "duration": 41,
    "start_time": "2022-06-02T11:45:06.603Z"
   },
   {
    "duration": 3,
    "start_time": "2022-06-02T11:50:17.475Z"
   },
   {
    "duration": 83,
    "start_time": "2022-06-02T11:50:17.777Z"
   },
   {
    "duration": 5,
    "start_time": "2022-06-02T11:50:18.324Z"
   },
   {
    "duration": 5,
    "start_time": "2022-06-02T11:50:18.576Z"
   },
   {
    "duration": 14,
    "start_time": "2022-06-02T11:50:18.830Z"
   },
   {
    "duration": 23,
    "start_time": "2022-06-02T11:50:20.180Z"
   },
   {
    "duration": 51,
    "start_time": "2022-06-02T11:50:20.815Z"
   },
   {
    "duration": 28,
    "start_time": "2022-06-02T11:50:21.779Z"
   },
   {
    "duration": 35,
    "start_time": "2022-06-02T11:50:23.106Z"
   },
   {
    "duration": 34,
    "start_time": "2022-06-02T11:50:46.288Z"
   },
   {
    "duration": 69,
    "start_time": "2022-06-02T11:54:53.276Z"
   },
   {
    "duration": 10,
    "start_time": "2022-06-02T11:55:12.987Z"
   },
   {
    "duration": 19,
    "start_time": "2022-06-02T11:55:21.826Z"
   },
   {
    "duration": 12,
    "start_time": "2022-06-02T11:55:35.981Z"
   },
   {
    "duration": 10,
    "start_time": "2022-06-02T11:55:46.017Z"
   },
   {
    "duration": 16,
    "start_time": "2022-06-02T11:55:58.824Z"
   },
   {
    "duration": 12,
    "start_time": "2022-06-02T11:56:11.018Z"
   },
   {
    "duration": 15,
    "start_time": "2022-06-02T11:56:19.413Z"
   },
   {
    "duration": 9,
    "start_time": "2022-06-02T11:56:26.483Z"
   },
   {
    "duration": 13,
    "start_time": "2022-06-02T11:56:52.688Z"
   },
   {
    "duration": 13,
    "start_time": "2022-06-02T11:57:08.663Z"
   },
   {
    "duration": 9,
    "start_time": "2022-06-02T11:57:14.105Z"
   },
   {
    "duration": 14,
    "start_time": "2022-06-02T11:57:20.249Z"
   },
   {
    "duration": 9,
    "start_time": "2022-06-02T11:57:29.876Z"
   },
   {
    "duration": 10,
    "start_time": "2022-06-02T11:59:04.082Z"
   },
   {
    "duration": 215,
    "start_time": "2022-06-02T12:01:20.863Z"
   },
   {
    "duration": 11,
    "start_time": "2022-06-02T12:08:06.280Z"
   },
   {
    "duration": 11,
    "start_time": "2022-06-02T12:08:16.581Z"
   },
   {
    "duration": 14,
    "start_time": "2022-06-02T12:09:20.277Z"
   },
   {
    "duration": 13,
    "start_time": "2022-06-02T12:09:39.050Z"
   },
   {
    "duration": 624,
    "start_time": "2022-06-02T12:17:21.812Z"
   },
   {
    "duration": 47,
    "start_time": "2022-06-02T12:20:26.111Z"
   },
   {
    "duration": 169,
    "start_time": "2022-06-02T12:20:35.895Z"
   },
   {
    "duration": 169,
    "start_time": "2022-06-02T12:20:46.180Z"
   },
   {
    "duration": 200,
    "start_time": "2022-06-02T12:28:49.797Z"
   },
   {
    "duration": 267,
    "start_time": "2022-06-02T12:28:55.634Z"
   },
   {
    "duration": 213,
    "start_time": "2022-06-02T12:29:20.576Z"
   },
   {
    "duration": 253,
    "start_time": "2022-06-02T12:29:28.688Z"
   },
   {
    "duration": 197,
    "start_time": "2022-06-02T12:29:38.812Z"
   },
   {
    "duration": 192,
    "start_time": "2022-06-02T12:29:48.775Z"
   },
   {
    "duration": 211,
    "start_time": "2022-06-02T12:29:57.628Z"
   },
   {
    "duration": 199,
    "start_time": "2022-06-02T12:30:15.238Z"
   },
   {
    "duration": 351,
    "start_time": "2022-06-02T12:31:32.643Z"
   },
   {
    "duration": 275,
    "start_time": "2022-06-02T12:31:50.503Z"
   },
   {
    "duration": 248,
    "start_time": "2022-06-02T12:31:56.292Z"
   },
   {
    "duration": 221,
    "start_time": "2022-06-02T12:32:00.888Z"
   },
   {
    "duration": 195,
    "start_time": "2022-06-02T12:33:54.741Z"
   },
   {
    "duration": 192,
    "start_time": "2022-06-02T12:34:08.188Z"
   },
   {
    "duration": 214,
    "start_time": "2022-06-02T12:34:25.832Z"
   },
   {
    "duration": 216,
    "start_time": "2022-06-02T12:44:08.405Z"
   },
   {
    "duration": 11,
    "start_time": "2022-06-02T12:48:28.813Z"
   },
   {
    "duration": 14,
    "start_time": "2022-06-02T12:50:49.324Z"
   },
   {
    "duration": 13,
    "start_time": "2022-06-02T12:51:10.438Z"
   },
   {
    "duration": 14,
    "start_time": "2022-06-02T12:51:44.682Z"
   },
   {
    "duration": 5,
    "start_time": "2022-06-02T12:54:09.373Z"
   },
   {
    "duration": 5,
    "start_time": "2022-06-02T12:54:31.368Z"
   },
   {
    "duration": 217,
    "start_time": "2022-06-02T12:54:41.637Z"
   },
   {
    "duration": 11,
    "start_time": "2022-06-02T12:55:55.601Z"
   },
   {
    "duration": 11,
    "start_time": "2022-06-02T12:56:31.319Z"
   },
   {
    "duration": 232,
    "start_time": "2022-06-02T12:56:52.553Z"
   },
   {
    "duration": 223,
    "start_time": "2022-06-02T12:57:25.212Z"
   },
   {
    "duration": 322,
    "start_time": "2022-06-02T12:58:10.535Z"
   },
   {
    "duration": 32,
    "start_time": "2022-06-02T12:58:41.774Z"
   },
   {
    "duration": 33,
    "start_time": "2022-06-02T12:59:10.640Z"
   },
   {
    "duration": 28,
    "start_time": "2022-06-02T12:59:27.341Z"
   },
   {
    "duration": 297,
    "start_time": "2022-06-02T12:59:59.612Z"
   },
   {
    "duration": 15,
    "start_time": "2022-06-02T13:00:50.950Z"
   },
   {
    "duration": 223,
    "start_time": "2022-06-02T13:01:44.348Z"
   },
   {
    "duration": 42,
    "start_time": "2022-06-02T13:03:44.692Z"
   },
   {
    "duration": 34,
    "start_time": "2022-06-02T13:04:16.823Z"
   },
   {
    "duration": 235,
    "start_time": "2022-06-02T13:04:41.086Z"
   },
   {
    "duration": 296,
    "start_time": "2022-06-02T13:05:38.473Z"
   },
   {
    "duration": 18,
    "start_time": "2022-06-02T13:06:21.449Z"
   },
   {
    "duration": 22,
    "start_time": "2022-06-02T13:06:34.495Z"
   },
   {
    "duration": 143,
    "start_time": "2022-06-02T13:06:46.864Z"
   },
   {
    "duration": 67,
    "start_time": "2022-06-02T15:54:52.320Z"
   },
   {
    "duration": 1219,
    "start_time": "2022-06-02T15:54:55.200Z"
   },
   {
    "duration": 254,
    "start_time": "2022-06-02T15:54:56.421Z"
   },
   {
    "duration": 6,
    "start_time": "2022-06-02T15:54:56.677Z"
   },
   {
    "duration": 36,
    "start_time": "2022-06-02T15:54:56.685Z"
   },
   {
    "duration": 38,
    "start_time": "2022-06-02T15:54:56.723Z"
   },
   {
    "duration": 29,
    "start_time": "2022-06-02T15:54:57.586Z"
   },
   {
    "duration": 66,
    "start_time": "2022-06-02T15:54:58.092Z"
   },
   {
    "duration": 28,
    "start_time": "2022-06-02T15:54:58.617Z"
   },
   {
    "duration": 33,
    "start_time": "2022-06-02T15:54:59.124Z"
   },
   {
    "duration": 21,
    "start_time": "2022-06-02T15:54:59.886Z"
   },
   {
    "duration": 240,
    "start_time": "2022-06-02T15:55:00.146Z"
   },
   {
    "duration": 15,
    "start_time": "2022-06-02T15:55:01.519Z"
   },
   {
    "duration": 276,
    "start_time": "2022-06-02T15:55:01.985Z"
   },
   {
    "duration": 14,
    "start_time": "2022-06-02T15:56:17.507Z"
   },
   {
    "duration": 180,
    "start_time": "2022-06-02T15:56:20.866Z"
   },
   {
    "duration": 14,
    "start_time": "2022-06-02T15:56:34.311Z"
   },
   {
    "duration": 19,
    "start_time": "2022-06-02T15:56:41.602Z"
   },
   {
    "duration": 1479,
    "start_time": "2022-06-05T07:41:19.311Z"
   },
   {
    "duration": 158,
    "start_time": "2022-06-05T07:41:20.792Z"
   },
   {
    "duration": 4,
    "start_time": "2022-06-05T07:41:21.278Z"
   },
   {
    "duration": 6,
    "start_time": "2022-06-05T07:41:21.583Z"
   },
   {
    "duration": 18,
    "start_time": "2022-06-05T07:41:21.875Z"
   },
   {
    "duration": 28,
    "start_time": "2022-06-05T07:41:23.155Z"
   },
   {
    "duration": 53,
    "start_time": "2022-06-05T07:41:23.688Z"
   },
   {
    "duration": 55,
    "start_time": "2022-06-05T07:41:24.330Z"
   },
   {
    "duration": 40,
    "start_time": "2022-06-05T07:41:24.901Z"
   },
   {
    "duration": 17,
    "start_time": "2022-06-05T07:41:25.926Z"
   },
   {
    "duration": 283,
    "start_time": "2022-06-05T07:41:27.759Z"
   },
   {
    "duration": 114,
    "start_time": "2022-06-05T07:43:13.049Z"
   },
   {
    "duration": 32,
    "start_time": "2022-06-05T07:57:08.001Z"
   },
   {
    "duration": 34,
    "start_time": "2022-06-05T08:01:54.824Z"
   },
   {
    "duration": 120,
    "start_time": "2022-06-05T08:02:18.620Z"
   },
   {
    "duration": 45,
    "start_time": "2022-06-05T08:02:29.146Z"
   },
   {
    "duration": 27,
    "start_time": "2022-06-05T08:03:32.527Z"
   },
   {
    "duration": 186,
    "start_time": "2022-06-05T08:04:17.188Z"
   },
   {
    "duration": 36,
    "start_time": "2022-06-05T08:04:59.244Z"
   },
   {
    "duration": 39,
    "start_time": "2022-06-05T08:17:12.575Z"
   },
   {
    "duration": 28,
    "start_time": "2022-06-05T08:26:49.544Z"
   },
   {
    "duration": 43,
    "start_time": "2022-06-05T08:26:59.543Z"
   },
   {
    "duration": 35,
    "start_time": "2022-06-05T08:27:19.083Z"
   },
   {
    "duration": 55,
    "start_time": "2022-06-05T08:27:24.293Z"
   },
   {
    "duration": 54,
    "start_time": "2022-06-05T08:37:04.221Z"
   },
   {
    "duration": 138,
    "start_time": "2022-06-05T08:38:38.902Z"
   },
   {
    "duration": 37,
    "start_time": "2022-06-05T08:39:00.086Z"
   },
   {
    "duration": 304,
    "start_time": "2022-06-05T08:40:04.131Z"
   },
   {
    "duration": 195,
    "start_time": "2022-06-05T08:40:19.140Z"
   },
   {
    "duration": 55,
    "start_time": "2022-06-05T08:40:52.131Z"
   },
   {
    "duration": 29,
    "start_time": "2022-06-05T08:41:19.361Z"
   },
   {
    "duration": 29,
    "start_time": "2022-06-05T08:41:32.086Z"
   },
   {
    "duration": 30,
    "start_time": "2022-06-05T08:41:49.327Z"
   },
   {
    "duration": 30,
    "start_time": "2022-06-05T08:42:04.891Z"
   },
   {
    "duration": 40,
    "start_time": "2022-06-05T08:42:20.046Z"
   },
   {
    "duration": 33,
    "start_time": "2022-06-05T08:42:31.992Z"
   },
   {
    "duration": 24,
    "start_time": "2022-06-05T08:43:15.486Z"
   },
   {
    "duration": 50,
    "start_time": "2022-06-05T08:43:44.602Z"
   },
   {
    "duration": 44,
    "start_time": "2022-06-05T08:45:35.789Z"
   },
   {
    "duration": 58,
    "start_time": "2022-06-05T08:46:55.004Z"
   },
   {
    "duration": 64,
    "start_time": "2022-06-05T08:47:13.987Z"
   },
   {
    "duration": 59,
    "start_time": "2022-06-05T08:47:37.794Z"
   },
   {
    "duration": 53,
    "start_time": "2022-06-05T08:47:55.104Z"
   },
   {
    "duration": 23,
    "start_time": "2022-06-05T08:51:22.305Z"
   },
   {
    "duration": 54,
    "start_time": "2022-06-05T08:51:33.518Z"
   },
   {
    "duration": 49,
    "start_time": "2022-06-05T08:54:14.752Z"
   },
   {
    "duration": 525,
    "start_time": "2022-06-05T08:54:31.001Z"
   },
   {
    "duration": 47,
    "start_time": "2022-06-05T08:57:46.038Z"
   },
   {
    "duration": 49,
    "start_time": "2022-06-05T08:58:00.893Z"
   },
   {
    "duration": 40,
    "start_time": "2022-06-05T08:58:56.637Z"
   },
   {
    "duration": 69,
    "start_time": "2022-06-05T08:59:56.116Z"
   },
   {
    "duration": 43,
    "start_time": "2022-06-05T09:02:29.722Z"
   },
   {
    "duration": 63,
    "start_time": "2022-06-05T09:05:50.645Z"
   },
   {
    "duration": 71,
    "start_time": "2022-06-05T09:06:18.261Z"
   },
   {
    "duration": 57,
    "start_time": "2022-06-05T09:08:43.142Z"
   },
   {
    "duration": 75,
    "start_time": "2022-06-05T09:12:06.697Z"
   },
   {
    "duration": 89,
    "start_time": "2022-06-05T09:13:23.724Z"
   },
   {
    "duration": 82,
    "start_time": "2022-06-05T09:15:45.197Z"
   },
   {
    "duration": 67,
    "start_time": "2022-06-05T09:16:25.400Z"
   },
   {
    "duration": 53,
    "start_time": "2022-06-05T09:16:57.705Z"
   },
   {
    "duration": 57,
    "start_time": "2022-06-05T09:18:28.687Z"
   },
   {
    "duration": 43,
    "start_time": "2022-06-05T09:18:55.940Z"
   },
   {
    "duration": 70,
    "start_time": "2022-06-05T09:19:31.617Z"
   },
   {
    "duration": 58,
    "start_time": "2022-06-05T09:20:10.499Z"
   },
   {
    "duration": 65,
    "start_time": "2022-06-05T09:21:29.387Z"
   },
   {
    "duration": 137,
    "start_time": "2022-06-05T09:23:12.689Z"
   },
   {
    "duration": 46,
    "start_time": "2022-06-05T09:24:34.136Z"
   },
   {
    "duration": 43,
    "start_time": "2022-06-05T09:24:54.436Z"
   },
   {
    "duration": 41,
    "start_time": "2022-06-05T09:26:46.863Z"
   },
   {
    "duration": 48,
    "start_time": "2022-06-05T09:29:53.440Z"
   },
   {
    "duration": 40,
    "start_time": "2022-06-05T09:34:16.478Z"
   },
   {
    "duration": 63,
    "start_time": "2022-06-05T09:34:51.675Z"
   },
   {
    "duration": 79,
    "start_time": "2022-06-05T09:36:38.188Z"
   },
   {
    "duration": 49,
    "start_time": "2022-06-05T09:37:47.819Z"
   },
   {
    "duration": 38,
    "start_time": "2022-06-05T09:38:19.028Z"
   },
   {
    "duration": 54,
    "start_time": "2022-06-05T09:38:34.201Z"
   },
   {
    "duration": 48,
    "start_time": "2022-06-05T09:38:53.178Z"
   },
   {
    "duration": 62,
    "start_time": "2022-06-05T09:39:22.576Z"
   },
   {
    "duration": 42,
    "start_time": "2022-06-05T09:39:30.942Z"
   },
   {
    "duration": 221,
    "start_time": "2022-06-05T09:40:56.960Z"
   },
   {
    "duration": 10,
    "start_time": "2022-06-05T09:49:08.484Z"
   },
   {
    "duration": 13,
    "start_time": "2022-06-05T09:55:52.730Z"
   },
   {
    "duration": 5,
    "start_time": "2022-06-05T09:56:09.718Z"
   },
   {
    "duration": 8,
    "start_time": "2022-06-05T09:57:08.273Z"
   },
   {
    "duration": 6,
    "start_time": "2022-06-05T09:57:42.805Z"
   },
   {
    "duration": 12,
    "start_time": "2022-06-05T09:58:45.151Z"
   },
   {
    "duration": 43,
    "start_time": "2022-06-05T09:58:53.835Z"
   },
   {
    "duration": 15,
    "start_time": "2022-06-05T09:58:58.379Z"
   },
   {
    "duration": 4,
    "start_time": "2022-06-05T09:59:30.787Z"
   },
   {
    "duration": 145,
    "start_time": "2022-06-05T09:59:33.822Z"
   },
   {
    "duration": 1520,
    "start_time": "2022-06-05T13:05:11.747Z"
   },
   {
    "duration": 184,
    "start_time": "2022-06-05T13:05:13.270Z"
   },
   {
    "duration": 5,
    "start_time": "2022-06-05T13:05:13.456Z"
   },
   {
    "duration": 8,
    "start_time": "2022-06-05T13:05:13.464Z"
   },
   {
    "duration": 35,
    "start_time": "2022-06-05T13:05:13.474Z"
   },
   {
    "duration": 37,
    "start_time": "2022-06-05T13:05:14.573Z"
   },
   {
    "duration": 74,
    "start_time": "2022-06-05T13:05:15.127Z"
   },
   {
    "duration": 40,
    "start_time": "2022-06-05T13:05:15.680Z"
   },
   {
    "duration": 29,
    "start_time": "2022-06-05T13:05:16.214Z"
   },
   {
    "duration": 27,
    "start_time": "2022-06-05T13:05:17.001Z"
   },
   {
    "duration": 304,
    "start_time": "2022-06-05T13:05:17.280Z"
   },
   {
    "duration": 178,
    "start_time": "2022-06-05T13:05:18.025Z"
   },
   {
    "duration": 211,
    "start_time": "2022-06-05T13:05:19.052Z"
   },
   {
    "duration": 193,
    "start_time": "2022-06-05T13:05:22.491Z"
   },
   {
    "duration": 28,
    "start_time": "2022-06-05T13:13:31.086Z"
   },
   {
    "duration": 43,
    "start_time": "2022-06-05T13:15:00.874Z"
   },
   {
    "duration": 1812,
    "start_time": "2022-06-05T13:18:11.705Z"
   },
   {
    "duration": 1681,
    "start_time": "2022-06-05T13:18:36.109Z"
   },
   {
    "duration": 1679,
    "start_time": "2022-06-05T13:19:26.471Z"
   },
   {
    "duration": 1837,
    "start_time": "2022-06-05T13:19:39.293Z"
   },
   {
    "duration": 1826,
    "start_time": "2022-06-05T13:19:47.524Z"
   },
   {
    "duration": 1779,
    "start_time": "2022-06-05T13:20:00.212Z"
   },
   {
    "duration": 1693,
    "start_time": "2022-06-05T13:20:52.097Z"
   },
   {
    "duration": 1777,
    "start_time": "2022-06-05T13:22:47.819Z"
   },
   {
    "duration": 1936,
    "start_time": "2022-06-05T13:22:57.335Z"
   },
   {
    "duration": 1744,
    "start_time": "2022-06-05T13:23:53.600Z"
   },
   {
    "duration": 1803,
    "start_time": "2022-06-05T13:24:35.920Z"
   },
   {
    "duration": 156,
    "start_time": "2022-06-05T13:25:50.790Z"
   },
   {
    "duration": 39,
    "start_time": "2022-06-05T13:26:02.055Z"
   },
   {
    "duration": 34,
    "start_time": "2022-06-05T13:26:15.671Z"
   },
   {
    "duration": 29,
    "start_time": "2022-06-05T13:26:45.454Z"
   },
   {
    "duration": 30,
    "start_time": "2022-06-05T13:27:05.676Z"
   },
   {
    "duration": 29,
    "start_time": "2022-06-05T13:27:17.676Z"
   },
   {
    "duration": 39,
    "start_time": "2022-06-05T13:28:59.583Z"
   },
   {
    "duration": 29,
    "start_time": "2022-06-05T13:29:17.683Z"
   },
   {
    "duration": 1725,
    "start_time": "2022-06-05T13:30:07.115Z"
   },
   {
    "duration": 29,
    "start_time": "2022-06-05T13:32:07.244Z"
   },
   {
    "duration": 26,
    "start_time": "2022-06-05T13:32:39.633Z"
   },
   {
    "duration": 3690,
    "start_time": "2022-06-05T13:32:54.972Z"
   },
   {
    "duration": 3849,
    "start_time": "2022-06-05T13:33:10.801Z"
   },
   {
    "duration": 3880,
    "start_time": "2022-06-05T13:33:37.110Z"
   },
   {
    "duration": 31,
    "start_time": "2022-06-05T13:34:21.591Z"
   },
   {
    "duration": 12,
    "start_time": "2022-06-05T13:35:09.035Z"
   },
   {
    "duration": 18,
    "start_time": "2022-06-05T13:35:32.574Z"
   },
   {
    "duration": 51,
    "start_time": "2022-06-05T13:37:02.123Z"
   },
   {
    "duration": 51,
    "start_time": "2022-06-05T13:39:03.173Z"
   },
   {
    "duration": 29,
    "start_time": "2022-06-05T13:39:56.232Z"
   },
   {
    "duration": 1228,
    "start_time": "2022-06-05T13:40:19.209Z"
   },
   {
    "duration": 502,
    "start_time": "2022-06-05T13:41:32.471Z"
   },
   {
    "duration": 24,
    "start_time": "2022-06-05T13:41:46.056Z"
   },
   {
    "duration": 35,
    "start_time": "2022-06-05T13:41:58.372Z"
   },
   {
    "duration": 31,
    "start_time": "2022-06-05T13:42:29.353Z"
   },
   {
    "duration": 22,
    "start_time": "2022-06-05T13:42:45.160Z"
   },
   {
    "duration": 217,
    "start_time": "2022-06-05T13:42:58.726Z"
   },
   {
    "duration": 37,
    "start_time": "2022-06-05T13:45:40.372Z"
   },
   {
    "duration": 31,
    "start_time": "2022-06-05T13:49:22.186Z"
   },
   {
    "duration": 1564,
    "start_time": "2022-06-05T13:49:55.071Z"
   },
   {
    "duration": 899,
    "start_time": "2022-06-05T13:53:26.403Z"
   },
   {
    "duration": 1298,
    "start_time": "2022-06-05T13:57:09.442Z"
   },
   {
    "duration": 1289,
    "start_time": "2022-06-05T13:57:37.686Z"
   },
   {
    "duration": 886,
    "start_time": "2022-06-05T13:57:49.546Z"
   },
   {
    "duration": 959,
    "start_time": "2022-06-05T13:58:06.575Z"
   },
   {
    "duration": 1089,
    "start_time": "2022-06-05T13:58:17.149Z"
   },
   {
    "duration": 966,
    "start_time": "2022-06-05T14:00:03.520Z"
   },
   {
    "duration": 917,
    "start_time": "2022-06-05T14:03:19.408Z"
   },
   {
    "duration": 931,
    "start_time": "2022-06-05T14:03:27.516Z"
   },
   {
    "duration": 1090,
    "start_time": "2022-06-05T14:03:34.873Z"
   },
   {
    "duration": 945,
    "start_time": "2022-06-05T14:03:42.473Z"
   },
   {
    "duration": 935,
    "start_time": "2022-06-05T14:03:57.313Z"
   },
   {
    "duration": 873,
    "start_time": "2022-06-05T14:04:25.302Z"
   },
   {
    "duration": 1154,
    "start_time": "2022-06-05T14:04:33.011Z"
   },
   {
    "duration": 65,
    "start_time": "2022-06-05T14:06:18.305Z"
   },
   {
    "duration": 794,
    "start_time": "2022-06-05T14:06:26.102Z"
   },
   {
    "duration": 830,
    "start_time": "2022-06-05T14:13:49.301Z"
   },
   {
    "duration": 994,
    "start_time": "2022-06-05T14:14:24.839Z"
   },
   {
    "duration": 937,
    "start_time": "2022-06-05T14:54:28.450Z"
   },
   {
    "duration": 870,
    "start_time": "2022-06-05T14:58:17.328Z"
   },
   {
    "duration": 952,
    "start_time": "2022-06-05T14:59:23.953Z"
   },
   {
    "duration": 1002,
    "start_time": "2022-06-05T14:59:35.064Z"
   },
   {
    "duration": 873,
    "start_time": "2022-06-05T14:59:46.411Z"
   },
   {
    "duration": 895,
    "start_time": "2022-06-05T15:00:04.609Z"
   },
   {
    "duration": 873,
    "start_time": "2022-06-05T15:00:21.805Z"
   },
   {
    "duration": 962,
    "start_time": "2022-06-05T15:03:35.738Z"
   },
   {
    "duration": 857,
    "start_time": "2022-06-05T15:03:44.776Z"
   },
   {
    "duration": 814,
    "start_time": "2022-06-05T15:05:15.541Z"
   },
   {
    "duration": 956,
    "start_time": "2022-06-05T15:05:37.224Z"
   },
   {
    "duration": 835,
    "start_time": "2022-06-05T15:05:53.951Z"
   },
   {
    "duration": 896,
    "start_time": "2022-06-05T15:06:07.165Z"
   },
   {
    "duration": 872,
    "start_time": "2022-06-05T15:06:27.113Z"
   },
   {
    "duration": 958,
    "start_time": "2022-06-05T15:06:54.113Z"
   },
   {
    "duration": 1008,
    "start_time": "2022-06-05T15:07:00.655Z"
   },
   {
    "duration": 916,
    "start_time": "2022-06-05T15:07:10.225Z"
   },
   {
    "duration": 762,
    "start_time": "2022-06-05T15:09:31.033Z"
   },
   {
    "duration": 902,
    "start_time": "2022-06-05T15:11:11.905Z"
   },
   {
    "duration": 7,
    "start_time": "2022-06-05T15:14:32.302Z"
   },
   {
    "duration": 762,
    "start_time": "2022-06-05T15:14:36.303Z"
   },
   {
    "duration": 733,
    "start_time": "2022-06-05T15:18:02.868Z"
   },
   {
    "duration": 899,
    "start_time": "2022-06-05T15:18:16.323Z"
   },
   {
    "duration": 675,
    "start_time": "2022-06-05T15:18:40.907Z"
   },
   {
    "duration": 643,
    "start_time": "2022-06-05T15:18:49.507Z"
   },
   {
    "duration": 749,
    "start_time": "2022-06-05T15:19:03.051Z"
   },
   {
    "duration": 895,
    "start_time": "2022-06-05T15:24:06.908Z"
   },
   {
    "duration": 748,
    "start_time": "2022-06-05T15:24:49.384Z"
   },
   {
    "duration": 782,
    "start_time": "2022-06-05T15:25:54.578Z"
   },
   {
    "duration": 981,
    "start_time": "2022-06-05T15:38:37.735Z"
   },
   {
    "duration": 874,
    "start_time": "2022-06-05T15:38:52.898Z"
   },
   {
    "duration": 786,
    "start_time": "2022-06-05T15:39:11.702Z"
   },
   {
    "duration": 774,
    "start_time": "2022-06-05T15:39:30.023Z"
   },
   {
    "duration": 852,
    "start_time": "2022-06-05T15:40:43.575Z"
   },
   {
    "duration": 848,
    "start_time": "2022-06-05T15:40:57.984Z"
   },
   {
    "duration": 820,
    "start_time": "2022-06-05T15:42:44.774Z"
   },
   {
    "duration": 810,
    "start_time": "2022-06-05T15:43:19.889Z"
   },
   {
    "duration": 930,
    "start_time": "2022-06-05T15:43:41.531Z"
   },
   {
    "duration": 752,
    "start_time": "2022-06-05T15:43:50.573Z"
   },
   {
    "duration": 754,
    "start_time": "2022-06-05T15:47:19.816Z"
   },
   {
    "duration": 799,
    "start_time": "2022-06-05T15:49:25.585Z"
   },
   {
    "duration": 1060,
    "start_time": "2022-06-05T15:49:44.081Z"
   },
   {
    "duration": 813,
    "start_time": "2022-06-05T15:49:56.077Z"
   },
   {
    "duration": 797,
    "start_time": "2022-06-05T15:50:55.248Z"
   },
   {
    "duration": 932,
    "start_time": "2022-06-05T15:51:36.882Z"
   },
   {
    "duration": 794,
    "start_time": "2022-06-05T15:52:00.024Z"
   },
   {
    "duration": 819,
    "start_time": "2022-06-05T16:02:46.979Z"
   },
   {
    "duration": 811,
    "start_time": "2022-06-05T16:03:08.806Z"
   },
   {
    "duration": 977,
    "start_time": "2022-06-05T16:03:33.933Z"
   },
   {
    "duration": 792,
    "start_time": "2022-06-05T16:03:46.921Z"
   },
   {
    "duration": 864,
    "start_time": "2022-06-05T16:04:28.880Z"
   },
   {
    "duration": 850,
    "start_time": "2022-06-05T16:05:02.550Z"
   },
   {
    "duration": 942,
    "start_time": "2022-06-05T16:05:23.681Z"
   },
   {
    "duration": 796,
    "start_time": "2022-06-05T16:05:51.780Z"
   },
   {
    "duration": 826,
    "start_time": "2022-06-05T16:06:14.787Z"
   },
   {
    "duration": 1017,
    "start_time": "2022-06-05T16:06:39.746Z"
   },
   {
    "duration": 870,
    "start_time": "2022-06-05T16:07:56.780Z"
   },
   {
    "duration": 1129,
    "start_time": "2022-06-05T16:08:43.523Z"
   },
   {
    "duration": 790,
    "start_time": "2022-06-05T16:09:40.016Z"
   },
   {
    "duration": 901,
    "start_time": "2022-06-05T16:23:30.234Z"
   },
   {
    "duration": 800,
    "start_time": "2022-06-05T16:24:27.177Z"
   },
   {
    "duration": 173,
    "start_time": "2022-06-05T16:36:45.174Z"
   },
   {
    "duration": 203,
    "start_time": "2022-06-05T16:37:17.412Z"
   },
   {
    "duration": 84,
    "start_time": "2022-06-05T16:37:37.647Z"
   },
   {
    "duration": 100,
    "start_time": "2022-06-05T16:37:49.715Z"
   },
   {
    "duration": 27,
    "start_time": "2022-06-05T16:38:10.911Z"
   },
   {
    "duration": 94,
    "start_time": "2022-06-05T16:38:31.515Z"
   },
   {
    "duration": 91,
    "start_time": "2022-06-05T16:38:55.458Z"
   },
   {
    "duration": 29,
    "start_time": "2022-06-05T16:39:08.061Z"
   },
   {
    "duration": 80,
    "start_time": "2022-06-05T16:39:40.149Z"
   },
   {
    "duration": 21,
    "start_time": "2022-06-05T16:43:04.036Z"
   },
   {
    "duration": 40,
    "start_time": "2022-06-05T16:43:24.106Z"
   },
   {
    "duration": 40,
    "start_time": "2022-06-05T16:44:13.435Z"
   },
   {
    "duration": 41,
    "start_time": "2022-06-05T16:44:20.330Z"
   },
   {
    "duration": 793,
    "start_time": "2022-06-05T16:48:10.313Z"
   },
   {
    "duration": 715,
    "start_time": "2022-06-05T16:48:42.357Z"
   },
   {
    "duration": 947,
    "start_time": "2022-06-05T16:49:25.381Z"
   },
   {
    "duration": 793,
    "start_time": "2022-06-05T16:49:34.449Z"
   },
   {
    "duration": 20,
    "start_time": "2022-06-05T16:49:40.662Z"
   },
   {
    "duration": 818,
    "start_time": "2022-06-05T16:49:44.712Z"
   },
   {
    "duration": 1030,
    "start_time": "2022-06-05T16:55:05.268Z"
   },
   {
    "duration": 815,
    "start_time": "2022-06-05T16:57:34.881Z"
   },
   {
    "duration": 855,
    "start_time": "2022-06-05T16:57:58.465Z"
   },
   {
    "duration": 819,
    "start_time": "2022-06-05T16:58:41.373Z"
   },
   {
    "duration": 944,
    "start_time": "2022-06-05T17:00:46.792Z"
   },
   {
    "duration": 21,
    "start_time": "2022-06-05T17:02:28.217Z"
   },
   {
    "duration": 19,
    "start_time": "2022-06-05T17:04:46.774Z"
   },
   {
    "duration": 50,
    "start_time": "2022-06-05T17:05:15.483Z"
   },
   {
    "duration": 502,
    "start_time": "2022-06-05T17:05:29.810Z"
   },
   {
    "duration": 531,
    "start_time": "2022-06-05T17:05:40.942Z"
   },
   {
    "duration": 631,
    "start_time": "2022-06-05T17:05:53.606Z"
   },
   {
    "duration": 666,
    "start_time": "2022-06-05T17:06:28.556Z"
   },
   {
    "duration": 600,
    "start_time": "2022-06-05T17:06:48.942Z"
   },
   {
    "duration": 581,
    "start_time": "2022-06-05T17:06:57.213Z"
   },
   {
    "duration": 451,
    "start_time": "2022-06-05T17:07:07.332Z"
   },
   {
    "duration": 636,
    "start_time": "2022-06-05T17:09:47.597Z"
   },
   {
    "duration": 773,
    "start_time": "2022-06-05T17:10:47.912Z"
   },
   {
    "duration": 494,
    "start_time": "2022-06-05T17:11:10.684Z"
   },
   {
    "duration": 536,
    "start_time": "2022-06-05T17:15:35.678Z"
   },
   {
    "duration": 4,
    "start_time": "2022-06-05T18:47:37.659Z"
   },
   {
    "duration": 177,
    "start_time": "2022-06-05T18:47:38.501Z"
   },
   {
    "duration": 6,
    "start_time": "2022-06-05T18:47:39.058Z"
   },
   {
    "duration": 6,
    "start_time": "2022-06-05T18:47:39.341Z"
   },
   {
    "duration": 16,
    "start_time": "2022-06-05T18:47:39.638Z"
   },
   {
    "duration": 38,
    "start_time": "2022-06-05T18:47:40.676Z"
   },
   {
    "duration": 78,
    "start_time": "2022-06-05T18:47:41.178Z"
   },
   {
    "duration": 34,
    "start_time": "2022-06-05T18:47:41.708Z"
   },
   {
    "duration": 30,
    "start_time": "2022-06-05T18:47:42.208Z"
   },
   {
    "duration": 18,
    "start_time": "2022-06-05T18:47:42.474Z"
   },
   {
    "duration": 18,
    "start_time": "2022-06-05T18:47:43.355Z"
   },
   {
    "duration": 322,
    "start_time": "2022-06-05T18:47:43.652Z"
   },
   {
    "duration": 62,
    "start_time": "2022-06-05T18:47:44.625Z"
   },
   {
    "duration": 200,
    "start_time": "2022-06-05T18:47:44.910Z"
   },
   {
    "duration": 13,
    "start_time": "2022-06-05T18:47:45.673Z"
   },
   {
    "duration": 24,
    "start_time": "2022-06-05T18:47:47.047Z"
   },
   {
    "duration": 1566,
    "start_time": "2022-06-05T18:47:47.683Z"
   },
   {
    "duration": 1019,
    "start_time": "2022-06-05T18:47:49.253Z"
   },
   {
    "duration": 53,
    "start_time": "2022-06-05T18:47:51.774Z"
   },
   {
    "duration": 569,
    "start_time": "2022-06-05T18:48:05.475Z"
   },
   {
    "duration": 604,
    "start_time": "2022-06-05T18:48:37.605Z"
   },
   {
    "duration": 454,
    "start_time": "2022-06-05T18:50:56.523Z"
   },
   {
    "duration": 604,
    "start_time": "2022-06-05T18:51:18.475Z"
   },
   {
    "duration": 495,
    "start_time": "2022-06-05T18:51:40.752Z"
   },
   {
    "duration": 520,
    "start_time": "2022-06-05T18:51:49.916Z"
   },
   {
    "duration": 531,
    "start_time": "2022-06-05T18:52:03.990Z"
   },
   {
    "duration": 513,
    "start_time": "2022-06-05T18:52:14.423Z"
   },
   {
    "duration": 62,
    "start_time": "2022-06-05T18:59:40.066Z"
   },
   {
    "duration": 708,
    "start_time": "2022-06-05T19:00:06.445Z"
   },
   {
    "duration": 644,
    "start_time": "2022-06-05T19:02:42.210Z"
   },
   {
    "duration": 40,
    "start_time": "2022-06-05T19:03:10.820Z"
   },
   {
    "duration": 769,
    "start_time": "2022-06-05T19:03:32.451Z"
   },
   {
    "duration": 821,
    "start_time": "2022-06-05T19:04:16.684Z"
   },
   {
    "duration": 73,
    "start_time": "2022-06-05T19:04:26.957Z"
   },
   {
    "duration": 721,
    "start_time": "2022-06-05T19:04:30.946Z"
   },
   {
    "duration": 553,
    "start_time": "2022-06-05T19:04:45.385Z"
   },
   {
    "duration": 789,
    "start_time": "2022-06-05T19:05:23.107Z"
   },
   {
    "duration": 12,
    "start_time": "2022-06-05T19:06:32.485Z"
   },
   {
    "duration": 16,
    "start_time": "2022-06-05T19:07:21.449Z"
   },
   {
    "duration": 823,
    "start_time": "2022-06-05T19:08:28.816Z"
   },
   {
    "duration": 739,
    "start_time": "2022-06-05T19:08:44.210Z"
   },
   {
    "duration": 736,
    "start_time": "2022-06-05T19:09:33.820Z"
   },
   {
    "duration": 839,
    "start_time": "2022-06-05T19:09:49.127Z"
   },
   {
    "duration": 748,
    "start_time": "2022-06-05T19:10:04.433Z"
   },
   {
    "duration": 833,
    "start_time": "2022-06-05T19:10:21.254Z"
   },
   {
    "duration": 735,
    "start_time": "2022-06-05T19:11:00.183Z"
   },
   {
    "duration": 744,
    "start_time": "2022-06-05T19:11:15.521Z"
   },
   {
    "duration": 767,
    "start_time": "2022-06-05T19:12:06.994Z"
   },
   {
    "duration": 563,
    "start_time": "2022-06-05T19:16:45.277Z"
   },
   {
    "duration": 53960,
    "start_time": "2022-06-05T19:16:56.285Z"
   },
   {
    "duration": 40,
    "start_time": "2022-06-05T19:18:35.917Z"
   },
   {
    "duration": 769,
    "start_time": "2022-06-05T19:18:49.019Z"
   },
   {
    "duration": 933,
    "start_time": "2022-06-05T19:22:05.697Z"
   },
   {
    "duration": 1407,
    "start_time": "2022-06-05T19:22:50.473Z"
   },
   {
    "duration": 60,
    "start_time": "2022-06-05T19:40:32.917Z"
   },
   {
    "duration": 126,
    "start_time": "2022-06-05T19:45:03.061Z"
   },
   {
    "duration": 144,
    "start_time": "2022-06-05T19:45:17.666Z"
   },
   {
    "duration": 143,
    "start_time": "2022-06-05T19:47:25.275Z"
   },
   {
    "duration": 124,
    "start_time": "2022-06-05T19:47:48.176Z"
   },
   {
    "duration": 14,
    "start_time": "2022-06-05T19:48:14.749Z"
   },
   {
    "duration": 92,
    "start_time": "2022-06-05T19:51:50.122Z"
   },
   {
    "duration": 16,
    "start_time": "2022-06-05T19:51:55.589Z"
   },
   {
    "duration": 4,
    "start_time": "2022-06-05T19:52:06.651Z"
   },
   {
    "duration": 99,
    "start_time": "2022-06-05T19:52:07.064Z"
   },
   {
    "duration": 5,
    "start_time": "2022-06-05T19:52:07.633Z"
   },
   {
    "duration": 21,
    "start_time": "2022-06-05T19:52:07.890Z"
   },
   {
    "duration": 33,
    "start_time": "2022-06-05T19:52:08.175Z"
   },
   {
    "duration": 38,
    "start_time": "2022-06-05T19:52:09.279Z"
   },
   {
    "duration": 72,
    "start_time": "2022-06-05T19:52:09.856Z"
   },
   {
    "duration": 39,
    "start_time": "2022-06-05T19:52:10.475Z"
   },
   {
    "duration": 40,
    "start_time": "2022-06-05T19:52:11.081Z"
   },
   {
    "duration": 19,
    "start_time": "2022-06-05T19:52:11.384Z"
   },
   {
    "duration": 25,
    "start_time": "2022-06-05T19:52:12.267Z"
   },
   {
    "duration": 299,
    "start_time": "2022-06-05T19:52:12.563Z"
   },
   {
    "duration": 50,
    "start_time": "2022-06-05T19:52:13.181Z"
   },
   {
    "duration": 173,
    "start_time": "2022-06-05T19:52:13.508Z"
   },
   {
    "duration": 12,
    "start_time": "2022-06-05T19:52:13.819Z"
   },
   {
    "duration": 21,
    "start_time": "2022-06-05T19:52:14.551Z"
   },
   {
    "duration": 1261,
    "start_time": "2022-06-05T19:52:14.898Z"
   },
   {
    "duration": 797,
    "start_time": "2022-06-05T19:52:16.161Z"
   },
   {
    "duration": 1381,
    "start_time": "2022-06-05T19:52:16.960Z"
   },
   {
    "duration": 140,
    "start_time": "2022-06-05T19:52:18.511Z"
   },
   {
    "duration": 12,
    "start_time": "2022-06-05T19:52:22.847Z"
   },
   {
    "duration": 45,
    "start_time": "2022-06-05T19:54:26.865Z"
   },
   {
    "duration": 20,
    "start_time": "2022-06-05T19:54:38.414Z"
   },
   {
    "duration": 18,
    "start_time": "2022-06-05T19:54:58.439Z"
   },
   {
    "duration": 16,
    "start_time": "2022-06-05T19:55:17.510Z"
   },
   {
    "duration": 18,
    "start_time": "2022-06-05T19:56:18.543Z"
   },
   {
    "duration": 22,
    "start_time": "2022-06-05T19:56:46.684Z"
   },
   {
    "duration": 4,
    "start_time": "2022-06-05T20:00:25.254Z"
   },
   {
    "duration": 102,
    "start_time": "2022-06-05T20:00:25.620Z"
   },
   {
    "duration": 5,
    "start_time": "2022-06-05T20:00:26.172Z"
   },
   {
    "duration": 7,
    "start_time": "2022-06-05T20:00:26.468Z"
   },
   {
    "duration": 17,
    "start_time": "2022-06-05T20:00:26.736Z"
   },
   {
    "duration": 26,
    "start_time": "2022-06-05T20:00:27.732Z"
   },
   {
    "duration": 96,
    "start_time": "2022-06-05T20:00:28.218Z"
   },
   {
    "duration": 36,
    "start_time": "2022-06-05T20:00:28.746Z"
   },
   {
    "duration": 36,
    "start_time": "2022-06-05T20:00:29.234Z"
   },
   {
    "duration": 20,
    "start_time": "2022-06-05T20:00:29.500Z"
   },
   {
    "duration": 19,
    "start_time": "2022-06-05T20:00:30.403Z"
   },
   {
    "duration": 295,
    "start_time": "2022-06-05T20:00:30.679Z"
   },
   {
    "duration": 46,
    "start_time": "2022-06-05T20:00:31.236Z"
   },
   {
    "duration": 223,
    "start_time": "2022-06-05T20:00:31.926Z"
   },
   {
    "duration": 18,
    "start_time": "2022-06-05T20:00:32.534Z"
   },
   {
    "duration": 20,
    "start_time": "2022-06-05T20:00:33.710Z"
   },
   {
    "duration": 1254,
    "start_time": "2022-06-05T20:00:34.034Z"
   },
   {
    "duration": 800,
    "start_time": "2022-06-05T20:00:35.299Z"
   },
   {
    "duration": 1471,
    "start_time": "2022-06-05T20:00:36.587Z"
   },
   {
    "duration": 101,
    "start_time": "2022-06-05T20:00:44.579Z"
   },
   {
    "duration": 23,
    "start_time": "2022-06-05T20:00:49.244Z"
   },
   {
    "duration": 82,
    "start_time": "2022-06-05T20:01:15.845Z"
   },
   {
    "duration": 71,
    "start_time": "2022-06-05T20:02:16.444Z"
   },
   {
    "duration": 36,
    "start_time": "2022-06-05T20:02:31.875Z"
   },
   {
    "duration": 24,
    "start_time": "2022-06-05T20:02:56.349Z"
   },
   {
    "duration": 25,
    "start_time": "2022-06-05T20:03:01.456Z"
   },
   {
    "duration": 27,
    "start_time": "2022-06-05T20:03:14.780Z"
   },
   {
    "duration": 25,
    "start_time": "2022-06-05T20:03:20.157Z"
   },
   {
    "duration": 24,
    "start_time": "2022-06-05T20:03:24.816Z"
   },
   {
    "duration": 69,
    "start_time": "2022-06-05T20:05:35.311Z"
   },
   {
    "duration": 17,
    "start_time": "2022-06-05T20:07:31.325Z"
   },
   {
    "duration": 20,
    "start_time": "2022-06-05T20:07:41.281Z"
   },
   {
    "duration": 19,
    "start_time": "2022-06-05T20:07:47.320Z"
   },
   {
    "duration": 22,
    "start_time": "2022-06-05T20:08:55.778Z"
   },
   {
    "duration": 25,
    "start_time": "2022-06-05T20:09:25.311Z"
   },
   {
    "duration": 39,
    "start_time": "2022-06-05T20:17:03.715Z"
   },
   {
    "duration": 264,
    "start_time": "2022-06-05T20:17:33.710Z"
   },
   {
    "duration": 301,
    "start_time": "2022-06-05T20:17:57.952Z"
   },
   {
    "duration": 319,
    "start_time": "2022-06-05T20:18:17.825Z"
   },
   {
    "duration": 226,
    "start_time": "2022-06-05T20:18:39.731Z"
   },
   {
    "duration": 49,
    "start_time": "2022-06-05T20:19:12.157Z"
   },
   {
    "duration": 344,
    "start_time": "2022-06-05T20:19:18.869Z"
   },
   {
    "duration": 322,
    "start_time": "2022-06-05T20:19:31.152Z"
   },
   {
    "duration": 399,
    "start_time": "2022-06-05T20:21:07.842Z"
   },
   {
    "duration": 341,
    "start_time": "2022-06-05T20:21:29.146Z"
   },
   {
    "duration": 342,
    "start_time": "2022-06-05T20:27:33.610Z"
   },
   {
    "duration": 347,
    "start_time": "2022-06-05T20:27:55.516Z"
   },
   {
    "duration": 327,
    "start_time": "2022-06-05T20:28:15.511Z"
   },
   {
    "duration": 334,
    "start_time": "2022-06-05T20:31:37.003Z"
   },
   {
    "duration": 330,
    "start_time": "2022-06-05T20:32:16.658Z"
   },
   {
    "duration": 346,
    "start_time": "2022-06-05T20:32:36.223Z"
   },
   {
    "duration": 374,
    "start_time": "2022-06-05T20:33:01.183Z"
   },
   {
    "duration": 321,
    "start_time": "2022-06-05T20:33:27.653Z"
   },
   {
    "duration": 344,
    "start_time": "2022-06-05T20:34:42.954Z"
   },
   {
    "duration": 336,
    "start_time": "2022-06-05T20:34:54.225Z"
   },
   {
    "duration": 336,
    "start_time": "2022-06-05T20:36:37.147Z"
   },
   {
    "duration": 46,
    "start_time": "2022-06-05T20:39:43.157Z"
   },
   {
    "duration": 266,
    "start_time": "2022-06-05T20:40:08.384Z"
   },
   {
    "duration": 36,
    "start_time": "2022-06-05T20:40:49.898Z"
   },
   {
    "duration": 251,
    "start_time": "2022-06-05T20:40:57.820Z"
   },
   {
    "duration": 39,
    "start_time": "2022-06-05T20:41:32.729Z"
   },
   {
    "duration": 44,
    "start_time": "2022-06-05T20:47:36.533Z"
   },
   {
    "duration": 306,
    "start_time": "2022-06-05T20:48:48.624Z"
   },
   {
    "duration": 214,
    "start_time": "2022-06-05T20:50:50.550Z"
   },
   {
    "duration": 306,
    "start_time": "2022-06-05T20:52:32.844Z"
   },
   {
    "duration": 335,
    "start_time": "2022-06-05T20:52:53.391Z"
   },
   {
    "duration": 322,
    "start_time": "2022-06-05T20:53:02.589Z"
   },
   {
    "duration": 420,
    "start_time": "2022-06-05T21:19:49.843Z"
   },
   {
    "duration": 310,
    "start_time": "2022-06-05T21:23:13.705Z"
   },
   {
    "duration": 316,
    "start_time": "2022-06-05T21:23:32.209Z"
   },
   {
    "duration": 313,
    "start_time": "2022-06-05T21:25:03.266Z"
   },
   {
    "duration": 1184,
    "start_time": "2022-06-05T21:26:18.883Z"
   },
   {
    "duration": 1122,
    "start_time": "2022-06-05T21:27:07.137Z"
   },
   {
    "duration": 11,
    "start_time": "2022-06-05T21:28:51.404Z"
   },
   {
    "duration": 1145,
    "start_time": "2022-06-05T21:29:35.372Z"
   },
   {
    "duration": 13,
    "start_time": "2022-06-05T21:29:40.374Z"
   },
   {
    "duration": 315,
    "start_time": "2022-06-05T21:31:28.668Z"
   },
   {
    "duration": 7,
    "start_time": "2022-06-05T21:31:59.867Z"
   },
   {
    "duration": 27,
    "start_time": "2022-06-05T21:32:39.508Z"
   },
   {
    "duration": 14,
    "start_time": "2022-06-05T21:32:44.146Z"
   },
   {
    "duration": 29,
    "start_time": "2022-06-05T21:33:10.671Z"
   },
   {
    "duration": 22,
    "start_time": "2022-06-05T21:34:28.578Z"
   },
   {
    "duration": 21,
    "start_time": "2022-06-05T21:34:38.923Z"
   },
   {
    "duration": 19,
    "start_time": "2022-06-05T21:35:15.931Z"
   },
   {
    "duration": 20,
    "start_time": "2022-06-05T21:40:58.958Z"
   },
   {
    "duration": 18,
    "start_time": "2022-06-05T21:41:30.771Z"
   },
   {
    "duration": 18,
    "start_time": "2022-06-05T21:41:36.429Z"
   },
   {
    "duration": 21,
    "start_time": "2022-06-05T21:41:47.731Z"
   },
   {
    "duration": 29,
    "start_time": "2022-06-05T21:43:24.884Z"
   },
   {
    "duration": 25,
    "start_time": "2022-06-05T21:43:49.989Z"
   },
   {
    "duration": 25,
    "start_time": "2022-06-05T21:44:06.690Z"
   },
   {
    "duration": 24,
    "start_time": "2022-06-05T21:44:52.874Z"
   },
   {
    "duration": 23,
    "start_time": "2022-06-05T21:45:12.454Z"
   },
   {
    "duration": 28,
    "start_time": "2022-06-05T21:46:04.032Z"
   },
   {
    "duration": 17,
    "start_time": "2022-06-05T21:46:54.598Z"
   },
   {
    "duration": 12,
    "start_time": "2022-06-05T21:47:37.260Z"
   },
   {
    "duration": 22,
    "start_time": "2022-06-05T21:48:58.171Z"
   },
   {
    "duration": 24,
    "start_time": "2022-06-05T21:49:36.395Z"
   },
   {
    "duration": 18,
    "start_time": "2022-06-05T21:50:03.514Z"
   },
   {
    "duration": 14,
    "start_time": "2022-06-05T21:51:21.500Z"
   },
   {
    "duration": 2,
    "start_time": "2022-06-05T21:51:44.688Z"
   },
   {
    "duration": 28,
    "start_time": "2022-06-05T22:03:59.271Z"
   },
   {
    "duration": 1466,
    "start_time": "2022-06-06T07:06:33.917Z"
   },
   {
    "duration": 275,
    "start_time": "2022-06-06T07:06:35.389Z"
   },
   {
    "duration": 6,
    "start_time": "2022-06-06T07:06:35.665Z"
   },
   {
    "duration": 17,
    "start_time": "2022-06-06T07:06:35.673Z"
   },
   {
    "duration": 16,
    "start_time": "2022-06-06T07:06:35.923Z"
   },
   {
    "duration": 23,
    "start_time": "2022-06-06T07:06:37.449Z"
   },
   {
    "duration": 53,
    "start_time": "2022-06-06T07:06:38.225Z"
   },
   {
    "duration": 30,
    "start_time": "2022-06-06T07:06:38.977Z"
   },
   {
    "duration": 39,
    "start_time": "2022-06-06T07:06:39.802Z"
   },
   {
    "duration": 16,
    "start_time": "2022-06-06T07:06:41.034Z"
   },
   {
    "duration": 250,
    "start_time": "2022-06-06T07:06:41.459Z"
   },
   {
    "duration": 651,
    "start_time": "2022-06-06T08:18:56.692Z"
   },
   {
    "duration": 303,
    "start_time": "2022-06-06T08:19:20.140Z"
   },
   {
    "duration": 361,
    "start_time": "2022-06-06T08:28:36.107Z"
   },
   {
    "duration": 144,
    "start_time": "2022-06-06T08:38:17.472Z"
   },
   {
    "duration": 197,
    "start_time": "2022-06-06T08:39:15.837Z"
   },
   {
    "duration": 20,
    "start_time": "2022-06-06T09:11:40.368Z"
   },
   {
    "duration": 3,
    "start_time": "2022-06-06T09:11:45.080Z"
   },
   {
    "duration": 112,
    "start_time": "2022-06-06T09:11:45.386Z"
   },
   {
    "duration": 12,
    "start_time": "2022-06-06T09:11:45.950Z"
   },
   {
    "duration": 6,
    "start_time": "2022-06-06T09:11:46.218Z"
   },
   {
    "duration": 19,
    "start_time": "2022-06-06T09:11:46.481Z"
   },
   {
    "duration": 24,
    "start_time": "2022-06-06T09:11:47.481Z"
   },
   {
    "duration": 58,
    "start_time": "2022-06-06T09:11:47.978Z"
   },
   {
    "duration": 43,
    "start_time": "2022-06-06T09:11:48.498Z"
   },
   {
    "duration": 24,
    "start_time": "2022-06-06T09:11:49.024Z"
   },
   {
    "duration": 23,
    "start_time": "2022-06-06T09:11:50.140Z"
   },
   {
    "duration": 258,
    "start_time": "2022-06-06T09:11:50.415Z"
   },
   {
    "duration": 51,
    "start_time": "2022-06-06T09:11:51.754Z"
   },
   {
    "duration": 184,
    "start_time": "2022-06-06T09:11:52.610Z"
   },
   {
    "duration": 14,
    "start_time": "2022-06-06T09:11:54.264Z"
   },
   {
    "duration": 19,
    "start_time": "2022-06-06T09:11:56.014Z"
   },
   {
    "duration": 1289,
    "start_time": "2022-06-06T09:11:57.088Z"
   },
   {
    "duration": 760,
    "start_time": "2022-06-06T09:12:00.448Z"
   },
   {
    "duration": 4,
    "start_time": "2022-06-06T09:18:19.019Z"
   },
   {
    "duration": 1169,
    "start_time": "2022-06-06T09:19:57.712Z"
   },
   {
    "duration": 1203,
    "start_time": "2022-06-06T09:20:03.945Z"
   },
   {
    "duration": 1220,
    "start_time": "2022-06-06T09:20:14.520Z"
   },
   {
    "duration": 1214,
    "start_time": "2022-06-06T09:20:31.029Z"
   },
   {
    "duration": 57,
    "start_time": "2022-06-06T09:31:28.031Z"
   },
   {
    "duration": 423,
    "start_time": "2022-06-06T10:01:18.816Z"
   },
   {
    "duration": 360,
    "start_time": "2022-06-06T10:01:38.676Z"
   },
   {
    "duration": 247,
    "start_time": "2022-06-06T10:01:47.121Z"
   },
   {
    "duration": 261,
    "start_time": "2022-06-06T10:02:04.430Z"
   },
   {
    "duration": 275,
    "start_time": "2022-06-06T10:03:00.072Z"
   },
   {
    "duration": 68,
    "start_time": "2022-06-06T10:07:14.586Z"
   },
   {
    "duration": 939,
    "start_time": "2022-06-06T10:07:24.548Z"
   },
   {
    "duration": 366,
    "start_time": "2022-06-06T10:13:15.443Z"
   },
   {
    "duration": 348,
    "start_time": "2022-06-06T10:13:22.065Z"
   },
   {
    "duration": 15,
    "start_time": "2022-06-06T10:13:51.506Z"
   },
   {
    "duration": 11,
    "start_time": "2022-06-06T10:14:28.805Z"
   },
   {
    "duration": 15,
    "start_time": "2022-06-06T10:22:45.421Z"
   },
   {
    "duration": 10,
    "start_time": "2022-06-06T10:23:18.897Z"
   },
   {
    "duration": 16,
    "start_time": "2022-06-06T10:28:58.849Z"
   },
   {
    "duration": 42,
    "start_time": "2022-06-06T10:30:19.116Z"
   },
   {
    "duration": 15,
    "start_time": "2022-06-06T10:30:27.234Z"
   },
   {
    "duration": 32,
    "start_time": "2022-06-06T10:33:37.654Z"
   },
   {
    "duration": 19,
    "start_time": "2022-06-06T10:35:40.290Z"
   },
   {
    "duration": 17,
    "start_time": "2022-06-06T10:35:44.948Z"
   },
   {
    "duration": 14,
    "start_time": "2022-06-06T10:36:44.417Z"
   },
   {
    "duration": 10,
    "start_time": "2022-06-06T10:39:08.774Z"
   },
   {
    "duration": 14,
    "start_time": "2022-06-06T11:09:43.274Z"
   },
   {
    "duration": 37,
    "start_time": "2022-06-06T11:09:51.928Z"
   },
   {
    "duration": 496,
    "start_time": "2022-06-06T11:09:54.477Z"
   },
   {
    "duration": 26,
    "start_time": "2022-06-06T11:10:06.085Z"
   },
   {
    "duration": 25,
    "start_time": "2022-06-06T11:10:49.423Z"
   },
   {
    "duration": 23,
    "start_time": "2022-06-06T11:11:42.777Z"
   },
   {
    "duration": 24,
    "start_time": "2022-06-06T11:12:02.589Z"
   },
   {
    "duration": 17,
    "start_time": "2022-06-06T11:12:31.426Z"
   },
   {
    "duration": 19,
    "start_time": "2022-06-06T11:12:51.050Z"
   },
   {
    "duration": 35,
    "start_time": "2022-06-06T11:13:00.923Z"
   },
   {
    "duration": 15,
    "start_time": "2022-06-06T11:13:04.491Z"
   },
   {
    "duration": 13,
    "start_time": "2022-06-06T12:21:37.679Z"
   },
   {
    "duration": 149,
    "start_time": "2022-06-06T12:21:42.857Z"
   },
   {
    "duration": 26,
    "start_time": "2022-06-06T12:22:56.822Z"
   },
   {
    "duration": 210,
    "start_time": "2022-06-06T12:23:24.073Z"
   },
   {
    "duration": 140,
    "start_time": "2022-06-06T12:24:05.773Z"
   },
   {
    "duration": 145,
    "start_time": "2022-06-06T12:24:11.626Z"
   },
   {
    "duration": 163,
    "start_time": "2022-06-06T12:24:15.903Z"
   },
   {
    "duration": 162,
    "start_time": "2022-06-06T12:24:20.281Z"
   },
   {
    "duration": 160,
    "start_time": "2022-06-06T12:24:30.969Z"
   },
   {
    "duration": 302,
    "start_time": "2022-06-06T12:24:55.015Z"
   },
   {
    "duration": 147,
    "start_time": "2022-06-06T12:26:39.705Z"
   },
   {
    "duration": 238,
    "start_time": "2022-06-06T12:27:03.288Z"
   },
   {
    "duration": 146,
    "start_time": "2022-06-06T12:27:13.050Z"
   },
   {
    "duration": 249,
    "start_time": "2022-06-06T12:27:36.100Z"
   },
   {
    "duration": 247,
    "start_time": "2022-06-06T12:27:47.947Z"
   },
   {
    "duration": 156,
    "start_time": "2022-06-06T12:31:42.382Z"
   },
   {
    "duration": 1176,
    "start_time": "2022-06-06T13:01:50.938Z"
   },
   {
    "duration": 1206,
    "start_time": "2022-06-06T13:01:56.860Z"
   },
   {
    "duration": 1180,
    "start_time": "2022-06-06T13:02:02.983Z"
   },
   {
    "duration": 1362,
    "start_time": "2022-06-06T13:02:15.486Z"
   },
   {
    "duration": 377,
    "start_time": "2022-06-06T13:21:14.229Z"
   },
   {
    "duration": 248,
    "start_time": "2022-06-06T13:21:24.119Z"
   },
   {
    "duration": 235,
    "start_time": "2022-06-06T13:21:33.357Z"
   },
   {
    "duration": 624,
    "start_time": "2022-06-06T13:21:53.818Z"
   },
   {
    "duration": 1666,
    "start_time": "2022-06-06T15:58:53.847Z"
   },
   {
    "duration": 771,
    "start_time": "2022-06-06T15:58:55.515Z"
   },
   {
    "duration": 6,
    "start_time": "2022-06-06T15:58:56.288Z"
   },
   {
    "duration": 7,
    "start_time": "2022-06-06T15:58:56.296Z"
   },
   {
    "duration": 17,
    "start_time": "2022-06-06T15:58:56.305Z"
   },
   {
    "duration": 34,
    "start_time": "2022-06-06T15:58:56.783Z"
   },
   {
    "duration": 66,
    "start_time": "2022-06-06T15:58:57.390Z"
   },
   {
    "duration": 44,
    "start_time": "2022-06-06T15:58:58.012Z"
   },
   {
    "duration": 40,
    "start_time": "2022-06-06T15:58:58.606Z"
   },
   {
    "duration": 28,
    "start_time": "2022-06-06T15:59:01.904Z"
   },
   {
    "duration": 306,
    "start_time": "2022-06-06T15:59:02.171Z"
   },
   {
    "duration": 109,
    "start_time": "2022-06-06T15:59:03.751Z"
   },
   {
    "duration": 188,
    "start_time": "2022-06-06T15:59:04.188Z"
   },
   {
    "duration": 153,
    "start_time": "2022-06-06T15:59:05.159Z"
   },
   {
    "duration": 24,
    "start_time": "2022-06-06T15:59:05.805Z"
   },
   {
    "duration": 1203,
    "start_time": "2022-06-06T15:59:06.259Z"
   },
   {
    "duration": 866,
    "start_time": "2022-06-06T15:59:07.465Z"
   },
   {
    "duration": 1345,
    "start_time": "2022-06-06T15:59:12.045Z"
   },
   {
    "duration": 64,
    "start_time": "2022-06-06T15:59:13.581Z"
   },
   {
    "duration": 298,
    "start_time": "2022-06-06T15:59:14.183Z"
   },
   {
    "duration": 889,
    "start_time": "2022-06-06T15:59:15.355Z"
   },
   {
    "duration": 37,
    "start_time": "2022-06-06T16:16:13.977Z"
   },
   {
    "duration": 206,
    "start_time": "2022-06-06T16:16:22.541Z"
   },
   {
    "duration": 1183,
    "start_time": "2022-06-06T16:16:30.947Z"
   },
   {
    "duration": 14,
    "start_time": "2022-06-06T16:16:33.362Z"
   },
   {
    "duration": 11,
    "start_time": "2022-06-06T16:16:34.163Z"
   },
   {
    "duration": 30,
    "start_time": "2022-06-06T16:16:35.163Z"
   },
   {
    "duration": 15,
    "start_time": "2022-06-06T16:16:40.692Z"
   },
   {
    "duration": 26,
    "start_time": "2022-06-06T16:17:31.837Z"
   },
   {
    "duration": 44,
    "start_time": "2022-06-06T16:17:39.416Z"
   },
   {
    "duration": 19,
    "start_time": "2022-06-06T16:17:44.879Z"
   },
   {
    "duration": 23,
    "start_time": "2022-06-06T16:17:53.036Z"
   },
   {
    "duration": 22,
    "start_time": "2022-06-06T16:17:57.244Z"
   },
   {
    "duration": 1616,
    "start_time": "2022-06-06T16:49:00.271Z"
   },
   {
    "duration": 7,
    "start_time": "2022-06-06T16:49:10.979Z"
   },
   {
    "duration": 492,
    "start_time": "2022-06-06T16:49:11.536Z"
   },
   {
    "duration": 10,
    "start_time": "2022-06-06T16:49:12.310Z"
   },
   {
    "duration": 6,
    "start_time": "2022-06-06T16:49:12.645Z"
   },
   {
    "duration": 43,
    "start_time": "2022-06-06T16:49:12.935Z"
   },
   {
    "duration": 80,
    "start_time": "2022-06-06T16:49:14.222Z"
   },
   {
    "duration": 126,
    "start_time": "2022-06-06T16:49:14.813Z"
   },
   {
    "duration": 47,
    "start_time": "2022-06-06T16:49:15.442Z"
   },
   {
    "duration": 43,
    "start_time": "2022-06-06T16:49:16.022Z"
   },
   {
    "duration": 26,
    "start_time": "2022-06-06T16:49:17.268Z"
   },
   {
    "duration": 375,
    "start_time": "2022-06-06T16:49:17.609Z"
   },
   {
    "duration": 54,
    "start_time": "2022-06-06T16:49:18.820Z"
   },
   {
    "duration": 220,
    "start_time": "2022-06-06T16:49:19.115Z"
   },
   {
    "duration": 26,
    "start_time": "2022-06-06T16:49:20.043Z"
   },
   {
    "duration": 28,
    "start_time": "2022-06-06T16:49:20.672Z"
   },
   {
    "duration": 1713,
    "start_time": "2022-06-06T16:49:21.002Z"
   },
   {
    "duration": 889,
    "start_time": "2022-06-06T16:49:22.718Z"
   },
   {
    "duration": 1443,
    "start_time": "2022-06-06T16:49:23.609Z"
   },
   {
    "duration": 105,
    "start_time": "2022-06-06T16:49:25.061Z"
   },
   {
    "duration": 344,
    "start_time": "2022-06-06T16:49:25.172Z"
   },
   {
    "duration": 1098,
    "start_time": "2022-06-06T16:49:25.518Z"
   },
   {
    "duration": 40,
    "start_time": "2022-06-06T16:49:26.620Z"
   },
   {
    "duration": 23,
    "start_time": "2022-06-06T16:49:26.667Z"
   },
   {
    "duration": 38,
    "start_time": "2022-06-06T16:49:26.759Z"
   },
   {
    "duration": 20,
    "start_time": "2022-06-06T16:49:27.396Z"
   },
   {
    "duration": 1446,
    "start_time": "2022-06-06T18:40:59.383Z"
   },
   {
    "duration": 121,
    "start_time": "2022-06-06T18:41:00.834Z"
   },
   {
    "duration": 6,
    "start_time": "2022-06-06T18:41:00.957Z"
   },
   {
    "duration": 18,
    "start_time": "2022-06-06T18:41:00.965Z"
   },
   {
    "duration": 67,
    "start_time": "2022-06-06T18:41:00.986Z"
   },
   {
    "duration": 41,
    "start_time": "2022-06-06T18:41:01.055Z"
   },
   {
    "duration": 82,
    "start_time": "2022-06-06T18:41:01.109Z"
   },
   {
    "duration": 59,
    "start_time": "2022-06-06T18:41:01.193Z"
   },
   {
    "duration": 78,
    "start_time": "2022-06-06T18:41:01.255Z"
   },
   {
    "duration": 22,
    "start_time": "2022-06-06T18:41:01.335Z"
   },
   {
    "duration": 453,
    "start_time": "2022-06-06T18:41:01.359Z"
   },
   {
    "duration": 120,
    "start_time": "2022-06-06T18:41:01.814Z"
   },
   {
    "duration": 284,
    "start_time": "2022-06-06T18:41:01.936Z"
   },
   {
    "duration": 154,
    "start_time": "2022-06-06T18:41:02.224Z"
   },
   {
    "duration": 45,
    "start_time": "2022-06-06T18:41:02.381Z"
   },
   {
    "duration": 1487,
    "start_time": "2022-06-06T18:41:02.428Z"
   },
   {
    "duration": 983,
    "start_time": "2022-06-06T18:41:03.917Z"
   },
   {
    "duration": 1626,
    "start_time": "2022-06-06T18:41:04.902Z"
   },
   {
    "duration": 126,
    "start_time": "2022-06-06T18:41:06.530Z"
   },
   {
    "duration": 398,
    "start_time": "2022-06-06T18:41:06.658Z"
   },
   {
    "duration": 1051,
    "start_time": "2022-06-06T18:41:07.058Z"
   },
   {
    "duration": 26,
    "start_time": "2022-06-06T18:41:08.112Z"
   },
   {
    "duration": 25,
    "start_time": "2022-06-06T18:41:08.142Z"
   },
   {
    "duration": 28,
    "start_time": "2022-06-06T18:41:08.169Z"
   },
   {
    "duration": 39,
    "start_time": "2022-06-06T18:41:08.199Z"
   },
   {
    "duration": 63,
    "start_time": "2022-06-07T12:13:22.256Z"
   },
   {
    "duration": 1585,
    "start_time": "2022-06-07T12:13:28.878Z"
   },
   {
    "duration": 272,
    "start_time": "2022-06-07T12:13:30.466Z"
   },
   {
    "duration": 6,
    "start_time": "2022-06-07T12:13:30.741Z"
   },
   {
    "duration": 40,
    "start_time": "2022-06-07T12:13:30.750Z"
   },
   {
    "duration": 52,
    "start_time": "2022-06-07T12:13:30.791Z"
   },
   {
    "duration": 43,
    "start_time": "2022-06-07T12:13:31.964Z"
   },
   {
    "duration": 69,
    "start_time": "2022-06-07T12:13:32.817Z"
   },
   {
    "duration": 31,
    "start_time": "2022-06-07T12:13:33.380Z"
   },
   {
    "duration": 26,
    "start_time": "2022-06-07T12:13:34.256Z"
   },
   {
    "duration": 18,
    "start_time": "2022-06-07T12:13:36.656Z"
   },
   {
    "duration": 342,
    "start_time": "2022-06-07T12:13:37.056Z"
   },
   {
    "duration": 99,
    "start_time": "2022-06-07T12:13:41.652Z"
   },
   {
    "duration": 169,
    "start_time": "2022-06-07T12:13:43.703Z"
   },
   {
    "duration": 357,
    "start_time": "2022-06-07T12:13:49.600Z"
   },
   {
    "duration": 16,
    "start_time": "2022-06-07T12:14:45.983Z"
   },
   {
    "duration": 18,
    "start_time": "2022-06-07T12:16:31.066Z"
   },
   {
    "duration": 16,
    "start_time": "2022-06-07T12:16:46.898Z"
   },
   {
    "duration": 37,
    "start_time": "2022-06-07T12:18:10.121Z"
   },
   {
    "duration": 18,
    "start_time": "2022-06-07T12:18:53.703Z"
   },
   {
    "duration": 191,
    "start_time": "2022-06-07T12:25:38.418Z"
   },
   {
    "duration": 181,
    "start_time": "2022-06-07T12:26:22.849Z"
   },
   {
    "duration": 333,
    "start_time": "2022-06-07T12:29:19.910Z"
   },
   {
    "duration": 122,
    "start_time": "2022-06-07T12:30:08.009Z"
   },
   {
    "duration": 332,
    "start_time": "2022-06-07T12:30:16.344Z"
   },
   {
    "duration": 302,
    "start_time": "2022-06-07T12:30:42.643Z"
   },
   {
    "duration": 293,
    "start_time": "2022-06-07T12:31:06.418Z"
   },
   {
    "duration": 344,
    "start_time": "2022-06-07T12:31:59.558Z"
   },
   {
    "duration": 247,
    "start_time": "2022-06-07T12:32:08.872Z"
   },
   {
    "duration": 319,
    "start_time": "2022-06-07T12:32:40.568Z"
   },
   {
    "duration": 271,
    "start_time": "2022-06-07T12:32:46.275Z"
   },
   {
    "duration": 291,
    "start_time": "2022-06-07T12:33:20.973Z"
   },
   {
    "duration": 261,
    "start_time": "2022-06-07T12:33:25.359Z"
   },
   {
    "duration": 358,
    "start_time": "2022-06-07T12:34:32.802Z"
   },
   {
    "duration": 357,
    "start_time": "2022-06-07T12:35:13.805Z"
   },
   {
    "duration": 17,
    "start_time": "2022-06-07T12:52:11.571Z"
   },
   {
    "duration": 6,
    "start_time": "2022-06-07T12:52:20.752Z"
   },
   {
    "duration": 114,
    "start_time": "2022-06-07T12:52:21.176Z"
   },
   {
    "duration": 5,
    "start_time": "2022-06-07T12:52:21.787Z"
   },
   {
    "duration": 6,
    "start_time": "2022-06-07T12:52:22.088Z"
   },
   {
    "duration": 19,
    "start_time": "2022-06-07T12:52:22.396Z"
   },
   {
    "duration": 34,
    "start_time": "2022-06-07T12:52:23.863Z"
   },
   {
    "duration": 66,
    "start_time": "2022-06-07T12:52:24.819Z"
   },
   {
    "duration": 42,
    "start_time": "2022-06-07T12:52:25.403Z"
   },
   {
    "duration": 38,
    "start_time": "2022-06-07T12:52:26.412Z"
   },
   {
    "duration": 16,
    "start_time": "2022-06-07T12:52:28.075Z"
   },
   {
    "duration": 269,
    "start_time": "2022-06-07T12:52:28.379Z"
   },
   {
    "duration": 35,
    "start_time": "2022-06-07T12:52:29.983Z"
   },
   {
    "duration": 169,
    "start_time": "2022-06-07T12:52:30.315Z"
   },
   {
    "duration": 264,
    "start_time": "2022-06-07T12:52:31.675Z"
   },
   {
    "duration": 139,
    "start_time": "2022-06-07T12:52:34.043Z"
   },
   {
    "duration": 1191,
    "start_time": "2022-06-07T12:52:34.896Z"
   },
   {
    "duration": 675,
    "start_time": "2022-06-07T12:52:36.089Z"
   },
   {
    "duration": 1182,
    "start_time": "2022-06-07T12:52:37.511Z"
   },
   {
    "duration": 66,
    "start_time": "2022-06-07T12:52:39.487Z"
   },
   {
    "duration": 294,
    "start_time": "2022-06-07T12:52:40.485Z"
   },
   {
    "duration": 1621,
    "start_time": "2022-06-07T12:52:41.626Z"
   },
   {
    "duration": 20,
    "start_time": "2022-06-07T12:52:43.249Z"
   },
   {
    "duration": 25,
    "start_time": "2022-06-07T12:52:43.270Z"
   },
   {
    "duration": 22,
    "start_time": "2022-06-07T12:52:43.918Z"
   },
   {
    "duration": 25,
    "start_time": "2022-06-07T12:52:45.050Z"
   },
   {
    "duration": 36,
    "start_time": "2022-06-07T12:53:48.198Z"
   },
   {
    "duration": 26,
    "start_time": "2022-06-07T12:54:18.491Z"
   },
   {
    "duration": 33,
    "start_time": "2022-06-07T12:54:26.688Z"
   },
   {
    "duration": 57,
    "start_time": "2022-06-07T12:56:32.285Z"
   },
   {
    "duration": 38,
    "start_time": "2022-06-07T12:57:28.684Z"
   },
   {
    "duration": 18,
    "start_time": "2022-06-07T12:58:37.218Z"
   },
   {
    "duration": 48,
    "start_time": "2022-06-07T12:58:44.724Z"
   },
   {
    "duration": 66,
    "start_time": "2022-06-07T12:59:35.287Z"
   },
   {
    "duration": 82,
    "start_time": "2022-06-07T13:00:15.801Z"
   },
   {
    "duration": 68,
    "start_time": "2022-06-07T13:00:25.295Z"
   },
   {
    "duration": 82,
    "start_time": "2022-06-07T13:03:28.498Z"
   },
   {
    "duration": 64,
    "start_time": "2022-06-07T13:04:27.449Z"
   },
   {
    "duration": 51,
    "start_time": "2022-06-07T13:07:34.196Z"
   },
   {
    "duration": 31,
    "start_time": "2022-06-07T13:07:41.500Z"
   },
   {
    "duration": 24,
    "start_time": "2022-06-07T13:08:01.051Z"
   },
   {
    "duration": 17,
    "start_time": "2022-06-07T13:08:06.737Z"
   },
   {
    "duration": 20,
    "start_time": "2022-06-07T13:08:28.042Z"
   },
   {
    "duration": 39,
    "start_time": "2022-06-07T13:08:37.799Z"
   },
   {
    "duration": 30,
    "start_time": "2022-06-07T13:09:03.741Z"
   },
   {
    "duration": 33,
    "start_time": "2022-06-07T13:09:09.629Z"
   },
   {
    "duration": 36,
    "start_time": "2022-06-07T13:09:15.241Z"
   },
   {
    "duration": 47,
    "start_time": "2022-06-07T13:09:18.649Z"
   },
   {
    "duration": 56,
    "start_time": "2022-06-07T13:09:25.891Z"
   },
   {
    "duration": 54,
    "start_time": "2022-06-07T13:39:56.548Z"
   },
   {
    "duration": 61,
    "start_time": "2022-06-07T13:41:55.542Z"
   },
   {
    "duration": 31,
    "start_time": "2022-06-07T13:42:33.148Z"
   },
   {
    "duration": 61,
    "start_time": "2022-06-07T13:44:21.340Z"
   },
   {
    "duration": 63,
    "start_time": "2022-06-07T13:44:39.946Z"
   },
   {
    "duration": 95,
    "start_time": "2022-06-07T13:45:27.980Z"
   },
   {
    "duration": 98,
    "start_time": "2022-06-07T13:46:29.934Z"
   },
   {
    "duration": 34,
    "start_time": "2022-06-07T13:54:43.205Z"
   },
   {
    "duration": 23,
    "start_time": "2022-06-07T13:55:15.542Z"
   },
   {
    "duration": 28,
    "start_time": "2022-06-07T13:55:48.289Z"
   },
   {
    "duration": 24,
    "start_time": "2022-06-07T13:55:54.643Z"
   },
   {
    "duration": 27,
    "start_time": "2022-06-07T13:56:53.944Z"
   },
   {
    "duration": 1334,
    "start_time": "2022-06-07T17:17:05.263Z"
   },
   {
    "duration": 287,
    "start_time": "2022-06-07T17:17:06.599Z"
   },
   {
    "duration": 6,
    "start_time": "2022-06-07T17:17:08.242Z"
   },
   {
    "duration": 5,
    "start_time": "2022-06-07T17:17:08.466Z"
   },
   {
    "duration": 16,
    "start_time": "2022-06-07T17:17:08.767Z"
   },
   {
    "duration": 23,
    "start_time": "2022-06-07T17:17:10.478Z"
   },
   {
    "duration": 50,
    "start_time": "2022-06-07T17:17:11.260Z"
   },
   {
    "duration": 34,
    "start_time": "2022-06-07T17:17:11.671Z"
   },
   {
    "duration": 27,
    "start_time": "2022-06-07T17:17:12.454Z"
   },
   {
    "duration": 17,
    "start_time": "2022-06-07T17:17:13.807Z"
   },
   {
    "duration": 309,
    "start_time": "2022-06-07T17:17:14.098Z"
   },
   {
    "duration": 63,
    "start_time": "2022-06-07T17:17:17.051Z"
   },
   {
    "duration": 152,
    "start_time": "2022-06-07T17:17:18.062Z"
   },
   {
    "duration": 239,
    "start_time": "2022-06-07T17:17:20.690Z"
   },
   {
    "duration": 17,
    "start_time": "2022-06-07T17:18:37.597Z"
   },
   {
    "duration": 1113,
    "start_time": "2022-06-07T17:18:38.437Z"
   },
   {
    "duration": 663,
    "start_time": "2022-06-07T17:18:39.700Z"
   },
   {
    "duration": 1037,
    "start_time": "2022-06-07T17:18:42.333Z"
   },
   {
    "duration": 57,
    "start_time": "2022-06-07T17:18:45.740Z"
   },
   {
    "duration": 224,
    "start_time": "2022-06-07T17:18:47.222Z"
   },
   {
    "duration": 1329,
    "start_time": "2022-06-07T17:18:48.209Z"
   },
   {
    "duration": 16,
    "start_time": "2022-06-07T17:18:49.540Z"
   },
   {
    "duration": 9,
    "start_time": "2022-06-07T17:18:49.683Z"
   },
   {
    "duration": 18,
    "start_time": "2022-06-07T17:18:51.057Z"
   },
   {
    "duration": 20,
    "start_time": "2022-06-07T17:18:52.192Z"
   }
  ],
  "kernelspec": {
   "display_name": "Python 3 (ipykernel)",
   "language": "python",
   "name": "python3"
  },
  "language_info": {
   "codemirror_mode": {
    "name": "ipython",
    "version": 3
   },
   "file_extension": ".py",
   "mimetype": "text/x-python",
   "name": "python",
   "nbconvert_exporter": "python",
   "pygments_lexer": "ipython3",
   "version": "3.9.12"
  },
  "toc": {
   "base_numbering": 1,
   "nav_menu": {
    "height": "12px",
    "width": "160px"
   },
   "number_sections": true,
   "sideBar": true,
   "skip_h1_title": true,
   "title_cell": "Исследование рынка общественного питания Москвы",
   "title_sidebar": "Contents",
   "toc_cell": true,
   "toc_position": {
    "height": "calc(100% - 180px)",
    "left": "10px",
    "top": "150px",
    "width": "165px"
   },
   "toc_section_display": true,
   "toc_window_display": false
  }
 },
 "nbformat": 4,
 "nbformat_minor": 2
}
