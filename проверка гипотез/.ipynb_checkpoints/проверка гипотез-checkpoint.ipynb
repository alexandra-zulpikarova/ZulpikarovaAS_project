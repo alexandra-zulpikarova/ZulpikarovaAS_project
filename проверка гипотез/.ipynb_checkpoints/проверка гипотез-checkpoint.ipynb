{
 "cells": [
  {
   "cell_type": "markdown",
   "metadata": {
    "toc": true
   },
   "source": [
    "<h1> Проверка гипотез по увеличению выручки в интернет-магазине<span class=\"tocSkip\"></span></h1>\n",
    "<div class=\"toc\"><ul class=\"toc-item\"><li><span><a href=\"#Изучение-данных\" data-toc-modified-id=\"Изучение-данных-1\"><span class=\"toc-item-num\">1&nbsp;&nbsp;</span>Изучение данных</a></span></li><li><span><a href=\"#Предобработка-данных\" data-toc-modified-id=\"Предобработка-данных-2\"><span class=\"toc-item-num\">2&nbsp;&nbsp;</span>Предобработка данных</a></span></li><li><span><a href=\"#Приоритизация-гипотез\" data-toc-modified-id=\"Приоритизация-гипотез-3\"><span class=\"toc-item-num\">3&nbsp;&nbsp;</span>Приоритизация гипотез</a></span></li><li><span><a href=\"#Анализ-A/B-теста\" data-toc-modified-id=\"Анализ-A/B-теста-4\"><span class=\"toc-item-num\">4&nbsp;&nbsp;</span>Анализ A/B-теста</a></span><ul class=\"toc-item\"><li><span><a href=\"#Кумулятивная-выручка-по-группам\" data-toc-modified-id=\"Кумулятивная-выручка-по-группам-4.1\"><span class=\"toc-item-num\">4.1&nbsp;&nbsp;</span>Кумулятивная выручка по группам</a></span></li><li><span><a href=\"#Кумулятивный-средний-чек-по-группам\" data-toc-modified-id=\"Кумулятивный-средний-чек-по-группам-4.2\"><span class=\"toc-item-num\">4.2&nbsp;&nbsp;</span>Кумулятивный средний чек по группам</a></span></li><li><span><a href=\"#Кумулятивная-конверсия-по-группам\" data-toc-modified-id=\"Кумулятивная-конверсия-по-группам-4.3\"><span class=\"toc-item-num\">4.3&nbsp;&nbsp;</span>Кумулятивная конверсия по группам</a></span></li><li><span><a href=\"#Анализ-выбросов-:-крайние-значения-данных\" data-toc-modified-id=\"Анализ-выбросов-:-крайние-значения-данных-4.4\"><span class=\"toc-item-num\">4.4&nbsp;&nbsp;</span>Анализ выбросов : крайние значения данных</a></span></li><li><span><a href=\"#Анализ-статистической-значимоси-различий-показателей-по-неочищенным-данным.\" data-toc-modified-id=\"Анализ-статистической-значимоси-различий-показателей-по-неочищенным-данным.-4.5\"><span class=\"toc-item-num\">4.5&nbsp;&nbsp;</span>Анализ статистической значимоси различий показателей по неочищенным данным.</a></span></li><li><span><a href=\"#Анализ-статистической-значимоси-различий-показателей-по-очищенным-данным.\" data-toc-modified-id=\"Анализ-статистической-значимоси-различий-показателей-по-очищенным-данным.-4.6\"><span class=\"toc-item-num\">4.6&nbsp;&nbsp;</span>Анализ статистической значимоси различий показателей по очищенным данным.</a></span></li></ul></li><li><span><a href=\"#Выводы\" data-toc-modified-id=\"Выводы-5\"><span class=\"toc-item-num\">5&nbsp;&nbsp;</span>Выводы</a></span></li></ul></div>"
   ]
  },
  {
   "cell_type": "markdown",
   "metadata": {},
   "source": [
    "# Описание проекта"
   ]
  },
  {
   "cell_type": "markdown",
   "metadata": {},
   "source": [
    "Отдел аналитики вместе с отделом маркетинга подготовили список гипотез для увеличения выручки.\n",
    "Необходимо приоритизировать гипотезы, запустите A/B-тест и проанализировать результаты."
   ]
  },
  {
   "cell_type": "markdown",
   "metadata": {},
   "source": [
    "## Изучение данных "
   ]
  },
  {
   "cell_type": "code",
   "execution_count": 1,
   "metadata": {},
   "outputs": [],
   "source": [
    "# импорт библиотек \n",
    "import pandas as pd \n",
    "import seaborn as sns\n",
    "from matplotlib import pyplot as plt\n",
    "import numpy as np\n",
    "import datetime as dt\n",
    "from scipy import stats as st \n",
    "from pandas.plotting import register_matplotlib_converters\n",
    "import warnings\n",
    "# конвертеры, которые позволяют использовать типы pandas в matplotlib  \n",
    "register_matplotlib_converters()"
   ]
  },
  {
   "cell_type": "code",
   "execution_count": 2,
   "metadata": {},
   "outputs": [],
   "source": [
    "# настроим вывод таблиц так, чтобы содержимое строки отображолось полностью\n",
    "pd.set_option('display.max_colwidth', None)\n",
    "# прочитаем датасеты и сохраним в переменные \n",
    "hypothesis = pd.read_csv('/datasets/hypothesis.csv')\n",
    "orders = pd.read_csv('/datasets/orders.csv')\n",
    "visitors = pd.read_csv('/datasets/visitors.csv')"
   ]
  },
  {
   "cell_type": "markdown",
   "metadata": {},
   "source": [
    "Согласно документации к данным:\n",
    "Таблица hypothesis содержит:\n",
    " - Hypothesis — краткое описание гипотезы;\n",
    " - Reach — охват пользователей по 10-балльной шкале;\n",
    " - Impact — влияние на пользователей по 10-балльной шкале;\n",
    " - Confidence — уверенность в гипотезе по 10-балльной шкале;\n",
    " - Efforts — затраты ресурсов на проверку гипотезы по 10-балльной шкале. Чем больше значение Efforts, тем дороже проверка гипотезы.\n",
    " \n",
    "Таблица orders содержит: \n",
    " - transactionId — идентификатор заказа;\n",
    " - visitorId — идентификатор пользователя, совершившего заказ;\n",
    " - date — дата, когда был совершён заказ;\n",
    " - revenue — выручка заказа;\n",
    " - group — группа A/B-теста, в которую попал заказ.\n",
    "\n",
    "Таблица visitors содержит:\n",
    " - date — дата;\n",
    " - group — группа A/B-теста;\n",
    " - visitors — количество пользователей в указанную дату в указанной группе A/B-теста\n",
    "\n",
    "Изучим таблицу с гипотезами."
   ]
  },
  {
   "cell_type": "code",
   "execution_count": 3,
   "metadata": {},
   "outputs": [
    {
     "data": {
      "text/html": [
       "<div>\n",
       "<style scoped>\n",
       "    .dataframe tbody tr th:only-of-type {\n",
       "        vertical-align: middle;\n",
       "    }\n",
       "\n",
       "    .dataframe tbody tr th {\n",
       "        vertical-align: top;\n",
       "    }\n",
       "\n",
       "    .dataframe thead th {\n",
       "        text-align: right;\n",
       "    }\n",
       "</style>\n",
       "<table border=\"1\" class=\"dataframe\">\n",
       "  <thead>\n",
       "    <tr style=\"text-align: right;\">\n",
       "      <th></th>\n",
       "      <th>Hypothesis</th>\n",
       "      <th>Reach</th>\n",
       "      <th>Impact</th>\n",
       "      <th>Confidence</th>\n",
       "      <th>Efforts</th>\n",
       "    </tr>\n",
       "  </thead>\n",
       "  <tbody>\n",
       "    <tr>\n",
       "      <th>0</th>\n",
       "      <td>Добавить два новых канала привлечения трафика, что позволит привлекать на 30% больше пользователей</td>\n",
       "      <td>3</td>\n",
       "      <td>10</td>\n",
       "      <td>8</td>\n",
       "      <td>6</td>\n",
       "    </tr>\n",
       "    <tr>\n",
       "      <th>1</th>\n",
       "      <td>Запустить собственную службу доставки, что сократит срок доставки заказов</td>\n",
       "      <td>2</td>\n",
       "      <td>5</td>\n",
       "      <td>4</td>\n",
       "      <td>10</td>\n",
       "    </tr>\n",
       "    <tr>\n",
       "      <th>2</th>\n",
       "      <td>Добавить блоки рекомендаций товаров на сайт интернет магазина, чтобы повысить конверсию и средний чек заказа</td>\n",
       "      <td>8</td>\n",
       "      <td>3</td>\n",
       "      <td>7</td>\n",
       "      <td>3</td>\n",
       "    </tr>\n",
       "    <tr>\n",
       "      <th>3</th>\n",
       "      <td>Изменить структура категорий, что увеличит конверсию, т.к. пользователи быстрее найдут нужный товар</td>\n",
       "      <td>8</td>\n",
       "      <td>3</td>\n",
       "      <td>3</td>\n",
       "      <td>8</td>\n",
       "    </tr>\n",
       "    <tr>\n",
       "      <th>4</th>\n",
       "      <td>Изменить цвет фона главной страницы, чтобы увеличить вовлеченность пользователей</td>\n",
       "      <td>3</td>\n",
       "      <td>1</td>\n",
       "      <td>1</td>\n",
       "      <td>1</td>\n",
       "    </tr>\n",
       "    <tr>\n",
       "      <th>5</th>\n",
       "      <td>Добавить страницу отзывов клиентов о магазине, что позволит увеличить количество заказов</td>\n",
       "      <td>3</td>\n",
       "      <td>2</td>\n",
       "      <td>2</td>\n",
       "      <td>3</td>\n",
       "    </tr>\n",
       "    <tr>\n",
       "      <th>6</th>\n",
       "      <td>Показать на главной странице баннеры с актуальными акциями и распродажами, чтобы увеличить конверсию</td>\n",
       "      <td>5</td>\n",
       "      <td>3</td>\n",
       "      <td>8</td>\n",
       "      <td>3</td>\n",
       "    </tr>\n",
       "    <tr>\n",
       "      <th>7</th>\n",
       "      <td>Добавить форму подписки на все основные страницы, чтобы собрать базу клиентов для email-рассылок</td>\n",
       "      <td>10</td>\n",
       "      <td>7</td>\n",
       "      <td>8</td>\n",
       "      <td>5</td>\n",
       "    </tr>\n",
       "    <tr>\n",
       "      <th>8</th>\n",
       "      <td>Запустить акцию, дающую скидку на товар в день рождения</td>\n",
       "      <td>1</td>\n",
       "      <td>9</td>\n",
       "      <td>9</td>\n",
       "      <td>5</td>\n",
       "    </tr>\n",
       "  </tbody>\n",
       "</table>\n",
       "</div>"
      ],
      "text/plain": [
       "                                                                                                     Hypothesis  \\\n",
       "0            Добавить два новых канала привлечения трафика, что позволит привлекать на 30% больше пользователей   \n",
       "1                                     Запустить собственную службу доставки, что сократит срок доставки заказов   \n",
       "2  Добавить блоки рекомендаций товаров на сайт интернет магазина, чтобы повысить конверсию и средний чек заказа   \n",
       "3           Изменить структура категорий, что увеличит конверсию, т.к. пользователи быстрее найдут нужный товар   \n",
       "4                              Изменить цвет фона главной страницы, чтобы увеличить вовлеченность пользователей   \n",
       "5                      Добавить страницу отзывов клиентов о магазине, что позволит увеличить количество заказов   \n",
       "6          Показать на главной странице баннеры с актуальными акциями и распродажами, чтобы увеличить конверсию   \n",
       "7              Добавить форму подписки на все основные страницы, чтобы собрать базу клиентов для email-рассылок   \n",
       "8                                                       Запустить акцию, дающую скидку на товар в день рождения   \n",
       "\n",
       "   Reach  Impact  Confidence  Efforts  \n",
       "0      3      10           8        6  \n",
       "1      2       5           4       10  \n",
       "2      8       3           7        3  \n",
       "3      8       3           3        8  \n",
       "4      3       1           1        1  \n",
       "5      3       2           2        3  \n",
       "6      5       3           8        3  \n",
       "7     10       7           8        5  \n",
       "8      1       9           9        5  "
      ]
     },
     "metadata": {},
     "output_type": "display_data"
    },
    {
     "name": "stdout",
     "output_type": "stream",
     "text": [
      "<class 'pandas.core.frame.DataFrame'>\n",
      "RangeIndex: 9 entries, 0 to 8\n",
      "Data columns (total 5 columns):\n",
      " #   Column      Non-Null Count  Dtype \n",
      "---  ------      --------------  ----- \n",
      " 0   Hypothesis  9 non-null      object\n",
      " 1   Reach       9 non-null      int64 \n",
      " 2   Impact      9 non-null      int64 \n",
      " 3   Confidence  9 non-null      int64 \n",
      " 4   Efforts     9 non-null      int64 \n",
      "dtypes: int64(4), object(1)\n",
      "memory usage: 488.0+ bytes\n"
     ]
    }
   ],
   "source": [
    "# выведем таблицу\n",
    "display(hypothesis)\n",
    "# получение общей информации о данных датасета\n",
    "hypothesis.info()"
   ]
  },
  {
   "cell_type": "markdown",
   "metadata": {},
   "source": [
    "Изучим таблицу с информацией о заказах пользователей."
   ]
  },
  {
   "cell_type": "code",
   "execution_count": 4,
   "metadata": {},
   "outputs": [
    {
     "data": {
      "text/html": [
       "<div>\n",
       "<style scoped>\n",
       "    .dataframe tbody tr th:only-of-type {\n",
       "        vertical-align: middle;\n",
       "    }\n",
       "\n",
       "    .dataframe tbody tr th {\n",
       "        vertical-align: top;\n",
       "    }\n",
       "\n",
       "    .dataframe thead th {\n",
       "        text-align: right;\n",
       "    }\n",
       "</style>\n",
       "<table border=\"1\" class=\"dataframe\">\n",
       "  <thead>\n",
       "    <tr style=\"text-align: right;\">\n",
       "      <th></th>\n",
       "      <th>transactionId</th>\n",
       "      <th>visitorId</th>\n",
       "      <th>date</th>\n",
       "      <th>revenue</th>\n",
       "      <th>group</th>\n",
       "    </tr>\n",
       "  </thead>\n",
       "  <tbody>\n",
       "    <tr>\n",
       "      <th>0</th>\n",
       "      <td>3667963787</td>\n",
       "      <td>3312258926</td>\n",
       "      <td>2019-08-15</td>\n",
       "      <td>1650</td>\n",
       "      <td>B</td>\n",
       "    </tr>\n",
       "    <tr>\n",
       "      <th>1</th>\n",
       "      <td>2804400009</td>\n",
       "      <td>3642806036</td>\n",
       "      <td>2019-08-15</td>\n",
       "      <td>730</td>\n",
       "      <td>B</td>\n",
       "    </tr>\n",
       "    <tr>\n",
       "      <th>2</th>\n",
       "      <td>2961555356</td>\n",
       "      <td>4069496402</td>\n",
       "      <td>2019-08-15</td>\n",
       "      <td>400</td>\n",
       "      <td>A</td>\n",
       "    </tr>\n",
       "    <tr>\n",
       "      <th>3</th>\n",
       "      <td>3797467345</td>\n",
       "      <td>1196621759</td>\n",
       "      <td>2019-08-15</td>\n",
       "      <td>9759</td>\n",
       "      <td>B</td>\n",
       "    </tr>\n",
       "    <tr>\n",
       "      <th>4</th>\n",
       "      <td>2282983706</td>\n",
       "      <td>2322279887</td>\n",
       "      <td>2019-08-15</td>\n",
       "      <td>2308</td>\n",
       "      <td>B</td>\n",
       "    </tr>\n",
       "  </tbody>\n",
       "</table>\n",
       "</div>"
      ],
      "text/plain": [
       "   transactionId   visitorId        date  revenue group\n",
       "0     3667963787  3312258926  2019-08-15     1650     B\n",
       "1     2804400009  3642806036  2019-08-15      730     B\n",
       "2     2961555356  4069496402  2019-08-15      400     A\n",
       "3     3797467345  1196621759  2019-08-15     9759     B\n",
       "4     2282983706  2322279887  2019-08-15     2308     B"
      ]
     },
     "metadata": {},
     "output_type": "display_data"
    },
    {
     "name": "stdout",
     "output_type": "stream",
     "text": [
      "<class 'pandas.core.frame.DataFrame'>\n",
      "RangeIndex: 1197 entries, 0 to 1196\n",
      "Data columns (total 5 columns):\n",
      " #   Column         Non-Null Count  Dtype \n",
      "---  ------         --------------  ----- \n",
      " 0   transactionId  1197 non-null   int64 \n",
      " 1   visitorId      1197 non-null   int64 \n",
      " 2   date           1197 non-null   object\n",
      " 3   revenue        1197 non-null   int64 \n",
      " 4   group          1197 non-null   object\n",
      "dtypes: int64(3), object(2)\n",
      "memory usage: 46.9+ KB\n"
     ]
    },
    {
     "data": {
      "text/html": [
       "<div>\n",
       "<style scoped>\n",
       "    .dataframe tbody tr th:only-of-type {\n",
       "        vertical-align: middle;\n",
       "    }\n",
       "\n",
       "    .dataframe tbody tr th {\n",
       "        vertical-align: top;\n",
       "    }\n",
       "\n",
       "    .dataframe thead th {\n",
       "        text-align: right;\n",
       "    }\n",
       "</style>\n",
       "<table border=\"1\" class=\"dataframe\">\n",
       "  <thead>\n",
       "    <tr style=\"text-align: right;\">\n",
       "      <th></th>\n",
       "      <th>transactionId</th>\n",
       "      <th>visitorId</th>\n",
       "      <th>revenue</th>\n",
       "    </tr>\n",
       "  </thead>\n",
       "  <tbody>\n",
       "    <tr>\n",
       "      <th>count</th>\n",
       "      <td>1.197000e+03</td>\n",
       "      <td>1.197000e+03</td>\n",
       "      <td>1.197000e+03</td>\n",
       "    </tr>\n",
       "    <tr>\n",
       "      <th>mean</th>\n",
       "      <td>2.155621e+09</td>\n",
       "      <td>2.165960e+09</td>\n",
       "      <td>8.348006e+03</td>\n",
       "    </tr>\n",
       "    <tr>\n",
       "      <th>std</th>\n",
       "      <td>1.229085e+09</td>\n",
       "      <td>1.236014e+09</td>\n",
       "      <td>3.919113e+04</td>\n",
       "    </tr>\n",
       "    <tr>\n",
       "      <th>min</th>\n",
       "      <td>1.062393e+06</td>\n",
       "      <td>5.114589e+06</td>\n",
       "      <td>5.000000e+01</td>\n",
       "    </tr>\n",
       "    <tr>\n",
       "      <th>25%</th>\n",
       "      <td>1.166776e+09</td>\n",
       "      <td>1.111826e+09</td>\n",
       "      <td>1.220000e+03</td>\n",
       "    </tr>\n",
       "    <tr>\n",
       "      <th>50%</th>\n",
       "      <td>2.145194e+09</td>\n",
       "      <td>2.217985e+09</td>\n",
       "      <td>2.978000e+03</td>\n",
       "    </tr>\n",
       "    <tr>\n",
       "      <th>75%</th>\n",
       "      <td>3.237740e+09</td>\n",
       "      <td>3.177606e+09</td>\n",
       "      <td>8.290000e+03</td>\n",
       "    </tr>\n",
       "    <tr>\n",
       "      <th>max</th>\n",
       "      <td>4.293856e+09</td>\n",
       "      <td>4.283872e+09</td>\n",
       "      <td>1.294500e+06</td>\n",
       "    </tr>\n",
       "  </tbody>\n",
       "</table>\n",
       "</div>"
      ],
      "text/plain": [
       "       transactionId     visitorId       revenue\n",
       "count   1.197000e+03  1.197000e+03  1.197000e+03\n",
       "mean    2.155621e+09  2.165960e+09  8.348006e+03\n",
       "std     1.229085e+09  1.236014e+09  3.919113e+04\n",
       "min     1.062393e+06  5.114589e+06  5.000000e+01\n",
       "25%     1.166776e+09  1.111826e+09  1.220000e+03\n",
       "50%     2.145194e+09  2.217985e+09  2.978000e+03\n",
       "75%     3.237740e+09  3.177606e+09  8.290000e+03\n",
       "max     4.293856e+09  4.283872e+09  1.294500e+06"
      ]
     },
     "execution_count": 4,
     "metadata": {},
     "output_type": "execute_result"
    }
   ],
   "source": [
    "# выведем первые 5 строк таблицы\n",
    "display(orders.head())\n",
    "# получение общей информации о данных датасета\n",
    "orders.info()\n",
    "#получим статистическую информацию о данных\n",
    "orders.describe()"
   ]
  },
  {
   "cell_type": "code",
   "execution_count": 5,
   "metadata": {},
   "outputs": [
    {
     "data": {
      "text/plain": [
       "array(['B', 'A'], dtype=object)"
      ]
     },
     "execution_count": 5,
     "metadata": {},
     "output_type": "execute_result"
    }
   ],
   "source": [
    "# посмотрим на уникальные значения каналов привлечения датасета orders\n",
    "orders['group'].unique()"
   ]
  },
  {
   "cell_type": "code",
   "execution_count": 6,
   "metadata": {
    "scrolled": true
   },
   "outputs": [
    {
     "data": {
      "text/plain": [
       "max    2019-08-31\n",
       "min    2019-08-01\n",
       "Name: date, dtype: object"
      ]
     },
     "execution_count": 6,
     "metadata": {},
     "output_type": "execute_result"
    }
   ],
   "source": [
    "# посморим границы периода, за который предоставлена информация\n",
    "orders['date'].agg(['max','min'])"
   ]
  },
  {
   "cell_type": "markdown",
   "metadata": {},
   "source": [
    "Изучим таблицу с информацией о количестве пользователей в указанную дату в указанной группе A/B-теста."
   ]
  },
  {
   "cell_type": "code",
   "execution_count": 7,
   "metadata": {},
   "outputs": [
    {
     "data": {
      "text/html": [
       "<div>\n",
       "<style scoped>\n",
       "    .dataframe tbody tr th:only-of-type {\n",
       "        vertical-align: middle;\n",
       "    }\n",
       "\n",
       "    .dataframe tbody tr th {\n",
       "        vertical-align: top;\n",
       "    }\n",
       "\n",
       "    .dataframe thead th {\n",
       "        text-align: right;\n",
       "    }\n",
       "</style>\n",
       "<table border=\"1\" class=\"dataframe\">\n",
       "  <thead>\n",
       "    <tr style=\"text-align: right;\">\n",
       "      <th></th>\n",
       "      <th>date</th>\n",
       "      <th>group</th>\n",
       "      <th>visitors</th>\n",
       "    </tr>\n",
       "  </thead>\n",
       "  <tbody>\n",
       "    <tr>\n",
       "      <th>0</th>\n",
       "      <td>2019-08-01</td>\n",
       "      <td>A</td>\n",
       "      <td>719</td>\n",
       "    </tr>\n",
       "    <tr>\n",
       "      <th>1</th>\n",
       "      <td>2019-08-02</td>\n",
       "      <td>A</td>\n",
       "      <td>619</td>\n",
       "    </tr>\n",
       "    <tr>\n",
       "      <th>2</th>\n",
       "      <td>2019-08-03</td>\n",
       "      <td>A</td>\n",
       "      <td>507</td>\n",
       "    </tr>\n",
       "    <tr>\n",
       "      <th>3</th>\n",
       "      <td>2019-08-04</td>\n",
       "      <td>A</td>\n",
       "      <td>717</td>\n",
       "    </tr>\n",
       "    <tr>\n",
       "      <th>4</th>\n",
       "      <td>2019-08-05</td>\n",
       "      <td>A</td>\n",
       "      <td>756</td>\n",
       "    </tr>\n",
       "  </tbody>\n",
       "</table>\n",
       "</div>"
      ],
      "text/plain": [
       "         date group  visitors\n",
       "0  2019-08-01     A       719\n",
       "1  2019-08-02     A       619\n",
       "2  2019-08-03     A       507\n",
       "3  2019-08-04     A       717\n",
       "4  2019-08-05     A       756"
      ]
     },
     "metadata": {},
     "output_type": "display_data"
    },
    {
     "name": "stdout",
     "output_type": "stream",
     "text": [
      "<class 'pandas.core.frame.DataFrame'>\n",
      "RangeIndex: 62 entries, 0 to 61\n",
      "Data columns (total 3 columns):\n",
      " #   Column    Non-Null Count  Dtype \n",
      "---  ------    --------------  ----- \n",
      " 0   date      62 non-null     object\n",
      " 1   group     62 non-null     object\n",
      " 2   visitors  62 non-null     int64 \n",
      "dtypes: int64(1), object(2)\n",
      "memory usage: 1.6+ KB\n"
     ]
    },
    {
     "data": {
      "text/html": [
       "<div>\n",
       "<style scoped>\n",
       "    .dataframe tbody tr th:only-of-type {\n",
       "        vertical-align: middle;\n",
       "    }\n",
       "\n",
       "    .dataframe tbody tr th {\n",
       "        vertical-align: top;\n",
       "    }\n",
       "\n",
       "    .dataframe thead th {\n",
       "        text-align: right;\n",
       "    }\n",
       "</style>\n",
       "<table border=\"1\" class=\"dataframe\">\n",
       "  <thead>\n",
       "    <tr style=\"text-align: right;\">\n",
       "      <th></th>\n",
       "      <th>visitors</th>\n",
       "    </tr>\n",
       "  </thead>\n",
       "  <tbody>\n",
       "    <tr>\n",
       "      <th>count</th>\n",
       "      <td>62.000000</td>\n",
       "    </tr>\n",
       "    <tr>\n",
       "      <th>mean</th>\n",
       "      <td>607.290323</td>\n",
       "    </tr>\n",
       "    <tr>\n",
       "      <th>std</th>\n",
       "      <td>114.400560</td>\n",
       "    </tr>\n",
       "    <tr>\n",
       "      <th>min</th>\n",
       "      <td>361.000000</td>\n",
       "    </tr>\n",
       "    <tr>\n",
       "      <th>25%</th>\n",
       "      <td>534.000000</td>\n",
       "    </tr>\n",
       "    <tr>\n",
       "      <th>50%</th>\n",
       "      <td>624.500000</td>\n",
       "    </tr>\n",
       "    <tr>\n",
       "      <th>75%</th>\n",
       "      <td>710.500000</td>\n",
       "    </tr>\n",
       "    <tr>\n",
       "      <th>max</th>\n",
       "      <td>770.000000</td>\n",
       "    </tr>\n",
       "  </tbody>\n",
       "</table>\n",
       "</div>"
      ],
      "text/plain": [
       "         visitors\n",
       "count   62.000000\n",
       "mean   607.290323\n",
       "std    114.400560\n",
       "min    361.000000\n",
       "25%    534.000000\n",
       "50%    624.500000\n",
       "75%    710.500000\n",
       "max    770.000000"
      ]
     },
     "execution_count": 7,
     "metadata": {},
     "output_type": "execute_result"
    }
   ],
   "source": [
    "# выведем первые 5 строк таблицы\n",
    "display(visitors.head())\n",
    "# получение общей информации о данных датасета\n",
    "visitors.info()\n",
    "#получим статистическую информацию о данных\n",
    "visitors.describe()"
   ]
  },
  {
   "cell_type": "code",
   "execution_count": 8,
   "metadata": {},
   "outputs": [
    {
     "data": {
      "text/plain": [
       "array(['A', 'B'], dtype=object)"
      ]
     },
     "execution_count": 8,
     "metadata": {},
     "output_type": "execute_result"
    }
   ],
   "source": [
    "# посмотрим на уникальные значения каналов привлечения датасета visits\n",
    "visitors['group'].unique()"
   ]
  },
  {
   "cell_type": "code",
   "execution_count": 9,
   "metadata": {
    "scrolled": true
   },
   "outputs": [
    {
     "data": {
      "text/plain": [
       "max    2019-08-31\n",
       "min    2019-08-01\n",
       "Name: date, dtype: object"
      ]
     },
     "execution_count": 9,
     "metadata": {},
     "output_type": "execute_result"
    }
   ],
   "source": [
    "# посморим границы периода, за который предоставлена информация\n",
    "visitors['date'].agg(['max','min'])"
   ]
  },
  {
   "cell_type": "markdown",
   "metadata": {},
   "source": [
    "Длительность отчетного периода таблиц visitors и orders совпадает."
   ]
  },
  {
   "cell_type": "markdown",
   "metadata": {},
   "source": [
    "\n",
    "Просматривая статистическую информацию  и уникальные значения текстовых столбцов в данных не обнаружено значений, не соответствующих действительности и неявных дубликатов.\n",
    "\n",
    "Пропусков в датасетах не выявлено.\n",
    "\n",
    "Для удобства работы с данными, а также в качестве общепринятого стандарта  необходимо перевести  наименования столбцов датасета hypothesis к нижнему регистру.\n",
    "\n",
    "Также необходимо переименовать столбцы датасета orders для соблюдения правила змеиного регистра.\n",
    "\n",
    "Для дальнейшей корректной работы с данными необходимо изменить тип данных столбцов date таблиц orders и visitors с object на datetime.\n",
    "\n",
    "А также проверить данные датасетов orders и visitors на явные дубликаты.\n",
    "\n"
   ]
  },
  {
   "cell_type": "markdown",
   "metadata": {},
   "source": [
    "##  Предобработка данных"
   ]
  },
  {
   "cell_type": "markdown",
   "metadata": {},
   "source": [
    "Приведем наименование столбцов датасетов hypothesis и orders к общепринятым стандартам."
   ]
  },
  {
   "cell_type": "code",
   "execution_count": 10,
   "metadata": {},
   "outputs": [],
   "source": [
    "# приведем названия столбцев hypothesis к нижнему регистру\n",
    "hypothesis = hypothesis.rename(str.lower, axis='columns')"
   ]
  },
  {
   "cell_type": "code",
   "execution_count": 11,
   "metadata": {},
   "outputs": [],
   "source": [
    "# приведем название столбцев orders к змеиному регистру \n",
    "orders = orders.rename(columns={'transactionId':'transaction_id','visitorId':'visitor_id' })"
   ]
  },
  {
   "cell_type": "markdown",
   "metadata": {},
   "source": [
    "Изменим тип данных столбцов date таблиц orders и visitors с object на datetime. \n"
   ]
  },
  {
   "cell_type": "code",
   "execution_count": 12,
   "metadata": {},
   "outputs": [],
   "source": [
    "# приведение к datetime\n",
    "orders['date'] = orders['date'].map(lambda x: dt.datetime.strptime(x, '%Y-%m-%d'))\n",
    "visitors['date'] = visitors['date'].map(lambda x: dt.datetime.strptime(x, '%Y-%m-%d'))"
   ]
  },
  {
   "cell_type": "markdown",
   "metadata": {},
   "source": [
    "Проверим датасеты на явные дубликаты."
   ]
  },
  {
   "cell_type": "code",
   "execution_count": 13,
   "metadata": {},
   "outputs": [
    {
     "name": "stdout",
     "output_type": "stream",
     "text": [
      "0\n"
     ]
    }
   ],
   "source": [
    "print(orders.duplicated().sum())"
   ]
  },
  {
   "cell_type": "code",
   "execution_count": 14,
   "metadata": {},
   "outputs": [
    {
     "name": "stdout",
     "output_type": "stream",
     "text": [
      "0\n"
     ]
    }
   ],
   "source": [
    "print(visitors.duplicated().sum())"
   ]
  },
  {
   "cell_type": "code",
   "execution_count": 15,
   "metadata": {},
   "outputs": [
    {
     "name": "stdout",
     "output_type": "stream",
     "text": [
      "<class 'pandas.core.frame.DataFrame'>\n",
      "RangeIndex: 1197 entries, 0 to 1196\n",
      "Data columns (total 5 columns):\n",
      " #   Column          Non-Null Count  Dtype         \n",
      "---  ------          --------------  -----         \n",
      " 0   transaction_id  1197 non-null   int64         \n",
      " 1   visitor_id      1197 non-null   int64         \n",
      " 2   date            1197 non-null   datetime64[ns]\n",
      " 3   revenue         1197 non-null   int64         \n",
      " 4   group           1197 non-null   object        \n",
      "dtypes: datetime64[ns](1), int64(3), object(1)\n",
      "memory usage: 46.9+ KB\n"
     ]
    },
    {
     "data": {
      "text/plain": [
       "None"
      ]
     },
     "metadata": {},
     "output_type": "display_data"
    },
    {
     "name": "stdout",
     "output_type": "stream",
     "text": [
      "<class 'pandas.core.frame.DataFrame'>\n",
      "RangeIndex: 62 entries, 0 to 61\n",
      "Data columns (total 3 columns):\n",
      " #   Column    Non-Null Count  Dtype         \n",
      "---  ------    --------------  -----         \n",
      " 0   date      62 non-null     datetime64[ns]\n",
      " 1   group     62 non-null     object        \n",
      " 2   visitors  62 non-null     int64         \n",
      "dtypes: datetime64[ns](1), int64(1), object(1)\n",
      "memory usage: 1.6+ KB\n"
     ]
    }
   ],
   "source": [
    "#проверим типы данных\n",
    "display(orders.info())\n",
    "visitors.info()"
   ]
  },
  {
   "cell_type": "markdown",
   "metadata": {},
   "source": [
    "Явных дубликатов в датасетах orders и visitors не обнаружено."
   ]
  },
  {
   "cell_type": "markdown",
   "metadata": {},
   "source": [
    "## Приоритизация гипотез"
   ]
  },
  {
   "cell_type": "markdown",
   "metadata": {},
   "source": [
    "Применим фреймворк ICE для приоритизации гипотез и отсортируем их по убыванию приоритета."
   ]
  },
  {
   "cell_type": "code",
   "execution_count": 16,
   "metadata": {},
   "outputs": [
    {
     "data": {
      "text/html": [
       "<div>\n",
       "<style scoped>\n",
       "    .dataframe tbody tr th:only-of-type {\n",
       "        vertical-align: middle;\n",
       "    }\n",
       "\n",
       "    .dataframe tbody tr th {\n",
       "        vertical-align: top;\n",
       "    }\n",
       "\n",
       "    .dataframe thead th {\n",
       "        text-align: right;\n",
       "    }\n",
       "</style>\n",
       "<table border=\"1\" class=\"dataframe\">\n",
       "  <thead>\n",
       "    <tr style=\"text-align: right;\">\n",
       "      <th></th>\n",
       "      <th>hypothesis</th>\n",
       "      <th>reach</th>\n",
       "      <th>impact</th>\n",
       "      <th>confidence</th>\n",
       "      <th>efforts</th>\n",
       "      <th>ice</th>\n",
       "    </tr>\n",
       "  </thead>\n",
       "  <tbody>\n",
       "    <tr>\n",
       "      <th>8</th>\n",
       "      <td>Запустить акцию, дающую скидку на товар в день рождения</td>\n",
       "      <td>1</td>\n",
       "      <td>9</td>\n",
       "      <td>9</td>\n",
       "      <td>5</td>\n",
       "      <td>16.200000</td>\n",
       "    </tr>\n",
       "    <tr>\n",
       "      <th>0</th>\n",
       "      <td>Добавить два новых канала привлечения трафика, что позволит привлекать на 30% больше пользователей</td>\n",
       "      <td>3</td>\n",
       "      <td>10</td>\n",
       "      <td>8</td>\n",
       "      <td>6</td>\n",
       "      <td>13.333333</td>\n",
       "    </tr>\n",
       "    <tr>\n",
       "      <th>7</th>\n",
       "      <td>Добавить форму подписки на все основные страницы, чтобы собрать базу клиентов для email-рассылок</td>\n",
       "      <td>10</td>\n",
       "      <td>7</td>\n",
       "      <td>8</td>\n",
       "      <td>5</td>\n",
       "      <td>11.200000</td>\n",
       "    </tr>\n",
       "    <tr>\n",
       "      <th>6</th>\n",
       "      <td>Показать на главной странице баннеры с актуальными акциями и распродажами, чтобы увеличить конверсию</td>\n",
       "      <td>5</td>\n",
       "      <td>3</td>\n",
       "      <td>8</td>\n",
       "      <td>3</td>\n",
       "      <td>8.000000</td>\n",
       "    </tr>\n",
       "    <tr>\n",
       "      <th>2</th>\n",
       "      <td>Добавить блоки рекомендаций товаров на сайт интернет магазина, чтобы повысить конверсию и средний чек заказа</td>\n",
       "      <td>8</td>\n",
       "      <td>3</td>\n",
       "      <td>7</td>\n",
       "      <td>3</td>\n",
       "      <td>7.000000</td>\n",
       "    </tr>\n",
       "    <tr>\n",
       "      <th>1</th>\n",
       "      <td>Запустить собственную службу доставки, что сократит срок доставки заказов</td>\n",
       "      <td>2</td>\n",
       "      <td>5</td>\n",
       "      <td>4</td>\n",
       "      <td>10</td>\n",
       "      <td>2.000000</td>\n",
       "    </tr>\n",
       "    <tr>\n",
       "      <th>5</th>\n",
       "      <td>Добавить страницу отзывов клиентов о магазине, что позволит увеличить количество заказов</td>\n",
       "      <td>3</td>\n",
       "      <td>2</td>\n",
       "      <td>2</td>\n",
       "      <td>3</td>\n",
       "      <td>1.333333</td>\n",
       "    </tr>\n",
       "    <tr>\n",
       "      <th>3</th>\n",
       "      <td>Изменить структура категорий, что увеличит конверсию, т.к. пользователи быстрее найдут нужный товар</td>\n",
       "      <td>8</td>\n",
       "      <td>3</td>\n",
       "      <td>3</td>\n",
       "      <td>8</td>\n",
       "      <td>1.125000</td>\n",
       "    </tr>\n",
       "    <tr>\n",
       "      <th>4</th>\n",
       "      <td>Изменить цвет фона главной страницы, чтобы увеличить вовлеченность пользователей</td>\n",
       "      <td>3</td>\n",
       "      <td>1</td>\n",
       "      <td>1</td>\n",
       "      <td>1</td>\n",
       "      <td>1.000000</td>\n",
       "    </tr>\n",
       "  </tbody>\n",
       "</table>\n",
       "</div>"
      ],
      "text/plain": [
       "                                                                                                     hypothesis  \\\n",
       "8                                                       Запустить акцию, дающую скидку на товар в день рождения   \n",
       "0            Добавить два новых канала привлечения трафика, что позволит привлекать на 30% больше пользователей   \n",
       "7              Добавить форму подписки на все основные страницы, чтобы собрать базу клиентов для email-рассылок   \n",
       "6          Показать на главной странице баннеры с актуальными акциями и распродажами, чтобы увеличить конверсию   \n",
       "2  Добавить блоки рекомендаций товаров на сайт интернет магазина, чтобы повысить конверсию и средний чек заказа   \n",
       "1                                     Запустить собственную службу доставки, что сократит срок доставки заказов   \n",
       "5                      Добавить страницу отзывов клиентов о магазине, что позволит увеличить количество заказов   \n",
       "3           Изменить структура категорий, что увеличит конверсию, т.к. пользователи быстрее найдут нужный товар   \n",
       "4                              Изменить цвет фона главной страницы, чтобы увеличить вовлеченность пользователей   \n",
       "\n",
       "   reach  impact  confidence  efforts        ice  \n",
       "8      1       9           9        5  16.200000  \n",
       "0      3      10           8        6  13.333333  \n",
       "7     10       7           8        5  11.200000  \n",
       "6      5       3           8        3   8.000000  \n",
       "2      8       3           7        3   7.000000  \n",
       "1      2       5           4       10   2.000000  \n",
       "5      3       2           2        3   1.333333  \n",
       "3      8       3           3        8   1.125000  \n",
       "4      3       1           1        1   1.000000  "
      ]
     },
     "execution_count": 16,
     "metadata": {},
     "output_type": "execute_result"
    }
   ],
   "source": [
    "# посчитаем ICE для каждой гипотезы\n",
    "hypothesis['ice'] = (hypothesis['impact']*hypothesis['confidence'])/hypothesis['efforts']\n",
    "hypothesis.sort_values(by='ice',ascending=False)"
   ]
  },
  {
   "cell_type": "markdown",
   "metadata": {},
   "source": [
    "Согласно фреймворку ICE  наиболее перспективные гипотезы - 8,0,7"
   ]
  },
  {
   "cell_type": "markdown",
   "metadata": {},
   "source": [
    "Применим фреймворк RICE для приоритизации гипотез и отсортируем их по убыванию приоритета."
   ]
  },
  {
   "cell_type": "code",
   "execution_count": 17,
   "metadata": {},
   "outputs": [
    {
     "data": {
      "text/html": [
       "<div>\n",
       "<style scoped>\n",
       "    .dataframe tbody tr th:only-of-type {\n",
       "        vertical-align: middle;\n",
       "    }\n",
       "\n",
       "    .dataframe tbody tr th {\n",
       "        vertical-align: top;\n",
       "    }\n",
       "\n",
       "    .dataframe thead th {\n",
       "        text-align: right;\n",
       "    }\n",
       "</style>\n",
       "<table border=\"1\" class=\"dataframe\">\n",
       "  <thead>\n",
       "    <tr style=\"text-align: right;\">\n",
       "      <th></th>\n",
       "      <th>hypothesis</th>\n",
       "      <th>reach</th>\n",
       "      <th>impact</th>\n",
       "      <th>confidence</th>\n",
       "      <th>efforts</th>\n",
       "      <th>ice</th>\n",
       "      <th>rice</th>\n",
       "    </tr>\n",
       "  </thead>\n",
       "  <tbody>\n",
       "    <tr>\n",
       "      <th>7</th>\n",
       "      <td>Добавить форму подписки на все основные страницы, чтобы собрать базу клиентов для email-рассылок</td>\n",
       "      <td>10</td>\n",
       "      <td>7</td>\n",
       "      <td>8</td>\n",
       "      <td>5</td>\n",
       "      <td>11.200000</td>\n",
       "      <td>112.0</td>\n",
       "    </tr>\n",
       "    <tr>\n",
       "      <th>2</th>\n",
       "      <td>Добавить блоки рекомендаций товаров на сайт интернет магазина, чтобы повысить конверсию и средний чек заказа</td>\n",
       "      <td>8</td>\n",
       "      <td>3</td>\n",
       "      <td>7</td>\n",
       "      <td>3</td>\n",
       "      <td>7.000000</td>\n",
       "      <td>56.0</td>\n",
       "    </tr>\n",
       "    <tr>\n",
       "      <th>0</th>\n",
       "      <td>Добавить два новых канала привлечения трафика, что позволит привлекать на 30% больше пользователей</td>\n",
       "      <td>3</td>\n",
       "      <td>10</td>\n",
       "      <td>8</td>\n",
       "      <td>6</td>\n",
       "      <td>13.333333</td>\n",
       "      <td>40.0</td>\n",
       "    </tr>\n",
       "    <tr>\n",
       "      <th>6</th>\n",
       "      <td>Показать на главной странице баннеры с актуальными акциями и распродажами, чтобы увеличить конверсию</td>\n",
       "      <td>5</td>\n",
       "      <td>3</td>\n",
       "      <td>8</td>\n",
       "      <td>3</td>\n",
       "      <td>8.000000</td>\n",
       "      <td>40.0</td>\n",
       "    </tr>\n",
       "    <tr>\n",
       "      <th>8</th>\n",
       "      <td>Запустить акцию, дающую скидку на товар в день рождения</td>\n",
       "      <td>1</td>\n",
       "      <td>9</td>\n",
       "      <td>9</td>\n",
       "      <td>5</td>\n",
       "      <td>16.200000</td>\n",
       "      <td>16.2</td>\n",
       "    </tr>\n",
       "    <tr>\n",
       "      <th>3</th>\n",
       "      <td>Изменить структура категорий, что увеличит конверсию, т.к. пользователи быстрее найдут нужный товар</td>\n",
       "      <td>8</td>\n",
       "      <td>3</td>\n",
       "      <td>3</td>\n",
       "      <td>8</td>\n",
       "      <td>1.125000</td>\n",
       "      <td>9.0</td>\n",
       "    </tr>\n",
       "    <tr>\n",
       "      <th>1</th>\n",
       "      <td>Запустить собственную службу доставки, что сократит срок доставки заказов</td>\n",
       "      <td>2</td>\n",
       "      <td>5</td>\n",
       "      <td>4</td>\n",
       "      <td>10</td>\n",
       "      <td>2.000000</td>\n",
       "      <td>4.0</td>\n",
       "    </tr>\n",
       "    <tr>\n",
       "      <th>5</th>\n",
       "      <td>Добавить страницу отзывов клиентов о магазине, что позволит увеличить количество заказов</td>\n",
       "      <td>3</td>\n",
       "      <td>2</td>\n",
       "      <td>2</td>\n",
       "      <td>3</td>\n",
       "      <td>1.333333</td>\n",
       "      <td>4.0</td>\n",
       "    </tr>\n",
       "    <tr>\n",
       "      <th>4</th>\n",
       "      <td>Изменить цвет фона главной страницы, чтобы увеличить вовлеченность пользователей</td>\n",
       "      <td>3</td>\n",
       "      <td>1</td>\n",
       "      <td>1</td>\n",
       "      <td>1</td>\n",
       "      <td>1.000000</td>\n",
       "      <td>3.0</td>\n",
       "    </tr>\n",
       "  </tbody>\n",
       "</table>\n",
       "</div>"
      ],
      "text/plain": [
       "                                                                                                     hypothesis  \\\n",
       "7              Добавить форму подписки на все основные страницы, чтобы собрать базу клиентов для email-рассылок   \n",
       "2  Добавить блоки рекомендаций товаров на сайт интернет магазина, чтобы повысить конверсию и средний чек заказа   \n",
       "0            Добавить два новых канала привлечения трафика, что позволит привлекать на 30% больше пользователей   \n",
       "6          Показать на главной странице баннеры с актуальными акциями и распродажами, чтобы увеличить конверсию   \n",
       "8                                                       Запустить акцию, дающую скидку на товар в день рождения   \n",
       "3           Изменить структура категорий, что увеличит конверсию, т.к. пользователи быстрее найдут нужный товар   \n",
       "1                                     Запустить собственную службу доставки, что сократит срок доставки заказов   \n",
       "5                      Добавить страницу отзывов клиентов о магазине, что позволит увеличить количество заказов   \n",
       "4                              Изменить цвет фона главной страницы, чтобы увеличить вовлеченность пользователей   \n",
       "\n",
       "   reach  impact  confidence  efforts        ice   rice  \n",
       "7     10       7           8        5  11.200000  112.0  \n",
       "2      8       3           7        3   7.000000   56.0  \n",
       "0      3      10           8        6  13.333333   40.0  \n",
       "6      5       3           8        3   8.000000   40.0  \n",
       "8      1       9           9        5  16.200000   16.2  \n",
       "3      8       3           3        8   1.125000    9.0  \n",
       "1      2       5           4       10   2.000000    4.0  \n",
       "5      3       2           2        3   1.333333    4.0  \n",
       "4      3       1           1        1   1.000000    3.0  "
      ]
     },
     "execution_count": 17,
     "metadata": {},
     "output_type": "execute_result"
    }
   ],
   "source": [
    "# посчитаем RICE для каждой гипотезы\n",
    "hypothesis['rice'] = (hypothesis['reach']*hypothesis['impact']*hypothesis['confidence'])/hypothesis['efforts']\n",
    "hypothesis.sort_values(by='rice',ascending=False)"
   ]
  },
  {
   "cell_type": "markdown",
   "metadata": {},
   "source": [
    "Согласно фреймворку RICE  наиболее перспективные гипотезы - 7,2,0,6.\n",
    "\n",
    "Гипотеза под номером 7 (\"Добавить форму подписки на все основные страницы, чтобы собрать базу клиентов для email-рассылок\") согласно ICE занимала третье место по приоритетности, но согласно RICE занимает уже 1 место , так как  имеет наибольший охват пользователей среди всех гипотез и высокие уровень влияния и уверенности в оценках других параметров.\n",
    "\n",
    "После приоритизация по RICE гипотеза за номером 2 переместилась с 5-го места на второе,так как несмотря на небольшое влияние на пользователей, степень охвата пользователей высокая .\n",
    "\n",
    "И по ICE и по RICE в тройку лидеров входит гипотеза под номером 0 (\"Добавить два новых канала привлечения трафика, что позволит привлекать на 30% больше пользователей\"),но  за счет низкого охвата пользователей после приоритизеции по RICE вместо второго места занимает 3."
   ]
  },
  {
   "cell_type": "markdown",
   "metadata": {},
   "source": [
    "## Анализ A/B-теста"
   ]
  },
  {
   "cell_type": "markdown",
   "metadata": {},
   "source": [
    "Проанализируем A/B-тест."
   ]
  },
  {
   "cell_type": "markdown",
   "metadata": {},
   "source": [
    "Проверим есть ли пользователи , которые попали и в группу A и в группу B , так как наличие уникальных пользователей внутри каждой из групп одно из условий корректного А/В теста."
   ]
  },
  {
   "cell_type": "code",
   "execution_count": 18,
   "metadata": {
    "scrolled": false
   },
   "outputs": [
    {
     "name": "stdout",
     "output_type": "stream",
     "text": [
      "<class 'pandas.core.frame.DataFrame'>\n",
      "Int64Index: 1016 entries, 0 to 1196\n",
      "Data columns (total 5 columns):\n",
      " #   Column          Non-Null Count  Dtype         \n",
      "---  ------          --------------  -----         \n",
      " 0   transaction_id  1016 non-null   int64         \n",
      " 1   visitor_id      1016 non-null   int64         \n",
      " 2   date            1016 non-null   datetime64[ns]\n",
      " 3   revenue         1016 non-null   int64         \n",
      " 4   group           1016 non-null   object        \n",
      "dtypes: datetime64[ns](1), int64(3), object(1)\n",
      "memory usage: 47.6+ KB\n"
     ]
    }
   ],
   "source": [
    "# создадим список уникальных значений visitor_id группы  А\n",
    "list_a = orders.query('group==\"A\"')['visitor_id'].unique()\n",
    "# создадим список уникальных значений visitor_id, входящих и в группу А и в В\n",
    "list_all = orders[(orders['visitor_id'].isin(list_a))&(orders['group'] == \"B\")]['visitor_id']\n",
    "# удалим задублировавшихся пользователей\n",
    "orders = orders[~orders['visitor_id'].isin(list_all)]\n",
    "orders.info()"
   ]
  },
  {
   "cell_type": "markdown",
   "metadata": {
    "scrolled": true
   },
   "source": [
    "В таблице  с заказами пользователей есть клиенты, которые входят и в группу А и в группу В. Для клиентов , которые видели оба варианта , невозможно точно определить какой из вариантов теста оказал влияние на их поведение , поэтому датасет был очищен от таких пользователей."
   ]
  },
  {
   "cell_type": "markdown",
   "metadata": {},
   "source": [
    "### Кумулятивная выручка по группам"
   ]
  },
  {
   "cell_type": "markdown",
   "metadata": {},
   "source": [
    "Построим график кумулятивной выручки по группам. "
   ]
  },
  {
   "cell_type": "code",
   "execution_count": 19,
   "metadata": {},
   "outputs": [
    {
     "data": {
      "image/png": "[encoded data removed]",
      "text/plain": [
       "<Figure size 720x504 with 1 Axes>"
      ]
     },
     "metadata": {
      "needs_background": "light"
     },
     "output_type": "display_data"
    },
    {
     "name": "stdout",
     "output_type": "stream",
     "text": [
      "        date  revenue  orders\n",
      "8 2019-08-05   474413      99\n"
     ]
    }
   ],
   "source": [
    "# создаем массив уникальных пар значений дат и групп теста\n",
    "dates_groups = orders[['date', 'group']].drop_duplicates()\n",
    "\n",
    "# получаем агрегированные кумулятивные по дням данные о заказах\n",
    "orders_aggregated = dates_groups.apply(\n",
    "    lambda x: orders[\n",
    "        np.logical_and(\n",
    "            orders['date'] <= x['date'], orders['group'] == x['group']\n",
    "        )\n",
    "    ].agg(\n",
    "        {\n",
    "            'date': 'max',\n",
    "            'group': 'max',\n",
    "            'transaction_id': 'nunique',\n",
    "            'visitor_id': 'nunique',\n",
    "            'revenue': 'sum',\n",
    "        }\n",
    "    ),\n",
    "    axis=1,\n",
    ").sort_values(by=['date', 'group'])\n",
    "# получаем агрегированные кумулятивные по дням данные о посетителях интернет-магазина\n",
    "visitors_aggregated = dates_groups.apply(\n",
    "    lambda x: visitors[\n",
    "        np.logical_and(\n",
    "            visitors['date'] <= x['date'], visitors['group'] == x['group']\n",
    "        )\n",
    "    ].agg({'date': 'max', 'group': 'max', 'visitors': 'sum'}),\n",
    "    axis=1,\n",
    ").sort_values(by=['date', 'group'])\n",
    "# объединяем кумулятивные данные в одной таблице и присваиваем ее столбцам понятные названия\n",
    "cumulative_data = orders_aggregated.merge( visitors_aggregated, left_on=['date', 'group'], right_on=['date', 'group'])\n",
    "cumulative_data.columns = [\n",
    "                            'date',\n",
    "                            'group',\n",
    "                            'orders',\n",
    "                            'buyers',\n",
    "                            'revenue',\n",
    "                            'visitors',\n",
    "                            ]\n",
    "# датафрейм с кумулятивным количеством заказов и кумулятивной выручкой по дням в группе А\n",
    "cumulative_revenue_a = cumulative_data[cumulative_data['group'] == 'A'][['date','revenue', 'orders']]\n",
    "# датафрейм с кумулятивным количеством заказов и кумулятивной выручкой по дням в группе В\n",
    "cumulative_revenue_b = cumulative_data[cumulative_data['group'] == 'B'][['date','revenue', 'orders']]\n",
    "# Строим график выручки группы А\n",
    "plt.figure(figsize=(10, 7))\n",
    "plt.plot(cumulative_revenue_a['date'],cumulative_revenue_a['revenue'], label = 'сегмент A' )\n",
    "# Строим график выручки группы В\n",
    "plt.plot(cumulative_revenue_b['date'],cumulative_revenue_b['revenue'], label = 'сегмент B')\n",
    "plt.xlabel('date',fontsize=14)\n",
    "plt.ylabel('revenue (mln rub)',fontsize=14)\n",
    "plt.legend()\n",
    "plt.xticks(rotation=50)\n",
    "plt.title('Кумулятивная выручка по группам',fontsize=15)\n",
    "plt.show()\n",
    "print(cumulative_revenue_a[cumulative_revenue_a['date'] == '2019-08-05'])"
   ]
  },
  {
   "cell_type": "markdown",
   "metadata": {},
   "source": [
    "В начале проведения теста кумулятивная выручка каждой из групп колебалась вокруг одинаковых значений. Затем выручка сегмента В превысила выручку сегмента А.\n",
    "\n",
    "На графике видны единичные точки, в которых выручка сегмента В резко выросла , что похоже на влияние отдельных выбросов.До этого момента расхождение между сегментами было не таким значительным. Возможно в группу В попало несколько крупных заказов."
   ]
  },
  {
   "cell_type": "markdown",
   "metadata": {},
   "source": [
    "### Кумулятивный средний чек по группам"
   ]
  },
  {
   "cell_type": "markdown",
   "metadata": {},
   "source": [
    "Построим график кумулятивного среднего чека по группам и относительное изменение кумулятивного среднего чека группы B к группе A."
   ]
  },
  {
   "cell_type": "code",
   "execution_count": 20,
   "metadata": {},
   "outputs": [
    {
     "data": {
      "image/png": "[encoded data removed]",
      "text/plain": [
       "<Figure size 1152x432 with 2 Axes>"
      ]
     },
     "metadata": {
      "needs_background": "light"
     },
     "output_type": "display_data"
    }
   ],
   "source": [
    "# собираем данные в одном датафрейме\n",
    "merged_cumulative_revenue = cumulative_revenue_a.merge(cumulative_revenue_b,how=\"left\",left_on='date', right_on='date',suffixes = ['A','B'])\n",
    "# зададим размеры сетки\n",
    "plt.figure(figsize = (16,6))\n",
    "# график кумулятивного среднего чека по группам\n",
    "ax1=plt.subplot(1,2,1)\n",
    "ax1 = plt.plot(cumulative_revenue_a['date'],(cumulative_revenue_a['revenue']/cumulative_revenue_a['orders']),label='сегмент A' )\n",
    "plt.plot(cumulative_revenue_b['date'],(cumulative_revenue_b['revenue']/cumulative_revenue_b['orders']),label='сегмент B' )\n",
    "plt.title('Кумулятивный средний чек в разрезе групп')\n",
    "plt.xlabel('date',fontsize=13)\n",
    "plt.ylabel('revenue per order (RUB)',fontsize=13)\n",
    "plt.legend()\n",
    "plt.xticks(rotation=50)\n",
    "\n",
    "# cтроим отношение средних чеков\n",
    "ax2 = plt.subplot(1,2,2)\n",
    "ax2=plt.plot(merged_cumulative_revenue['date'],(merged_cumulative_revenue['revenueB']/ merged_cumulative_revenue['ordersB'])/(merged_cumulative_revenue['revenueA']/ merged_cumulative_revenue['ordersA'])-1)\n",
    "plt.axhline(y=0, linestyle='--', color='black')\n",
    "plt.xticks(rotation=50)\n",
    "plt.xlabel('date',fontsize=13)\n",
    "plt.ylabel('ratio',fontsize=13)\n",
    "plt.title('Относительное изменение кумулятивного среднего чека группы В к А')\n",
    "plt.show()"
   ]
  },
  {
   "cell_type": "markdown",
   "metadata": {},
   "source": [
    "В начале проведения теста средний чек сильно колеблется в обоих группах , после 17 августа его значение фиксируется. К концу теста средний чек группы В превышает средний чек группы А.\n",
    "\n",
    "По графику кумулятивного среднего чека по группам также видны выбросы, искажающие результаты. Аномальный рост размера среднего чека сегмента В приходится на тот же временной период , что и аномальный рост кумулятивной выручки."
   ]
  },
  {
   "cell_type": "markdown",
   "metadata": {},
   "source": [
    "### Кумулятивная конверсия по группам"
   ]
  },
  {
   "cell_type": "markdown",
   "metadata": {},
   "source": [
    "Построим график кумулятивной конверсии по группам и относительного изменения кумулятивной конверсии группы B к группе A."
   ]
  },
  {
   "cell_type": "code",
   "execution_count": 21,
   "metadata": {},
   "outputs": [
    {
     "data": {
      "image/png": "[encoded data removed]",
      "text/plain": [
       "<Figure size 1152x432 with 2 Axes>"
      ]
     },
     "metadata": {
      "needs_background": "light"
     },
     "output_type": "display_data"
    }
   ],
   "source": [
    "# считаем кумулятивную конверсию\n",
    "cumulative_data['conversion'] = cumulative_data['orders']/cumulative_data['visitors']\n",
    "# отделяем данные по группе A\n",
    "cumulative_data_a = cumulative_data[cumulative_data['group'] == 'A']\n",
    "# отделяем данные по группе B\n",
    "cumulative_data_b = cumulative_data[cumulative_data['group'] == 'B']\n",
    "# собираем данные в одном датафрейме\n",
    "merged_сumulative_сonversions = cumulative_data_a[['date','conversion']].merge(cumulative_data_b[['date','conversion']],left_on='date', right_on = 'date',how='left',suffixes=['A', 'B'])\n",
    "# строим графики\n",
    "# размер сетки\n",
    "plt.figure(figsize=(16,6))\n",
    "# график кумулятивной конверсии по группам\n",
    "ax1=plt.subplot(1,2,1)\n",
    "ax1= plt.plot(cumulative_data_a['date'],cumulative_data_a['conversion'],label='сегмент A')\n",
    "plt.plot(cumulative_data_b['date'],cumulative_data_b['conversion'],label='сегмент B')\n",
    "plt.legend()\n",
    "plt.title('Кумулятивная конверсия в разрезе групп')\n",
    "plt.xlabel('date',fontsize=13)\n",
    "plt.ylabel('conversion (ratio)',fontsize=13)\n",
    "plt.xticks(rotation=50)\n",
    "plt.axis([dt.datetime(2019, 8, 1), dt.datetime(2019, 8, 31), 0, 0.05])\n",
    "\n",
    "# график относительного изменения кумулятивной конверсии группы B к группе A\n",
    "ax2=plt.subplot(1,2,2)\n",
    "ax2= plt.plot(merged_сumulative_сonversions['date'],merged_сumulative_сonversions['conversionB']/merged_сumulative_сonversions['conversionA']-1)#,label=\"Относительный прирост конверсии группы B относительно группы A\")\n",
    "plt.title('Относительный прирост конверсии группы B к группе A')\n",
    "plt.axhline(color='black',y=0,linestyle='--')\n",
    "plt.axhline(color='grey',y=0.2,linestyle='--')\n",
    "plt.axis([\"2019-08-01\", '2019-08-31', -0.5, 0.5])\n",
    "plt.xticks(rotation=50)\n",
    "plt.xlabel('date',fontsize=13)\n",
    "plt.ylabel('ratio',fontsize=13)\n",
    "plt.show()\n"
   ]
  },
  {
   "cell_type": "markdown",
   "metadata": {},
   "source": [
    "Немного ранее середины теста конверсия установилась около своего среднего значения. В начале сегмент А имел большую конверсию , затем после 5 августа конверсия сегмента В выросла и зафиксировалась, в то время как конверсия сегмента А просела.\n"
   ]
  },
  {
   "cell_type": "markdown",
   "metadata": {},
   "source": [
    "### Анализ выбросов : крайние значения данных"
   ]
  },
  {
   "cell_type": "markdown",
   "metadata": {},
   "source": [
    "По кумулятивным графикам было видно влияние аномалий на показатели, что может привести к искажению результатов теста и сделать победителем неверную группу. \n",
    "Оценим количество заказов по пользователям на выбросы с помощью точечного графика."
   ]
  },
  {
   "cell_type": "code",
   "execution_count": 22,
   "metadata": {},
   "outputs": [
    {
     "data": {
      "image/png": "[encoded data removed]",
      "text/plain": [
       "<Figure size 792x504 with 1 Axes>"
      ]
     },
     "metadata": {
      "needs_background": "light"
     },
     "output_type": "display_data"
    }
   ],
   "source": [
    "# сгруппируем заказы по пользователям с подсчетом количества заказов\n",
    "orders_by_users = (\n",
    "                orders.groupby('visitor_id', as_index=False)\n",
    "                .agg({'transaction_id' : 'nunique'}) \n",
    "                )\n",
    "orders_by_users.columns = ['visitor_id', 'orders']    \n",
    "# отсортирует датафрейм по количеству заказов\n",
    "orders_by_users = orders_by_users.sort_values(by='orders',ascending=False)\n",
    "orders_by_users.head(10)\n",
    "# точечный график\n",
    "plt.figure(figsize=(11, 7))\n",
    "x_values = pd.Series(range(0, len(orders_by_users)))\n",
    "plt.scatter(x_values,orders_by_users['orders'])\n",
    "plt.title('Количество заказов на 1-го пользователя',fontsize=14)\n",
    "plt.xlabel(' users',fontsize=14)\n",
    "plt.ylabel('orders',fontsize=14)\n",
    "plt.show()"
   ]
  },
  {
   "cell_type": "markdown",
   "metadata": {},
   "source": [
    "Пользователей , сделавших два и более заказов, совсем мало. В основном, все пользователи оформляли по одному заказу за рассматриваемый период.\n",
    "\n",
    "Определим границу аномальных заказов."
   ]
  },
  {
   "cell_type": "code",
   "execution_count": 23,
   "metadata": {},
   "outputs": [
    {
     "name": "stdout",
     "output_type": "stream",
     "text": [
      "95 перцентиль -  [1.]\n",
      "99 перцентиль -  [2.]\n"
     ]
    }
   ],
   "source": [
    "print ('95 перцентиль - ',np.percentile(orders_by_users['orders'],[95]))\n",
    "print ('99 перцентиль - ',np.percentile(orders_by_users['orders'],[99]))"
   ]
  },
  {
   "cell_type": "markdown",
   "metadata": {},
   "source": [
    "Только 5% пользователей оформили 2 заказа и 1% - 3 заказа. Так как количество заказов влияет на конверсию , разумно будет отсеять аномальных пользователей с количеством заказов более двух.\n",
    "\n",
    "Оценим размер заказов на аномальность, построим точечный график стоимостей заказов и посчитаем 95,99 перцентили."
   ]
  },
  {
   "cell_type": "code",
   "execution_count": 24,
   "metadata": {},
   "outputs": [
    {
     "data": {
      "image/png": "[encoded data removed]",
      "text/plain": [
       "<Figure size 792x504 with 1 Axes>"
      ]
     },
     "metadata": {
      "needs_background": "light"
     },
     "output_type": "display_data"
    },
    {
     "name": "stdout",
     "output_type": "stream",
     "text": [
      "95 перцентиль -  [26785.]\n",
      "99 перцентиль -  [53904.]\n"
     ]
    }
   ],
   "source": [
    "# точечный график стоимостей заказов\n",
    "x_values = pd.Series(range(0, len(orders['revenue'])))\n",
    "plt.figure(figsize=(11, 7))\n",
    "plt.scatter(x_values,orders['revenue'])\n",
    "plt.title('Распределение размера заказов по их частоте',fontsize=15)\n",
    "plt.xlabel(' users',fontsize=14)\n",
    "plt.ylabel('revenue per order',fontsize=14)\n",
    "plt.show()\n",
    "print ('95 перцентиль - ',np.percentile(orders['revenue'],[95]))\n",
    "print ('99 перцентиль - ',np.percentile(orders['revenue'],[99]))"
   ]
  },
  {
   "cell_type": "markdown",
   "metadata": {},
   "source": [
    "По графику видно , что есть несколько дорогих заказов . 5 % пользователей оформили заказы на сумму свыше 26,8 тыс.руб. и только 1% пользователей имеет заказы свыше 53,9 тыс.руб.\n",
    "\n",
    "Установим  границу для отсеивания аномальных значений стоимостей заказов на уровне 95 перцентиля. "
   ]
  },
  {
   "cell_type": "markdown",
   "metadata": {},
   "source": [
    "### Анализ статистической значимоси различий показателей по неочищенным данным."
   ]
  },
  {
   "cell_type": "markdown",
   "metadata": {},
   "source": [
    "Посчитаем статистическую значимость различий в конверсии  между группами по «сырым» данным — без удаления аномальных пользователей.\n",
    "\n",
    "Сформулируем гипотезы.\n",
    "\n",
    "Нулевая: различий в конверсии  между группами нет. \n",
    "\n",
    "Альтернативная: различия в конверсии  между группами есть.\n",
    "\n",
    "Уровень статистической значимости установим в 5%."
   ]
  },
  {
   "cell_type": "code",
   "execution_count": 25,
   "metadata": {
    "scrolled": false
   },
   "outputs": [
    {
     "data": {
      "text/html": [
       "<div>\n",
       "<style scoped>\n",
       "    .dataframe tbody tr th:only-of-type {\n",
       "        vertical-align: middle;\n",
       "    }\n",
       "\n",
       "    .dataframe tbody tr th {\n",
       "        vertical-align: top;\n",
       "    }\n",
       "\n",
       "    .dataframe thead th {\n",
       "        text-align: right;\n",
       "    }\n",
       "</style>\n",
       "<table border=\"1\" class=\"dataframe\">\n",
       "  <thead>\n",
       "    <tr style=\"text-align: right;\">\n",
       "      <th></th>\n",
       "      <th>date</th>\n",
       "      <th>visitors_per_date_a</th>\n",
       "      <th>visitors_per_date_b</th>\n",
       "    </tr>\n",
       "  </thead>\n",
       "  <tbody>\n",
       "    <tr>\n",
       "      <th>0</th>\n",
       "      <td>2019-08-01</td>\n",
       "      <td>719</td>\n",
       "      <td>713</td>\n",
       "    </tr>\n",
       "    <tr>\n",
       "      <th>1</th>\n",
       "      <td>2019-08-02</td>\n",
       "      <td>619</td>\n",
       "      <td>581</td>\n",
       "    </tr>\n",
       "    <tr>\n",
       "      <th>2</th>\n",
       "      <td>2019-08-03</td>\n",
       "      <td>507</td>\n",
       "      <td>509</td>\n",
       "    </tr>\n",
       "    <tr>\n",
       "      <th>3</th>\n",
       "      <td>2019-08-04</td>\n",
       "      <td>717</td>\n",
       "      <td>770</td>\n",
       "    </tr>\n",
       "    <tr>\n",
       "      <th>4</th>\n",
       "      <td>2019-08-05</td>\n",
       "      <td>756</td>\n",
       "      <td>707</td>\n",
       "    </tr>\n",
       "  </tbody>\n",
       "</table>\n",
       "</div>"
      ],
      "text/plain": [
       "        date  visitors_per_date_a  visitors_per_date_b\n",
       "0 2019-08-01                  719                  713\n",
       "1 2019-08-02                  619                  581\n",
       "2 2019-08-03                  507                  509\n",
       "3 2019-08-04                  717                  770\n",
       "4 2019-08-05                  756                  707"
      ]
     },
     "metadata": {},
     "output_type": "display_data"
    },
    {
     "name": "stdout",
     "output_type": "stream",
     "text": [
      "p_value 0.011\n",
      "Относительное различие конверсии B к А 0.160\n",
      "Отвергаем нулевую гипотезу\n"
     ]
    }
   ],
   "source": [
    "# фильтруем дату и количество посетителей для гр А\n",
    "visitors_a_daily = visitors[visitors['group'] == 'A'][['date', 'visitors']]\n",
    "visitors_a_daily.columns = ['date', 'visitors_per_date_a']\n",
    "# фильтруем дату и количество посетителей для гр B\n",
    "visitors_b_daily = visitors[visitors['group'] == 'B'][['date', 'visitors']]\n",
    "visitors_b_daily.columns = ['date', 'visitors_per_date_b']\n",
    "\n",
    "# создаем единый датасет \n",
    "data = visitors_a_daily.merge(visitors_b_daily, left_on='date', right_on='date', how='left')\n",
    "display(data.head(5))\n",
    "\n",
    "# таблица для пользователей гр А, совершивших хотя бы 1 заказ,  указано число заказов.\n",
    "orders_by_users_a = (\n",
    "                    orders.query('group==\"A\"')\n",
    "                    .groupby('visitor_id',as_index=False)\n",
    "                    .agg({'transaction_id':pd.Series.nunique})\n",
    ")\n",
    "orders_by_users_a.columns = ['visitor_id', 'orders']\n",
    "# таблица для пользователей гр B, совершивших хотя бы 1 заказ,  указано число заказов.\n",
    "orders_by_users_b = (\n",
    "                    orders.query('group==\"B\"')\n",
    "                    .groupby('visitor_id',as_index=False)\n",
    "                    .agg({'transaction_id':pd.Series.nunique})\n",
    ")\n",
    "orders_by_users_b.columns = ['visitor_id', 'orders']\n",
    "# таблица с заказами по  пользователям  и нулями для пользователей не совершивших заказ\n",
    "sample_a = pd.concat([orders_by_users_a['orders'],pd.Series(0, index=np.arange(data['visitors_per_date_a'].sum() - len(orders_by_users_a['orders'])), name='orders')],axis=0)\n",
    "\n",
    "sample_b = pd.concat([orders_by_users_b['orders'],pd.Series(0, index=np.arange(data['visitors_per_date_b'].sum() - len(orders_by_users_b['orders'])), name='orders')],axis=0)\n",
    "\n",
    "# применим тест Манна Уитни для нахождения статистической значимости различия конверсий\n",
    "alpha = 0.05\n",
    "pvalue = st.mannwhitneyu(sample_a,sample_b)[1]\n",
    "print('p_value',\"{0:.3f}\".format(pvalue))\n",
    "\n",
    "# Относительный прирост конверсии B к среднему чеку А\n",
    "print('Относительное различие конверсии B к А',\"{0:.3f}\".format(sample_b.mean()/sample_a.mean()-1))\n",
    "\n",
    "# сравним  получившееся p-значение с заданным уровнем статистической значимости\n",
    "\n",
    "if pvalue < alpha:\n",
    "    print(\"Отвергаем нулевую гипотезу\")\n",
    "else:\n",
    "    print(\"Не получилось отвергнуть нулевую гипотезу\")"
   ]
  },
  {
   "cell_type": "markdown",
   "metadata": {},
   "source": [
    "Анализ данных без удаления аномалий показывает, что есть статистически значимые расхождения в конверсиях двух групп(Аи В).Относительный прирост конверсии группы B к конверсии группы А равен 16%.\n",
    "\n",
    "Посчитаем статистическую значимость различий в  среднем чеке между группами по «сырым» данным .\n",
    "\n",
    "Сформулируем гипотезы.\n",
    "\n",
    "Нулевая: различий в среднем чеке между группами нет. \n",
    "\n",
    "Альтернативная: различия в среднем чеке между группами есть.\n",
    "\n",
    "Уровень статистической значимости установим в 5%."
   ]
  },
  {
   "cell_type": "code",
   "execution_count": 26,
   "metadata": {},
   "outputs": [
    {
     "name": "stdout",
     "output_type": "stream",
     "text": [
      "p_value 0.829\n",
      "Относительное различие среднего чека B к А 0.287\n",
      "Не получилось отвергнуть нулевую гипотезу\n"
     ]
    }
   ],
   "source": [
    "# применим тест Манна Уитни для нахождения статистической значимости различия средних чеков А и В\n",
    "alpha = 0.05\n",
    "\n",
    "pvalue = st.mannwhitneyu(orders[orders['group']=='A']['revenue'], orders[orders['group']=='B']['revenue'])[1]\n",
    "\n",
    "print('p_value','{0:.3f}'.format(pvalue))\n",
    "\n",
    "# Относительный прирост среднего чека B к среднему чеку А\n",
    "print('Относительное различие среднего чека B к А','{0:.3f}'.format(orders[orders['group']=='B']['revenue'].mean()/orders[orders['group']=='A']['revenue'].mean()-1))\n",
    "\n",
    "# сравним  получившееся p-значение с заданным уровнем статистической значимости\n",
    "if pvalue < alpha:\n",
    "    print(\"Отвергаем нулевую гипотезу\")\n",
    "else:\n",
    "    print(\"Не получилось отвергнуть нулевую гипотезу\")"
   ]
  },
  {
   "cell_type": "markdown",
   "metadata": {},
   "source": [
    "P_value больше 0.05. Статистически значимых различий между средними чеками двух групп не обнаружено, несмотря на относительную разность показателя группы В к группе А в 28%.   "
   ]
  },
  {
   "cell_type": "markdown",
   "metadata": {},
   "source": [
    "### Анализ статистической значимоси различий показателей по очищенным данным."
   ]
  },
  {
   "cell_type": "markdown",
   "metadata": {},
   "source": [
    "Приступим к очистке данных от аномалий и расчету статистической значимости различий показателей конверсии и среднего чека по очищенным данным.\n",
    "\n",
    "Отсеим 1% пользователей, оформивших более 2 заказов и до 5%процентов пользователей, чьи заказы были на сумму от 26785 и выше. "
   ]
  },
  {
   "cell_type": "code",
   "execution_count": 27,
   "metadata": {
    "scrolled": true
   },
   "outputs": [
    {
     "data": {
      "text/plain": [
       "568     113298937\n",
       "1099    148427295\n",
       "928     204675465\n",
       "33      249864742\n",
       "684     358944393\n",
       "Name: visitor_id, dtype: int64"
      ]
     },
     "execution_count": 27,
     "metadata": {},
     "output_type": "execute_result"
    }
   ],
   "source": [
    "# пользователи с числом заказов более 2\n",
    "users_with_many_orders = pd.concat(\n",
    "    [\n",
    "        orders_by_users_a[orders_by_users_a['orders'] > 2]['visitor_id'],\n",
    "        orders_by_users_b[orders_by_users_b['orders'] > 2]['visitor_id'],\n",
    "    ],\n",
    "    axis=0,\n",
    ")\n",
    "# пользователи с аномально дорогими заказами\n",
    "users_with_expensive_orders = orders[orders['revenue'] >= 26785]['visitor_id']\n",
    "# объединенный список пользовтелей для исключения\n",
    "abnormal_users = (\n",
    "    pd.concat([users_with_many_orders, users_with_expensive_orders], axis=0)\n",
    "    .drop_duplicates()\n",
    "    .sort_values()\n",
    ")\n",
    "abnormal_users.head(5)"
   ]
  },
  {
   "cell_type": "markdown",
   "metadata": {},
   "source": [
    " Посчитаем статистическую значимость различия конверсии после удаления аномальных пользователей.\n",
    " \n",
    " Сформулируем гипотезы.\n",
    "\n",
    "Нулевая: различий в конверсии по очищеным данным между группами нет. \n",
    "\n",
    "Альтернативная: различия в конверсии по очищеным данным между группами есть.\n",
    "\n",
    "Уровень статистической значимости установим в 5%."
   ]
  },
  {
   "cell_type": "code",
   "execution_count": 28,
   "metadata": {},
   "outputs": [
    {
     "name": "stdout",
     "output_type": "stream",
     "text": [
      "p_value 0.01235\n",
      "Относительное различие конверсии B к А 0.182\n",
      "Отвергаем нулевую гипотезу\n"
     ]
    }
   ],
   "source": [
    "# данные по группе А без аномалий\n",
    "sample_a_filtered = pd.concat(\n",
    "    [\n",
    "        orders_by_users_a[\n",
    "            np.logical_not(orders_by_users_a['visitor_id'].isin(abnormal_users))\n",
    "        ]['orders'],\n",
    "        pd.Series(\n",
    "            0,\n",
    "            index=np.arange(\n",
    "                data['visitors_per_date_a'].sum() - len(orders_by_users_a['orders'])\n",
    "            ),\n",
    "            name='orders',\n",
    "        ),\n",
    "    ],\n",
    "    axis=0,\n",
    ")\n",
    "\n",
    "# данные по группе В без аномалий\n",
    "sample_b_filtered = pd.concat(\n",
    "    [\n",
    "        orders_by_users_b[\n",
    "            np.logical_not(orders_by_users_b['visitor_id'].isin(abnormal_users))\n",
    "        ]['orders'],\n",
    "        pd.Series(\n",
    "            0,\n",
    "            index=np.arange(\n",
    "                data['visitors_per_date_b'].sum() - len(orders_by_users_b['orders'])\n",
    "            ),\n",
    "            name='orders',\n",
    "        ),\n",
    "    ],\n",
    "    axis=0,\n",
    ") \n",
    "# применим тест Манна Уитни для нахождения статистической значимости различия конверсий А и В\n",
    "alpha = 0.05\n",
    "\n",
    "pvalue = st.mannwhitneyu(sample_a_filtered, sample_b_filtered)[1]\n",
    "print('p_value','{0:.5f}'.format(pvalue))\n",
    "# Относительный прирост конверсий очищенных данных\n",
    "print('Относительное различие конверсии B к А','{0:.3f}'.format(sample_b_filtered.mean()/sample_a_filtered.mean()-1)) \n",
    "\n",
    "# сравним  получившееся p-значение с заданным уровнем статистической значимости\n",
    "if pvalue < alpha:\n",
    "    print(\"Отвергаем нулевую гипотезу\")\n",
    "else:\n",
    "    print(\"Не получилось отвергнуть нулевую гипотезу\")"
   ]
  },
  {
   "cell_type": "markdown",
   "metadata": {},
   "source": [
    "Как и в случае анализа по сырым данным статистическая значимость достигнута, чтобы сказать что конверсия двух групп имеет расхождения.\n",
    "\n",
    "Конверсия сегмента В на 18% лучше конверсии сегмента А, что на 2 процентных пункта выше, чем по сырым данным.\n",
    "\n",
    " Посчитаем статистическую значимость различий в среднем чеке заказа между группами по «очищенным» данным.\n",
    "\n",
    " \n",
    "   Сформулируем гипотезы.\n",
    "\n",
    "Нулевая: различий в  среднем чеке заказа по очищеным данным между группами нет. \n",
    "\n",
    "Альтернативная: различия в среднем чеке заказа по очищеным данным между группами есть.\n",
    "\n",
    "Уровень статистической значимости установим в 5%."
   ]
  },
  {
   "cell_type": "code",
   "execution_count": 29,
   "metadata": {},
   "outputs": [
    {
     "name": "stdout",
     "output_type": "stream",
     "text": [
      "p_value 0.646\n",
      "Относительное различие среднего чека B к А -0.048\n",
      "Не получилось отвергнуть нулевую гипотезу\n"
     ]
    }
   ],
   "source": [
    "# применим тест Манна Уитни для нахождения статистической значимости различия средних чеков А и В\n",
    "alpha = 0.05\n",
    "pvalue =  st.mannwhitneyu(\n",
    "            orders[np.logical_and(orders['group'] == 'A', np.logical_not(orders['visitor_id'].isin(abnormal_users)),)]['revenue'],\n",
    "            orders[np.logical_and(orders['group'] == 'B',np.logical_not(orders['visitor_id'].isin(abnormal_users)),)]['revenue'],)[1]\n",
    "print('p_value','{0:.3f}'.format(pvalue))                   \n",
    "# Относительный прирост средних чеков В к А по  очищенным данным\n",
    "print('Относительное различие среднего чека B к А',\n",
    "    \"{0:.3f}\".format(\n",
    "        orders[np.logical_and(orders['group'] == 'B',np.logical_not(orders['visitor_id'].isin(abnormal_users)),)]['revenue'].mean()\n",
    "        / orders[np.logical_and(orders['group'] == 'A',np.logical_not(orders['visitor_id'].isin(abnormal_users)),)]['revenue'].mean()\n",
    "        - 1\n",
    "    )\n",
    ")   \n",
    "# сравним  получившееся p-значение с заданным уровнем статистической значимости\n",
    "if pvalue < alpha:\n",
    "    print(\"Отвергаем нулевую гипотезу\")\n",
    "else:\n",
    "    print(\"Не получилось отвергнуть нулевую гипотезу\")"
   ]
  },
  {
   "cell_type": "markdown",
   "metadata": {},
   "source": [
    "После очистки данных от выбросов статистических расхождений между средними чеками двух групп не обнаружено. После удаления выбросов относительное различие среднего чека группы B к А снизилось с 28% до 5% в пользу показателя группы А.\n",
    "Это говорит о том, что основные выбросы были в группе В."
   ]
  },
  {
   "cell_type": "markdown",
   "metadata": {},
   "source": [
    "## Выводы"
   ]
  },
  {
   "cell_type": "markdown",
   "metadata": {},
   "source": [
    "Цель проводимого исследования - проанализировать результаты A/B-тест и принять решения об остановке теста или дальнейшем его продолжении.\n",
    "\n",
    "В ходе исследования была проведена предобработка данных, скорректированны используемые типы данных,проведены промежуточные расчеты,что позволило провести приоритизацию гипотез и анализ A/B-теста.\n",
    "\n",
    "В ходе анализа было установлено, что :\n",
    "\n",
    "1. В изначальных данных содержались аномальные по своей величине заказы пользователей и пользователи с выбивающимся количеством заказов.\n",
    "\n",
    "Данные выбросы влияли на оценку результатов сегментов А и В. Так по графику кумулятивного среднего чека была видна значительная разница между средним чеком сегмента B и  средним чеком сегмента А, которая сформировалась за счет аномально дорогих заказов пользователей группы B. \n",
    "\n",
    "\n",
    "2. Существует проблема деления трафика.\n",
    "\n",
    "В данных были пользователи, попавшие сразу в две тестируемые группы.  А значит по этим пользователям было невозможно определить, что именно повлияло на их решения и единственным выходом было удаление данных пользователей из датасета.Если бы таких пользователей было бы достаточное количество , то после их удаления могла возникнуть проблема недостаточности данных для анализа. Поэтому так важно уделить в будущем внимание  устранению данной проблемы.\n",
    "\n",
    "\n",
    "3. Тест можно остановить , зафиксировав победу сегмента В.\n",
    "\n",
    "Проверка с помощью непараметрического теста Манна-Уитни  показала,что :\n",
    " - Есть статистически значимое различие в конверсии между группами как по сырым данным, так и после фильтрации аномалий. После удаления выбросов конверсия сегмента В выше конверсии сегмента А на 18 процентных пункта.\n",
    " \n",
    " \n",
    " - Как по сырым данным, так и после фильтрации аномалий нет статистически значимого различия по среднему чеку между группами. После удаление выбросов относительная разница между средними чеками двух групп составила 4,8% в пользу сегмента А.\n",
    " \n",
    " \n",
    "  Несмотря на то,что статистическая значимость различий в среднем чеке не достигнута, можно остановить А/В-тест. Так как по кумулятивным графикам видно, что показатели выручки, среднего чека и конверсии уже зафиксировались возле своих средних значений , перестав сильно колебаться как в начале теста . И смысла продолжать тест нет: лучше группы A группа B в части среднего чека уже не станет. \n",
    " \n",
    " \n",
    "   По результатм А/В-тест зафикируем победу сегмента B, так как конверсия сегмента B статистически значимо лучше конверсии сегмента А , а средний чек сегмента B не меньше среднего чека сегмента А.\n",
    "   \n",
    "  "
   ]
  }
 ],
 "metadata": {
  "ExecuteTimeLog": [
   {
    "duration": 57,
    "start_time": "2022-05-29T10:35:11.118Z"
   },
   {
    "duration": 7,
    "start_time": "2022-05-29T10:35:54.285Z"
   },
   {
    "duration": 1744,
    "start_time": "2022-05-29T10:38:54.394Z"
   },
   {
    "duration": 73,
    "start_time": "2022-05-29T10:39:41.369Z"
   },
   {
    "duration": 33,
    "start_time": "2022-05-29T10:45:59.809Z"
   },
   {
    "duration": 29,
    "start_time": "2022-05-29T10:46:15.006Z"
   },
   {
    "duration": 29,
    "start_time": "2022-05-29T10:46:25.514Z"
   },
   {
    "duration": 14,
    "start_time": "2022-05-29T10:46:53.481Z"
   },
   {
    "duration": 96,
    "start_time": "2022-05-29T10:48:51.373Z"
   },
   {
    "duration": 65,
    "start_time": "2022-05-29T10:54:41.851Z"
   },
   {
    "duration": 29,
    "start_time": "2022-05-29T10:54:46.180Z"
   },
   {
    "duration": 12,
    "start_time": "2022-05-29T10:58:48.265Z"
   },
   {
    "duration": 112,
    "start_time": "2022-05-29T10:58:56.473Z"
   },
   {
    "duration": 22,
    "start_time": "2022-05-29T10:59:04.645Z"
   },
   {
    "duration": 9,
    "start_time": "2022-05-29T10:59:44.373Z"
   },
   {
    "duration": 4,
    "start_time": "2022-05-29T10:59:54.261Z"
   },
   {
    "duration": 4,
    "start_time": "2022-05-29T11:03:25.136Z"
   },
   {
    "duration": 6,
    "start_time": "2022-05-29T11:04:42.785Z"
   },
   {
    "duration": 5,
    "start_time": "2022-05-29T11:06:11.840Z"
   },
   {
    "duration": 3,
    "start_time": "2022-05-29T11:20:50.768Z"
   },
   {
    "duration": 5,
    "start_time": "2022-05-29T11:43:03.428Z"
   },
   {
    "duration": 9,
    "start_time": "2022-05-29T11:43:22.382Z"
   },
   {
    "duration": 9,
    "start_time": "2022-05-29T11:43:34.171Z"
   },
   {
    "duration": 8,
    "start_time": "2022-05-29T11:43:41.631Z"
   },
   {
    "duration": 4,
    "start_time": "2022-05-29T11:43:48.078Z"
   },
   {
    "duration": 24,
    "start_time": "2022-05-29T11:46:09.381Z"
   },
   {
    "duration": 15,
    "start_time": "2022-05-29T11:47:24.565Z"
   },
   {
    "duration": 7,
    "start_time": "2022-05-29T11:48:18.468Z"
   },
   {
    "duration": 10,
    "start_time": "2022-05-29T11:48:27.343Z"
   },
   {
    "duration": 5,
    "start_time": "2022-05-29T11:48:46.004Z"
   },
   {
    "duration": 9,
    "start_time": "2022-05-29T11:48:48.720Z"
   },
   {
    "duration": 8,
    "start_time": "2022-05-29T11:49:01.373Z"
   },
   {
    "duration": 4,
    "start_time": "2022-05-29T11:50:01.310Z"
   },
   {
    "duration": 9,
    "start_time": "2022-05-29T11:50:02.489Z"
   },
   {
    "duration": 28,
    "start_time": "2022-05-29T11:50:18.508Z"
   },
   {
    "duration": 7,
    "start_time": "2022-05-29T11:50:24.604Z"
   },
   {
    "duration": 2,
    "start_time": "2022-05-29T11:50:42.240Z"
   },
   {
    "duration": 70,
    "start_time": "2022-05-29T11:50:43.269Z"
   },
   {
    "duration": 15,
    "start_time": "2022-05-29T11:50:44.585Z"
   },
   {
    "duration": 28,
    "start_time": "2022-05-29T11:50:46.094Z"
   },
   {
    "duration": 4,
    "start_time": "2022-05-29T11:50:47.314Z"
   },
   {
    "duration": 6,
    "start_time": "2022-05-29T11:50:47.739Z"
   },
   {
    "duration": 21,
    "start_time": "2022-05-29T11:50:48.338Z"
   },
   {
    "duration": 4,
    "start_time": "2022-05-29T11:50:48.618Z"
   },
   {
    "duration": 9,
    "start_time": "2022-05-29T11:50:48.922Z"
   },
   {
    "duration": 3,
    "start_time": "2022-05-29T11:50:50.667Z"
   },
   {
    "duration": 3,
    "start_time": "2022-05-29T11:50:50.972Z"
   },
   {
    "duration": 3,
    "start_time": "2022-05-29T11:50:52.368Z"
   },
   {
    "duration": 8,
    "start_time": "2022-05-29T11:50:52.804Z"
   },
   {
    "duration": 5,
    "start_time": "2022-05-29T11:52:10.337Z"
   },
   {
    "duration": 5,
    "start_time": "2022-05-29T11:52:36.936Z"
   },
   {
    "duration": 5,
    "start_time": "2022-05-29T11:52:47.079Z"
   },
   {
    "duration": 23,
    "start_time": "2022-05-29T11:53:27.266Z"
   },
   {
    "duration": 44,
    "start_time": "2022-05-29T11:54:32.165Z"
   },
   {
    "duration": 8,
    "start_time": "2022-05-29T12:09:28.156Z"
   },
   {
    "duration": 301,
    "start_time": "2022-05-29T12:10:38.170Z"
   },
   {
    "duration": 10,
    "start_time": "2022-05-29T12:12:03.943Z"
   },
   {
    "duration": 69,
    "start_time": "2022-05-29T12:15:35.893Z"
   },
   {
    "duration": 476,
    "start_time": "2022-05-29T12:15:39.699Z"
   },
   {
    "duration": 16,
    "start_time": "2022-05-29T12:15:48.828Z"
   },
   {
    "duration": 26,
    "start_time": "2022-05-29T12:15:52.811Z"
   },
   {
    "duration": 4,
    "start_time": "2022-05-29T12:15:53.302Z"
   },
   {
    "duration": 6,
    "start_time": "2022-05-29T12:15:53.605Z"
   },
   {
    "duration": 22,
    "start_time": "2022-05-29T12:15:54.224Z"
   },
   {
    "duration": 5,
    "start_time": "2022-05-29T12:15:54.483Z"
   },
   {
    "duration": 6,
    "start_time": "2022-05-29T12:15:54.787Z"
   },
   {
    "duration": 3,
    "start_time": "2022-05-29T12:15:56.253Z"
   },
   {
    "duration": 3,
    "start_time": "2022-05-29T12:15:56.508Z"
   },
   {
    "duration": 3,
    "start_time": "2022-05-29T12:15:57.147Z"
   },
   {
    "duration": 7,
    "start_time": "2022-05-29T12:15:58.247Z"
   },
   {
    "duration": 4,
    "start_time": "2022-05-29T12:15:58.847Z"
   },
   {
    "duration": 12,
    "start_time": "2022-05-29T12:16:00.327Z"
   },
   {
    "duration": 21,
    "start_time": "2022-05-29T12:17:08.953Z"
   },
   {
    "duration": 10,
    "start_time": "2022-05-29T12:18:40.160Z"
   },
   {
    "duration": 14,
    "start_time": "2022-05-29T12:19:00.752Z"
   },
   {
    "duration": 10,
    "start_time": "2022-05-29T12:19:08.547Z"
   },
   {
    "duration": 10,
    "start_time": "2022-05-29T12:19:09.444Z"
   },
   {
    "duration": 11,
    "start_time": "2022-05-29T12:19:28.297Z"
   },
   {
    "duration": 7,
    "start_time": "2022-05-29T13:05:24.185Z"
   },
   {
    "duration": 11,
    "start_time": "2022-05-29T13:05:43.611Z"
   },
   {
    "duration": 11,
    "start_time": "2022-05-29T13:06:40.241Z"
   },
   {
    "duration": 4,
    "start_time": "2022-05-29T13:06:51.542Z"
   },
   {
    "duration": 71,
    "start_time": "2022-05-29T13:08:39.122Z"
   },
   {
    "duration": 15,
    "start_time": "2022-05-29T13:08:41.175Z"
   },
   {
    "duration": 30,
    "start_time": "2022-05-29T13:08:42.079Z"
   },
   {
    "duration": 3,
    "start_time": "2022-05-29T13:08:42.307Z"
   },
   {
    "duration": 6,
    "start_time": "2022-05-29T13:08:42.642Z"
   },
   {
    "duration": 20,
    "start_time": "2022-05-29T13:08:43.305Z"
   },
   {
    "duration": 4,
    "start_time": "2022-05-29T13:08:43.673Z"
   },
   {
    "duration": 6,
    "start_time": "2022-05-29T13:08:43.989Z"
   },
   {
    "duration": 3,
    "start_time": "2022-05-29T13:08:45.559Z"
   },
   {
    "duration": 3,
    "start_time": "2022-05-29T13:08:45.855Z"
   },
   {
    "duration": 3,
    "start_time": "2022-05-29T13:08:46.493Z"
   },
   {
    "duration": 6,
    "start_time": "2022-05-29T13:08:47.642Z"
   },
   {
    "duration": 5,
    "start_time": "2022-05-29T13:08:48.242Z"
   },
   {
    "duration": 11,
    "start_time": "2022-05-29T13:08:50.183Z"
   },
   {
    "duration": 12,
    "start_time": "2022-05-29T13:08:54.874Z"
   },
   {
    "duration": 4,
    "start_time": "2022-05-29T13:08:56.945Z"
   },
   {
    "duration": 9,
    "start_time": "2022-05-29T13:09:17.008Z"
   },
   {
    "duration": 10,
    "start_time": "2022-05-29T13:10:05.755Z"
   },
   {
    "duration": 12,
    "start_time": "2022-05-29T13:10:09.042Z"
   },
   {
    "duration": 11,
    "start_time": "2022-05-29T13:10:26.146Z"
   },
   {
    "duration": 4,
    "start_time": "2022-05-29T13:10:37.450Z"
   },
   {
    "duration": 9,
    "start_time": "2022-05-29T13:11:22.355Z"
   },
   {
    "duration": 6,
    "start_time": "2022-05-29T13:11:29.413Z"
   },
   {
    "duration": 7,
    "start_time": "2022-05-29T13:11:37.045Z"
   },
   {
    "duration": 29,
    "start_time": "2022-05-29T13:18:28.273Z"
   },
   {
    "duration": 5,
    "start_time": "2022-05-29T13:18:35.947Z"
   },
   {
    "duration": 7,
    "start_time": "2022-05-29T13:18:42.210Z"
   },
   {
    "duration": 5,
    "start_time": "2022-05-29T13:18:46.289Z"
   },
   {
    "duration": 10,
    "start_time": "2022-05-29T13:24:01.999Z"
   },
   {
    "duration": 7,
    "start_time": "2022-05-29T13:25:35.103Z"
   },
   {
    "duration": 11,
    "start_time": "2022-05-29T13:25:46.843Z"
   },
   {
    "duration": 11,
    "start_time": "2022-05-29T13:26:10.960Z"
   },
   {
    "duration": 27,
    "start_time": "2022-05-29T13:27:18.776Z"
   },
   {
    "duration": 22,
    "start_time": "2022-05-29T13:27:58.777Z"
   },
   {
    "duration": 29,
    "start_time": "2022-05-29T13:28:16.439Z"
   },
   {
    "duration": 21,
    "start_time": "2022-05-29T13:28:22.439Z"
   },
   {
    "duration": 14,
    "start_time": "2022-05-29T13:28:27.927Z"
   },
   {
    "duration": 12,
    "start_time": "2022-05-29T13:29:26.994Z"
   },
   {
    "duration": 11,
    "start_time": "2022-05-29T13:33:13.380Z"
   },
   {
    "duration": 10,
    "start_time": "2022-05-29T13:33:45.572Z"
   },
   {
    "duration": 11,
    "start_time": "2022-05-29T13:34:33.420Z"
   },
   {
    "duration": 11,
    "start_time": "2022-05-29T13:34:48.123Z"
   },
   {
    "duration": 18,
    "start_time": "2022-05-29T13:44:49.541Z"
   },
   {
    "duration": 73,
    "start_time": "2022-05-29T13:45:03.169Z"
   },
   {
    "duration": 18,
    "start_time": "2022-05-29T13:45:10.089Z"
   },
   {
    "duration": 18,
    "start_time": "2022-05-29T13:45:44.492Z"
   },
   {
    "duration": 17,
    "start_time": "2022-05-29T13:51:17.423Z"
   },
   {
    "duration": 12,
    "start_time": "2022-05-29T13:51:23.173Z"
   },
   {
    "duration": 27,
    "start_time": "2022-05-29T13:51:41.171Z"
   },
   {
    "duration": 13,
    "start_time": "2022-05-29T13:51:47.003Z"
   },
   {
    "duration": 36,
    "start_time": "2022-05-29T13:54:18.282Z"
   },
   {
    "duration": 15,
    "start_time": "2022-05-29T13:54:23.640Z"
   },
   {
    "duration": 14,
    "start_time": "2022-05-29T13:54:44.490Z"
   },
   {
    "duration": 14,
    "start_time": "2022-05-29T13:55:43.416Z"
   },
   {
    "duration": 19,
    "start_time": "2022-05-29T13:56:54.673Z"
   },
   {
    "duration": 559,
    "start_time": "2022-05-29T14:08:44.343Z"
   },
   {
    "duration": 3,
    "start_time": "2022-05-29T14:09:33.542Z"
   },
   {
    "duration": 20,
    "start_time": "2022-05-29T14:09:38.792Z"
   },
   {
    "duration": 138,
    "start_time": "2022-05-29T14:09:50.388Z"
   },
   {
    "duration": 12,
    "start_time": "2022-05-29T14:10:08.949Z"
   },
   {
    "duration": 103,
    "start_time": "2022-05-29T14:10:17.463Z"
   },
   {
    "duration": 70,
    "start_time": "2022-05-29T14:10:30.859Z"
   },
   {
    "duration": 11,
    "start_time": "2022-05-29T14:10:36.007Z"
   },
   {
    "duration": 117,
    "start_time": "2022-05-29T14:10:58.878Z"
   },
   {
    "duration": 69,
    "start_time": "2022-05-29T14:11:02.349Z"
   },
   {
    "duration": 11,
    "start_time": "2022-05-29T14:11:11.876Z"
   },
   {
    "duration": 14,
    "start_time": "2022-05-29T14:11:18.891Z"
   },
   {
    "duration": 12,
    "start_time": "2022-05-29T14:11:27.524Z"
   },
   {
    "duration": 7,
    "start_time": "2022-05-29T14:11:39.264Z"
   },
   {
    "duration": 10,
    "start_time": "2022-05-29T14:11:42.750Z"
   },
   {
    "duration": 5,
    "start_time": "2022-05-29T14:11:48.693Z"
   },
   {
    "duration": 399,
    "start_time": "2022-05-29T14:12:42.674Z"
   },
   {
    "duration": 496,
    "start_time": "2022-05-29T14:12:56.251Z"
   },
   {
    "duration": 3,
    "start_time": "2022-05-29T14:13:03.412Z"
   },
   {
    "duration": 72,
    "start_time": "2022-05-29T14:13:03.810Z"
   },
   {
    "duration": 16,
    "start_time": "2022-05-29T14:13:04.446Z"
   },
   {
    "duration": 28,
    "start_time": "2022-05-29T14:13:05.094Z"
   },
   {
    "duration": 4,
    "start_time": "2022-05-29T14:13:05.446Z"
   },
   {
    "duration": 5,
    "start_time": "2022-05-29T14:13:05.787Z"
   },
   {
    "duration": 20,
    "start_time": "2022-05-29T14:13:06.373Z"
   },
   {
    "duration": 4,
    "start_time": "2022-05-29T14:13:06.673Z"
   },
   {
    "duration": 5,
    "start_time": "2022-05-29T14:13:06.960Z"
   },
   {
    "duration": 3,
    "start_time": "2022-05-29T14:13:08.474Z"
   },
   {
    "duration": 3,
    "start_time": "2022-05-29T14:13:08.764Z"
   },
   {
    "duration": 12,
    "start_time": "2022-05-29T14:13:09.346Z"
   },
   {
    "duration": 6,
    "start_time": "2022-05-29T14:13:09.965Z"
   },
   {
    "duration": 5,
    "start_time": "2022-05-29T14:13:10.339Z"
   },
   {
    "duration": 10,
    "start_time": "2022-05-29T14:13:11.535Z"
   },
   {
    "duration": 11,
    "start_time": "2022-05-29T14:13:12.530Z"
   },
   {
    "duration": 4,
    "start_time": "2022-05-29T14:13:14.100Z"
   },
   {
    "duration": 14,
    "start_time": "2022-05-29T14:13:14.765Z"
   },
   {
    "duration": 15,
    "start_time": "2022-05-29T14:13:15.165Z"
   },
   {
    "duration": 20,
    "start_time": "2022-05-29T14:13:19.807Z"
   },
   {
    "duration": 9,
    "start_time": "2022-05-29T16:08:39.779Z"
   },
   {
    "duration": 4,
    "start_time": "2022-05-29T17:34:34.658Z"
   },
   {
    "duration": 12,
    "start_time": "2022-05-29T17:34:55.905Z"
   },
   {
    "duration": 14,
    "start_time": "2022-05-29T17:35:10.495Z"
   },
   {
    "duration": 9,
    "start_time": "2022-05-29T17:35:14.479Z"
   },
   {
    "duration": 11,
    "start_time": "2022-05-29T17:35:53.564Z"
   },
   {
    "duration": 9,
    "start_time": "2022-05-29T17:36:14.000Z"
   },
   {
    "duration": 9,
    "start_time": "2022-05-29T17:36:59.694Z"
   },
   {
    "duration": 10,
    "start_time": "2022-05-29T17:37:13.134Z"
   },
   {
    "duration": 10,
    "start_time": "2022-05-29T17:37:27.348Z"
   },
   {
    "duration": 15,
    "start_time": "2022-05-29T17:38:39.252Z"
   },
   {
    "duration": 14,
    "start_time": "2022-05-29T17:38:56.123Z"
   },
   {
    "duration": 14,
    "start_time": "2022-05-29T17:38:59.595Z"
   },
   {
    "duration": 9,
    "start_time": "2022-05-29T17:39:03.652Z"
   },
   {
    "duration": 9,
    "start_time": "2022-05-29T17:39:11.489Z"
   },
   {
    "duration": 69,
    "start_time": "2022-05-29T17:39:20.048Z"
   },
   {
    "duration": 15,
    "start_time": "2022-05-29T17:39:20.647Z"
   },
   {
    "duration": 27,
    "start_time": "2022-05-29T17:39:21.171Z"
   },
   {
    "duration": 4,
    "start_time": "2022-05-29T17:39:21.447Z"
   },
   {
    "duration": 6,
    "start_time": "2022-05-29T17:39:21.823Z"
   },
   {
    "duration": 23,
    "start_time": "2022-05-29T17:39:22.305Z"
   },
   {
    "duration": 4,
    "start_time": "2022-05-29T17:39:22.581Z"
   },
   {
    "duration": 5,
    "start_time": "2022-05-29T17:39:22.855Z"
   },
   {
    "duration": 3,
    "start_time": "2022-05-29T17:39:24.303Z"
   },
   {
    "duration": 3,
    "start_time": "2022-05-29T17:39:24.577Z"
   },
   {
    "duration": 12,
    "start_time": "2022-05-29T17:39:25.135Z"
   },
   {
    "duration": 6,
    "start_time": "2022-05-29T17:39:25.783Z"
   },
   {
    "duration": 5,
    "start_time": "2022-05-29T17:39:26.111Z"
   },
   {
    "duration": 11,
    "start_time": "2022-05-29T17:39:27.335Z"
   },
   {
    "duration": 12,
    "start_time": "2022-05-29T17:39:28.271Z"
   },
   {
    "duration": 4,
    "start_time": "2022-05-29T17:39:29.786Z"
   },
   {
    "duration": 13,
    "start_time": "2022-05-29T17:39:30.505Z"
   },
   {
    "duration": 10,
    "start_time": "2022-05-29T17:39:30.896Z"
   },
   {
    "duration": 3,
    "start_time": "2022-05-29T17:42:27.975Z"
   },
   {
    "duration": 70,
    "start_time": "2022-05-29T17:42:28.235Z"
   },
   {
    "duration": 15,
    "start_time": "2022-05-29T17:42:28.791Z"
   },
   {
    "duration": 26,
    "start_time": "2022-05-29T17:42:29.355Z"
   },
   {
    "duration": 4,
    "start_time": "2022-05-29T17:42:29.671Z"
   },
   {
    "duration": 6,
    "start_time": "2022-05-29T17:42:30.023Z"
   },
   {
    "duration": 21,
    "start_time": "2022-05-29T17:42:30.548Z"
   },
   {
    "duration": 4,
    "start_time": "2022-05-29T17:42:30.770Z"
   },
   {
    "duration": 5,
    "start_time": "2022-05-29T17:42:31.075Z"
   },
   {
    "duration": 4,
    "start_time": "2022-05-29T17:42:32.466Z"
   },
   {
    "duration": 3,
    "start_time": "2022-05-29T17:42:32.751Z"
   },
   {
    "duration": 12,
    "start_time": "2022-05-29T17:42:33.375Z"
   },
   {
    "duration": 5,
    "start_time": "2022-05-29T17:42:33.906Z"
   },
   {
    "duration": 5,
    "start_time": "2022-05-29T17:42:34.204Z"
   },
   {
    "duration": 16,
    "start_time": "2022-05-29T17:42:39.820Z"
   },
   {
    "duration": 20,
    "start_time": "2022-05-29T17:43:14.494Z"
   },
   {
    "duration": 20,
    "start_time": "2022-05-29T17:43:35.294Z"
   },
   {
    "duration": 23,
    "start_time": "2022-05-29T17:44:02.591Z"
   },
   {
    "duration": 3,
    "start_time": "2022-05-29T17:44:11.966Z"
   },
   {
    "duration": 70,
    "start_time": "2022-05-29T17:44:12.288Z"
   },
   {
    "duration": 14,
    "start_time": "2022-05-29T17:44:12.869Z"
   },
   {
    "duration": 25,
    "start_time": "2022-05-29T17:44:13.508Z"
   },
   {
    "duration": 5,
    "start_time": "2022-05-29T17:44:13.782Z"
   },
   {
    "duration": 6,
    "start_time": "2022-05-29T17:44:14.132Z"
   },
   {
    "duration": 21,
    "start_time": "2022-05-29T17:44:14.780Z"
   },
   {
    "duration": 4,
    "start_time": "2022-05-29T17:44:15.073Z"
   },
   {
    "duration": 5,
    "start_time": "2022-05-29T17:44:15.415Z"
   },
   {
    "duration": 3,
    "start_time": "2022-05-29T17:44:16.935Z"
   },
   {
    "duration": 330,
    "start_time": "2022-05-29T17:44:24.416Z"
   },
   {
    "duration": 3,
    "start_time": "2022-05-29T17:44:38.195Z"
   },
   {
    "duration": 70,
    "start_time": "2022-05-29T17:44:38.501Z"
   },
   {
    "duration": 13,
    "start_time": "2022-05-29T17:44:39.115Z"
   },
   {
    "duration": 27,
    "start_time": "2022-05-29T17:44:39.770Z"
   },
   {
    "duration": 4,
    "start_time": "2022-05-29T17:44:40.150Z"
   },
   {
    "duration": 5,
    "start_time": "2022-05-29T17:44:40.485Z"
   },
   {
    "duration": 22,
    "start_time": "2022-05-29T17:44:41.259Z"
   },
   {
    "duration": 4,
    "start_time": "2022-05-29T17:44:41.576Z"
   },
   {
    "duration": 5,
    "start_time": "2022-05-29T17:44:41.869Z"
   },
   {
    "duration": 3,
    "start_time": "2022-05-29T17:44:43.483Z"
   },
   {
    "duration": 3,
    "start_time": "2022-05-29T17:44:43.790Z"
   },
   {
    "duration": 12,
    "start_time": "2022-05-29T17:44:44.446Z"
   },
   {
    "duration": 5,
    "start_time": "2022-05-29T17:44:45.163Z"
   },
   {
    "duration": 5,
    "start_time": "2022-05-29T17:44:45.523Z"
   },
   {
    "duration": 11,
    "start_time": "2022-05-29T17:44:46.839Z"
   },
   {
    "duration": 25,
    "start_time": "2022-05-29T17:44:52.446Z"
   },
   {
    "duration": 15,
    "start_time": "2022-05-29T17:45:57.718Z"
   },
   {
    "duration": 20,
    "start_time": "2022-05-29T17:46:02.078Z"
   },
   {
    "duration": 21,
    "start_time": "2022-05-29T17:46:20.711Z"
   },
   {
    "duration": 90,
    "start_time": "2022-05-29T17:49:35.409Z"
   },
   {
    "duration": 5,
    "start_time": "2022-05-29T17:50:00.505Z"
   },
   {
    "duration": 20,
    "start_time": "2022-05-29T17:50:10.775Z"
   },
   {
    "duration": 21,
    "start_time": "2022-05-29T17:50:27.921Z"
   },
   {
    "duration": 27,
    "start_time": "2022-05-29T18:08:36.282Z"
   },
   {
    "duration": 25,
    "start_time": "2022-05-29T18:09:05.455Z"
   },
   {
    "duration": 55,
    "start_time": "2022-05-29T18:10:00.913Z"
   },
   {
    "duration": 25,
    "start_time": "2022-05-29T18:10:33.941Z"
   },
   {
    "duration": 34,
    "start_time": "2022-05-29T18:13:27.173Z"
   },
   {
    "duration": 31,
    "start_time": "2022-05-29T18:13:51.546Z"
   },
   {
    "duration": 27,
    "start_time": "2022-05-29T18:14:45.946Z"
   },
   {
    "duration": 5,
    "start_time": "2022-05-29T18:14:54.247Z"
   },
   {
    "duration": 46,
    "start_time": "2022-05-29T18:15:11.561Z"
   },
   {
    "duration": 4,
    "start_time": "2022-05-29T18:15:23.511Z"
   },
   {
    "duration": 11,
    "start_time": "2022-05-29T18:17:32.521Z"
   },
   {
    "duration": 25,
    "start_time": "2022-05-29T18:17:41.064Z"
   },
   {
    "duration": 50,
    "start_time": "2022-05-29T18:19:42.058Z"
   },
   {
    "duration": 816,
    "start_time": "2022-05-29T18:20:59.886Z"
   },
   {
    "duration": 459,
    "start_time": "2022-05-29T18:26:03.912Z"
   },
   {
    "duration": 412,
    "start_time": "2022-05-29T18:26:17.486Z"
   },
   {
    "duration": 412,
    "start_time": "2022-05-29T18:26:25.354Z"
   },
   {
    "duration": 420,
    "start_time": "2022-05-29T18:26:34.365Z"
   },
   {
    "duration": 444,
    "start_time": "2022-05-29T18:26:39.911Z"
   },
   {
    "duration": 20,
    "start_time": "2022-05-29T18:30:34.289Z"
   },
   {
    "duration": 162,
    "start_time": "2022-05-29T18:33:22.913Z"
   },
   {
    "duration": 171,
    "start_time": "2022-05-29T18:34:02.493Z"
   },
   {
    "duration": 19,
    "start_time": "2022-05-29T18:36:21.830Z"
   },
   {
    "duration": 15,
    "start_time": "2022-05-29T18:42:48.819Z"
   },
   {
    "duration": 304,
    "start_time": "2022-05-29T18:43:13.348Z"
   },
   {
    "duration": 333,
    "start_time": "2022-05-29T18:43:34.852Z"
   },
   {
    "duration": 38,
    "start_time": "2022-05-29T18:45:10.637Z"
   },
   {
    "duration": 1445,
    "start_time": "2022-05-30T09:12:59.022Z"
   },
   {
    "duration": 203,
    "start_time": "2022-05-30T09:13:00.469Z"
   },
   {
    "duration": 21,
    "start_time": "2022-05-30T09:13:00.674Z"
   },
   {
    "duration": 39,
    "start_time": "2022-05-30T09:13:00.696Z"
   },
   {
    "duration": 5,
    "start_time": "2022-05-30T09:13:00.737Z"
   },
   {
    "duration": 6,
    "start_time": "2022-05-30T09:13:00.846Z"
   },
   {
    "duration": 23,
    "start_time": "2022-05-30T09:13:01.345Z"
   },
   {
    "duration": 4,
    "start_time": "2022-05-30T09:13:01.597Z"
   },
   {
    "duration": 7,
    "start_time": "2022-05-30T09:13:01.854Z"
   },
   {
    "duration": 3,
    "start_time": "2022-05-30T09:13:03.146Z"
   },
   {
    "duration": 7,
    "start_time": "2022-05-30T09:13:03.441Z"
   },
   {
    "duration": 14,
    "start_time": "2022-05-30T09:13:04.042Z"
   },
   {
    "duration": 8,
    "start_time": "2022-05-30T09:13:04.618Z"
   },
   {
    "duration": 5,
    "start_time": "2022-05-30T09:13:04.906Z"
   },
   {
    "duration": 23,
    "start_time": "2022-05-30T09:13:05.208Z"
   },
   {
    "duration": 15,
    "start_time": "2022-05-30T09:13:09.652Z"
   },
   {
    "duration": 13,
    "start_time": "2022-05-30T09:13:10.500Z"
   },
   {
    "duration": 4,
    "start_time": "2022-05-30T09:13:12.381Z"
   },
   {
    "duration": 18,
    "start_time": "2022-05-30T09:13:15.785Z"
   },
   {
    "duration": 20,
    "start_time": "2022-05-30T09:13:17.088Z"
   },
   {
    "duration": 664,
    "start_time": "2022-05-30T09:13:24.914Z"
   },
   {
    "duration": 187,
    "start_time": "2022-05-30T09:13:29.808Z"
   },
   {
    "duration": 335,
    "start_time": "2022-05-30T09:13:34.392Z"
   },
   {
    "duration": 118,
    "start_time": "2022-05-30T09:18:15.397Z"
   },
   {
    "duration": 169,
    "start_time": "2022-05-30T09:18:29.261Z"
   },
   {
    "duration": 179,
    "start_time": "2022-05-30T09:18:47.952Z"
   },
   {
    "duration": 264,
    "start_time": "2022-05-30T09:28:05.441Z"
   },
   {
    "duration": 255,
    "start_time": "2022-05-30T09:28:27.336Z"
   },
   {
    "duration": 172,
    "start_time": "2022-05-30T09:32:25.395Z"
   },
   {
    "duration": 154,
    "start_time": "2022-05-30T09:33:20.658Z"
   },
   {
    "duration": 190,
    "start_time": "2022-05-30T09:35:45.597Z"
   },
   {
    "duration": 434,
    "start_time": "2022-05-30T09:36:52.107Z"
   },
   {
    "duration": 367,
    "start_time": "2022-05-30T09:38:28.339Z"
   },
   {
    "duration": 282,
    "start_time": "2022-05-30T09:38:48.486Z"
   },
   {
    "duration": 314,
    "start_time": "2022-05-30T09:39:09.690Z"
   },
   {
    "duration": 289,
    "start_time": "2022-05-30T09:39:51.318Z"
   },
   {
    "duration": 301,
    "start_time": "2022-05-30T09:40:17.040Z"
   },
   {
    "duration": 351,
    "start_time": "2022-05-30T09:46:37.167Z"
   },
   {
    "duration": 519,
    "start_time": "2022-05-30T09:46:52.307Z"
   },
   {
    "duration": 12,
    "start_time": "2022-05-30T09:55:31.050Z"
   },
   {
    "duration": 11,
    "start_time": "2022-05-30T09:59:17.610Z"
   },
   {
    "duration": 11,
    "start_time": "2022-05-30T09:59:26.798Z"
   },
   {
    "duration": 9,
    "start_time": "2022-05-30T09:59:38.208Z"
   },
   {
    "duration": 12,
    "start_time": "2022-05-30T09:59:44.444Z"
   },
   {
    "duration": 145,
    "start_time": "2022-05-30T10:01:05.184Z"
   },
   {
    "duration": 141,
    "start_time": "2022-05-30T10:01:28.903Z"
   },
   {
    "duration": 147,
    "start_time": "2022-05-30T10:02:06.146Z"
   },
   {
    "duration": 172,
    "start_time": "2022-05-30T10:03:10.798Z"
   },
   {
    "duration": 135,
    "start_time": "2022-05-30T10:03:19.239Z"
   },
   {
    "duration": 135,
    "start_time": "2022-05-30T10:03:26.352Z"
   },
   {
    "duration": 260,
    "start_time": "2022-05-30T10:03:45.156Z"
   },
   {
    "duration": 161,
    "start_time": "2022-05-30T10:03:58.780Z"
   },
   {
    "duration": 25,
    "start_time": "2022-05-30T10:06:03.285Z"
   },
   {
    "duration": 4,
    "start_time": "2022-05-30T10:07:15.694Z"
   },
   {
    "duration": 10,
    "start_time": "2022-05-30T10:17:37.680Z"
   },
   {
    "duration": 123,
    "start_time": "2022-05-30T10:17:48.660Z"
   },
   {
    "duration": 144,
    "start_time": "2022-05-30T10:21:59.315Z"
   },
   {
    "duration": 22,
    "start_time": "2022-05-30T10:24:12.547Z"
   },
   {
    "duration": 398,
    "start_time": "2022-05-30T10:56:11.668Z"
   },
   {
    "duration": 407,
    "start_time": "2022-05-30T10:57:02.519Z"
   },
   {
    "duration": 428,
    "start_time": "2022-05-30T11:00:54.657Z"
   },
   {
    "duration": 391,
    "start_time": "2022-05-30T11:04:20.491Z"
   },
   {
    "duration": 368,
    "start_time": "2022-05-30T11:05:37.336Z"
   },
   {
    "duration": 403,
    "start_time": "2022-05-30T11:06:35.641Z"
   },
   {
    "duration": 11,
    "start_time": "2022-05-30T11:18:00.637Z"
   },
   {
    "duration": 17,
    "start_time": "2022-05-30T11:18:12.768Z"
   },
   {
    "duration": 12,
    "start_time": "2022-05-30T11:18:59.148Z"
   },
   {
    "duration": 13,
    "start_time": "2022-05-30T11:19:25.075Z"
   },
   {
    "duration": 425,
    "start_time": "2022-05-30T11:20:31.964Z"
   },
   {
    "duration": 15,
    "start_time": "2022-05-30T11:37:41.795Z"
   },
   {
    "duration": 9,
    "start_time": "2022-05-30T11:37:49.761Z"
   },
   {
    "duration": 9,
    "start_time": "2022-05-30T11:37:57.146Z"
   },
   {
    "duration": 17,
    "start_time": "2022-05-30T11:38:09.422Z"
   },
   {
    "duration": 10,
    "start_time": "2022-05-30T11:38:55.765Z"
   },
   {
    "duration": 20,
    "start_time": "2022-05-30T11:47:52.314Z"
   },
   {
    "duration": 34,
    "start_time": "2022-05-30T11:48:10.486Z"
   },
   {
    "duration": 39,
    "start_time": "2022-05-30T11:54:04.550Z"
   },
   {
    "duration": 14,
    "start_time": "2022-05-30T12:00:53.172Z"
   },
   {
    "duration": 24,
    "start_time": "2022-05-30T12:01:48.243Z"
   },
   {
    "duration": 15,
    "start_time": "2022-05-30T12:05:20.194Z"
   },
   {
    "duration": 26,
    "start_time": "2022-05-30T12:13:05.545Z"
   },
   {
    "duration": 56,
    "start_time": "2022-05-30T12:13:11.410Z"
   },
   {
    "duration": 14,
    "start_time": "2022-05-30T12:13:26.592Z"
   },
   {
    "duration": 43,
    "start_time": "2022-05-30T12:13:32.227Z"
   },
   {
    "duration": 1329,
    "start_time": "2022-05-30T17:46:06.446Z"
   },
   {
    "duration": 203,
    "start_time": "2022-05-30T17:46:07.777Z"
   },
   {
    "duration": 18,
    "start_time": "2022-05-30T17:46:08.436Z"
   },
   {
    "duration": 27,
    "start_time": "2022-05-30T17:47:18.646Z"
   },
   {
    "duration": 4,
    "start_time": "2022-05-30T17:48:17.678Z"
   },
   {
    "duration": 5,
    "start_time": "2022-05-30T17:48:19.107Z"
   },
   {
    "duration": 3,
    "start_time": "2022-05-30T17:50:32.033Z"
   },
   {
    "duration": 4,
    "start_time": "2022-05-30T17:50:38.035Z"
   },
   {
    "duration": 12,
    "start_time": "2022-05-30T17:51:35.785Z"
   },
   {
    "duration": 5,
    "start_time": "2022-05-30T17:51:40.241Z"
   },
   {
    "duration": 6,
    "start_time": "2022-05-30T17:51:41.176Z"
   },
   {
    "duration": 17,
    "start_time": "2022-05-30T17:52:23.006Z"
   },
   {
    "duration": 336,
    "start_time": "2022-05-30T18:03:38.214Z"
   },
   {
    "duration": 13,
    "start_time": "2022-05-30T18:03:43.113Z"
   },
   {
    "duration": 12,
    "start_time": "2022-05-30T18:04:06.886Z"
   },
   {
    "duration": 11,
    "start_time": "2022-05-30T18:04:21.412Z"
   },
   {
    "duration": 848,
    "start_time": "2022-05-30T18:20:36.316Z"
   },
   {
    "duration": 440,
    "start_time": "2022-05-30T18:27:55.082Z"
   },
   {
    "duration": 411,
    "start_time": "2022-05-30T18:33:38.333Z"
   },
   {
    "duration": 382,
    "start_time": "2022-05-30T18:33:54.335Z"
   },
   {
    "duration": 128,
    "start_time": "2022-05-30T18:39:11.890Z"
   },
   {
    "duration": 380,
    "start_time": "2022-05-30T18:39:57.848Z"
   },
   {
    "duration": 5,
    "start_time": "2022-05-30T18:40:31.503Z"
   },
   {
    "duration": 5,
    "start_time": "2022-05-30T18:40:45.176Z"
   },
   {
    "duration": 123,
    "start_time": "2022-05-30T18:42:54.193Z"
   },
   {
    "duration": 11,
    "start_time": "2022-05-30T18:52:55.691Z"
   },
   {
    "duration": 328,
    "start_time": "2022-05-30T18:53:10.401Z"
   },
   {
    "duration": 11,
    "start_time": "2022-05-30T18:53:18.861Z"
   },
   {
    "duration": 11,
    "start_time": "2022-05-30T18:53:26.807Z"
   },
   {
    "duration": 9,
    "start_time": "2022-05-30T18:53:33.856Z"
   },
   {
    "duration": 32,
    "start_time": "2022-05-30T18:53:36.447Z"
   },
   {
    "duration": 12,
    "start_time": "2022-05-30T18:53:40.953Z"
   },
   {
    "duration": 145,
    "start_time": "2022-05-30T19:06:30.870Z"
   },
   {
    "duration": 9,
    "start_time": "2022-05-30T19:06:47.703Z"
   },
   {
    "duration": 9,
    "start_time": "2022-05-30T19:06:53.367Z"
   },
   {
    "duration": 28,
    "start_time": "2022-05-30T19:06:59.084Z"
   },
   {
    "duration": 13,
    "start_time": "2022-05-30T19:07:03.832Z"
   },
   {
    "duration": 1323,
    "start_time": "2022-05-31T09:41:08.107Z"
   },
   {
    "duration": 211,
    "start_time": "2022-05-31T09:41:09.432Z"
   },
   {
    "duration": 20,
    "start_time": "2022-05-31T09:41:10.582Z"
   },
   {
    "duration": 31,
    "start_time": "2022-05-31T09:41:14.138Z"
   },
   {
    "duration": 5,
    "start_time": "2022-05-31T09:41:15.367Z"
   },
   {
    "duration": 7,
    "start_time": "2022-05-31T09:41:16.064Z"
   },
   {
    "duration": 23,
    "start_time": "2022-05-31T09:41:17.048Z"
   },
   {
    "duration": 5,
    "start_time": "2022-05-31T09:41:17.411Z"
   },
   {
    "duration": 5,
    "start_time": "2022-05-31T09:41:17.854Z"
   },
   {
    "duration": 4,
    "start_time": "2022-05-31T09:41:20.012Z"
   },
   {
    "duration": 3,
    "start_time": "2022-05-31T09:41:20.378Z"
   },
   {
    "duration": 14,
    "start_time": "2022-05-31T09:41:21.248Z"
   },
   {
    "duration": 6,
    "start_time": "2022-05-31T09:41:21.989Z"
   },
   {
    "duration": 5,
    "start_time": "2022-05-31T09:41:22.482Z"
   },
   {
    "duration": 22,
    "start_time": "2022-05-31T09:41:22.803Z"
   },
   {
    "duration": 16,
    "start_time": "2022-05-31T09:41:25.511Z"
   },
   {
    "duration": 13,
    "start_time": "2022-05-31T09:41:26.655Z"
   },
   {
    "duration": 16,
    "start_time": "2022-05-31T09:41:28.644Z"
   },
   {
    "duration": 662,
    "start_time": "2022-05-31T09:41:30.194Z"
   },
   {
    "duration": 452,
    "start_time": "2022-05-31T09:41:33.530Z"
   },
   {
    "duration": 429,
    "start_time": "2022-05-31T09:41:36.622Z"
   },
   {
    "duration": 145,
    "start_time": "2022-05-31T09:41:41.889Z"
   },
   {
    "duration": 5,
    "start_time": "2022-05-31T09:41:46.979Z"
   },
   {
    "duration": 132,
    "start_time": "2022-05-31T09:41:50.132Z"
   },
   {
    "duration": 12,
    "start_time": "2022-05-31T09:44:50.269Z"
   },
   {
    "duration": 1115,
    "start_time": "2022-05-31T13:57:00.458Z"
   },
   {
    "duration": 181,
    "start_time": "2022-05-31T13:57:01.575Z"
   },
   {
    "duration": 20,
    "start_time": "2022-05-31T13:57:01.758Z"
   },
   {
    "duration": 31,
    "start_time": "2022-05-31T13:57:01.781Z"
   },
   {
    "duration": 15,
    "start_time": "2022-05-31T13:57:01.813Z"
   },
   {
    "duration": 25,
    "start_time": "2022-05-31T13:57:01.829Z"
   },
   {
    "duration": 61,
    "start_time": "2022-05-31T13:57:01.855Z"
   },
   {
    "duration": 4,
    "start_time": "2022-05-31T13:57:01.918Z"
   },
   {
    "duration": 22,
    "start_time": "2022-05-31T13:57:01.924Z"
   },
   {
    "duration": 8,
    "start_time": "2022-05-31T13:57:01.948Z"
   },
   {
    "duration": 12,
    "start_time": "2022-05-31T13:57:01.958Z"
   },
   {
    "duration": 29,
    "start_time": "2022-05-31T13:57:01.971Z"
   },
   {
    "duration": 31,
    "start_time": "2022-05-31T13:57:02.002Z"
   },
   {
    "duration": 6,
    "start_time": "2022-05-31T13:57:02.035Z"
   },
   {
    "duration": 26,
    "start_time": "2022-05-31T13:57:02.043Z"
   },
   {
    "duration": 13,
    "start_time": "2022-05-31T13:57:02.070Z"
   },
   {
    "duration": 14,
    "start_time": "2022-05-31T13:57:02.085Z"
   },
   {
    "duration": 27,
    "start_time": "2022-05-31T13:57:02.101Z"
   },
   {
    "duration": 667,
    "start_time": "2022-05-31T13:57:02.130Z"
   },
   {
    "duration": 466,
    "start_time": "2022-05-31T13:57:02.798Z"
   },
   {
    "duration": 405,
    "start_time": "2022-05-31T13:57:03.266Z"
   },
   {
    "duration": 142,
    "start_time": "2022-05-31T13:57:03.673Z"
   },
   {
    "duration": 5,
    "start_time": "2022-05-31T13:57:03.817Z"
   },
   {
    "duration": 142,
    "start_time": "2022-05-31T13:57:03.823Z"
   },
   {
    "duration": 191,
    "start_time": "2022-05-31T13:57:03.967Z"
   },
   {
    "duration": 12,
    "start_time": "2022-05-31T13:57:04.160Z"
   },
   {
    "duration": 15,
    "start_time": "2022-05-31T13:57:04.173Z"
   },
   {
    "duration": 46,
    "start_time": "2022-05-31T13:57:04.190Z"
   },
   {
    "duration": 24,
    "start_time": "2022-05-31T13:57:04.237Z"
   },
   {
    "duration": 1079,
    "start_time": "2022-05-31T14:05:41.105Z"
   },
   {
    "duration": 69,
    "start_time": "2022-05-31T14:05:42.186Z"
   },
   {
    "duration": 19,
    "start_time": "2022-05-31T14:05:42.257Z"
   },
   {
    "duration": 30,
    "start_time": "2022-05-31T14:05:42.278Z"
   },
   {
    "duration": 3,
    "start_time": "2022-05-31T14:05:42.310Z"
   },
   {
    "duration": 14,
    "start_time": "2022-05-31T14:05:42.315Z"
   },
   {
    "duration": 44,
    "start_time": "2022-05-31T14:05:42.330Z"
   },
   {
    "duration": 4,
    "start_time": "2022-05-31T14:05:42.376Z"
   },
   {
    "duration": 16,
    "start_time": "2022-05-31T14:05:42.381Z"
   },
   {
    "duration": 10,
    "start_time": "2022-05-31T14:05:42.398Z"
   },
   {
    "duration": 12,
    "start_time": "2022-05-31T14:05:42.409Z"
   },
   {
    "duration": 27,
    "start_time": "2022-05-31T14:05:42.422Z"
   },
   {
    "duration": 15,
    "start_time": "2022-05-31T14:05:42.450Z"
   },
   {
    "duration": 10,
    "start_time": "2022-05-31T14:05:42.468Z"
   },
   {
    "duration": 26,
    "start_time": "2022-05-31T14:05:42.479Z"
   },
   {
    "duration": 21,
    "start_time": "2022-05-31T14:05:42.506Z"
   },
   {
    "duration": 24,
    "start_time": "2022-05-31T14:05:42.529Z"
   },
   {
    "duration": 34,
    "start_time": "2022-05-31T14:05:42.555Z"
   },
   {
    "duration": 664,
    "start_time": "2022-05-31T14:05:42.591Z"
   },
   {
    "duration": 438,
    "start_time": "2022-05-31T14:05:43.257Z"
   },
   {
    "duration": 469,
    "start_time": "2022-05-31T14:05:43.697Z"
   },
   {
    "duration": 152,
    "start_time": "2022-05-31T14:05:44.168Z"
   },
   {
    "duration": 6,
    "start_time": "2022-05-31T14:05:44.322Z"
   },
   {
    "duration": 151,
    "start_time": "2022-05-31T14:05:44.330Z"
   },
   {
    "duration": 185,
    "start_time": "2022-05-31T14:05:44.483Z"
   },
   {
    "duration": 12,
    "start_time": "2022-05-31T14:05:44.670Z"
   },
   {
    "duration": 10,
    "start_time": "2022-05-31T14:05:44.684Z"
   },
   {
    "duration": 56,
    "start_time": "2022-05-31T14:05:44.696Z"
   },
   {
    "duration": 15,
    "start_time": "2022-05-31T14:05:44.754Z"
   },
   {
    "duration": 55,
    "start_time": "2022-06-01T11:23:38.931Z"
   },
   {
    "duration": 1520,
    "start_time": "2022-06-01T11:23:44.613Z"
   },
   {
    "duration": 195,
    "start_time": "2022-06-01T11:23:46.136Z"
   },
   {
    "duration": 19,
    "start_time": "2022-06-01T11:23:46.333Z"
   },
   {
    "duration": 27,
    "start_time": "2022-06-01T11:23:46.354Z"
   },
   {
    "duration": 3,
    "start_time": "2022-06-01T11:23:46.383Z"
   },
   {
    "duration": 5,
    "start_time": "2022-06-01T11:23:46.553Z"
   },
   {
    "duration": 21,
    "start_time": "2022-06-01T11:23:47.093Z"
   },
   {
    "duration": 4,
    "start_time": "2022-06-01T11:23:47.389Z"
   },
   {
    "duration": 6,
    "start_time": "2022-06-01T11:23:47.635Z"
   },
   {
    "duration": 3,
    "start_time": "2022-06-01T11:23:49.401Z"
   },
   {
    "duration": 4,
    "start_time": "2022-06-01T11:23:49.693Z"
   },
   {
    "duration": 12,
    "start_time": "2022-06-01T11:23:50.219Z"
   },
   {
    "duration": 6,
    "start_time": "2022-06-01T11:23:50.801Z"
   },
   {
    "duration": 5,
    "start_time": "2022-06-01T11:23:51.101Z"
   },
   {
    "duration": 17,
    "start_time": "2022-06-01T11:23:51.359Z"
   },
   {
    "duration": 11,
    "start_time": "2022-06-01T11:23:52.814Z"
   },
   {
    "duration": 12,
    "start_time": "2022-06-01T11:23:53.710Z"
   },
   {
    "duration": 19,
    "start_time": "2022-06-01T11:23:55.550Z"
   },
   {
    "duration": 569,
    "start_time": "2022-06-01T11:23:57.020Z"
   },
   {
    "duration": 404,
    "start_time": "2022-06-01T11:25:48.916Z"
   },
   {
    "duration": 417,
    "start_time": "2022-06-01T11:32:04.402Z"
   },
   {
    "duration": 474,
    "start_time": "2022-06-01T11:32:27.413Z"
   },
   {
    "duration": 390,
    "start_time": "2022-06-01T11:33:07.966Z"
   },
   {
    "duration": 486,
    "start_time": "2022-06-01T11:35:32.712Z"
   },
   {
    "duration": 447,
    "start_time": "2022-06-01T11:35:41.664Z"
   },
   {
    "duration": 512,
    "start_time": "2022-06-01T11:36:21.929Z"
   },
   {
    "duration": 546,
    "start_time": "2022-06-01T11:36:45.621Z"
   },
   {
    "duration": 496,
    "start_time": "2022-06-01T11:37:04.531Z"
   },
   {
    "duration": 380,
    "start_time": "2022-06-01T11:38:46.229Z"
   },
   {
    "duration": 426,
    "start_time": "2022-06-01T11:40:24.957Z"
   },
   {
    "duration": 478,
    "start_time": "2022-06-01T11:40:41.215Z"
   },
   {
    "duration": 466,
    "start_time": "2022-06-01T11:41:31.104Z"
   },
   {
    "duration": 462,
    "start_time": "2022-06-01T11:41:40.808Z"
   },
   {
    "duration": 419,
    "start_time": "2022-06-01T11:41:49.754Z"
   },
   {
    "duration": 431,
    "start_time": "2022-06-01T11:41:58.531Z"
   },
   {
    "duration": 530,
    "start_time": "2022-06-01T11:43:23.592Z"
   },
   {
    "duration": 425,
    "start_time": "2022-06-01T11:43:31.334Z"
   },
   {
    "duration": 432,
    "start_time": "2022-06-01T11:43:36.331Z"
   },
   {
    "duration": 519,
    "start_time": "2022-06-01T11:43:42.507Z"
   },
   {
    "duration": 464,
    "start_time": "2022-06-01T11:44:04.856Z"
   },
   {
    "duration": 447,
    "start_time": "2022-06-01T11:44:12.432Z"
   },
   {
    "duration": 435,
    "start_time": "2022-06-01T11:44:18.159Z"
   },
   {
    "duration": 472,
    "start_time": "2022-06-01T11:44:40.800Z"
   },
   {
    "duration": 461,
    "start_time": "2022-06-01T11:51:47.699Z"
   },
   {
    "duration": 440,
    "start_time": "2022-06-01T11:51:54.942Z"
   },
   {
    "duration": 446,
    "start_time": "2022-06-01T11:58:09.648Z"
   },
   {
    "duration": 412,
    "start_time": "2022-06-01T11:59:54.697Z"
   },
   {
    "duration": 494,
    "start_time": "2022-06-01T12:00:00.889Z"
   },
   {
    "duration": 408,
    "start_time": "2022-06-01T12:02:58.395Z"
   },
   {
    "duration": 506,
    "start_time": "2022-06-01T12:03:32.706Z"
   },
   {
    "duration": 438,
    "start_time": "2022-06-01T12:03:54.560Z"
   },
   {
    "duration": 421,
    "start_time": "2022-06-01T12:04:12.691Z"
   },
   {
    "duration": 101,
    "start_time": "2022-06-01T12:05:32.828Z"
   },
   {
    "duration": 153,
    "start_time": "2022-06-01T12:05:56.940Z"
   },
   {
    "duration": 135,
    "start_time": "2022-06-01T12:06:03.426Z"
   },
   {
    "duration": 169,
    "start_time": "2022-06-01T12:06:12.460Z"
   },
   {
    "duration": 168,
    "start_time": "2022-06-01T12:06:21.518Z"
   },
   {
    "duration": 142,
    "start_time": "2022-06-01T12:06:31.285Z"
   },
   {
    "duration": 436,
    "start_time": "2022-06-01T12:09:35.491Z"
   },
   {
    "duration": 137,
    "start_time": "2022-06-01T12:13:09.214Z"
   },
   {
    "duration": 252,
    "start_time": "2022-06-01T12:13:21.615Z"
   },
   {
    "duration": 162,
    "start_time": "2022-06-01T12:13:30.634Z"
   },
   {
    "duration": 152,
    "start_time": "2022-06-01T12:13:39.091Z"
   },
   {
    "duration": 441,
    "start_time": "2022-06-01T12:14:02.462Z"
   },
   {
    "duration": 447,
    "start_time": "2022-06-01T12:14:18.313Z"
   },
   {
    "duration": 443,
    "start_time": "2022-06-01T12:14:37.016Z"
   },
   {
    "duration": 191,
    "start_time": "2022-06-01T12:17:21.132Z"
   },
   {
    "duration": 141,
    "start_time": "2022-06-01T12:19:42.687Z"
   },
   {
    "duration": 139,
    "start_time": "2022-06-01T12:20:06.397Z"
   },
   {
    "duration": 135,
    "start_time": "2022-06-01T12:20:26.190Z"
   },
   {
    "duration": 133,
    "start_time": "2022-06-01T12:20:34.103Z"
   },
   {
    "duration": 134,
    "start_time": "2022-06-01T12:20:46.207Z"
   },
   {
    "duration": 139,
    "start_time": "2022-06-01T12:22:28.391Z"
   },
   {
    "duration": 232,
    "start_time": "2022-06-01T12:22:38.403Z"
   },
   {
    "duration": 168,
    "start_time": "2022-06-01T12:24:24.299Z"
   },
   {
    "duration": 147,
    "start_time": "2022-06-01T12:24:40.607Z"
   },
   {
    "duration": 157,
    "start_time": "2022-06-01T12:24:49.953Z"
   },
   {
    "duration": 135,
    "start_time": "2022-06-01T12:24:56.899Z"
   },
   {
    "duration": 1241,
    "start_time": "2022-06-01T20:07:44.634Z"
   },
   {
    "duration": 209,
    "start_time": "2022-06-01T20:07:45.877Z"
   },
   {
    "duration": 29,
    "start_time": "2022-06-01T20:07:46.089Z"
   },
   {
    "duration": 50,
    "start_time": "2022-06-01T20:07:46.122Z"
   },
   {
    "duration": 11,
    "start_time": "2022-06-01T20:07:46.175Z"
   },
   {
    "duration": 10,
    "start_time": "2022-06-01T20:07:46.188Z"
   },
   {
    "duration": 31,
    "start_time": "2022-06-01T20:07:46.200Z"
   },
   {
    "duration": 22,
    "start_time": "2022-06-01T20:07:46.233Z"
   },
   {
    "duration": 26,
    "start_time": "2022-06-01T20:07:46.259Z"
   },
   {
    "duration": 11,
    "start_time": "2022-06-01T20:07:46.288Z"
   },
   {
    "duration": 6,
    "start_time": "2022-06-01T20:07:46.301Z"
   },
   {
    "duration": 17,
    "start_time": "2022-06-01T20:07:46.309Z"
   },
   {
    "duration": 9,
    "start_time": "2022-06-01T20:07:46.328Z"
   },
   {
    "duration": 6,
    "start_time": "2022-06-01T20:07:46.338Z"
   },
   {
    "duration": 22,
    "start_time": "2022-06-01T20:07:46.345Z"
   },
   {
    "duration": 17,
    "start_time": "2022-06-01T20:07:46.370Z"
   },
   {
    "duration": 14,
    "start_time": "2022-06-01T20:07:46.389Z"
   },
   {
    "duration": 17,
    "start_time": "2022-06-01T20:07:46.405Z"
   },
   {
    "duration": 738,
    "start_time": "2022-06-01T20:07:46.424Z"
   },
   {
    "duration": 468,
    "start_time": "2022-06-01T20:07:47.163Z"
   },
   {
    "duration": 485,
    "start_time": "2022-06-01T20:07:47.633Z"
   },
   {
    "duration": 186,
    "start_time": "2022-06-01T20:07:48.119Z"
   },
   {
    "duration": 6,
    "start_time": "2022-06-01T20:07:48.307Z"
   },
   {
    "duration": 217,
    "start_time": "2022-06-01T20:07:48.315Z"
   },
   {
    "duration": 198,
    "start_time": "2022-06-01T20:07:48.534Z"
   },
   {
    "duration": 36,
    "start_time": "2022-06-01T20:07:48.734Z"
   },
   {
    "duration": 11,
    "start_time": "2022-06-01T20:07:48.772Z"
   },
   {
    "duration": 37,
    "start_time": "2022-06-01T20:07:48.786Z"
   },
   {
    "duration": 40,
    "start_time": "2022-06-01T20:07:48.825Z"
   }
  ],
  "kernelspec": {
   "display_name": "Python 3 (ipykernel)",
   "language": "python",
   "name": "python3"
  },
  "language_info": {
   "codemirror_mode": {
    "name": "ipython",
    "version": 3
   },
   "file_extension": ".py",
   "mimetype": "text/x-python",
   "name": "python",
   "nbconvert_exporter": "python",
   "pygments_lexer": "ipython3",
   "version": "3.9.12"
  },
  "toc": {
   "base_numbering": 1,
   "nav_menu": {},
   "number_sections": true,
   "sideBar": true,
   "skip_h1_title": true,
   "title_cell": " Выявление причин убыточности развлекательного приложения Procrastinate Pro+",
   "title_sidebar": "Contents",
   "toc_cell": true,
   "toc_position": {
    "height": "calc(100% - 180px)",
    "left": "10px",
    "top": "150px",
    "width": "165px"
   },
   "toc_section_display": true,
   "toc_window_display": true
  }
 },
 "nbformat": 4,
 "nbformat_minor": 2
}
