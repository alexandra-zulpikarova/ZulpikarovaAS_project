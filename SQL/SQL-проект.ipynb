{
 "cells": [
  {
   "cell_type": "markdown",
   "metadata": {},
   "source": [
    "# Анализ базы данных сервиса для чтения книг по подписке"
   ]
  },
  {
   "cell_type": "markdown",
   "metadata": {},
   "source": [
    "Необходимо  проанализировать базу данных сервиса для чтения книг по подписке. В ней — информация о книгах, издательствах, авторах, а также пользовательские обзоры книг. \n",
    "\n",
    "Цель - сформулировать ценностное предложение для нового продукта."
   ]
  },
  {
   "cell_type": "markdown",
   "metadata": {},
   "source": [
    "## Исследование таблиц"
   ]
  },
  {
   "cell_type": "code",
   "execution_count": 1,
   "metadata": {},
   "outputs": [],
   "source": [
    "# импорт библиотек\n",
    "import pandas as pd\n",
    "from sqlalchemy import create_engine"
   ]
  },
  {
   "cell_type": "markdown",
   "metadata": {},
   "source": [
    "Создадим подключение к базе данных."
   ]
  },
  {
   "cell_type": "code",
   "execution_count": 2,
   "metadata": {},
   "outputs": [],
   "source": [
    "# устанавливаем параметры\n",
    "db_config = {'user': 'praktikum_student', # имя пользователя\n",
    "'pwd': 'Sdf4$2;d-d30pp', # пароль\n",
    "'host': 'rc1b-wcoijxj3yxfsf3fs.mdb.yandexcloud.net',\n",
    "'port': 6432, # порт подключения\n",
    "'db': 'data-analyst-final-project-db'} # название базы данных\n",
    "connection_string = 'postgresql://{}:{}@{}:{}/{}'.format(db_config['user'],\n",
    " db_config['pwd'],\n",
    " db_config['host'],\n",
    " db_config['port'],\n",
    " db_config['db'])\n",
    "# сохраняем коннектор\n",
    "engine = create_engine(connection_string, connect_args={'sslmode':'require'})"
   ]
  },
  {
   "cell_type": "markdown",
   "metadata": {},
   "source": [
    "Выведем первые строки каждой из таблиц."
   ]
  },
  {
   "cell_type": "code",
   "execution_count": 3,
   "metadata": {},
   "outputs": [],
   "source": [
    "# функция для вывода резултатов SQL-запроса\n",
    "\n",
    "def sql (query):\n",
    "  return pd.io.sql.read_sql(query, con = engine)  "
   ]
  },
  {
   "cell_type": "markdown",
   "metadata": {},
   "source": [
    "Таблица books"
   ]
  },
  {
   "cell_type": "code",
   "execution_count": 4,
   "metadata": {},
   "outputs": [
    {
     "data": {
      "text/html": [
       "<div>\n",
       "<style scoped>\n",
       "    .dataframe tbody tr th:only-of-type {\n",
       "        vertical-align: middle;\n",
       "    }\n",
       "\n",
       "    .dataframe tbody tr th {\n",
       "        vertical-align: top;\n",
       "    }\n",
       "\n",
       "    .dataframe thead th {\n",
       "        text-align: right;\n",
       "    }\n",
       "</style>\n",
       "<table border=\"1\" class=\"dataframe\">\n",
       "  <thead>\n",
       "    <tr style=\"text-align: right;\">\n",
       "      <th></th>\n",
       "      <th>book_id</th>\n",
       "      <th>author_id</th>\n",
       "      <th>title</th>\n",
       "      <th>num_pages</th>\n",
       "      <th>publication_date</th>\n",
       "      <th>publisher_id</th>\n",
       "    </tr>\n",
       "  </thead>\n",
       "  <tbody>\n",
       "    <tr>\n",
       "      <th>0</th>\n",
       "      <td>1</td>\n",
       "      <td>546</td>\n",
       "      <td>'Salem's Lot</td>\n",
       "      <td>594</td>\n",
       "      <td>2005-11-01</td>\n",
       "      <td>93</td>\n",
       "    </tr>\n",
       "    <tr>\n",
       "      <th>1</th>\n",
       "      <td>2</td>\n",
       "      <td>465</td>\n",
       "      <td>1 000 Places to See Before You Die</td>\n",
       "      <td>992</td>\n",
       "      <td>2003-05-22</td>\n",
       "      <td>336</td>\n",
       "    </tr>\n",
       "    <tr>\n",
       "      <th>2</th>\n",
       "      <td>3</td>\n",
       "      <td>407</td>\n",
       "      <td>13 Little Blue Envelopes (Little Blue Envelope...</td>\n",
       "      <td>322</td>\n",
       "      <td>2010-12-21</td>\n",
       "      <td>135</td>\n",
       "    </tr>\n",
       "    <tr>\n",
       "      <th>3</th>\n",
       "      <td>4</td>\n",
       "      <td>82</td>\n",
       "      <td>1491: New Revelations of the Americas Before C...</td>\n",
       "      <td>541</td>\n",
       "      <td>2006-10-10</td>\n",
       "      <td>309</td>\n",
       "    </tr>\n",
       "    <tr>\n",
       "      <th>4</th>\n",
       "      <td>5</td>\n",
       "      <td>125</td>\n",
       "      <td>1776</td>\n",
       "      <td>386</td>\n",
       "      <td>2006-07-04</td>\n",
       "      <td>268</td>\n",
       "    </tr>\n",
       "  </tbody>\n",
       "</table>\n",
       "</div>"
      ],
      "text/plain": [
       "   book_id  author_id                                              title  \\\n",
       "0        1        546                                       'Salem's Lot   \n",
       "1        2        465                 1 000 Places to See Before You Die   \n",
       "2        3        407  13 Little Blue Envelopes (Little Blue Envelope...   \n",
       "3        4         82  1491: New Revelations of the Americas Before C...   \n",
       "4        5        125                                               1776   \n",
       "\n",
       "   num_pages publication_date  publisher_id  \n",
       "0        594       2005-11-01            93  \n",
       "1        992       2003-05-22           336  \n",
       "2        322       2010-12-21           135  \n",
       "3        541       2006-10-10           309  \n",
       "4        386       2006-07-04           268  "
      ]
     },
     "execution_count": 4,
     "metadata": {},
     "output_type": "execute_result"
    }
   ],
   "source": [
    "query = \"\"\"\n",
    "        SELECT *\n",
    "        FROM books\n",
    "        LIMIT 5\n",
    "        \"\"\"\n",
    "sql (query)"
   ]
  },
  {
   "cell_type": "markdown",
   "metadata": {},
   "source": [
    "    Таблица books\n",
    "Содержит данные о книгах:\n",
    "- book_id — идентификатор книги;\n",
    "- author_id — идентификатор автора;\n",
    "- title — название книги;\n",
    "- num_pages — количество страниц;\n",
    "- publication_date — дата публикации книги;\n",
    "- publisher_id — идентификатор издателя."
   ]
  },
  {
   "cell_type": "markdown",
   "metadata": {},
   "source": [
    "Таблица authors"
   ]
  },
  {
   "cell_type": "code",
   "execution_count": 5,
   "metadata": {},
   "outputs": [
    {
     "data": {
      "text/html": [
       "<div>\n",
       "<style scoped>\n",
       "    .dataframe tbody tr th:only-of-type {\n",
       "        vertical-align: middle;\n",
       "    }\n",
       "\n",
       "    .dataframe tbody tr th {\n",
       "        vertical-align: top;\n",
       "    }\n",
       "\n",
       "    .dataframe thead th {\n",
       "        text-align: right;\n",
       "    }\n",
       "</style>\n",
       "<table border=\"1\" class=\"dataframe\">\n",
       "  <thead>\n",
       "    <tr style=\"text-align: right;\">\n",
       "      <th></th>\n",
       "      <th>author_id</th>\n",
       "      <th>author</th>\n",
       "    </tr>\n",
       "  </thead>\n",
       "  <tbody>\n",
       "    <tr>\n",
       "      <th>0</th>\n",
       "      <td>1</td>\n",
       "      <td>A.S. Byatt</td>\n",
       "    </tr>\n",
       "    <tr>\n",
       "      <th>1</th>\n",
       "      <td>2</td>\n",
       "      <td>Aesop/Laura Harris/Laura Gibbs</td>\n",
       "    </tr>\n",
       "    <tr>\n",
       "      <th>2</th>\n",
       "      <td>3</td>\n",
       "      <td>Agatha Christie</td>\n",
       "    </tr>\n",
       "    <tr>\n",
       "      <th>3</th>\n",
       "      <td>4</td>\n",
       "      <td>Alan Brennert</td>\n",
       "    </tr>\n",
       "    <tr>\n",
       "      <th>4</th>\n",
       "      <td>5</td>\n",
       "      <td>Alan Moore/David   Lloyd</td>\n",
       "    </tr>\n",
       "  </tbody>\n",
       "</table>\n",
       "</div>"
      ],
      "text/plain": [
       "   author_id                          author\n",
       "0          1                      A.S. Byatt\n",
       "1          2  Aesop/Laura Harris/Laura Gibbs\n",
       "2          3                 Agatha Christie\n",
       "3          4                   Alan Brennert\n",
       "4          5        Alan Moore/David   Lloyd"
      ]
     },
     "execution_count": 5,
     "metadata": {},
     "output_type": "execute_result"
    }
   ],
   "source": [
    "query = \"\"\"\n",
    "        SELECT *\n",
    "        FROM authors\n",
    "        LIMIT 5\n",
    "        \"\"\"\n",
    "sql (query)"
   ]
  },
  {
   "cell_type": "markdown",
   "metadata": {},
   "source": [
    "      Таблица authors  \n",
    "Содержит данные об авторах:\n",
    "- author_id — идентификатор автора;\n",
    "- author — имя автора."
   ]
  },
  {
   "cell_type": "markdown",
   "metadata": {},
   "source": [
    "Таблица publishers"
   ]
  },
  {
   "cell_type": "code",
   "execution_count": 6,
   "metadata": {},
   "outputs": [
    {
     "data": {
      "text/html": [
       "<div>\n",
       "<style scoped>\n",
       "    .dataframe tbody tr th:only-of-type {\n",
       "        vertical-align: middle;\n",
       "    }\n",
       "\n",
       "    .dataframe tbody tr th {\n",
       "        vertical-align: top;\n",
       "    }\n",
       "\n",
       "    .dataframe thead th {\n",
       "        text-align: right;\n",
       "    }\n",
       "</style>\n",
       "<table border=\"1\" class=\"dataframe\">\n",
       "  <thead>\n",
       "    <tr style=\"text-align: right;\">\n",
       "      <th></th>\n",
       "      <th>publisher_id</th>\n",
       "      <th>publisher</th>\n",
       "    </tr>\n",
       "  </thead>\n",
       "  <tbody>\n",
       "    <tr>\n",
       "      <th>0</th>\n",
       "      <td>1</td>\n",
       "      <td>Ace</td>\n",
       "    </tr>\n",
       "    <tr>\n",
       "      <th>1</th>\n",
       "      <td>2</td>\n",
       "      <td>Ace Book</td>\n",
       "    </tr>\n",
       "    <tr>\n",
       "      <th>2</th>\n",
       "      <td>3</td>\n",
       "      <td>Ace Books</td>\n",
       "    </tr>\n",
       "    <tr>\n",
       "      <th>3</th>\n",
       "      <td>4</td>\n",
       "      <td>Ace Hardcover</td>\n",
       "    </tr>\n",
       "    <tr>\n",
       "      <th>4</th>\n",
       "      <td>5</td>\n",
       "      <td>Addison Wesley Publishing Company</td>\n",
       "    </tr>\n",
       "  </tbody>\n",
       "</table>\n",
       "</div>"
      ],
      "text/plain": [
       "   publisher_id                          publisher\n",
       "0             1                                Ace\n",
       "1             2                           Ace Book\n",
       "2             3                          Ace Books\n",
       "3             4                      Ace Hardcover\n",
       "4             5  Addison Wesley Publishing Company"
      ]
     },
     "execution_count": 6,
     "metadata": {},
     "output_type": "execute_result"
    }
   ],
   "source": [
    "query = \"\"\"\n",
    "        SELECT *\n",
    "        FROM publishers\n",
    "        LIMIT 5\n",
    "        \"\"\"\n",
    "sql (query)"
   ]
  },
  {
   "cell_type": "markdown",
   "metadata": {},
   "source": [
    "      Таблица publishers\n",
    "Содержит данные об издательствах:\n",
    "- publisher_id — идентификатор издательства;\n",
    "- publisher — название издательства;"
   ]
  },
  {
   "cell_type": "markdown",
   "metadata": {},
   "source": [
    "Таблица ratings"
   ]
  },
  {
   "cell_type": "code",
   "execution_count": 7,
   "metadata": {},
   "outputs": [
    {
     "data": {
      "text/html": [
       "<div>\n",
       "<style scoped>\n",
       "    .dataframe tbody tr th:only-of-type {\n",
       "        vertical-align: middle;\n",
       "    }\n",
       "\n",
       "    .dataframe tbody tr th {\n",
       "        vertical-align: top;\n",
       "    }\n",
       "\n",
       "    .dataframe thead th {\n",
       "        text-align: right;\n",
       "    }\n",
       "</style>\n",
       "<table border=\"1\" class=\"dataframe\">\n",
       "  <thead>\n",
       "    <tr style=\"text-align: right;\">\n",
       "      <th></th>\n",
       "      <th>rating_id</th>\n",
       "      <th>book_id</th>\n",
       "      <th>username</th>\n",
       "      <th>rating</th>\n",
       "    </tr>\n",
       "  </thead>\n",
       "  <tbody>\n",
       "    <tr>\n",
       "      <th>0</th>\n",
       "      <td>1</td>\n",
       "      <td>1</td>\n",
       "      <td>ryanfranco</td>\n",
       "      <td>4</td>\n",
       "    </tr>\n",
       "    <tr>\n",
       "      <th>1</th>\n",
       "      <td>2</td>\n",
       "      <td>1</td>\n",
       "      <td>grantpatricia</td>\n",
       "      <td>2</td>\n",
       "    </tr>\n",
       "    <tr>\n",
       "      <th>2</th>\n",
       "      <td>3</td>\n",
       "      <td>1</td>\n",
       "      <td>brandtandrea</td>\n",
       "      <td>5</td>\n",
       "    </tr>\n",
       "    <tr>\n",
       "      <th>3</th>\n",
       "      <td>4</td>\n",
       "      <td>2</td>\n",
       "      <td>lorichen</td>\n",
       "      <td>3</td>\n",
       "    </tr>\n",
       "    <tr>\n",
       "      <th>4</th>\n",
       "      <td>5</td>\n",
       "      <td>2</td>\n",
       "      <td>mariokeller</td>\n",
       "      <td>2</td>\n",
       "    </tr>\n",
       "  </tbody>\n",
       "</table>\n",
       "</div>"
      ],
      "text/plain": [
       "   rating_id  book_id       username  rating\n",
       "0          1        1     ryanfranco       4\n",
       "1          2        1  grantpatricia       2\n",
       "2          3        1   brandtandrea       5\n",
       "3          4        2       lorichen       3\n",
       "4          5        2    mariokeller       2"
      ]
     },
     "execution_count": 7,
     "metadata": {},
     "output_type": "execute_result"
    }
   ],
   "source": [
    "query = \"\"\"\n",
    "        SELECT *\n",
    "        FROM ratings\n",
    "        LIMIT 5\n",
    "        \"\"\"\n",
    "sql (query)"
   ]
  },
  {
   "cell_type": "markdown",
   "metadata": {},
   "source": [
    "      Таблица ratings\n",
    "Содержит данные о пользовательских оценках книг:\n",
    "- rating_id — идентификатор оценки;\n",
    "- book_id — идентификатор книги;\n",
    "- username — имя пользователя, оставившего оценку;\n",
    "- rating — оценка книги."
   ]
  },
  {
   "cell_type": "markdown",
   "metadata": {},
   "source": [
    "Таблица reviews"
   ]
  },
  {
   "cell_type": "code",
   "execution_count": 8,
   "metadata": {},
   "outputs": [
    {
     "data": {
      "text/html": [
       "<div>\n",
       "<style scoped>\n",
       "    .dataframe tbody tr th:only-of-type {\n",
       "        vertical-align: middle;\n",
       "    }\n",
       "\n",
       "    .dataframe tbody tr th {\n",
       "        vertical-align: top;\n",
       "    }\n",
       "\n",
       "    .dataframe thead th {\n",
       "        text-align: right;\n",
       "    }\n",
       "</style>\n",
       "<table border=\"1\" class=\"dataframe\">\n",
       "  <thead>\n",
       "    <tr style=\"text-align: right;\">\n",
       "      <th></th>\n",
       "      <th>review_id</th>\n",
       "      <th>book_id</th>\n",
       "      <th>username</th>\n",
       "      <th>text</th>\n",
       "    </tr>\n",
       "  </thead>\n",
       "  <tbody>\n",
       "    <tr>\n",
       "      <th>0</th>\n",
       "      <td>1</td>\n",
       "      <td>1</td>\n",
       "      <td>brandtandrea</td>\n",
       "      <td>Mention society tell send professor analysis. ...</td>\n",
       "    </tr>\n",
       "    <tr>\n",
       "      <th>1</th>\n",
       "      <td>2</td>\n",
       "      <td>1</td>\n",
       "      <td>ryanfranco</td>\n",
       "      <td>Foot glass pretty audience hit themselves. Amo...</td>\n",
       "    </tr>\n",
       "    <tr>\n",
       "      <th>2</th>\n",
       "      <td>3</td>\n",
       "      <td>2</td>\n",
       "      <td>lorichen</td>\n",
       "      <td>Listen treat keep worry. Miss husband tax but ...</td>\n",
       "    </tr>\n",
       "    <tr>\n",
       "      <th>3</th>\n",
       "      <td>4</td>\n",
       "      <td>3</td>\n",
       "      <td>johnsonamanda</td>\n",
       "      <td>Finally month interesting blue could nature cu...</td>\n",
       "    </tr>\n",
       "    <tr>\n",
       "      <th>4</th>\n",
       "      <td>5</td>\n",
       "      <td>3</td>\n",
       "      <td>scotttamara</td>\n",
       "      <td>Nation purpose heavy give wait song will. List...</td>\n",
       "    </tr>\n",
       "  </tbody>\n",
       "</table>\n",
       "</div>"
      ],
      "text/plain": [
       "   review_id  book_id       username  \\\n",
       "0          1        1   brandtandrea   \n",
       "1          2        1     ryanfranco   \n",
       "2          3        2       lorichen   \n",
       "3          4        3  johnsonamanda   \n",
       "4          5        3    scotttamara   \n",
       "\n",
       "                                                text  \n",
       "0  Mention society tell send professor analysis. ...  \n",
       "1  Foot glass pretty audience hit themselves. Amo...  \n",
       "2  Listen treat keep worry. Miss husband tax but ...  \n",
       "3  Finally month interesting blue could nature cu...  \n",
       "4  Nation purpose heavy give wait song will. List...  "
      ]
     },
     "execution_count": 8,
     "metadata": {},
     "output_type": "execute_result"
    }
   ],
   "source": [
    "query = \"\"\"\n",
    "        SELECT *\n",
    "        FROM reviews\n",
    "        LIMIT 5\n",
    "        \"\"\"\n",
    "sql (query)"
   ]
  },
  {
   "cell_type": "markdown",
   "metadata": {},
   "source": [
    "      Таблица reviews\n",
    "Содержит данные о пользовательских обзорах:\n",
    "- review_id — идентификатор обзора;\n",
    "- book_id — идентификатор книги;\n",
    "- username — имя автора обзора;\n",
    "- text — текст обзора."
   ]
  },
  {
   "cell_type": "markdown",
   "metadata": {},
   "source": [
    "## Количество  книг, вышедших после 1 января 2000 года"
   ]
  },
  {
   "cell_type": "code",
   "execution_count": 9,
   "metadata": {},
   "outputs": [
    {
     "data": {
      "text/html": [
       "<div>\n",
       "<style scoped>\n",
       "    .dataframe tbody tr th:only-of-type {\n",
       "        vertical-align: middle;\n",
       "    }\n",
       "\n",
       "    .dataframe tbody tr th {\n",
       "        vertical-align: top;\n",
       "    }\n",
       "\n",
       "    .dataframe thead th {\n",
       "        text-align: right;\n",
       "    }\n",
       "</style>\n",
       "<table border=\"1\" class=\"dataframe\">\n",
       "  <thead>\n",
       "    <tr style=\"text-align: right;\">\n",
       "      <th></th>\n",
       "      <th>books_amount</th>\n",
       "    </tr>\n",
       "  </thead>\n",
       "  <tbody>\n",
       "    <tr>\n",
       "      <th>0</th>\n",
       "      <td>819</td>\n",
       "    </tr>\n",
       "  </tbody>\n",
       "</table>\n",
       "</div>"
      ],
      "text/plain": [
       "   books_amount\n",
       "0           819"
      ]
     },
     "execution_count": 9,
     "metadata": {},
     "output_type": "execute_result"
    }
   ],
   "source": [
    "query = \"\"\"\n",
    "        SELECT COUNT(book_id) as books_amount\n",
    "        FROM books\n",
    "        WHERE publication_date > '2000-01-01'\n",
    "        \"\"\"\n",
    "\n",
    "sql(query)"
   ]
  },
  {
   "cell_type": "markdown",
   "metadata": {},
   "source": [
    "После первого января было выпущенно 819 книг."
   ]
  },
  {
   "cell_type": "markdown",
   "metadata": {},
   "source": [
    "##  Количество обзоров и средняя оценка для каждой книги"
   ]
  },
  {
   "cell_type": "code",
   "execution_count": 10,
   "metadata": {},
   "outputs": [
    {
     "data": {
      "text/html": [
       "<div>\n",
       "<style scoped>\n",
       "    .dataframe tbody tr th:only-of-type {\n",
       "        vertical-align: middle;\n",
       "    }\n",
       "\n",
       "    .dataframe tbody tr th {\n",
       "        vertical-align: top;\n",
       "    }\n",
       "\n",
       "    .dataframe thead th {\n",
       "        text-align: right;\n",
       "    }\n",
       "</style>\n",
       "<table border=\"1\" class=\"dataframe\">\n",
       "  <thead>\n",
       "    <tr style=\"text-align: right;\">\n",
       "      <th></th>\n",
       "      <th>title</th>\n",
       "      <th>amount_reviews</th>\n",
       "      <th>avg_rating</th>\n",
       "    </tr>\n",
       "  </thead>\n",
       "  <tbody>\n",
       "    <tr>\n",
       "      <th>0</th>\n",
       "      <td>Twilight (Twilight  #1)</td>\n",
       "      <td>7</td>\n",
       "      <td>3.662500</td>\n",
       "    </tr>\n",
       "    <tr>\n",
       "      <th>1</th>\n",
       "      <td>Water for Elephants</td>\n",
       "      <td>6</td>\n",
       "      <td>3.977273</td>\n",
       "    </tr>\n",
       "    <tr>\n",
       "      <th>2</th>\n",
       "      <td>The Glass Castle</td>\n",
       "      <td>6</td>\n",
       "      <td>4.206897</td>\n",
       "    </tr>\n",
       "    <tr>\n",
       "      <th>3</th>\n",
       "      <td>Harry Potter and the Prisoner of Azkaban (Harr...</td>\n",
       "      <td>6</td>\n",
       "      <td>4.414634</td>\n",
       "    </tr>\n",
       "    <tr>\n",
       "      <th>4</th>\n",
       "      <td>The Curious Incident of the Dog in the Night-Time</td>\n",
       "      <td>6</td>\n",
       "      <td>4.081081</td>\n",
       "    </tr>\n",
       "    <tr>\n",
       "      <th>...</th>\n",
       "      <td>...</td>\n",
       "      <td>...</td>\n",
       "      <td>...</td>\n",
       "    </tr>\n",
       "    <tr>\n",
       "      <th>995</th>\n",
       "      <td>Anne Rice's The Vampire Lestat: A Graphic Novel</td>\n",
       "      <td>0</td>\n",
       "      <td>3.666667</td>\n",
       "    </tr>\n",
       "    <tr>\n",
       "      <th>996</th>\n",
       "      <td>The Natural Way to Draw</td>\n",
       "      <td>0</td>\n",
       "      <td>3.000000</td>\n",
       "    </tr>\n",
       "    <tr>\n",
       "      <th>997</th>\n",
       "      <td>The Cat in the Hat and Other Dr. Seuss Favorites</td>\n",
       "      <td>0</td>\n",
       "      <td>5.000000</td>\n",
       "    </tr>\n",
       "    <tr>\n",
       "      <th>998</th>\n",
       "      <td>Essential Tales and Poems</td>\n",
       "      <td>0</td>\n",
       "      <td>4.000000</td>\n",
       "    </tr>\n",
       "    <tr>\n",
       "      <th>999</th>\n",
       "      <td>Disney's Beauty and the Beast (A Little Golden...</td>\n",
       "      <td>0</td>\n",
       "      <td>4.000000</td>\n",
       "    </tr>\n",
       "  </tbody>\n",
       "</table>\n",
       "<p>1000 rows × 3 columns</p>\n",
       "</div>"
      ],
      "text/plain": [
       "                                                 title  amount_reviews  \\\n",
       "0                              Twilight (Twilight  #1)               7   \n",
       "1                                  Water for Elephants               6   \n",
       "2                                     The Glass Castle               6   \n",
       "3    Harry Potter and the Prisoner of Azkaban (Harr...               6   \n",
       "4    The Curious Incident of the Dog in the Night-Time               6   \n",
       "..                                                 ...             ...   \n",
       "995    Anne Rice's The Vampire Lestat: A Graphic Novel               0   \n",
       "996                            The Natural Way to Draw               0   \n",
       "997   The Cat in the Hat and Other Dr. Seuss Favorites               0   \n",
       "998                          Essential Tales and Poems               0   \n",
       "999  Disney's Beauty and the Beast (A Little Golden...               0   \n",
       "\n",
       "     avg_rating  \n",
       "0      3.662500  \n",
       "1      3.977273  \n",
       "2      4.206897  \n",
       "3      4.414634  \n",
       "4      4.081081  \n",
       "..          ...  \n",
       "995    3.666667  \n",
       "996    3.000000  \n",
       "997    5.000000  \n",
       "998    4.000000  \n",
       "999    4.000000  \n",
       "\n",
       "[1000 rows x 3 columns]"
      ]
     },
     "execution_count": 10,
     "metadata": {},
     "output_type": "execute_result"
    }
   ],
   "source": [
    "query = \"\"\"\n",
    "        SELECT b.title, COUNT(DISTINCT(re.review_id)) as amount_reviews,AVG(r.rating) as avg_rating\n",
    "        FROM books b \n",
    "        LEFT JOIN ratings r on b.book_id = r.book_id\n",
    "        LEFT JOIN reviews re on b.book_id = re.book_id\n",
    "        GROUP BY b.book_id\n",
    "        ORDER by amount_reviews DESC\n",
    "        \"\"\"\n",
    "\n",
    "sql(query)"
   ]
  },
  {
   "cell_type": "markdown",
   "metadata": {},
   "source": [
    "Для 1000 книг мы вывели количество обзоров и среднюю оценку читателей. По количеству обзоров лидирует Twilight (Twilight #1)"
   ]
  },
  {
   "cell_type": "markdown",
   "metadata": {},
   "source": [
    "##  Издательство, выпустившее наибольшее число книг толще 50 страниц"
   ]
  },
  {
   "cell_type": "code",
   "execution_count": 11,
   "metadata": {},
   "outputs": [
    {
     "data": {
      "text/html": [
       "<div>\n",
       "<style scoped>\n",
       "    .dataframe tbody tr th:only-of-type {\n",
       "        vertical-align: middle;\n",
       "    }\n",
       "\n",
       "    .dataframe tbody tr th {\n",
       "        vertical-align: top;\n",
       "    }\n",
       "\n",
       "    .dataframe thead th {\n",
       "        text-align: right;\n",
       "    }\n",
       "</style>\n",
       "<table border=\"1\" class=\"dataframe\">\n",
       "  <thead>\n",
       "    <tr style=\"text-align: right;\">\n",
       "      <th></th>\n",
       "      <th>publisher</th>\n",
       "      <th>amount_books</th>\n",
       "    </tr>\n",
       "  </thead>\n",
       "  <tbody>\n",
       "    <tr>\n",
       "      <th>0</th>\n",
       "      <td>Penguin Books</td>\n",
       "      <td>42</td>\n",
       "    </tr>\n",
       "  </tbody>\n",
       "</table>\n",
       "</div>"
      ],
      "text/plain": [
       "       publisher  amount_books\n",
       "0  Penguin Books            42"
      ]
     },
     "execution_count": 11,
     "metadata": {},
     "output_type": "execute_result"
    }
   ],
   "source": [
    "query = \"\"\"\n",
    "        SELECT p.publisher, COUNT(b.book_id) as amount_books\n",
    "        FROM books b \n",
    "        JOIN publishers p on b.publisher_id = p.publisher_id\n",
    "        WHERE b.num_pages > 50\n",
    "        GROUP BY p.publisher\n",
    "        ORDER by amount_books DESC\n",
    "        LIMIT 1\n",
    "        \"\"\"\n",
    "sql(query)"
   ]
  },
  {
   "cell_type": "markdown",
   "metadata": {},
   "source": [
    "Издательство с наибольшим количеством книг  - Penguin Books. Оно выпустило 42 книги  толще 50 страниц."
   ]
  },
  {
   "cell_type": "markdown",
   "metadata": {},
   "source": [
    "##  Автор  с самой высокой средней оценкой книг  (учитываем  только книги с 50 и более оценками)"
   ]
  },
  {
   "cell_type": "code",
   "execution_count": 15,
   "metadata": {},
   "outputs": [
    {
     "data": {
      "text/html": [
       "<div>\n",
       "<style scoped>\n",
       "    .dataframe tbody tr th:only-of-type {\n",
       "        vertical-align: middle;\n",
       "    }\n",
       "\n",
       "    .dataframe tbody tr th {\n",
       "        vertical-align: top;\n",
       "    }\n",
       "\n",
       "    .dataframe thead th {\n",
       "        text-align: right;\n",
       "    }\n",
       "</style>\n",
       "<table border=\"1\" class=\"dataframe\">\n",
       "  <thead>\n",
       "    <tr style=\"text-align: right;\">\n",
       "      <th></th>\n",
       "      <th>max</th>\n",
       "      <th>avg</th>\n",
       "    </tr>\n",
       "  </thead>\n",
       "  <tbody>\n",
       "    <tr>\n",
       "      <th>0</th>\n",
       "      <td>J.K. Rowling/Mary GrandPré</td>\n",
       "      <td>4.283844</td>\n",
       "    </tr>\n",
       "  </tbody>\n",
       "</table>\n",
       "</div>"
      ],
      "text/plain": [
       "                          max       avg\n",
       "0  J.K. Rowling/Mary GrandPré  4.283844"
      ]
     },
     "execution_count": 15,
     "metadata": {},
     "output_type": "execute_result"
    }
   ],
   "source": [
    "query = \"\"\"\n",
    "        WITH popular_books AS\n",
    "        (SELECT b.title, MAX(a.author) as author,b.author_id as a_id, AVG(r.rating) as avg_rating, COUNT(r.rating)\n",
    "        FROM books b \n",
    "        JOIN ratings r on b.book_id = r.book_id\n",
    "        JOIN authors a on b.author_id = a.author_id\n",
    "        GROUP BY b.book_id\n",
    "        HAVING COUNT(r.rating)>=50)\n",
    "        SELECT MAX(popular_books.author), AVG(popular_books.avg_rating)\n",
    "        FROM popular_books\n",
    "        GROUP BY popular_books.a_id\n",
    "        ORDER BY AVG(popular_books.avg_rating) desc\n",
    "        LIMIT 1\n",
    "        \"\"\"\n",
    "sql(query)"
   ]
  },
  {
   "cell_type": "markdown",
   "metadata": {},
   "source": [
    "Автором с самой высокой средней оценкой его популярных книг является J.K. Rowling(Mary GrandPré)"
   ]
  },
  {
   "cell_type": "markdown",
   "metadata": {},
   "source": [
    "## Cреднее количество обзоров от пользователей, которые поставили больше 50 оценок."
   ]
  },
  {
   "cell_type": "code",
   "execution_count": 13,
   "metadata": {
    "scrolled": true
   },
   "outputs": [
    {
     "data": {
      "text/html": [
       "<div>\n",
       "<style scoped>\n",
       "    .dataframe tbody tr th:only-of-type {\n",
       "        vertical-align: middle;\n",
       "    }\n",
       "\n",
       "    .dataframe tbody tr th {\n",
       "        vertical-align: top;\n",
       "    }\n",
       "\n",
       "    .dataframe thead th {\n",
       "        text-align: right;\n",
       "    }\n",
       "</style>\n",
       "<table border=\"1\" class=\"dataframe\">\n",
       "  <thead>\n",
       "    <tr style=\"text-align: right;\">\n",
       "      <th></th>\n",
       "      <th>avg_amount_reviews</th>\n",
       "    </tr>\n",
       "  </thead>\n",
       "  <tbody>\n",
       "    <tr>\n",
       "      <th>0</th>\n",
       "      <td>24.333333</td>\n",
       "    </tr>\n",
       "  </tbody>\n",
       "</table>\n",
       "</div>"
      ],
      "text/plain": [
       "   avg_amount_reviews\n",
       "0           24.333333"
      ]
     },
     "execution_count": 13,
     "metadata": {},
     "output_type": "execute_result"
    }
   ],
   "source": [
    "query = \"\"\"\n",
    "        SELECT AVG(A.count_review) as avg_amount_reviews\n",
    "        FROM  (SELECT COUNT(r.review_id) as count_review \n",
    "                FROM reviews r\n",
    "                WHERE r.username IN (SELECT    username\n",
    "                                     FROM      ratings\n",
    "                                     GROUP BY  username\n",
    "                                     HAVING    COUNT(ratings) > 50)\n",
    "                GROUP BY  r.username) as A                   \n",
    "        \"\"\"\n",
    "sql (query)"
   ]
  },
  {
   "cell_type": "markdown",
   "metadata": {},
   "source": [
    "Среднее количество обзоров от пользователей, которые часто ставят оценки (50 и более раз) равно 24 шт."
   ]
  },
  {
   "cell_type": "markdown",
   "metadata": {},
   "source": [
    "## Выводы"
   ]
  },
  {
   "cell_type": "markdown",
   "metadata": {},
   "source": [
    "- После 1 января 2000 года было выпущено 819 книг.\n",
    "- По  количеству обзоров на первом месте книга \"Twilight (Twilight #1)\" со средним рейтингом 3.6.\n",
    "- Издательство, выпустившее наибольшее количество книг -  \"Penguin Books\" (42 книги толде 50 стр.)\n",
    "- Автор с самой высокой средней оценкой его популярных книг - J.K. Rowling(Mary GrandPré).\n",
    "- Среднее количество обзоров от пользователей, поставивших более 50 оценок, - 24.\n",
    "\n",
    "Для нового продукта необходимо акцентировать внимание на популярных книгах с высоким количеством обзоров. Так для наиболее популярных книг количество обзоров от 370 до 1120."
   ]
  }
 ],
 "metadata": {
  "ExecuteTimeLog": [
   {
    "duration": 88,
    "start_time": "2022-08-04T06:46:10.515Z"
   },
   {
    "duration": 498,
    "start_time": "2022-08-04T06:52:41.502Z"
   },
   {
    "duration": 6323,
    "start_time": "2022-08-04T07:02:22.213Z"
   },
   {
    "duration": 57,
    "start_time": "2022-08-04T07:02:53.467Z"
   },
   {
    "duration": 3,
    "start_time": "2022-08-04T07:04:35.355Z"
   },
   {
    "duration": 230,
    "start_time": "2022-08-04T07:07:18.702Z"
   },
   {
    "duration": 65,
    "start_time": "2022-08-04T07:09:41.833Z"
   },
   {
    "duration": 55,
    "start_time": "2022-08-04T07:09:55.897Z"
   },
   {
    "duration": 65,
    "start_time": "2022-08-04T07:10:37.386Z"
   },
   {
    "duration": 67,
    "start_time": "2022-08-04T07:11:16.919Z"
   },
   {
    "duration": 65,
    "start_time": "2022-08-04T07:11:55.967Z"
   },
   {
    "duration": 226,
    "start_time": "2022-08-04T07:16:32.488Z"
   },
   {
    "duration": 134,
    "start_time": "2022-08-04T07:16:37.620Z"
   },
   {
    "duration": 139,
    "start_time": "2022-08-04T07:17:21.755Z"
   },
   {
    "duration": 137,
    "start_time": "2022-08-04T07:17:35.217Z"
   },
   {
    "duration": 67,
    "start_time": "2022-08-04T07:18:33.011Z"
   },
   {
    "duration": 64,
    "start_time": "2022-08-04T07:18:53.211Z"
   },
   {
    "duration": 141,
    "start_time": "2022-08-04T07:29:22.532Z"
   },
   {
    "duration": 344,
    "start_time": "2022-08-04T07:30:03.866Z"
   },
   {
    "duration": 158,
    "start_time": "2022-08-04T07:32:09.136Z"
   },
   {
    "duration": 151,
    "start_time": "2022-08-04T07:32:19.514Z"
   },
   {
    "duration": 97,
    "start_time": "2022-08-04T07:33:35.060Z"
   },
   {
    "duration": 97,
    "start_time": "2022-08-04T07:35:22.049Z"
   },
   {
    "duration": 102,
    "start_time": "2022-08-04T07:40:58.664Z"
   },
   {
    "duration": 67,
    "start_time": "2022-08-04T07:44:08.750Z"
   },
   {
    "duration": 192,
    "start_time": "2022-08-04T07:44:39.622Z"
   },
   {
    "duration": 72,
    "start_time": "2022-08-04T07:44:47.266Z"
   },
   {
    "duration": 66,
    "start_time": "2022-08-04T07:46:11.624Z"
   },
   {
    "duration": 156,
    "start_time": "2022-08-04T07:51:23.925Z"
   },
   {
    "duration": 162,
    "start_time": "2022-08-04T07:52:20.837Z"
   },
   {
    "duration": 87,
    "start_time": "2022-08-04T07:54:02.139Z"
   },
   {
    "duration": 73,
    "start_time": "2022-08-04T07:54:28.949Z"
   },
   {
    "duration": 74,
    "start_time": "2022-08-04T07:54:58.821Z"
   },
   {
    "duration": 181,
    "start_time": "2022-08-04T07:55:30.350Z"
   },
   {
    "duration": 104,
    "start_time": "2022-08-04T07:55:35.669Z"
   },
   {
    "duration": 72,
    "start_time": "2022-08-04T07:56:27.942Z"
   },
   {
    "duration": 250,
    "start_time": "2022-08-04T08:03:39.238Z"
   },
   {
    "duration": 133,
    "start_time": "2022-08-04T08:08:49.365Z"
   },
   {
    "duration": 211,
    "start_time": "2022-08-04T08:09:01.749Z"
   },
   {
    "duration": 170,
    "start_time": "2022-08-04T08:09:15.319Z"
   },
   {
    "duration": 146,
    "start_time": "2022-08-04T08:13:57.112Z"
   },
   {
    "duration": 205,
    "start_time": "2022-08-04T08:14:46.980Z"
   },
   {
    "duration": 73,
    "start_time": "2022-08-04T08:16:51.111Z"
   },
   {
    "duration": 75,
    "start_time": "2022-08-04T08:17:28.621Z"
   },
   {
    "duration": 89,
    "start_time": "2022-08-04T08:21:17.187Z"
   },
   {
    "duration": 75,
    "start_time": "2022-08-04T08:21:59.506Z"
   },
   {
    "duration": 68,
    "start_time": "2022-08-04T08:27:21.203Z"
   },
   {
    "duration": 143,
    "start_time": "2022-08-04T08:32:48.588Z"
   },
   {
    "duration": 140,
    "start_time": "2022-08-04T08:33:29.244Z"
   },
   {
    "duration": 291,
    "start_time": "2022-08-04T08:34:11.316Z"
   },
   {
    "duration": 144,
    "start_time": "2022-08-04T08:34:49.172Z"
   },
   {
    "duration": 109,
    "start_time": "2022-08-04T08:35:46.478Z"
   },
   {
    "duration": 71,
    "start_time": "2022-08-04T08:37:14.867Z"
   },
   {
    "duration": 147,
    "start_time": "2022-08-04T08:38:08.446Z"
   },
   {
    "duration": 74,
    "start_time": "2022-08-04T08:39:57.729Z"
   },
   {
    "duration": 73,
    "start_time": "2022-08-04T08:40:29.089Z"
   },
   {
    "duration": 55,
    "start_time": "2022-08-04T08:42:25.291Z"
   },
   {
    "duration": 63,
    "start_time": "2022-08-04T08:46:20.721Z"
   },
   {
    "duration": 95,
    "start_time": "2022-08-04T08:51:02.335Z"
   },
   {
    "duration": 571,
    "start_time": "2022-08-04T09:43:48.479Z"
   },
   {
    "duration": 11437,
    "start_time": "2022-08-04T09:43:49.053Z"
   },
   {
    "duration": 5,
    "start_time": "2022-08-04T09:44:00.495Z"
   },
   {
    "duration": 366,
    "start_time": "2022-08-04T09:44:00.504Z"
   },
   {
    "duration": 84,
    "start_time": "2022-08-04T09:44:00.872Z"
   },
   {
    "duration": 98,
    "start_time": "2022-08-04T09:44:00.958Z"
   },
   {
    "duration": 87,
    "start_time": "2022-08-04T09:44:01.058Z"
   },
   {
    "duration": 90,
    "start_time": "2022-08-04T09:44:01.148Z"
   },
   {
    "duration": 86,
    "start_time": "2022-08-04T09:44:01.241Z"
   },
   {
    "duration": 91,
    "start_time": "2022-08-04T09:44:01.330Z"
   },
   {
    "duration": 91,
    "start_time": "2022-08-04T09:44:01.424Z"
   },
   {
    "duration": 107,
    "start_time": "2022-08-04T09:44:01.517Z"
   },
   {
    "duration": 87,
    "start_time": "2022-08-04T09:44:01.626Z"
   },
   {
    "duration": 97,
    "start_time": "2022-08-04T09:45:09.186Z"
   },
   {
    "duration": 101,
    "start_time": "2022-08-04T09:45:18.155Z"
   },
   {
    "duration": 93,
    "start_time": "2022-08-04T09:45:44.040Z"
   },
   {
    "duration": 97,
    "start_time": "2022-08-04T09:45:48.176Z"
   },
   {
    "duration": 102,
    "start_time": "2022-08-04T09:46:03.353Z"
   },
   {
    "duration": 43,
    "start_time": "2022-08-04T16:19:05.786Z"
   },
   {
    "duration": 436,
    "start_time": "2022-08-04T16:19:16.860Z"
   },
   {
    "duration": 5723,
    "start_time": "2022-08-04T16:19:19.366Z"
   },
   {
    "duration": 3,
    "start_time": "2022-08-04T16:19:25.091Z"
   },
   {
    "duration": 247,
    "start_time": "2022-08-04T16:19:27.250Z"
   },
   {
    "duration": 74,
    "start_time": "2022-08-04T16:19:30.759Z"
   },
   {
    "duration": 74,
    "start_time": "2022-08-04T16:19:32.242Z"
   },
   {
    "duration": 71,
    "start_time": "2022-08-04T16:19:33.300Z"
   },
   {
    "duration": 72,
    "start_time": "2022-08-04T16:19:34.398Z"
   },
   {
    "duration": 71,
    "start_time": "2022-08-04T16:19:36.352Z"
   },
   {
    "duration": 107,
    "start_time": "2022-08-04T16:19:41.565Z"
   },
   {
    "duration": 107,
    "start_time": "2022-08-04T16:20:18.389Z"
   },
   {
    "duration": 102,
    "start_time": "2022-08-04T16:31:07.569Z"
   },
   {
    "duration": 53,
    "start_time": "2022-08-04T16:36:28.668Z"
   },
   {
    "duration": 58,
    "start_time": "2022-08-04T16:37:10.560Z"
   },
   {
    "duration": 67,
    "start_time": "2022-08-04T16:37:33.048Z"
   },
   {
    "duration": 100,
    "start_time": "2022-08-04T16:37:49.430Z"
   },
   {
    "duration": 104,
    "start_time": "2022-08-04T16:40:51.791Z"
   },
   {
    "duration": 105,
    "start_time": "2022-08-04T16:41:01.531Z"
   },
   {
    "duration": 103,
    "start_time": "2022-08-04T16:41:23.637Z"
   },
   {
    "duration": 97,
    "start_time": "2022-08-04T16:43:06.641Z"
   },
   {
    "duration": 104,
    "start_time": "2022-08-04T16:43:21.831Z"
   },
   {
    "duration": 119,
    "start_time": "2022-08-04T16:46:27.226Z"
   },
   {
    "duration": 80,
    "start_time": "2022-08-04T16:49:58.643Z"
   },
   {
    "duration": 111,
    "start_time": "2022-08-04T16:52:09.531Z"
   },
   {
    "duration": 76,
    "start_time": "2022-08-04T16:52:25.821Z"
   },
   {
    "duration": 79,
    "start_time": "2022-08-04T16:53:52.172Z"
   },
   {
    "duration": 167,
    "start_time": "2022-08-04T16:56:21.518Z"
   },
   {
    "duration": 104,
    "start_time": "2022-08-04T16:56:28.381Z"
   },
   {
    "duration": 48,
    "start_time": "2022-08-04T16:58:21.344Z"
   },
   {
    "duration": 80,
    "start_time": "2022-08-04T17:01:21.523Z"
   },
   {
    "duration": 218,
    "start_time": "2022-08-04T17:03:11.171Z"
   },
   {
    "duration": 77,
    "start_time": "2022-08-04T17:03:41.151Z"
   },
   {
    "duration": 208,
    "start_time": "2022-08-04T17:04:41.341Z"
   },
   {
    "duration": 132,
    "start_time": "2022-08-04T17:05:47.590Z"
   },
   {
    "duration": 76,
    "start_time": "2022-08-04T17:06:10.190Z"
   },
   {
    "duration": 132,
    "start_time": "2022-08-04T17:06:19.753Z"
   },
   {
    "duration": 74,
    "start_time": "2022-08-04T17:06:40.419Z"
   },
   {
    "duration": 75,
    "start_time": "2022-08-04T17:07:09.439Z"
   },
   {
    "duration": 74,
    "start_time": "2022-08-04T17:07:15.062Z"
   },
   {
    "duration": 77,
    "start_time": "2022-08-04T17:12:19.082Z"
   },
   {
    "duration": 486,
    "start_time": "2022-08-05T13:21:10.624Z"
   },
   {
    "duration": 10645,
    "start_time": "2022-08-05T13:21:11.112Z"
   },
   {
    "duration": 4,
    "start_time": "2022-08-05T13:21:21.758Z"
   },
   {
    "duration": 288,
    "start_time": "2022-08-05T13:21:21.763Z"
   },
   {
    "duration": 79,
    "start_time": "2022-08-05T13:21:22.053Z"
   },
   {
    "duration": 83,
    "start_time": "2022-08-05T13:21:22.133Z"
   },
   {
    "duration": 81,
    "start_time": "2022-08-05T13:21:22.217Z"
   },
   {
    "duration": 84,
    "start_time": "2022-08-05T13:21:22.301Z"
   },
   {
    "duration": 82,
    "start_time": "2022-08-05T13:21:22.386Z"
   },
   {
    "duration": 128,
    "start_time": "2022-08-05T13:21:22.469Z"
   },
   {
    "duration": 87,
    "start_time": "2022-08-05T13:21:22.599Z"
   },
   {
    "duration": 102,
    "start_time": "2022-08-05T13:21:22.688Z"
   },
   {
    "duration": 92,
    "start_time": "2022-08-05T13:21:22.792Z"
   },
   {
    "duration": 82,
    "start_time": "2022-08-05T13:22:09.953Z"
   },
   {
    "duration": 85,
    "start_time": "2022-08-05T13:22:13.589Z"
   }
  ],
  "kernelspec": {
   "display_name": "Python 3 (ipykernel)",
   "language": "python",
   "name": "python3"
  },
  "language_info": {
   "codemirror_mode": {
    "name": "ipython",
    "version": 3
   },
   "file_extension": ".py",
   "mimetype": "text/x-python",
   "name": "python",
   "nbconvert_exporter": "python",
   "pygments_lexer": "ipython3",
   "version": "3.9.12"
  },
  "toc": {
   "base_numbering": 1,
   "nav_menu": {},
   "number_sections": false,
   "sideBar": true,
   "skip_h1_title": false,
   "title_cell": "Table of Contents",
   "title_sidebar": "Contents",
   "toc_cell": false,
   "toc_position": {},
   "toc_section_display": true,
   "toc_window_display": true
  }
 },
 "nbformat": 4,
 "nbformat_minor": 2
}
